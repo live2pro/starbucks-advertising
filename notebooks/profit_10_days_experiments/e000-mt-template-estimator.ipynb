{
 "cells": [
  {
   "cell_type": "markdown",
   "metadata": {},
   "source": [
    "# Complete experiment to try to estimate the profits from a customer, in the next 10 days, given different offer choices to be shown."
   ]
  },
  {
   "cell_type": "markdown",
   "metadata": {},
   "source": [
    "Table of contents <a id='top'>\n",
    "\n",
    "1. [Get the data and show it](#data)\n",
    "2. [Create the Model](#model)\n",
    "3. [Evaluate the Model](#eval)\n",
    "4. [Analysis and Conclusions](#conclusions)\n",
    "5. [Test Results](#test)"
   ]
  },
  {
   "cell_type": "code",
   "execution_count": 1,
   "metadata": {},
   "outputs": [
    {
     "data": {
      "text/html": [
       "<script type=\"text/javascript\">window.PlotlyConfig = {MathJaxConfig: 'local'};</script><script type=\"text/javascript\">if (window.MathJax) {MathJax.Hub.Config({SVG: {font: \"STIX-Web\"}});}</script><script>requirejs.config({paths: { 'plotly': ['https://cdn.plot.ly/plotly-latest.min']},});if(!window._Plotly) {require(['plotly'],function(plotly) {window._Plotly=plotly;});}</script>"
      ],
      "text/vnd.plotly.v1+html": [
       "<script type=\"text/javascript\">window.PlotlyConfig = {MathJaxConfig: 'local'};</script><script type=\"text/javascript\">if (window.MathJax) {MathJax.Hub.Config({SVG: {font: \"STIX-Web\"}});}</script><script>requirejs.config({paths: { 'plotly': ['https://cdn.plot.ly/plotly-latest.min']},});if(!window._Plotly) {require(['plotly'],function(plotly) {window._Plotly=plotly;});}</script>"
      ]
     },
     "metadata": {},
     "output_type": "display_data"
    }
   ],
   "source": [
    "import pandas as pd\n",
    "import numpy as np\n",
    "import math\n",
    "import json\n",
    "import os\n",
    "import matplotlib.pyplot as plt\n",
    "%matplotlib inline\n",
    "\n",
    "%load_ext autoreload\n",
    "%autoreload 2\n",
    "\n",
    "from jupyterthemes import jtplot\n",
    "jtplot.style(theme='solarizedd')\n",
    "plt.rcParams['figure.figsize'] = (20.0, 10.0)\n",
    "\n",
    "import data_utils_mt.utils as utils\n",
    "import seaborn as sns\n",
    "from sklearn.pipeline import Pipeline\n",
    "import datetime as dt\n",
    "from xgboost import XGBClassifier\n",
    "from sklearn.metrics import mean_squared_error as mse\n",
    "\n",
    "ROOT_DIR = '../..'\n",
    "DATA_DIR = os.path.join(ROOT_DIR, 'data')\n",
    "DATA_RAW = os.path.join(DATA_DIR, 'raw')\n",
    "DATA_INTERIM = os.path.join(DATA_DIR, 'interim')\n",
    "DATA_EXTERNAL = os.path.join(DATA_DIR, 'external')\n",
    "DATA_PROCESSED = os.path.join(DATA_DIR, 'processed')\n",
    "SRC = os.path.join(ROOT_DIR, 'src')\n",
    "\n",
    "STATIC_DATASET_PATH = os.path.join(DATA_PROCESSED, 'static_spent_10_days.pkl')\n",
    "\n",
    "import sys\n",
    "sys.path.append(SRC)\n",
    "\n",
    "import src.data.preprocessing as pp\n",
    "import src.data.success_dataset as sd\n",
    "import src.data.missing_data as md\n",
    "import src.evaluation.offer_success as evos\n",
    "import src.data.profit_10_days_dataset as p10\n",
    "import src.visualization.visualize as vis"
   ]
  },
  {
   "cell_type": "markdown",
   "metadata": {},
   "source": [
    "## 1. Get the data and show it <a id='data'/>\n",
    "[Top](#top)"
   ]
  },
  {
   "cell_type": "code",
   "execution_count": 2,
   "metadata": {},
   "outputs": [],
   "source": [
    "# Get the data\n",
    "X_train, X_test, y_train, y_test, encoder, view_cols, profit_cols =\\\n",
    "p10.get_profit_10_days_data(fill_null=True, \n",
    "                        target=['viewed', 'profit_10_days'], drop_offer_id=False)"
   ]
  },
  {
   "cell_type": "code",
   "execution_count": 3,
   "metadata": {},
   "outputs": [
    {
     "name": "stdout",
     "output_type": "stream",
     "text": [
      "(25319, 130)\n",
      "(25319, 2)\n"
     ]
    },
    {
     "data": {
      "text/html": [
       "<div>\n",
       "<style scoped>\n",
       "    .dataframe tbody tr th:only-of-type {\n",
       "        vertical-align: middle;\n",
       "    }\n",
       "\n",
       "    .dataframe tbody tr th {\n",
       "        vertical-align: top;\n",
       "    }\n",
       "\n",
       "    .dataframe thead th {\n",
       "        text-align: right;\n",
       "    }\n",
       "</style>\n",
       "<table border=\"1\" class=\"dataframe\">\n",
       "  <thead>\n",
       "    <tr style=\"text-align: right;\">\n",
       "      <th></th>\n",
       "      <th>offer_id</th>\n",
       "      <th>age</th>\n",
       "      <th>gender</th>\n",
       "      <th>income</th>\n",
       "      <th>missing_demographics</th>\n",
       "      <th>member_epoch_days</th>\n",
       "      <th>difficulty</th>\n",
       "      <th>duration</th>\n",
       "      <th>offer_type</th>\n",
       "      <th>reward_t</th>\n",
       "      <th>...</th>\n",
       "      <th>channel_mobile_success_ratio</th>\n",
       "      <th>difficulty_viewcol</th>\n",
       "      <th>duration_viewcol</th>\n",
       "      <th>reward_t_viewcol</th>\n",
       "      <th>channel_web_viewcol</th>\n",
       "      <th>channel_mobile_viewcol</th>\n",
       "      <th>channel_email_viewcol</th>\n",
       "      <th>channel_social_viewcol</th>\n",
       "      <th>offer_id_viewcol</th>\n",
       "      <th>offer_type_viewcol</th>\n",
       "    </tr>\n",
       "  </thead>\n",
       "  <tbody>\n",
       "    <tr>\n",
       "      <th>0</th>\n",
       "      <td>5a8bc65990b245e5a138643cd4eb9837</td>\n",
       "      <td>33.0</td>\n",
       "      <td>M</td>\n",
       "      <td>72000.0</td>\n",
       "      <td>0</td>\n",
       "      <td>17277</td>\n",
       "      <td>0.0</td>\n",
       "      <td>3.0</td>\n",
       "      <td>informational</td>\n",
       "      <td>0.0</td>\n",
       "      <td>...</td>\n",
       "      <td>0.0</td>\n",
       "      <td>0.0</td>\n",
       "      <td>3.0</td>\n",
       "      <td>0.0</td>\n",
       "      <td>0.0</td>\n",
       "      <td>1.0</td>\n",
       "      <td>1.0</td>\n",
       "      <td>1.0</td>\n",
       "      <td>5a8bc65990b245e5a138643cd4eb9837</td>\n",
       "      <td>informational</td>\n",
       "    </tr>\n",
       "    <tr>\n",
       "      <th>5</th>\n",
       "      <td>f19421c1d4aa40978ebb69ca19b0e20d</td>\n",
       "      <td>NaN</td>\n",
       "      <td>None</td>\n",
       "      <td>NaN</td>\n",
       "      <td>1</td>\n",
       "      <td>17646</td>\n",
       "      <td>5.0</td>\n",
       "      <td>5.0</td>\n",
       "      <td>bogo</td>\n",
       "      <td>5.0</td>\n",
       "      <td>...</td>\n",
       "      <td>0.0</td>\n",
       "      <td>5.0</td>\n",
       "      <td>5.0</td>\n",
       "      <td>5.0</td>\n",
       "      <td>1.0</td>\n",
       "      <td>1.0</td>\n",
       "      <td>1.0</td>\n",
       "      <td>1.0</td>\n",
       "      <td>f19421c1d4aa40978ebb69ca19b0e20d</td>\n",
       "      <td>bogo</td>\n",
       "    </tr>\n",
       "    <tr>\n",
       "      <th>7</th>\n",
       "      <td>3f207df678b143eea3cee63160fa8bed</td>\n",
       "      <td>40.0</td>\n",
       "      <td>O</td>\n",
       "      <td>57000.0</td>\n",
       "      <td>0</td>\n",
       "      <td>17540</td>\n",
       "      <td>0.0</td>\n",
       "      <td>4.0</td>\n",
       "      <td>informational</td>\n",
       "      <td>0.0</td>\n",
       "      <td>...</td>\n",
       "      <td>0.0</td>\n",
       "      <td>0.0</td>\n",
       "      <td>4.0</td>\n",
       "      <td>0.0</td>\n",
       "      <td>1.0</td>\n",
       "      <td>1.0</td>\n",
       "      <td>1.0</td>\n",
       "      <td>0.0</td>\n",
       "      <td>3f207df678b143eea3cee63160fa8bed</td>\n",
       "      <td>informational</td>\n",
       "    </tr>\n",
       "    <tr>\n",
       "      <th>8</th>\n",
       "      <td>2298d6c36e964ae4a3e7e9706d1fb8c2</td>\n",
       "      <td>40.0</td>\n",
       "      <td>O</td>\n",
       "      <td>57000.0</td>\n",
       "      <td>0</td>\n",
       "      <td>17540</td>\n",
       "      <td>7.0</td>\n",
       "      <td>7.0</td>\n",
       "      <td>discount</td>\n",
       "      <td>3.0</td>\n",
       "      <td>...</td>\n",
       "      <td>0.0</td>\n",
       "      <td>7.0</td>\n",
       "      <td>7.0</td>\n",
       "      <td>3.0</td>\n",
       "      <td>1.0</td>\n",
       "      <td>1.0</td>\n",
       "      <td>1.0</td>\n",
       "      <td>1.0</td>\n",
       "      <td>2298d6c36e964ae4a3e7e9706d1fb8c2</td>\n",
       "      <td>discount</td>\n",
       "    </tr>\n",
       "    <tr>\n",
       "      <th>12</th>\n",
       "      <td>fafdcd668e3743c1bb461111dcafc2a4</td>\n",
       "      <td>59.0</td>\n",
       "      <td>F</td>\n",
       "      <td>90000.0</td>\n",
       "      <td>0</td>\n",
       "      <td>16864</td>\n",
       "      <td>10.0</td>\n",
       "      <td>10.0</td>\n",
       "      <td>discount</td>\n",
       "      <td>2.0</td>\n",
       "      <td>...</td>\n",
       "      <td>0.0</td>\n",
       "      <td>10.0</td>\n",
       "      <td>10.0</td>\n",
       "      <td>2.0</td>\n",
       "      <td>1.0</td>\n",
       "      <td>1.0</td>\n",
       "      <td>1.0</td>\n",
       "      <td>1.0</td>\n",
       "      <td>fafdcd668e3743c1bb461111dcafc2a4</td>\n",
       "      <td>discount</td>\n",
       "    </tr>\n",
       "  </tbody>\n",
       "</table>\n",
       "<p>5 rows × 130 columns</p>\n",
       "</div>"
      ],
      "text/plain": [
       "                            offer_id   age gender   income  \\\n",
       "0   5a8bc65990b245e5a138643cd4eb9837  33.0      M  72000.0   \n",
       "5   f19421c1d4aa40978ebb69ca19b0e20d   NaN   None      NaN   \n",
       "7   3f207df678b143eea3cee63160fa8bed  40.0      O  57000.0   \n",
       "8   2298d6c36e964ae4a3e7e9706d1fb8c2  40.0      O  57000.0   \n",
       "12  fafdcd668e3743c1bb461111dcafc2a4  59.0      F  90000.0   \n",
       "\n",
       "    missing_demographics  member_epoch_days  difficulty  duration  \\\n",
       "0                      0              17277         0.0       3.0   \n",
       "5                      1              17646         5.0       5.0   \n",
       "7                      0              17540         0.0       4.0   \n",
       "8                      0              17540         7.0       7.0   \n",
       "12                     0              16864        10.0      10.0   \n",
       "\n",
       "       offer_type  reward_t         ...          channel_mobile_success_ratio  \\\n",
       "0   informational       0.0         ...                                   0.0   \n",
       "5            bogo       5.0         ...                                   0.0   \n",
       "7   informational       0.0         ...                                   0.0   \n",
       "8        discount       3.0         ...                                   0.0   \n",
       "12       discount       2.0         ...                                   0.0   \n",
       "\n",
       "    difficulty_viewcol  duration_viewcol  reward_t_viewcol  \\\n",
       "0                  0.0               3.0               0.0   \n",
       "5                  5.0               5.0               5.0   \n",
       "7                  0.0               4.0               0.0   \n",
       "8                  7.0               7.0               3.0   \n",
       "12                10.0              10.0               2.0   \n",
       "\n",
       "    channel_web_viewcol  channel_mobile_viewcol  channel_email_viewcol  \\\n",
       "0                   0.0                     1.0                    1.0   \n",
       "5                   1.0                     1.0                    1.0   \n",
       "7                   1.0                     1.0                    1.0   \n",
       "8                   1.0                     1.0                    1.0   \n",
       "12                  1.0                     1.0                    1.0   \n",
       "\n",
       "    channel_social_viewcol                  offer_id_viewcol  \\\n",
       "0                      1.0  5a8bc65990b245e5a138643cd4eb9837   \n",
       "5                      1.0  f19421c1d4aa40978ebb69ca19b0e20d   \n",
       "7                      0.0  3f207df678b143eea3cee63160fa8bed   \n",
       "8                      1.0  2298d6c36e964ae4a3e7e9706d1fb8c2   \n",
       "12                     1.0  fafdcd668e3743c1bb461111dcafc2a4   \n",
       "\n",
       "    offer_type_viewcol  \n",
       "0        informational  \n",
       "5                 bogo  \n",
       "7        informational  \n",
       "8             discount  \n",
       "12            discount  \n",
       "\n",
       "[5 rows x 130 columns]"
      ]
     },
     "execution_count": 3,
     "metadata": {},
     "output_type": "execute_result"
    }
   ],
   "source": [
    "print(X_train.shape)\n",
    "print(y_train.shape)\n",
    "X_train.head()"
   ]
  },
  {
   "cell_type": "code",
   "execution_count": 4,
   "metadata": {},
   "outputs": [
    {
     "name": "stdout",
     "output_type": "stream",
     "text": [
      "(12778, 130)\n",
      "(12778, 2)\n"
     ]
    },
    {
     "data": {
      "text/html": [
       "<div>\n",
       "<style scoped>\n",
       "    .dataframe tbody tr th:only-of-type {\n",
       "        vertical-align: middle;\n",
       "    }\n",
       "\n",
       "    .dataframe tbody tr th {\n",
       "        vertical-align: top;\n",
       "    }\n",
       "\n",
       "    .dataframe thead th {\n",
       "        text-align: right;\n",
       "    }\n",
       "</style>\n",
       "<table border=\"1\" class=\"dataframe\">\n",
       "  <thead>\n",
       "    <tr style=\"text-align: right;\">\n",
       "      <th></th>\n",
       "      <th>offer_id</th>\n",
       "      <th>age</th>\n",
       "      <th>gender</th>\n",
       "      <th>income</th>\n",
       "      <th>missing_demographics</th>\n",
       "      <th>member_epoch_days</th>\n",
       "      <th>difficulty</th>\n",
       "      <th>duration</th>\n",
       "      <th>offer_type</th>\n",
       "      <th>reward_t</th>\n",
       "      <th>...</th>\n",
       "      <th>channel_mobile_success_ratio</th>\n",
       "      <th>difficulty_viewcol</th>\n",
       "      <th>duration_viewcol</th>\n",
       "      <th>reward_t_viewcol</th>\n",
       "      <th>channel_web_viewcol</th>\n",
       "      <th>channel_mobile_viewcol</th>\n",
       "      <th>channel_email_viewcol</th>\n",
       "      <th>channel_social_viewcol</th>\n",
       "      <th>offer_id_viewcol</th>\n",
       "      <th>offer_type_viewcol</th>\n",
       "    </tr>\n",
       "  </thead>\n",
       "  <tbody>\n",
       "    <tr>\n",
       "      <th>2</th>\n",
       "      <td>no_offer</td>\n",
       "      <td>33.0</td>\n",
       "      <td>M</td>\n",
       "      <td>72000.0</td>\n",
       "      <td>0</td>\n",
       "      <td>17277</td>\n",
       "      <td>0.0</td>\n",
       "      <td>0.0</td>\n",
       "      <td>no_offer</td>\n",
       "      <td>0.0</td>\n",
       "      <td>...</td>\n",
       "      <td>0.000000</td>\n",
       "      <td>5.0</td>\n",
       "      <td>5.0</td>\n",
       "      <td>5.0</td>\n",
       "      <td>1.0</td>\n",
       "      <td>1.0</td>\n",
       "      <td>1.0</td>\n",
       "      <td>1.0</td>\n",
       "      <td>f19421c1d4aa40978ebb69ca19b0e20d</td>\n",
       "      <td>bogo</td>\n",
       "    </tr>\n",
       "    <tr>\n",
       "      <th>10</th>\n",
       "      <td>0b1e1539f2cc45b7b9fa7c272da2e1d7</td>\n",
       "      <td>40.0</td>\n",
       "      <td>O</td>\n",
       "      <td>57000.0</td>\n",
       "      <td>0</td>\n",
       "      <td>17540</td>\n",
       "      <td>20.0</td>\n",
       "      <td>10.0</td>\n",
       "      <td>discount</td>\n",
       "      <td>5.0</td>\n",
       "      <td>...</td>\n",
       "      <td>0.333332</td>\n",
       "      <td>20.0</td>\n",
       "      <td>10.0</td>\n",
       "      <td>5.0</td>\n",
       "      <td>1.0</td>\n",
       "      <td>0.0</td>\n",
       "      <td>1.0</td>\n",
       "      <td>0.0</td>\n",
       "      <td>0b1e1539f2cc45b7b9fa7c272da2e1d7</td>\n",
       "      <td>discount</td>\n",
       "    </tr>\n",
       "    <tr>\n",
       "      <th>15</th>\n",
       "      <td>4d5c57ea9a6940dd891ad53e9dbe8da0</td>\n",
       "      <td>59.0</td>\n",
       "      <td>F</td>\n",
       "      <td>90000.0</td>\n",
       "      <td>0</td>\n",
       "      <td>16864</td>\n",
       "      <td>10.0</td>\n",
       "      <td>5.0</td>\n",
       "      <td>bogo</td>\n",
       "      <td>10.0</td>\n",
       "      <td>...</td>\n",
       "      <td>0.666664</td>\n",
       "      <td>10.0</td>\n",
       "      <td>5.0</td>\n",
       "      <td>10.0</td>\n",
       "      <td>1.0</td>\n",
       "      <td>1.0</td>\n",
       "      <td>1.0</td>\n",
       "      <td>1.0</td>\n",
       "      <td>4d5c57ea9a6940dd891ad53e9dbe8da0</td>\n",
       "      <td>bogo</td>\n",
       "    </tr>\n",
       "    <tr>\n",
       "      <th>19</th>\n",
       "      <td>5a8bc65990b245e5a138643cd4eb9837</td>\n",
       "      <td>24.0</td>\n",
       "      <td>F</td>\n",
       "      <td>60000.0</td>\n",
       "      <td>0</td>\n",
       "      <td>17116</td>\n",
       "      <td>0.0</td>\n",
       "      <td>3.0</td>\n",
       "      <td>informational</td>\n",
       "      <td>0.0</td>\n",
       "      <td>...</td>\n",
       "      <td>0.999995</td>\n",
       "      <td>0.0</td>\n",
       "      <td>3.0</td>\n",
       "      <td>0.0</td>\n",
       "      <td>0.0</td>\n",
       "      <td>1.0</td>\n",
       "      <td>1.0</td>\n",
       "      <td>1.0</td>\n",
       "      <td>5a8bc65990b245e5a138643cd4eb9837</td>\n",
       "      <td>informational</td>\n",
       "    </tr>\n",
       "    <tr>\n",
       "      <th>24</th>\n",
       "      <td>fafdcd668e3743c1bb461111dcafc2a4</td>\n",
       "      <td>26.0</td>\n",
       "      <td>F</td>\n",
       "      <td>73000.0</td>\n",
       "      <td>0</td>\n",
       "      <td>17338</td>\n",
       "      <td>10.0</td>\n",
       "      <td>10.0</td>\n",
       "      <td>discount</td>\n",
       "      <td>2.0</td>\n",
       "      <td>...</td>\n",
       "      <td>0.333332</td>\n",
       "      <td>10.0</td>\n",
       "      <td>10.0</td>\n",
       "      <td>2.0</td>\n",
       "      <td>1.0</td>\n",
       "      <td>1.0</td>\n",
       "      <td>1.0</td>\n",
       "      <td>1.0</td>\n",
       "      <td>fafdcd668e3743c1bb461111dcafc2a4</td>\n",
       "      <td>discount</td>\n",
       "    </tr>\n",
       "  </tbody>\n",
       "</table>\n",
       "<p>5 rows × 130 columns</p>\n",
       "</div>"
      ],
      "text/plain": [
       "                            offer_id   age gender   income  \\\n",
       "2                           no_offer  33.0      M  72000.0   \n",
       "10  0b1e1539f2cc45b7b9fa7c272da2e1d7  40.0      O  57000.0   \n",
       "15  4d5c57ea9a6940dd891ad53e9dbe8da0  59.0      F  90000.0   \n",
       "19  5a8bc65990b245e5a138643cd4eb9837  24.0      F  60000.0   \n",
       "24  fafdcd668e3743c1bb461111dcafc2a4  26.0      F  73000.0   \n",
       "\n",
       "    missing_demographics  member_epoch_days  difficulty  duration  \\\n",
       "2                      0              17277         0.0       0.0   \n",
       "10                     0              17540        20.0      10.0   \n",
       "15                     0              16864        10.0       5.0   \n",
       "19                     0              17116         0.0       3.0   \n",
       "24                     0              17338        10.0      10.0   \n",
       "\n",
       "       offer_type  reward_t         ...          channel_mobile_success_ratio  \\\n",
       "2        no_offer       0.0         ...                              0.000000   \n",
       "10       discount       5.0         ...                              0.333332   \n",
       "15           bogo      10.0         ...                              0.666664   \n",
       "19  informational       0.0         ...                              0.999995   \n",
       "24       discount       2.0         ...                              0.333332   \n",
       "\n",
       "    difficulty_viewcol  duration_viewcol  reward_t_viewcol  \\\n",
       "2                  5.0               5.0               5.0   \n",
       "10                20.0              10.0               5.0   \n",
       "15                10.0               5.0              10.0   \n",
       "19                 0.0               3.0               0.0   \n",
       "24                10.0              10.0               2.0   \n",
       "\n",
       "    channel_web_viewcol  channel_mobile_viewcol  channel_email_viewcol  \\\n",
       "2                   1.0                     1.0                    1.0   \n",
       "10                  1.0                     0.0                    1.0   \n",
       "15                  1.0                     1.0                    1.0   \n",
       "19                  0.0                     1.0                    1.0   \n",
       "24                  1.0                     1.0                    1.0   \n",
       "\n",
       "    channel_social_viewcol                  offer_id_viewcol  \\\n",
       "2                      1.0  f19421c1d4aa40978ebb69ca19b0e20d   \n",
       "10                     0.0  0b1e1539f2cc45b7b9fa7c272da2e1d7   \n",
       "15                     1.0  4d5c57ea9a6940dd891ad53e9dbe8da0   \n",
       "19                     1.0  5a8bc65990b245e5a138643cd4eb9837   \n",
       "24                     1.0  fafdcd668e3743c1bb461111dcafc2a4   \n",
       "\n",
       "    offer_type_viewcol  \n",
       "2                 bogo  \n",
       "10            discount  \n",
       "15                bogo  \n",
       "19       informational  \n",
       "24            discount  \n",
       "\n",
       "[5 rows x 130 columns]"
      ]
     },
     "execution_count": 4,
     "metadata": {},
     "output_type": "execute_result"
    }
   ],
   "source": [
    "print(X_test.shape)\n",
    "print(y_test.shape)\n",
    "X_test.head()"
   ]
  },
  {
   "cell_type": "markdown",
   "metadata": {},
   "source": [
    "## 2. Create the model <a id='model'/>\n",
    "[Top](#top)"
   ]
  },
  {
   "cell_type": "code",
   "execution_count": 5,
   "metadata": {},
   "outputs": [],
   "source": [
    "model = p10.ProfitsPredictor(encoder=encoder, view_cols=view_cols, profit_cols=profit_cols)"
   ]
  },
  {
   "cell_type": "markdown",
   "metadata": {},
   "source": [
    "## 3. Evaluate the model <a id='eval'/>\n",
    "[Top](#top)"
   ]
  },
  {
   "cell_type": "markdown",
   "metadata": {},
   "source": [
    "Due to the small amount of time instances, there will be no validation set, or grid search. Instead one model will be fitted and tested (a test set is separated)."
   ]
  },
  {
   "cell_type": "code",
   "execution_count": 6,
   "metadata": {},
   "outputs": [
    {
     "name": "stdout",
     "output_type": "stream",
     "text": [
      "CPU times: user 1min 48s, sys: 1.31 s, total: 1min 49s\n",
      "Wall time: 1min 50s\n"
     ]
    },
    {
     "data": {
      "text/plain": [
       "ProfitsPredictor(encoder=BasicEncoderProfits(custom_features=None),\n",
       "         profit_cols=['difficulty', 'duration', 'reward_t', 'channel_web', 'channel_mobile', 'channel_email', 'channel_social', 'offer_id', 'offer_type'],\n",
       "         view_cols=['difficulty_viewcol', 'duration_viewcol', 'reward_t_viewcol', 'channel_web_viewcol', 'channel_mobile_viewcol', 'channel_email_viewcol', 'channel_social_viewcol', 'offer_id_viewcol', 'offer_type_viewcol'])"
      ]
     },
     "execution_count": 6,
     "metadata": {},
     "output_type": "execute_result"
    }
   ],
   "source": [
    "%time model.fit(X_train, y_train)"
   ]
  },
  {
   "cell_type": "markdown",
   "metadata": {},
   "source": [
    "## 4. Analysis and Conclusions <a id='conclusions'/>\n",
    "[Top](#top)"
   ]
  },
  {
   "cell_type": "code",
   "execution_count": 7,
   "metadata": {},
   "outputs": [],
   "source": [
    "from xgboost import plot_importance"
   ]
  },
  {
   "cell_type": "code",
   "execution_count": 8,
   "metadata": {},
   "outputs": [],
   "source": [
    "n_feats = 20"
   ]
  },
  {
   "cell_type": "code",
   "execution_count": 9,
   "metadata": {},
   "outputs": [
    {
     "data": {
      "text/plain": [
       "<matplotlib.axes._subplots.AxesSubplot at 0x1a207a7b00>"
      ]
     },
     "execution_count": 9,
     "metadata": {},
     "output_type": "execute_result"
    },
    {
     "data": {
      "image/png": "[encoded data removed]",
      "text/plain": [
       "<Figure size 432x288 with 1 Axes>"
      ]
     },
     "metadata": {
      "needs_background": "dark"
     },
     "output_type": "display_data"
    }
   ],
   "source": [
    "plot_importance(model.views_model.named_steps['estimator'], max_num_features=n_feats)"
   ]
  },
  {
   "cell_type": "code",
   "execution_count": 10,
   "metadata": {},
   "outputs": [
    {
     "data": {
      "text/plain": [
       "<matplotlib.axes._subplots.AxesSubplot at 0x1173b6080>"
      ]
     },
     "execution_count": 10,
     "metadata": {},
     "output_type": "execute_result"
    },
    {
     "data": {
      "image/png": "[encoded data removed]",
      "text/plain": [
       "<Figure size 432x288 with 1 Axes>"
      ]
     },
     "metadata": {
      "needs_background": "dark"
     },
     "output_type": "display_data"
    }
   ],
   "source": [
    "plot_importance(model.profits_model.named_steps['estimator'], max_num_features=n_feats)"
   ]
  },
  {
   "cell_type": "code",
   "execution_count": 14,
   "metadata": {},
   "outputs": [
    {
     "name": "stdout",
     "output_type": "stream",
     "text": [
      "CPU times: user 2.62 s, sys: 235 ms, total: 2.86 s\n",
      "Wall time: 1.89 s\n",
      "Training error (RMSE) = 49.89541725782038\n"
     ]
    }
   ],
   "source": [
    "# Create the null offer\n",
    "portfolio = pd.read_json(os.path.join(DATA_RAW, 'portfolio.json'), orient='records', lines=True)\n",
    "profile = pd.read_json(os.path.join(DATA_RAW, 'profile.json'), orient='records', lines=True)\n",
    "transcript = pd.read_json(os.path.join(DATA_RAW, 'transcript.json'), orient='records', lines=True)\n",
    "%time _, portfolio = pp.basic_preprocessing(portfolio, profile, transcript)\n",
    "null_offer = pd.Series([0, 0, 'no_offer', 'no_offer', 0, 0, 0, 0, 0],\n",
    "                               index=portfolio.columns,\n",
    "                               name=portfolio.shape[0]).sort_index()\n",
    "\n",
    "y_train_pred = model.predict_final_profits(X_train, null_offer)\n",
    "print('Training error (RMSE) = {}'.format(np.sqrt(mse(y_train['profit_10_days'], y_train_pred))))"
   ]
  },
  {
   "cell_type": "markdown",
   "metadata": {},
   "source": [
    "## 5. Test Results (only run this once, after adjusting all the hyperparameters) <a id='test'/>\n",
    "[Top](#top)"
   ]
  },
  {
   "cell_type": "code",
   "execution_count": 15,
   "metadata": {},
   "outputs": [
    {
     "name": "stdout",
     "output_type": "stream",
     "text": [
      "Test error (RMSE) = 65.75328180826874\n"
     ]
    }
   ],
   "source": [
    "y_test_pred = model.predict_final_profits(X_test, null_offer)\n",
    "print('Test error (RMSE) = {}'.format(np.sqrt(mse(y_test['profit_10_days'], y_test_pred))))"
   ]
  },
  {
   "cell_type": "code",
   "execution_count": 16,
   "metadata": {},
   "outputs": [
    {
     "data": {
      "image/png": "[encoded data removed]",
      "text/plain": [
       "<Figure size 432x288 with 2 Axes>"
      ]
     },
     "metadata": {
      "needs_background": "dark"
     },
     "output_type": "display_data"
    }
   ],
   "source": [
    "n_bins = 30\n",
    "plt.subplot(1,2,1)\n",
    "_ = plt.hist(y_test_pred, bins=n_bins)\n",
    "plt.title('Predicted test profits')\n",
    "plt.subplot(1,2,2)\n",
    "y_test['profit_10_days'].hist(bins=n_bins)\n",
    "_ = plt.title('Actual test profits')"
   ]
  },
  {
   "cell_type": "code",
   "execution_count": 17,
   "metadata": {},
   "outputs": [
    {
     "name": "stderr",
     "output_type": "stream",
     "text": [
      "/Users/antelinvestigacionydesarrollo/anaconda3/envs/sbucks/lib/python3.7/site-packages/scipy/stats/stats.py:1713: FutureWarning:\n",
      "\n",
      "Using a non-tuple sequence for multidimensional indexing is deprecated; use `arr[tuple(seq)]` instead of `arr[seq]`. In the future this will be interpreted as an array index, `arr[np.array(seq)]`, which will result either in an error or a different result.\n",
      "\n"
     ]
    },
    {
     "data": {
      "image/png": "[encoded data removed]",
      "text/plain": [
       "<Figure size 432x288 with 1 Axes>"
      ]
     },
     "metadata": {
      "needs_background": "dark"
     },
     "output_type": "display_data"
    }
   ],
   "source": [
    "_ = sns.kdeplot(y_test_pred, shade=True, color=\"r\", label='Predicted profits')\n",
    "_ = sns.kdeplot(y_test['profit_10_days'], shade=True, color=\"b\", label='Actual test profits')\n",
    "_ = plt.xlim((-50, 250))\n",
    "_ = plt.title('Estimated densities for the predicted and real profits in 10 days')"
   ]
  },
  {
   "cell_type": "markdown",
   "metadata": {},
   "source": [
    "### Pseudo AB test"
   ]
  },
  {
   "cell_type": "markdown",
   "metadata": {},
   "source": [
    "Ideally, to further test the model, it would be a good idea to perform an AB test. In a perfect situation we would be able to collect data from reality. In a less idealized world we would have access to a simlator, to which we can input offers. In the actual case, the only thing available is data from a simulator that was generated in the past, without any possibility of generating new data with our desired specifications. In any case, it is possible to perform what I call a \"pseudo AB test\".\n",
    "\n",
    "The idea is to predict which are the best offers for each customer, then look for cases in the test set where, by chance, exactly those offers were sent. That will be the sample \"with the new predictor\". A random sample from the test set (of the same size as the one obtained before), will be the sample \"without the predictor\" (the samples may overlap, but that is not important; the important thing is that the second sample comes from the \"old offer-sending procedure\" distribution).\n",
    "\n",
    "That method is far less than ideal. In particular the sample size is determined by chance and cannot be controlled. Despite that, its significance can be assessed."
   ]
  },
  {
   "cell_type": "code",
   "execution_count": 18,
   "metadata": {},
   "outputs": [
    {
     "name": "stdout",
     "output_type": "stream",
     "text": [
      "Basic preprocessing\n",
      "CPU times: user 2.72 s, sys: 240 ms, total: 2.96 s\n",
      "Wall time: 1.97 s\n"
     ]
    },
    {
     "data": {
      "text/html": [
       "<div>\n",
       "<style scoped>\n",
       "    .dataframe tbody tr th:only-of-type {\n",
       "        vertical-align: middle;\n",
       "    }\n",
       "\n",
       "    .dataframe tbody tr th {\n",
       "        vertical-align: top;\n",
       "    }\n",
       "\n",
       "    .dataframe thead th {\n",
       "        text-align: right;\n",
       "    }\n",
       "</style>\n",
       "<table border=\"1\" class=\"dataframe\">\n",
       "  <thead>\n",
       "    <tr style=\"text-align: right;\">\n",
       "      <th></th>\n",
       "      <th>difficulty</th>\n",
       "      <th>duration</th>\n",
       "      <th>id</th>\n",
       "      <th>offer_type</th>\n",
       "      <th>reward</th>\n",
       "      <th>channel_web</th>\n",
       "      <th>channel_social</th>\n",
       "      <th>channel_email</th>\n",
       "      <th>channel_mobile</th>\n",
       "    </tr>\n",
       "  </thead>\n",
       "  <tbody>\n",
       "    <tr>\n",
       "      <th>0</th>\n",
       "      <td>10</td>\n",
       "      <td>7</td>\n",
       "      <td>ae264e3637204a6fb9bb56bc8210ddfd</td>\n",
       "      <td>bogo</td>\n",
       "      <td>10</td>\n",
       "      <td>0</td>\n",
       "      <td>1</td>\n",
       "      <td>1</td>\n",
       "      <td>1</td>\n",
       "    </tr>\n",
       "    <tr>\n",
       "      <th>1</th>\n",
       "      <td>10</td>\n",
       "      <td>5</td>\n",
       "      <td>4d5c57ea9a6940dd891ad53e9dbe8da0</td>\n",
       "      <td>bogo</td>\n",
       "      <td>10</td>\n",
       "      <td>1</td>\n",
       "      <td>1</td>\n",
       "      <td>1</td>\n",
       "      <td>1</td>\n",
       "    </tr>\n",
       "    <tr>\n",
       "      <th>2</th>\n",
       "      <td>0</td>\n",
       "      <td>4</td>\n",
       "      <td>3f207df678b143eea3cee63160fa8bed</td>\n",
       "      <td>informational</td>\n",
       "      <td>0</td>\n",
       "      <td>1</td>\n",
       "      <td>0</td>\n",
       "      <td>1</td>\n",
       "      <td>1</td>\n",
       "    </tr>\n",
       "    <tr>\n",
       "      <th>3</th>\n",
       "      <td>5</td>\n",
       "      <td>7</td>\n",
       "      <td>9b98b8c7a33c4b65b9aebfe6a799e6d9</td>\n",
       "      <td>bogo</td>\n",
       "      <td>5</td>\n",
       "      <td>1</td>\n",
       "      <td>0</td>\n",
       "      <td>1</td>\n",
       "      <td>1</td>\n",
       "    </tr>\n",
       "    <tr>\n",
       "      <th>4</th>\n",
       "      <td>20</td>\n",
       "      <td>10</td>\n",
       "      <td>0b1e1539f2cc45b7b9fa7c272da2e1d7</td>\n",
       "      <td>discount</td>\n",
       "      <td>5</td>\n",
       "      <td>1</td>\n",
       "      <td>0</td>\n",
       "      <td>1</td>\n",
       "      <td>0</td>\n",
       "    </tr>\n",
       "    <tr>\n",
       "      <th>5</th>\n",
       "      <td>7</td>\n",
       "      <td>7</td>\n",
       "      <td>2298d6c36e964ae4a3e7e9706d1fb8c2</td>\n",
       "      <td>discount</td>\n",
       "      <td>3</td>\n",
       "      <td>1</td>\n",
       "      <td>1</td>\n",
       "      <td>1</td>\n",
       "      <td>1</td>\n",
       "    </tr>\n",
       "    <tr>\n",
       "      <th>6</th>\n",
       "      <td>10</td>\n",
       "      <td>10</td>\n",
       "      <td>fafdcd668e3743c1bb461111dcafc2a4</td>\n",
       "      <td>discount</td>\n",
       "      <td>2</td>\n",
       "      <td>1</td>\n",
       "      <td>1</td>\n",
       "      <td>1</td>\n",
       "      <td>1</td>\n",
       "    </tr>\n",
       "    <tr>\n",
       "      <th>7</th>\n",
       "      <td>0</td>\n",
       "      <td>3</td>\n",
       "      <td>5a8bc65990b245e5a138643cd4eb9837</td>\n",
       "      <td>informational</td>\n",
       "      <td>0</td>\n",
       "      <td>0</td>\n",
       "      <td>1</td>\n",
       "      <td>1</td>\n",
       "      <td>1</td>\n",
       "    </tr>\n",
       "    <tr>\n",
       "      <th>8</th>\n",
       "      <td>5</td>\n",
       "      <td>5</td>\n",
       "      <td>f19421c1d4aa40978ebb69ca19b0e20d</td>\n",
       "      <td>bogo</td>\n",
       "      <td>5</td>\n",
       "      <td>1</td>\n",
       "      <td>1</td>\n",
       "      <td>1</td>\n",
       "      <td>1</td>\n",
       "    </tr>\n",
       "    <tr>\n",
       "      <th>9</th>\n",
       "      <td>10</td>\n",
       "      <td>7</td>\n",
       "      <td>2906b810c7d4411798c6938adc9daaa5</td>\n",
       "      <td>discount</td>\n",
       "      <td>2</td>\n",
       "      <td>1</td>\n",
       "      <td>0</td>\n",
       "      <td>1</td>\n",
       "      <td>1</td>\n",
       "    </tr>\n",
       "  </tbody>\n",
       "</table>\n",
       "</div>"
      ],
      "text/plain": [
       "   difficulty  duration                                id     offer_type  \\\n",
       "0          10         7  ae264e3637204a6fb9bb56bc8210ddfd           bogo   \n",
       "1          10         5  4d5c57ea9a6940dd891ad53e9dbe8da0           bogo   \n",
       "2           0         4  3f207df678b143eea3cee63160fa8bed  informational   \n",
       "3           5         7  9b98b8c7a33c4b65b9aebfe6a799e6d9           bogo   \n",
       "4          20        10  0b1e1539f2cc45b7b9fa7c272da2e1d7       discount   \n",
       "5           7         7  2298d6c36e964ae4a3e7e9706d1fb8c2       discount   \n",
       "6          10        10  fafdcd668e3743c1bb461111dcafc2a4       discount   \n",
       "7           0         3  5a8bc65990b245e5a138643cd4eb9837  informational   \n",
       "8           5         5  f19421c1d4aa40978ebb69ca19b0e20d           bogo   \n",
       "9          10         7  2906b810c7d4411798c6938adc9daaa5       discount   \n",
       "\n",
       "   reward  channel_web  channel_social  channel_email  channel_mobile  \n",
       "0      10            0               1              1               1  \n",
       "1      10            1               1              1               1  \n",
       "2       0            1               0              1               1  \n",
       "3       5            1               0              1               1  \n",
       "4       5            1               0              1               0  \n",
       "5       3            1               1              1               1  \n",
       "6       2            1               1              1               1  \n",
       "7       0            0               1              1               1  \n",
       "8       5            1               1              1               1  \n",
       "9       2            1               0              1               1  "
      ]
     },
     "execution_count": 18,
     "metadata": {},
     "output_type": "execute_result"
    }
   ],
   "source": [
    "# Read the data\n",
    "portfolio = pd.read_json(os.path.join(DATA_RAW, 'portfolio.json'), orient='records', lines=True)\n",
    "profile = pd.read_json(os.path.join(DATA_RAW, 'profile.json'), orient='records', lines=True)\n",
    "transcript = pd.read_json(os.path.join(DATA_RAW, 'transcript.json'), orient='records', lines=True)\n",
    "\n",
    "# Basic Preprocessing\n",
    "print('Basic preprocessing')\n",
    "%time _, portfolio = pp.basic_preprocessing(portfolio, profile, transcript)\n",
    "\n",
    "portfolio"
   ]
  },
  {
   "cell_type": "code",
   "execution_count": 19,
   "metadata": {},
   "outputs": [
    {
     "data": {
      "text/plain": [
       "0    ae264e3637204a6fb9bb56bc8210ddfd\n",
       "1    fafdcd668e3743c1bb461111dcafc2a4\n",
       "2    fafdcd668e3743c1bb461111dcafc2a4\n",
       "3    fafdcd668e3743c1bb461111dcafc2a4\n",
       "4    ae264e3637204a6fb9bb56bc8210ddfd\n",
       "dtype: object"
      ]
     },
     "execution_count": 19,
     "metadata": {},
     "output_type": "execute_result"
    }
   ],
   "source": [
    "selected_offers, predicted_full = p10.choose_offer(model, X_test, portfolio)\n",
    "selected_offers.head()"
   ]
  },
  {
   "cell_type": "code",
   "execution_count": 20,
   "metadata": {},
   "outputs": [
    {
     "name": "stdout",
     "output_type": "stream",
     "text": [
      "The old procedure sent the model's preferred offer in 8.7% of the cases\n",
      "There are 1106 samples of the selected offers of the new model.\n",
      "\n",
      "----------------------------------------------------------------------------------------------------\n",
      "Total views for the old model: 821 (74.23146473779386%)\n",
      "Total profit for the old model: 46464.03\n",
      "Mean and std for the old model: mean = 42.01087703435803, std = 62.12693227344922\n",
      "----------------------------------------------------------------------------------------------------\n",
      "Total views for the new model: 1076 (97.2875226039783%)\n",
      "Total profit for the new model: 53381.71000000001\n",
      "Mean and std for the new model: mean = 48.265560578661855, std = 90.05228336013055\n",
      "----------------------------------------------------------------------------------------------------\n"
     ]
    }
   ],
   "source": [
    "num_samples = (X_test.offer_id == selected_offers.values).sum()\n",
    "print('The old procedure sent the model\\'s preferred offer in {0:.1f}% of the cases'.format(\n",
    "    100*(X_test.offer_id == selected_offers.values).mean()))\n",
    "print('There are {} samples of the selected offers of the new model.'.format(num_samples))\n",
    "\n",
    "# Old model\n",
    "np.random.seed(2018)\n",
    "old_res = y_test.loc[np.random.choice(y_test.index, num_samples, replace=False), :]\n",
    "old_views = old_res['viewed']\n",
    "old_profits = old_res['profit_10_days']\n",
    "print('\\n' + '-'*100)\n",
    "print('Total views for the old model: {} ({}%)'.format(old_views.sum(), 100*old_views.sum()/num_samples))\n",
    "print('Total profit for the old model: {}'.format(old_profits.sum()))\n",
    "print('Mean and std for the old model: mean = {}, std = {}'.format(old_profits.mean(), old_profits.std()))\n",
    "\n",
    "# New model\n",
    "new_res = y_test[(X_test.offer_id == selected_offers.values)]\n",
    "new_views = new_res['viewed']\n",
    "new_profits = new_res['profit_10_days']\n",
    "print('-'*100)\n",
    "print('Total views for the new model: {} ({}%)'.format(new_views.sum(), 100*new_views.sum()/num_samples))\n",
    "print('Total profit for the new model: {}'.format(new_profits.sum()))\n",
    "print('Mean and std for the new model: mean = {}, std = {}'.format(new_profits.mean(), new_profits.std()))\n",
    "print('-'*100)\n",
    "\n"
   ]
  },
  {
   "cell_type": "markdown",
   "metadata": {},
   "source": [
    "### Let's check the significance of the test"
   ]
  },
  {
   "cell_type": "code",
   "execution_count": 21,
   "metadata": {},
   "outputs": [],
   "source": [
    "import scipy.stats as stats"
   ]
  },
  {
   "cell_type": "code",
   "execution_count": 22,
   "metadata": {},
   "outputs": [
    {
     "name": "stdout",
     "output_type": "stream",
     "text": [
      "z = 0.08082204847522771\n",
      "The p-value is: 0.4677917366408061\n"
     ]
    }
   ],
   "source": [
    "pooled_profits = np.hstack([old_profits.values, new_profits.values])\n",
    "mu_pooled = pooled_profits.mean()\n",
    "sigma_pooled = pooled_profits.std()\n",
    "mu_old = old_profits.mean()\n",
    "mu_new = new_profits.mean()\n",
    "\n",
    "z = (mu_new - mu_old) / sigma_pooled\n",
    "\n",
    "print('z = {}'.format(z))\n",
    "print('The p-value is: {}'.format(1 - stats.norm.cdf(z)))"
   ]
  },
  {
   "cell_type": "markdown",
   "metadata": {
    "collapsed": true
   },
   "source": [
    "So, at a significance level of 0.05, it is not possible to reject the null hypothesis. Anyway, that may only mean that we don't have enough data to decide. A properly designed experiment, with access to simulated or real data collecting, could reject the null hypothesis (one experiment, no more than that [to avoid the mistake of \"trying until a good sample comes\"], designed with the desired levels of significance and statistical power from the begining)."
   ]
  },
  {
   "cell_type": "code",
   "execution_count": 23,
   "metadata": {},
   "outputs": [
    {
     "name": "stderr",
     "output_type": "stream",
     "text": [
      "/Users/antelinvestigacionydesarrollo/anaconda3/envs/sbucks/lib/python3.7/site-packages/scipy/stats/stats.py:1713: FutureWarning:\n",
      "\n",
      "Using a non-tuple sequence for multidimensional indexing is deprecated; use `arr[tuple(seq)]` instead of `arr[seq]`. In the future this will be interpreted as an array index, `arr[np.array(seq)]`, which will result either in an error or a different result.\n",
      "\n"
     ]
    },
    {
     "data": {
      "image/png": "[encoded data removed]",
      "text/plain": [
       "<Figure size 432x288 with 1 Axes>"
      ]
     },
     "metadata": {
      "needs_background": "dark"
     },
     "output_type": "display_data"
    }
   ],
   "source": [
    "import seaborn as sns\n",
    " \n",
    "_ = sns.kdeplot(old_profits, shade=True, color=\"r\", label='old')\n",
    "_ = sns.kdeplot(new_profits, shade=True, color=\"b\", label='new')\n",
    "_ = plt.xlim((-50, 250))\n",
    "_ = plt.title('Estimated densities for the old and new profits in 10 days')"
   ]
  },
  {
   "cell_type": "code",
   "execution_count": null,
   "metadata": {},
   "outputs": [],
   "source": []
  },
  {
   "cell_type": "code",
   "execution_count": null,
   "metadata": {},
   "outputs": [],
   "source": []
  }
 ],
 "metadata": {
  "kernelspec": {
   "display_name": "sbucks",
   "language": "python",
   "name": "sbucks"
  },
  "language_info": {
   "codemirror_mode": {
    "name": "ipython",
    "version": 3
   },
   "file_extension": ".py",
   "mimetype": "text/x-python",
   "name": "python",
   "nbconvert_exporter": "python",
   "pygments_lexer": "ipython3",
   "version": "3.7.1"
  }
 },
 "nbformat": 4,
 "nbformat_minor": 2
}
