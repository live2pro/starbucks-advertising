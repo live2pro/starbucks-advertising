{
 "cells": [
  {
   "cell_type": "markdown",
   "metadata": {},
   "source": [
    "# Starbucks Capstone Challenge\n",
    "\n",
    "### Introduction\n",
    "\n",
    "This data set contains simulated data that mimics customer behavior on the Starbucks rewards mobile app. Once every few days, Starbucks sends out an offer to users of the mobile app. An offer can be merely an advertisement for a drink or an actual offer such as a discount or BOGO (buy one get one free). Some users might not receive any offer during certain weeks. \n",
    "\n",
    "Not all users receive the same offer, and that is the challenge to solve with this data set.\n",
    "\n",
    "Your task is to combine transaction, demographic and offer data to determine which demographic groups respond best to which offer type. This data set is a simplified version of the real Starbucks app because the underlying simulator only has one product whereas Starbucks actually sells dozens of products.\n",
    "\n",
    "Every offer has a validity period before the offer expires. As an example, a BOGO offer might be valid for only 5 days. You'll see in the data set that informational offers have a validity period even though these ads are merely providing information about a product; for example, if an informational offer has 7 days of validity, you can assume the customer is feeling the influence of the offer for 7 days after receiving the advertisement.\n",
    "\n",
    "You'll be given transactional data showing user purchases made on the app including the timestamp of purchase and the amount of money spent on a purchase. This transactional data also has a record for each offer that a user receives as well as a record for when a user actually views the offer. There are also records for when a user completes an offer. \n",
    "\n",
    "Keep in mind as well that someone using the app might make a purchase through the app without having received an offer or seen an offer.\n",
    "\n",
    "### Example\n",
    "\n",
    "To give an example, a user could receive a discount offer buy 10 dollars get 2 off on Monday. The offer is valid for 10 days from receipt. If the customer accumulates at least 10 dollars in purchases during the validity period, the customer completes the offer.\n",
    "\n",
    "However, there are a few things to watch out for in this data set. Customers do not opt into the offers that they receive; in other words, a user can receive an offer, never actually view the offer, and still complete the offer. For example, a user might receive the \"buy 10 dollars get 2 dollars off offer\", but the user never opens the offer during the 10 day validity period. The customer spends 15 dollars during those ten days. There will be an offer completion record in the data set; however, the customer was not influenced by the offer because the customer never viewed the offer.\n",
    "\n",
    "### Cleaning\n",
    "\n",
    "This makes data cleaning especially important and tricky.\n",
    "\n",
    "You'll also want to take into account that some demographic groups will make purchases even if they don't receive an offer. From a business perspective, if a customer is going to make a 10 dollar purchase without an offer anyway, you wouldn't want to send a buy 10 dollars get 2 dollars off offer. You'll want to try to assess what a certain demographic group will buy when not receiving any offers.\n",
    "\n",
    "### Final Advice\n",
    "\n",
    "Because this is a capstone project, you are free to analyze the data any way you see fit. For example, you could build a machine learning model that predicts how much someone will spend based on demographics and offer type. Or you could build a model that predicts whether or not someone will respond to an offer. Or, you don't need to build a machine learning model at all. You could develop a set of heuristics that determine what offer you should send to each customer (ie 75 percent of women customers who were 35 years old responded to offer A vs 40 percent from the same demographic to offer B, so send offer A)."
   ]
  },
  {
   "cell_type": "markdown",
   "metadata": {},
   "source": [
    "# Data Sets\n",
    "\n",
    "The data is contained in three files:\n",
    "\n",
    "* portfolio.json - containing offer ids and meta data about each offer (duration, type, etc.)\n",
    "* profile.json - demographic data for each customer\n",
    "* transcript.json - records for transactions, offers received, offers viewed, and offers completed\n",
    "\n",
    "Here is the schema and explanation of each variable in the files:\n",
    "\n",
    "**portfolio.json**\n",
    "* id (string) - offer id\n",
    "* offer_type (string) - type of offer ie BOGO, discount, informational\n",
    "* difficulty (int) - minimum required spend to complete an offer\n",
    "* reward (int) - reward given for completing an offer\n",
    "* duration (int) - \n",
    "* channels (list of strings)\n",
    "\n",
    "**profile.json**\n",
    "* age (int) - age of the customer \n",
    "* became_member_on (int) - date when customer created an app account\n",
    "* gender (str) - gender of the customer (note some entries contain 'O' for other rather than M or F)\n",
    "* id (str) - customer id\n",
    "* income (float) - customer's income\n",
    "\n",
    "**transcript.json**\n",
    "* event (str) - record description (ie transaction, offer received, offer viewed, etc.)\n",
    "* person (str) - customer id\n",
    "* time (int) - time in hours. The data begins at time t=0\n",
    "* value - (dict of strings) - either an offer id or transaction amount depending on the record\n",
    "\n",
    "**Note:** If you are using the workspace, you will need to go to the terminal and run the command `conda update pandas` before reading in the files. This is because the version of pandas in the workspace cannot read in the transcript.json file correctly, but the newest version of pandas can. You can access the termnal from the orange icon in the top left of this notebook.  \n",
    "\n",
    "You can see how to access the terminal and how the install works using the two images below.  First you need to access the terminal:\n",
    "\n",
    "<img src=\"pic1.png\"/>\n",
    "\n",
    "Then you will want to run the above command:\n",
    "\n",
    "<img src=\"pic2.png\"/>\n",
    "\n",
    "Finally, when you enter back into the notebook (use the jupyter icon again), you should be able to run the below cell without any errors."
   ]
  },
  {
   "cell_type": "markdown",
   "metadata": {},
   "source": [
    "# Table of contents <a id='top'>\n",
    "\n",
    "1. [EDA](#eda)\n",
    "    1. [Portfolio](#portfolio)\n",
    "    2. [Profile](#profile)\n",
    "    3. [Transcript](#transcript)\n",
    "2. [Preprocessing](#preprocessing)\n",
    "    1. [Basic Preprocessing](#basic_preprocessing)\n",
    "    2. [Creation of the \"static\" dataset](#static_dataset)\n",
    "3. [The \"Offer success\" problem statement](#offer_success)\n",
    "4. [Missing Data](#missing)\n",
    "5. [Clustering](#clustering)\n",
    "6. [Lagged features](#lagged)\n",
    "7. [The \"Profit in 10 days\" problem statement](#profit)\n",
    "8. [Results](#results)"
   ]
  },
  {
   "cell_type": "code",
   "execution_count": 78,
   "metadata": {
    "collapsed": false
   },
   "outputs": [
    {
     "name": "stdout",
     "output_type": "stream",
     "text": [
      "The autoreload extension is already loaded. To reload it, use:\n",
      "  %reload_ext autoreload\n"
     ]
    }
   ],
   "source": [
    "import pandas as pd\n",
    "import numpy as np\n",
    "import math\n",
    "import json\n",
    "import os\n",
    "import matplotlib.pyplot as plt\n",
    "%matplotlib inline\n",
    "\n",
    "%load_ext autoreload\n",
    "%autoreload 2\n",
    "\n",
    "from jupyterthemes import jtplot\n",
    "jtplot.style(theme='solarizedd')\n",
    "plt.rcParams['figure.figsize'] = (20.0, 10.0)\n",
    "\n",
    "import data_utils_mt.utils as utils\n",
    "import seaborn as sns\n",
    "from sklearn.pipeline import Pipeline\n",
    "import datetime as dt\n",
    "from xgboost import XGBClassifier\n",
    "\n",
    "ROOT_DIR = '..'\n",
    "DATA_DIR = os.path.join(ROOT_DIR, 'data')\n",
    "DATA_RAW = os.path.join(DATA_DIR, 'raw')\n",
    "DATA_INTERIM = os.path.join(DATA_DIR, 'interim')\n",
    "DATA_EXTERNAL = os.path.join(DATA_DIR, 'external')\n",
    "DATA_PROCESSED = os.path.join(DATA_DIR, 'processed')\n",
    "SRC = os.path.join(ROOT_DIR, 'src')\n",
    "\n",
    "import sys\n",
    "sys.path.append(SRC)\n",
    "\n",
    "import src.data.preprocessing as pp\n",
    "import src.data.success_dataset as sd\n",
    "import src.data.missing_data as md\n",
    "import src.evaluation.offer_success as evos\n",
    "from sklearn.cluster import KMeans"
   ]
  },
  {
   "cell_type": "code",
   "execution_count": 79,
   "metadata": {
    "collapsed": false
   },
   "outputs": [],
   "source": [
    "# read in the json files\n",
    "portfolio = pd.read_json(os.path.join(DATA_RAW, 'portfolio.json'), orient='records', lines=True)\n",
    "profile = pd.read_json(os.path.join(DATA_RAW, 'profile.json'), orient='records', lines=True)\n",
    "transcript = pd.read_json(os.path.join(DATA_RAW, 'transcript.json'), orient='records', lines=True)"
   ]
  },
  {
   "cell_type": "markdown",
   "metadata": {},
   "source": [
    "# 1. EDA <a id='eda'></a>\n",
    "[Top](#top)"
   ]
  },
  {
   "cell_type": "markdown",
   "metadata": {
    "collapsed": true
   },
   "source": [
    "## 1.A. Portfolio <a id='portfolio'></a>\n",
    "[Top](#top)"
   ]
  },
  {
   "cell_type": "code",
   "execution_count": 80,
   "metadata": {
    "collapsed": false
   },
   "outputs": [
    {
     "name": "stdout",
     "output_type": "stream",
     "text": [
      "(10, 6)\n"
     ]
    },
    {
     "data": {
      "text/html": [
       "<div>\n",
       "<style scoped>\n",
       "    .dataframe tbody tr th:only-of-type {\n",
       "        vertical-align: middle;\n",
       "    }\n",
       "\n",
       "    .dataframe tbody tr th {\n",
       "        vertical-align: top;\n",
       "    }\n",
       "\n",
       "    .dataframe thead th {\n",
       "        text-align: right;\n",
       "    }\n",
       "</style>\n",
       "<table border=\"1\" class=\"dataframe\">\n",
       "  <thead>\n",
       "    <tr style=\"text-align: right;\">\n",
       "      <th></th>\n",
       "      <th>channels</th>\n",
       "      <th>difficulty</th>\n",
       "      <th>duration</th>\n",
       "      <th>id</th>\n",
       "      <th>offer_type</th>\n",
       "      <th>reward</th>\n",
       "    </tr>\n",
       "  </thead>\n",
       "  <tbody>\n",
       "    <tr>\n",
       "      <th>0</th>\n",
       "      <td>[email, mobile, social]</td>\n",
       "      <td>10</td>\n",
       "      <td>7</td>\n",
       "      <td>ae264e3637204a6fb9bb56bc8210ddfd</td>\n",
       "      <td>bogo</td>\n",
       "      <td>10</td>\n",
       "    </tr>\n",
       "    <tr>\n",
       "      <th>1</th>\n",
       "      <td>[web, email, mobile, social]</td>\n",
       "      <td>10</td>\n",
       "      <td>5</td>\n",
       "      <td>4d5c57ea9a6940dd891ad53e9dbe8da0</td>\n",
       "      <td>bogo</td>\n",
       "      <td>10</td>\n",
       "    </tr>\n",
       "    <tr>\n",
       "      <th>3</th>\n",
       "      <td>[web, email, mobile]</td>\n",
       "      <td>5</td>\n",
       "      <td>7</td>\n",
       "      <td>9b98b8c7a33c4b65b9aebfe6a799e6d9</td>\n",
       "      <td>bogo</td>\n",
       "      <td>5</td>\n",
       "    </tr>\n",
       "    <tr>\n",
       "      <th>8</th>\n",
       "      <td>[web, email, mobile, social]</td>\n",
       "      <td>5</td>\n",
       "      <td>5</td>\n",
       "      <td>f19421c1d4aa40978ebb69ca19b0e20d</td>\n",
       "      <td>bogo</td>\n",
       "      <td>5</td>\n",
       "    </tr>\n",
       "    <tr>\n",
       "      <th>4</th>\n",
       "      <td>[web, email]</td>\n",
       "      <td>20</td>\n",
       "      <td>10</td>\n",
       "      <td>0b1e1539f2cc45b7b9fa7c272da2e1d7</td>\n",
       "      <td>discount</td>\n",
       "      <td>5</td>\n",
       "    </tr>\n",
       "    <tr>\n",
       "      <th>5</th>\n",
       "      <td>[web, email, mobile, social]</td>\n",
       "      <td>7</td>\n",
       "      <td>7</td>\n",
       "      <td>2298d6c36e964ae4a3e7e9706d1fb8c2</td>\n",
       "      <td>discount</td>\n",
       "      <td>3</td>\n",
       "    </tr>\n",
       "    <tr>\n",
       "      <th>6</th>\n",
       "      <td>[web, email, mobile, social]</td>\n",
       "      <td>10</td>\n",
       "      <td>10</td>\n",
       "      <td>fafdcd668e3743c1bb461111dcafc2a4</td>\n",
       "      <td>discount</td>\n",
       "      <td>2</td>\n",
       "    </tr>\n",
       "    <tr>\n",
       "      <th>9</th>\n",
       "      <td>[web, email, mobile]</td>\n",
       "      <td>10</td>\n",
       "      <td>7</td>\n",
       "      <td>2906b810c7d4411798c6938adc9daaa5</td>\n",
       "      <td>discount</td>\n",
       "      <td>2</td>\n",
       "    </tr>\n",
       "    <tr>\n",
       "      <th>2</th>\n",
       "      <td>[web, email, mobile]</td>\n",
       "      <td>0</td>\n",
       "      <td>4</td>\n",
       "      <td>3f207df678b143eea3cee63160fa8bed</td>\n",
       "      <td>informational</td>\n",
       "      <td>0</td>\n",
       "    </tr>\n",
       "    <tr>\n",
       "      <th>7</th>\n",
       "      <td>[email, mobile, social]</td>\n",
       "      <td>0</td>\n",
       "      <td>3</td>\n",
       "      <td>5a8bc65990b245e5a138643cd4eb9837</td>\n",
       "      <td>informational</td>\n",
       "      <td>0</td>\n",
       "    </tr>\n",
       "  </tbody>\n",
       "</table>\n",
       "</div>"
      ],
      "text/plain": [
       "                       channels  difficulty  duration  \\\n",
       "0       [email, mobile, social]          10         7   \n",
       "1  [web, email, mobile, social]          10         5   \n",
       "3          [web, email, mobile]           5         7   \n",
       "8  [web, email, mobile, social]           5         5   \n",
       "4                  [web, email]          20        10   \n",
       "5  [web, email, mobile, social]           7         7   \n",
       "6  [web, email, mobile, social]          10        10   \n",
       "9          [web, email, mobile]          10         7   \n",
       "2          [web, email, mobile]           0         4   \n",
       "7       [email, mobile, social]           0         3   \n",
       "\n",
       "                                 id     offer_type  reward  \n",
       "0  ae264e3637204a6fb9bb56bc8210ddfd           bogo      10  \n",
       "1  4d5c57ea9a6940dd891ad53e9dbe8da0           bogo      10  \n",
       "3  9b98b8c7a33c4b65b9aebfe6a799e6d9           bogo       5  \n",
       "8  f19421c1d4aa40978ebb69ca19b0e20d           bogo       5  \n",
       "4  0b1e1539f2cc45b7b9fa7c272da2e1d7       discount       5  \n",
       "5  2298d6c36e964ae4a3e7e9706d1fb8c2       discount       3  \n",
       "6  fafdcd668e3743c1bb461111dcafc2a4       discount       2  \n",
       "9  2906b810c7d4411798c6938adc9daaa5       discount       2  \n",
       "2  3f207df678b143eea3cee63160fa8bed  informational       0  \n",
       "7  5a8bc65990b245e5a138643cd4eb9837  informational       0  "
      ]
     },
     "execution_count": 80,
     "metadata": {},
     "output_type": "execute_result"
    }
   ],
   "source": [
    "print(portfolio.shape)\n",
    "portfolio.sort_values(by='offer_type')"
   ]
  },
  {
   "cell_type": "markdown",
   "metadata": {},
   "source": [
    "Let's substitute the \"channels\" column with one hot encoded columns."
   ]
  },
  {
   "cell_type": "code",
   "execution_count": 81,
   "metadata": {
    "collapsed": false
   },
   "outputs": [
    {
     "data": {
      "text/html": [
       "<div>\n",
       "<style scoped>\n",
       "    .dataframe tbody tr th:only-of-type {\n",
       "        vertical-align: middle;\n",
       "    }\n",
       "\n",
       "    .dataframe tbody tr th {\n",
       "        vertical-align: top;\n",
       "    }\n",
       "\n",
       "    .dataframe thead th {\n",
       "        text-align: right;\n",
       "    }\n",
       "</style>\n",
       "<table border=\"1\" class=\"dataframe\">\n",
       "  <thead>\n",
       "    <tr style=\"text-align: right;\">\n",
       "      <th></th>\n",
       "      <th>difficulty</th>\n",
       "      <th>duration</th>\n",
       "      <th>id</th>\n",
       "      <th>offer_type</th>\n",
       "      <th>reward</th>\n",
       "      <th>channel_web</th>\n",
       "      <th>channel_mobile</th>\n",
       "      <th>channel_email</th>\n",
       "      <th>channel_social</th>\n",
       "    </tr>\n",
       "  </thead>\n",
       "  <tbody>\n",
       "    <tr>\n",
       "      <th>0</th>\n",
       "      <td>10</td>\n",
       "      <td>7</td>\n",
       "      <td>ae264e3637204a6fb9bb56bc8210ddfd</td>\n",
       "      <td>bogo</td>\n",
       "      <td>10</td>\n",
       "      <td>0</td>\n",
       "      <td>1</td>\n",
       "      <td>1</td>\n",
       "      <td>1</td>\n",
       "    </tr>\n",
       "    <tr>\n",
       "      <th>1</th>\n",
       "      <td>10</td>\n",
       "      <td>5</td>\n",
       "      <td>4d5c57ea9a6940dd891ad53e9dbe8da0</td>\n",
       "      <td>bogo</td>\n",
       "      <td>10</td>\n",
       "      <td>1</td>\n",
       "      <td>1</td>\n",
       "      <td>1</td>\n",
       "      <td>1</td>\n",
       "    </tr>\n",
       "    <tr>\n",
       "      <th>2</th>\n",
       "      <td>0</td>\n",
       "      <td>4</td>\n",
       "      <td>3f207df678b143eea3cee63160fa8bed</td>\n",
       "      <td>informational</td>\n",
       "      <td>0</td>\n",
       "      <td>1</td>\n",
       "      <td>1</td>\n",
       "      <td>1</td>\n",
       "      <td>0</td>\n",
       "    </tr>\n",
       "    <tr>\n",
       "      <th>3</th>\n",
       "      <td>5</td>\n",
       "      <td>7</td>\n",
       "      <td>9b98b8c7a33c4b65b9aebfe6a799e6d9</td>\n",
       "      <td>bogo</td>\n",
       "      <td>5</td>\n",
       "      <td>1</td>\n",
       "      <td>1</td>\n",
       "      <td>1</td>\n",
       "      <td>0</td>\n",
       "    </tr>\n",
       "    <tr>\n",
       "      <th>4</th>\n",
       "      <td>20</td>\n",
       "      <td>10</td>\n",
       "      <td>0b1e1539f2cc45b7b9fa7c272da2e1d7</td>\n",
       "      <td>discount</td>\n",
       "      <td>5</td>\n",
       "      <td>1</td>\n",
       "      <td>0</td>\n",
       "      <td>1</td>\n",
       "      <td>0</td>\n",
       "    </tr>\n",
       "    <tr>\n",
       "      <th>5</th>\n",
       "      <td>7</td>\n",
       "      <td>7</td>\n",
       "      <td>2298d6c36e964ae4a3e7e9706d1fb8c2</td>\n",
       "      <td>discount</td>\n",
       "      <td>3</td>\n",
       "      <td>1</td>\n",
       "      <td>1</td>\n",
       "      <td>1</td>\n",
       "      <td>1</td>\n",
       "    </tr>\n",
       "    <tr>\n",
       "      <th>6</th>\n",
       "      <td>10</td>\n",
       "      <td>10</td>\n",
       "      <td>fafdcd668e3743c1bb461111dcafc2a4</td>\n",
       "      <td>discount</td>\n",
       "      <td>2</td>\n",
       "      <td>1</td>\n",
       "      <td>1</td>\n",
       "      <td>1</td>\n",
       "      <td>1</td>\n",
       "    </tr>\n",
       "    <tr>\n",
       "      <th>7</th>\n",
       "      <td>0</td>\n",
       "      <td>3</td>\n",
       "      <td>5a8bc65990b245e5a138643cd4eb9837</td>\n",
       "      <td>informational</td>\n",
       "      <td>0</td>\n",
       "      <td>0</td>\n",
       "      <td>1</td>\n",
       "      <td>1</td>\n",
       "      <td>1</td>\n",
       "    </tr>\n",
       "    <tr>\n",
       "      <th>8</th>\n",
       "      <td>5</td>\n",
       "      <td>5</td>\n",
       "      <td>f19421c1d4aa40978ebb69ca19b0e20d</td>\n",
       "      <td>bogo</td>\n",
       "      <td>5</td>\n",
       "      <td>1</td>\n",
       "      <td>1</td>\n",
       "      <td>1</td>\n",
       "      <td>1</td>\n",
       "    </tr>\n",
       "    <tr>\n",
       "      <th>9</th>\n",
       "      <td>10</td>\n",
       "      <td>7</td>\n",
       "      <td>2906b810c7d4411798c6938adc9daaa5</td>\n",
       "      <td>discount</td>\n",
       "      <td>2</td>\n",
       "      <td>1</td>\n",
       "      <td>1</td>\n",
       "      <td>1</td>\n",
       "      <td>0</td>\n",
       "    </tr>\n",
       "  </tbody>\n",
       "</table>\n",
       "</div>"
      ],
      "text/plain": [
       "   difficulty  duration                                id     offer_type  \\\n",
       "0          10         7  ae264e3637204a6fb9bb56bc8210ddfd           bogo   \n",
       "1          10         5  4d5c57ea9a6940dd891ad53e9dbe8da0           bogo   \n",
       "2           0         4  3f207df678b143eea3cee63160fa8bed  informational   \n",
       "3           5         7  9b98b8c7a33c4b65b9aebfe6a799e6d9           bogo   \n",
       "4          20        10  0b1e1539f2cc45b7b9fa7c272da2e1d7       discount   \n",
       "5           7         7  2298d6c36e964ae4a3e7e9706d1fb8c2       discount   \n",
       "6          10        10  fafdcd668e3743c1bb461111dcafc2a4       discount   \n",
       "7           0         3  5a8bc65990b245e5a138643cd4eb9837  informational   \n",
       "8           5         5  f19421c1d4aa40978ebb69ca19b0e20d           bogo   \n",
       "9          10         7  2906b810c7d4411798c6938adc9daaa5       discount   \n",
       "\n",
       "   reward  channel_web  channel_mobile  channel_email  channel_social  \n",
       "0      10            0               1              1               1  \n",
       "1      10            1               1              1               1  \n",
       "2       0            1               1              1               0  \n",
       "3       5            1               1              1               0  \n",
       "4       5            1               0              1               0  \n",
       "5       3            1               1              1               1  \n",
       "6       2            1               1              1               1  \n",
       "7       0            0               1              1               1  \n",
       "8       5            1               1              1               1  \n",
       "9       2            1               1              1               0  "
      ]
     },
     "execution_count": 81,
     "metadata": {},
     "output_type": "execute_result"
    }
   ],
   "source": [
    "portfolio = pp.channels_ohe(portfolio)\n",
    "portfolio"
   ]
  },
  {
   "cell_type": "markdown",
   "metadata": {},
   "source": [
    "## 1.B. Profile <a id='profile'></a>\n",
    "[Top](#top)"
   ]
  },
  {
   "cell_type": "code",
   "execution_count": 82,
   "metadata": {
    "collapsed": false
   },
   "outputs": [
    {
     "name": "stdout",
     "output_type": "stream",
     "text": [
      "(17000, 5)\n"
     ]
    },
    {
     "data": {
      "text/html": [
       "<div>\n",
       "<style scoped>\n",
       "    .dataframe tbody tr th:only-of-type {\n",
       "        vertical-align: middle;\n",
       "    }\n",
       "\n",
       "    .dataframe tbody tr th {\n",
       "        vertical-align: top;\n",
       "    }\n",
       "\n",
       "    .dataframe thead th {\n",
       "        text-align: right;\n",
       "    }\n",
       "</style>\n",
       "<table border=\"1\" class=\"dataframe\">\n",
       "  <thead>\n",
       "    <tr style=\"text-align: right;\">\n",
       "      <th></th>\n",
       "      <th>age</th>\n",
       "      <th>became_member_on</th>\n",
       "      <th>gender</th>\n",
       "      <th>id</th>\n",
       "      <th>income</th>\n",
       "    </tr>\n",
       "  </thead>\n",
       "  <tbody>\n",
       "    <tr>\n",
       "      <th>0</th>\n",
       "      <td>118</td>\n",
       "      <td>20170212</td>\n",
       "      <td>None</td>\n",
       "      <td>68be06ca386d4c31939f3a4f0e3dd783</td>\n",
       "      <td>NaN</td>\n",
       "    </tr>\n",
       "    <tr>\n",
       "      <th>1</th>\n",
       "      <td>55</td>\n",
       "      <td>20170715</td>\n",
       "      <td>F</td>\n",
       "      <td>0610b486422d4921ae7d2bf64640c50b</td>\n",
       "      <td>112000.0</td>\n",
       "    </tr>\n",
       "    <tr>\n",
       "      <th>2</th>\n",
       "      <td>118</td>\n",
       "      <td>20180712</td>\n",
       "      <td>None</td>\n",
       "      <td>38fe809add3b4fcf9315a9694bb96ff5</td>\n",
       "      <td>NaN</td>\n",
       "    </tr>\n",
       "    <tr>\n",
       "      <th>3</th>\n",
       "      <td>75</td>\n",
       "      <td>20170509</td>\n",
       "      <td>F</td>\n",
       "      <td>78afa995795e4d85b5d9ceeca43f5fef</td>\n",
       "      <td>100000.0</td>\n",
       "    </tr>\n",
       "    <tr>\n",
       "      <th>4</th>\n",
       "      <td>118</td>\n",
       "      <td>20170804</td>\n",
       "      <td>None</td>\n",
       "      <td>a03223e636434f42ac4c3df47e8bac43</td>\n",
       "      <td>NaN</td>\n",
       "    </tr>\n",
       "  </tbody>\n",
       "</table>\n",
       "</div>"
      ],
      "text/plain": [
       "   age  became_member_on gender                                id    income\n",
       "0  118          20170212   None  68be06ca386d4c31939f3a4f0e3dd783       NaN\n",
       "1   55          20170715      F  0610b486422d4921ae7d2bf64640c50b  112000.0\n",
       "2  118          20180712   None  38fe809add3b4fcf9315a9694bb96ff5       NaN\n",
       "3   75          20170509      F  78afa995795e4d85b5d9ceeca43f5fef  100000.0\n",
       "4  118          20170804   None  a03223e636434f42ac4c3df47e8bac43       NaN"
      ]
     },
     "execution_count": 82,
     "metadata": {},
     "output_type": "execute_result"
    }
   ],
   "source": [
    "print(profile.shape)\n",
    "profile.head()"
   ]
  },
  {
   "cell_type": "code",
   "execution_count": 83,
   "metadata": {
    "collapsed": false
   },
   "outputs": [
    {
     "name": "stdout",
     "output_type": "stream",
     "text": [
      "<class 'pandas.core.frame.DataFrame'>\n",
      "RangeIndex: 17000 entries, 0 to 16999\n",
      "Data columns (total 5 columns):\n",
      "age                 17000 non-null int64\n",
      "became_member_on    17000 non-null int64\n",
      "gender              14825 non-null object\n",
      "id                  17000 non-null object\n",
      "income              14825 non-null float64\n",
      "dtypes: float64(1), int64(2), object(2)\n",
      "memory usage: 664.1+ KB\n"
     ]
    }
   ],
   "source": [
    "profile.info()"
   ]
  },
  {
   "cell_type": "code",
   "execution_count": 84,
   "metadata": {
    "collapsed": false
   },
   "outputs": [
    {
     "data": {
      "text/plain": [
       "age                    0\n",
       "became_member_on       0\n",
       "gender              2175\n",
       "id                     0\n",
       "income              2175\n",
       "dtype: int64"
      ]
     },
     "execution_count": 84,
     "metadata": {},
     "output_type": "execute_result"
    }
   ],
   "source": [
    "profile.isnull().sum()"
   ]
  },
  {
   "cell_type": "markdown",
   "metadata": {},
   "source": [
    "The age = 118 looks strange"
   ]
  },
  {
   "cell_type": "code",
   "execution_count": 85,
   "metadata": {
    "collapsed": false
   },
   "outputs": [
    {
     "data": {
      "text/plain": [
       "118    2175\n",
       "58      408\n",
       "53      372\n",
       "51      363\n",
       "54      359\n",
       "59      359\n",
       "57      353\n",
       "52      351\n",
       "55      350\n",
       "56      342\n",
       "Name: age, dtype: int64"
      ]
     },
     "execution_count": 85,
     "metadata": {},
     "output_type": "execute_result"
    }
   ],
   "source": [
    "profile.age.value_counts()[:10]"
   ]
  },
  {
   "cell_type": "markdown",
   "metadata": {},
   "source": [
    "It's almost certain that 118 was the value used for NaNs in the age. It also seems likely that the customers that have any missing data, have all the 'profile' data missing. Let's test that."
   ]
  },
  {
   "cell_type": "code",
   "execution_count": 86,
   "metadata": {
    "collapsed": false
   },
   "outputs": [
    {
     "data": {
      "text/plain": [
       "array([3, 0])"
      ]
     },
     "execution_count": 86,
     "metadata": {},
     "output_type": "execute_result"
    }
   ],
   "source": [
    "profile.age = profile.age.replace(118, np.nan)\n",
    "profile.isnull().sum(axis=1).unique()"
   ]
  },
  {
   "cell_type": "markdown",
   "metadata": {},
   "source": [
    "That means that customers have 3 missing values or none, as supposed earlier.\n",
    "\n",
    "Let's separate the customers in those who have missing data and those who don't. If a customer has all its profile missing, and doesn't have any entry in the transcript dataframe, then it should be ignored (as we don't have any information of use about the client). Are there any of those?"
   ]
  },
  {
   "cell_type": "code",
   "execution_count": 87,
   "metadata": {
    "collapsed": false
   },
   "outputs": [
    {
     "data": {
      "text/html": [
       "<div>\n",
       "<style scoped>\n",
       "    .dataframe tbody tr th:only-of-type {\n",
       "        vertical-align: middle;\n",
       "    }\n",
       "\n",
       "    .dataframe tbody tr th {\n",
       "        vertical-align: top;\n",
       "    }\n",
       "\n",
       "    .dataframe thead th {\n",
       "        text-align: right;\n",
       "    }\n",
       "</style>\n",
       "<table border=\"1\" class=\"dataframe\">\n",
       "  <thead>\n",
       "    <tr style=\"text-align: right;\">\n",
       "      <th></th>\n",
       "      <th>age</th>\n",
       "      <th>became_member_on</th>\n",
       "      <th>gender</th>\n",
       "      <th>id</th>\n",
       "      <th>income</th>\n",
       "      <th>missing_demographics</th>\n",
       "    </tr>\n",
       "  </thead>\n",
       "  <tbody>\n",
       "    <tr>\n",
       "      <th>0</th>\n",
       "      <td>NaN</td>\n",
       "      <td>20170212</td>\n",
       "      <td>None</td>\n",
       "      <td>68be06ca386d4c31939f3a4f0e3dd783</td>\n",
       "      <td>NaN</td>\n",
       "      <td>1</td>\n",
       "    </tr>\n",
       "    <tr>\n",
       "      <th>1</th>\n",
       "      <td>55.0</td>\n",
       "      <td>20170715</td>\n",
       "      <td>F</td>\n",
       "      <td>0610b486422d4921ae7d2bf64640c50b</td>\n",
       "      <td>112000.0</td>\n",
       "      <td>0</td>\n",
       "    </tr>\n",
       "    <tr>\n",
       "      <th>2</th>\n",
       "      <td>NaN</td>\n",
       "      <td>20180712</td>\n",
       "      <td>None</td>\n",
       "      <td>38fe809add3b4fcf9315a9694bb96ff5</td>\n",
       "      <td>NaN</td>\n",
       "      <td>1</td>\n",
       "    </tr>\n",
       "    <tr>\n",
       "      <th>3</th>\n",
       "      <td>75.0</td>\n",
       "      <td>20170509</td>\n",
       "      <td>F</td>\n",
       "      <td>78afa995795e4d85b5d9ceeca43f5fef</td>\n",
       "      <td>100000.0</td>\n",
       "      <td>0</td>\n",
       "    </tr>\n",
       "    <tr>\n",
       "      <th>4</th>\n",
       "      <td>NaN</td>\n",
       "      <td>20170804</td>\n",
       "      <td>None</td>\n",
       "      <td>a03223e636434f42ac4c3df47e8bac43</td>\n",
       "      <td>NaN</td>\n",
       "      <td>1</td>\n",
       "    </tr>\n",
       "  </tbody>\n",
       "</table>\n",
       "</div>"
      ],
      "text/plain": [
       "    age  became_member_on gender                                id    income  \\\n",
       "0   NaN          20170212   None  68be06ca386d4c31939f3a4f0e3dd783       NaN   \n",
       "1  55.0          20170715      F  0610b486422d4921ae7d2bf64640c50b  112000.0   \n",
       "2   NaN          20180712   None  38fe809add3b4fcf9315a9694bb96ff5       NaN   \n",
       "3  75.0          20170509      F  78afa995795e4d85b5d9ceeca43f5fef  100000.0   \n",
       "4   NaN          20170804   None  a03223e636434f42ac4c3df47e8bac43       NaN   \n",
       "\n",
       "   missing_demographics  \n",
       "0                     1  \n",
       "1                     0  \n",
       "2                     1  \n",
       "3                     0  \n",
       "4                     1  "
      ]
     },
     "execution_count": 87,
     "metadata": {},
     "output_type": "execute_result"
    }
   ],
   "source": [
    "profile['missing_demographics'] = profile.isnull().any(axis=1).astype(int)\n",
    "profile.head()"
   ]
  },
  {
   "cell_type": "code",
   "execution_count": 88,
   "metadata": {
    "collapsed": false
   },
   "outputs": [
    {
     "name": "stdout",
     "output_type": "stream",
     "text": [
      "Intersection: 17000\n",
      "Total set 1: 17000\n",
      "Not in set 2: 0\n",
      "Total set 2: 17000\n",
      "Not in set 1: 0\n",
      "Total: 17000\n"
     ]
    }
   ],
   "source": [
    "utils.common_values(profile.id, transcript.person)"
   ]
  },
  {
   "cell_type": "markdown",
   "metadata": {},
   "source": [
    "All the customers in the \"profile\" dataframe are in the \"transcript\" dataframe also. That means all customers give at least some information, and cannot be dropped."
   ]
  },
  {
   "cell_type": "markdown",
   "metadata": {},
   "source": [
    "### Let's transform the dates"
   ]
  },
  {
   "cell_type": "code",
   "execution_count": 89,
   "metadata": {
    "collapsed": false
   },
   "outputs": [
    {
     "data": {
      "text/html": [
       "<div>\n",
       "<style scoped>\n",
       "    .dataframe tbody tr th:only-of-type {\n",
       "        vertical-align: middle;\n",
       "    }\n",
       "\n",
       "    .dataframe tbody tr th {\n",
       "        vertical-align: top;\n",
       "    }\n",
       "\n",
       "    .dataframe thead th {\n",
       "        text-align: right;\n",
       "    }\n",
       "</style>\n",
       "<table border=\"1\" class=\"dataframe\">\n",
       "  <thead>\n",
       "    <tr style=\"text-align: right;\">\n",
       "      <th></th>\n",
       "      <th>age</th>\n",
       "      <th>became_member_on</th>\n",
       "      <th>gender</th>\n",
       "      <th>id</th>\n",
       "      <th>income</th>\n",
       "      <th>missing_demographics</th>\n",
       "    </tr>\n",
       "  </thead>\n",
       "  <tbody>\n",
       "    <tr>\n",
       "      <th>0</th>\n",
       "      <td>NaN</td>\n",
       "      <td>2017-02-12</td>\n",
       "      <td>None</td>\n",
       "      <td>68be06ca386d4c31939f3a4f0e3dd783</td>\n",
       "      <td>NaN</td>\n",
       "      <td>1</td>\n",
       "    </tr>\n",
       "    <tr>\n",
       "      <th>1</th>\n",
       "      <td>55.0</td>\n",
       "      <td>2017-07-15</td>\n",
       "      <td>F</td>\n",
       "      <td>0610b486422d4921ae7d2bf64640c50b</td>\n",
       "      <td>112000.0</td>\n",
       "      <td>0</td>\n",
       "    </tr>\n",
       "    <tr>\n",
       "      <th>2</th>\n",
       "      <td>NaN</td>\n",
       "      <td>2018-07-12</td>\n",
       "      <td>None</td>\n",
       "      <td>38fe809add3b4fcf9315a9694bb96ff5</td>\n",
       "      <td>NaN</td>\n",
       "      <td>1</td>\n",
       "    </tr>\n",
       "    <tr>\n",
       "      <th>3</th>\n",
       "      <td>75.0</td>\n",
       "      <td>2017-05-09</td>\n",
       "      <td>F</td>\n",
       "      <td>78afa995795e4d85b5d9ceeca43f5fef</td>\n",
       "      <td>100000.0</td>\n",
       "      <td>0</td>\n",
       "    </tr>\n",
       "    <tr>\n",
       "      <th>4</th>\n",
       "      <td>NaN</td>\n",
       "      <td>2017-08-04</td>\n",
       "      <td>None</td>\n",
       "      <td>a03223e636434f42ac4c3df47e8bac43</td>\n",
       "      <td>NaN</td>\n",
       "      <td>1</td>\n",
       "    </tr>\n",
       "  </tbody>\n",
       "</table>\n",
       "</div>"
      ],
      "text/plain": [
       "    age became_member_on gender                                id    income  \\\n",
       "0   NaN       2017-02-12   None  68be06ca386d4c31939f3a4f0e3dd783       NaN   \n",
       "1  55.0       2017-07-15      F  0610b486422d4921ae7d2bf64640c50b  112000.0   \n",
       "2   NaN       2018-07-12   None  38fe809add3b4fcf9315a9694bb96ff5       NaN   \n",
       "3  75.0       2017-05-09      F  78afa995795e4d85b5d9ceeca43f5fef  100000.0   \n",
       "4   NaN       2017-08-04   None  a03223e636434f42ac4c3df47e8bac43       NaN   \n",
       "\n",
       "   missing_demographics  \n",
       "0                     1  \n",
       "1                     0  \n",
       "2                     1  \n",
       "3                     0  \n",
       "4                     1  "
      ]
     },
     "execution_count": 89,
     "metadata": {},
     "output_type": "execute_result"
    }
   ],
   "source": [
    "profile.became_member_on = pd.to_datetime(profile.became_member_on, \n",
    "                                          format='%Y%m%d')\n",
    "profile.head()"
   ]
  },
  {
   "cell_type": "markdown",
   "metadata": {},
   "source": [
    "### And encode the gender"
   ]
  },
  {
   "cell_type": "code",
   "execution_count": 90,
   "metadata": {
    "collapsed": false
   },
   "outputs": [
    {
     "data": {
      "text/html": [
       "<div>\n",
       "<style scoped>\n",
       "    .dataframe tbody tr th:only-of-type {\n",
       "        vertical-align: middle;\n",
       "    }\n",
       "\n",
       "    .dataframe tbody tr th {\n",
       "        vertical-align: top;\n",
       "    }\n",
       "\n",
       "    .dataframe thead th {\n",
       "        text-align: right;\n",
       "    }\n",
       "</style>\n",
       "<table border=\"1\" class=\"dataframe\">\n",
       "  <thead>\n",
       "    <tr style=\"text-align: right;\">\n",
       "      <th></th>\n",
       "      <th>age</th>\n",
       "      <th>became_member_on</th>\n",
       "      <th>gender</th>\n",
       "      <th>id</th>\n",
       "      <th>income</th>\n",
       "      <th>missing_demographics</th>\n",
       "    </tr>\n",
       "  </thead>\n",
       "  <tbody>\n",
       "    <tr>\n",
       "      <th>0</th>\n",
       "      <td>NaN</td>\n",
       "      <td>2017-02-12</td>\n",
       "      <td>NaN</td>\n",
       "      <td>68be06ca386d4c31939f3a4f0e3dd783</td>\n",
       "      <td>NaN</td>\n",
       "      <td>1</td>\n",
       "    </tr>\n",
       "    <tr>\n",
       "      <th>1</th>\n",
       "      <td>55.0</td>\n",
       "      <td>2017-07-15</td>\n",
       "      <td>0.0</td>\n",
       "      <td>0610b486422d4921ae7d2bf64640c50b</td>\n",
       "      <td>112000.0</td>\n",
       "      <td>0</td>\n",
       "    </tr>\n",
       "    <tr>\n",
       "      <th>2</th>\n",
       "      <td>NaN</td>\n",
       "      <td>2018-07-12</td>\n",
       "      <td>NaN</td>\n",
       "      <td>38fe809add3b4fcf9315a9694bb96ff5</td>\n",
       "      <td>NaN</td>\n",
       "      <td>1</td>\n",
       "    </tr>\n",
       "    <tr>\n",
       "      <th>3</th>\n",
       "      <td>75.0</td>\n",
       "      <td>2017-05-09</td>\n",
       "      <td>0.0</td>\n",
       "      <td>78afa995795e4d85b5d9ceeca43f5fef</td>\n",
       "      <td>100000.0</td>\n",
       "      <td>0</td>\n",
       "    </tr>\n",
       "    <tr>\n",
       "      <th>4</th>\n",
       "      <td>NaN</td>\n",
       "      <td>2017-08-04</td>\n",
       "      <td>NaN</td>\n",
       "      <td>a03223e636434f42ac4c3df47e8bac43</td>\n",
       "      <td>NaN</td>\n",
       "      <td>1</td>\n",
       "    </tr>\n",
       "  </tbody>\n",
       "</table>\n",
       "</div>"
      ],
      "text/plain": [
       "    age became_member_on  gender                                id    income  \\\n",
       "0   NaN       2017-02-12     NaN  68be06ca386d4c31939f3a4f0e3dd783       NaN   \n",
       "1  55.0       2017-07-15     0.0  0610b486422d4921ae7d2bf64640c50b  112000.0   \n",
       "2   NaN       2018-07-12     NaN  38fe809add3b4fcf9315a9694bb96ff5       NaN   \n",
       "3  75.0       2017-05-09     0.0  78afa995795e4d85b5d9ceeca43f5fef  100000.0   \n",
       "4   NaN       2017-08-04     NaN  a03223e636434f42ac4c3df47e8bac43       NaN   \n",
       "\n",
       "   missing_demographics  \n",
       "0                     1  \n",
       "1                     0  \n",
       "2                     1  \n",
       "3                     0  \n",
       "4                     1  "
      ]
     },
     "execution_count": 90,
     "metadata": {},
     "output_type": "execute_result"
    }
   ],
   "source": [
    "gender_dict = {'F': 0, 'M': 1, 'O': 2, None: np.nan}\n",
    "gender_dict_inverse = {0: 'F', 1: 'M', 2: 'O', np.nan: None}\n",
    "profile.gender = profile.gender.replace(gender_dict)\n",
    "profile.head()"
   ]
  },
  {
   "cell_type": "markdown",
   "metadata": {},
   "source": [
    "### Let's find a good format to use the dates in the estimators"
   ]
  },
  {
   "cell_type": "code",
   "execution_count": 91,
   "metadata": {
    "collapsed": false
   },
   "outputs": [
    {
     "data": {
      "text/html": [
       "<div>\n",
       "<style scoped>\n",
       "    .dataframe tbody tr th:only-of-type {\n",
       "        vertical-align: middle;\n",
       "    }\n",
       "\n",
       "    .dataframe tbody tr th {\n",
       "        vertical-align: top;\n",
       "    }\n",
       "\n",
       "    .dataframe thead th {\n",
       "        text-align: right;\n",
       "    }\n",
       "</style>\n",
       "<table border=\"1\" class=\"dataframe\">\n",
       "  <thead>\n",
       "    <tr style=\"text-align: right;\">\n",
       "      <th></th>\n",
       "      <th>age</th>\n",
       "      <th>became_member_on</th>\n",
       "      <th>gender</th>\n",
       "      <th>id</th>\n",
       "      <th>income</th>\n",
       "      <th>missing_demographics</th>\n",
       "      <th>member_since_epoch</th>\n",
       "    </tr>\n",
       "  </thead>\n",
       "  <tbody>\n",
       "    <tr>\n",
       "      <th>0</th>\n",
       "      <td>NaN</td>\n",
       "      <td>2017-02-12</td>\n",
       "      <td>NaN</td>\n",
       "      <td>68be06ca386d4c31939f3a4f0e3dd783</td>\n",
       "      <td>NaN</td>\n",
       "      <td>1</td>\n",
       "      <td>17209</td>\n",
       "    </tr>\n",
       "    <tr>\n",
       "      <th>1</th>\n",
       "      <td>55.0</td>\n",
       "      <td>2017-07-15</td>\n",
       "      <td>0.0</td>\n",
       "      <td>0610b486422d4921ae7d2bf64640c50b</td>\n",
       "      <td>112000.0</td>\n",
       "      <td>0</td>\n",
       "      <td>17362</td>\n",
       "    </tr>\n",
       "    <tr>\n",
       "      <th>2</th>\n",
       "      <td>NaN</td>\n",
       "      <td>2018-07-12</td>\n",
       "      <td>NaN</td>\n",
       "      <td>38fe809add3b4fcf9315a9694bb96ff5</td>\n",
       "      <td>NaN</td>\n",
       "      <td>1</td>\n",
       "      <td>17724</td>\n",
       "    </tr>\n",
       "    <tr>\n",
       "      <th>3</th>\n",
       "      <td>75.0</td>\n",
       "      <td>2017-05-09</td>\n",
       "      <td>0.0</td>\n",
       "      <td>78afa995795e4d85b5d9ceeca43f5fef</td>\n",
       "      <td>100000.0</td>\n",
       "      <td>0</td>\n",
       "      <td>17295</td>\n",
       "    </tr>\n",
       "    <tr>\n",
       "      <th>4</th>\n",
       "      <td>NaN</td>\n",
       "      <td>2017-08-04</td>\n",
       "      <td>NaN</td>\n",
       "      <td>a03223e636434f42ac4c3df47e8bac43</td>\n",
       "      <td>NaN</td>\n",
       "      <td>1</td>\n",
       "      <td>17382</td>\n",
       "    </tr>\n",
       "  </tbody>\n",
       "</table>\n",
       "</div>"
      ],
      "text/plain": [
       "    age became_member_on  gender                                id    income  \\\n",
       "0   NaN       2017-02-12     NaN  68be06ca386d4c31939f3a4f0e3dd783       NaN   \n",
       "1  55.0       2017-07-15     0.0  0610b486422d4921ae7d2bf64640c50b  112000.0   \n",
       "2   NaN       2018-07-12     NaN  38fe809add3b4fcf9315a9694bb96ff5       NaN   \n",
       "3  75.0       2017-05-09     0.0  78afa995795e4d85b5d9ceeca43f5fef  100000.0   \n",
       "4   NaN       2017-08-04     NaN  a03223e636434f42ac4c3df47e8bac43       NaN   \n",
       "\n",
       "   missing_demographics  member_since_epoch  \n",
       "0                     1               17209  \n",
       "1                     0               17362  \n",
       "2                     1               17724  \n",
       "3                     0               17295  \n",
       "4                     1               17382  "
      ]
     },
     "execution_count": 91,
     "metadata": {},
     "output_type": "execute_result"
    }
   ],
   "source": [
    "# Create a feature that shows when a customer became member, \n",
    "# as the number of days since January 1st, 1970, to the signup date.\n",
    "profile['member_since_epoch'] = (\n",
    "    profile.became_member_on - dt.datetime(1970,1,1)).dt.days\n",
    "profile.head()"
   ]
  },
  {
   "cell_type": "markdown",
   "metadata": {},
   "source": [
    "### How do the features look like?"
   ]
  },
  {
   "cell_type": "code",
   "execution_count": 92,
   "metadata": {
    "collapsed": false
   },
   "outputs": [
    {
     "data": {
      "text/plain": [
       "<matplotlib.axes._subplots.AxesSubplot at 0x7f5c82171518>"
      ]
     },
     "execution_count": 92,
     "metadata": {},
     "output_type": "execute_result"
    },
    {
     "data": {
      "image/png": "[encoded data removed]",
      "text/plain": [
       "<Figure size 1440x720 with 1 Axes>"
      ]
     },
     "metadata": {},
     "output_type": "display_data"
    }
   ],
   "source": [
    "profile.income.hist(bins=30)"
   ]
  },
  {
   "cell_type": "code",
   "execution_count": 93,
   "metadata": {
    "collapsed": false
   },
   "outputs": [
    {
     "data": {
      "text/plain": [
       " 1.0    8484\n",
       " 0.0    6129\n",
       "NaN     2175\n",
       " 2.0     212\n",
       "Name: gender, dtype: int64"
      ]
     },
     "execution_count": 93,
     "metadata": {},
     "output_type": "execute_result"
    }
   ],
   "source": [
    "profile.gender.value_counts(dropna=False)"
   ]
  },
  {
   "cell_type": "code",
   "execution_count": 94,
   "metadata": {
    "collapsed": false
   },
   "outputs": [
    {
     "data": {
      "text/plain": [
       "<matplotlib.axes._subplots.AxesSubplot at 0x7f5c8234fa20>"
      ]
     },
     "execution_count": 94,
     "metadata": {},
     "output_type": "execute_result"
    },
    {
     "data": {
      "image/png": "[encoded data removed]",
      "text/plain": [
       "<Figure size 1440x720 with 1 Axes>"
      ]
     },
     "metadata": {},
     "output_type": "display_data"
    }
   ],
   "source": [
    "profile.age.hist(bins=30)"
   ]
  },
  {
   "cell_type": "code",
   "execution_count": 95,
   "metadata": {
    "collapsed": false
   },
   "outputs": [
    {
     "data": {
      "text/plain": [
       "<matplotlib.axes._subplots.AxesSubplot at 0x7f5c78239978>"
      ]
     },
     "execution_count": 95,
     "metadata": {},
     "output_type": "execute_result"
    },
    {
     "data": {
      "image/png": "[encoded data removed]",
      "text/plain": [
       "<Figure size 1440x720 with 1 Axes>"
      ]
     },
     "metadata": {},
     "output_type": "display_data"
    }
   ],
   "source": [
    "profile.became_member_on.hist(bins=30)"
   ]
  },
  {
   "cell_type": "code",
   "execution_count": 96,
   "metadata": {
    "collapsed": false
   },
   "outputs": [
    {
     "data": {
      "text/plain": [
       "<seaborn.axisgrid.PairGrid at 0x7f5c82195e48>"
      ]
     },
     "execution_count": 96,
     "metadata": {},
     "output_type": "execute_result"
    },
    {
     "data": {
      "image/png": "[encoded data removed]",
      "text/plain": [
       "<Figure size 720x720 with 20 Axes>"
      ]
     },
     "metadata": {},
     "output_type": "display_data"
    }
   ],
   "source": [
    "sns.pairplot(profile[['age', \n",
    "                      'income', \n",
    "                      'gender', \n",
    "                      'member_since_epoch']].dropna())"
   ]
  },
  {
   "cell_type": "markdown",
   "metadata": {},
   "source": [
    "There is a very strange age-income \"stair\" pattern... I assume that is due to the inner workings of the simulator."
   ]
  },
  {
   "cell_type": "markdown",
   "metadata": {},
   "source": [
    "**Finding:** The simulator seems to cap the income for younger customers, in discrete steps."
   ]
  },
  {
   "cell_type": "markdown",
   "metadata": {},
   "source": [
    "## 1.C. Transcript <a id='transcript'></a>\n",
    "[Top](#top)"
   ]
  },
  {
   "cell_type": "code",
   "execution_count": 97,
   "metadata": {
    "collapsed": false
   },
   "outputs": [
    {
     "name": "stdout",
     "output_type": "stream",
     "text": [
      "(306534, 4)\n"
     ]
    },
    {
     "data": {
      "text/html": [
       "<div>\n",
       "<style scoped>\n",
       "    .dataframe tbody tr th:only-of-type {\n",
       "        vertical-align: middle;\n",
       "    }\n",
       "\n",
       "    .dataframe tbody tr th {\n",
       "        vertical-align: top;\n",
       "    }\n",
       "\n",
       "    .dataframe thead th {\n",
       "        text-align: right;\n",
       "    }\n",
       "</style>\n",
       "<table border=\"1\" class=\"dataframe\">\n",
       "  <thead>\n",
       "    <tr style=\"text-align: right;\">\n",
       "      <th></th>\n",
       "      <th>event</th>\n",
       "      <th>person</th>\n",
       "      <th>time</th>\n",
       "      <th>value</th>\n",
       "    </tr>\n",
       "  </thead>\n",
       "  <tbody>\n",
       "    <tr>\n",
       "      <th>0</th>\n",
       "      <td>offer received</td>\n",
       "      <td>78afa995795e4d85b5d9ceeca43f5fef</td>\n",
       "      <td>0</td>\n",
       "      <td>{'offer id': '9b98b8c7a33c4b65b9aebfe6a799e6d9'}</td>\n",
       "    </tr>\n",
       "    <tr>\n",
       "      <th>1</th>\n",
       "      <td>offer received</td>\n",
       "      <td>a03223e636434f42ac4c3df47e8bac43</td>\n",
       "      <td>0</td>\n",
       "      <td>{'offer id': '0b1e1539f2cc45b7b9fa7c272da2e1d7'}</td>\n",
       "    </tr>\n",
       "    <tr>\n",
       "      <th>2</th>\n",
       "      <td>offer received</td>\n",
       "      <td>e2127556f4f64592b11af22de27a7932</td>\n",
       "      <td>0</td>\n",
       "      <td>{'offer id': '2906b810c7d4411798c6938adc9daaa5'}</td>\n",
       "    </tr>\n",
       "    <tr>\n",
       "      <th>3</th>\n",
       "      <td>offer received</td>\n",
       "      <td>8ec6ce2a7e7949b1bf142def7d0e0586</td>\n",
       "      <td>0</td>\n",
       "      <td>{'offer id': 'fafdcd668e3743c1bb461111dcafc2a4'}</td>\n",
       "    </tr>\n",
       "    <tr>\n",
       "      <th>4</th>\n",
       "      <td>offer received</td>\n",
       "      <td>68617ca6246f4fbc85e91a2a49552598</td>\n",
       "      <td>0</td>\n",
       "      <td>{'offer id': '4d5c57ea9a6940dd891ad53e9dbe8da0'}</td>\n",
       "    </tr>\n",
       "  </tbody>\n",
       "</table>\n",
       "</div>"
      ],
      "text/plain": [
       "            event                            person  time  \\\n",
       "0  offer received  78afa995795e4d85b5d9ceeca43f5fef     0   \n",
       "1  offer received  a03223e636434f42ac4c3df47e8bac43     0   \n",
       "2  offer received  e2127556f4f64592b11af22de27a7932     0   \n",
       "3  offer received  8ec6ce2a7e7949b1bf142def7d0e0586     0   \n",
       "4  offer received  68617ca6246f4fbc85e91a2a49552598     0   \n",
       "\n",
       "                                              value  \n",
       "0  {'offer id': '9b98b8c7a33c4b65b9aebfe6a799e6d9'}  \n",
       "1  {'offer id': '0b1e1539f2cc45b7b9fa7c272da2e1d7'}  \n",
       "2  {'offer id': '2906b810c7d4411798c6938adc9daaa5'}  \n",
       "3  {'offer id': 'fafdcd668e3743c1bb461111dcafc2a4'}  \n",
       "4  {'offer id': '4d5c57ea9a6940dd891ad53e9dbe8da0'}  "
      ]
     },
     "execution_count": 97,
     "metadata": {},
     "output_type": "execute_result"
    }
   ],
   "source": [
    "print(transcript.shape)\n",
    "transcript.head()"
   ]
  },
  {
   "cell_type": "code",
   "execution_count": 98,
   "metadata": {
    "collapsed": false
   },
   "outputs": [
    {
     "name": "stdout",
     "output_type": "stream",
     "text": [
      "<class 'pandas.core.frame.DataFrame'>\n",
      "RangeIndex: 306534 entries, 0 to 306533\n",
      "Data columns (total 4 columns):\n",
      "event     306534 non-null object\n",
      "person    306534 non-null object\n",
      "time      306534 non-null int64\n",
      "value     306534 non-null object\n",
      "dtypes: int64(1), object(3)\n",
      "memory usage: 9.4+ MB\n"
     ]
    }
   ],
   "source": [
    "transcript.info()"
   ]
  },
  {
   "cell_type": "code",
   "execution_count": 99,
   "metadata": {
    "collapsed": false
   },
   "outputs": [
    {
     "data": {
      "text/plain": [
       "array([  0,   6,  12,  18,  24,  30,  36,  42,  48,  54,  60,  66,  72,\n",
       "        78,  84,  90,  96, 102, 108, 114, 120, 126, 132, 138, 144, 150,\n",
       "       156, 162, 168, 174, 180, 186, 192, 198, 204, 210, 216, 222, 228,\n",
       "       234, 240, 246, 252, 258, 264, 270, 276, 282, 288, 294, 300, 306,\n",
       "       312, 318, 324, 330, 336, 342, 348, 354, 360, 366, 372, 378, 384,\n",
       "       390, 396, 402, 408, 414, 420, 426, 432, 438, 444, 450, 456, 462,\n",
       "       468, 474, 480, 486, 492, 498, 504, 510, 516, 522, 528, 534, 540,\n",
       "       546, 552, 558, 564, 570, 576, 582, 588, 594, 600, 606, 612, 618,\n",
       "       624, 630, 636, 642, 648, 654, 660, 666, 672, 678, 684, 690, 696,\n",
       "       702, 708, 714])"
      ]
     },
     "execution_count": 99,
     "metadata": {},
     "output_type": "execute_result"
    }
   ],
   "source": [
    "transcript.time.unique()"
   ]
  },
  {
   "cell_type": "code",
   "execution_count": 100,
   "metadata": {
    "collapsed": false
   },
   "outputs": [
    {
     "data": {
      "text/plain": [
       "array(['offer received', 'offer viewed', 'transaction', 'offer completed'],\n",
       "      dtype=object)"
      ]
     },
     "execution_count": 100,
     "metadata": {},
     "output_type": "execute_result"
    }
   ],
   "source": [
    "transcript.event.unique()"
   ]
  },
  {
   "cell_type": "markdown",
   "metadata": {},
   "source": [
    "Let's get the \"value\" data out of the dictionaries, and then check each type of event separately."
   ]
  },
  {
   "cell_type": "code",
   "execution_count": 101,
   "metadata": {
    "collapsed": true
   },
   "outputs": [],
   "source": [
    "transcript = pp.unwrap_transcript(transcript)"
   ]
  },
  {
   "cell_type": "code",
   "execution_count": 102,
   "metadata": {
    "collapsed": false
   },
   "outputs": [
    {
     "data": {
      "text/html": [
       "<div>\n",
       "<style scoped>\n",
       "    .dataframe tbody tr th:only-of-type {\n",
       "        vertical-align: middle;\n",
       "    }\n",
       "\n",
       "    .dataframe tbody tr th {\n",
       "        vertical-align: top;\n",
       "    }\n",
       "\n",
       "    .dataframe thead th {\n",
       "        text-align: right;\n",
       "    }\n",
       "</style>\n",
       "<table border=\"1\" class=\"dataframe\">\n",
       "  <thead>\n",
       "    <tr style=\"text-align: right;\">\n",
       "      <th></th>\n",
       "      <th>event</th>\n",
       "      <th>person</th>\n",
       "      <th>time</th>\n",
       "      <th>amount</th>\n",
       "      <th>offer_id</th>\n",
       "      <th>reward</th>\n",
       "    </tr>\n",
       "  </thead>\n",
       "  <tbody>\n",
       "    <tr>\n",
       "      <th>0</th>\n",
       "      <td>offer received</td>\n",
       "      <td>78afa995795e4d85b5d9ceeca43f5fef</td>\n",
       "      <td>0</td>\n",
       "      <td>NaN</td>\n",
       "      <td>9b98b8c7a33c4b65b9aebfe6a799e6d9</td>\n",
       "      <td>NaN</td>\n",
       "    </tr>\n",
       "    <tr>\n",
       "      <th>1</th>\n",
       "      <td>offer received</td>\n",
       "      <td>a03223e636434f42ac4c3df47e8bac43</td>\n",
       "      <td>0</td>\n",
       "      <td>NaN</td>\n",
       "      <td>0b1e1539f2cc45b7b9fa7c272da2e1d7</td>\n",
       "      <td>NaN</td>\n",
       "    </tr>\n",
       "    <tr>\n",
       "      <th>2</th>\n",
       "      <td>offer received</td>\n",
       "      <td>e2127556f4f64592b11af22de27a7932</td>\n",
       "      <td>0</td>\n",
       "      <td>NaN</td>\n",
       "      <td>2906b810c7d4411798c6938adc9daaa5</td>\n",
       "      <td>NaN</td>\n",
       "    </tr>\n",
       "    <tr>\n",
       "      <th>3</th>\n",
       "      <td>offer received</td>\n",
       "      <td>8ec6ce2a7e7949b1bf142def7d0e0586</td>\n",
       "      <td>0</td>\n",
       "      <td>NaN</td>\n",
       "      <td>fafdcd668e3743c1bb461111dcafc2a4</td>\n",
       "      <td>NaN</td>\n",
       "    </tr>\n",
       "    <tr>\n",
       "      <th>4</th>\n",
       "      <td>offer received</td>\n",
       "      <td>68617ca6246f4fbc85e91a2a49552598</td>\n",
       "      <td>0</td>\n",
       "      <td>NaN</td>\n",
       "      <td>4d5c57ea9a6940dd891ad53e9dbe8da0</td>\n",
       "      <td>NaN</td>\n",
       "    </tr>\n",
       "  </tbody>\n",
       "</table>\n",
       "</div>"
      ],
      "text/plain": [
       "            event                            person  time  amount  \\\n",
       "0  offer received  78afa995795e4d85b5d9ceeca43f5fef     0     NaN   \n",
       "1  offer received  a03223e636434f42ac4c3df47e8bac43     0     NaN   \n",
       "2  offer received  e2127556f4f64592b11af22de27a7932     0     NaN   \n",
       "3  offer received  8ec6ce2a7e7949b1bf142def7d0e0586     0     NaN   \n",
       "4  offer received  68617ca6246f4fbc85e91a2a49552598     0     NaN   \n",
       "\n",
       "                           offer_id  reward  \n",
       "0  9b98b8c7a33c4b65b9aebfe6a799e6d9     NaN  \n",
       "1  0b1e1539f2cc45b7b9fa7c272da2e1d7     NaN  \n",
       "2  2906b810c7d4411798c6938adc9daaa5     NaN  \n",
       "3  fafdcd668e3743c1bb461111dcafc2a4     NaN  \n",
       "4  4d5c57ea9a6940dd891ad53e9dbe8da0     NaN  "
      ]
     },
     "execution_count": 102,
     "metadata": {},
     "output_type": "execute_result"
    }
   ],
   "source": [
    "transcript[transcript.event == 'offer received'].head()"
   ]
  },
  {
   "cell_type": "code",
   "execution_count": 103,
   "metadata": {
    "collapsed": false
   },
   "outputs": [
    {
     "data": {
      "text/html": [
       "<div>\n",
       "<style scoped>\n",
       "    .dataframe tbody tr th:only-of-type {\n",
       "        vertical-align: middle;\n",
       "    }\n",
       "\n",
       "    .dataframe tbody tr th {\n",
       "        vertical-align: top;\n",
       "    }\n",
       "\n",
       "    .dataframe thead th {\n",
       "        text-align: right;\n",
       "    }\n",
       "</style>\n",
       "<table border=\"1\" class=\"dataframe\">\n",
       "  <thead>\n",
       "    <tr style=\"text-align: right;\">\n",
       "      <th></th>\n",
       "      <th>event</th>\n",
       "      <th>person</th>\n",
       "      <th>time</th>\n",
       "      <th>amount</th>\n",
       "      <th>offer_id</th>\n",
       "      <th>reward</th>\n",
       "    </tr>\n",
       "  </thead>\n",
       "  <tbody>\n",
       "    <tr>\n",
       "      <th>12650</th>\n",
       "      <td>offer viewed</td>\n",
       "      <td>389bc3fa690240e798340f5a15918d5c</td>\n",
       "      <td>0</td>\n",
       "      <td>NaN</td>\n",
       "      <td>f19421c1d4aa40978ebb69ca19b0e20d</td>\n",
       "      <td>NaN</td>\n",
       "    </tr>\n",
       "    <tr>\n",
       "      <th>12651</th>\n",
       "      <td>offer viewed</td>\n",
       "      <td>d1ede868e29245ea91818a903fec04c6</td>\n",
       "      <td>0</td>\n",
       "      <td>NaN</td>\n",
       "      <td>5a8bc65990b245e5a138643cd4eb9837</td>\n",
       "      <td>NaN</td>\n",
       "    </tr>\n",
       "    <tr>\n",
       "      <th>12652</th>\n",
       "      <td>offer viewed</td>\n",
       "      <td>102e9454054946fda62242d2e176fdce</td>\n",
       "      <td>0</td>\n",
       "      <td>NaN</td>\n",
       "      <td>4d5c57ea9a6940dd891ad53e9dbe8da0</td>\n",
       "      <td>NaN</td>\n",
       "    </tr>\n",
       "    <tr>\n",
       "      <th>12653</th>\n",
       "      <td>offer viewed</td>\n",
       "      <td>02c083884c7d45b39cc68e1314fec56c</td>\n",
       "      <td>0</td>\n",
       "      <td>NaN</td>\n",
       "      <td>ae264e3637204a6fb9bb56bc8210ddfd</td>\n",
       "      <td>NaN</td>\n",
       "    </tr>\n",
       "    <tr>\n",
       "      <th>12655</th>\n",
       "      <td>offer viewed</td>\n",
       "      <td>be8a5d1981a2458d90b255ddc7e0d174</td>\n",
       "      <td>0</td>\n",
       "      <td>NaN</td>\n",
       "      <td>5a8bc65990b245e5a138643cd4eb9837</td>\n",
       "      <td>NaN</td>\n",
       "    </tr>\n",
       "  </tbody>\n",
       "</table>\n",
       "</div>"
      ],
      "text/plain": [
       "              event                            person  time  amount  \\\n",
       "12650  offer viewed  389bc3fa690240e798340f5a15918d5c     0     NaN   \n",
       "12651  offer viewed  d1ede868e29245ea91818a903fec04c6     0     NaN   \n",
       "12652  offer viewed  102e9454054946fda62242d2e176fdce     0     NaN   \n",
       "12653  offer viewed  02c083884c7d45b39cc68e1314fec56c     0     NaN   \n",
       "12655  offer viewed  be8a5d1981a2458d90b255ddc7e0d174     0     NaN   \n",
       "\n",
       "                               offer_id  reward  \n",
       "12650  f19421c1d4aa40978ebb69ca19b0e20d     NaN  \n",
       "12651  5a8bc65990b245e5a138643cd4eb9837     NaN  \n",
       "12652  4d5c57ea9a6940dd891ad53e9dbe8da0     NaN  \n",
       "12653  ae264e3637204a6fb9bb56bc8210ddfd     NaN  \n",
       "12655  5a8bc65990b245e5a138643cd4eb9837     NaN  "
      ]
     },
     "execution_count": 103,
     "metadata": {},
     "output_type": "execute_result"
    }
   ],
   "source": [
    "transcript[transcript.event == 'offer viewed'].head()"
   ]
  },
  {
   "cell_type": "code",
   "execution_count": 104,
   "metadata": {
    "collapsed": false
   },
   "outputs": [
    {
     "data": {
      "text/html": [
       "<div>\n",
       "<style scoped>\n",
       "    .dataframe tbody tr th:only-of-type {\n",
       "        vertical-align: middle;\n",
       "    }\n",
       "\n",
       "    .dataframe tbody tr th {\n",
       "        vertical-align: top;\n",
       "    }\n",
       "\n",
       "    .dataframe thead th {\n",
       "        text-align: right;\n",
       "    }\n",
       "</style>\n",
       "<table border=\"1\" class=\"dataframe\">\n",
       "  <thead>\n",
       "    <tr style=\"text-align: right;\">\n",
       "      <th></th>\n",
       "      <th>event</th>\n",
       "      <th>person</th>\n",
       "      <th>time</th>\n",
       "      <th>amount</th>\n",
       "      <th>offer_id</th>\n",
       "      <th>reward</th>\n",
       "    </tr>\n",
       "  </thead>\n",
       "  <tbody>\n",
       "    <tr>\n",
       "      <th>12654</th>\n",
       "      <td>transaction</td>\n",
       "      <td>02c083884c7d45b39cc68e1314fec56c</td>\n",
       "      <td>0</td>\n",
       "      <td>0.83</td>\n",
       "      <td>NaN</td>\n",
       "      <td>NaN</td>\n",
       "    </tr>\n",
       "    <tr>\n",
       "      <th>12657</th>\n",
       "      <td>transaction</td>\n",
       "      <td>9fa9ae8f57894cc9a3b8a9bbe0fc1b2f</td>\n",
       "      <td>0</td>\n",
       "      <td>34.56</td>\n",
       "      <td>NaN</td>\n",
       "      <td>NaN</td>\n",
       "    </tr>\n",
       "    <tr>\n",
       "      <th>12659</th>\n",
       "      <td>transaction</td>\n",
       "      <td>54890f68699049c2a04d415abc25e717</td>\n",
       "      <td>0</td>\n",
       "      <td>13.23</td>\n",
       "      <td>NaN</td>\n",
       "      <td>NaN</td>\n",
       "    </tr>\n",
       "    <tr>\n",
       "      <th>12670</th>\n",
       "      <td>transaction</td>\n",
       "      <td>b2f1cd155b864803ad8334cdf13c4bd2</td>\n",
       "      <td>0</td>\n",
       "      <td>19.51</td>\n",
       "      <td>NaN</td>\n",
       "      <td>NaN</td>\n",
       "    </tr>\n",
       "    <tr>\n",
       "      <th>12671</th>\n",
       "      <td>transaction</td>\n",
       "      <td>fe97aa22dd3e48c8b143116a8403dd52</td>\n",
       "      <td>0</td>\n",
       "      <td>18.97</td>\n",
       "      <td>NaN</td>\n",
       "      <td>NaN</td>\n",
       "    </tr>\n",
       "  </tbody>\n",
       "</table>\n",
       "</div>"
      ],
      "text/plain": [
       "             event                            person  time  amount offer_id  \\\n",
       "12654  transaction  02c083884c7d45b39cc68e1314fec56c     0    0.83      NaN   \n",
       "12657  transaction  9fa9ae8f57894cc9a3b8a9bbe0fc1b2f     0   34.56      NaN   \n",
       "12659  transaction  54890f68699049c2a04d415abc25e717     0   13.23      NaN   \n",
       "12670  transaction  b2f1cd155b864803ad8334cdf13c4bd2     0   19.51      NaN   \n",
       "12671  transaction  fe97aa22dd3e48c8b143116a8403dd52     0   18.97      NaN   \n",
       "\n",
       "       reward  \n",
       "12654     NaN  \n",
       "12657     NaN  \n",
       "12659     NaN  \n",
       "12670     NaN  \n",
       "12671     NaN  "
      ]
     },
     "execution_count": 104,
     "metadata": {},
     "output_type": "execute_result"
    }
   ],
   "source": [
    "transcript[transcript.event == 'transaction'].head()"
   ]
  },
  {
   "cell_type": "code",
   "execution_count": 105,
   "metadata": {
    "collapsed": false
   },
   "outputs": [
    {
     "data": {
      "text/html": [
       "<div>\n",
       "<style scoped>\n",
       "    .dataframe tbody tr th:only-of-type {\n",
       "        vertical-align: middle;\n",
       "    }\n",
       "\n",
       "    .dataframe tbody tr th {\n",
       "        vertical-align: top;\n",
       "    }\n",
       "\n",
       "    .dataframe thead th {\n",
       "        text-align: right;\n",
       "    }\n",
       "</style>\n",
       "<table border=\"1\" class=\"dataframe\">\n",
       "  <thead>\n",
       "    <tr style=\"text-align: right;\">\n",
       "      <th></th>\n",
       "      <th>event</th>\n",
       "      <th>person</th>\n",
       "      <th>time</th>\n",
       "      <th>amount</th>\n",
       "      <th>offer_id</th>\n",
       "      <th>reward</th>\n",
       "    </tr>\n",
       "  </thead>\n",
       "  <tbody>\n",
       "    <tr>\n",
       "      <th>12658</th>\n",
       "      <td>offer completed</td>\n",
       "      <td>9fa9ae8f57894cc9a3b8a9bbe0fc1b2f</td>\n",
       "      <td>0</td>\n",
       "      <td>NaN</td>\n",
       "      <td>2906b810c7d4411798c6938adc9daaa5</td>\n",
       "      <td>2.0</td>\n",
       "    </tr>\n",
       "    <tr>\n",
       "      <th>12672</th>\n",
       "      <td>offer completed</td>\n",
       "      <td>fe97aa22dd3e48c8b143116a8403dd52</td>\n",
       "      <td>0</td>\n",
       "      <td>NaN</td>\n",
       "      <td>fafdcd668e3743c1bb461111dcafc2a4</td>\n",
       "      <td>2.0</td>\n",
       "    </tr>\n",
       "    <tr>\n",
       "      <th>12679</th>\n",
       "      <td>offer completed</td>\n",
       "      <td>629fc02d56414d91bca360decdfa9288</td>\n",
       "      <td>0</td>\n",
       "      <td>NaN</td>\n",
       "      <td>9b98b8c7a33c4b65b9aebfe6a799e6d9</td>\n",
       "      <td>5.0</td>\n",
       "    </tr>\n",
       "    <tr>\n",
       "      <th>12692</th>\n",
       "      <td>offer completed</td>\n",
       "      <td>676506bad68e4161b9bbaffeb039626b</td>\n",
       "      <td>0</td>\n",
       "      <td>NaN</td>\n",
       "      <td>ae264e3637204a6fb9bb56bc8210ddfd</td>\n",
       "      <td>10.0</td>\n",
       "    </tr>\n",
       "    <tr>\n",
       "      <th>12697</th>\n",
       "      <td>offer completed</td>\n",
       "      <td>8f7dd3b2afe14c078eb4f6e6fe4ba97d</td>\n",
       "      <td>0</td>\n",
       "      <td>NaN</td>\n",
       "      <td>4d5c57ea9a6940dd891ad53e9dbe8da0</td>\n",
       "      <td>10.0</td>\n",
       "    </tr>\n",
       "  </tbody>\n",
       "</table>\n",
       "</div>"
      ],
      "text/plain": [
       "                 event                            person  time  amount  \\\n",
       "12658  offer completed  9fa9ae8f57894cc9a3b8a9bbe0fc1b2f     0     NaN   \n",
       "12672  offer completed  fe97aa22dd3e48c8b143116a8403dd52     0     NaN   \n",
       "12679  offer completed  629fc02d56414d91bca360decdfa9288     0     NaN   \n",
       "12692  offer completed  676506bad68e4161b9bbaffeb039626b     0     NaN   \n",
       "12697  offer completed  8f7dd3b2afe14c078eb4f6e6fe4ba97d     0     NaN   \n",
       "\n",
       "                               offer_id  reward  \n",
       "12658  2906b810c7d4411798c6938adc9daaa5     2.0  \n",
       "12672  fafdcd668e3743c1bb461111dcafc2a4     2.0  \n",
       "12679  9b98b8c7a33c4b65b9aebfe6a799e6d9     5.0  \n",
       "12692  ae264e3637204a6fb9bb56bc8210ddfd    10.0  \n",
       "12697  4d5c57ea9a6940dd891ad53e9dbe8da0    10.0  "
      ]
     },
     "execution_count": 105,
     "metadata": {},
     "output_type": "execute_result"
    }
   ],
   "source": [
    "transcript[transcript.event == 'offer completed'].head()"
   ]
  },
  {
   "cell_type": "markdown",
   "metadata": {},
   "source": [
    "The \"event\" column could be Label-encoded but, other than that, there don't seem to be many simple preprocessing actions to take. There is still a lot of data wrangling before having a well posed problem, though.\n",
    "\n",
    "Let's make a dataset that doesn't take into account the particular person or offer, but rather their features."
   ]
  },
  {
   "cell_type": "code",
   "execution_count": 106,
   "metadata": {
    "collapsed": false
   },
   "outputs": [
    {
     "data": {
      "text/html": [
       "<div>\n",
       "<style scoped>\n",
       "    .dataframe tbody tr th:only-of-type {\n",
       "        vertical-align: middle;\n",
       "    }\n",
       "\n",
       "    .dataframe tbody tr th {\n",
       "        vertical-align: top;\n",
       "    }\n",
       "\n",
       "    .dataframe thead th {\n",
       "        text-align: right;\n",
       "    }\n",
       "</style>\n",
       "<table border=\"1\" class=\"dataframe\">\n",
       "  <thead>\n",
       "    <tr style=\"text-align: right;\">\n",
       "      <th></th>\n",
       "      <th>event</th>\n",
       "      <th>time</th>\n",
       "      <th>amount</th>\n",
       "      <th>reward</th>\n",
       "      <th>age</th>\n",
       "      <th>became_member_on</th>\n",
       "      <th>gender</th>\n",
       "      <th>income</th>\n",
       "      <th>missing_demographics</th>\n",
       "      <th>member_since_epoch</th>\n",
       "      <th>difficulty</th>\n",
       "      <th>duration</th>\n",
       "      <th>offer_type</th>\n",
       "      <th>reward_t</th>\n",
       "      <th>channel_web</th>\n",
       "      <th>channel_mobile</th>\n",
       "      <th>channel_email</th>\n",
       "      <th>channel_social</th>\n",
       "    </tr>\n",
       "  </thead>\n",
       "  <tbody>\n",
       "    <tr>\n",
       "      <th>0</th>\n",
       "      <td>offer received</td>\n",
       "      <td>0</td>\n",
       "      <td>NaN</td>\n",
       "      <td>NaN</td>\n",
       "      <td>75.0</td>\n",
       "      <td>2017-05-09</td>\n",
       "      <td>0.0</td>\n",
       "      <td>100000.0</td>\n",
       "      <td>0</td>\n",
       "      <td>17295</td>\n",
       "      <td>5.0</td>\n",
       "      <td>7.0</td>\n",
       "      <td>bogo</td>\n",
       "      <td>5.0</td>\n",
       "      <td>1.0</td>\n",
       "      <td>1.0</td>\n",
       "      <td>1.0</td>\n",
       "      <td>0.0</td>\n",
       "    </tr>\n",
       "    <tr>\n",
       "      <th>1</th>\n",
       "      <td>offer received</td>\n",
       "      <td>0</td>\n",
       "      <td>NaN</td>\n",
       "      <td>NaN</td>\n",
       "      <td>NaN</td>\n",
       "      <td>2017-08-04</td>\n",
       "      <td>NaN</td>\n",
       "      <td>NaN</td>\n",
       "      <td>1</td>\n",
       "      <td>17382</td>\n",
       "      <td>20.0</td>\n",
       "      <td>10.0</td>\n",
       "      <td>discount</td>\n",
       "      <td>5.0</td>\n",
       "      <td>1.0</td>\n",
       "      <td>0.0</td>\n",
       "      <td>1.0</td>\n",
       "      <td>0.0</td>\n",
       "    </tr>\n",
       "    <tr>\n",
       "      <th>2</th>\n",
       "      <td>offer received</td>\n",
       "      <td>0</td>\n",
       "      <td>NaN</td>\n",
       "      <td>NaN</td>\n",
       "      <td>68.0</td>\n",
       "      <td>2018-04-26</td>\n",
       "      <td>1.0</td>\n",
       "      <td>70000.0</td>\n",
       "      <td>0</td>\n",
       "      <td>17647</td>\n",
       "      <td>10.0</td>\n",
       "      <td>7.0</td>\n",
       "      <td>discount</td>\n",
       "      <td>2.0</td>\n",
       "      <td>1.0</td>\n",
       "      <td>1.0</td>\n",
       "      <td>1.0</td>\n",
       "      <td>0.0</td>\n",
       "    </tr>\n",
       "    <tr>\n",
       "      <th>3</th>\n",
       "      <td>offer received</td>\n",
       "      <td>0</td>\n",
       "      <td>NaN</td>\n",
       "      <td>NaN</td>\n",
       "      <td>NaN</td>\n",
       "      <td>2017-09-25</td>\n",
       "      <td>NaN</td>\n",
       "      <td>NaN</td>\n",
       "      <td>1</td>\n",
       "      <td>17434</td>\n",
       "      <td>10.0</td>\n",
       "      <td>10.0</td>\n",
       "      <td>discount</td>\n",
       "      <td>2.0</td>\n",
       "      <td>1.0</td>\n",
       "      <td>1.0</td>\n",
       "      <td>1.0</td>\n",
       "      <td>1.0</td>\n",
       "    </tr>\n",
       "    <tr>\n",
       "      <th>4</th>\n",
       "      <td>offer received</td>\n",
       "      <td>0</td>\n",
       "      <td>NaN</td>\n",
       "      <td>NaN</td>\n",
       "      <td>NaN</td>\n",
       "      <td>2017-10-02</td>\n",
       "      <td>NaN</td>\n",
       "      <td>NaN</td>\n",
       "      <td>1</td>\n",
       "      <td>17441</td>\n",
       "      <td>10.0</td>\n",
       "      <td>5.0</td>\n",
       "      <td>bogo</td>\n",
       "      <td>10.0</td>\n",
       "      <td>1.0</td>\n",
       "      <td>1.0</td>\n",
       "      <td>1.0</td>\n",
       "      <td>1.0</td>\n",
       "    </tr>\n",
       "  </tbody>\n",
       "</table>\n",
       "</div>"
      ],
      "text/plain": [
       "            event  time  amount  reward   age became_member_on  gender  \\\n",
       "0  offer received     0     NaN     NaN  75.0       2017-05-09     0.0   \n",
       "1  offer received     0     NaN     NaN   NaN       2017-08-04     NaN   \n",
       "2  offer received     0     NaN     NaN  68.0       2018-04-26     1.0   \n",
       "3  offer received     0     NaN     NaN   NaN       2017-09-25     NaN   \n",
       "4  offer received     0     NaN     NaN   NaN       2017-10-02     NaN   \n",
       "\n",
       "     income  missing_demographics  member_since_epoch  difficulty  duration  \\\n",
       "0  100000.0                     0               17295         5.0       7.0   \n",
       "1       NaN                     1               17382        20.0      10.0   \n",
       "2   70000.0                     0               17647        10.0       7.0   \n",
       "3       NaN                     1               17434        10.0      10.0   \n",
       "4       NaN                     1               17441        10.0       5.0   \n",
       "\n",
       "  offer_type  reward_t  channel_web  channel_mobile  channel_email  \\\n",
       "0       bogo       5.0          1.0             1.0            1.0   \n",
       "1   discount       5.0          1.0             0.0            1.0   \n",
       "2   discount       2.0          1.0             1.0            1.0   \n",
       "3   discount       2.0          1.0             1.0            1.0   \n",
       "4       bogo      10.0          1.0             1.0            1.0   \n",
       "\n",
       "   channel_social  \n",
       "0             0.0  \n",
       "1             0.0  \n",
       "2             0.0  \n",
       "3             1.0  \n",
       "4             1.0  "
      ]
     },
     "execution_count": 106,
     "metadata": {},
     "output_type": "execute_result"
    }
   ],
   "source": [
    "static_df = pp.join_data(transcript, profile, portfolio)\n",
    "static_df.head()"
   ]
  },
  {
   "cell_type": "code",
   "execution_count": 107,
   "metadata": {
    "collapsed": false
   },
   "outputs": [
    {
     "data": {
      "text/plain": [
       "array([ 7., 10.,  5.,  4.,  3., nan])"
      ]
     },
     "execution_count": 107,
     "metadata": {},
     "output_type": "execute_result"
    }
   ],
   "source": [
    "static_df.duration.unique()"
   ]
  },
  {
   "cell_type": "markdown",
   "metadata": {},
   "source": [
    "### Let's check how often offers are sent to customers, and if the timings are coordinated."
   ]
  },
  {
   "cell_type": "code",
   "execution_count": 108,
   "metadata": {
    "collapsed": false
   },
   "outputs": [
    {
     "data": {
      "text/html": [
       "<div>\n",
       "<style scoped>\n",
       "    .dataframe tbody tr th:only-of-type {\n",
       "        vertical-align: middle;\n",
       "    }\n",
       "\n",
       "    .dataframe tbody tr th {\n",
       "        vertical-align: top;\n",
       "    }\n",
       "\n",
       "    .dataframe thead th {\n",
       "        text-align: right;\n",
       "    }\n",
       "</style>\n",
       "<table border=\"1\" class=\"dataframe\">\n",
       "  <thead>\n",
       "    <tr style=\"text-align: right;\">\n",
       "      <th></th>\n",
       "      <th>event</th>\n",
       "      <th>person</th>\n",
       "      <th>time</th>\n",
       "      <th>amount</th>\n",
       "      <th>offer_id</th>\n",
       "      <th>reward</th>\n",
       "      <th>age</th>\n",
       "      <th>became_member_on</th>\n",
       "      <th>gender</th>\n",
       "      <th>income</th>\n",
       "      <th>missing_demographics</th>\n",
       "      <th>member_since_epoch</th>\n",
       "      <th>difficulty</th>\n",
       "      <th>duration</th>\n",
       "      <th>offer_type</th>\n",
       "      <th>reward_t</th>\n",
       "      <th>channel_web</th>\n",
       "      <th>channel_mobile</th>\n",
       "      <th>channel_email</th>\n",
       "      <th>channel_social</th>\n",
       "    </tr>\n",
       "  </thead>\n",
       "  <tbody>\n",
       "    <tr>\n",
       "      <th>0</th>\n",
       "      <td>offer received</td>\n",
       "      <td>78afa995795e4d85b5d9ceeca43f5fef</td>\n",
       "      <td>0</td>\n",
       "      <td>NaN</td>\n",
       "      <td>9b98b8c7a33c4b65b9aebfe6a799e6d9</td>\n",
       "      <td>NaN</td>\n",
       "      <td>75.0</td>\n",
       "      <td>2017-05-09</td>\n",
       "      <td>0.0</td>\n",
       "      <td>100000.0</td>\n",
       "      <td>0</td>\n",
       "      <td>17295</td>\n",
       "      <td>5.0</td>\n",
       "      <td>7.0</td>\n",
       "      <td>bogo</td>\n",
       "      <td>5.0</td>\n",
       "      <td>1.0</td>\n",
       "      <td>1.0</td>\n",
       "      <td>1.0</td>\n",
       "      <td>0.0</td>\n",
       "    </tr>\n",
       "    <tr>\n",
       "      <th>1</th>\n",
       "      <td>offer received</td>\n",
       "      <td>a03223e636434f42ac4c3df47e8bac43</td>\n",
       "      <td>0</td>\n",
       "      <td>NaN</td>\n",
       "      <td>0b1e1539f2cc45b7b9fa7c272da2e1d7</td>\n",
       "      <td>NaN</td>\n",
       "      <td>NaN</td>\n",
       "      <td>2017-08-04</td>\n",
       "      <td>NaN</td>\n",
       "      <td>NaN</td>\n",
       "      <td>1</td>\n",
       "      <td>17382</td>\n",
       "      <td>20.0</td>\n",
       "      <td>10.0</td>\n",
       "      <td>discount</td>\n",
       "      <td>5.0</td>\n",
       "      <td>1.0</td>\n",
       "      <td>0.0</td>\n",
       "      <td>1.0</td>\n",
       "      <td>0.0</td>\n",
       "    </tr>\n",
       "    <tr>\n",
       "      <th>2</th>\n",
       "      <td>offer received</td>\n",
       "      <td>e2127556f4f64592b11af22de27a7932</td>\n",
       "      <td>0</td>\n",
       "      <td>NaN</td>\n",
       "      <td>2906b810c7d4411798c6938adc9daaa5</td>\n",
       "      <td>NaN</td>\n",
       "      <td>68.0</td>\n",
       "      <td>2018-04-26</td>\n",
       "      <td>1.0</td>\n",
       "      <td>70000.0</td>\n",
       "      <td>0</td>\n",
       "      <td>17647</td>\n",
       "      <td>10.0</td>\n",
       "      <td>7.0</td>\n",
       "      <td>discount</td>\n",
       "      <td>2.0</td>\n",
       "      <td>1.0</td>\n",
       "      <td>1.0</td>\n",
       "      <td>1.0</td>\n",
       "      <td>0.0</td>\n",
       "    </tr>\n",
       "    <tr>\n",
       "      <th>3</th>\n",
       "      <td>offer received</td>\n",
       "      <td>8ec6ce2a7e7949b1bf142def7d0e0586</td>\n",
       "      <td>0</td>\n",
       "      <td>NaN</td>\n",
       "      <td>fafdcd668e3743c1bb461111dcafc2a4</td>\n",
       "      <td>NaN</td>\n",
       "      <td>NaN</td>\n",
       "      <td>2017-09-25</td>\n",
       "      <td>NaN</td>\n",
       "      <td>NaN</td>\n",
       "      <td>1</td>\n",
       "      <td>17434</td>\n",
       "      <td>10.0</td>\n",
       "      <td>10.0</td>\n",
       "      <td>discount</td>\n",
       "      <td>2.0</td>\n",
       "      <td>1.0</td>\n",
       "      <td>1.0</td>\n",
       "      <td>1.0</td>\n",
       "      <td>1.0</td>\n",
       "    </tr>\n",
       "    <tr>\n",
       "      <th>4</th>\n",
       "      <td>offer received</td>\n",
       "      <td>68617ca6246f4fbc85e91a2a49552598</td>\n",
       "      <td>0</td>\n",
       "      <td>NaN</td>\n",
       "      <td>4d5c57ea9a6940dd891ad53e9dbe8da0</td>\n",
       "      <td>NaN</td>\n",
       "      <td>NaN</td>\n",
       "      <td>2017-10-02</td>\n",
       "      <td>NaN</td>\n",
       "      <td>NaN</td>\n",
       "      <td>1</td>\n",
       "      <td>17441</td>\n",
       "      <td>10.0</td>\n",
       "      <td>5.0</td>\n",
       "      <td>bogo</td>\n",
       "      <td>10.0</td>\n",
       "      <td>1.0</td>\n",
       "      <td>1.0</td>\n",
       "      <td>1.0</td>\n",
       "      <td>1.0</td>\n",
       "    </tr>\n",
       "  </tbody>\n",
       "</table>\n",
       "</div>"
      ],
      "text/plain": [
       "            event                            person  time  amount  \\\n",
       "0  offer received  78afa995795e4d85b5d9ceeca43f5fef     0     NaN   \n",
       "1  offer received  a03223e636434f42ac4c3df47e8bac43     0     NaN   \n",
       "2  offer received  e2127556f4f64592b11af22de27a7932     0     NaN   \n",
       "3  offer received  8ec6ce2a7e7949b1bf142def7d0e0586     0     NaN   \n",
       "4  offer received  68617ca6246f4fbc85e91a2a49552598     0     NaN   \n",
       "\n",
       "                           offer_id  reward   age became_member_on  gender  \\\n",
       "0  9b98b8c7a33c4b65b9aebfe6a799e6d9     NaN  75.0       2017-05-09     0.0   \n",
       "1  0b1e1539f2cc45b7b9fa7c272da2e1d7     NaN   NaN       2017-08-04     NaN   \n",
       "2  2906b810c7d4411798c6938adc9daaa5     NaN  68.0       2018-04-26     1.0   \n",
       "3  fafdcd668e3743c1bb461111dcafc2a4     NaN   NaN       2017-09-25     NaN   \n",
       "4  4d5c57ea9a6940dd891ad53e9dbe8da0     NaN   NaN       2017-10-02     NaN   \n",
       "\n",
       "     income  missing_demographics  member_since_epoch  difficulty  duration  \\\n",
       "0  100000.0                     0               17295         5.0       7.0   \n",
       "1       NaN                     1               17382        20.0      10.0   \n",
       "2   70000.0                     0               17647        10.0       7.0   \n",
       "3       NaN                     1               17434        10.0      10.0   \n",
       "4       NaN                     1               17441        10.0       5.0   \n",
       "\n",
       "  offer_type  reward_t  channel_web  channel_mobile  channel_email  \\\n",
       "0       bogo       5.0          1.0             1.0            1.0   \n",
       "1   discount       5.0          1.0             0.0            1.0   \n",
       "2   discount       2.0          1.0             1.0            1.0   \n",
       "3   discount       2.0          1.0             1.0            1.0   \n",
       "4       bogo      10.0          1.0             1.0            1.0   \n",
       "\n",
       "   channel_social  \n",
       "0             0.0  \n",
       "1             0.0  \n",
       "2             0.0  \n",
       "3             1.0  \n",
       "4             1.0  "
      ]
     },
     "execution_count": 108,
     "metadata": {},
     "output_type": "execute_result"
    }
   ],
   "source": [
    "merged_df = pp.join_data(transcript, profile, portfolio, static=False)\n",
    "merged_df.head()"
   ]
  },
  {
   "cell_type": "code",
   "execution_count": 109,
   "metadata": {
    "collapsed": true
   },
   "outputs": [],
   "source": [
    "def get_differences(user_events):\n",
    "    return pd.DataFrame((user_events.time - user_events.time.shift(1)).values)"
   ]
  },
  {
   "cell_type": "code",
   "execution_count": 110,
   "metadata": {
    "collapsed": false
   },
   "outputs": [
    {
     "data": {
      "text/html": [
       "<div>\n",
       "<style scoped>\n",
       "    .dataframe tbody tr th:only-of-type {\n",
       "        vertical-align: middle;\n",
       "    }\n",
       "\n",
       "    .dataframe tbody tr th {\n",
       "        vertical-align: top;\n",
       "    }\n",
       "\n",
       "    .dataframe thead tr th {\n",
       "        text-align: left;\n",
       "    }\n",
       "\n",
       "    .dataframe thead tr:last-of-type th {\n",
       "        text-align: right;\n",
       "    }\n",
       "</style>\n",
       "<table border=\"1\" class=\"dataframe\">\n",
       "  <thead>\n",
       "    <tr>\n",
       "      <th></th>\n",
       "      <th colspan=\"6\" halign=\"left\">diff</th>\n",
       "    </tr>\n",
       "    <tr>\n",
       "      <th></th>\n",
       "      <th>0</th>\n",
       "      <th>1</th>\n",
       "      <th>2</th>\n",
       "      <th>3</th>\n",
       "      <th>4</th>\n",
       "      <th>5</th>\n",
       "    </tr>\n",
       "    <tr>\n",
       "      <th>person</th>\n",
       "      <th></th>\n",
       "      <th></th>\n",
       "      <th></th>\n",
       "      <th></th>\n",
       "      <th></th>\n",
       "      <th></th>\n",
       "    </tr>\n",
       "  </thead>\n",
       "  <tbody>\n",
       "    <tr>\n",
       "      <th>0009655768c64bdeb2e877511632db8f</th>\n",
       "      <td>NaN</td>\n",
       "      <td>168.0</td>\n",
       "      <td>72.0</td>\n",
       "      <td>96.0</td>\n",
       "      <td>72.0</td>\n",
       "      <td>NaN</td>\n",
       "    </tr>\n",
       "    <tr>\n",
       "      <th>00116118485d4dfda04fdbaba9a87b5c</th>\n",
       "      <td>NaN</td>\n",
       "      <td>408.0</td>\n",
       "      <td>NaN</td>\n",
       "      <td>NaN</td>\n",
       "      <td>NaN</td>\n",
       "      <td>NaN</td>\n",
       "    </tr>\n",
       "    <tr>\n",
       "      <th>0011e0d4e6b944f998e987f904e8c1e5</th>\n",
       "      <td>NaN</td>\n",
       "      <td>168.0</td>\n",
       "      <td>168.0</td>\n",
       "      <td>72.0</td>\n",
       "      <td>96.0</td>\n",
       "      <td>NaN</td>\n",
       "    </tr>\n",
       "    <tr>\n",
       "      <th>0020c2b971eb4e9188eac86d93036a77</th>\n",
       "      <td>NaN</td>\n",
       "      <td>168.0</td>\n",
       "      <td>168.0</td>\n",
       "      <td>72.0</td>\n",
       "      <td>96.0</td>\n",
       "      <td>NaN</td>\n",
       "    </tr>\n",
       "    <tr>\n",
       "      <th>0020ccbbb6d84e358d3414a3ff76cffd</th>\n",
       "      <td>NaN</td>\n",
       "      <td>168.0</td>\n",
       "      <td>72.0</td>\n",
       "      <td>96.0</td>\n",
       "      <td>NaN</td>\n",
       "      <td>NaN</td>\n",
       "    </tr>\n",
       "  </tbody>\n",
       "</table>\n",
       "</div>"
      ],
      "text/plain": [
       "                                 diff                              \n",
       "                                    0      1      2     3     4   5\n",
       "person                                                             \n",
       "0009655768c64bdeb2e877511632db8f  NaN  168.0   72.0  96.0  72.0 NaN\n",
       "00116118485d4dfda04fdbaba9a87b5c  NaN  408.0    NaN   NaN   NaN NaN\n",
       "0011e0d4e6b944f998e987f904e8c1e5  NaN  168.0  168.0  72.0  96.0 NaN\n",
       "0020c2b971eb4e9188eac86d93036a77  NaN  168.0  168.0  72.0  96.0 NaN\n",
       "0020ccbbb6d84e358d3414a3ff76cffd  NaN  168.0   72.0  96.0   NaN NaN"
      ]
     },
     "execution_count": 110,
     "metadata": {},
     "output_type": "execute_result"
    }
   ],
   "source": [
    "# \"delays\" shows the time differences between consecutive offers for each\n",
    "# user.\n",
    "sent = merged_df[merged_df.event == 'offer received']\n",
    "delays = sent.groupby('person').apply(get_differences).rename(\n",
    "    columns={0: 'diff'})\n",
    "delays = delays.unstack()\n",
    "delays.head()"
   ]
  },
  {
   "cell_type": "code",
   "execution_count": 111,
   "metadata": {
    "collapsed": false
   },
   "outputs": [
    {
     "data": {
      "text/plain": [
       "Text(0.5, 1.0, 'Time difference between two consecutive offers, for each user')"
      ]
     },
     "execution_count": 111,
     "metadata": {},
     "output_type": "execute_result"
    },
    {
     "data": {
      "image/png": "[encoded data removed]",
      "text/plain": [
       "<Figure size 1440x720 with 1 Axes>"
      ]
     },
     "metadata": {},
     "output_type": "display_data"
    }
   ],
   "source": [
    "diffs = delays.values.flatten()\n",
    "diffs = diffs[~np.isnan(diffs)]\n",
    "diffs = pd.Series(diffs)\n",
    "diffs.hist(bins=50)\n",
    "plt.title('Time difference between two consecutive offers, for each user')"
   ]
  },
  {
   "cell_type": "code",
   "execution_count": 112,
   "metadata": {
    "collapsed": false
   },
   "outputs": [
    {
     "data": {
      "text/plain": [
       "168.0    23754\n",
       "72.0     19109\n",
       "96.0      9557\n",
       "336.0     2942\n",
       "240.0     2908\n",
       "408.0      810\n",
       "504.0      156\n",
       "576.0       47\n",
       "dtype: int64"
      ]
     },
     "execution_count": 112,
     "metadata": {},
     "output_type": "execute_result"
    }
   ],
   "source": [
    "diffs.value_counts()"
   ]
  },
  {
   "cell_type": "code",
   "execution_count": 113,
   "metadata": {
    "collapsed": false
   },
   "outputs": [
    {
     "data": {
      "text/plain": [
       "array([ 72.,  96., 168., 240., 336., 408., 504., 576.])"
      ]
     },
     "execution_count": 113,
     "metadata": {},
     "output_type": "execute_result"
    }
   ],
   "source": [
    "d_vals = diffs.sort_values().unique()\n",
    "d_vals"
   ]
  },
  {
   "cell_type": "code",
   "execution_count": 114,
   "metadata": {
    "collapsed": false
   },
   "outputs": [
    {
     "data": {
      "text/plain": [
       "array([24., 72., 72., 96., 72., 96., 72.])"
      ]
     },
     "execution_count": 114,
     "metadata": {},
     "output_type": "execute_result"
    }
   ],
   "source": [
    "d_vals[1:] - d_vals[:-1]"
   ]
  },
  {
   "cell_type": "markdown",
   "metadata": {},
   "source": [
    "### The offers are being clearly sent in a coordinated fashion, and sent in very specific times. The times are multiples of 24. Let's investigate further."
   ]
  },
  {
   "cell_type": "code",
   "execution_count": 115,
   "metadata": {
    "collapsed": false
   },
   "outputs": [
    {
     "data": {
      "text/html": [
       "<div>\n",
       "<style scoped>\n",
       "    .dataframe tbody tr th:only-of-type {\n",
       "        vertical-align: middle;\n",
       "    }\n",
       "\n",
       "    .dataframe tbody tr th {\n",
       "        vertical-align: top;\n",
       "    }\n",
       "\n",
       "    .dataframe thead tr th {\n",
       "        text-align: left;\n",
       "    }\n",
       "\n",
       "    .dataframe thead tr:last-of-type th {\n",
       "        text-align: right;\n",
       "    }\n",
       "</style>\n",
       "<table border=\"1\" class=\"dataframe\">\n",
       "  <thead>\n",
       "    <tr>\n",
       "      <th></th>\n",
       "      <th colspan=\"6\" halign=\"left\">times</th>\n",
       "    </tr>\n",
       "    <tr>\n",
       "      <th></th>\n",
       "      <th>0</th>\n",
       "      <th>1</th>\n",
       "      <th>2</th>\n",
       "      <th>3</th>\n",
       "      <th>4</th>\n",
       "      <th>5</th>\n",
       "    </tr>\n",
       "    <tr>\n",
       "      <th>person</th>\n",
       "      <th></th>\n",
       "      <th></th>\n",
       "      <th></th>\n",
       "      <th></th>\n",
       "      <th></th>\n",
       "      <th></th>\n",
       "    </tr>\n",
       "  </thead>\n",
       "  <tbody>\n",
       "    <tr>\n",
       "      <th>0009655768c64bdeb2e877511632db8f</th>\n",
       "      <td>168.0</td>\n",
       "      <td>336.0</td>\n",
       "      <td>408.0</td>\n",
       "      <td>504.0</td>\n",
       "      <td>576.0</td>\n",
       "      <td>NaN</td>\n",
       "    </tr>\n",
       "    <tr>\n",
       "      <th>00116118485d4dfda04fdbaba9a87b5c</th>\n",
       "      <td>168.0</td>\n",
       "      <td>576.0</td>\n",
       "      <td>NaN</td>\n",
       "      <td>NaN</td>\n",
       "      <td>NaN</td>\n",
       "      <td>NaN</td>\n",
       "    </tr>\n",
       "    <tr>\n",
       "      <th>0011e0d4e6b944f998e987f904e8c1e5</th>\n",
       "      <td>0.0</td>\n",
       "      <td>168.0</td>\n",
       "      <td>336.0</td>\n",
       "      <td>408.0</td>\n",
       "      <td>504.0</td>\n",
       "      <td>NaN</td>\n",
       "    </tr>\n",
       "    <tr>\n",
       "      <th>0020c2b971eb4e9188eac86d93036a77</th>\n",
       "      <td>0.0</td>\n",
       "      <td>168.0</td>\n",
       "      <td>336.0</td>\n",
       "      <td>408.0</td>\n",
       "      <td>504.0</td>\n",
       "      <td>NaN</td>\n",
       "    </tr>\n",
       "    <tr>\n",
       "      <th>0020ccbbb6d84e358d3414a3ff76cffd</th>\n",
       "      <td>168.0</td>\n",
       "      <td>336.0</td>\n",
       "      <td>408.0</td>\n",
       "      <td>504.0</td>\n",
       "      <td>NaN</td>\n",
       "      <td>NaN</td>\n",
       "    </tr>\n",
       "  </tbody>\n",
       "</table>\n",
       "</div>"
      ],
      "text/plain": [
       "                                  times                                \n",
       "                                      0      1      2      3      4   5\n",
       "person                                                                 \n",
       "0009655768c64bdeb2e877511632db8f  168.0  336.0  408.0  504.0  576.0 NaN\n",
       "00116118485d4dfda04fdbaba9a87b5c  168.0  576.0    NaN    NaN    NaN NaN\n",
       "0011e0d4e6b944f998e987f904e8c1e5    0.0  168.0  336.0  408.0  504.0 NaN\n",
       "0020c2b971eb4e9188eac86d93036a77    0.0  168.0  336.0  408.0  504.0 NaN\n",
       "0020ccbbb6d84e358d3414a3ff76cffd  168.0  336.0  408.0  504.0    NaN NaN"
      ]
     },
     "execution_count": 115,
     "metadata": {},
     "output_type": "execute_result"
    }
   ],
   "source": [
    "# Times contains the time at which each offer was sent\n",
    "times = sent.groupby('person').apply(lambda x: pd.DataFrame(x.time.values)).rename(\n",
    "    columns={0: 'times'}).unstack()\n",
    "times.head()"
   ]
  },
  {
   "cell_type": "code",
   "execution_count": 116,
   "metadata": {
    "collapsed": false
   },
   "outputs": [
    {
     "data": {
      "text/plain": [
       "<matplotlib.axes._subplots.AxesSubplot at 0x7f5c8058af98>"
      ]
     },
     "execution_count": 116,
     "metadata": {},
     "output_type": "execute_result"
    },
    {
     "data": {
      "image/png": "[encoded data removed]",
      "text/plain": [
       "<Figure size 1440x720 with 1 Axes>"
      ]
     },
     "metadata": {},
     "output_type": "display_data"
    }
   ],
   "source": [
    "send_times = times.values.flatten()\n",
    "send_times = pd.Series(send_times[~np.isnan(send_times)])\n",
    "send_times.hist(bins=50)"
   ]
  },
  {
   "cell_type": "code",
   "execution_count": 117,
   "metadata": {
    "collapsed": false
   },
   "outputs": [
    {
     "data": {
      "text/plain": [
       "408.0    12778\n",
       "576.0    12765\n",
       "336.0    12711\n",
       "504.0    12704\n",
       "168.0    12669\n",
       "0.0      12650\n",
       "dtype: int64"
      ]
     },
     "execution_count": 117,
     "metadata": {},
     "output_type": "execute_result"
    }
   ],
   "source": [
    "send_times.value_counts()"
   ]
  },
  {
   "cell_type": "markdown",
   "metadata": {},
   "source": [
    "Let's check if they are all multiples of 24."
   ]
  },
  {
   "cell_type": "code",
   "execution_count": 118,
   "metadata": {
    "collapsed": false
   },
   "outputs": [
    {
     "data": {
      "text/plain": [
       "array([ 0.,  7., 14., 17., 21., 24.])"
      ]
     },
     "execution_count": 118,
     "metadata": {},
     "output_type": "execute_result"
    }
   ],
   "source": [
    "time_values = send_times.sort_values().unique()\n",
    "time_values / 24"
   ]
  },
  {
   "cell_type": "markdown",
   "metadata": {},
   "source": [
    "Indeed, all the sending times are multiples of 24 (one day)."
   ]
  },
  {
   "cell_type": "markdown",
   "metadata": {},
   "source": [
    "### Let's look at the transactions in time, and the effect of the offers."
   ]
  },
  {
   "cell_type": "code",
   "execution_count": 119,
   "metadata": {
    "collapsed": false
   },
   "outputs": [
    {
     "data": {
      "text/plain": [
       "<matplotlib.axes._subplots.AxesSubplot at 0x7f5c929afe10>"
      ]
     },
     "execution_count": 119,
     "metadata": {},
     "output_type": "execute_result"
    },
    {
     "data": {
      "image/png": "[encoded data removed]",
      "text/plain": [
       "<Figure size 1440x720 with 1 Axes>"
      ]
     },
     "metadata": {},
     "output_type": "display_data"
    }
   ],
   "source": [
    "transactions = merged_df[merged_df.event == 'transaction']\n",
    "transactions.time.hist(bins=50)"
   ]
  },
  {
   "cell_type": "code",
   "execution_count": 120,
   "metadata": {
    "collapsed": false
   },
   "outputs": [
    {
     "data": {
      "text/plain": [
       "time\n",
       "0     633\n",
       "6     797\n",
       "12    850\n",
       "18    879\n",
       "24    922\n",
       "Name: time, dtype: int64"
      ]
     },
     "execution_count": 120,
     "metadata": {},
     "output_type": "execute_result"
    }
   ],
   "source": [
    "transaction_t_values = transactions.groupby('time').time.count()\n",
    "transaction_t_values.head()"
   ]
  },
  {
   "cell_type": "markdown",
   "metadata": {},
   "source": [
    "Transaction times go in steps of size 6, which is the minimum \"tick\" of simulator (or at least of the dataset provided). That means that transactions occur at any time of the day.\n",
    "\n",
    "Let's look at the effects of the offers in transactions."
   ]
  },
  {
   "cell_type": "code",
   "execution_count": 121,
   "metadata": {
    "collapsed": false
   },
   "outputs": [
    {
     "data": {
      "image/png": "[encoded data removed]",
      "text/plain": [
       "<Figure size 1440x720 with 1 Axes>"
      ]
     },
     "metadata": {},
     "output_type": "display_data"
    }
   ],
   "source": [
    "transaction_t_values.plot()\n",
    "for time_value in time_values:\n",
    "    plt.vlines(time_value, \n",
    "               transaction_t_values.min(),\n",
    "               transaction_t_values.max(), 'r', label='offers sending')\n",
    "plt.title('Amount of transactions and offers sending times')"
   ]
  },
  {
   "cell_type": "markdown",
   "metadata": {},
   "source": [
    "The advertising seems to be having a positive effect, overall. Also, that effect seems to last more than 168 hours after the start of the offer, which is about 7 days. Some offers have a duration of 10 days.\n",
    "\n",
    "That means that there could be overlapping between the effects of one offer and the next. That should be checked.\n",
    "\n",
    "Initially, at least, the effect of an offer will be assessed in one particular client, although it is clear that some offers also affect the behavior of other clients. In particular BOGO offers seem to be very suitable to acquire new clients, when an existing customer invites a coffe (\"for free\") to another person, for example. Perhaps, in future notebooks that effect will be considered, but not initially."
   ]
  },
  {
   "cell_type": "markdown",
   "metadata": {},
   "source": [
    "### Is there any overlapping between the effects of offers?\n",
    "\n",
    "Let's study one case (if there is overlapping in that case, we will know that the simulator makes offers that may overlap. If not, we may look at other customers or find a general procedure to find overlapping in the full dataset.)."
   ]
  },
  {
   "cell_type": "code",
   "execution_count": 122,
   "metadata": {
    "collapsed": false
   },
   "outputs": [
    {
     "data": {
      "text/html": [
       "<div>\n",
       "<style scoped>\n",
       "    .dataframe tbody tr th:only-of-type {\n",
       "        vertical-align: middle;\n",
       "    }\n",
       "\n",
       "    .dataframe tbody tr th {\n",
       "        vertical-align: top;\n",
       "    }\n",
       "\n",
       "    .dataframe thead th {\n",
       "        text-align: right;\n",
       "    }\n",
       "</style>\n",
       "<table border=\"1\" class=\"dataframe\">\n",
       "  <thead>\n",
       "    <tr style=\"text-align: right;\">\n",
       "      <th></th>\n",
       "      <th>event</th>\n",
       "      <th>time</th>\n",
       "      <th>duration</th>\n",
       "      <th>offer_id</th>\n",
       "      <th>expected_finish</th>\n",
       "    </tr>\n",
       "  </thead>\n",
       "  <tbody>\n",
       "    <tr>\n",
       "      <th>0</th>\n",
       "      <td>offer received</td>\n",
       "      <td>0</td>\n",
       "      <td>7.0</td>\n",
       "      <td>9b98b8c7a33c4b65b9aebfe6a799e6d9</td>\n",
       "      <td>168.0</td>\n",
       "    </tr>\n",
       "    <tr>\n",
       "      <th>53176</th>\n",
       "      <td>offer received</td>\n",
       "      <td>168</td>\n",
       "      <td>3.0</td>\n",
       "      <td>5a8bc65990b245e5a138643cd4eb9837</td>\n",
       "      <td>240.0</td>\n",
       "    </tr>\n",
       "    <tr>\n",
       "      <th>150598</th>\n",
       "      <td>offer received</td>\n",
       "      <td>408</td>\n",
       "      <td>7.0</td>\n",
       "      <td>ae264e3637204a6fb9bb56bc8210ddfd</td>\n",
       "      <td>576.0</td>\n",
       "    </tr>\n",
       "    <tr>\n",
       "      <th>201572</th>\n",
       "      <td>offer received</td>\n",
       "      <td>504</td>\n",
       "      <td>5.0</td>\n",
       "      <td>f19421c1d4aa40978ebb69ca19b0e20d</td>\n",
       "      <td>624.0</td>\n",
       "    </tr>\n",
       "  </tbody>\n",
       "</table>\n",
       "</div>"
      ],
      "text/plain": [
       "                 event  time  duration                          offer_id  \\\n",
       "0       offer received     0       7.0  9b98b8c7a33c4b65b9aebfe6a799e6d9   \n",
       "53176   offer received   168       3.0  5a8bc65990b245e5a138643cd4eb9837   \n",
       "150598  offer received   408       7.0  ae264e3637204a6fb9bb56bc8210ddfd   \n",
       "201572  offer received   504       5.0  f19421c1d4aa40978ebb69ca19b0e20d   \n",
       "\n",
       "        expected_finish  \n",
       "0                 168.0  \n",
       "53176             240.0  \n",
       "150598            576.0  \n",
       "201572            624.0  "
      ]
     },
     "execution_count": 122,
     "metadata": {},
     "output_type": "execute_result"
    }
   ],
   "source": [
    "person = merged_df[merged_df.person == merged_df.person[0]]\n",
    "offers = person[person.event.isin(['offer received', 'offer completed'])]\n",
    "offers = offers[['event', 'time', 'duration', 'offer_id']]\n",
    "reception = offers[offers.event == 'offer received'].copy()\n",
    "reception['expected_finish'] = reception.time + 24 * reception.duration\n",
    "reception"
   ]
  },
  {
   "cell_type": "code",
   "execution_count": 123,
   "metadata": {
    "collapsed": false
   },
   "outputs": [
    {
     "data": {
      "text/plain": [
       "[<matplotlib.lines.Line2D at 0x7f5c822b85c0>]"
      ]
     },
     "execution_count": 123,
     "metadata": {},
     "output_type": "execute_result"
    },
    {
     "data": {
      "image/png": "[encoded data removed]",
      "text/plain": [
       "<Figure size 1440x720 with 1 Axes>"
      ]
     },
     "metadata": {},
     "output_type": "display_data"
    }
   ],
   "source": [
    "# This plots the times while each offer is \"active\".\n",
    "for idx, row in reception.iterrows():\n",
    "    x = np.arange(merged_df.time.max()).astype(int)  # Total time\n",
    "    x_on = np.arange(row.time, row.expected_finish).astype(int)  # Time when the offer is \"active\"\n",
    "    y = np.zeros(merged_df.time.max())\n",
    "    y[x_on] = 1\n",
    "    plt.plot(x, y)\n",
    "\n",
    "spending = np.zeros(merged_df.time.max())\n",
    "spending[person.time] = person.amount\n",
    "plt.plot(x, spending / spending.sum())"
   ]
  },
  {
   "cell_type": "markdown",
   "metadata": {},
   "source": [
    "There is clear overlapping in that case. That suggests that overlapping of offer effects is not a rare phenomenon, and will obviously introduce some distortions."
   ]
  },
  {
   "cell_type": "markdown",
   "metadata": {},
   "source": [
    "# 2. Preprocessing <a id='preprocessing'></a>\n",
    "[Top](#top)"
   ]
  },
  {
   "cell_type": "markdown",
   "metadata": {},
   "source": [
    "Based on what was seen in the EDA, some functions were implemented to preprocess the raw data. The initial functions preprocess the data individually, and then other functions create a \"static\" dataset. It is \"static\" in the sense that it is created to be useful under the assumption that the customers' behavior is stationary, and that an estimator can ignore the \"absolute\" time feature.\n",
    "\n",
    "The preprocessing process will be shown below, using the implemented functions. After that, the full process can be run by calling just two functions:\n",
    " - basic_preprocessing\n",
    " - generate_static_dataset"
   ]
  },
  {
   "cell_type": "code",
   "execution_count": 124,
   "metadata": {
    "collapsed": true
   },
   "outputs": [],
   "source": [
    "%reset -f"
   ]
  },
  {
   "cell_type": "code",
   "execution_count": 125,
   "metadata": {
    "collapsed": false
   },
   "outputs": [
    {
     "name": "stdout",
     "output_type": "stream",
     "text": [
      "The autoreload extension is already loaded. To reload it, use:\n",
      "  %reload_ext autoreload\n"
     ]
    }
   ],
   "source": [
    "import pandas as pd\n",
    "import numpy as np\n",
    "import math\n",
    "import json\n",
    "import os\n",
    "import matplotlib.pyplot as plt\n",
    "%matplotlib inline\n",
    "\n",
    "%load_ext autoreload\n",
    "%autoreload 2\n",
    "\n",
    "from jupyterthemes import jtplot\n",
    "jtplot.style(theme='solarizedd')\n",
    "plt.rcParams['figure.figsize'] = (20.0, 10.0)\n",
    "\n",
    "import data_utils_mt.utils as utils\n",
    "import seaborn as sns\n",
    "from sklearn.preprocessing import LabelEncoder\n",
    "import datetime as dt\n",
    "\n",
    "ROOT_DIR = '..'\n",
    "DATA_DIR = os.path.join(ROOT_DIR, 'data')\n",
    "DATA_RAW = os.path.join(DATA_DIR, 'raw')\n",
    "DATA_INTERIM = os.path.join(DATA_DIR, 'interim')\n",
    "DATA_EXTERNAL = os.path.join(DATA_DIR, 'external')\n",
    "DATA_PROCESSED = os.path.join(DATA_DIR, 'processed')\n",
    "SRC = os.path.join(ROOT_DIR, 'src')\n",
    "\n",
    "import sys\n",
    "sys.path.append(SRC)\n",
    "\n",
    "import src.data.preprocessing as pp"
   ]
  },
  {
   "cell_type": "code",
   "execution_count": 126,
   "metadata": {
    "collapsed": true
   },
   "outputs": [],
   "source": [
    "# read in the json files\n",
    "portfolio = pd.read_json(os.path.join(DATA_RAW, 'portfolio.json'), orient='records', lines=True)\n",
    "profile = pd.read_json(os.path.join(DATA_RAW, 'profile.json'), orient='records', lines=True)\n",
    "transcript = pd.read_json(os.path.join(DATA_RAW, 'transcript.json'), orient='records', lines=True)"
   ]
  },
  {
   "cell_type": "markdown",
   "metadata": {},
   "source": [
    "## 2.1 Basic Preprocessing <a id='basic_preprocessing'></a>\n",
    "[Top](#top)"
   ]
  },
  {
   "cell_type": "markdown",
   "metadata": {},
   "source": [
    "### Portfolio: One hot encode the offers' channels"
   ]
  },
  {
   "cell_type": "code",
   "execution_count": 127,
   "metadata": {
    "collapsed": false
   },
   "outputs": [
    {
     "data": {
      "text/html": [
       "<div>\n",
       "<style scoped>\n",
       "    .dataframe tbody tr th:only-of-type {\n",
       "        vertical-align: middle;\n",
       "    }\n",
       "\n",
       "    .dataframe tbody tr th {\n",
       "        vertical-align: top;\n",
       "    }\n",
       "\n",
       "    .dataframe thead th {\n",
       "        text-align: right;\n",
       "    }\n",
       "</style>\n",
       "<table border=\"1\" class=\"dataframe\">\n",
       "  <thead>\n",
       "    <tr style=\"text-align: right;\">\n",
       "      <th></th>\n",
       "      <th>difficulty</th>\n",
       "      <th>duration</th>\n",
       "      <th>id</th>\n",
       "      <th>offer_type</th>\n",
       "      <th>reward</th>\n",
       "      <th>channel_web</th>\n",
       "      <th>channel_mobile</th>\n",
       "      <th>channel_email</th>\n",
       "      <th>channel_social</th>\n",
       "    </tr>\n",
       "  </thead>\n",
       "  <tbody>\n",
       "    <tr>\n",
       "      <th>0</th>\n",
       "      <td>10</td>\n",
       "      <td>7</td>\n",
       "      <td>ae264e3637204a6fb9bb56bc8210ddfd</td>\n",
       "      <td>bogo</td>\n",
       "      <td>10</td>\n",
       "      <td>0</td>\n",
       "      <td>1</td>\n",
       "      <td>1</td>\n",
       "      <td>1</td>\n",
       "    </tr>\n",
       "    <tr>\n",
       "      <th>1</th>\n",
       "      <td>10</td>\n",
       "      <td>5</td>\n",
       "      <td>4d5c57ea9a6940dd891ad53e9dbe8da0</td>\n",
       "      <td>bogo</td>\n",
       "      <td>10</td>\n",
       "      <td>1</td>\n",
       "      <td>1</td>\n",
       "      <td>1</td>\n",
       "      <td>1</td>\n",
       "    </tr>\n",
       "    <tr>\n",
       "      <th>2</th>\n",
       "      <td>0</td>\n",
       "      <td>4</td>\n",
       "      <td>3f207df678b143eea3cee63160fa8bed</td>\n",
       "      <td>informational</td>\n",
       "      <td>0</td>\n",
       "      <td>1</td>\n",
       "      <td>1</td>\n",
       "      <td>1</td>\n",
       "      <td>0</td>\n",
       "    </tr>\n",
       "    <tr>\n",
       "      <th>3</th>\n",
       "      <td>5</td>\n",
       "      <td>7</td>\n",
       "      <td>9b98b8c7a33c4b65b9aebfe6a799e6d9</td>\n",
       "      <td>bogo</td>\n",
       "      <td>5</td>\n",
       "      <td>1</td>\n",
       "      <td>1</td>\n",
       "      <td>1</td>\n",
       "      <td>0</td>\n",
       "    </tr>\n",
       "    <tr>\n",
       "      <th>4</th>\n",
       "      <td>20</td>\n",
       "      <td>10</td>\n",
       "      <td>0b1e1539f2cc45b7b9fa7c272da2e1d7</td>\n",
       "      <td>discount</td>\n",
       "      <td>5</td>\n",
       "      <td>1</td>\n",
       "      <td>0</td>\n",
       "      <td>1</td>\n",
       "      <td>0</td>\n",
       "    </tr>\n",
       "    <tr>\n",
       "      <th>5</th>\n",
       "      <td>7</td>\n",
       "      <td>7</td>\n",
       "      <td>2298d6c36e964ae4a3e7e9706d1fb8c2</td>\n",
       "      <td>discount</td>\n",
       "      <td>3</td>\n",
       "      <td>1</td>\n",
       "      <td>1</td>\n",
       "      <td>1</td>\n",
       "      <td>1</td>\n",
       "    </tr>\n",
       "    <tr>\n",
       "      <th>6</th>\n",
       "      <td>10</td>\n",
       "      <td>10</td>\n",
       "      <td>fafdcd668e3743c1bb461111dcafc2a4</td>\n",
       "      <td>discount</td>\n",
       "      <td>2</td>\n",
       "      <td>1</td>\n",
       "      <td>1</td>\n",
       "      <td>1</td>\n",
       "      <td>1</td>\n",
       "    </tr>\n",
       "    <tr>\n",
       "      <th>7</th>\n",
       "      <td>0</td>\n",
       "      <td>3</td>\n",
       "      <td>5a8bc65990b245e5a138643cd4eb9837</td>\n",
       "      <td>informational</td>\n",
       "      <td>0</td>\n",
       "      <td>0</td>\n",
       "      <td>1</td>\n",
       "      <td>1</td>\n",
       "      <td>1</td>\n",
       "    </tr>\n",
       "    <tr>\n",
       "      <th>8</th>\n",
       "      <td>5</td>\n",
       "      <td>5</td>\n",
       "      <td>f19421c1d4aa40978ebb69ca19b0e20d</td>\n",
       "      <td>bogo</td>\n",
       "      <td>5</td>\n",
       "      <td>1</td>\n",
       "      <td>1</td>\n",
       "      <td>1</td>\n",
       "      <td>1</td>\n",
       "    </tr>\n",
       "    <tr>\n",
       "      <th>9</th>\n",
       "      <td>10</td>\n",
       "      <td>7</td>\n",
       "      <td>2906b810c7d4411798c6938adc9daaa5</td>\n",
       "      <td>discount</td>\n",
       "      <td>2</td>\n",
       "      <td>1</td>\n",
       "      <td>1</td>\n",
       "      <td>1</td>\n",
       "      <td>0</td>\n",
       "    </tr>\n",
       "  </tbody>\n",
       "</table>\n",
       "</div>"
      ],
      "text/plain": [
       "   difficulty  duration                                id     offer_type  \\\n",
       "0          10         7  ae264e3637204a6fb9bb56bc8210ddfd           bogo   \n",
       "1          10         5  4d5c57ea9a6940dd891ad53e9dbe8da0           bogo   \n",
       "2           0         4  3f207df678b143eea3cee63160fa8bed  informational   \n",
       "3           5         7  9b98b8c7a33c4b65b9aebfe6a799e6d9           bogo   \n",
       "4          20        10  0b1e1539f2cc45b7b9fa7c272da2e1d7       discount   \n",
       "5           7         7  2298d6c36e964ae4a3e7e9706d1fb8c2       discount   \n",
       "6          10        10  fafdcd668e3743c1bb461111dcafc2a4       discount   \n",
       "7           0         3  5a8bc65990b245e5a138643cd4eb9837  informational   \n",
       "8           5         5  f19421c1d4aa40978ebb69ca19b0e20d           bogo   \n",
       "9          10         7  2906b810c7d4411798c6938adc9daaa5       discount   \n",
       "\n",
       "   reward  channel_web  channel_mobile  channel_email  channel_social  \n",
       "0      10            0               1              1               1  \n",
       "1      10            1               1              1               1  \n",
       "2       0            1               1              1               0  \n",
       "3       5            1               1              1               0  \n",
       "4       5            1               0              1               0  \n",
       "5       3            1               1              1               1  \n",
       "6       2            1               1              1               1  \n",
       "7       0            0               1              1               1  \n",
       "8       5            1               1              1               1  \n",
       "9       2            1               1              1               0  "
      ]
     },
     "execution_count": 127,
     "metadata": {},
     "output_type": "execute_result"
    }
   ],
   "source": [
    "portfolio = pp.process_portfolio(portfolio)\n",
    "portfolio"
   ]
  },
  {
   "cell_type": "markdown",
   "metadata": {},
   "source": [
    "### Profile: Substitute 118 with NaN, format dates, create date feature, add \"missing demographics\" feature"
   ]
  },
  {
   "cell_type": "code",
   "execution_count": 128,
   "metadata": {
    "collapsed": false
   },
   "outputs": [
    {
     "name": "stdout",
     "output_type": "stream",
     "text": [
      "(17000, 7)\n"
     ]
    },
    {
     "data": {
      "text/html": [
       "<div>\n",
       "<style scoped>\n",
       "    .dataframe tbody tr th:only-of-type {\n",
       "        vertical-align: middle;\n",
       "    }\n",
       "\n",
       "    .dataframe tbody tr th {\n",
       "        vertical-align: top;\n",
       "    }\n",
       "\n",
       "    .dataframe thead th {\n",
       "        text-align: right;\n",
       "    }\n",
       "</style>\n",
       "<table border=\"1\" class=\"dataframe\">\n",
       "  <thead>\n",
       "    <tr style=\"text-align: right;\">\n",
       "      <th></th>\n",
       "      <th>age</th>\n",
       "      <th>became_member_on</th>\n",
       "      <th>gender</th>\n",
       "      <th>id</th>\n",
       "      <th>income</th>\n",
       "      <th>missing_demographics</th>\n",
       "      <th>member_epoch_days</th>\n",
       "    </tr>\n",
       "  </thead>\n",
       "  <tbody>\n",
       "    <tr>\n",
       "      <th>0</th>\n",
       "      <td>NaN</td>\n",
       "      <td>2017-02-12</td>\n",
       "      <td>None</td>\n",
       "      <td>68be06ca386d4c31939f3a4f0e3dd783</td>\n",
       "      <td>NaN</td>\n",
       "      <td>1</td>\n",
       "      <td>17209</td>\n",
       "    </tr>\n",
       "    <tr>\n",
       "      <th>1</th>\n",
       "      <td>55.0</td>\n",
       "      <td>2017-07-15</td>\n",
       "      <td>F</td>\n",
       "      <td>0610b486422d4921ae7d2bf64640c50b</td>\n",
       "      <td>112000.0</td>\n",
       "      <td>0</td>\n",
       "      <td>17362</td>\n",
       "    </tr>\n",
       "    <tr>\n",
       "      <th>2</th>\n",
       "      <td>NaN</td>\n",
       "      <td>2018-07-12</td>\n",
       "      <td>None</td>\n",
       "      <td>38fe809add3b4fcf9315a9694bb96ff5</td>\n",
       "      <td>NaN</td>\n",
       "      <td>1</td>\n",
       "      <td>17724</td>\n",
       "    </tr>\n",
       "    <tr>\n",
       "      <th>3</th>\n",
       "      <td>75.0</td>\n",
       "      <td>2017-05-09</td>\n",
       "      <td>F</td>\n",
       "      <td>78afa995795e4d85b5d9ceeca43f5fef</td>\n",
       "      <td>100000.0</td>\n",
       "      <td>0</td>\n",
       "      <td>17295</td>\n",
       "    </tr>\n",
       "    <tr>\n",
       "      <th>4</th>\n",
       "      <td>NaN</td>\n",
       "      <td>2017-08-04</td>\n",
       "      <td>None</td>\n",
       "      <td>a03223e636434f42ac4c3df47e8bac43</td>\n",
       "      <td>NaN</td>\n",
       "      <td>1</td>\n",
       "      <td>17382</td>\n",
       "    </tr>\n",
       "  </tbody>\n",
       "</table>\n",
       "</div>"
      ],
      "text/plain": [
       "    age became_member_on gender                                id    income  \\\n",
       "0   NaN       2017-02-12   None  68be06ca386d4c31939f3a4f0e3dd783       NaN   \n",
       "1  55.0       2017-07-15      F  0610b486422d4921ae7d2bf64640c50b  112000.0   \n",
       "2   NaN       2018-07-12   None  38fe809add3b4fcf9315a9694bb96ff5       NaN   \n",
       "3  75.0       2017-05-09      F  78afa995795e4d85b5d9ceeca43f5fef  100000.0   \n",
       "4   NaN       2017-08-04   None  a03223e636434f42ac4c3df47e8bac43       NaN   \n",
       "\n",
       "   missing_demographics  member_epoch_days  \n",
       "0                     1              17209  \n",
       "1                     0              17362  \n",
       "2                     1              17724  \n",
       "3                     0              17295  \n",
       "4                     1              17382  "
      ]
     },
     "execution_count": 128,
     "metadata": {},
     "output_type": "execute_result"
    }
   ],
   "source": [
    "profile = pp.process_profile(profile)\n",
    "print(profile.shape)\n",
    "profile.head()"
   ]
  },
  {
   "cell_type": "markdown",
   "metadata": {},
   "source": [
    "### Transcript: Unwrap the \"value\" dictionaries"
   ]
  },
  {
   "cell_type": "code",
   "execution_count": 129,
   "metadata": {
    "collapsed": false
   },
   "outputs": [
    {
     "name": "stdout",
     "output_type": "stream",
     "text": [
      "(306534, 6)\n"
     ]
    },
    {
     "data": {
      "text/html": [
       "<div>\n",
       "<style scoped>\n",
       "    .dataframe tbody tr th:only-of-type {\n",
       "        vertical-align: middle;\n",
       "    }\n",
       "\n",
       "    .dataframe tbody tr th {\n",
       "        vertical-align: top;\n",
       "    }\n",
       "\n",
       "    .dataframe thead th {\n",
       "        text-align: right;\n",
       "    }\n",
       "</style>\n",
       "<table border=\"1\" class=\"dataframe\">\n",
       "  <thead>\n",
       "    <tr style=\"text-align: right;\">\n",
       "      <th></th>\n",
       "      <th>event</th>\n",
       "      <th>person</th>\n",
       "      <th>time</th>\n",
       "      <th>amount</th>\n",
       "      <th>offer_id</th>\n",
       "      <th>reward</th>\n",
       "    </tr>\n",
       "  </thead>\n",
       "  <tbody>\n",
       "    <tr>\n",
       "      <th>0</th>\n",
       "      <td>offer received</td>\n",
       "      <td>78afa995795e4d85b5d9ceeca43f5fef</td>\n",
       "      <td>0</td>\n",
       "      <td>NaN</td>\n",
       "      <td>9b98b8c7a33c4b65b9aebfe6a799e6d9</td>\n",
       "      <td>NaN</td>\n",
       "    </tr>\n",
       "    <tr>\n",
       "      <th>1</th>\n",
       "      <td>offer received</td>\n",
       "      <td>a03223e636434f42ac4c3df47e8bac43</td>\n",
       "      <td>0</td>\n",
       "      <td>NaN</td>\n",
       "      <td>0b1e1539f2cc45b7b9fa7c272da2e1d7</td>\n",
       "      <td>NaN</td>\n",
       "    </tr>\n",
       "    <tr>\n",
       "      <th>2</th>\n",
       "      <td>offer received</td>\n",
       "      <td>e2127556f4f64592b11af22de27a7932</td>\n",
       "      <td>0</td>\n",
       "      <td>NaN</td>\n",
       "      <td>2906b810c7d4411798c6938adc9daaa5</td>\n",
       "      <td>NaN</td>\n",
       "    </tr>\n",
       "    <tr>\n",
       "      <th>3</th>\n",
       "      <td>offer received</td>\n",
       "      <td>8ec6ce2a7e7949b1bf142def7d0e0586</td>\n",
       "      <td>0</td>\n",
       "      <td>NaN</td>\n",
       "      <td>fafdcd668e3743c1bb461111dcafc2a4</td>\n",
       "      <td>NaN</td>\n",
       "    </tr>\n",
       "    <tr>\n",
       "      <th>4</th>\n",
       "      <td>offer received</td>\n",
       "      <td>68617ca6246f4fbc85e91a2a49552598</td>\n",
       "      <td>0</td>\n",
       "      <td>NaN</td>\n",
       "      <td>4d5c57ea9a6940dd891ad53e9dbe8da0</td>\n",
       "      <td>NaN</td>\n",
       "    </tr>\n",
       "  </tbody>\n",
       "</table>\n",
       "</div>"
      ],
      "text/plain": [
       "            event                            person  time  amount  \\\n",
       "0  offer received  78afa995795e4d85b5d9ceeca43f5fef     0     NaN   \n",
       "1  offer received  a03223e636434f42ac4c3df47e8bac43     0     NaN   \n",
       "2  offer received  e2127556f4f64592b11af22de27a7932     0     NaN   \n",
       "3  offer received  8ec6ce2a7e7949b1bf142def7d0e0586     0     NaN   \n",
       "4  offer received  68617ca6246f4fbc85e91a2a49552598     0     NaN   \n",
       "\n",
       "                           offer_id  reward  \n",
       "0  9b98b8c7a33c4b65b9aebfe6a799e6d9     NaN  \n",
       "1  0b1e1539f2cc45b7b9fa7c272da2e1d7     NaN  \n",
       "2  2906b810c7d4411798c6938adc9daaa5     NaN  \n",
       "3  fafdcd668e3743c1bb461111dcafc2a4     NaN  \n",
       "4  4d5c57ea9a6940dd891ad53e9dbe8da0     NaN  "
      ]
     },
     "execution_count": 129,
     "metadata": {},
     "output_type": "execute_result"
    }
   ],
   "source": [
    "transcript = pp.process_transcript(transcript)\n",
    "print(transcript.shape)\n",
    "transcript.head()"
   ]
  },
  {
   "cell_type": "markdown",
   "metadata": {},
   "source": [
    "### Do it all at once and join the dataframes."
   ]
  },
  {
   "cell_type": "code",
   "execution_count": 130,
   "metadata": {
    "collapsed": false
   },
   "outputs": [
    {
     "name": "stdout",
     "output_type": "stream",
     "text": [
      "(306534, 20)\n"
     ]
    },
    {
     "data": {
      "text/html": [
       "<div>\n",
       "<style scoped>\n",
       "    .dataframe tbody tr th:only-of-type {\n",
       "        vertical-align: middle;\n",
       "    }\n",
       "\n",
       "    .dataframe tbody tr th {\n",
       "        vertical-align: top;\n",
       "    }\n",
       "\n",
       "    .dataframe thead th {\n",
       "        text-align: right;\n",
       "    }\n",
       "</style>\n",
       "<table border=\"1\" class=\"dataframe\">\n",
       "  <thead>\n",
       "    <tr style=\"text-align: right;\">\n",
       "      <th></th>\n",
       "      <th>event</th>\n",
       "      <th>person</th>\n",
       "      <th>time</th>\n",
       "      <th>amount</th>\n",
       "      <th>offer_id</th>\n",
       "      <th>reward</th>\n",
       "      <th>age</th>\n",
       "      <th>became_member_on</th>\n",
       "      <th>gender</th>\n",
       "      <th>income</th>\n",
       "      <th>missing_demographics</th>\n",
       "      <th>member_epoch_days</th>\n",
       "      <th>difficulty</th>\n",
       "      <th>duration</th>\n",
       "      <th>offer_type</th>\n",
       "      <th>reward_t</th>\n",
       "      <th>channel_web</th>\n",
       "      <th>channel_mobile</th>\n",
       "      <th>channel_email</th>\n",
       "      <th>channel_social</th>\n",
       "    </tr>\n",
       "  </thead>\n",
       "  <tbody>\n",
       "    <tr>\n",
       "      <th>0</th>\n",
       "      <td>offer received</td>\n",
       "      <td>78afa995795e4d85b5d9ceeca43f5fef</td>\n",
       "      <td>0</td>\n",
       "      <td>NaN</td>\n",
       "      <td>9b98b8c7a33c4b65b9aebfe6a799e6d9</td>\n",
       "      <td>NaN</td>\n",
       "      <td>75.0</td>\n",
       "      <td>2017-05-09</td>\n",
       "      <td>F</td>\n",
       "      <td>100000.0</td>\n",
       "      <td>0</td>\n",
       "      <td>17295</td>\n",
       "      <td>5.0</td>\n",
       "      <td>7.0</td>\n",
       "      <td>bogo</td>\n",
       "      <td>5.0</td>\n",
       "      <td>1.0</td>\n",
       "      <td>1.0</td>\n",
       "      <td>1.0</td>\n",
       "      <td>0.0</td>\n",
       "    </tr>\n",
       "    <tr>\n",
       "      <th>1</th>\n",
       "      <td>offer received</td>\n",
       "      <td>a03223e636434f42ac4c3df47e8bac43</td>\n",
       "      <td>0</td>\n",
       "      <td>NaN</td>\n",
       "      <td>0b1e1539f2cc45b7b9fa7c272da2e1d7</td>\n",
       "      <td>NaN</td>\n",
       "      <td>NaN</td>\n",
       "      <td>2017-08-04</td>\n",
       "      <td>None</td>\n",
       "      <td>NaN</td>\n",
       "      <td>1</td>\n",
       "      <td>17382</td>\n",
       "      <td>20.0</td>\n",
       "      <td>10.0</td>\n",
       "      <td>discount</td>\n",
       "      <td>5.0</td>\n",
       "      <td>1.0</td>\n",
       "      <td>0.0</td>\n",
       "      <td>1.0</td>\n",
       "      <td>0.0</td>\n",
       "    </tr>\n",
       "    <tr>\n",
       "      <th>2</th>\n",
       "      <td>offer received</td>\n",
       "      <td>e2127556f4f64592b11af22de27a7932</td>\n",
       "      <td>0</td>\n",
       "      <td>NaN</td>\n",
       "      <td>2906b810c7d4411798c6938adc9daaa5</td>\n",
       "      <td>NaN</td>\n",
       "      <td>68.0</td>\n",
       "      <td>2018-04-26</td>\n",
       "      <td>M</td>\n",
       "      <td>70000.0</td>\n",
       "      <td>0</td>\n",
       "      <td>17647</td>\n",
       "      <td>10.0</td>\n",
       "      <td>7.0</td>\n",
       "      <td>discount</td>\n",
       "      <td>2.0</td>\n",
       "      <td>1.0</td>\n",
       "      <td>1.0</td>\n",
       "      <td>1.0</td>\n",
       "      <td>0.0</td>\n",
       "    </tr>\n",
       "    <tr>\n",
       "      <th>3</th>\n",
       "      <td>offer received</td>\n",
       "      <td>8ec6ce2a7e7949b1bf142def7d0e0586</td>\n",
       "      <td>0</td>\n",
       "      <td>NaN</td>\n",
       "      <td>fafdcd668e3743c1bb461111dcafc2a4</td>\n",
       "      <td>NaN</td>\n",
       "      <td>NaN</td>\n",
       "      <td>2017-09-25</td>\n",
       "      <td>None</td>\n",
       "      <td>NaN</td>\n",
       "      <td>1</td>\n",
       "      <td>17434</td>\n",
       "      <td>10.0</td>\n",
       "      <td>10.0</td>\n",
       "      <td>discount</td>\n",
       "      <td>2.0</td>\n",
       "      <td>1.0</td>\n",
       "      <td>1.0</td>\n",
       "      <td>1.0</td>\n",
       "      <td>1.0</td>\n",
       "    </tr>\n",
       "    <tr>\n",
       "      <th>4</th>\n",
       "      <td>offer received</td>\n",
       "      <td>68617ca6246f4fbc85e91a2a49552598</td>\n",
       "      <td>0</td>\n",
       "      <td>NaN</td>\n",
       "      <td>4d5c57ea9a6940dd891ad53e9dbe8da0</td>\n",
       "      <td>NaN</td>\n",
       "      <td>NaN</td>\n",
       "      <td>2017-10-02</td>\n",
       "      <td>None</td>\n",
       "      <td>NaN</td>\n",
       "      <td>1</td>\n",
       "      <td>17441</td>\n",
       "      <td>10.0</td>\n",
       "      <td>5.0</td>\n",
       "      <td>bogo</td>\n",
       "      <td>10.0</td>\n",
       "      <td>1.0</td>\n",
       "      <td>1.0</td>\n",
       "      <td>1.0</td>\n",
       "      <td>1.0</td>\n",
       "    </tr>\n",
       "  </tbody>\n",
       "</table>\n",
       "</div>"
      ],
      "text/plain": [
       "            event                            person  time  amount  \\\n",
       "0  offer received  78afa995795e4d85b5d9ceeca43f5fef     0     NaN   \n",
       "1  offer received  a03223e636434f42ac4c3df47e8bac43     0     NaN   \n",
       "2  offer received  e2127556f4f64592b11af22de27a7932     0     NaN   \n",
       "3  offer received  8ec6ce2a7e7949b1bf142def7d0e0586     0     NaN   \n",
       "4  offer received  68617ca6246f4fbc85e91a2a49552598     0     NaN   \n",
       "\n",
       "                           offer_id  reward   age became_member_on gender  \\\n",
       "0  9b98b8c7a33c4b65b9aebfe6a799e6d9     NaN  75.0       2017-05-09      F   \n",
       "1  0b1e1539f2cc45b7b9fa7c272da2e1d7     NaN   NaN       2017-08-04   None   \n",
       "2  2906b810c7d4411798c6938adc9daaa5     NaN  68.0       2018-04-26      M   \n",
       "3  fafdcd668e3743c1bb461111dcafc2a4     NaN   NaN       2017-09-25   None   \n",
       "4  4d5c57ea9a6940dd891ad53e9dbe8da0     NaN   NaN       2017-10-02   None   \n",
       "\n",
       "     income  missing_demographics  member_epoch_days  difficulty  duration  \\\n",
       "0  100000.0                     0              17295         5.0       7.0   \n",
       "1       NaN                     1              17382        20.0      10.0   \n",
       "2   70000.0                     0              17647        10.0       7.0   \n",
       "3       NaN                     1              17434        10.0      10.0   \n",
       "4       NaN                     1              17441        10.0       5.0   \n",
       "\n",
       "  offer_type  reward_t  channel_web  channel_mobile  channel_email  \\\n",
       "0       bogo       5.0          1.0             1.0            1.0   \n",
       "1   discount       5.0          1.0             0.0            1.0   \n",
       "2   discount       2.0          1.0             1.0            1.0   \n",
       "3   discount       2.0          1.0             1.0            1.0   \n",
       "4       bogo      10.0          1.0             1.0            1.0   \n",
       "\n",
       "   channel_social  \n",
       "0             0.0  \n",
       "1             0.0  \n",
       "2             0.0  \n",
       "3             1.0  \n",
       "4             1.0  "
      ]
     },
     "execution_count": 130,
     "metadata": {},
     "output_type": "execute_result"
    }
   ],
   "source": [
    "portfolio = pd.read_json(os.path.join(DATA_RAW, 'portfolio.json'), orient='records', lines=True)\n",
    "profile = pd.read_json(os.path.join(DATA_RAW, 'profile.json'), orient='records', lines=True)\n",
    "transcript = pd.read_json(os.path.join(DATA_RAW, 'transcript.json'), orient='records', lines=True)\n",
    "\n",
    "data, portfolio = pp.basic_preprocessing(portfolio, profile, transcript)\n",
    "\n",
    "print(data.shape)\n",
    "data.head()"
   ]
  },
  {
   "cell_type": "markdown",
   "metadata": {},
   "source": [
    "## 2.2 Creation of the \"static\" dataset <a id='static_dataset'></a>\n",
    "[Top](#top)"
   ]
  },
  {
   "cell_type": "markdown",
   "metadata": {},
   "source": [
    "The process will be shown for a single customer, and then the full dataset is calculated."
   ]
  },
  {
   "cell_type": "code",
   "execution_count": 131,
   "metadata": {
    "collapsed": true
   },
   "outputs": [],
   "source": [
    "person = data[data.person == data.person.iloc[0]]"
   ]
  },
  {
   "cell_type": "markdown",
   "metadata": {},
   "source": [
    "### Split the dataset for convenience, according to the event type."
   ]
  },
  {
   "cell_type": "code",
   "execution_count": 132,
   "metadata": {
    "collapsed": false
   },
   "outputs": [],
   "source": [
    "received, viewed, completed, transactions = pp.split_transcript(person)"
   ]
  },
  {
   "cell_type": "markdown",
   "metadata": {},
   "source": [
    "### Add the \"completed\" column"
   ]
  },
  {
   "cell_type": "markdown",
   "metadata": {},
   "source": [
    "The next thing to do is to add a column that tell whether an offer was completed or not. That is information \"from the future\", so it will be typically used as a \"target\", and not as a \"feature\". The \"fill_completion\" function takes care of finding whether an offer will be completed or not. The docstring can be seen below."
   ]
  },
  {
   "cell_type": "code",
   "execution_count": 133,
   "metadata": {
    "collapsed": false
   },
   "outputs": [
    {
     "name": "stdout",
     "output_type": "stream",
     "text": [
      "fill_completion\n",
      "----------------------------------------------------------------------------------------------------\n",
      "\n",
      "    Looks in the records of one person and checks which offers where completed.\n",
      "    A 'completed' column is set to 1 when the offer was completed. The finish\n",
      "    time is also added.\n",
      "    Args:\n",
      "        received(pd.DataFrame): As returned from split_transcript\n",
      "        completed(pd.DataFrame): As returned from split_transcript\n",
      "\n",
      "    Returns:\n",
      "        pd.DataFrame: The received dataframe with some new columns.\n",
      "    \n"
     ]
    }
   ],
   "source": [
    "print('fill_completion\\n' + '-'*100)\n",
    "print(pp.fill_completion.__doc__)"
   ]
  },
  {
   "cell_type": "code",
   "execution_count": 134,
   "metadata": {
    "collapsed": false
   },
   "outputs": [],
   "source": [
    "data = pp.fill_completion(received, completed)"
   ]
  },
  {
   "cell_type": "markdown",
   "metadata": {},
   "source": [
    "### Add the \"viewed\" and \"success\" columns"
   ]
  },
  {
   "cell_type": "markdown",
   "metadata": {},
   "source": [
    "Now, let's fill a column that checks if an offer was viewed in its \"active\" period (called \"viewed\"), and a \"success\" column that marks if the offer was completed after being viewed, within the \"active\" period.\n",
    "\n",
    "The docstring for the function can be seen below.\n",
    "\n",
    "**Note: ** All the \"informational\" offers will be marked with \"success = 0\", because they are never \"completed\"."
   ]
  },
  {
   "cell_type": "code",
   "execution_count": 135,
   "metadata": {
    "collapsed": false
   },
   "outputs": [
    {
     "name": "stdout",
     "output_type": "stream",
     "text": [
      "fill_viewed\n",
      "----------------------------------------------------------------------------------------------------\n",
      "\n",
      "    Checks if the offer was viewed in the active period of the offers.\n",
      "    Also fills a column called 'success' that tracks whether an offer\n",
      "    completion happened after a view.\n",
      "    Args:\n",
      "        data(pd.DataFrame): As returned from fill_completed\n",
      "        viewed(pd.DataFrame): As returned from split_transcript\n",
      "\n",
      "    Returns:\n",
      "        pd.DataFrame: The received dataframe with some new columns.\n",
      "    \n"
     ]
    }
   ],
   "source": [
    "print('fill_viewed\\n' + '-'*100)\n",
    "print(pp.fill_viewed.__doc__)"
   ]
  },
  {
   "cell_type": "code",
   "execution_count": 136,
   "metadata": {
    "collapsed": false
   },
   "outputs": [],
   "source": [
    "data = pp.fill_viewed(data, viewed)"
   ]
  },
  {
   "cell_type": "markdown",
   "metadata": {
    "collapsed": true
   },
   "source": [
    "### Add some \"spending\" and \"profits\" related columns"
   ]
  },
  {
   "cell_type": "markdown",
   "metadata": {},
   "source": [
    "The next thing was to record the spending of each customer in the \"offer's duration\" (from reception until expiration), and the same amount from reception until \"completion or expiration\". \n",
    "\n",
    "The corresponding \"profit\" columns were also created. To calculate realistic profits the \"cost of production\" would be needed. Also there is the clear fact that some offers are not intended to give profits in their duration or until completed but in a longer period. In the case of BOGO offers, it is clear that the objective is not that the customer \"completes\" the offer, but rather the posterior or secondary effects of the completion. In any case, given the lack of further information, the \"profits\" were calculated as the customer's \"spending\" minus the paid \"reward\" if the offer was completed.\n",
    "\n",
    "The \"actual reward\" column shows the paid reward (zero if the offer was not completed)."
   ]
  },
  {
   "cell_type": "code",
   "execution_count": 137,
   "metadata": {
    "collapsed": false
   },
   "outputs": [
    {
     "name": "stdout",
     "output_type": "stream",
     "text": [
      "fill_profits\n",
      "----------------------------------------------------------------------------------------------------\n",
      "\n",
      "    Fills \"spending\" and \"profits\" related columns.\n",
      "    The \"spending\" columns track the transactions of the client in the \"active\"\n",
      "    period of an offer, and adds them. They are also summed in the period between the\n",
      "    offer reception and the offer completion (if it is completed).\n",
      "    The profits columns consider the paid rewards as a cost to the company and substract\n",
      "    them.\n",
      "    The paid reward is also recorded in the column \"actual reward\" (it is zero if the\n",
      "    offer was not completed).\n",
      "    Args:\n",
      "        data(pd.DataFrame): As returned from fill_completed\n",
      "        transactions(pd.DataFrame): As returned from split_transcript\n",
      "\n",
      "    Returns:\n",
      "        pd.DataFrame: The received dataframe with some new columns.\n",
      "    \n"
     ]
    }
   ],
   "source": [
    "print('fill_profits\\n' + '-'*100)\n",
    "print(pp.fill_profits.__doc__)"
   ]
  },
  {
   "cell_type": "code",
   "execution_count": 138,
   "metadata": {
    "collapsed": false
   },
   "outputs": [
    {
     "data": {
      "text/html": [
       "<div>\n",
       "<style scoped>\n",
       "    .dataframe tbody tr th:only-of-type {\n",
       "        vertical-align: middle;\n",
       "    }\n",
       "\n",
       "    .dataframe tbody tr th {\n",
       "        vertical-align: top;\n",
       "    }\n",
       "\n",
       "    .dataframe thead th {\n",
       "        text-align: right;\n",
       "    }\n",
       "</style>\n",
       "<table border=\"1\" class=\"dataframe\">\n",
       "  <thead>\n",
       "    <tr style=\"text-align: right;\">\n",
       "      <th></th>\n",
       "      <th>person</th>\n",
       "      <th>time</th>\n",
       "      <th>offer_id</th>\n",
       "      <th>age</th>\n",
       "      <th>became_member_on</th>\n",
       "      <th>gender</th>\n",
       "      <th>income</th>\n",
       "      <th>missing_demographics</th>\n",
       "      <th>member_epoch_days</th>\n",
       "      <th>difficulty</th>\n",
       "      <th>...</th>\n",
       "      <th>expected_finish</th>\n",
       "      <th>finish</th>\n",
       "      <th>success</th>\n",
       "      <th>view_time</th>\n",
       "      <th>viewed</th>\n",
       "      <th>actual_reward</th>\n",
       "      <th>profit_in_duration</th>\n",
       "      <th>profit_until_complete</th>\n",
       "      <th>spent_in_duration</th>\n",
       "      <th>spent_until_complete</th>\n",
       "    </tr>\n",
       "  </thead>\n",
       "  <tbody>\n",
       "    <tr>\n",
       "      <th>0</th>\n",
       "      <td>78afa995795e4d85b5d9ceeca43f5fef</td>\n",
       "      <td>0</td>\n",
       "      <td>9b98b8c7a33c4b65b9aebfe6a799e6d9</td>\n",
       "      <td>75.0</td>\n",
       "      <td>2017-05-09</td>\n",
       "      <td>F</td>\n",
       "      <td>100000.0</td>\n",
       "      <td>0</td>\n",
       "      <td>17295</td>\n",
       "      <td>5.0</td>\n",
       "      <td>...</td>\n",
       "      <td>168.0</td>\n",
       "      <td>132.0</td>\n",
       "      <td>1</td>\n",
       "      <td>6.0</td>\n",
       "      <td>1</td>\n",
       "      <td>5.0</td>\n",
       "      <td>32.67</td>\n",
       "      <td>14.89</td>\n",
       "      <td>37.67</td>\n",
       "      <td>19.89</td>\n",
       "    </tr>\n",
       "    <tr>\n",
       "      <th>1</th>\n",
       "      <td>78afa995795e4d85b5d9ceeca43f5fef</td>\n",
       "      <td>168</td>\n",
       "      <td>5a8bc65990b245e5a138643cd4eb9837</td>\n",
       "      <td>75.0</td>\n",
       "      <td>2017-05-09</td>\n",
       "      <td>F</td>\n",
       "      <td>100000.0</td>\n",
       "      <td>0</td>\n",
       "      <td>17295</td>\n",
       "      <td>0.0</td>\n",
       "      <td>...</td>\n",
       "      <td>240.0</td>\n",
       "      <td>240.0</td>\n",
       "      <td>0</td>\n",
       "      <td>216.0</td>\n",
       "      <td>1</td>\n",
       "      <td>0.0</td>\n",
       "      <td>49.39</td>\n",
       "      <td>49.39</td>\n",
       "      <td>49.39</td>\n",
       "      <td>49.39</td>\n",
       "    </tr>\n",
       "    <tr>\n",
       "      <th>2</th>\n",
       "      <td>78afa995795e4d85b5d9ceeca43f5fef</td>\n",
       "      <td>408</td>\n",
       "      <td>ae264e3637204a6fb9bb56bc8210ddfd</td>\n",
       "      <td>75.0</td>\n",
       "      <td>2017-05-09</td>\n",
       "      <td>F</td>\n",
       "      <td>100000.0</td>\n",
       "      <td>0</td>\n",
       "      <td>17295</td>\n",
       "      <td>10.0</td>\n",
       "      <td>...</td>\n",
       "      <td>576.0</td>\n",
       "      <td>510.0</td>\n",
       "      <td>1</td>\n",
       "      <td>408.0</td>\n",
       "      <td>1</td>\n",
       "      <td>10.0</td>\n",
       "      <td>38.28</td>\n",
       "      <td>11.72</td>\n",
       "      <td>48.28</td>\n",
       "      <td>21.72</td>\n",
       "    </tr>\n",
       "    <tr>\n",
       "      <th>3</th>\n",
       "      <td>78afa995795e4d85b5d9ceeca43f5fef</td>\n",
       "      <td>504</td>\n",
       "      <td>f19421c1d4aa40978ebb69ca19b0e20d</td>\n",
       "      <td>75.0</td>\n",
       "      <td>2017-05-09</td>\n",
       "      <td>F</td>\n",
       "      <td>100000.0</td>\n",
       "      <td>0</td>\n",
       "      <td>17295</td>\n",
       "      <td>5.0</td>\n",
       "      <td>...</td>\n",
       "      <td>624.0</td>\n",
       "      <td>510.0</td>\n",
       "      <td>0</td>\n",
       "      <td>NaN</td>\n",
       "      <td>0</td>\n",
       "      <td>5.0</td>\n",
       "      <td>43.28</td>\n",
       "      <td>16.72</td>\n",
       "      <td>48.28</td>\n",
       "      <td>21.72</td>\n",
       "    </tr>\n",
       "  </tbody>\n",
       "</table>\n",
       "<p>4 rows × 28 columns</p>\n",
       "</div>"
      ],
      "text/plain": [
       "                             person  time                          offer_id  \\\n",
       "0  78afa995795e4d85b5d9ceeca43f5fef     0  9b98b8c7a33c4b65b9aebfe6a799e6d9   \n",
       "1  78afa995795e4d85b5d9ceeca43f5fef   168  5a8bc65990b245e5a138643cd4eb9837   \n",
       "2  78afa995795e4d85b5d9ceeca43f5fef   408  ae264e3637204a6fb9bb56bc8210ddfd   \n",
       "3  78afa995795e4d85b5d9ceeca43f5fef   504  f19421c1d4aa40978ebb69ca19b0e20d   \n",
       "\n",
       "    age became_member_on gender    income  missing_demographics  \\\n",
       "0  75.0       2017-05-09      F  100000.0                     0   \n",
       "1  75.0       2017-05-09      F  100000.0                     0   \n",
       "2  75.0       2017-05-09      F  100000.0                     0   \n",
       "3  75.0       2017-05-09      F  100000.0                     0   \n",
       "\n",
       "   member_epoch_days  difficulty          ...           expected_finish  \\\n",
       "0              17295         5.0          ...                     168.0   \n",
       "1              17295         0.0          ...                     240.0   \n",
       "2              17295        10.0          ...                     576.0   \n",
       "3              17295         5.0          ...                     624.0   \n",
       "\n",
       "  finish  success  view_time  viewed  actual_reward  profit_in_duration  \\\n",
       "0  132.0        1        6.0       1            5.0               32.67   \n",
       "1  240.0        0      216.0       1            0.0               49.39   \n",
       "2  510.0        1      408.0       1           10.0               38.28   \n",
       "3  510.0        0        NaN       0            5.0               43.28   \n",
       "\n",
       "   profit_until_complete  spent_in_duration  spent_until_complete  \n",
       "0                  14.89              37.67                 19.89  \n",
       "1                  49.39              49.39                 49.39  \n",
       "2                  11.72              48.28                 21.72  \n",
       "3                  16.72              48.28                 21.72  \n",
       "\n",
       "[4 rows x 28 columns]"
      ]
     },
     "execution_count": 138,
     "metadata": {},
     "output_type": "execute_result"
    }
   ],
   "source": [
    "data = pp.fill_profits(data, transactions)\n",
    "data = data.drop(['event', 'reward', 'amount'], axis=1)\n",
    "\n",
    "data"
   ]
  },
  {
   "cell_type": "markdown",
   "metadata": {},
   "source": [
    "And that is how the \"static\" dataset looks for one customer alone. The entire process, for all the customers is resumed in the two functions below. It may take several minutes to run."
   ]
  },
  {
   "cell_type": "markdown",
   "metadata": {},
   "source": [
    "### Complete Preprocessing resumed in two functions"
   ]
  },
  {
   "cell_type": "code",
   "execution_count": 139,
   "metadata": {
    "collapsed": false
   },
   "outputs": [
    {
     "name": "stdout",
     "output_type": "stream",
     "text": [
      "Basic preprocessing\n",
      "CPU times: user 2.58 s, sys: 20 ms, total: 2.6 s\n",
      "Wall time: 1.6 s\n",
      "Creating the static dataset (this may take several minutes)\n",
      "CPU times: user 16min 22s, sys: 1.19 s, total: 16min 23s\n",
      "Wall time: 16min 23s\n",
      "Saving\n"
     ]
    }
   ],
   "source": [
    "# Read the data\n",
    "portfolio = pd.read_json(os.path.join(DATA_RAW, 'portfolio.json'), orient='records', lines=True)\n",
    "profile = pd.read_json(os.path.join(DATA_RAW, 'profile.json'), orient='records', lines=True)\n",
    "transcript = pd.read_json(os.path.join(DATA_RAW, 'transcript.json'), orient='records', lines=True)\n",
    "\n",
    "# Basic Preprocessing\n",
    "print('Basic preprocessing')\n",
    "%time data, portfolio = pp.basic_preprocessing(portfolio, profile, transcript)\n",
    "\n",
    "# Create the static dataset\n",
    "print('Creating the static dataset (this may take several minutes)')\n",
    "%time static_data = pp.generate_static_dataset(data)\n",
    "\n",
    "# Save the static dataset\n",
    "print('Saving')\n",
    "static_dataset_path = os.path.join(DATA_INTERIM, 'static_data.pkl')\n",
    "static_data.to_pickle(static_dataset_path)"
   ]
  },
  {
   "cell_type": "markdown",
   "metadata": {},
   "source": [
    "# 3 The \"Offer Success\" problem statement <a id='offer_success'></a>\n",
    "[Top](#top)"
   ]
  },
  {
   "cell_type": "markdown",
   "metadata": {
    "collapsed": true
   },
   "source": [
    "In this part the functions necessary to solve the \"offer success\" prediction problem will be created: a function to create the train-test datasets, an encoder class, a function to show the feature importances of XGBoost models, and some validation and test functions. Many schemes for validation were considered: time-split, random K-fold, random train-val-test split, random train-val-test split by customer."
   ]
  },
  {
   "cell_type": "code",
   "execution_count": 140,
   "metadata": {
    "collapsed": true
   },
   "outputs": [],
   "source": [
    "%reset -f"
   ]
  },
  {
   "cell_type": "code",
   "execution_count": 152,
   "metadata": {
    "collapsed": false
   },
   "outputs": [
    {
     "name": "stdout",
     "output_type": "stream",
     "text": [
      "The autoreload extension is already loaded. To reload it, use:\n",
      "  %reload_ext autoreload\n"
     ]
    }
   ],
   "source": [
    "import pandas as pd\n",
    "import numpy as np\n",
    "import math\n",
    "import json\n",
    "import os\n",
    "import matplotlib.pyplot as plt\n",
    "%matplotlib inline\n",
    "\n",
    "%load_ext autoreload\n",
    "%autoreload 2\n",
    "\n",
    "from jupyterthemes import jtplot\n",
    "jtplot.style(theme='solarizedd')\n",
    "plt.rcParams['figure.figsize'] = (20.0, 10.0)\n",
    "\n",
    "import data_utils_mt.utils as utils\n",
    "import seaborn as sns\n",
    "from sklearn.preprocessing import LabelEncoder\n",
    "import datetime as dt\n",
    "from xgboost import XGBClassifier\n",
    "from sklearn.pipeline import Pipeline\n",
    "\n",
    "ROOT_DIR = '..'\n",
    "DATA_DIR = os.path.join(ROOT_DIR, 'data')\n",
    "DATA_RAW = os.path.join(DATA_DIR, 'raw')\n",
    "DATA_INTERIM = os.path.join(DATA_DIR, 'interim')\n",
    "DATA_EXTERNAL = os.path.join(DATA_DIR, 'external')\n",
    "DATA_PROCESSED = os.path.join(DATA_DIR, 'processed')\n",
    "SRC = os.path.join(ROOT_DIR, 'src')\n",
    "\n",
    "import sys\n",
    "sys.path.append(SRC)\n",
    "\n",
    "import src.data.preprocessing as pp\n",
    "import src.data.success_dataset as sd\n",
    "import src.data.missing_data as md\n",
    "import src.evaluation.offer_success as evos"
   ]
  },
  {
   "cell_type": "markdown",
   "metadata": {},
   "source": [
    "### Dataset creation\n",
    "\n",
    "The \"static\" dataset is adapted to be used in the \"offer success\" problem. That means removing all the information \"from the future\", from the inputs (the \"success\" feature will be the target, with some modifications). Also, the customer id and offer id may be removed, and a time-based split of the data perfomed. The function that takes care of that is called \"get_success_data\", and the docstring can be seen below."
   ]
  },
  {
   "cell_type": "code",
   "execution_count": 142,
   "metadata": {
    "collapsed": false
   },
   "outputs": [
    {
     "name": "stdout",
     "output_type": "stream",
     "text": [
      "\n",
      "    Generates the dataset to predict whether an offer was successful.\n",
      "    An offer is considered successful if it is viewed and then completed. In\n",
      "    the case of informational offers a visualization alone may be considered a\n",
      "    success or not.\n",
      "    Args:\n",
      "        basic_dataset_path(str): The path to the pickle containing the basic\n",
      "            dataset\n",
      "        time_limit(int): The limit to split the train and test sets.\n",
      "        informational_success(boolean): Whether a visualization of an\n",
      "            informational offer should be considered as a success.\n",
      "        drop_time(boolean): Whether to drop the absolute time dependent\n",
      "            features.\n",
      "        anon(boolean): Whether to drop unique identifiers to customers and\n",
      "            offers.\n",
      "\n",
      "\n",
      "    Returns:\n",
      "        X_train(pd.DataFrame): The training dataset.\n",
      "        X_test(pd.DataFrame): The test dataset.\n",
      "        y_train(pd.Series): The training target.\n",
      "        y_test(pd.Series): The test target.\n",
      "        BasicEncoder: An encoder to use in a ML pipeline.\n",
      "    \n"
     ]
    }
   ],
   "source": [
    "print(sd.get_success_data.__doc__)"
   ]
  },
  {
   "cell_type": "code",
   "execution_count": 143,
   "metadata": {
    "collapsed": true
   },
   "outputs": [],
   "source": [
    "X_train, X_test, y_train, y_test, encoder = sd.get_success_data()"
   ]
  },
  {
   "cell_type": "code",
   "execution_count": 147,
   "metadata": {
    "collapsed": false
   },
   "outputs": [
    {
     "data": {
      "text/html": [
       "<div>\n",
       "<style scoped>\n",
       "    .dataframe tbody tr th:only-of-type {\n",
       "        vertical-align: middle;\n",
       "    }\n",
       "\n",
       "    .dataframe tbody tr th {\n",
       "        vertical-align: top;\n",
       "    }\n",
       "\n",
       "    .dataframe thead th {\n",
       "        text-align: right;\n",
       "    }\n",
       "</style>\n",
       "<table border=\"1\" class=\"dataframe\">\n",
       "  <thead>\n",
       "    <tr style=\"text-align: right;\">\n",
       "      <th></th>\n",
       "      <th>age</th>\n",
       "      <th>gender</th>\n",
       "      <th>income</th>\n",
       "      <th>missing_demographics</th>\n",
       "      <th>member_epoch_days</th>\n",
       "      <th>difficulty</th>\n",
       "      <th>duration</th>\n",
       "      <th>offer_type</th>\n",
       "      <th>reward_t</th>\n",
       "      <th>channel_web</th>\n",
       "      <th>channel_mobile</th>\n",
       "      <th>channel_email</th>\n",
       "      <th>channel_social</th>\n",
       "    </tr>\n",
       "  </thead>\n",
       "  <tbody>\n",
       "    <tr>\n",
       "      <th>0</th>\n",
       "      <td>33.0</td>\n",
       "      <td>M</td>\n",
       "      <td>72000.0</td>\n",
       "      <td>0</td>\n",
       "      <td>17277</td>\n",
       "      <td>0.0</td>\n",
       "      <td>3.0</td>\n",
       "      <td>informational</td>\n",
       "      <td>0.0</td>\n",
       "      <td>0.0</td>\n",
       "      <td>1.0</td>\n",
       "      <td>1.0</td>\n",
       "      <td>1.0</td>\n",
       "    </tr>\n",
       "    <tr>\n",
       "      <th>1</th>\n",
       "      <td>33.0</td>\n",
       "      <td>M</td>\n",
       "      <td>72000.0</td>\n",
       "      <td>0</td>\n",
       "      <td>17277</td>\n",
       "      <td>0.0</td>\n",
       "      <td>4.0</td>\n",
       "      <td>informational</td>\n",
       "      <td>0.0</td>\n",
       "      <td>1.0</td>\n",
       "      <td>1.0</td>\n",
       "      <td>1.0</td>\n",
       "      <td>0.0</td>\n",
       "    </tr>\n",
       "    <tr>\n",
       "      <th>2</th>\n",
       "      <td>33.0</td>\n",
       "      <td>M</td>\n",
       "      <td>72000.0</td>\n",
       "      <td>0</td>\n",
       "      <td>17277</td>\n",
       "      <td>5.0</td>\n",
       "      <td>5.0</td>\n",
       "      <td>bogo</td>\n",
       "      <td>5.0</td>\n",
       "      <td>1.0</td>\n",
       "      <td>1.0</td>\n",
       "      <td>1.0</td>\n",
       "      <td>1.0</td>\n",
       "    </tr>\n",
       "    <tr>\n",
       "      <th>5</th>\n",
       "      <td>NaN</td>\n",
       "      <td>None</td>\n",
       "      <td>NaN</td>\n",
       "      <td>1</td>\n",
       "      <td>17646</td>\n",
       "      <td>5.0</td>\n",
       "      <td>5.0</td>\n",
       "      <td>bogo</td>\n",
       "      <td>5.0</td>\n",
       "      <td>1.0</td>\n",
       "      <td>1.0</td>\n",
       "      <td>1.0</td>\n",
       "      <td>1.0</td>\n",
       "    </tr>\n",
       "    <tr>\n",
       "      <th>7</th>\n",
       "      <td>40.0</td>\n",
       "      <td>O</td>\n",
       "      <td>57000.0</td>\n",
       "      <td>0</td>\n",
       "      <td>17540</td>\n",
       "      <td>0.0</td>\n",
       "      <td>4.0</td>\n",
       "      <td>informational</td>\n",
       "      <td>0.0</td>\n",
       "      <td>1.0</td>\n",
       "      <td>1.0</td>\n",
       "      <td>1.0</td>\n",
       "      <td>0.0</td>\n",
       "    </tr>\n",
       "  </tbody>\n",
       "</table>\n",
       "</div>"
      ],
      "text/plain": [
       "    age gender   income  missing_demographics  member_epoch_days  difficulty  \\\n",
       "0  33.0      M  72000.0                     0              17277         0.0   \n",
       "1  33.0      M  72000.0                     0              17277         0.0   \n",
       "2  33.0      M  72000.0                     0              17277         5.0   \n",
       "5   NaN   None      NaN                     1              17646         5.0   \n",
       "7  40.0      O  57000.0                     0              17540         0.0   \n",
       "\n",
       "   duration     offer_type  reward_t  channel_web  channel_mobile  \\\n",
       "0       3.0  informational       0.0          0.0             1.0   \n",
       "1       4.0  informational       0.0          1.0             1.0   \n",
       "2       5.0           bogo       5.0          1.0             1.0   \n",
       "5       5.0           bogo       5.0          1.0             1.0   \n",
       "7       4.0  informational       0.0          1.0             1.0   \n",
       "\n",
       "   channel_email  channel_social  \n",
       "0            1.0             1.0  \n",
       "1            1.0             0.0  \n",
       "2            1.0             1.0  \n",
       "5            1.0             1.0  \n",
       "7            1.0             0.0  "
      ]
     },
     "execution_count": 147,
     "metadata": {},
     "output_type": "execute_result"
    }
   ],
   "source": [
    "X_train.head()"
   ]
  },
  {
   "cell_type": "code",
   "execution_count": 148,
   "metadata": {
    "collapsed": false
   },
   "outputs": [
    {
     "data": {
      "text/plain": [
       "0    1\n",
       "1    1\n",
       "2    0\n",
       "5    0\n",
       "7    1\n",
       "Name: success, dtype: int64"
      ]
     },
     "execution_count": 148,
     "metadata": {},
     "output_type": "execute_result"
    }
   ],
   "source": [
    "y_train.head()"
   ]
  },
  {
   "cell_type": "markdown",
   "metadata": {},
   "source": [
    "### Validation\n",
    "The following methods were considered for validation:\n",
    " - Time-split\n",
    " - Random K-fold validation (test is split by time)\n",
    " - Random train-val split (test is split by time)\n",
    " - Random train-val split by customers (test is split by time)\n",
    "\n",
    "The time-split method was finally selected as the main validation method. The random train-val-split in customers was chosen as a sanity check (to test if the results are similar to those of the time-split).\n"
   ]
  },
  {
   "cell_type": "markdown",
   "metadata": {},
   "source": [
    "#### Time split validation."
   ]
  },
  {
   "cell_type": "code",
   "execution_count": 153,
   "metadata": {
    "collapsed": false
   },
   "outputs": [
    {
     "name": "stdout",
     "output_type": "stream",
     "text": [
      "Training time: 22.095159769058228 seconds.\n",
      "--------------------------------------------TRAIN RESULTS--------------------------------------------\n",
      "Confusion Matrix:\n",
      "[[17920  2212]\n",
      " [ 2165 15733]]\n",
      "Classification Report:\n",
      "              precision    recall  f1-score   support\n",
      "\n",
      "           0       0.89      0.89      0.89     20132\n",
      "           1       0.88      0.88      0.88     17898\n",
      "\n",
      "   micro avg       0.88      0.88      0.88     38030\n",
      "   macro avg       0.88      0.88      0.88     38030\n",
      "weighted avg       0.88      0.88      0.88     38030\n",
      "\n",
      "----------------------------------------------------------------------------------------------------\n",
      "--------------------------------------------TEST RESULTS--------------------------------------------\n",
      "Confusion Matrix:\n",
      "[[4943 1800]\n",
      " [1963 4072]]\n",
      "Classification Report:\n",
      "              precision    recall  f1-score   support\n",
      "\n",
      "           0       0.72      0.73      0.72      6743\n",
      "           1       0.69      0.67      0.68      6035\n",
      "\n",
      "   micro avg       0.71      0.71      0.71     12778\n",
      "   macro avg       0.70      0.70      0.70     12778\n",
      "weighted avg       0.71      0.71      0.71     12778\n",
      "\n",
      "----------------------------------------------------------------------------------------------------\n",
      "\n",
      "___________________________________________________\n",
      "| MAIN METRIC (test f1-score): 0.6839674141261443 |\n",
      "---------------------------------------------------\n"
     ]
    },
    {
     "data": {
      "text/plain": [
       "(Pipeline(memory=None,\n",
       "      steps=[('encoder', BasicEncoder()), ('estimator', XGBClassifier(base_score=0.5, booster='gbtree', colsample_bylevel=1,\n",
       "        colsample_bytree=1,\n",
       "        feature_names=Index(['age', 'gender', 'income', 'missing_demographics', 'member_epoch_days',\n",
       "        'difficulty', 'duration', 'offer_type', 'reward...\n",
       "        reg_alpha=0, reg_lambda=1, scale_pos_weight=1, seed=None,\n",
       "        silent=True, subsample=1))]),\n",
       " array([1, 1, 0, ..., 1, 0, 1]),\n",
       " array([1, 1, 1, ..., 0, 1, 1]))"
      ]
     },
     "execution_count": 153,
     "metadata": {},
     "output_type": "execute_result"
    }
   ],
   "source": [
    "# Create a basic model\n",
    "\n",
    "model = Pipeline([\n",
    "    ('encoder', encoder),\n",
    "    ('estimator', XGBClassifier(max_depth=7, n_estimators=1000, n_jobs=-1, \n",
    "                                feature_names=X_train.columns))\n",
    "])\n",
    "\n",
    "# Evaluate it with a time-split validation\n",
    "evos.time_split_validation(model)"
   ]
  },
  {
   "cell_type": "markdown",
   "metadata": {},
   "source": [
    "#### Random KFold validation"
   ]
  },
  {
   "cell_type": "code",
   "execution_count": 154,
   "metadata": {
    "collapsed": false
   },
   "outputs": [
    {
     "name": "stdout",
     "output_type": "stream",
     "text": [
      "Fold - 1\n",
      "Training time: 20.655241012573242 seconds.\n",
      "--------------------------------------------TRAIN RESULTS--------------------------------------------\n",
      "Confusion Matrix:\n",
      "[[16131  1785]\n",
      " [ 1815 14140]]\n",
      "Classification Report:\n",
      "              precision    recall  f1-score   support\n",
      "\n",
      "           0       0.90      0.90      0.90     17916\n",
      "           1       0.89      0.89      0.89     15955\n",
      "\n",
      "   micro avg       0.89      0.89      0.89     33871\n",
      "   macro avg       0.89      0.89      0.89     33871\n",
      "weighted avg       0.89      0.89      0.89     33871\n",
      "\n",
      "----------------------------------------------------------------------------------------------------\n",
      "--------------------------------------------TEST RESULTS--------------------------------------------\n",
      "Confusion Matrix:\n",
      "[[6495 2464]\n",
      " [2494 5484]]\n",
      "Classification Report:\n",
      "              precision    recall  f1-score   support\n",
      "\n",
      "           0       0.72      0.72      0.72      8959\n",
      "           1       0.69      0.69      0.69      7978\n",
      "\n",
      "   micro avg       0.71      0.71      0.71     16937\n",
      "   macro avg       0.71      0.71      0.71     16937\n",
      "weighted avg       0.71      0.71      0.71     16937\n",
      "\n",
      "----------------------------------------------------------------------------------------------------\n",
      "\n",
      "___________________________________________________\n",
      "| MAIN METRIC (test f1-score): 0.688685168906191 |\n",
      "---------------------------------------------------\n",
      "Fold - 2\n",
      "Training time: 21.602408170700073 seconds.\n",
      "--------------------------------------------TRAIN RESULTS--------------------------------------------\n",
      "Confusion Matrix:\n",
      "[[16028  1889]\n",
      " [ 1754 14201]]\n",
      "Classification Report:\n",
      "              precision    recall  f1-score   support\n",
      "\n",
      "           0       0.90      0.89      0.90     17917\n",
      "           1       0.88      0.89      0.89     15955\n",
      "\n",
      "   micro avg       0.89      0.89      0.89     33872\n",
      "   macro avg       0.89      0.89      0.89     33872\n",
      "weighted avg       0.89      0.89      0.89     33872\n",
      "\n",
      "----------------------------------------------------------------------------------------------------\n",
      "--------------------------------------------TEST RESULTS--------------------------------------------\n",
      "Confusion Matrix:\n",
      "[[6455 2503]\n",
      " [2528 5450]]\n",
      "Classification Report:\n",
      "              precision    recall  f1-score   support\n",
      "\n",
      "           0       0.72      0.72      0.72      8958\n",
      "           1       0.69      0.68      0.68      7978\n",
      "\n",
      "   micro avg       0.70      0.70      0.70     16936\n",
      "   macro avg       0.70      0.70      0.70     16936\n",
      "weighted avg       0.70      0.70      0.70     16936\n",
      "\n",
      "----------------------------------------------------------------------------------------------------\n",
      "\n",
      "___________________________________________________\n",
      "| MAIN METRIC (test f1-score): 0.6842006151528467 |\n",
      "---------------------------------------------------\n",
      "Fold - 3\n",
      "Training time: 20.058035135269165 seconds.\n",
      "--------------------------------------------TRAIN RESULTS--------------------------------------------\n",
      "Confusion Matrix:\n",
      "[[16152  1765]\n",
      " [ 1763 14193]]\n",
      "Classification Report:\n",
      "              precision    recall  f1-score   support\n",
      "\n",
      "           0       0.90      0.90      0.90     17917\n",
      "           1       0.89      0.89      0.89     15956\n",
      "\n",
      "   micro avg       0.90      0.90      0.90     33873\n",
      "   macro avg       0.90      0.90      0.90     33873\n",
      "weighted avg       0.90      0.90      0.90     33873\n",
      "\n",
      "----------------------------------------------------------------------------------------------------\n",
      "--------------------------------------------TEST RESULTS--------------------------------------------\n",
      "Confusion Matrix:\n",
      "[[6533 2425]\n",
      " [2563 5414]]\n",
      "Classification Report:\n",
      "              precision    recall  f1-score   support\n",
      "\n",
      "           0       0.72      0.73      0.72      8958\n",
      "           1       0.69      0.68      0.68      7977\n",
      "\n",
      "   micro avg       0.71      0.71      0.71     16935\n",
      "   macro avg       0.70      0.70      0.70     16935\n",
      "weighted avg       0.71      0.71      0.71     16935\n",
      "\n",
      "----------------------------------------------------------------------------------------------------\n",
      "\n",
      "___________________________________________________\n",
      "| MAIN METRIC (test f1-score): 0.6846231664137582 |\n",
      "---------------------------------------------------\n",
      "Training F1-score: 0.8876151865514176 +- 0.0013360302462744908\n",
      "\n",
      "Validation F1-score: 0.6858363168242653 +- 0.004043630721861681\n"
     ]
    }
   ],
   "source": [
    "# Create a basic model\n",
    "\n",
    "model = Pipeline([\n",
    "    ('encoder', encoder),\n",
    "    ('estimator', XGBClassifier(max_depth=7, n_estimators=1000, n_jobs=-1, \n",
    "                                feature_names=X_train.columns))\n",
    "])\n",
    "\n",
    "# Evaluate it with a random k-fold validation\n",
    "evos.random_kfold_validation(model)"
   ]
  },
  {
   "cell_type": "markdown",
   "metadata": {},
   "source": [
    "#### Random train-val split validation"
   ]
  },
  {
   "cell_type": "code",
   "execution_count": 155,
   "metadata": {
    "collapsed": false
   },
   "outputs": [
    {
     "name": "stdout",
     "output_type": "stream",
     "text": [
      "Training time: 21.804643154144287 seconds.\n",
      "--------------------------------------------TRAIN RESULTS--------------------------------------------\n",
      "Confusion Matrix:\n",
      "[[16849  1940]\n",
      " [ 1910 14866]]\n",
      "Classification Report:\n",
      "              precision    recall  f1-score   support\n",
      "\n",
      "           0       0.90      0.90      0.90     18789\n",
      "           1       0.88      0.89      0.89     16776\n",
      "\n",
      "   micro avg       0.89      0.89      0.89     35565\n",
      "   macro avg       0.89      0.89      0.89     35565\n",
      "weighted avg       0.89      0.89      0.89     35565\n",
      "\n",
      "----------------------------------------------------------------------------------------------------\n",
      "--------------------------------------------TEST RESULTS--------------------------------------------\n",
      "Confusion Matrix:\n",
      "[[5860 2226]\n",
      " [2230 4927]]\n",
      "Classification Report:\n",
      "              precision    recall  f1-score   support\n",
      "\n",
      "           0       0.72      0.72      0.72      8086\n",
      "           1       0.69      0.69      0.69      7157\n",
      "\n",
      "   micro avg       0.71      0.71      0.71     15243\n",
      "   macro avg       0.71      0.71      0.71     15243\n",
      "weighted avg       0.71      0.71      0.71     15243\n",
      "\n",
      "----------------------------------------------------------------------------------------------------\n",
      "\n",
      "___________________________________________________\n",
      "| MAIN METRIC (test f1-score): 0.6886093640810622 |\n",
      "---------------------------------------------------\n",
      "Training F1-score: 0.8853552498362218\n",
      "\n",
      "Validation F1-score: 0.6886093640810622\n"
     ]
    }
   ],
   "source": [
    "# Create a basic model\n",
    "\n",
    "model = Pipeline([\n",
    "    ('encoder', encoder),\n",
    "    ('estimator', XGBClassifier(max_depth=7, n_estimators=1000, n_jobs=-1, \n",
    "                                feature_names=X_train.columns))\n",
    "])\n",
    "\n",
    "# Evaluate it with a random train-val split validation\n",
    "evos.random_1fold_validation(model)"
   ]
  },
  {
   "cell_type": "markdown",
   "metadata": {},
   "source": [
    "#### Random train-val split by customer"
   ]
  },
  {
   "cell_type": "code",
   "execution_count": 156,
   "metadata": {
    "collapsed": false
   },
   "outputs": [
    {
     "name": "stdout",
     "output_type": "stream",
     "text": [
      "Training time: 21.66156244277954 seconds.\n",
      "--------------------------------------------TRAIN RESULTS--------------------------------------------\n",
      "Confusion Matrix:\n",
      "[[16696  2021]\n",
      " [ 1997 14756]]\n",
      "Classification Report:\n",
      "              precision    recall  f1-score   support\n",
      "\n",
      "           0       0.89      0.89      0.89     18717\n",
      "           1       0.88      0.88      0.88     16753\n",
      "\n",
      "   micro avg       0.89      0.89      0.89     35470\n",
      "   macro avg       0.89      0.89      0.89     35470\n",
      "weighted avg       0.89      0.89      0.89     35470\n",
      "\n",
      "----------------------------------------------------------------------------------------------------\n",
      "--------------------------------------------TEST RESULTS--------------------------------------------\n",
      "Confusion Matrix:\n",
      "[[5732 2426]\n",
      " [2300 4880]]\n",
      "Classification Report:\n",
      "              precision    recall  f1-score   support\n",
      "\n",
      "           0       0.71      0.70      0.71      8158\n",
      "           1       0.67      0.68      0.67      7180\n",
      "\n",
      "   micro avg       0.69      0.69      0.69     15338\n",
      "   macro avg       0.69      0.69      0.69     15338\n",
      "weighted avg       0.69      0.69      0.69     15338\n",
      "\n",
      "----------------------------------------------------------------------------------------------------\n",
      "\n",
      "___________________________________________________\n",
      "| MAIN METRIC (test f1-score): 0.6737539693497169 |\n",
      "---------------------------------------------------\n",
      "Training F1-score: 0.8801670146137787\n",
      "\n",
      "Validation F1-score: 0.6737539693497169\n"
     ]
    }
   ],
   "source": [
    "# Create a basic model\n",
    "\n",
    "model = Pipeline([\n",
    "    ('encoder', encoder),\n",
    "    ('estimator', XGBClassifier(max_depth=7, n_estimators=1000, n_jobs=-1, \n",
    "                                feature_names=X_train.columns))\n",
    "])\n",
    "\n",
    "# Evaluate it with a random train-val split validation by customer\n",
    "evos.random_1fold_cust_validation(model)"
   ]
  },
  {
   "cell_type": "markdown",
   "metadata": {},
   "source": [
    "#### Test results"
   ]
  },
  {
   "cell_type": "code",
   "execution_count": 157,
   "metadata": {
    "collapsed": false
   },
   "outputs": [
    {
     "name": "stdout",
     "output_type": "stream",
     "text": [
      "Training time: 52.95186948776245 seconds.\n",
      "--------------------------------------------TRAIN RESULTS--------------------------------------------\n",
      "Confusion Matrix:\n",
      "[[23433  3442]\n",
      " [ 3490 20443]]\n",
      "Classification Report:\n",
      "              precision    recall  f1-score   support\n",
      "\n",
      "           0       0.87      0.87      0.87     26875\n",
      "           1       0.86      0.85      0.86     23933\n",
      "\n",
      "   micro avg       0.86      0.86      0.86     50808\n",
      "   macro avg       0.86      0.86      0.86     50808\n",
      "weighted avg       0.86      0.86      0.86     50808\n",
      "\n",
      "----------------------------------------------------------------------------------------------------\n",
      "--------------------------------------------TEST RESULTS--------------------------------------------\n",
      "Confusion Matrix:\n",
      "[[10080  3908]\n",
      " [ 3432  8049]]\n",
      "Classification Report:\n",
      "              precision    recall  f1-score   support\n",
      "\n",
      "           0       0.75      0.72      0.73     13988\n",
      "           1       0.67      0.70      0.69     11481\n",
      "\n",
      "   micro avg       0.71      0.71      0.71     25469\n",
      "   macro avg       0.71      0.71      0.71     25469\n",
      "weighted avg       0.71      0.71      0.71     25469\n",
      "\n",
      "----------------------------------------------------------------------------------------------------\n",
      "\n",
      "___________________________________________________\n",
      "| MAIN METRIC (test f1-score): 0.6868333475552522 |\n",
      "---------------------------------------------------\n",
      "Training F1-score: 0.8550336693295412\n",
      "\n",
      "Test F1-score: 0.6868333475552522\n"
     ]
    }
   ],
   "source": [
    "# Create a basic model\n",
    "\n",
    "model = Pipeline([\n",
    "    ('encoder', encoder),\n",
    "    ('estimator', XGBClassifier(max_depth=7, n_estimators=1000, n_jobs=-1, \n",
    "                                feature_names=X_train.columns))\n",
    "])\n",
    "\n",
    "# Evaluate the model in the test set (time-splitted)\n",
    "evos.offer_success_test(model)"
   ]
  },
  {
   "cell_type": "markdown",
   "metadata": {},
   "source": [
    "### Conclusions: \n",
    "\n",
    "- All the validation methods give similar results to the test evaluation. The \"hardest\" validation seems to be the one that uses only previously unseen customers to validate. KFold validation takes the longest time, as expected. The time-split validation is the most similar to the way the test validation is done, and also seems to be the closest to the real scenario. It is also fast, so I will use that method for validation. Anyway, if possible and reasonable, I will report the \"unseen customers\" metrics (random split validation by customer), because I think they are informative.\n",
    "\n",
    "\n",
    "- The fact that the \"Random\" validations yield similar results to the \"time-split\" validation could be seen as an informal indicator of stationarity (at least in the one-month period under consideration)."
   ]
  },
  {
   "cell_type": "markdown",
   "metadata": {},
   "source": [
    "# 4 Missing Data <a id='missing'></a>\n",
    "[Top](#top)"
   ]
  },
  {
   "cell_type": "markdown",
   "metadata": {},
   "source": [
    "Two strategies were considered to deal with the missing data:\n",
    " - Fill the missing data with medians and most frequent values (class BasicImputer).\n",
    " - Fill the missing data using an ML estimator to predict the missing features from the non-missing ones (class EstimatorImputer).\n",
    "\n",
    "\n",
    "A function to show some of the results of the imputers was also implemented."
   ]
  },
  {
   "cell_type": "code",
   "execution_count": 158,
   "metadata": {
    "collapsed": true
   },
   "outputs": [],
   "source": [
    "%reset -f"
   ]
  },
  {
   "cell_type": "code",
   "execution_count": 186,
   "metadata": {
    "collapsed": false
   },
   "outputs": [
    {
     "name": "stdout",
     "output_type": "stream",
     "text": [
      "The autoreload extension is already loaded. To reload it, use:\n",
      "  %reload_ext autoreload\n"
     ]
    }
   ],
   "source": [
    "import pandas as pd\n",
    "import numpy as np\n",
    "import math\n",
    "import json\n",
    "import os\n",
    "import matplotlib.pyplot as plt\n",
    "%matplotlib inline\n",
    "\n",
    "%load_ext autoreload\n",
    "%autoreload 2\n",
    "\n",
    "from jupyterthemes import jtplot\n",
    "jtplot.style(theme='solarizedd')\n",
    "plt.rcParams['figure.figsize'] = (20.0, 10.0)\n",
    "\n",
    "import data_utils_mt.utils as utils\n",
    "import seaborn as sns\n",
    "from sklearn.preprocessing import LabelEncoder\n",
    "import datetime as dt\n",
    "from xgboost import XGBClassifier\n",
    "from sklearn.pipeline import Pipeline\n",
    "from sklearn.model_selection import train_test_split\n",
    "from sklearn.metrics import mean_squared_error as mse\n",
    "from sklearn.metrics import accuracy_score\n",
    "\n",
    "ROOT_DIR = '..'\n",
    "DATA_DIR = os.path.join(ROOT_DIR, 'data')\n",
    "DATA_RAW = os.path.join(DATA_DIR, 'raw')\n",
    "DATA_INTERIM = os.path.join(DATA_DIR, 'interim')\n",
    "DATA_EXTERNAL = os.path.join(DATA_DIR, 'external')\n",
    "DATA_PROCESSED = os.path.join(DATA_DIR, 'processed')\n",
    "SRC = os.path.join(ROOT_DIR, 'src')\n",
    "\n",
    "import sys\n",
    "sys.path.append(SRC)\n",
    "\n",
    "import src.data.preprocessing as pp\n",
    "import src.data.success_dataset as sd\n",
    "import src.data.missing_data as md\n",
    "import src.evaluation.offer_success as evos\n",
    "import src.visualization.visualize as vis"
   ]
  },
  {
   "cell_type": "markdown",
   "metadata": {},
   "source": [
    "### BasicImputer"
   ]
  },
  {
   "cell_type": "code",
   "execution_count": 162,
   "metadata": {
    "collapsed": false
   },
   "outputs": [
    {
     "name": "stdout",
     "output_type": "stream",
     "text": [
      "\n",
      "    Fills the demographics missing data with medians and most frequent values.\n",
      "    Args:\n",
      "        fill_mode(list(str)): The names of the columns to fill missing data with\n",
      "        the most frequent value (other than gender value). This is used if new features\n",
      "        are added to the dataset, that have missing data.\n",
      "    \n"
     ]
    }
   ],
   "source": [
    "print(md.BasicImputer.__doc__)"
   ]
  },
  {
   "cell_type": "code",
   "execution_count": 166,
   "metadata": {
    "collapsed": false
   },
   "outputs": [
    {
     "name": "stdout",
     "output_type": "stream",
     "text": [
      "(76277, 28)\n"
     ]
    },
    {
     "data": {
      "text/html": [
       "<div>\n",
       "<style scoped>\n",
       "    .dataframe tbody tr th:only-of-type {\n",
       "        vertical-align: middle;\n",
       "    }\n",
       "\n",
       "    .dataframe tbody tr th {\n",
       "        vertical-align: top;\n",
       "    }\n",
       "\n",
       "    .dataframe thead th {\n",
       "        text-align: right;\n",
       "    }\n",
       "</style>\n",
       "<table border=\"1\" class=\"dataframe\">\n",
       "  <thead>\n",
       "    <tr style=\"text-align: right;\">\n",
       "      <th></th>\n",
       "      <th>person</th>\n",
       "      <th>time</th>\n",
       "      <th>offer_id</th>\n",
       "      <th>age</th>\n",
       "      <th>became_member_on</th>\n",
       "      <th>gender</th>\n",
       "      <th>income</th>\n",
       "      <th>missing_demographics</th>\n",
       "      <th>member_epoch_days</th>\n",
       "      <th>difficulty</th>\n",
       "      <th>...</th>\n",
       "      <th>expected_finish</th>\n",
       "      <th>finish</th>\n",
       "      <th>success</th>\n",
       "      <th>view_time</th>\n",
       "      <th>viewed</th>\n",
       "      <th>actual_reward</th>\n",
       "      <th>profit_in_duration</th>\n",
       "      <th>profit_until_complete</th>\n",
       "      <th>spent_in_duration</th>\n",
       "      <th>spent_until_complete</th>\n",
       "    </tr>\n",
       "  </thead>\n",
       "  <tbody>\n",
       "    <tr>\n",
       "      <th>0</th>\n",
       "      <td>0009655768c64bdeb2e877511632db8f</td>\n",
       "      <td>168</td>\n",
       "      <td>5a8bc65990b245e5a138643cd4eb9837</td>\n",
       "      <td>33.0</td>\n",
       "      <td>2017-04-21</td>\n",
       "      <td>M</td>\n",
       "      <td>72000.0</td>\n",
       "      <td>0</td>\n",
       "      <td>17277</td>\n",
       "      <td>0.0</td>\n",
       "      <td>...</td>\n",
       "      <td>240.0</td>\n",
       "      <td>240.0</td>\n",
       "      <td>0</td>\n",
       "      <td>192.0</td>\n",
       "      <td>1</td>\n",
       "      <td>0.0</td>\n",
       "      <td>22.16</td>\n",
       "      <td>22.16</td>\n",
       "      <td>22.16</td>\n",
       "      <td>22.16</td>\n",
       "    </tr>\n",
       "    <tr>\n",
       "      <th>1</th>\n",
       "      <td>0009655768c64bdeb2e877511632db8f</td>\n",
       "      <td>336</td>\n",
       "      <td>3f207df678b143eea3cee63160fa8bed</td>\n",
       "      <td>33.0</td>\n",
       "      <td>2017-04-21</td>\n",
       "      <td>M</td>\n",
       "      <td>72000.0</td>\n",
       "      <td>0</td>\n",
       "      <td>17277</td>\n",
       "      <td>0.0</td>\n",
       "      <td>...</td>\n",
       "      <td>432.0</td>\n",
       "      <td>432.0</td>\n",
       "      <td>0</td>\n",
       "      <td>372.0</td>\n",
       "      <td>1</td>\n",
       "      <td>0.0</td>\n",
       "      <td>8.57</td>\n",
       "      <td>8.57</td>\n",
       "      <td>8.57</td>\n",
       "      <td>8.57</td>\n",
       "    </tr>\n",
       "    <tr>\n",
       "      <th>2</th>\n",
       "      <td>0009655768c64bdeb2e877511632db8f</td>\n",
       "      <td>408</td>\n",
       "      <td>f19421c1d4aa40978ebb69ca19b0e20d</td>\n",
       "      <td>33.0</td>\n",
       "      <td>2017-04-21</td>\n",
       "      <td>M</td>\n",
       "      <td>72000.0</td>\n",
       "      <td>0</td>\n",
       "      <td>17277</td>\n",
       "      <td>5.0</td>\n",
       "      <td>...</td>\n",
       "      <td>528.0</td>\n",
       "      <td>414.0</td>\n",
       "      <td>0</td>\n",
       "      <td>NaN</td>\n",
       "      <td>0</td>\n",
       "      <td>5.0</td>\n",
       "      <td>17.68</td>\n",
       "      <td>3.57</td>\n",
       "      <td>22.68</td>\n",
       "      <td>8.57</td>\n",
       "    </tr>\n",
       "    <tr>\n",
       "      <th>3</th>\n",
       "      <td>0009655768c64bdeb2e877511632db8f</td>\n",
       "      <td>504</td>\n",
       "      <td>fafdcd668e3743c1bb461111dcafc2a4</td>\n",
       "      <td>33.0</td>\n",
       "      <td>2017-04-21</td>\n",
       "      <td>M</td>\n",
       "      <td>72000.0</td>\n",
       "      <td>0</td>\n",
       "      <td>17277</td>\n",
       "      <td>10.0</td>\n",
       "      <td>...</td>\n",
       "      <td>744.0</td>\n",
       "      <td>528.0</td>\n",
       "      <td>0</td>\n",
       "      <td>NaN</td>\n",
       "      <td>0</td>\n",
       "      <td>2.0</td>\n",
       "      <td>94.87</td>\n",
       "      <td>12.11</td>\n",
       "      <td>96.87</td>\n",
       "      <td>14.11</td>\n",
       "    </tr>\n",
       "    <tr>\n",
       "      <th>4</th>\n",
       "      <td>0009655768c64bdeb2e877511632db8f</td>\n",
       "      <td>576</td>\n",
       "      <td>2906b810c7d4411798c6938adc9daaa5</td>\n",
       "      <td>33.0</td>\n",
       "      <td>2017-04-21</td>\n",
       "      <td>M</td>\n",
       "      <td>72000.0</td>\n",
       "      <td>0</td>\n",
       "      <td>17277</td>\n",
       "      <td>10.0</td>\n",
       "      <td>...</td>\n",
       "      <td>744.0</td>\n",
       "      <td>576.0</td>\n",
       "      <td>0</td>\n",
       "      <td>NaN</td>\n",
       "      <td>0</td>\n",
       "      <td>2.0</td>\n",
       "      <td>67.20</td>\n",
       "      <td>8.27</td>\n",
       "      <td>69.20</td>\n",
       "      <td>10.27</td>\n",
       "    </tr>\n",
       "  </tbody>\n",
       "</table>\n",
       "<p>5 rows × 28 columns</p>\n",
       "</div>"
      ],
      "text/plain": [
       "                             person  time                          offer_id  \\\n",
       "0  0009655768c64bdeb2e877511632db8f   168  5a8bc65990b245e5a138643cd4eb9837   \n",
       "1  0009655768c64bdeb2e877511632db8f   336  3f207df678b143eea3cee63160fa8bed   \n",
       "2  0009655768c64bdeb2e877511632db8f   408  f19421c1d4aa40978ebb69ca19b0e20d   \n",
       "3  0009655768c64bdeb2e877511632db8f   504  fafdcd668e3743c1bb461111dcafc2a4   \n",
       "4  0009655768c64bdeb2e877511632db8f   576  2906b810c7d4411798c6938adc9daaa5   \n",
       "\n",
       "    age became_member_on gender   income  missing_demographics  \\\n",
       "0  33.0       2017-04-21      M  72000.0                     0   \n",
       "1  33.0       2017-04-21      M  72000.0                     0   \n",
       "2  33.0       2017-04-21      M  72000.0                     0   \n",
       "3  33.0       2017-04-21      M  72000.0                     0   \n",
       "4  33.0       2017-04-21      M  72000.0                     0   \n",
       "\n",
       "   member_epoch_days  difficulty          ...           expected_finish  \\\n",
       "0              17277         0.0          ...                     240.0   \n",
       "1              17277         0.0          ...                     432.0   \n",
       "2              17277         5.0          ...                     528.0   \n",
       "3              17277        10.0          ...                     744.0   \n",
       "4              17277        10.0          ...                     744.0   \n",
       "\n",
       "  finish  success  view_time  viewed  actual_reward  profit_in_duration  \\\n",
       "0  240.0        0      192.0       1            0.0               22.16   \n",
       "1  432.0        0      372.0       1            0.0                8.57   \n",
       "2  414.0        0        NaN       0            5.0               17.68   \n",
       "3  528.0        0        NaN       0            2.0               94.87   \n",
       "4  576.0        0        NaN       0            2.0               67.20   \n",
       "\n",
       "   profit_until_complete  spent_in_duration  spent_until_complete  \n",
       "0                  22.16              22.16                 22.16  \n",
       "1                   8.57               8.57                  8.57  \n",
       "2                   3.57              22.68                  8.57  \n",
       "3                  12.11              96.87                 14.11  \n",
       "4                   8.27              69.20                 10.27  \n",
       "\n",
       "[5 rows x 28 columns]"
      ]
     },
     "execution_count": 166,
     "metadata": {},
     "output_type": "execute_result"
    }
   ],
   "source": [
    "data = pd.read_pickle(os.path.join(DATA_INTERIM, 'static_data.pkl'))\n",
    "print(data.shape)\n",
    "data.head()"
   ]
  },
  {
   "cell_type": "code",
   "execution_count": 167,
   "metadata": {
    "collapsed": false
   },
   "outputs": [
    {
     "data": {
      "text/plain": [
       "view_time                0.249748\n",
       "age                      0.128164\n",
       "gender                   0.128164\n",
       "income                   0.128164\n",
       "spent_until_complete     0.000000\n",
       "reward_t                 0.000000\n",
       "time                     0.000000\n",
       "offer_id                 0.000000\n",
       "became_member_on         0.000000\n",
       "missing_demographics     0.000000\n",
       "member_epoch_days        0.000000\n",
       "difficulty               0.000000\n",
       "duration                 0.000000\n",
       "offer_type               0.000000\n",
       "channel_web              0.000000\n",
       "spent_in_duration        0.000000\n",
       "channel_mobile           0.000000\n",
       "channel_email            0.000000\n",
       "channel_social           0.000000\n",
       "completed                0.000000\n",
       "expected_finish          0.000000\n",
       "finish                   0.000000\n",
       "success                  0.000000\n",
       "viewed                   0.000000\n",
       "actual_reward            0.000000\n",
       "profit_in_duration       0.000000\n",
       "profit_until_complete    0.000000\n",
       "person                   0.000000\n",
       "dtype: float64"
      ]
     },
     "execution_count": 167,
     "metadata": {},
     "output_type": "execute_result"
    }
   ],
   "source": [
    "data.isnull().mean().sort_values(ascending=False)"
   ]
  },
  {
   "cell_type": "code",
   "execution_count": 168,
   "metadata": {
    "collapsed": false
   },
   "outputs": [
    {
     "data": {
      "text/plain": [
       "0"
      ]
     },
     "execution_count": 168,
     "metadata": {},
     "output_type": "execute_result"
    }
   ],
   "source": [
    "data[data.viewed == 1].view_time.isnull().sum()"
   ]
  },
  {
   "cell_type": "markdown",
   "metadata": {},
   "source": [
    "The \"view_time\" column has missing values only in the places where the customer didn't see the offer, which is reasonable. There is nothing to fill there. The values to fill are those from the demographics of the customer: age, gender, income."
   ]
  },
  {
   "cell_type": "code",
   "execution_count": 170,
   "metadata": {
    "collapsed": false
   },
   "outputs": [
    {
     "name": "stdout",
     "output_type": "stream",
     "text": [
      "CPU times: user 395 ms, sys: 52 µs, total: 395 ms\n",
      "Wall time: 385 ms\n",
      "view_time                0.249748\n",
      "spent_until_complete     0.000000\n",
      "reward_t                 0.000000\n",
      "time                     0.000000\n",
      "offer_id                 0.000000\n",
      "age                      0.000000\n",
      "became_member_on         0.000000\n",
      "gender                   0.000000\n",
      "income                   0.000000\n",
      "missing_demographics     0.000000\n",
      "member_epoch_days        0.000000\n",
      "difficulty               0.000000\n",
      "duration                 0.000000\n",
      "offer_type               0.000000\n",
      "channel_web              0.000000\n",
      "spent_in_duration        0.000000\n",
      "channel_mobile           0.000000\n",
      "channel_email            0.000000\n",
      "channel_social           0.000000\n",
      "completed                0.000000\n",
      "expected_finish          0.000000\n",
      "finish                   0.000000\n",
      "success                  0.000000\n",
      "viewed                   0.000000\n",
      "actual_reward            0.000000\n",
      "profit_in_duration       0.000000\n",
      "profit_until_complete    0.000000\n",
      "person                   0.000000\n",
      "dtype: float64\n"
     ]
    },
    {
     "data": {
      "text/html": [
       "<div>\n",
       "<style scoped>\n",
       "    .dataframe tbody tr th:only-of-type {\n",
       "        vertical-align: middle;\n",
       "    }\n",
       "\n",
       "    .dataframe tbody tr th {\n",
       "        vertical-align: top;\n",
       "    }\n",
       "\n",
       "    .dataframe thead th {\n",
       "        text-align: right;\n",
       "    }\n",
       "</style>\n",
       "<table border=\"1\" class=\"dataframe\">\n",
       "  <thead>\n",
       "    <tr style=\"text-align: right;\">\n",
       "      <th></th>\n",
       "      <th>person</th>\n",
       "      <th>time</th>\n",
       "      <th>offer_id</th>\n",
       "      <th>age</th>\n",
       "      <th>became_member_on</th>\n",
       "      <th>gender</th>\n",
       "      <th>income</th>\n",
       "      <th>missing_demographics</th>\n",
       "      <th>member_epoch_days</th>\n",
       "      <th>difficulty</th>\n",
       "      <th>...</th>\n",
       "      <th>expected_finish</th>\n",
       "      <th>finish</th>\n",
       "      <th>success</th>\n",
       "      <th>view_time</th>\n",
       "      <th>viewed</th>\n",
       "      <th>actual_reward</th>\n",
       "      <th>profit_in_duration</th>\n",
       "      <th>profit_until_complete</th>\n",
       "      <th>spent_in_duration</th>\n",
       "      <th>spent_until_complete</th>\n",
       "    </tr>\n",
       "  </thead>\n",
       "  <tbody>\n",
       "    <tr>\n",
       "      <th>0</th>\n",
       "      <td>0009655768c64bdeb2e877511632db8f</td>\n",
       "      <td>168</td>\n",
       "      <td>5a8bc65990b245e5a138643cd4eb9837</td>\n",
       "      <td>33.0</td>\n",
       "      <td>2017-04-21</td>\n",
       "      <td>1.0</td>\n",
       "      <td>72000.0</td>\n",
       "      <td>0</td>\n",
       "      <td>17277</td>\n",
       "      <td>0.0</td>\n",
       "      <td>...</td>\n",
       "      <td>240.0</td>\n",
       "      <td>240.0</td>\n",
       "      <td>0</td>\n",
       "      <td>192.0</td>\n",
       "      <td>1</td>\n",
       "      <td>0.0</td>\n",
       "      <td>22.16</td>\n",
       "      <td>22.16</td>\n",
       "      <td>22.16</td>\n",
       "      <td>22.16</td>\n",
       "    </tr>\n",
       "    <tr>\n",
       "      <th>1</th>\n",
       "      <td>0009655768c64bdeb2e877511632db8f</td>\n",
       "      <td>336</td>\n",
       "      <td>3f207df678b143eea3cee63160fa8bed</td>\n",
       "      <td>33.0</td>\n",
       "      <td>2017-04-21</td>\n",
       "      <td>1.0</td>\n",
       "      <td>72000.0</td>\n",
       "      <td>0</td>\n",
       "      <td>17277</td>\n",
       "      <td>0.0</td>\n",
       "      <td>...</td>\n",
       "      <td>432.0</td>\n",
       "      <td>432.0</td>\n",
       "      <td>0</td>\n",
       "      <td>372.0</td>\n",
       "      <td>1</td>\n",
       "      <td>0.0</td>\n",
       "      <td>8.57</td>\n",
       "      <td>8.57</td>\n",
       "      <td>8.57</td>\n",
       "      <td>8.57</td>\n",
       "    </tr>\n",
       "    <tr>\n",
       "      <th>2</th>\n",
       "      <td>0009655768c64bdeb2e877511632db8f</td>\n",
       "      <td>408</td>\n",
       "      <td>f19421c1d4aa40978ebb69ca19b0e20d</td>\n",
       "      <td>33.0</td>\n",
       "      <td>2017-04-21</td>\n",
       "      <td>1.0</td>\n",
       "      <td>72000.0</td>\n",
       "      <td>0</td>\n",
       "      <td>17277</td>\n",
       "      <td>5.0</td>\n",
       "      <td>...</td>\n",
       "      <td>528.0</td>\n",
       "      <td>414.0</td>\n",
       "      <td>0</td>\n",
       "      <td>NaN</td>\n",
       "      <td>0</td>\n",
       "      <td>5.0</td>\n",
       "      <td>17.68</td>\n",
       "      <td>3.57</td>\n",
       "      <td>22.68</td>\n",
       "      <td>8.57</td>\n",
       "    </tr>\n",
       "    <tr>\n",
       "      <th>3</th>\n",
       "      <td>0009655768c64bdeb2e877511632db8f</td>\n",
       "      <td>504</td>\n",
       "      <td>fafdcd668e3743c1bb461111dcafc2a4</td>\n",
       "      <td>33.0</td>\n",
       "      <td>2017-04-21</td>\n",
       "      <td>1.0</td>\n",
       "      <td>72000.0</td>\n",
       "      <td>0</td>\n",
       "      <td>17277</td>\n",
       "      <td>10.0</td>\n",
       "      <td>...</td>\n",
       "      <td>744.0</td>\n",
       "      <td>528.0</td>\n",
       "      <td>0</td>\n",
       "      <td>NaN</td>\n",
       "      <td>0</td>\n",
       "      <td>2.0</td>\n",
       "      <td>94.87</td>\n",
       "      <td>12.11</td>\n",
       "      <td>96.87</td>\n",
       "      <td>14.11</td>\n",
       "    </tr>\n",
       "    <tr>\n",
       "      <th>4</th>\n",
       "      <td>0009655768c64bdeb2e877511632db8f</td>\n",
       "      <td>576</td>\n",
       "      <td>2906b810c7d4411798c6938adc9daaa5</td>\n",
       "      <td>33.0</td>\n",
       "      <td>2017-04-21</td>\n",
       "      <td>1.0</td>\n",
       "      <td>72000.0</td>\n",
       "      <td>0</td>\n",
       "      <td>17277</td>\n",
       "      <td>10.0</td>\n",
       "      <td>...</td>\n",
       "      <td>744.0</td>\n",
       "      <td>576.0</td>\n",
       "      <td>0</td>\n",
       "      <td>NaN</td>\n",
       "      <td>0</td>\n",
       "      <td>2.0</td>\n",
       "      <td>67.20</td>\n",
       "      <td>8.27</td>\n",
       "      <td>69.20</td>\n",
       "      <td>10.27</td>\n",
       "    </tr>\n",
       "  </tbody>\n",
       "</table>\n",
       "<p>5 rows × 28 columns</p>\n",
       "</div>"
      ],
      "text/plain": [
       "                             person  time                          offer_id  \\\n",
       "0  0009655768c64bdeb2e877511632db8f   168  5a8bc65990b245e5a138643cd4eb9837   \n",
       "1  0009655768c64bdeb2e877511632db8f   336  3f207df678b143eea3cee63160fa8bed   \n",
       "2  0009655768c64bdeb2e877511632db8f   408  f19421c1d4aa40978ebb69ca19b0e20d   \n",
       "3  0009655768c64bdeb2e877511632db8f   504  fafdcd668e3743c1bb461111dcafc2a4   \n",
       "4  0009655768c64bdeb2e877511632db8f   576  2906b810c7d4411798c6938adc9daaa5   \n",
       "\n",
       "    age became_member_on  gender   income  missing_demographics  \\\n",
       "0  33.0       2017-04-21     1.0  72000.0                     0   \n",
       "1  33.0       2017-04-21     1.0  72000.0                     0   \n",
       "2  33.0       2017-04-21     1.0  72000.0                     0   \n",
       "3  33.0       2017-04-21     1.0  72000.0                     0   \n",
       "4  33.0       2017-04-21     1.0  72000.0                     0   \n",
       "\n",
       "   member_epoch_days  difficulty          ...           expected_finish  \\\n",
       "0              17277         0.0          ...                     240.0   \n",
       "1              17277         0.0          ...                     432.0   \n",
       "2              17277         5.0          ...                     528.0   \n",
       "3              17277        10.0          ...                     744.0   \n",
       "4              17277        10.0          ...                     744.0   \n",
       "\n",
       "   finish  success  view_time  viewed  actual_reward  profit_in_duration  \\\n",
       "0   240.0        0      192.0       1            0.0               22.16   \n",
       "1   432.0        0      372.0       1            0.0                8.57   \n",
       "2   414.0        0        NaN       0            5.0               17.68   \n",
       "3   528.0        0        NaN       0            2.0               94.87   \n",
       "4   576.0        0        NaN       0            2.0               67.20   \n",
       "\n",
       "   profit_until_complete  spent_in_duration  spent_until_complete  \n",
       "0                  22.16              22.16                 22.16  \n",
       "1                   8.57               8.57                  8.57  \n",
       "2                   3.57              22.68                  8.57  \n",
       "3                  12.11              96.87                 14.11  \n",
       "4                   8.27              69.20                 10.27  \n",
       "\n",
       "[5 rows x 28 columns]"
      ]
     },
     "execution_count": 170,
     "metadata": {},
     "output_type": "execute_result"
    }
   ],
   "source": [
    "# Create a pipeline (it is necessary to encode before filling the missing data)\n",
    "encoder_imputer = Pipeline([\n",
    "    ('encoder', pp.BasicEncoder()),\n",
    "    ('imputer', md.BasicImputer())\n",
    "])\n",
    "\n",
    "# Encode and fill with medians and most frequent values.\n",
    "%time filled = encoder_imputer.fit_transform(data)\n",
    "\n",
    "print(filled.isnull().mean().sort_values(ascending=False))\n",
    "filled.head()"
   ]
  },
  {
   "cell_type": "code",
   "execution_count": 173,
   "metadata": {
    "collapsed": false
   },
   "outputs": [
    {
     "data": {
      "image/png": "[encoded data removed]",
      "text/plain": [
       "<Figure size 1440x720 with 2 Axes>"
      ]
     },
     "metadata": {},
     "output_type": "display_data"
    },
    {
     "data": {
      "image/png": "[encoded data removed]",
      "text/plain": [
       "<Figure size 1440x720 with 2 Axes>"
      ]
     },
     "metadata": {},
     "output_type": "display_data"
    },
    {
     "data": {
      "image/png": "[encoded data removed]",
      "text/plain": [
       "<Figure size 1440x720 with 2 Axes>"
      ]
     },
     "metadata": {},
     "output_type": "display_data"
    }
   ],
   "source": [
    "vis.show_imputer_results(data, filled)"
   ]
  },
  {
   "cell_type": "markdown",
   "metadata": {},
   "source": [
    "It can be seen that filling with medians and most frequent values, clearly modifies the values distribution."
   ]
  },
  {
   "cell_type": "markdown",
   "metadata": {},
   "source": [
    "### Filling by fitting an estimator."
   ]
  },
  {
   "cell_type": "markdown",
   "metadata": {},
   "source": [
    "All the (relevant) missing data is in the profile dataframe. The problem is that when a customer has one feature missing it has almost all of them missing. That makes it difficult to estimate the missing data but, in the worst case, the imputed missing data will at least follow the distribution of the rest of the data."
   ]
  },
  {
   "cell_type": "code",
   "execution_count": 174,
   "metadata": {
    "collapsed": false
   },
   "outputs": [
    {
     "name": "stdout",
     "output_type": "stream",
     "text": [
      "\n",
      "    Fills the demographics missing data with predictions from an estimator.\n",
      "    \n"
     ]
    }
   ],
   "source": [
    "print(md.EstimatorImputer.__doc__)"
   ]
  },
  {
   "cell_type": "code",
   "execution_count": 175,
   "metadata": {
    "collapsed": false
   },
   "outputs": [
    {
     "data": {
      "text/plain": [
       "view_time                0.249748\n",
       "age                      0.128164\n",
       "gender                   0.128164\n",
       "income                   0.128164\n",
       "spent_until_complete     0.000000\n",
       "reward_t                 0.000000\n",
       "time                     0.000000\n",
       "offer_id                 0.000000\n",
       "became_member_on         0.000000\n",
       "missing_demographics     0.000000\n",
       "member_epoch_days        0.000000\n",
       "difficulty               0.000000\n",
       "duration                 0.000000\n",
       "offer_type               0.000000\n",
       "channel_web              0.000000\n",
       "spent_in_duration        0.000000\n",
       "channel_mobile           0.000000\n",
       "channel_email            0.000000\n",
       "channel_social           0.000000\n",
       "completed                0.000000\n",
       "expected_finish          0.000000\n",
       "finish                   0.000000\n",
       "success                  0.000000\n",
       "viewed                   0.000000\n",
       "actual_reward            0.000000\n",
       "profit_in_duration       0.000000\n",
       "profit_until_complete    0.000000\n",
       "person                   0.000000\n",
       "dtype: float64"
      ]
     },
     "execution_count": 175,
     "metadata": {},
     "output_type": "execute_result"
    }
   ],
   "source": [
    "# Show the initial status\n",
    "data = pd.read_pickle(os.path.join(DATA_INTERIM, 'static_data.pkl'))\n",
    "data.isnull().mean().sort_values(ascending=False)"
   ]
  },
  {
   "cell_type": "code",
   "execution_count": 176,
   "metadata": {
    "collapsed": false
   },
   "outputs": [
    {
     "name": "stdout",
     "output_type": "stream",
     "text": [
      "CPU times: user 41.1 s, sys: 24.2 ms, total: 41.1 s\n",
      "Wall time: 41.2 s\n",
      "view_time                0.249748\n",
      "member_month             0.000000\n",
      "channel_mobile           0.000000\n",
      "time                     0.000000\n",
      "offer_id                 0.000000\n",
      "age                      0.000000\n",
      "became_member_on         0.000000\n",
      "gender                   0.000000\n",
      "income                   0.000000\n",
      "missing_demographics     0.000000\n",
      "member_epoch_days        0.000000\n",
      "difficulty               0.000000\n",
      "duration                 0.000000\n",
      "offer_type               0.000000\n",
      "reward_t                 0.000000\n",
      "channel_web              0.000000\n",
      "channel_email            0.000000\n",
      "member_year              0.000000\n",
      "channel_social           0.000000\n",
      "completed                0.000000\n",
      "expected_finish          0.000000\n",
      "finish                   0.000000\n",
      "success                  0.000000\n",
      "viewed                   0.000000\n",
      "actual_reward            0.000000\n",
      "profit_in_duration       0.000000\n",
      "profit_until_complete    0.000000\n",
      "spent_in_duration        0.000000\n",
      "spent_until_complete     0.000000\n",
      "member_day               0.000000\n",
      "member_weekday           0.000000\n",
      "person                   0.000000\n",
      "dtype: float64\n"
     ]
    },
    {
     "data": {
      "text/html": [
       "<div>\n",
       "<style scoped>\n",
       "    .dataframe tbody tr th:only-of-type {\n",
       "        vertical-align: middle;\n",
       "    }\n",
       "\n",
       "    .dataframe tbody tr th {\n",
       "        vertical-align: top;\n",
       "    }\n",
       "\n",
       "    .dataframe thead th {\n",
       "        text-align: right;\n",
       "    }\n",
       "</style>\n",
       "<table border=\"1\" class=\"dataframe\">\n",
       "  <thead>\n",
       "    <tr style=\"text-align: right;\">\n",
       "      <th></th>\n",
       "      <th>person</th>\n",
       "      <th>time</th>\n",
       "      <th>offer_id</th>\n",
       "      <th>age</th>\n",
       "      <th>became_member_on</th>\n",
       "      <th>gender</th>\n",
       "      <th>income</th>\n",
       "      <th>missing_demographics</th>\n",
       "      <th>member_epoch_days</th>\n",
       "      <th>difficulty</th>\n",
       "      <th>...</th>\n",
       "      <th>viewed</th>\n",
       "      <th>actual_reward</th>\n",
       "      <th>profit_in_duration</th>\n",
       "      <th>profit_until_complete</th>\n",
       "      <th>spent_in_duration</th>\n",
       "      <th>spent_until_complete</th>\n",
       "      <th>member_day</th>\n",
       "      <th>member_weekday</th>\n",
       "      <th>member_year</th>\n",
       "      <th>member_month</th>\n",
       "    </tr>\n",
       "  </thead>\n",
       "  <tbody>\n",
       "    <tr>\n",
       "      <th>0</th>\n",
       "      <td>0009655768c64bdeb2e877511632db8f</td>\n",
       "      <td>168</td>\n",
       "      <td>5a8bc65990b245e5a138643cd4eb9837</td>\n",
       "      <td>33.0</td>\n",
       "      <td>2017-04-21</td>\n",
       "      <td>1.0</td>\n",
       "      <td>72000.0</td>\n",
       "      <td>0</td>\n",
       "      <td>17277</td>\n",
       "      <td>0.0</td>\n",
       "      <td>...</td>\n",
       "      <td>1</td>\n",
       "      <td>0.0</td>\n",
       "      <td>22.16</td>\n",
       "      <td>22.16</td>\n",
       "      <td>22.16</td>\n",
       "      <td>22.16</td>\n",
       "      <td>21</td>\n",
       "      <td>4</td>\n",
       "      <td>2017</td>\n",
       "      <td>4</td>\n",
       "    </tr>\n",
       "    <tr>\n",
       "      <th>1</th>\n",
       "      <td>0009655768c64bdeb2e877511632db8f</td>\n",
       "      <td>336</td>\n",
       "      <td>3f207df678b143eea3cee63160fa8bed</td>\n",
       "      <td>33.0</td>\n",
       "      <td>2017-04-21</td>\n",
       "      <td>1.0</td>\n",
       "      <td>72000.0</td>\n",
       "      <td>0</td>\n",
       "      <td>17277</td>\n",
       "      <td>0.0</td>\n",
       "      <td>...</td>\n",
       "      <td>1</td>\n",
       "      <td>0.0</td>\n",
       "      <td>8.57</td>\n",
       "      <td>8.57</td>\n",
       "      <td>8.57</td>\n",
       "      <td>8.57</td>\n",
       "      <td>21</td>\n",
       "      <td>4</td>\n",
       "      <td>2017</td>\n",
       "      <td>4</td>\n",
       "    </tr>\n",
       "    <tr>\n",
       "      <th>2</th>\n",
       "      <td>0009655768c64bdeb2e877511632db8f</td>\n",
       "      <td>408</td>\n",
       "      <td>f19421c1d4aa40978ebb69ca19b0e20d</td>\n",
       "      <td>33.0</td>\n",
       "      <td>2017-04-21</td>\n",
       "      <td>1.0</td>\n",
       "      <td>72000.0</td>\n",
       "      <td>0</td>\n",
       "      <td>17277</td>\n",
       "      <td>5.0</td>\n",
       "      <td>...</td>\n",
       "      <td>0</td>\n",
       "      <td>5.0</td>\n",
       "      <td>17.68</td>\n",
       "      <td>3.57</td>\n",
       "      <td>22.68</td>\n",
       "      <td>8.57</td>\n",
       "      <td>21</td>\n",
       "      <td>4</td>\n",
       "      <td>2017</td>\n",
       "      <td>4</td>\n",
       "    </tr>\n",
       "    <tr>\n",
       "      <th>3</th>\n",
       "      <td>0009655768c64bdeb2e877511632db8f</td>\n",
       "      <td>504</td>\n",
       "      <td>fafdcd668e3743c1bb461111dcafc2a4</td>\n",
       "      <td>33.0</td>\n",
       "      <td>2017-04-21</td>\n",
       "      <td>1.0</td>\n",
       "      <td>72000.0</td>\n",
       "      <td>0</td>\n",
       "      <td>17277</td>\n",
       "      <td>10.0</td>\n",
       "      <td>...</td>\n",
       "      <td>0</td>\n",
       "      <td>2.0</td>\n",
       "      <td>94.87</td>\n",
       "      <td>12.11</td>\n",
       "      <td>96.87</td>\n",
       "      <td>14.11</td>\n",
       "      <td>21</td>\n",
       "      <td>4</td>\n",
       "      <td>2017</td>\n",
       "      <td>4</td>\n",
       "    </tr>\n",
       "    <tr>\n",
       "      <th>4</th>\n",
       "      <td>0009655768c64bdeb2e877511632db8f</td>\n",
       "      <td>576</td>\n",
       "      <td>2906b810c7d4411798c6938adc9daaa5</td>\n",
       "      <td>33.0</td>\n",
       "      <td>2017-04-21</td>\n",
       "      <td>1.0</td>\n",
       "      <td>72000.0</td>\n",
       "      <td>0</td>\n",
       "      <td>17277</td>\n",
       "      <td>10.0</td>\n",
       "      <td>...</td>\n",
       "      <td>0</td>\n",
       "      <td>2.0</td>\n",
       "      <td>67.20</td>\n",
       "      <td>8.27</td>\n",
       "      <td>69.20</td>\n",
       "      <td>10.27</td>\n",
       "      <td>21</td>\n",
       "      <td>4</td>\n",
       "      <td>2017</td>\n",
       "      <td>4</td>\n",
       "    </tr>\n",
       "  </tbody>\n",
       "</table>\n",
       "<p>5 rows × 32 columns</p>\n",
       "</div>"
      ],
      "text/plain": [
       "                             person  time                          offer_id  \\\n",
       "0  0009655768c64bdeb2e877511632db8f   168  5a8bc65990b245e5a138643cd4eb9837   \n",
       "1  0009655768c64bdeb2e877511632db8f   336  3f207df678b143eea3cee63160fa8bed   \n",
       "2  0009655768c64bdeb2e877511632db8f   408  f19421c1d4aa40978ebb69ca19b0e20d   \n",
       "3  0009655768c64bdeb2e877511632db8f   504  fafdcd668e3743c1bb461111dcafc2a4   \n",
       "4  0009655768c64bdeb2e877511632db8f   576  2906b810c7d4411798c6938adc9daaa5   \n",
       "\n",
       "    age became_member_on  gender   income  missing_demographics  \\\n",
       "0  33.0       2017-04-21     1.0  72000.0                     0   \n",
       "1  33.0       2017-04-21     1.0  72000.0                     0   \n",
       "2  33.0       2017-04-21     1.0  72000.0                     0   \n",
       "3  33.0       2017-04-21     1.0  72000.0                     0   \n",
       "4  33.0       2017-04-21     1.0  72000.0                     0   \n",
       "\n",
       "   member_epoch_days  difficulty      ...       viewed  actual_reward  \\\n",
       "0              17277         0.0      ...            1            0.0   \n",
       "1              17277         0.0      ...            1            0.0   \n",
       "2              17277         5.0      ...            0            5.0   \n",
       "3              17277        10.0      ...            0            2.0   \n",
       "4              17277        10.0      ...            0            2.0   \n",
       "\n",
       "   profit_in_duration  profit_until_complete  spent_in_duration  \\\n",
       "0               22.16                  22.16              22.16   \n",
       "1                8.57                   8.57               8.57   \n",
       "2               17.68                   3.57              22.68   \n",
       "3               94.87                  12.11              96.87   \n",
       "4               67.20                   8.27              69.20   \n",
       "\n",
       "   spent_until_complete  member_day  member_weekday  member_year  member_month  \n",
       "0                 22.16          21               4         2017             4  \n",
       "1                  8.57          21               4         2017             4  \n",
       "2                  8.57          21               4         2017             4  \n",
       "3                 14.11          21               4         2017             4  \n",
       "4                 10.27          21               4         2017             4  \n",
       "\n",
       "[5 rows x 32 columns]"
      ]
     },
     "execution_count": 176,
     "metadata": {},
     "output_type": "execute_result"
    }
   ],
   "source": [
    "# Create a pipeline (it is necessary to encode before filling the missing data)\n",
    "encoder_imputer = Pipeline([\n",
    "    ('encoder', pp.BasicEncoder()),\n",
    "    ('imputer', md.EstimatorImputer())\n",
    "])\n",
    "\n",
    "# Encode and fill with medians and most frequent values.\n",
    "%time filled = encoder_imputer.fit_transform(data)\n",
    "\n",
    "print(filled.isnull().mean().sort_values(ascending=False))\n",
    "filled.head()"
   ]
  },
  {
   "cell_type": "code",
   "execution_count": 177,
   "metadata": {
    "collapsed": false
   },
   "outputs": [
    {
     "data": {
      "image/png": "[encoded data removed]",
      "text/plain": [
       "<Figure size 1440x720 with 2 Axes>"
      ]
     },
     "metadata": {},
     "output_type": "display_data"
    },
    {
     "data": {
      "image/png": "[encoded data removed]",
      "text/plain": [
       "<Figure size 1440x720 with 2 Axes>"
      ]
     },
     "metadata": {},
     "output_type": "display_data"
    },
    {
     "data": {
      "image/png": "[encoded data removed]",
      "text/plain": [
       "<Figure size 1440x720 with 2 Axes>"
      ]
     },
     "metadata": {},
     "output_type": "display_data"
    }
   ],
   "source": [
    "vis.show_imputer_results(data, filled)"
   ]
  },
  {
   "cell_type": "markdown",
   "metadata": {},
   "source": [
    "That looks better than the BasicImputer, although it takes longer than it. I could use a metric like RMSE or accuracy to see if there is an improvement."
   ]
  },
  {
   "cell_type": "markdown",
   "metadata": {},
   "source": [
    "### Missing data imputers evaluation"
   ]
  },
  {
   "cell_type": "code",
   "execution_count": 178,
   "metadata": {
    "collapsed": true
   },
   "outputs": [],
   "source": [
    "estimator_imputer = Pipeline([\n",
    "    ('encoder', pp.BasicEncoder()),\n",
    "    ('imputer', md.EstimatorImputer())\n",
    "])\n",
    "\n",
    "basic_imputer = Pipeline([\n",
    "    ('encoder', pp.BasicEncoder()),\n",
    "    ('imputer', md.BasicImputer())\n",
    "])"
   ]
  },
  {
   "cell_type": "markdown",
   "metadata": {},
   "source": [
    "#### Let's generate a clean dataset and some fake missing ages, incomes, and genders."
   ]
  },
  {
   "cell_type": "code",
   "execution_count": 183,
   "metadata": {
    "collapsed": false
   },
   "outputs": [
    {
     "name": "stdout",
     "output_type": "stream",
     "text": [
      "gender                   0.300011\n",
      "age                      0.300011\n",
      "income                   0.300011\n",
      "view_time                0.264763\n",
      "channel_mobile           0.000000\n",
      "time                     0.000000\n",
      "offer_id                 0.000000\n",
      "became_member_on         0.000000\n",
      "missing_demographics     0.000000\n",
      "member_epoch_days        0.000000\n",
      "difficulty               0.000000\n",
      "duration                 0.000000\n",
      "offer_type               0.000000\n",
      "reward_t                 0.000000\n",
      "channel_web              0.000000\n",
      "channel_social           0.000000\n",
      "channel_email            0.000000\n",
      "completed                0.000000\n",
      "expected_finish          0.000000\n",
      "finish                   0.000000\n",
      "success                  0.000000\n",
      "viewed                   0.000000\n",
      "actual_reward            0.000000\n",
      "profit_in_duration       0.000000\n",
      "profit_until_complete    0.000000\n",
      "spent_in_duration        0.000000\n",
      "spent_until_complete     0.000000\n",
      "person                   0.000000\n",
      "dtype: float64\n"
     ]
    },
    {
     "data": {
      "text/html": [
       "<div>\n",
       "<style scoped>\n",
       "    .dataframe tbody tr th:only-of-type {\n",
       "        vertical-align: middle;\n",
       "    }\n",
       "\n",
       "    .dataframe tbody tr th {\n",
       "        vertical-align: top;\n",
       "    }\n",
       "\n",
       "    .dataframe thead th {\n",
       "        text-align: right;\n",
       "    }\n",
       "</style>\n",
       "<table border=\"1\" class=\"dataframe\">\n",
       "  <thead>\n",
       "    <tr style=\"text-align: right;\">\n",
       "      <th></th>\n",
       "      <th>person</th>\n",
       "      <th>time</th>\n",
       "      <th>offer_id</th>\n",
       "      <th>became_member_on</th>\n",
       "      <th>missing_demographics</th>\n",
       "      <th>member_epoch_days</th>\n",
       "      <th>difficulty</th>\n",
       "      <th>duration</th>\n",
       "      <th>offer_type</th>\n",
       "      <th>reward_t</th>\n",
       "      <th>...</th>\n",
       "      <th>view_time</th>\n",
       "      <th>viewed</th>\n",
       "      <th>actual_reward</th>\n",
       "      <th>profit_in_duration</th>\n",
       "      <th>profit_until_complete</th>\n",
       "      <th>spent_in_duration</th>\n",
       "      <th>spent_until_complete</th>\n",
       "      <th>age</th>\n",
       "      <th>income</th>\n",
       "      <th>gender</th>\n",
       "    </tr>\n",
       "  </thead>\n",
       "  <tbody>\n",
       "    <tr>\n",
       "      <th>48822</th>\n",
       "      <td>a2506fdc02c544a98f491ac97fa62f88</td>\n",
       "      <td>0</td>\n",
       "      <td>fafdcd668e3743c1bb461111dcafc2a4</td>\n",
       "      <td>2018-05-10</td>\n",
       "      <td>0</td>\n",
       "      <td>17661</td>\n",
       "      <td>10.0</td>\n",
       "      <td>10.0</td>\n",
       "      <td>discount</td>\n",
       "      <td>2.0</td>\n",
       "      <td>...</td>\n",
       "      <td>0.0</td>\n",
       "      <td>1</td>\n",
       "      <td>2.0</td>\n",
       "      <td>18.58</td>\n",
       "      <td>12.83</td>\n",
       "      <td>20.58</td>\n",
       "      <td>14.83</td>\n",
       "      <td>64.0</td>\n",
       "      <td>42000.0</td>\n",
       "      <td>M</td>\n",
       "    </tr>\n",
       "    <tr>\n",
       "      <th>18018</th>\n",
       "      <td>3cabd0099961416b9810043e7eb0f743</td>\n",
       "      <td>0</td>\n",
       "      <td>ae264e3637204a6fb9bb56bc8210ddfd</td>\n",
       "      <td>2015-12-18</td>\n",
       "      <td>0</td>\n",
       "      <td>16787</td>\n",
       "      <td>10.0</td>\n",
       "      <td>7.0</td>\n",
       "      <td>bogo</td>\n",
       "      <td>10.0</td>\n",
       "      <td>...</td>\n",
       "      <td>42.0</td>\n",
       "      <td>1</td>\n",
       "      <td>10.0</td>\n",
       "      <td>75.03</td>\n",
       "      <td>21.11</td>\n",
       "      <td>85.03</td>\n",
       "      <td>31.11</td>\n",
       "      <td>43.0</td>\n",
       "      <td>52000.0</td>\n",
       "      <td>M</td>\n",
       "    </tr>\n",
       "    <tr>\n",
       "      <th>578</th>\n",
       "      <td>020d72e77c704c42bb0a858c1aaa3bcd</td>\n",
       "      <td>0</td>\n",
       "      <td>3f207df678b143eea3cee63160fa8bed</td>\n",
       "      <td>2017-06-26</td>\n",
       "      <td>0</td>\n",
       "      <td>17343</td>\n",
       "      <td>0.0</td>\n",
       "      <td>4.0</td>\n",
       "      <td>informational</td>\n",
       "      <td>0.0</td>\n",
       "      <td>...</td>\n",
       "      <td>36.0</td>\n",
       "      <td>1</td>\n",
       "      <td>0.0</td>\n",
       "      <td>40.87</td>\n",
       "      <td>40.87</td>\n",
       "      <td>40.87</td>\n",
       "      <td>40.87</td>\n",
       "      <td>68.0</td>\n",
       "      <td>57000.0</td>\n",
       "      <td>F</td>\n",
       "    </tr>\n",
       "    <tr>\n",
       "      <th>65149</th>\n",
       "      <td>da5b9a0ab0424d51a502f9423dc75c81</td>\n",
       "      <td>0</td>\n",
       "      <td>2906b810c7d4411798c6938adc9daaa5</td>\n",
       "      <td>2018-07-22</td>\n",
       "      <td>0</td>\n",
       "      <td>17734</td>\n",
       "      <td>10.0</td>\n",
       "      <td>7.0</td>\n",
       "      <td>discount</td>\n",
       "      <td>2.0</td>\n",
       "      <td>...</td>\n",
       "      <td>84.0</td>\n",
       "      <td>1</td>\n",
       "      <td>0.0</td>\n",
       "      <td>5.15</td>\n",
       "      <td>5.15</td>\n",
       "      <td>5.15</td>\n",
       "      <td>5.15</td>\n",
       "      <td>23.0</td>\n",
       "      <td>32000.0</td>\n",
       "      <td>M</td>\n",
       "    </tr>\n",
       "    <tr>\n",
       "      <th>66253</th>\n",
       "      <td>ddd92ad1b92f4a79be14e1067731a87d</td>\n",
       "      <td>0</td>\n",
       "      <td>3f207df678b143eea3cee63160fa8bed</td>\n",
       "      <td>2017-10-08</td>\n",
       "      <td>0</td>\n",
       "      <td>17447</td>\n",
       "      <td>0.0</td>\n",
       "      <td>4.0</td>\n",
       "      <td>informational</td>\n",
       "      <td>0.0</td>\n",
       "      <td>...</td>\n",
       "      <td>96.0</td>\n",
       "      <td>1</td>\n",
       "      <td>0.0</td>\n",
       "      <td>0.00</td>\n",
       "      <td>0.00</td>\n",
       "      <td>0.00</td>\n",
       "      <td>0.00</td>\n",
       "      <td>31.0</td>\n",
       "      <td>56000.0</td>\n",
       "      <td>M</td>\n",
       "    </tr>\n",
       "  </tbody>\n",
       "</table>\n",
       "<p>5 rows × 28 columns</p>\n",
       "</div>"
      ],
      "text/plain": [
       "                                 person  time  \\\n",
       "48822  a2506fdc02c544a98f491ac97fa62f88     0   \n",
       "18018  3cabd0099961416b9810043e7eb0f743     0   \n",
       "578    020d72e77c704c42bb0a858c1aaa3bcd     0   \n",
       "65149  da5b9a0ab0424d51a502f9423dc75c81     0   \n",
       "66253  ddd92ad1b92f4a79be14e1067731a87d     0   \n",
       "\n",
       "                               offer_id became_member_on  \\\n",
       "48822  fafdcd668e3743c1bb461111dcafc2a4       2018-05-10   \n",
       "18018  ae264e3637204a6fb9bb56bc8210ddfd       2015-12-18   \n",
       "578    3f207df678b143eea3cee63160fa8bed       2017-06-26   \n",
       "65149  2906b810c7d4411798c6938adc9daaa5       2018-07-22   \n",
       "66253  3f207df678b143eea3cee63160fa8bed       2017-10-08   \n",
       "\n",
       "       missing_demographics  member_epoch_days  difficulty  duration  \\\n",
       "48822                     0              17661        10.0      10.0   \n",
       "18018                     0              16787        10.0       7.0   \n",
       "578                       0              17343         0.0       4.0   \n",
       "65149                     0              17734        10.0       7.0   \n",
       "66253                     0              17447         0.0       4.0   \n",
       "\n",
       "          offer_type  reward_t   ...    view_time  viewed  actual_reward  \\\n",
       "48822       discount       2.0   ...          0.0       1            2.0   \n",
       "18018           bogo      10.0   ...         42.0       1           10.0   \n",
       "578    informational       0.0   ...         36.0       1            0.0   \n",
       "65149       discount       2.0   ...         84.0       1            0.0   \n",
       "66253  informational       0.0   ...         96.0       1            0.0   \n",
       "\n",
       "       profit_in_duration  profit_until_complete  spent_in_duration  \\\n",
       "48822               18.58                  12.83              20.58   \n",
       "18018               75.03                  21.11              85.03   \n",
       "578                 40.87                  40.87              40.87   \n",
       "65149                5.15                   5.15               5.15   \n",
       "66253                0.00                   0.00               0.00   \n",
       "\n",
       "       spent_until_complete   age   income  gender  \n",
       "48822                 14.83  64.0  42000.0       M  \n",
       "18018                 31.11  43.0  52000.0       M  \n",
       "578                   40.87  68.0  57000.0       F  \n",
       "65149                  5.15  23.0  32000.0       M  \n",
       "66253                  0.00  31.0  56000.0       M  \n",
       "\n",
       "[5 rows x 28 columns]"
      ]
     },
     "execution_count": 183,
     "metadata": {},
     "output_type": "execute_result"
    }
   ],
   "source": [
    "# Get a dataset without missing demographics\n",
    "clean_data = data[data.missing_demographics == 0]\n",
    "\n",
    "# Separate targets\n",
    "target_feats = ['age', 'income', 'gender']\n",
    "X = clean_data.drop(target_feats, axis=1)\n",
    "y = clean_data[target_feats]\n",
    "\n",
    "# Split\n",
    "X_train, X_test, y_train, y_test = train_test_split(X, y, test_size=0.3,\n",
    "                                                    random_state=2018)\n",
    "\n",
    "# Join again, but only the training set. The test set will contain NaNs in the targets\n",
    "data_train = X_train.join(y_train)\n",
    "X_input = data_train.append(X_test, sort=False).sort_values(by='time')\n",
    "\n",
    "# Show the results\n",
    "print(X_input.isnull().mean().sort_values(ascending=False))\n",
    "X_input.head()"
   ]
  },
  {
   "cell_type": "markdown",
   "metadata": {},
   "source": [
    "#### Let's test both imputers now"
   ]
  },
  {
   "cell_type": "code",
   "execution_count": 184,
   "metadata": {
    "collapsed": false
   },
   "outputs": [
    {
     "name": "stdout",
     "output_type": "stream",
     "text": [
      "CPU times: user 415 ms, sys: 13 µs, total: 415 ms\n",
      "Wall time: 413 ms\n"
     ]
    }
   ],
   "source": [
    "%time X_out_basic = basic_imputer.fit_transform(X_input)"
   ]
  },
  {
   "cell_type": "code",
   "execution_count": 185,
   "metadata": {
    "collapsed": false
   },
   "outputs": [
    {
     "name": "stdout",
     "output_type": "stream",
     "text": [
      "CPU times: user 29.7 s, sys: 4.19 ms, total: 29.7 s\n",
      "Wall time: 29.7 s\n"
     ]
    }
   ],
   "source": [
    "%time X_out_estimator = estimator_imputer.fit_transform(X_input)"
   ]
  },
  {
   "cell_type": "markdown",
   "metadata": {},
   "source": [
    "#### Evaluation"
   ]
  },
  {
   "cell_type": "code",
   "execution_count": 187,
   "metadata": {
    "collapsed": false
   },
   "outputs": [
    {
     "name": "stdout",
     "output_type": "stream",
     "text": [
      "Basic Imputer\n",
      "\n",
      "Age RMSE: 17.358943390751815\n",
      "Income RMSE: 21749.830690857074\n",
      "Gender Accuracy: 0.7546823081245384\n",
      "----------------------------------------------------------------------------------------------------\n",
      "Estimator Imputer\n",
      "\n",
      "Age RMSE: 16.64788070800291\n",
      "Income RMSE: 20668.84273603623\n",
      "Gender Accuracy: 0.7843514886717338\n",
      "----------------------------------------------------------------------------------------------------\n"
     ]
    }
   ],
   "source": [
    "# Name the true values of the missing data\n",
    "age_true = y_test.age\n",
    "income_true = y_test.income\n",
    "gender_true = pp.gender_encode(y_test.loc[:, ['gender']])\n",
    "\n",
    "# Evaluate the Basic Imputer\n",
    "print('Basic Imputer\\n')\n",
    "\n",
    "age_basic_pred = X_out_basic.loc[y_test.index, :].age\n",
    "income_basic_pred = X_out_basic.loc[y_test.index, :].income\n",
    "gender_basic_pred = X_out_basic.loc[y_test.index, :].gender\n",
    "\n",
    "print('Age RMSE: {}'.format(np.sqrt(mse(age_true, age_basic_pred))))\n",
    "print('Income RMSE: {}'.format(np.sqrt(mse(income_true, income_basic_pred))))\n",
    "print('Gender Accuracy: {}'.format(np.sqrt(accuracy_score(gender_true, \n",
    "                                                          gender_basic_pred))))\n",
    "print('-'*100)\n",
    "\n",
    "# Evaluate the Estimator Imputer\n",
    "print('Estimator Imputer\\n')\n",
    "\n",
    "age_est_pred = X_out_estimator.loc[y_test.index, :].age\n",
    "income_est_pred = X_out_estimator.loc[y_test.index, :].income\n",
    "gender_est_pred = X_out_estimator.loc[y_test.index, :].gender\n",
    "\n",
    "print('Age RMSE: {}'.format(np.sqrt(mse(age_true, age_est_pred))))\n",
    "print('Income RMSE: {}'.format(np.sqrt(mse(income_true, income_est_pred))))\n",
    "print('Gender Accuracy: {}'.format(np.sqrt(accuracy_score(gender_true, \n",
    "                                                          gender_est_pred))))\n",
    "print('-'*100)"
   ]
  },
  {
   "cell_type": "markdown",
   "metadata": {},
   "source": [
    "#### As expected, the Estimator Imputer gives better results in all the features, but it takes much longer to process the data."
   ]
  },
  {
   "cell_type": "markdown",
   "metadata": {},
   "source": [
    "# 5 Clustering <a id='clustering'></a>\n",
    "[Top](#top)"
   ]
  },
  {
   "cell_type": "code",
   "execution_count": null,
   "metadata": {
    "collapsed": true
   },
   "outputs": [],
   "source": []
  }
 ],
 "metadata": {
  "kernelspec": {
   "display_name": "sbucks",
   "language": "python",
   "name": "sbucks"
  },
  "language_info": {
   "codemirror_mode": {
    "name": "ipython",
    "version": 3
   },
   "file_extension": ".py",
   "mimetype": "text/x-python",
   "name": "python",
   "nbconvert_exporter": "python",
   "pygments_lexer": "ipython3",
   "version": "3.7.1"
  }
 },
 "nbformat": 4,
 "nbformat_minor": 2
}
