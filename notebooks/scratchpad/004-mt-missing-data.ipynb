{
 "cells": [
  {
   "cell_type": "markdown",
   "metadata": {},
   "source": [
    "# This notebook is to implement different ways to handle the missing data"
   ]
  },
  {
   "cell_type": "code",
   "execution_count": 28,
   "metadata": {},
   "outputs": [
    {
     "name": "stdout",
     "output_type": "stream",
     "text": [
      "The autoreload extension is already loaded. To reload it, use:\n",
      "  %reload_ext autoreload\n"
     ]
    }
   ],
   "source": [
    "import pandas as pd\n",
    "import numpy as np\n",
    "import math\n",
    "import json\n",
    "import os\n",
    "import matplotlib.pyplot as plt\n",
    "%matplotlib inline\n",
    "\n",
    "%load_ext autoreload\n",
    "%autoreload 2\n",
    "\n",
    "from jupyterthemes import jtplot\n",
    "jtplot.style(theme='solarizedd')\n",
    "plt.rcParams['figure.figsize'] = (20.0, 10.0)\n",
    "\n",
    "import data_utils_mt.utils as utils\n",
    "import seaborn as sns\n",
    "from sklearn.preprocessing import LabelEncoder\n",
    "import datetime as dt\n",
    "from xgboost import XGBClassifier\n",
    "\n",
    "ROOT = '../..'\n",
    "DATA = os.path.join(ROOT, 'data')\n",
    "DATA_RAW = os.path.join(DATA, 'raw')\n",
    "SRC = os.path.join(ROOT, 'src')\n",
    "\n",
    "import sys\n",
    "sys.path.append(SRC)\n",
    "\n",
    "import src.data.preprocessing as pp"
   ]
  },
  {
   "cell_type": "markdown",
   "metadata": {},
   "source": [
    "The only missing data in the datasets is the demographics in the \"profile\" dataframe."
   ]
  },
  {
   "cell_type": "markdown",
   "metadata": {},
   "source": [
    "## Get the initial data (not to be modified)"
   ]
  },
  {
   "cell_type": "code",
   "execution_count": 29,
   "metadata": {},
   "outputs": [],
   "source": [
    "# Read in the json files\n",
    "portfolio = pd.read_json(os.path.join(DATA_RAW, 'portfolio.json'), orient='records', lines=True)\n",
    "profile = pd.read_json(os.path.join(DATA_RAW, 'profile.json'), orient='records', lines=True)\n",
    "transcript = pd.read_json(os.path.join(DATA_RAW, 'transcript.json'), orient='records', lines=True)\n",
    "\n",
    "# Basic preprocessing\n",
    "data, portfolio = pp.basic_preprocessing(portfolio, profile, transcript)"
   ]
  },
  {
   "cell_type": "code",
   "execution_count": 30,
   "metadata": {},
   "outputs": [
    {
     "name": "stdout",
     "output_type": "stream",
     "text": [
      "(306534, 20)\n"
     ]
    },
    {
     "data": {
      "text/html": [
       "<div>\n",
       "<style scoped>\n",
       "    .dataframe tbody tr th:only-of-type {\n",
       "        vertical-align: middle;\n",
       "    }\n",
       "\n",
       "    .dataframe tbody tr th {\n",
       "        vertical-align: top;\n",
       "    }\n",
       "\n",
       "    .dataframe thead th {\n",
       "        text-align: right;\n",
       "    }\n",
       "</style>\n",
       "<table border=\"1\" class=\"dataframe\">\n",
       "  <thead>\n",
       "    <tr style=\"text-align: right;\">\n",
       "      <th></th>\n",
       "      <th>event</th>\n",
       "      <th>person</th>\n",
       "      <th>time</th>\n",
       "      <th>amount</th>\n",
       "      <th>offer_id</th>\n",
       "      <th>reward</th>\n",
       "      <th>age</th>\n",
       "      <th>became_member_on</th>\n",
       "      <th>gender</th>\n",
       "      <th>income</th>\n",
       "      <th>missing_demographics</th>\n",
       "      <th>member_epoch_days</th>\n",
       "      <th>difficulty</th>\n",
       "      <th>duration</th>\n",
       "      <th>offer_type</th>\n",
       "      <th>reward_t</th>\n",
       "      <th>channel_mobile</th>\n",
       "      <th>channel_email</th>\n",
       "      <th>channel_web</th>\n",
       "      <th>channel_social</th>\n",
       "    </tr>\n",
       "  </thead>\n",
       "  <tbody>\n",
       "    <tr>\n",
       "      <th>0</th>\n",
       "      <td>offer received</td>\n",
       "      <td>78afa995795e4d85b5d9ceeca43f5fef</td>\n",
       "      <td>0</td>\n",
       "      <td>NaN</td>\n",
       "      <td>9b98b8c7a33c4b65b9aebfe6a799e6d9</td>\n",
       "      <td>NaN</td>\n",
       "      <td>75.0</td>\n",
       "      <td>2017-05-09</td>\n",
       "      <td>F</td>\n",
       "      <td>100000.0</td>\n",
       "      <td>0</td>\n",
       "      <td>17295</td>\n",
       "      <td>5.0</td>\n",
       "      <td>7.0</td>\n",
       "      <td>bogo</td>\n",
       "      <td>5.0</td>\n",
       "      <td>1.0</td>\n",
       "      <td>1.0</td>\n",
       "      <td>1.0</td>\n",
       "      <td>0.0</td>\n",
       "    </tr>\n",
       "    <tr>\n",
       "      <th>1</th>\n",
       "      <td>offer received</td>\n",
       "      <td>a03223e636434f42ac4c3df47e8bac43</td>\n",
       "      <td>0</td>\n",
       "      <td>NaN</td>\n",
       "      <td>0b1e1539f2cc45b7b9fa7c272da2e1d7</td>\n",
       "      <td>NaN</td>\n",
       "      <td>NaN</td>\n",
       "      <td>2017-08-04</td>\n",
       "      <td>None</td>\n",
       "      <td>NaN</td>\n",
       "      <td>1</td>\n",
       "      <td>17382</td>\n",
       "      <td>20.0</td>\n",
       "      <td>10.0</td>\n",
       "      <td>discount</td>\n",
       "      <td>5.0</td>\n",
       "      <td>0.0</td>\n",
       "      <td>1.0</td>\n",
       "      <td>1.0</td>\n",
       "      <td>0.0</td>\n",
       "    </tr>\n",
       "    <tr>\n",
       "      <th>2</th>\n",
       "      <td>offer received</td>\n",
       "      <td>e2127556f4f64592b11af22de27a7932</td>\n",
       "      <td>0</td>\n",
       "      <td>NaN</td>\n",
       "      <td>2906b810c7d4411798c6938adc9daaa5</td>\n",
       "      <td>NaN</td>\n",
       "      <td>68.0</td>\n",
       "      <td>2018-04-26</td>\n",
       "      <td>M</td>\n",
       "      <td>70000.0</td>\n",
       "      <td>0</td>\n",
       "      <td>17647</td>\n",
       "      <td>10.0</td>\n",
       "      <td>7.0</td>\n",
       "      <td>discount</td>\n",
       "      <td>2.0</td>\n",
       "      <td>1.0</td>\n",
       "      <td>1.0</td>\n",
       "      <td>1.0</td>\n",
       "      <td>0.0</td>\n",
       "    </tr>\n",
       "    <tr>\n",
       "      <th>3</th>\n",
       "      <td>offer received</td>\n",
       "      <td>8ec6ce2a7e7949b1bf142def7d0e0586</td>\n",
       "      <td>0</td>\n",
       "      <td>NaN</td>\n",
       "      <td>fafdcd668e3743c1bb461111dcafc2a4</td>\n",
       "      <td>NaN</td>\n",
       "      <td>NaN</td>\n",
       "      <td>2017-09-25</td>\n",
       "      <td>None</td>\n",
       "      <td>NaN</td>\n",
       "      <td>1</td>\n",
       "      <td>17434</td>\n",
       "      <td>10.0</td>\n",
       "      <td>10.0</td>\n",
       "      <td>discount</td>\n",
       "      <td>2.0</td>\n",
       "      <td>1.0</td>\n",
       "      <td>1.0</td>\n",
       "      <td>1.0</td>\n",
       "      <td>1.0</td>\n",
       "    </tr>\n",
       "    <tr>\n",
       "      <th>4</th>\n",
       "      <td>offer received</td>\n",
       "      <td>68617ca6246f4fbc85e91a2a49552598</td>\n",
       "      <td>0</td>\n",
       "      <td>NaN</td>\n",
       "      <td>4d5c57ea9a6940dd891ad53e9dbe8da0</td>\n",
       "      <td>NaN</td>\n",
       "      <td>NaN</td>\n",
       "      <td>2017-10-02</td>\n",
       "      <td>None</td>\n",
       "      <td>NaN</td>\n",
       "      <td>1</td>\n",
       "      <td>17441</td>\n",
       "      <td>10.0</td>\n",
       "      <td>5.0</td>\n",
       "      <td>bogo</td>\n",
       "      <td>10.0</td>\n",
       "      <td>1.0</td>\n",
       "      <td>1.0</td>\n",
       "      <td>1.0</td>\n",
       "      <td>1.0</td>\n",
       "    </tr>\n",
       "  </tbody>\n",
       "</table>\n",
       "</div>"
      ],
      "text/plain": [
       "            event                            person  time  amount  \\\n",
       "0  offer received  78afa995795e4d85b5d9ceeca43f5fef     0     NaN   \n",
       "1  offer received  a03223e636434f42ac4c3df47e8bac43     0     NaN   \n",
       "2  offer received  e2127556f4f64592b11af22de27a7932     0     NaN   \n",
       "3  offer received  8ec6ce2a7e7949b1bf142def7d0e0586     0     NaN   \n",
       "4  offer received  68617ca6246f4fbc85e91a2a49552598     0     NaN   \n",
       "\n",
       "                           offer_id  reward   age became_member_on gender  \\\n",
       "0  9b98b8c7a33c4b65b9aebfe6a799e6d9     NaN  75.0       2017-05-09      F   \n",
       "1  0b1e1539f2cc45b7b9fa7c272da2e1d7     NaN   NaN       2017-08-04   None   \n",
       "2  2906b810c7d4411798c6938adc9daaa5     NaN  68.0       2018-04-26      M   \n",
       "3  fafdcd668e3743c1bb461111dcafc2a4     NaN   NaN       2017-09-25   None   \n",
       "4  4d5c57ea9a6940dd891ad53e9dbe8da0     NaN   NaN       2017-10-02   None   \n",
       "\n",
       "     income  missing_demographics  member_epoch_days  difficulty  duration  \\\n",
       "0  100000.0                     0              17295         5.0       7.0   \n",
       "1       NaN                     1              17382        20.0      10.0   \n",
       "2   70000.0                     0              17647        10.0       7.0   \n",
       "3       NaN                     1              17434        10.0      10.0   \n",
       "4       NaN                     1              17441        10.0       5.0   \n",
       "\n",
       "  offer_type  reward_t  channel_mobile  channel_email  channel_web  \\\n",
       "0       bogo       5.0             1.0            1.0          1.0   \n",
       "1   discount       5.0             0.0            1.0          1.0   \n",
       "2   discount       2.0             1.0            1.0          1.0   \n",
       "3   discount       2.0             1.0            1.0          1.0   \n",
       "4       bogo      10.0             1.0            1.0          1.0   \n",
       "\n",
       "   channel_social  \n",
       "0             0.0  \n",
       "1             0.0  \n",
       "2             0.0  \n",
       "3             1.0  \n",
       "4             1.0  "
      ]
     },
     "execution_count": 30,
     "metadata": {},
     "output_type": "execute_result"
    }
   ],
   "source": [
    "print(data.shape)\n",
    "data.head()"
   ]
  },
  {
   "cell_type": "code",
   "execution_count": 31,
   "metadata": {},
   "outputs": [
    {
     "name": "stdout",
     "output_type": "stream",
     "text": [
      "<class 'pandas.core.frame.DataFrame'>\n",
      "Int64Index: 306534 entries, 0 to 306533\n",
      "Data columns (total 20 columns):\n",
      "event                   306534 non-null object\n",
      "person                  306534 non-null object\n",
      "time                    306534 non-null int64\n",
      "amount                  138953 non-null float64\n",
      "offer_id                167581 non-null object\n",
      "reward                  33579 non-null float64\n",
      "age                     272762 non-null float64\n",
      "became_member_on        306534 non-null datetime64[ns]\n",
      "gender                  272762 non-null object\n",
      "income                  272762 non-null float64\n",
      "missing_demographics    306534 non-null int64\n",
      "member_epoch_days       306534 non-null int64\n",
      "difficulty              167581 non-null float64\n",
      "duration                167581 non-null float64\n",
      "offer_type              167581 non-null object\n",
      "reward_t                167581 non-null float64\n",
      "channel_mobile          167581 non-null float64\n",
      "channel_email           167581 non-null float64\n",
      "channel_web             167581 non-null float64\n",
      "channel_social          167581 non-null float64\n",
      "dtypes: datetime64[ns](1), float64(11), int64(3), object(5)\n",
      "memory usage: 49.1+ MB\n"
     ]
    }
   ],
   "source": [
    "data.info()"
   ]
  },
  {
   "cell_type": "code",
   "execution_count": 32,
   "metadata": {},
   "outputs": [
    {
     "data": {
      "text/plain": [
       "reward                  0.890456\n",
       "amount                  0.546696\n",
       "channel_social          0.453304\n",
       "channel_email           0.453304\n",
       "channel_mobile          0.453304\n",
       "reward_t                0.453304\n",
       "offer_type              0.453304\n",
       "duration                0.453304\n",
       "difficulty              0.453304\n",
       "offer_id                0.453304\n",
       "channel_web             0.453304\n",
       "age                     0.110174\n",
       "income                  0.110174\n",
       "gender                  0.110174\n",
       "became_member_on        0.000000\n",
       "missing_demographics    0.000000\n",
       "member_epoch_days       0.000000\n",
       "time                    0.000000\n",
       "person                  0.000000\n",
       "event                   0.000000\n",
       "dtype: float64"
      ]
     },
     "execution_count": 32,
     "metadata": {},
     "output_type": "execute_result"
    }
   ],
   "source": [
    "data.isnull().mean().sort_values(ascending=False)"
   ]
  },
  {
   "cell_type": "markdown",
   "metadata": {},
   "source": [
    "Almost all the missing data is there because the field doesn't make any sense in the kind of event. The only ones that matter are 'age', 'income' and 'gender'; the 'profile' features."
   ]
  },
  {
   "cell_type": "code",
   "execution_count": 33,
   "metadata": {},
   "outputs": [
    {
     "data": {
      "text/plain": [
       "age                     0.127941\n",
       "became_member_on        0.000000\n",
       "gender                  0.127941\n",
       "id                      0.000000\n",
       "income                  0.127941\n",
       "missing_demographics    0.000000\n",
       "member_epoch_days       0.000000\n",
       "dtype: float64"
      ]
     },
     "execution_count": 33,
     "metadata": {},
     "output_type": "execute_result"
    }
   ],
   "source": [
    "profile.isnull().mean()"
   ]
  },
  {
   "cell_type": "markdown",
   "metadata": {},
   "source": [
    "## Basic filling: Median"
   ]
  },
  {
   "cell_type": "code",
   "execution_count": 34,
   "metadata": {},
   "outputs": [],
   "source": [
    "from sklearn.base import BaseEstimator, TransformerMixin"
   ]
  },
  {
   "cell_type": "code",
   "execution_count": 35,
   "metadata": {},
   "outputs": [],
   "source": [
    "class BasicImputer(BaseEstimator, TransformerMixin):\n",
    "    \"\"\"\n",
    "    Fills the demographics missing data with medians and most frequent values.\n",
    "    \"\"\"\n",
    "    def __init__(self):\n",
    "        super(BaseEstimator, self).__init__()\n",
    "        self.age_value = None\n",
    "        self.income_value = None\n",
    "        self.gender_value = None\n",
    "    \n",
    "    def fit(self, X, y=None):\n",
    "        \"\"\" Get some medians. \"\"\"\n",
    "        self.age_value = X.age.median().round()\n",
    "        self.income_value = X.income.median()\n",
    "        self.gender_value = X.gender.mode().values[0]\n",
    "        return self\n",
    "\n",
    "    def transform(self, X):\n",
    "        \"\"\" Encode offer types and gender \"\"\"\n",
    "        return X.fillna({'age': self.age_value,\n",
    "                         'income': self.income_value,\n",
    "                         'gender': self.gender_value})"
   ]
  },
  {
   "cell_type": "code",
   "execution_count": 36,
   "metadata": {},
   "outputs": [],
   "source": [
    "from sklearn.pipeline import Pipeline"
   ]
  },
  {
   "cell_type": "code",
   "execution_count": 37,
   "metadata": {},
   "outputs": [],
   "source": [
    "encoder_imputer = Pipeline([\n",
    "    ('encoder', pp.BasicEncoder()),\n",
    "    ('imputer', BasicImputer())\n",
    "])"
   ]
  },
  {
   "cell_type": "code",
   "execution_count": 38,
   "metadata": {},
   "outputs": [
    {
     "name": "stdout",
     "output_type": "stream",
     "text": [
      "CPU times: user 2.01 s, sys: 167 ms, total: 2.18 s\n",
      "Wall time: 1.25 s\n"
     ]
    }
   ],
   "source": [
    "%time filled = encoder_imputer.fit_transform(data)"
   ]
  },
  {
   "cell_type": "code",
   "execution_count": 39,
   "metadata": {},
   "outputs": [
    {
     "data": {
      "text/html": [
       "<div>\n",
       "<style scoped>\n",
       "    .dataframe tbody tr th:only-of-type {\n",
       "        vertical-align: middle;\n",
       "    }\n",
       "\n",
       "    .dataframe tbody tr th {\n",
       "        vertical-align: top;\n",
       "    }\n",
       "\n",
       "    .dataframe thead th {\n",
       "        text-align: right;\n",
       "    }\n",
       "</style>\n",
       "<table border=\"1\" class=\"dataframe\">\n",
       "  <thead>\n",
       "    <tr style=\"text-align: right;\">\n",
       "      <th></th>\n",
       "      <th>event</th>\n",
       "      <th>person</th>\n",
       "      <th>time</th>\n",
       "      <th>amount</th>\n",
       "      <th>offer_id</th>\n",
       "      <th>reward</th>\n",
       "      <th>age</th>\n",
       "      <th>became_member_on</th>\n",
       "      <th>gender</th>\n",
       "      <th>income</th>\n",
       "      <th>missing_demographics</th>\n",
       "      <th>member_epoch_days</th>\n",
       "      <th>difficulty</th>\n",
       "      <th>duration</th>\n",
       "      <th>offer_type</th>\n",
       "      <th>reward_t</th>\n",
       "      <th>channel_mobile</th>\n",
       "      <th>channel_email</th>\n",
       "      <th>channel_web</th>\n",
       "      <th>channel_social</th>\n",
       "    </tr>\n",
       "  </thead>\n",
       "  <tbody>\n",
       "    <tr>\n",
       "      <th>0</th>\n",
       "      <td>offer received</td>\n",
       "      <td>78afa995795e4d85b5d9ceeca43f5fef</td>\n",
       "      <td>0.0</td>\n",
       "      <td>NaN</td>\n",
       "      <td>9b98b8c7a33c4b65b9aebfe6a799e6d9</td>\n",
       "      <td>NaN</td>\n",
       "      <td>75.0</td>\n",
       "      <td>2017-05-09</td>\n",
       "      <td>0.0</td>\n",
       "      <td>100000.0</td>\n",
       "      <td>0.0</td>\n",
       "      <td>17295.0</td>\n",
       "      <td>5.0</td>\n",
       "      <td>7.0</td>\n",
       "      <td>0</td>\n",
       "      <td>5.0</td>\n",
       "      <td>1.0</td>\n",
       "      <td>1.0</td>\n",
       "      <td>1.0</td>\n",
       "      <td>0.0</td>\n",
       "    </tr>\n",
       "    <tr>\n",
       "      <th>1</th>\n",
       "      <td>offer received</td>\n",
       "      <td>a03223e636434f42ac4c3df47e8bac43</td>\n",
       "      <td>0.0</td>\n",
       "      <td>NaN</td>\n",
       "      <td>0b1e1539f2cc45b7b9fa7c272da2e1d7</td>\n",
       "      <td>NaN</td>\n",
       "      <td>55.0</td>\n",
       "      <td>2017-08-04</td>\n",
       "      <td>1.0</td>\n",
       "      <td>62000.0</td>\n",
       "      <td>1.0</td>\n",
       "      <td>17382.0</td>\n",
       "      <td>20.0</td>\n",
       "      <td>10.0</td>\n",
       "      <td>1</td>\n",
       "      <td>5.0</td>\n",
       "      <td>0.0</td>\n",
       "      <td>1.0</td>\n",
       "      <td>1.0</td>\n",
       "      <td>0.0</td>\n",
       "    </tr>\n",
       "    <tr>\n",
       "      <th>2</th>\n",
       "      <td>offer received</td>\n",
       "      <td>e2127556f4f64592b11af22de27a7932</td>\n",
       "      <td>0.0</td>\n",
       "      <td>NaN</td>\n",
       "      <td>2906b810c7d4411798c6938adc9daaa5</td>\n",
       "      <td>NaN</td>\n",
       "      <td>68.0</td>\n",
       "      <td>2018-04-26</td>\n",
       "      <td>1.0</td>\n",
       "      <td>70000.0</td>\n",
       "      <td>0.0</td>\n",
       "      <td>17647.0</td>\n",
       "      <td>10.0</td>\n",
       "      <td>7.0</td>\n",
       "      <td>1</td>\n",
       "      <td>2.0</td>\n",
       "      <td>1.0</td>\n",
       "      <td>1.0</td>\n",
       "      <td>1.0</td>\n",
       "      <td>0.0</td>\n",
       "    </tr>\n",
       "    <tr>\n",
       "      <th>3</th>\n",
       "      <td>offer received</td>\n",
       "      <td>8ec6ce2a7e7949b1bf142def7d0e0586</td>\n",
       "      <td>0.0</td>\n",
       "      <td>NaN</td>\n",
       "      <td>fafdcd668e3743c1bb461111dcafc2a4</td>\n",
       "      <td>NaN</td>\n",
       "      <td>55.0</td>\n",
       "      <td>2017-09-25</td>\n",
       "      <td>1.0</td>\n",
       "      <td>62000.0</td>\n",
       "      <td>1.0</td>\n",
       "      <td>17434.0</td>\n",
       "      <td>10.0</td>\n",
       "      <td>10.0</td>\n",
       "      <td>1</td>\n",
       "      <td>2.0</td>\n",
       "      <td>1.0</td>\n",
       "      <td>1.0</td>\n",
       "      <td>1.0</td>\n",
       "      <td>1.0</td>\n",
       "    </tr>\n",
       "    <tr>\n",
       "      <th>4</th>\n",
       "      <td>offer received</td>\n",
       "      <td>68617ca6246f4fbc85e91a2a49552598</td>\n",
       "      <td>0.0</td>\n",
       "      <td>NaN</td>\n",
       "      <td>4d5c57ea9a6940dd891ad53e9dbe8da0</td>\n",
       "      <td>NaN</td>\n",
       "      <td>55.0</td>\n",
       "      <td>2017-10-02</td>\n",
       "      <td>1.0</td>\n",
       "      <td>62000.0</td>\n",
       "      <td>1.0</td>\n",
       "      <td>17441.0</td>\n",
       "      <td>10.0</td>\n",
       "      <td>5.0</td>\n",
       "      <td>0</td>\n",
       "      <td>10.0</td>\n",
       "      <td>1.0</td>\n",
       "      <td>1.0</td>\n",
       "      <td>1.0</td>\n",
       "      <td>1.0</td>\n",
       "    </tr>\n",
       "  </tbody>\n",
       "</table>\n",
       "</div>"
      ],
      "text/plain": [
       "            event                            person  time  amount  \\\n",
       "0  offer received  78afa995795e4d85b5d9ceeca43f5fef   0.0     NaN   \n",
       "1  offer received  a03223e636434f42ac4c3df47e8bac43   0.0     NaN   \n",
       "2  offer received  e2127556f4f64592b11af22de27a7932   0.0     NaN   \n",
       "3  offer received  8ec6ce2a7e7949b1bf142def7d0e0586   0.0     NaN   \n",
       "4  offer received  68617ca6246f4fbc85e91a2a49552598   0.0     NaN   \n",
       "\n",
       "                           offer_id  reward   age became_member_on  gender  \\\n",
       "0  9b98b8c7a33c4b65b9aebfe6a799e6d9     NaN  75.0       2017-05-09     0.0   \n",
       "1  0b1e1539f2cc45b7b9fa7c272da2e1d7     NaN  55.0       2017-08-04     1.0   \n",
       "2  2906b810c7d4411798c6938adc9daaa5     NaN  68.0       2018-04-26     1.0   \n",
       "3  fafdcd668e3743c1bb461111dcafc2a4     NaN  55.0       2017-09-25     1.0   \n",
       "4  4d5c57ea9a6940dd891ad53e9dbe8da0     NaN  55.0       2017-10-02     1.0   \n",
       "\n",
       "     income  missing_demographics  member_epoch_days  difficulty  duration  \\\n",
       "0  100000.0                   0.0            17295.0         5.0       7.0   \n",
       "1   62000.0                   1.0            17382.0        20.0      10.0   \n",
       "2   70000.0                   0.0            17647.0        10.0       7.0   \n",
       "3   62000.0                   1.0            17434.0        10.0      10.0   \n",
       "4   62000.0                   1.0            17441.0        10.0       5.0   \n",
       "\n",
       "  offer_type  reward_t  channel_mobile  channel_email  channel_web  \\\n",
       "0          0       5.0             1.0            1.0          1.0   \n",
       "1          1       5.0             0.0            1.0          1.0   \n",
       "2          1       2.0             1.0            1.0          1.0   \n",
       "3          1       2.0             1.0            1.0          1.0   \n",
       "4          0      10.0             1.0            1.0          1.0   \n",
       "\n",
       "   channel_social  \n",
       "0             0.0  \n",
       "1             0.0  \n",
       "2             0.0  \n",
       "3             1.0  \n",
       "4             1.0  "
      ]
     },
     "execution_count": 39,
     "metadata": {},
     "output_type": "execute_result"
    }
   ],
   "source": [
    "filled.head()"
   ]
  },
  {
   "cell_type": "code",
   "execution_count": 40,
   "metadata": {},
   "outputs": [],
   "source": [
    "def add_bar_labels(values):\n",
    "    for i, v in enumerate(values):\n",
    "            plt.text(i, v, str(v), ha='center', fontweight='bold')"
   ]
  },
  {
   "cell_type": "code",
   "execution_count": 41,
   "metadata": {},
   "outputs": [],
   "source": [
    "def show_imputer_results(data, filled, \n",
    "                         continuous=['age', 'income'],\n",
    "                         discrete=['gender']):\n",
    "    \"\"\" Shows some differences between a dataset and a filled dataset. \"\"\"\n",
    "    for feat in continuous:\n",
    "        plt.figure()\n",
    "        ax1 = plt.subplot(1,2,1)\n",
    "        data[feat].hist(bins=30)\n",
    "        plt.title('{} original'.format(feat))\n",
    "        plt.subplot(1,2,2, sharey=ax1)\n",
    "        filled[feat].hist(bins=30)\n",
    "        plt.title('{} filled'.format(feat))\n",
    "    \n",
    "    for feat in discrete:\n",
    "        counts1 = data.gender.value_counts(dropna=False)\n",
    "        counts2 = filled.gender.value_counts(dropna=False)\n",
    "        plt.figure()\n",
    "        ax1 = plt.subplot(1,2,1)\n",
    "        counts1.plot(kind='bar')\n",
    "        plt.title('{} original'.format(feat))\n",
    "        add_bar_labels(counts1)\n",
    "        plt.subplot(1,2,2, sharey=ax1)\n",
    "        counts2.plot(kind='bar')\n",
    "        plt.title('{} filled'.format(feat))\n",
    "        add_bar_labels(counts2)"
   ]
  },
  {
   "cell_type": "code",
   "execution_count": 42,
   "metadata": {},
   "outputs": [
    {
     "data": {
      "image/png": "[encoded data removed]",
      "text/plain": [
       "<Figure size 1440x720 with 2 Axes>"
      ]
     },
     "metadata": {},
     "output_type": "display_data"
    },
    {
     "data": {
      "image/png": "[encoded data removed]",
      "text/plain": [
       "<Figure size 1440x720 with 2 Axes>"
      ]
     },
     "metadata": {},
     "output_type": "display_data"
    },
    {
     "data": {
      "image/png": "[encoded data removed]",
      "text/plain": [
       "<Figure size 1440x720 with 2 Axes>"
      ]
     },
     "metadata": {},
     "output_type": "display_data"
    }
   ],
   "source": [
    "show_imputer_results(data, filled)"
   ]
  },
  {
   "cell_type": "markdown",
   "metadata": {},
   "source": [
    "## Filling by fitting an estimator."
   ]
  },
  {
   "cell_type": "markdown",
   "metadata": {},
   "source": [
    "All the (relevant) missing data is in the profile dataframe. The problem is that when a customer has one feature missing it has almost all of them. That makes it difficult to estimate the missing data but, in the worst case, the imputed missing data will at least follow the distribution of the rest of the data."
   ]
  },
  {
   "cell_type": "code",
   "execution_count": 43,
   "metadata": {},
   "outputs": [
    {
     "data": {
      "text/html": [
       "<div>\n",
       "<style scoped>\n",
       "    .dataframe tbody tr th:only-of-type {\n",
       "        vertical-align: middle;\n",
       "    }\n",
       "\n",
       "    .dataframe tbody tr th {\n",
       "        vertical-align: top;\n",
       "    }\n",
       "\n",
       "    .dataframe thead th {\n",
       "        text-align: right;\n",
       "    }\n",
       "</style>\n",
       "<table border=\"1\" class=\"dataframe\">\n",
       "  <thead>\n",
       "    <tr style=\"text-align: right;\">\n",
       "      <th></th>\n",
       "      <th>age</th>\n",
       "      <th>became_member_on</th>\n",
       "      <th>gender</th>\n",
       "      <th>id</th>\n",
       "      <th>income</th>\n",
       "      <th>missing_demographics</th>\n",
       "      <th>member_epoch_days</th>\n",
       "    </tr>\n",
       "  </thead>\n",
       "  <tbody>\n",
       "    <tr>\n",
       "      <th>0</th>\n",
       "      <td>NaN</td>\n",
       "      <td>2017-02-12</td>\n",
       "      <td>None</td>\n",
       "      <td>68be06ca386d4c31939f3a4f0e3dd783</td>\n",
       "      <td>NaN</td>\n",
       "      <td>1</td>\n",
       "      <td>17209</td>\n",
       "    </tr>\n",
       "    <tr>\n",
       "      <th>1</th>\n",
       "      <td>55.0</td>\n",
       "      <td>2017-07-15</td>\n",
       "      <td>F</td>\n",
       "      <td>0610b486422d4921ae7d2bf64640c50b</td>\n",
       "      <td>112000.0</td>\n",
       "      <td>0</td>\n",
       "      <td>17362</td>\n",
       "    </tr>\n",
       "    <tr>\n",
       "      <th>2</th>\n",
       "      <td>NaN</td>\n",
       "      <td>2018-07-12</td>\n",
       "      <td>None</td>\n",
       "      <td>38fe809add3b4fcf9315a9694bb96ff5</td>\n",
       "      <td>NaN</td>\n",
       "      <td>1</td>\n",
       "      <td>17724</td>\n",
       "    </tr>\n",
       "    <tr>\n",
       "      <th>3</th>\n",
       "      <td>75.0</td>\n",
       "      <td>2017-05-09</td>\n",
       "      <td>F</td>\n",
       "      <td>78afa995795e4d85b5d9ceeca43f5fef</td>\n",
       "      <td>100000.0</td>\n",
       "      <td>0</td>\n",
       "      <td>17295</td>\n",
       "    </tr>\n",
       "    <tr>\n",
       "      <th>4</th>\n",
       "      <td>NaN</td>\n",
       "      <td>2017-08-04</td>\n",
       "      <td>None</td>\n",
       "      <td>a03223e636434f42ac4c3df47e8bac43</td>\n",
       "      <td>NaN</td>\n",
       "      <td>1</td>\n",
       "      <td>17382</td>\n",
       "    </tr>\n",
       "  </tbody>\n",
       "</table>\n",
       "</div>"
      ],
      "text/plain": [
       "    age became_member_on gender                                id    income  \\\n",
       "0   NaN       2017-02-12   None  68be06ca386d4c31939f3a4f0e3dd783       NaN   \n",
       "1  55.0       2017-07-15      F  0610b486422d4921ae7d2bf64640c50b  112000.0   \n",
       "2   NaN       2018-07-12   None  38fe809add3b4fcf9315a9694bb96ff5       NaN   \n",
       "3  75.0       2017-05-09      F  78afa995795e4d85b5d9ceeca43f5fef  100000.0   \n",
       "4   NaN       2017-08-04   None  a03223e636434f42ac4c3df47e8bac43       NaN   \n",
       "\n",
       "   missing_demographics  member_epoch_days  \n",
       "0                     1              17209  \n",
       "1                     0              17362  \n",
       "2                     1              17724  \n",
       "3                     0              17295  \n",
       "4                     1              17382  "
      ]
     },
     "execution_count": 43,
     "metadata": {},
     "output_type": "execute_result"
    }
   ],
   "source": [
    "profile.head()"
   ]
  },
  {
   "cell_type": "code",
   "execution_count": 44,
   "metadata": {},
   "outputs": [
    {
     "name": "stdout",
     "output_type": "stream",
     "text": [
      "<class 'pandas.core.frame.DataFrame'>\n",
      "RangeIndex: 17000 entries, 0 to 16999\n",
      "Data columns (total 7 columns):\n",
      "age                     14825 non-null float64\n",
      "became_member_on        17000 non-null datetime64[ns]\n",
      "gender                  14825 non-null object\n",
      "id                      17000 non-null object\n",
      "income                  14825 non-null float64\n",
      "missing_demographics    17000 non-null int64\n",
      "member_epoch_days       17000 non-null int64\n",
      "dtypes: datetime64[ns](1), float64(2), int64(2), object(2)\n",
      "memory usage: 929.8+ KB\n"
     ]
    }
   ],
   "source": [
    "profile.info()"
   ]
  },
  {
   "cell_type": "markdown",
   "metadata": {},
   "source": [
    "Let's generate some features from the 'became_member_on' feature, which is the only one that is relevant and never is missing."
   ]
  },
  {
   "cell_type": "code",
   "execution_count": 45,
   "metadata": {},
   "outputs": [],
   "source": [
    "def add_date_features(data):\n",
    "    \"\"\" Generates some features from the date the customer became member on,\"\"\"\n",
    "    data['member_day'] = data.became_member_on.dt.day\n",
    "    data['member_weekday'] = data.became_member_on.dt.weekday\n",
    "    data['member_year'] = data.became_member_on.dt.year\n",
    "    data['member_month'] = data.became_member_on.dt.month\n",
    "    \n",
    "    return data"
   ]
  },
  {
   "cell_type": "code",
   "execution_count": 46,
   "metadata": {},
   "outputs": [
    {
     "data": {
      "text/html": [
       "<div>\n",
       "<style scoped>\n",
       "    .dataframe tbody tr th:only-of-type {\n",
       "        vertical-align: middle;\n",
       "    }\n",
       "\n",
       "    .dataframe tbody tr th {\n",
       "        vertical-align: top;\n",
       "    }\n",
       "\n",
       "    .dataframe thead th {\n",
       "        text-align: right;\n",
       "    }\n",
       "</style>\n",
       "<table border=\"1\" class=\"dataframe\">\n",
       "  <thead>\n",
       "    <tr style=\"text-align: right;\">\n",
       "      <th></th>\n",
       "      <th>event</th>\n",
       "      <th>person</th>\n",
       "      <th>time</th>\n",
       "      <th>amount</th>\n",
       "      <th>offer_id</th>\n",
       "      <th>reward</th>\n",
       "      <th>age</th>\n",
       "      <th>became_member_on</th>\n",
       "      <th>gender</th>\n",
       "      <th>income</th>\n",
       "      <th>...</th>\n",
       "      <th>offer_type</th>\n",
       "      <th>reward_t</th>\n",
       "      <th>channel_mobile</th>\n",
       "      <th>channel_email</th>\n",
       "      <th>channel_web</th>\n",
       "      <th>channel_social</th>\n",
       "      <th>member_day</th>\n",
       "      <th>member_weekday</th>\n",
       "      <th>member_year</th>\n",
       "      <th>member_month</th>\n",
       "    </tr>\n",
       "  </thead>\n",
       "  <tbody>\n",
       "    <tr>\n",
       "      <th>0</th>\n",
       "      <td>offer received</td>\n",
       "      <td>78afa995795e4d85b5d9ceeca43f5fef</td>\n",
       "      <td>0</td>\n",
       "      <td>NaN</td>\n",
       "      <td>9b98b8c7a33c4b65b9aebfe6a799e6d9</td>\n",
       "      <td>NaN</td>\n",
       "      <td>75.0</td>\n",
       "      <td>2017-05-09</td>\n",
       "      <td>F</td>\n",
       "      <td>100000.0</td>\n",
       "      <td>...</td>\n",
       "      <td>bogo</td>\n",
       "      <td>5.0</td>\n",
       "      <td>1.0</td>\n",
       "      <td>1.0</td>\n",
       "      <td>1.0</td>\n",
       "      <td>0.0</td>\n",
       "      <td>9</td>\n",
       "      <td>1</td>\n",
       "      <td>2017</td>\n",
       "      <td>5</td>\n",
       "    </tr>\n",
       "    <tr>\n",
       "      <th>1</th>\n",
       "      <td>offer received</td>\n",
       "      <td>a03223e636434f42ac4c3df47e8bac43</td>\n",
       "      <td>0</td>\n",
       "      <td>NaN</td>\n",
       "      <td>0b1e1539f2cc45b7b9fa7c272da2e1d7</td>\n",
       "      <td>NaN</td>\n",
       "      <td>NaN</td>\n",
       "      <td>2017-08-04</td>\n",
       "      <td>None</td>\n",
       "      <td>NaN</td>\n",
       "      <td>...</td>\n",
       "      <td>discount</td>\n",
       "      <td>5.0</td>\n",
       "      <td>0.0</td>\n",
       "      <td>1.0</td>\n",
       "      <td>1.0</td>\n",
       "      <td>0.0</td>\n",
       "      <td>4</td>\n",
       "      <td>4</td>\n",
       "      <td>2017</td>\n",
       "      <td>8</td>\n",
       "    </tr>\n",
       "    <tr>\n",
       "      <th>2</th>\n",
       "      <td>offer received</td>\n",
       "      <td>e2127556f4f64592b11af22de27a7932</td>\n",
       "      <td>0</td>\n",
       "      <td>NaN</td>\n",
       "      <td>2906b810c7d4411798c6938adc9daaa5</td>\n",
       "      <td>NaN</td>\n",
       "      <td>68.0</td>\n",
       "      <td>2018-04-26</td>\n",
       "      <td>M</td>\n",
       "      <td>70000.0</td>\n",
       "      <td>...</td>\n",
       "      <td>discount</td>\n",
       "      <td>2.0</td>\n",
       "      <td>1.0</td>\n",
       "      <td>1.0</td>\n",
       "      <td>1.0</td>\n",
       "      <td>0.0</td>\n",
       "      <td>26</td>\n",
       "      <td>3</td>\n",
       "      <td>2018</td>\n",
       "      <td>4</td>\n",
       "    </tr>\n",
       "    <tr>\n",
       "      <th>3</th>\n",
       "      <td>offer received</td>\n",
       "      <td>8ec6ce2a7e7949b1bf142def7d0e0586</td>\n",
       "      <td>0</td>\n",
       "      <td>NaN</td>\n",
       "      <td>fafdcd668e3743c1bb461111dcafc2a4</td>\n",
       "      <td>NaN</td>\n",
       "      <td>NaN</td>\n",
       "      <td>2017-09-25</td>\n",
       "      <td>None</td>\n",
       "      <td>NaN</td>\n",
       "      <td>...</td>\n",
       "      <td>discount</td>\n",
       "      <td>2.0</td>\n",
       "      <td>1.0</td>\n",
       "      <td>1.0</td>\n",
       "      <td>1.0</td>\n",
       "      <td>1.0</td>\n",
       "      <td>25</td>\n",
       "      <td>0</td>\n",
       "      <td>2017</td>\n",
       "      <td>9</td>\n",
       "    </tr>\n",
       "    <tr>\n",
       "      <th>4</th>\n",
       "      <td>offer received</td>\n",
       "      <td>68617ca6246f4fbc85e91a2a49552598</td>\n",
       "      <td>0</td>\n",
       "      <td>NaN</td>\n",
       "      <td>4d5c57ea9a6940dd891ad53e9dbe8da0</td>\n",
       "      <td>NaN</td>\n",
       "      <td>NaN</td>\n",
       "      <td>2017-10-02</td>\n",
       "      <td>None</td>\n",
       "      <td>NaN</td>\n",
       "      <td>...</td>\n",
       "      <td>bogo</td>\n",
       "      <td>10.0</td>\n",
       "      <td>1.0</td>\n",
       "      <td>1.0</td>\n",
       "      <td>1.0</td>\n",
       "      <td>1.0</td>\n",
       "      <td>2</td>\n",
       "      <td>0</td>\n",
       "      <td>2017</td>\n",
       "      <td>10</td>\n",
       "    </tr>\n",
       "  </tbody>\n",
       "</table>\n",
       "<p>5 rows × 24 columns</p>\n",
       "</div>"
      ],
      "text/plain": [
       "            event                            person  time  amount  \\\n",
       "0  offer received  78afa995795e4d85b5d9ceeca43f5fef     0     NaN   \n",
       "1  offer received  a03223e636434f42ac4c3df47e8bac43     0     NaN   \n",
       "2  offer received  e2127556f4f64592b11af22de27a7932     0     NaN   \n",
       "3  offer received  8ec6ce2a7e7949b1bf142def7d0e0586     0     NaN   \n",
       "4  offer received  68617ca6246f4fbc85e91a2a49552598     0     NaN   \n",
       "\n",
       "                           offer_id  reward   age became_member_on gender  \\\n",
       "0  9b98b8c7a33c4b65b9aebfe6a799e6d9     NaN  75.0       2017-05-09      F   \n",
       "1  0b1e1539f2cc45b7b9fa7c272da2e1d7     NaN   NaN       2017-08-04   None   \n",
       "2  2906b810c7d4411798c6938adc9daaa5     NaN  68.0       2018-04-26      M   \n",
       "3  fafdcd668e3743c1bb461111dcafc2a4     NaN   NaN       2017-09-25   None   \n",
       "4  4d5c57ea9a6940dd891ad53e9dbe8da0     NaN   NaN       2017-10-02   None   \n",
       "\n",
       "     income      ...       offer_type  reward_t  channel_mobile  \\\n",
       "0  100000.0      ...             bogo       5.0             1.0   \n",
       "1       NaN      ...         discount       5.0             0.0   \n",
       "2   70000.0      ...         discount       2.0             1.0   \n",
       "3       NaN      ...         discount       2.0             1.0   \n",
       "4       NaN      ...             bogo      10.0             1.0   \n",
       "\n",
       "   channel_email channel_web  channel_social  member_day  member_weekday  \\\n",
       "0            1.0         1.0             0.0           9               1   \n",
       "1            1.0         1.0             0.0           4               4   \n",
       "2            1.0         1.0             0.0          26               3   \n",
       "3            1.0         1.0             1.0          25               0   \n",
       "4            1.0         1.0             1.0           2               0   \n",
       "\n",
       "   member_year  member_month  \n",
       "0         2017             5  \n",
       "1         2017             8  \n",
       "2         2018             4  \n",
       "3         2017             9  \n",
       "4         2017            10  \n",
       "\n",
       "[5 rows x 24 columns]"
      ]
     },
     "execution_count": 46,
     "metadata": {},
     "output_type": "execute_result"
    }
   ],
   "source": [
    "data = add_date_features(data)\n",
    "data.head()"
   ]
  },
  {
   "cell_type": "code",
   "execution_count": 47,
   "metadata": {},
   "outputs": [],
   "source": [
    "from sklearn.linear_model import LogisticRegression, LinearRegression"
   ]
  },
  {
   "cell_type": "code",
   "execution_count": 48,
   "metadata": {},
   "outputs": [],
   "source": [
    "from xgboost import XGBClassifier, XGBRegressor"
   ]
  },
  {
   "cell_type": "code",
   "execution_count": 172,
   "metadata": {},
   "outputs": [],
   "source": [
    "MEMBER_DATE_FEATS = ['member_epoch_days', 'member_day', 'member_month',\n",
    "                     'member_year', 'member_weekday']\n",
    "\n",
    "class EstimatorImputer(BaseEstimator, TransformerMixin):\n",
    "    \"\"\"\n",
    "    Fills the demographics missing data with predictions from an estimator.\n",
    "    \"\"\"\n",
    "    def __init__(self, features=MEMBER_DATE_FEATS, add_date_feats=True):\n",
    "        super(BaseEstimator, self).__init__()\n",
    "        self.features = features\n",
    "        self.age_estimator = XGBRegressor(max_depth=7, n_estimators=200, \n",
    "                                          random_state=2018)\n",
    "        self.income_estimator = XGBRegressor(max_depth=7, n_estimators=200,\n",
    "                                             random_state=2018)\n",
    "        self.gender_estimator = XGBClassifier(max_depth=7, n_estimators=200,\n",
    "                                              random_state=2018)\n",
    "    \n",
    "    def fit(self, X, y=None):\n",
    "        \"\"\" Fit the estimators \"\"\"\n",
    "        X = add_date_features(X)\n",
    "        X_age_clean = X[~X.age.isnull()]\n",
    "        self.age_estimator.fit(X_age_clean[self.features], X_age_clean.age)\n",
    "        X_income_clean = X[~X.age.isnull()]\n",
    "        self.income_estimator.fit(X_income_clean[self.features], \n",
    "                                  X_income_clean.income)\n",
    "        X_gender_clean = X[~X.age.isnull()]\n",
    "        self.gender_estimator.fit(X_gender_clean[self.features], \n",
    "                                  X_gender_clean.gender)\n",
    "        return self\n",
    "\n",
    "    def transform(self, X):\n",
    "        \"\"\" Fill the missing data. \"\"\"\n",
    "        res = X.copy()\n",
    "        res = add_date_features(res)\n",
    "\n",
    "        # Fill the age values\n",
    "        age_missing = res[res.age.isnull()]\n",
    "        age_missing_index = res.index[res.age.isnull()]\n",
    "        age_values = self.age_estimator.predict(age_missing[self.features])\n",
    "        res.update(pd.DataFrame(age_values, index=age_missing_index, \n",
    "                                columns=['age']))\n",
    "        \n",
    "        # Fill the income values\n",
    "        income_missing = res[res.income.isnull()]\n",
    "        income_missing_index = res.index[res.income.isnull()]\n",
    "        income_values = self.income_estimator.predict(\n",
    "            income_missing[self.features])\n",
    "        res.update(pd.DataFrame(income_values, index=income_missing_index, \n",
    "                                columns=['income']))\n",
    "        \n",
    "        # Fill the gender values\n",
    "        gender_missing = res[res.gender.isnull()]\n",
    "        gender_missing_index = res.index[res.gender.isnull()]\n",
    "        gender_values = self.gender_estimator.predict(gender_missing[self.features])\n",
    "        res.update(pd.DataFrame(gender_values, index=gender_missing_index, \n",
    "                                columns=['gender']))\n",
    "        return res"
   ]
  },
  {
   "cell_type": "code",
   "execution_count": 173,
   "metadata": {},
   "outputs": [],
   "source": [
    "# Read in the json files\n",
    "portfolio = pd.read_json(os.path.join(DATA_RAW, 'portfolio.json'), orient='records', lines=True)\n",
    "profile = pd.read_json(os.path.join(DATA_RAW, 'profile.json'), orient='records', lines=True)\n",
    "transcript = pd.read_json(os.path.join(DATA_RAW, 'transcript.json'), orient='records', lines=True)\n",
    "\n",
    "# Basic preprocessing\n",
    "data, portfolio = pp.basic_preprocessing(portfolio, profile, transcript)"
   ]
  },
  {
   "cell_type": "code",
   "execution_count": 174,
   "metadata": {},
   "outputs": [],
   "source": [
    "# Now, let's imput the missing data."
   ]
  },
  {
   "cell_type": "code",
   "execution_count": 175,
   "metadata": {},
   "outputs": [],
   "source": [
    "encoder_imputer = Pipeline([\n",
    "    ('encoder', pp.BasicEncoder()),\n",
    "    ('imputer', EstimatorImputer())\n",
    "])"
   ]
  },
  {
   "cell_type": "code",
   "execution_count": 176,
   "metadata": {},
   "outputs": [
    {
     "name": "stdout",
     "output_type": "stream",
     "text": [
      "CPU times: user 5min 37s, sys: 4.51 s, total: 5min 41s\n",
      "Wall time: 5min 45s\n"
     ]
    }
   ],
   "source": [
    "%time filled = encoder_imputer.fit_transform(data)"
   ]
  },
  {
   "cell_type": "code",
   "execution_count": 177,
   "metadata": {},
   "outputs": [
    {
     "data": {
      "image/png": "[encoded data removed]",
      "text/plain": [
       "<Figure size 1440x720 with 2 Axes>"
      ]
     },
     "metadata": {},
     "output_type": "display_data"
    },
    {
     "data": {
      "image/png": "[encoded data removed]",
      "text/plain": [
       "<Figure size 1440x720 with 2 Axes>"
      ]
     },
     "metadata": {},
     "output_type": "display_data"
    },
    {
     "data": {
      "image/png": "[encoded data removed]",
      "text/plain": [
       "<Figure size 1440x720 with 2 Axes>"
      ]
     },
     "metadata": {},
     "output_type": "display_data"
    }
   ],
   "source": [
    "show_imputer_results(data, filled)"
   ]
  },
  {
   "cell_type": "markdown",
   "metadata": {},
   "source": [
    "That looks better than the BasicImputer, although it takes longer than it. I could use a metric like RMSE or accuracy to see if there is an improvement."
   ]
  },
  {
   "cell_type": "markdown",
   "metadata": {},
   "source": [
    "## Missing data imputers evaluation"
   ]
  },
  {
   "cell_type": "code",
   "execution_count": 178,
   "metadata": {},
   "outputs": [],
   "source": [
    "estimator_imputer = Pipeline([\n",
    "    ('encoder', pp.BasicEncoder()),\n",
    "    ('imputer', EstimatorImputer())\n",
    "])\n",
    "\n",
    "basic_imputer = Pipeline([\n",
    "    ('encoder', pp.BasicEncoder()),\n",
    "    ('imputer', BasicImputer())\n",
    "])"
   ]
  },
  {
   "cell_type": "markdown",
   "metadata": {},
   "source": [
    "### Let's generate a clean dataset and some fake missing ages, incomes, and genders."
   ]
  },
  {
   "cell_type": "code",
   "execution_count": 179,
   "metadata": {},
   "outputs": [
    {
     "data": {
      "text/plain": [
       "(306534, 20)"
      ]
     },
     "execution_count": 179,
     "metadata": {},
     "output_type": "execute_result"
    }
   ],
   "source": [
    "data.shape"
   ]
  },
  {
   "cell_type": "code",
   "execution_count": 180,
   "metadata": {},
   "outputs": [
    {
     "data": {
      "text/plain": [
       "(272762, 20)"
      ]
     },
     "execution_count": 180,
     "metadata": {},
     "output_type": "execute_result"
    }
   ],
   "source": [
    "clean_data = data[data.missing_demographics == 0]\n",
    "clean_data.shape"
   ]
  },
  {
   "cell_type": "code",
   "execution_count": 181,
   "metadata": {},
   "outputs": [],
   "source": [
    "from sklearn.model_selection import train_test_split"
   ]
  },
  {
   "cell_type": "code",
   "execution_count": 182,
   "metadata": {},
   "outputs": [],
   "source": [
    "target_feats = ['age', 'income', 'gender']\n",
    "X = clean_data.drop(target_feats, axis=1)\n",
    "y = clean_data[target_feats]\n",
    "\n",
    "X_train, X_test, y_train, y_test = train_test_split(X, y, test_size=0.3,\n",
    "                                                    random_state=2018)"
   ]
  },
  {
   "cell_type": "code",
   "execution_count": 183,
   "metadata": {},
   "outputs": [
    {
     "name": "stdout",
     "output_type": "stream",
     "text": [
      "(190933, 20)\n"
     ]
    },
    {
     "data": {
      "text/html": [
       "<div>\n",
       "<style scoped>\n",
       "    .dataframe tbody tr th:only-of-type {\n",
       "        vertical-align: middle;\n",
       "    }\n",
       "\n",
       "    .dataframe tbody tr th {\n",
       "        vertical-align: top;\n",
       "    }\n",
       "\n",
       "    .dataframe thead th {\n",
       "        text-align: right;\n",
       "    }\n",
       "</style>\n",
       "<table border=\"1\" class=\"dataframe\">\n",
       "  <thead>\n",
       "    <tr style=\"text-align: right;\">\n",
       "      <th></th>\n",
       "      <th>event</th>\n",
       "      <th>person</th>\n",
       "      <th>time</th>\n",
       "      <th>amount</th>\n",
       "      <th>offer_id</th>\n",
       "      <th>reward</th>\n",
       "      <th>became_member_on</th>\n",
       "      <th>missing_demographics</th>\n",
       "      <th>member_epoch_days</th>\n",
       "      <th>difficulty</th>\n",
       "      <th>duration</th>\n",
       "      <th>offer_type</th>\n",
       "      <th>reward_t</th>\n",
       "      <th>channel_mobile</th>\n",
       "      <th>channel_email</th>\n",
       "      <th>channel_web</th>\n",
       "      <th>channel_social</th>\n",
       "      <th>age</th>\n",
       "      <th>income</th>\n",
       "      <th>gender</th>\n",
       "    </tr>\n",
       "  </thead>\n",
       "  <tbody>\n",
       "    <tr>\n",
       "      <th>52221</th>\n",
       "      <td>transaction</td>\n",
       "      <td>cf6b9d5cec40472eb455cea78fa4a94d</td>\n",
       "      <td>156</td>\n",
       "      <td>1.56</td>\n",
       "      <td>NaN</td>\n",
       "      <td>NaN</td>\n",
       "      <td>2016-02-28</td>\n",
       "      <td>0</td>\n",
       "      <td>16859</td>\n",
       "      <td>NaN</td>\n",
       "      <td>NaN</td>\n",
       "      <td>NaN</td>\n",
       "      <td>NaN</td>\n",
       "      <td>NaN</td>\n",
       "      <td>NaN</td>\n",
       "      <td>NaN</td>\n",
       "      <td>NaN</td>\n",
       "      <td>51.0</td>\n",
       "      <td>54000.0</td>\n",
       "      <td>F</td>\n",
       "    </tr>\n",
       "    <tr>\n",
       "      <th>229992</th>\n",
       "      <td>transaction</td>\n",
       "      <td>9bde4015093a4b4885cbc6aecc44ec19</td>\n",
       "      <td>528</td>\n",
       "      <td>26.02</td>\n",
       "      <td>NaN</td>\n",
       "      <td>NaN</td>\n",
       "      <td>2016-04-28</td>\n",
       "      <td>0</td>\n",
       "      <td>16919</td>\n",
       "      <td>NaN</td>\n",
       "      <td>NaN</td>\n",
       "      <td>NaN</td>\n",
       "      <td>NaN</td>\n",
       "      <td>NaN</td>\n",
       "      <td>NaN</td>\n",
       "      <td>NaN</td>\n",
       "      <td>NaN</td>\n",
       "      <td>67.0</td>\n",
       "      <td>79000.0</td>\n",
       "      <td>M</td>\n",
       "    </tr>\n",
       "    <tr>\n",
       "      <th>134019</th>\n",
       "      <td>transaction</td>\n",
       "      <td>da3d478411cd4a30a6efa9d673530f00</td>\n",
       "      <td>354</td>\n",
       "      <td>4.99</td>\n",
       "      <td>NaN</td>\n",
       "      <td>NaN</td>\n",
       "      <td>2017-05-23</td>\n",
       "      <td>0</td>\n",
       "      <td>17309</td>\n",
       "      <td>NaN</td>\n",
       "      <td>NaN</td>\n",
       "      <td>NaN</td>\n",
       "      <td>NaN</td>\n",
       "      <td>NaN</td>\n",
       "      <td>NaN</td>\n",
       "      <td>NaN</td>\n",
       "      <td>NaN</td>\n",
       "      <td>28.0</td>\n",
       "      <td>30000.0</td>\n",
       "      <td>M</td>\n",
       "    </tr>\n",
       "    <tr>\n",
       "      <th>218627</th>\n",
       "      <td>transaction</td>\n",
       "      <td>9e116eeee25949e7b1a3f91227db7422</td>\n",
       "      <td>510</td>\n",
       "      <td>23.28</td>\n",
       "      <td>NaN</td>\n",
       "      <td>NaN</td>\n",
       "      <td>2017-08-06</td>\n",
       "      <td>0</td>\n",
       "      <td>17384</td>\n",
       "      <td>NaN</td>\n",
       "      <td>NaN</td>\n",
       "      <td>NaN</td>\n",
       "      <td>NaN</td>\n",
       "      <td>NaN</td>\n",
       "      <td>NaN</td>\n",
       "      <td>NaN</td>\n",
       "      <td>NaN</td>\n",
       "      <td>38.0</td>\n",
       "      <td>63000.0</td>\n",
       "      <td>F</td>\n",
       "    </tr>\n",
       "    <tr>\n",
       "      <th>108864</th>\n",
       "      <td>transaction</td>\n",
       "      <td>3622ada8c6394b32a8d7ba31c737e926</td>\n",
       "      <td>318</td>\n",
       "      <td>26.71</td>\n",
       "      <td>NaN</td>\n",
       "      <td>NaN</td>\n",
       "      <td>2015-08-12</td>\n",
       "      <td>0</td>\n",
       "      <td>16659</td>\n",
       "      <td>NaN</td>\n",
       "      <td>NaN</td>\n",
       "      <td>NaN</td>\n",
       "      <td>NaN</td>\n",
       "      <td>NaN</td>\n",
       "      <td>NaN</td>\n",
       "      <td>NaN</td>\n",
       "      <td>NaN</td>\n",
       "      <td>57.0</td>\n",
       "      <td>111000.0</td>\n",
       "      <td>M</td>\n",
       "    </tr>\n",
       "  </tbody>\n",
       "</table>\n",
       "</div>"
      ],
      "text/plain": [
       "              event                            person  time  amount offer_id  \\\n",
       "52221   transaction  cf6b9d5cec40472eb455cea78fa4a94d   156    1.56      NaN   \n",
       "229992  transaction  9bde4015093a4b4885cbc6aecc44ec19   528   26.02      NaN   \n",
       "134019  transaction  da3d478411cd4a30a6efa9d673530f00   354    4.99      NaN   \n",
       "218627  transaction  9e116eeee25949e7b1a3f91227db7422   510   23.28      NaN   \n",
       "108864  transaction  3622ada8c6394b32a8d7ba31c737e926   318   26.71      NaN   \n",
       "\n",
       "        reward became_member_on  missing_demographics  member_epoch_days  \\\n",
       "52221      NaN       2016-02-28                     0              16859   \n",
       "229992     NaN       2016-04-28                     0              16919   \n",
       "134019     NaN       2017-05-23                     0              17309   \n",
       "218627     NaN       2017-08-06                     0              17384   \n",
       "108864     NaN       2015-08-12                     0              16659   \n",
       "\n",
       "        difficulty  duration offer_type  reward_t  channel_mobile  \\\n",
       "52221          NaN       NaN        NaN       NaN             NaN   \n",
       "229992         NaN       NaN        NaN       NaN             NaN   \n",
       "134019         NaN       NaN        NaN       NaN             NaN   \n",
       "218627         NaN       NaN        NaN       NaN             NaN   \n",
       "108864         NaN       NaN        NaN       NaN             NaN   \n",
       "\n",
       "        channel_email  channel_web  channel_social   age    income gender  \n",
       "52221             NaN          NaN             NaN  51.0   54000.0      F  \n",
       "229992            NaN          NaN             NaN  67.0   79000.0      M  \n",
       "134019            NaN          NaN             NaN  28.0   30000.0      M  \n",
       "218627            NaN          NaN             NaN  38.0   63000.0      F  \n",
       "108864            NaN          NaN             NaN  57.0  111000.0      M  "
      ]
     },
     "execution_count": 183,
     "metadata": {},
     "output_type": "execute_result"
    }
   ],
   "source": [
    "data_train = X_train.join(y_train)\n",
    "print(data_train.shape)\n",
    "data_train.head()"
   ]
  },
  {
   "cell_type": "code",
   "execution_count": 184,
   "metadata": {},
   "outputs": [],
   "source": [
    "X_input = data_train.append(X_test, sort=False).sort_values(by='time')"
   ]
  },
  {
   "cell_type": "code",
   "execution_count": 185,
   "metadata": {},
   "outputs": [
    {
     "data": {
      "text/html": [
       "<div>\n",
       "<style scoped>\n",
       "    .dataframe tbody tr th:only-of-type {\n",
       "        vertical-align: middle;\n",
       "    }\n",
       "\n",
       "    .dataframe tbody tr th {\n",
       "        vertical-align: top;\n",
       "    }\n",
       "\n",
       "    .dataframe thead th {\n",
       "        text-align: right;\n",
       "    }\n",
       "</style>\n",
       "<table border=\"1\" class=\"dataframe\">\n",
       "  <thead>\n",
       "    <tr style=\"text-align: right;\">\n",
       "      <th></th>\n",
       "      <th>event</th>\n",
       "      <th>person</th>\n",
       "      <th>time</th>\n",
       "      <th>amount</th>\n",
       "      <th>offer_id</th>\n",
       "      <th>reward</th>\n",
       "      <th>became_member_on</th>\n",
       "      <th>missing_demographics</th>\n",
       "      <th>member_epoch_days</th>\n",
       "      <th>difficulty</th>\n",
       "      <th>duration</th>\n",
       "      <th>offer_type</th>\n",
       "      <th>reward_t</th>\n",
       "      <th>channel_mobile</th>\n",
       "      <th>channel_email</th>\n",
       "      <th>channel_web</th>\n",
       "      <th>channel_social</th>\n",
       "      <th>age</th>\n",
       "      <th>income</th>\n",
       "      <th>gender</th>\n",
       "    </tr>\n",
       "  </thead>\n",
       "  <tbody>\n",
       "    <tr>\n",
       "      <th>3849</th>\n",
       "      <td>offer received</td>\n",
       "      <td>c9c0e595d6b84dfc8bee2592160bee11</td>\n",
       "      <td>0</td>\n",
       "      <td>NaN</td>\n",
       "      <td>9b98b8c7a33c4b65b9aebfe6a799e6d9</td>\n",
       "      <td>NaN</td>\n",
       "      <td>2013-10-08</td>\n",
       "      <td>0</td>\n",
       "      <td>15986</td>\n",
       "      <td>5.0</td>\n",
       "      <td>7.0</td>\n",
       "      <td>bogo</td>\n",
       "      <td>5.0</td>\n",
       "      <td>1.0</td>\n",
       "      <td>1.0</td>\n",
       "      <td>1.0</td>\n",
       "      <td>0.0</td>\n",
       "      <td>28.0</td>\n",
       "      <td>40000.0</td>\n",
       "      <td>M</td>\n",
       "    </tr>\n",
       "    <tr>\n",
       "      <th>6560</th>\n",
       "      <td>offer received</td>\n",
       "      <td>0cf2ddcf6c034ac9906831614a360d0d</td>\n",
       "      <td>0</td>\n",
       "      <td>NaN</td>\n",
       "      <td>fafdcd668e3743c1bb461111dcafc2a4</td>\n",
       "      <td>NaN</td>\n",
       "      <td>2018-02-09</td>\n",
       "      <td>0</td>\n",
       "      <td>17571</td>\n",
       "      <td>10.0</td>\n",
       "      <td>10.0</td>\n",
       "      <td>discount</td>\n",
       "      <td>2.0</td>\n",
       "      <td>1.0</td>\n",
       "      <td>1.0</td>\n",
       "      <td>1.0</td>\n",
       "      <td>1.0</td>\n",
       "      <td>77.0</td>\n",
       "      <td>63000.0</td>\n",
       "      <td>O</td>\n",
       "    </tr>\n",
       "    <tr>\n",
       "      <th>15267</th>\n",
       "      <td>transaction</td>\n",
       "      <td>64763980a84b4d7d898a734898b82f93</td>\n",
       "      <td>0</td>\n",
       "      <td>11.11</td>\n",
       "      <td>NaN</td>\n",
       "      <td>NaN</td>\n",
       "      <td>2015-10-26</td>\n",
       "      <td>0</td>\n",
       "      <td>16734</td>\n",
       "      <td>NaN</td>\n",
       "      <td>NaN</td>\n",
       "      <td>NaN</td>\n",
       "      <td>NaN</td>\n",
       "      <td>NaN</td>\n",
       "      <td>NaN</td>\n",
       "      <td>NaN</td>\n",
       "      <td>NaN</td>\n",
       "      <td>NaN</td>\n",
       "      <td>NaN</td>\n",
       "      <td>NaN</td>\n",
       "    </tr>\n",
       "    <tr>\n",
       "      <th>15147</th>\n",
       "      <td>transaction</td>\n",
       "      <td>4fa7957dda024f56b6d211dd8cca6c4d</td>\n",
       "      <td>0</td>\n",
       "      <td>26.47</td>\n",
       "      <td>NaN</td>\n",
       "      <td>NaN</td>\n",
       "      <td>2017-10-14</td>\n",
       "      <td>0</td>\n",
       "      <td>17453</td>\n",
       "      <td>NaN</td>\n",
       "      <td>NaN</td>\n",
       "      <td>NaN</td>\n",
       "      <td>NaN</td>\n",
       "      <td>NaN</td>\n",
       "      <td>NaN</td>\n",
       "      <td>NaN</td>\n",
       "      <td>NaN</td>\n",
       "      <td>NaN</td>\n",
       "      <td>NaN</td>\n",
       "      <td>NaN</td>\n",
       "    </tr>\n",
       "    <tr>\n",
       "      <th>4237</th>\n",
       "      <td>offer received</td>\n",
       "      <td>2b5f2abb89e44c208bb88e64cce13f43</td>\n",
       "      <td>0</td>\n",
       "      <td>NaN</td>\n",
       "      <td>2906b810c7d4411798c6938adc9daaa5</td>\n",
       "      <td>NaN</td>\n",
       "      <td>2016-09-14</td>\n",
       "      <td>0</td>\n",
       "      <td>17058</td>\n",
       "      <td>10.0</td>\n",
       "      <td>7.0</td>\n",
       "      <td>discount</td>\n",
       "      <td>2.0</td>\n",
       "      <td>1.0</td>\n",
       "      <td>1.0</td>\n",
       "      <td>1.0</td>\n",
       "      <td>0.0</td>\n",
       "      <td>NaN</td>\n",
       "      <td>NaN</td>\n",
       "      <td>NaN</td>\n",
       "    </tr>\n",
       "  </tbody>\n",
       "</table>\n",
       "</div>"
      ],
      "text/plain": [
       "                event                            person  time  amount  \\\n",
       "3849   offer received  c9c0e595d6b84dfc8bee2592160bee11     0     NaN   \n",
       "6560   offer received  0cf2ddcf6c034ac9906831614a360d0d     0     NaN   \n",
       "15267     transaction  64763980a84b4d7d898a734898b82f93     0   11.11   \n",
       "15147     transaction  4fa7957dda024f56b6d211dd8cca6c4d     0   26.47   \n",
       "4237   offer received  2b5f2abb89e44c208bb88e64cce13f43     0     NaN   \n",
       "\n",
       "                               offer_id  reward became_member_on  \\\n",
       "3849   9b98b8c7a33c4b65b9aebfe6a799e6d9     NaN       2013-10-08   \n",
       "6560   fafdcd668e3743c1bb461111dcafc2a4     NaN       2018-02-09   \n",
       "15267                               NaN     NaN       2015-10-26   \n",
       "15147                               NaN     NaN       2017-10-14   \n",
       "4237   2906b810c7d4411798c6938adc9daaa5     NaN       2016-09-14   \n",
       "\n",
       "       missing_demographics  member_epoch_days  difficulty  duration  \\\n",
       "3849                      0              15986         5.0       7.0   \n",
       "6560                      0              17571        10.0      10.0   \n",
       "15267                     0              16734         NaN       NaN   \n",
       "15147                     0              17453         NaN       NaN   \n",
       "4237                      0              17058        10.0       7.0   \n",
       "\n",
       "      offer_type  reward_t  channel_mobile  channel_email  channel_web  \\\n",
       "3849        bogo       5.0             1.0            1.0          1.0   \n",
       "6560    discount       2.0             1.0            1.0          1.0   \n",
       "15267        NaN       NaN             NaN            NaN          NaN   \n",
       "15147        NaN       NaN             NaN            NaN          NaN   \n",
       "4237    discount       2.0             1.0            1.0          1.0   \n",
       "\n",
       "       channel_social   age   income gender  \n",
       "3849              0.0  28.0  40000.0      M  \n",
       "6560              1.0  77.0  63000.0      O  \n",
       "15267             NaN   NaN      NaN    NaN  \n",
       "15147             NaN   NaN      NaN    NaN  \n",
       "4237              0.0   NaN      NaN    NaN  "
      ]
     },
     "execution_count": 185,
     "metadata": {},
     "output_type": "execute_result"
    }
   ],
   "source": [
    "X_input.head()"
   ]
  },
  {
   "cell_type": "markdown",
   "metadata": {},
   "source": [
    "### Let's test both imputers now"
   ]
  },
  {
   "cell_type": "code",
   "execution_count": 186,
   "metadata": {},
   "outputs": [],
   "source": [
    "X_out_basic = basic_imputer.fit_transform(X_input)"
   ]
  },
  {
   "cell_type": "code",
   "execution_count": 187,
   "metadata": {},
   "outputs": [],
   "source": [
    "X_out_estimator = estimator_imputer.fit_transform(X_input)"
   ]
  },
  {
   "cell_type": "markdown",
   "metadata": {},
   "source": [
    "### Evaluation"
   ]
  },
  {
   "cell_type": "code",
   "execution_count": 188,
   "metadata": {},
   "outputs": [],
   "source": [
    "from sklearn.metrics import mean_squared_error as mse\n",
    "from sklearn.metrics import accuracy_score"
   ]
  },
  {
   "cell_type": "code",
   "execution_count": 189,
   "metadata": {},
   "outputs": [],
   "source": [
    "age_true = y_test.age\n",
    "income_true = y_test.income\n",
    "gender_true = pp.gender_encode(y_test.loc[:, ['gender']])"
   ]
  },
  {
   "cell_type": "code",
   "execution_count": 190,
   "metadata": {},
   "outputs": [
    {
     "name": "stdout",
     "output_type": "stream",
     "text": [
      "Basic Imputer\n",
      "\n",
      "Age RMSE: 17.572404915399257\n",
      "Income RMSE: 21320.43274676904\n",
      "Gender Accuracy: 0.7557961393945133\n",
      "----------------------------------------------------------------------------------------------------\n"
     ]
    }
   ],
   "source": [
    "print('Basic Imputer\\n')\n",
    "\n",
    "age_basic_pred = X_out_basic.loc[y_test.index, :].age\n",
    "income_basic_pred = X_out_basic.loc[y_test.index, :].income\n",
    "gender_basic_pred = X_out_basic.loc[y_test.index, :].gender\n",
    "\n",
    "print('Age RMSE: {}'.format(np.sqrt(mse(age_true, age_basic_pred))))\n",
    "print('Income RMSE: {}'.format(np.sqrt(mse(income_true, income_basic_pred))))\n",
    "print('Gender Accuracy: {}'.format(np.sqrt(accuracy_score(gender_true, \n",
    "                                                          gender_basic_pred))))\n",
    "print('-'*100)"
   ]
  },
  {
   "cell_type": "code",
   "execution_count": 191,
   "metadata": {},
   "outputs": [
    {
     "name": "stdout",
     "output_type": "stream",
     "text": [
      "Estimator Imputer\n",
      "\n",
      "Age RMSE: 16.44607102133572\n",
      "Income RMSE: 19816.1628882959\n",
      "Gender Accuracy: 0.8022609778352745\n",
      "----------------------------------------------------------------------------------------------------\n"
     ]
    }
   ],
   "source": [
    "print('Estimator Imputer\\n')\n",
    "\n",
    "age_est_pred = X_out_estimator.loc[y_test.index, :].age\n",
    "income_est_pred = X_out_estimator.loc[y_test.index, :].income\n",
    "gender_est_pred = X_out_estimator.loc[y_test.index, :].gender\n",
    "\n",
    "print('Age RMSE: {}'.format(np.sqrt(mse(age_true, age_est_pred))))\n",
    "print('Income RMSE: {}'.format(np.sqrt(mse(income_true, income_est_pred))))\n",
    "print('Gender Accuracy: {}'.format(np.sqrt(accuracy_score(gender_true, \n",
    "                                                          gender_est_pred))))\n",
    "print('-'*100)"
   ]
  },
  {
   "cell_type": "markdown",
   "metadata": {},
   "source": [
    "### Effectively, the Estimator Imputer gives better results in all the features."
   ]
  },
  {
   "cell_type": "code",
   "execution_count": null,
   "metadata": {},
   "outputs": [],
   "source": []
  }
 ],
 "metadata": {
  "kernelspec": {
   "display_name": "sbucks",
   "language": "python",
   "name": "sbucks"
  },
  "language_info": {
   "codemirror_mode": {
    "name": "ipython",
    "version": 3
   },
   "file_extension": ".py",
   "mimetype": "text/x-python",
   "name": "python",
   "nbconvert_exporter": "python",
   "pygments_lexer": "ipython3",
   "version": "3.7.1"
  }
 },
 "nbformat": 4,
 "nbformat_minor": 2
}
