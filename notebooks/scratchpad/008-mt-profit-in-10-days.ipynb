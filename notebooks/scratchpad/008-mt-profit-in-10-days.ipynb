{
 "cells": [
  {
   "cell_type": "code",
   "execution_count": 1,
   "metadata": {
    "collapsed": false
   },
   "outputs": [],
   "source": [
    "import pandas as pd\n",
    "import numpy as np\n",
    "import math\n",
    "import json\n",
    "import os\n",
    "import matplotlib.pyplot as plt\n",
    "%matplotlib inline\n",
    "\n",
    "%load_ext autoreload\n",
    "%autoreload 2\n",
    "\n",
    "from jupyterthemes import jtplot\n",
    "jtplot.style(theme='solarizedd')\n",
    "plt.rcParams['figure.figsize'] = (20.0, 10.0)\n",
    "\n",
    "import data_utils_mt.utils as utils\n",
    "import seaborn as sns\n",
    "from sklearn.pipeline import Pipeline\n",
    "import datetime as dt\n",
    "from xgboost import XGBClassifier\n",
    "\n",
    "ROOT_DIR = '../..'\n",
    "DATA_DIR = os.path.join(ROOT_DIR, 'data')\n",
    "DATA_RAW = os.path.join(DATA_DIR, 'raw')\n",
    "DATA_INTERIM = os.path.join(DATA_DIR, 'interim')\n",
    "DATA_EXTERNAL = os.path.join(DATA_DIR, 'external')\n",
    "DATA_PROCESSED = os.path.join(DATA_DIR, 'processed')\n",
    "SRC = os.path.join(ROOT_DIR, 'src')\n",
    "\n",
    "STATIC_DATASET_PATH = os.path.join(DATA_PROCESSED, 'static_cluster_lagged.pkl')\n",
    "\n",
    "import sys\n",
    "sys.path.append(SRC)\n",
    "\n",
    "import src.data.preprocessing as pp\n",
    "import src.data.success_dataset as sd\n",
    "import src.data.missing_data as md\n",
    "import src.evaluation.offer_success as evos"
   ]
  },
  {
   "cell_type": "code",
   "execution_count": 2,
   "metadata": {
    "collapsed": false
   },
   "outputs": [
    {
     "name": "stdout",
     "output_type": "stream",
     "text": [
      "(76277, 135)\n"
     ]
    },
    {
     "data": {
      "text/html": [
       "<div>\n",
       "<style scoped>\n",
       "    .dataframe tbody tr th:only-of-type {\n",
       "        vertical-align: middle;\n",
       "    }\n",
       "\n",
       "    .dataframe tbody tr th {\n",
       "        vertical-align: top;\n",
       "    }\n",
       "\n",
       "    .dataframe thead th {\n",
       "        text-align: right;\n",
       "    }\n",
       "</style>\n",
       "<table border=\"1\" class=\"dataframe\">\n",
       "  <thead>\n",
       "    <tr style=\"text-align: right;\">\n",
       "      <th></th>\n",
       "      <th>person</th>\n",
       "      <th>time</th>\n",
       "      <th>offer_id</th>\n",
       "      <th>age</th>\n",
       "      <th>became_member_on</th>\n",
       "      <th>gender</th>\n",
       "      <th>income</th>\n",
       "      <th>missing_demographics</th>\n",
       "      <th>member_epoch_days</th>\n",
       "      <th>difficulty</th>\n",
       "      <th>...</th>\n",
       "      <th>difficulty_7.0_success_ratio</th>\n",
       "      <th>reward_10.0_success_ratio</th>\n",
       "      <th>reward_0.0_success_ratio</th>\n",
       "      <th>reward_5.0_success_ratio</th>\n",
       "      <th>reward_3.0_success_ratio</th>\n",
       "      <th>reward_2.0_success_ratio</th>\n",
       "      <th>channel_web_success_ratio</th>\n",
       "      <th>channel_email_success_ratio</th>\n",
       "      <th>channel_social_success_ratio</th>\n",
       "      <th>channel_mobile_success_ratio</th>\n",
       "    </tr>\n",
       "  </thead>\n",
       "  <tbody>\n",
       "    <tr>\n",
       "      <th>0</th>\n",
       "      <td>0009655768c64bdeb2e877511632db8f</td>\n",
       "      <td>168</td>\n",
       "      <td>5a8bc65990b245e5a138643cd4eb9837</td>\n",
       "      <td>33.0</td>\n",
       "      <td>2017-04-21</td>\n",
       "      <td>M</td>\n",
       "      <td>72000.0</td>\n",
       "      <td>0</td>\n",
       "      <td>17277</td>\n",
       "      <td>0.0</td>\n",
       "      <td>...</td>\n",
       "      <td>0.0</td>\n",
       "      <td>0.0</td>\n",
       "      <td>0.0</td>\n",
       "      <td>0.0</td>\n",
       "      <td>0.0</td>\n",
       "      <td>0.0</td>\n",
       "      <td>0.0</td>\n",
       "      <td>0.0</td>\n",
       "      <td>0.0</td>\n",
       "      <td>0.0</td>\n",
       "    </tr>\n",
       "    <tr>\n",
       "      <th>1</th>\n",
       "      <td>0009655768c64bdeb2e877511632db8f</td>\n",
       "      <td>336</td>\n",
       "      <td>3f207df678b143eea3cee63160fa8bed</td>\n",
       "      <td>33.0</td>\n",
       "      <td>2017-04-21</td>\n",
       "      <td>M</td>\n",
       "      <td>72000.0</td>\n",
       "      <td>0</td>\n",
       "      <td>17277</td>\n",
       "      <td>0.0</td>\n",
       "      <td>...</td>\n",
       "      <td>0.0</td>\n",
       "      <td>0.0</td>\n",
       "      <td>0.0</td>\n",
       "      <td>0.0</td>\n",
       "      <td>0.0</td>\n",
       "      <td>0.0</td>\n",
       "      <td>0.0</td>\n",
       "      <td>0.0</td>\n",
       "      <td>0.0</td>\n",
       "      <td>0.0</td>\n",
       "    </tr>\n",
       "    <tr>\n",
       "      <th>2</th>\n",
       "      <td>0009655768c64bdeb2e877511632db8f</td>\n",
       "      <td>408</td>\n",
       "      <td>f19421c1d4aa40978ebb69ca19b0e20d</td>\n",
       "      <td>33.0</td>\n",
       "      <td>2017-04-21</td>\n",
       "      <td>M</td>\n",
       "      <td>72000.0</td>\n",
       "      <td>0</td>\n",
       "      <td>17277</td>\n",
       "      <td>5.0</td>\n",
       "      <td>...</td>\n",
       "      <td>0.0</td>\n",
       "      <td>0.0</td>\n",
       "      <td>0.0</td>\n",
       "      <td>0.0</td>\n",
       "      <td>0.0</td>\n",
       "      <td>0.0</td>\n",
       "      <td>0.0</td>\n",
       "      <td>0.0</td>\n",
       "      <td>0.0</td>\n",
       "      <td>0.0</td>\n",
       "    </tr>\n",
       "    <tr>\n",
       "      <th>3</th>\n",
       "      <td>0009655768c64bdeb2e877511632db8f</td>\n",
       "      <td>504</td>\n",
       "      <td>fafdcd668e3743c1bb461111dcafc2a4</td>\n",
       "      <td>33.0</td>\n",
       "      <td>2017-04-21</td>\n",
       "      <td>M</td>\n",
       "      <td>72000.0</td>\n",
       "      <td>0</td>\n",
       "      <td>17277</td>\n",
       "      <td>10.0</td>\n",
       "      <td>...</td>\n",
       "      <td>0.0</td>\n",
       "      <td>0.0</td>\n",
       "      <td>0.0</td>\n",
       "      <td>0.0</td>\n",
       "      <td>0.0</td>\n",
       "      <td>0.0</td>\n",
       "      <td>0.0</td>\n",
       "      <td>0.0</td>\n",
       "      <td>0.0</td>\n",
       "      <td>0.0</td>\n",
       "    </tr>\n",
       "    <tr>\n",
       "      <th>4</th>\n",
       "      <td>0009655768c64bdeb2e877511632db8f</td>\n",
       "      <td>576</td>\n",
       "      <td>2906b810c7d4411798c6938adc9daaa5</td>\n",
       "      <td>33.0</td>\n",
       "      <td>2017-04-21</td>\n",
       "      <td>M</td>\n",
       "      <td>72000.0</td>\n",
       "      <td>0</td>\n",
       "      <td>17277</td>\n",
       "      <td>10.0</td>\n",
       "      <td>...</td>\n",
       "      <td>0.0</td>\n",
       "      <td>0.0</td>\n",
       "      <td>0.0</td>\n",
       "      <td>0.0</td>\n",
       "      <td>0.0</td>\n",
       "      <td>0.0</td>\n",
       "      <td>0.0</td>\n",
       "      <td>0.0</td>\n",
       "      <td>0.0</td>\n",
       "      <td>0.0</td>\n",
       "    </tr>\n",
       "  </tbody>\n",
       "</table>\n",
       "<p>5 rows × 135 columns</p>\n",
       "</div>"
      ],
      "text/plain": [
       "                             person  time                          offer_id  \\\n",
       "0  0009655768c64bdeb2e877511632db8f   168  5a8bc65990b245e5a138643cd4eb9837   \n",
       "1  0009655768c64bdeb2e877511632db8f   336  3f207df678b143eea3cee63160fa8bed   \n",
       "2  0009655768c64bdeb2e877511632db8f   408  f19421c1d4aa40978ebb69ca19b0e20d   \n",
       "3  0009655768c64bdeb2e877511632db8f   504  fafdcd668e3743c1bb461111dcafc2a4   \n",
       "4  0009655768c64bdeb2e877511632db8f   576  2906b810c7d4411798c6938adc9daaa5   \n",
       "\n",
       "    age became_member_on gender   income  missing_demographics  \\\n",
       "0  33.0       2017-04-21      M  72000.0                     0   \n",
       "1  33.0       2017-04-21      M  72000.0                     0   \n",
       "2  33.0       2017-04-21      M  72000.0                     0   \n",
       "3  33.0       2017-04-21      M  72000.0                     0   \n",
       "4  33.0       2017-04-21      M  72000.0                     0   \n",
       "\n",
       "   member_epoch_days  difficulty              ...               \\\n",
       "0              17277         0.0              ...                \n",
       "1              17277         0.0              ...                \n",
       "2              17277         5.0              ...                \n",
       "3              17277        10.0              ...                \n",
       "4              17277        10.0              ...                \n",
       "\n",
       "   difficulty_7.0_success_ratio reward_10.0_success_ratio  \\\n",
       "0                           0.0                       0.0   \n",
       "1                           0.0                       0.0   \n",
       "2                           0.0                       0.0   \n",
       "3                           0.0                       0.0   \n",
       "4                           0.0                       0.0   \n",
       "\n",
       "   reward_0.0_success_ratio  reward_5.0_success_ratio  \\\n",
       "0                       0.0                       0.0   \n",
       "1                       0.0                       0.0   \n",
       "2                       0.0                       0.0   \n",
       "3                       0.0                       0.0   \n",
       "4                       0.0                       0.0   \n",
       "\n",
       "   reward_3.0_success_ratio  reward_2.0_success_ratio  \\\n",
       "0                       0.0                       0.0   \n",
       "1                       0.0                       0.0   \n",
       "2                       0.0                       0.0   \n",
       "3                       0.0                       0.0   \n",
       "4                       0.0                       0.0   \n",
       "\n",
       "   channel_web_success_ratio  channel_email_success_ratio  \\\n",
       "0                        0.0                          0.0   \n",
       "1                        0.0                          0.0   \n",
       "2                        0.0                          0.0   \n",
       "3                        0.0                          0.0   \n",
       "4                        0.0                          0.0   \n",
       "\n",
       "   channel_social_success_ratio  channel_mobile_success_ratio  \n",
       "0                           0.0                           0.0  \n",
       "1                           0.0                           0.0  \n",
       "2                           0.0                           0.0  \n",
       "3                           0.0                           0.0  \n",
       "4                           0.0                           0.0  \n",
       "\n",
       "[5 rows x 135 columns]"
      ]
     },
     "execution_count": 2,
     "metadata": {},
     "output_type": "execute_result"
    }
   ],
   "source": [
    "static_data = pd.read_pickle(STATIC_DATASET_PATH)\n",
    "print(static_data.shape)\n",
    "static_data.head()"
   ]
  },
  {
   "cell_type": "markdown",
   "metadata": {},
   "source": [
    "I should modify the fill_profits function from the preprocessing module. As I will be only adding a column, that shouldn't affect the old code (I could add a boolean in the signature if anything goes wrong). Let's use the old functions to get the data needed."
   ]
  },
  {
   "cell_type": "markdown",
   "metadata": {},
   "source": [
    "We have to differentiate the case when the customer has viewed an offer in the last 10 days, from the case in which it hasn't."
   ]
  },
  {
   "cell_type": "code",
   "execution_count": 3,
   "metadata": {
    "collapsed": false
   },
   "outputs": [
    {
     "data": {
      "text/plain": [
       "0.7502523696527131"
      ]
     },
     "execution_count": 3,
     "metadata": {},
     "output_type": "execute_result"
    }
   ],
   "source": [
    "static_data.viewed.mean()"
   ]
  },
  {
   "cell_type": "markdown",
   "metadata": {},
   "source": [
    "So, 75% of the sent offers are seen."
   ]
  },
  {
   "cell_type": "code",
   "execution_count": null,
   "metadata": {
    "collapsed": true
   },
   "outputs": [],
   "source": []
  },
  {
   "cell_type": "code",
   "execution_count": 4,
   "metadata": {
    "collapsed": false
   },
   "outputs": [
    {
     "name": "stdout",
     "output_type": "stream",
     "text": [
      "Basic preprocessing\n",
      "CPU times: user 2.9 s, sys: 170 ms, total: 3.07 s\n",
      "Wall time: 2.63 s\n"
     ]
    }
   ],
   "source": [
    "# Read the data\n",
    "portfolio = pd.read_json(os.path.join(DATA_RAW, 'portfolio.json'), orient='records', lines=True)\n",
    "profile = pd.read_json(os.path.join(DATA_RAW, 'profile.json'), orient='records', lines=True)\n",
    "transcript = pd.read_json(os.path.join(DATA_RAW, 'transcript.json'), orient='records', lines=True)\n",
    "\n",
    "# Basic Preprocessing\n",
    "print('Basic preprocessing')\n",
    "%time data, portfolio = pp.basic_preprocessing(portfolio, profile, transcript)"
   ]
  },
  {
   "cell_type": "code",
   "execution_count": 5,
   "metadata": {
    "collapsed": false
   },
   "outputs": [
    {
     "name": "stdout",
     "output_type": "stream",
     "text": [
      "(306534, 20)\n"
     ]
    },
    {
     "data": {
      "text/html": [
       "<div>\n",
       "<style scoped>\n",
       "    .dataframe tbody tr th:only-of-type {\n",
       "        vertical-align: middle;\n",
       "    }\n",
       "\n",
       "    .dataframe tbody tr th {\n",
       "        vertical-align: top;\n",
       "    }\n",
       "\n",
       "    .dataframe thead th {\n",
       "        text-align: right;\n",
       "    }\n",
       "</style>\n",
       "<table border=\"1\" class=\"dataframe\">\n",
       "  <thead>\n",
       "    <tr style=\"text-align: right;\">\n",
       "      <th></th>\n",
       "      <th>event</th>\n",
       "      <th>person</th>\n",
       "      <th>time</th>\n",
       "      <th>amount</th>\n",
       "      <th>offer_id</th>\n",
       "      <th>reward</th>\n",
       "      <th>age</th>\n",
       "      <th>became_member_on</th>\n",
       "      <th>gender</th>\n",
       "      <th>income</th>\n",
       "      <th>missing_demographics</th>\n",
       "      <th>member_epoch_days</th>\n",
       "      <th>difficulty</th>\n",
       "      <th>duration</th>\n",
       "      <th>offer_type</th>\n",
       "      <th>reward_t</th>\n",
       "      <th>channel_email</th>\n",
       "      <th>channel_web</th>\n",
       "      <th>channel_social</th>\n",
       "      <th>channel_mobile</th>\n",
       "    </tr>\n",
       "  </thead>\n",
       "  <tbody>\n",
       "    <tr>\n",
       "      <th>0</th>\n",
       "      <td>offer received</td>\n",
       "      <td>78afa995795e4d85b5d9ceeca43f5fef</td>\n",
       "      <td>0</td>\n",
       "      <td>NaN</td>\n",
       "      <td>9b98b8c7a33c4b65b9aebfe6a799e6d9</td>\n",
       "      <td>NaN</td>\n",
       "      <td>75.0</td>\n",
       "      <td>2017-05-09</td>\n",
       "      <td>F</td>\n",
       "      <td>100000.0</td>\n",
       "      <td>0</td>\n",
       "      <td>17295</td>\n",
       "      <td>5.0</td>\n",
       "      <td>7.0</td>\n",
       "      <td>bogo</td>\n",
       "      <td>5.0</td>\n",
       "      <td>1.0</td>\n",
       "      <td>1.0</td>\n",
       "      <td>0.0</td>\n",
       "      <td>1.0</td>\n",
       "    </tr>\n",
       "    <tr>\n",
       "      <th>1</th>\n",
       "      <td>offer received</td>\n",
       "      <td>a03223e636434f42ac4c3df47e8bac43</td>\n",
       "      <td>0</td>\n",
       "      <td>NaN</td>\n",
       "      <td>0b1e1539f2cc45b7b9fa7c272da2e1d7</td>\n",
       "      <td>NaN</td>\n",
       "      <td>NaN</td>\n",
       "      <td>2017-08-04</td>\n",
       "      <td>None</td>\n",
       "      <td>NaN</td>\n",
       "      <td>1</td>\n",
       "      <td>17382</td>\n",
       "      <td>20.0</td>\n",
       "      <td>10.0</td>\n",
       "      <td>discount</td>\n",
       "      <td>5.0</td>\n",
       "      <td>1.0</td>\n",
       "      <td>1.0</td>\n",
       "      <td>0.0</td>\n",
       "      <td>0.0</td>\n",
       "    </tr>\n",
       "    <tr>\n",
       "      <th>2</th>\n",
       "      <td>offer received</td>\n",
       "      <td>e2127556f4f64592b11af22de27a7932</td>\n",
       "      <td>0</td>\n",
       "      <td>NaN</td>\n",
       "      <td>2906b810c7d4411798c6938adc9daaa5</td>\n",
       "      <td>NaN</td>\n",
       "      <td>68.0</td>\n",
       "      <td>2018-04-26</td>\n",
       "      <td>M</td>\n",
       "      <td>70000.0</td>\n",
       "      <td>0</td>\n",
       "      <td>17647</td>\n",
       "      <td>10.0</td>\n",
       "      <td>7.0</td>\n",
       "      <td>discount</td>\n",
       "      <td>2.0</td>\n",
       "      <td>1.0</td>\n",
       "      <td>1.0</td>\n",
       "      <td>0.0</td>\n",
       "      <td>1.0</td>\n",
       "    </tr>\n",
       "    <tr>\n",
       "      <th>3</th>\n",
       "      <td>offer received</td>\n",
       "      <td>8ec6ce2a7e7949b1bf142def7d0e0586</td>\n",
       "      <td>0</td>\n",
       "      <td>NaN</td>\n",
       "      <td>fafdcd668e3743c1bb461111dcafc2a4</td>\n",
       "      <td>NaN</td>\n",
       "      <td>NaN</td>\n",
       "      <td>2017-09-25</td>\n",
       "      <td>None</td>\n",
       "      <td>NaN</td>\n",
       "      <td>1</td>\n",
       "      <td>17434</td>\n",
       "      <td>10.0</td>\n",
       "      <td>10.0</td>\n",
       "      <td>discount</td>\n",
       "      <td>2.0</td>\n",
       "      <td>1.0</td>\n",
       "      <td>1.0</td>\n",
       "      <td>1.0</td>\n",
       "      <td>1.0</td>\n",
       "    </tr>\n",
       "    <tr>\n",
       "      <th>4</th>\n",
       "      <td>offer received</td>\n",
       "      <td>68617ca6246f4fbc85e91a2a49552598</td>\n",
       "      <td>0</td>\n",
       "      <td>NaN</td>\n",
       "      <td>4d5c57ea9a6940dd891ad53e9dbe8da0</td>\n",
       "      <td>NaN</td>\n",
       "      <td>NaN</td>\n",
       "      <td>2017-10-02</td>\n",
       "      <td>None</td>\n",
       "      <td>NaN</td>\n",
       "      <td>1</td>\n",
       "      <td>17441</td>\n",
       "      <td>10.0</td>\n",
       "      <td>5.0</td>\n",
       "      <td>bogo</td>\n",
       "      <td>10.0</td>\n",
       "      <td>1.0</td>\n",
       "      <td>1.0</td>\n",
       "      <td>1.0</td>\n",
       "      <td>1.0</td>\n",
       "    </tr>\n",
       "  </tbody>\n",
       "</table>\n",
       "</div>"
      ],
      "text/plain": [
       "            event                            person  time  amount  \\\n",
       "0  offer received  78afa995795e4d85b5d9ceeca43f5fef     0     NaN   \n",
       "1  offer received  a03223e636434f42ac4c3df47e8bac43     0     NaN   \n",
       "2  offer received  e2127556f4f64592b11af22de27a7932     0     NaN   \n",
       "3  offer received  8ec6ce2a7e7949b1bf142def7d0e0586     0     NaN   \n",
       "4  offer received  68617ca6246f4fbc85e91a2a49552598     0     NaN   \n",
       "\n",
       "                           offer_id  reward   age became_member_on gender  \\\n",
       "0  9b98b8c7a33c4b65b9aebfe6a799e6d9     NaN  75.0       2017-05-09      F   \n",
       "1  0b1e1539f2cc45b7b9fa7c272da2e1d7     NaN   NaN       2017-08-04   None   \n",
       "2  2906b810c7d4411798c6938adc9daaa5     NaN  68.0       2018-04-26      M   \n",
       "3  fafdcd668e3743c1bb461111dcafc2a4     NaN   NaN       2017-09-25   None   \n",
       "4  4d5c57ea9a6940dd891ad53e9dbe8da0     NaN   NaN       2017-10-02   None   \n",
       "\n",
       "     income  missing_demographics  member_epoch_days  difficulty  duration  \\\n",
       "0  100000.0                     0              17295         5.0       7.0   \n",
       "1       NaN                     1              17382        20.0      10.0   \n",
       "2   70000.0                     0              17647        10.0       7.0   \n",
       "3       NaN                     1              17434        10.0      10.0   \n",
       "4       NaN                     1              17441        10.0       5.0   \n",
       "\n",
       "  offer_type  reward_t  channel_email  channel_web  channel_social  \\\n",
       "0       bogo       5.0            1.0          1.0             0.0   \n",
       "1   discount       5.0            1.0          1.0             0.0   \n",
       "2   discount       2.0            1.0          1.0             0.0   \n",
       "3   discount       2.0            1.0          1.0             1.0   \n",
       "4       bogo      10.0            1.0          1.0             1.0   \n",
       "\n",
       "   channel_mobile  \n",
       "0             1.0  \n",
       "1             0.0  \n",
       "2             1.0  \n",
       "3             1.0  \n",
       "4             1.0  "
      ]
     },
     "execution_count": 5,
     "metadata": {},
     "output_type": "execute_result"
    }
   ],
   "source": [
    "print(data.shape)\n",
    "data.head()"
   ]
  },
  {
   "cell_type": "code",
   "execution_count": 6,
   "metadata": {
    "collapsed": false
   },
   "outputs": [
    {
     "data": {
      "text/plain": [
       "17000"
      ]
     },
     "execution_count": 6,
     "metadata": {},
     "output_type": "execute_result"
    }
   ],
   "source": [
    "data.person.nunique()"
   ]
  },
  {
   "cell_type": "code",
   "execution_count": 7,
   "metadata": {
    "collapsed": false
   },
   "outputs": [
    {
     "data": {
      "text/plain": [
       "120"
      ]
     },
     "execution_count": 7,
     "metadata": {},
     "output_type": "execute_result"
    }
   ],
   "source": [
    "data.time.nunique()"
   ]
  },
  {
   "cell_type": "code",
   "execution_count": 8,
   "metadata": {
    "collapsed": true
   },
   "outputs": [],
   "source": [
    "received, viewed, completed, transactions = pp.split_transcript(data)"
   ]
  },
  {
   "cell_type": "code",
   "execution_count": 9,
   "metadata": {
    "collapsed": false
   },
   "outputs": [
    {
     "data": {
      "text/html": [
       "<div>\n",
       "<style scoped>\n",
       "    .dataframe tbody tr th:only-of-type {\n",
       "        vertical-align: middle;\n",
       "    }\n",
       "\n",
       "    .dataframe tbody tr th {\n",
       "        vertical-align: top;\n",
       "    }\n",
       "\n",
       "    .dataframe thead th {\n",
       "        text-align: right;\n",
       "    }\n",
       "</style>\n",
       "<table border=\"1\" class=\"dataframe\">\n",
       "  <thead>\n",
       "    <tr style=\"text-align: right;\">\n",
       "      <th></th>\n",
       "      <th>event</th>\n",
       "      <th>person</th>\n",
       "      <th>time</th>\n",
       "      <th>amount</th>\n",
       "      <th>offer_id</th>\n",
       "      <th>reward</th>\n",
       "      <th>age</th>\n",
       "      <th>became_member_on</th>\n",
       "      <th>gender</th>\n",
       "      <th>income</th>\n",
       "      <th>missing_demographics</th>\n",
       "      <th>member_epoch_days</th>\n",
       "      <th>difficulty</th>\n",
       "      <th>duration</th>\n",
       "      <th>offer_type</th>\n",
       "      <th>reward_t</th>\n",
       "      <th>channel_email</th>\n",
       "      <th>channel_web</th>\n",
       "      <th>channel_social</th>\n",
       "      <th>channel_mobile</th>\n",
       "    </tr>\n",
       "  </thead>\n",
       "  <tbody>\n",
       "    <tr>\n",
       "      <th>12654</th>\n",
       "      <td>transaction</td>\n",
       "      <td>02c083884c7d45b39cc68e1314fec56c</td>\n",
       "      <td>0</td>\n",
       "      <td>0.83</td>\n",
       "      <td>NaN</td>\n",
       "      <td>NaN</td>\n",
       "      <td>20.0</td>\n",
       "      <td>2016-07-11</td>\n",
       "      <td>F</td>\n",
       "      <td>30000.0</td>\n",
       "      <td>0</td>\n",
       "      <td>16993</td>\n",
       "      <td>NaN</td>\n",
       "      <td>NaN</td>\n",
       "      <td>NaN</td>\n",
       "      <td>NaN</td>\n",
       "      <td>NaN</td>\n",
       "      <td>NaN</td>\n",
       "      <td>NaN</td>\n",
       "      <td>NaN</td>\n",
       "    </tr>\n",
       "    <tr>\n",
       "      <th>12657</th>\n",
       "      <td>transaction</td>\n",
       "      <td>9fa9ae8f57894cc9a3b8a9bbe0fc1b2f</td>\n",
       "      <td>0</td>\n",
       "      <td>34.56</td>\n",
       "      <td>NaN</td>\n",
       "      <td>NaN</td>\n",
       "      <td>42.0</td>\n",
       "      <td>2016-01-17</td>\n",
       "      <td>M</td>\n",
       "      <td>96000.0</td>\n",
       "      <td>0</td>\n",
       "      <td>16817</td>\n",
       "      <td>NaN</td>\n",
       "      <td>NaN</td>\n",
       "      <td>NaN</td>\n",
       "      <td>NaN</td>\n",
       "      <td>NaN</td>\n",
       "      <td>NaN</td>\n",
       "      <td>NaN</td>\n",
       "      <td>NaN</td>\n",
       "    </tr>\n",
       "    <tr>\n",
       "      <th>12659</th>\n",
       "      <td>transaction</td>\n",
       "      <td>54890f68699049c2a04d415abc25e717</td>\n",
       "      <td>0</td>\n",
       "      <td>13.23</td>\n",
       "      <td>NaN</td>\n",
       "      <td>NaN</td>\n",
       "      <td>36.0</td>\n",
       "      <td>2017-12-28</td>\n",
       "      <td>M</td>\n",
       "      <td>56000.0</td>\n",
       "      <td>0</td>\n",
       "      <td>17528</td>\n",
       "      <td>NaN</td>\n",
       "      <td>NaN</td>\n",
       "      <td>NaN</td>\n",
       "      <td>NaN</td>\n",
       "      <td>NaN</td>\n",
       "      <td>NaN</td>\n",
       "      <td>NaN</td>\n",
       "      <td>NaN</td>\n",
       "    </tr>\n",
       "    <tr>\n",
       "      <th>12670</th>\n",
       "      <td>transaction</td>\n",
       "      <td>b2f1cd155b864803ad8334cdf13c4bd2</td>\n",
       "      <td>0</td>\n",
       "      <td>19.51</td>\n",
       "      <td>NaN</td>\n",
       "      <td>NaN</td>\n",
       "      <td>55.0</td>\n",
       "      <td>2017-10-16</td>\n",
       "      <td>F</td>\n",
       "      <td>94000.0</td>\n",
       "      <td>0</td>\n",
       "      <td>17455</td>\n",
       "      <td>NaN</td>\n",
       "      <td>NaN</td>\n",
       "      <td>NaN</td>\n",
       "      <td>NaN</td>\n",
       "      <td>NaN</td>\n",
       "      <td>NaN</td>\n",
       "      <td>NaN</td>\n",
       "      <td>NaN</td>\n",
       "    </tr>\n",
       "    <tr>\n",
       "      <th>12671</th>\n",
       "      <td>transaction</td>\n",
       "      <td>fe97aa22dd3e48c8b143116a8403dd52</td>\n",
       "      <td>0</td>\n",
       "      <td>18.97</td>\n",
       "      <td>NaN</td>\n",
       "      <td>NaN</td>\n",
       "      <td>39.0</td>\n",
       "      <td>2017-12-17</td>\n",
       "      <td>F</td>\n",
       "      <td>67000.0</td>\n",
       "      <td>0</td>\n",
       "      <td>17517</td>\n",
       "      <td>NaN</td>\n",
       "      <td>NaN</td>\n",
       "      <td>NaN</td>\n",
       "      <td>NaN</td>\n",
       "      <td>NaN</td>\n",
       "      <td>NaN</td>\n",
       "      <td>NaN</td>\n",
       "      <td>NaN</td>\n",
       "    </tr>\n",
       "  </tbody>\n",
       "</table>\n",
       "</div>"
      ],
      "text/plain": [
       "             event                            person  time  amount offer_id  \\\n",
       "12654  transaction  02c083884c7d45b39cc68e1314fec56c     0    0.83      NaN   \n",
       "12657  transaction  9fa9ae8f57894cc9a3b8a9bbe0fc1b2f     0   34.56      NaN   \n",
       "12659  transaction  54890f68699049c2a04d415abc25e717     0   13.23      NaN   \n",
       "12670  transaction  b2f1cd155b864803ad8334cdf13c4bd2     0   19.51      NaN   \n",
       "12671  transaction  fe97aa22dd3e48c8b143116a8403dd52     0   18.97      NaN   \n",
       "\n",
       "       reward   age became_member_on gender   income  missing_demographics  \\\n",
       "12654     NaN  20.0       2016-07-11      F  30000.0                     0   \n",
       "12657     NaN  42.0       2016-01-17      M  96000.0                     0   \n",
       "12659     NaN  36.0       2017-12-28      M  56000.0                     0   \n",
       "12670     NaN  55.0       2017-10-16      F  94000.0                     0   \n",
       "12671     NaN  39.0       2017-12-17      F  67000.0                     0   \n",
       "\n",
       "       member_epoch_days  difficulty  duration offer_type  reward_t  \\\n",
       "12654              16993         NaN       NaN        NaN       NaN   \n",
       "12657              16817         NaN       NaN        NaN       NaN   \n",
       "12659              17528         NaN       NaN        NaN       NaN   \n",
       "12670              17455         NaN       NaN        NaN       NaN   \n",
       "12671              17517         NaN       NaN        NaN       NaN   \n",
       "\n",
       "       channel_email  channel_web  channel_social  channel_mobile  \n",
       "12654            NaN          NaN             NaN             NaN  \n",
       "12657            NaN          NaN             NaN             NaN  \n",
       "12659            NaN          NaN             NaN             NaN  \n",
       "12670            NaN          NaN             NaN             NaN  \n",
       "12671            NaN          NaN             NaN             NaN  "
      ]
     },
     "execution_count": 9,
     "metadata": {},
     "output_type": "execute_result"
    }
   ],
   "source": [
    "transactions.head()"
   ]
  },
  {
   "cell_type": "code",
   "execution_count": null,
   "metadata": {
    "collapsed": false
   },
   "outputs": [],
   "source": []
  },
  {
   "cell_type": "code",
   "execution_count": 10,
   "metadata": {
    "collapsed": false
   },
   "outputs": [
    {
     "name": "stdout",
     "output_type": "stream",
     "text": [
      "(120, 17000)\n"
     ]
    },
    {
     "data": {
      "text/html": [
       "<div>\n",
       "<style scoped>\n",
       "    .dataframe tbody tr th:only-of-type {\n",
       "        vertical-align: middle;\n",
       "    }\n",
       "\n",
       "    .dataframe tbody tr th {\n",
       "        vertical-align: top;\n",
       "    }\n",
       "\n",
       "    .dataframe thead th {\n",
       "        text-align: right;\n",
       "    }\n",
       "</style>\n",
       "<table border=\"1\" class=\"dataframe\">\n",
       "  <thead>\n",
       "    <tr style=\"text-align: right;\">\n",
       "      <th></th>\n",
       "      <th>78afa995795e4d85b5d9ceeca43f5fef</th>\n",
       "      <th>a03223e636434f42ac4c3df47e8bac43</th>\n",
       "      <th>e2127556f4f64592b11af22de27a7932</th>\n",
       "      <th>8ec6ce2a7e7949b1bf142def7d0e0586</th>\n",
       "      <th>68617ca6246f4fbc85e91a2a49552598</th>\n",
       "      <th>389bc3fa690240e798340f5a15918d5c</th>\n",
       "      <th>c4863c7985cf408faee930f111475da3</th>\n",
       "      <th>2eeac8d8feae4a8cad5a6af0499a211d</th>\n",
       "      <th>aa4862eba776480b8bb9c68455b8c2e1</th>\n",
       "      <th>31dda685af34476cad5bc968bdb01c53</th>\n",
       "      <th>...</th>\n",
       "      <th>22617705eec442e0b7b43e5c5f56fb17</th>\n",
       "      <th>fc966e9c3edc4578a1fb4c6a8c2659c2</th>\n",
       "      <th>47683732768a4f7db7abb710ca22e66e</th>\n",
       "      <th>3873fe915496482eb589fa316ae7b0db</th>\n",
       "      <th>8578196a074a4f328976e334fa9383a3</th>\n",
       "      <th>9fcbff4f8d7241faa4ab8a9d19c8a812</th>\n",
       "      <th>ebae5093b436466c9fbd097cb7434023</th>\n",
       "      <th>912b9f623b9e4b4eb99b6dc919f09a93</th>\n",
       "      <th>3045af4e98794a04a5542d3eac939b1f</th>\n",
       "      <th>da7a7c0dcfcb41a8acc7864a53cf60fb</th>\n",
       "    </tr>\n",
       "  </thead>\n",
       "  <tbody>\n",
       "    <tr>\n",
       "      <th>0</th>\n",
       "      <td>0.0</td>\n",
       "      <td>0.0</td>\n",
       "      <td>0.0</td>\n",
       "      <td>0.0</td>\n",
       "      <td>0.0</td>\n",
       "      <td>0.0</td>\n",
       "      <td>0.0</td>\n",
       "      <td>0.0</td>\n",
       "      <td>0.0</td>\n",
       "      <td>0.0</td>\n",
       "      <td>...</td>\n",
       "      <td>0.0</td>\n",
       "      <td>0.0</td>\n",
       "      <td>0.0</td>\n",
       "      <td>0.0</td>\n",
       "      <td>0.0</td>\n",
       "      <td>0.0</td>\n",
       "      <td>0.0</td>\n",
       "      <td>0.0</td>\n",
       "      <td>0.0</td>\n",
       "      <td>0.0</td>\n",
       "    </tr>\n",
       "    <tr>\n",
       "      <th>6</th>\n",
       "      <td>0.0</td>\n",
       "      <td>0.0</td>\n",
       "      <td>0.0</td>\n",
       "      <td>0.0</td>\n",
       "      <td>0.0</td>\n",
       "      <td>0.0</td>\n",
       "      <td>0.0</td>\n",
       "      <td>0.0</td>\n",
       "      <td>0.0</td>\n",
       "      <td>0.0</td>\n",
       "      <td>...</td>\n",
       "      <td>0.0</td>\n",
       "      <td>0.0</td>\n",
       "      <td>0.0</td>\n",
       "      <td>0.0</td>\n",
       "      <td>0.0</td>\n",
       "      <td>0.0</td>\n",
       "      <td>0.0</td>\n",
       "      <td>0.0</td>\n",
       "      <td>0.0</td>\n",
       "      <td>0.0</td>\n",
       "    </tr>\n",
       "    <tr>\n",
       "      <th>12</th>\n",
       "      <td>0.0</td>\n",
       "      <td>0.0</td>\n",
       "      <td>0.0</td>\n",
       "      <td>0.0</td>\n",
       "      <td>0.0</td>\n",
       "      <td>0.0</td>\n",
       "      <td>0.0</td>\n",
       "      <td>0.0</td>\n",
       "      <td>0.0</td>\n",
       "      <td>0.0</td>\n",
       "      <td>...</td>\n",
       "      <td>0.0</td>\n",
       "      <td>0.0</td>\n",
       "      <td>0.0</td>\n",
       "      <td>0.0</td>\n",
       "      <td>0.0</td>\n",
       "      <td>0.0</td>\n",
       "      <td>0.0</td>\n",
       "      <td>0.0</td>\n",
       "      <td>0.0</td>\n",
       "      <td>0.0</td>\n",
       "    </tr>\n",
       "    <tr>\n",
       "      <th>18</th>\n",
       "      <td>0.0</td>\n",
       "      <td>0.0</td>\n",
       "      <td>0.0</td>\n",
       "      <td>0.0</td>\n",
       "      <td>0.0</td>\n",
       "      <td>0.0</td>\n",
       "      <td>0.0</td>\n",
       "      <td>0.0</td>\n",
       "      <td>0.0</td>\n",
       "      <td>0.0</td>\n",
       "      <td>...</td>\n",
       "      <td>0.0</td>\n",
       "      <td>0.0</td>\n",
       "      <td>0.0</td>\n",
       "      <td>0.0</td>\n",
       "      <td>0.0</td>\n",
       "      <td>0.0</td>\n",
       "      <td>0.0</td>\n",
       "      <td>0.0</td>\n",
       "      <td>0.0</td>\n",
       "      <td>0.0</td>\n",
       "    </tr>\n",
       "    <tr>\n",
       "      <th>24</th>\n",
       "      <td>0.0</td>\n",
       "      <td>0.0</td>\n",
       "      <td>0.0</td>\n",
       "      <td>0.0</td>\n",
       "      <td>0.0</td>\n",
       "      <td>0.0</td>\n",
       "      <td>0.0</td>\n",
       "      <td>0.0</td>\n",
       "      <td>0.0</td>\n",
       "      <td>0.0</td>\n",
       "      <td>...</td>\n",
       "      <td>0.0</td>\n",
       "      <td>0.0</td>\n",
       "      <td>0.0</td>\n",
       "      <td>0.0</td>\n",
       "      <td>0.0</td>\n",
       "      <td>0.0</td>\n",
       "      <td>0.0</td>\n",
       "      <td>0.0</td>\n",
       "      <td>0.0</td>\n",
       "      <td>0.0</td>\n",
       "    </tr>\n",
       "  </tbody>\n",
       "</table>\n",
       "<p>5 rows × 17000 columns</p>\n",
       "</div>"
      ],
      "text/plain": [
       "    78afa995795e4d85b5d9ceeca43f5fef  a03223e636434f42ac4c3df47e8bac43  \\\n",
       "0                                0.0                               0.0   \n",
       "6                                0.0                               0.0   \n",
       "12                               0.0                               0.0   \n",
       "18                               0.0                               0.0   \n",
       "24                               0.0                               0.0   \n",
       "\n",
       "    e2127556f4f64592b11af22de27a7932  8ec6ce2a7e7949b1bf142def7d0e0586  \\\n",
       "0                                0.0                               0.0   \n",
       "6                                0.0                               0.0   \n",
       "12                               0.0                               0.0   \n",
       "18                               0.0                               0.0   \n",
       "24                               0.0                               0.0   \n",
       "\n",
       "    68617ca6246f4fbc85e91a2a49552598  389bc3fa690240e798340f5a15918d5c  \\\n",
       "0                                0.0                               0.0   \n",
       "6                                0.0                               0.0   \n",
       "12                               0.0                               0.0   \n",
       "18                               0.0                               0.0   \n",
       "24                               0.0                               0.0   \n",
       "\n",
       "    c4863c7985cf408faee930f111475da3  2eeac8d8feae4a8cad5a6af0499a211d  \\\n",
       "0                                0.0                               0.0   \n",
       "6                                0.0                               0.0   \n",
       "12                               0.0                               0.0   \n",
       "18                               0.0                               0.0   \n",
       "24                               0.0                               0.0   \n",
       "\n",
       "    aa4862eba776480b8bb9c68455b8c2e1  31dda685af34476cad5bc968bdb01c53  \\\n",
       "0                                0.0                               0.0   \n",
       "6                                0.0                               0.0   \n",
       "12                               0.0                               0.0   \n",
       "18                               0.0                               0.0   \n",
       "24                               0.0                               0.0   \n",
       "\n",
       "                  ...                 22617705eec442e0b7b43e5c5f56fb17  \\\n",
       "0                 ...                                              0.0   \n",
       "6                 ...                                              0.0   \n",
       "12                ...                                              0.0   \n",
       "18                ...                                              0.0   \n",
       "24                ...                                              0.0   \n",
       "\n",
       "    fc966e9c3edc4578a1fb4c6a8c2659c2  47683732768a4f7db7abb710ca22e66e  \\\n",
       "0                                0.0                               0.0   \n",
       "6                                0.0                               0.0   \n",
       "12                               0.0                               0.0   \n",
       "18                               0.0                               0.0   \n",
       "24                               0.0                               0.0   \n",
       "\n",
       "    3873fe915496482eb589fa316ae7b0db  8578196a074a4f328976e334fa9383a3  \\\n",
       "0                                0.0                               0.0   \n",
       "6                                0.0                               0.0   \n",
       "12                               0.0                               0.0   \n",
       "18                               0.0                               0.0   \n",
       "24                               0.0                               0.0   \n",
       "\n",
       "    9fcbff4f8d7241faa4ab8a9d19c8a812  ebae5093b436466c9fbd097cb7434023  \\\n",
       "0                                0.0                               0.0   \n",
       "6                                0.0                               0.0   \n",
       "12                               0.0                               0.0   \n",
       "18                               0.0                               0.0   \n",
       "24                               0.0                               0.0   \n",
       "\n",
       "    912b9f623b9e4b4eb99b6dc919f09a93  3045af4e98794a04a5542d3eac939b1f  \\\n",
       "0                                0.0                               0.0   \n",
       "6                                0.0                               0.0   \n",
       "12                               0.0                               0.0   \n",
       "18                               0.0                               0.0   \n",
       "24                               0.0                               0.0   \n",
       "\n",
       "    da7a7c0dcfcb41a8acc7864a53cf60fb  \n",
       "0                                0.0  \n",
       "6                                0.0  \n",
       "12                               0.0  \n",
       "18                               0.0  \n",
       "24                               0.0  \n",
       "\n",
       "[5 rows x 17000 columns]"
      ]
     },
     "execution_count": 10,
     "metadata": {},
     "output_type": "execute_result"
    }
   ],
   "source": [
    "# Create empty time series\n",
    "ts = pd.DataFrame(np.zeros((data.time.nunique(), data.person.nunique())), \n",
    "                  index=data.time.unique(), columns=data.person.unique())\n",
    "\n",
    "ts.update(transactions.pivot_table(index='time',\n",
    "                              columns='person',\n",
    "                              values='amount',\n",
    "                              aggfunc='sum'))\n",
    "\n",
    "print(ts.shape)\n",
    "ts.head()"
   ]
  },
  {
   "cell_type": "code",
   "execution_count": 11,
   "metadata": {
    "collapsed": false
   },
   "outputs": [
    {
     "data": {
      "text/plain": [
       "78afa995795e4d85b5d9ceeca43f5fef    159.27\n",
       "a03223e636434f42ac4c3df47e8bac43      4.65\n",
       "e2127556f4f64592b11af22de27a7932     57.73\n",
       "8ec6ce2a7e7949b1bf142def7d0e0586      0.00\n",
       "68617ca6246f4fbc85e91a2a49552598      0.24\n",
       "dtype: float64"
      ]
     },
     "execution_count": 11,
     "metadata": {},
     "output_type": "execute_result"
    }
   ],
   "source": [
    "ts.sum().head()"
   ]
  },
  {
   "cell_type": "code",
   "execution_count": 12,
   "metadata": {
    "collapsed": false
   },
   "outputs": [
    {
     "data": {
      "text/plain": [
       "<matplotlib.axes._subplots.AxesSubplot at 0x7fe0a71ee860>"
      ]
     },
     "execution_count": 12,
     "metadata": {},
     "output_type": "execute_result"
    },
    {
     "data": {
      "image/png": "[encoded data removed]",
      "text/plain": [
       "<Figure size 432x288 with 1 Axes>"
      ]
     },
     "metadata": {
      "needs_background": "dark"
     },
     "output_type": "display_data"
    }
   ],
   "source": [
    "ts.mean(axis=1).plot()"
   ]
  },
  {
   "cell_type": "code",
   "execution_count": 13,
   "metadata": {
    "collapsed": false
   },
   "outputs": [
    {
     "data": {
      "text/plain": [
       "<matplotlib.axes._subplots.AxesSubplot at 0x7fe0a72394e0>"
      ]
     },
     "execution_count": 13,
     "metadata": {},
     "output_type": "execute_result"
    },
    {
     "data": {
      "image/png": "[encoded data removed]",
      "text/plain": [
       "<Figure size 432x288 with 1 Axes>"
      ]
     },
     "metadata": {
      "needs_background": "dark"
     },
     "output_type": "display_data"
    }
   ],
   "source": [
    "ts.cumsum().mean(axis=1).plot()"
   ]
  },
  {
   "cell_type": "code",
   "execution_count": 14,
   "metadata": {
    "collapsed": false
   },
   "outputs": [
    {
     "data": {
      "text/plain": [
       "array([  0, 168, 336, 408, 504, 576])"
      ]
     },
     "execution_count": 14,
     "metadata": {},
     "output_type": "execute_result"
    }
   ],
   "source": [
    "sending_times = received.time.unique()\n",
    "sending_times"
   ]
  },
  {
   "cell_type": "code",
   "execution_count": 15,
   "metadata": {
    "collapsed": false
   },
   "outputs": [
    {
     "data": {
      "text/plain": [
       "array([168, 168,  72,  96,  72])"
      ]
     },
     "execution_count": 15,
     "metadata": {},
     "output_type": "execute_result"
    }
   ],
   "source": [
    "sending_times[1:] - sending_times[:-1]"
   ]
  },
  {
   "cell_type": "code",
   "execution_count": 16,
   "metadata": {
    "collapsed": false
   },
   "outputs": [
    {
     "data": {
      "text/plain": [
       "7.0"
      ]
     },
     "execution_count": 16,
     "metadata": {},
     "output_type": "execute_result"
    }
   ],
   "source": [
    "168/24"
   ]
  },
  {
   "cell_type": "markdown",
   "metadata": {},
   "source": [
    "Let's assume that the period of interest for an offer is always 10 days after it was received. Let's make a table that shows if an offer was received in the past 10 days."
   ]
  },
  {
   "cell_type": "code",
   "execution_count": 17,
   "metadata": {
    "collapsed": false
   },
   "outputs": [
    {
     "data": {
      "text/html": [
       "<div>\n",
       "<style scoped>\n",
       "    .dataframe tbody tr th:only-of-type {\n",
       "        vertical-align: middle;\n",
       "    }\n",
       "\n",
       "    .dataframe tbody tr th {\n",
       "        vertical-align: top;\n",
       "    }\n",
       "\n",
       "    .dataframe thead th {\n",
       "        text-align: right;\n",
       "    }\n",
       "</style>\n",
       "<table border=\"1\" class=\"dataframe\">\n",
       "  <thead>\n",
       "    <tr style=\"text-align: right;\">\n",
       "      <th></th>\n",
       "      <th>event</th>\n",
       "      <th>person</th>\n",
       "      <th>time</th>\n",
       "      <th>amount</th>\n",
       "      <th>offer_id</th>\n",
       "      <th>reward</th>\n",
       "      <th>age</th>\n",
       "      <th>became_member_on</th>\n",
       "      <th>gender</th>\n",
       "      <th>income</th>\n",
       "      <th>missing_demographics</th>\n",
       "      <th>member_epoch_days</th>\n",
       "      <th>difficulty</th>\n",
       "      <th>duration</th>\n",
       "      <th>offer_type</th>\n",
       "      <th>reward_t</th>\n",
       "      <th>channel_email</th>\n",
       "      <th>channel_web</th>\n",
       "      <th>channel_social</th>\n",
       "      <th>channel_mobile</th>\n",
       "    </tr>\n",
       "  </thead>\n",
       "  <tbody>\n",
       "    <tr>\n",
       "      <th>0</th>\n",
       "      <td>offer received</td>\n",
       "      <td>78afa995795e4d85b5d9ceeca43f5fef</td>\n",
       "      <td>0</td>\n",
       "      <td>NaN</td>\n",
       "      <td>9b98b8c7a33c4b65b9aebfe6a799e6d9</td>\n",
       "      <td>NaN</td>\n",
       "      <td>75.0</td>\n",
       "      <td>2017-05-09</td>\n",
       "      <td>F</td>\n",
       "      <td>100000.0</td>\n",
       "      <td>0</td>\n",
       "      <td>17295</td>\n",
       "      <td>5.0</td>\n",
       "      <td>7.0</td>\n",
       "      <td>bogo</td>\n",
       "      <td>5.0</td>\n",
       "      <td>1.0</td>\n",
       "      <td>1.0</td>\n",
       "      <td>0.0</td>\n",
       "      <td>1.0</td>\n",
       "    </tr>\n",
       "    <tr>\n",
       "      <th>1</th>\n",
       "      <td>offer received</td>\n",
       "      <td>a03223e636434f42ac4c3df47e8bac43</td>\n",
       "      <td>0</td>\n",
       "      <td>NaN</td>\n",
       "      <td>0b1e1539f2cc45b7b9fa7c272da2e1d7</td>\n",
       "      <td>NaN</td>\n",
       "      <td>NaN</td>\n",
       "      <td>2017-08-04</td>\n",
       "      <td>None</td>\n",
       "      <td>NaN</td>\n",
       "      <td>1</td>\n",
       "      <td>17382</td>\n",
       "      <td>20.0</td>\n",
       "      <td>10.0</td>\n",
       "      <td>discount</td>\n",
       "      <td>5.0</td>\n",
       "      <td>1.0</td>\n",
       "      <td>1.0</td>\n",
       "      <td>0.0</td>\n",
       "      <td>0.0</td>\n",
       "    </tr>\n",
       "    <tr>\n",
       "      <th>2</th>\n",
       "      <td>offer received</td>\n",
       "      <td>e2127556f4f64592b11af22de27a7932</td>\n",
       "      <td>0</td>\n",
       "      <td>NaN</td>\n",
       "      <td>2906b810c7d4411798c6938adc9daaa5</td>\n",
       "      <td>NaN</td>\n",
       "      <td>68.0</td>\n",
       "      <td>2018-04-26</td>\n",
       "      <td>M</td>\n",
       "      <td>70000.0</td>\n",
       "      <td>0</td>\n",
       "      <td>17647</td>\n",
       "      <td>10.0</td>\n",
       "      <td>7.0</td>\n",
       "      <td>discount</td>\n",
       "      <td>2.0</td>\n",
       "      <td>1.0</td>\n",
       "      <td>1.0</td>\n",
       "      <td>0.0</td>\n",
       "      <td>1.0</td>\n",
       "    </tr>\n",
       "    <tr>\n",
       "      <th>3</th>\n",
       "      <td>offer received</td>\n",
       "      <td>8ec6ce2a7e7949b1bf142def7d0e0586</td>\n",
       "      <td>0</td>\n",
       "      <td>NaN</td>\n",
       "      <td>fafdcd668e3743c1bb461111dcafc2a4</td>\n",
       "      <td>NaN</td>\n",
       "      <td>NaN</td>\n",
       "      <td>2017-09-25</td>\n",
       "      <td>None</td>\n",
       "      <td>NaN</td>\n",
       "      <td>1</td>\n",
       "      <td>17434</td>\n",
       "      <td>10.0</td>\n",
       "      <td>10.0</td>\n",
       "      <td>discount</td>\n",
       "      <td>2.0</td>\n",
       "      <td>1.0</td>\n",
       "      <td>1.0</td>\n",
       "      <td>1.0</td>\n",
       "      <td>1.0</td>\n",
       "    </tr>\n",
       "    <tr>\n",
       "      <th>4</th>\n",
       "      <td>offer received</td>\n",
       "      <td>68617ca6246f4fbc85e91a2a49552598</td>\n",
       "      <td>0</td>\n",
       "      <td>NaN</td>\n",
       "      <td>4d5c57ea9a6940dd891ad53e9dbe8da0</td>\n",
       "      <td>NaN</td>\n",
       "      <td>NaN</td>\n",
       "      <td>2017-10-02</td>\n",
       "      <td>None</td>\n",
       "      <td>NaN</td>\n",
       "      <td>1</td>\n",
       "      <td>17441</td>\n",
       "      <td>10.0</td>\n",
       "      <td>5.0</td>\n",
       "      <td>bogo</td>\n",
       "      <td>10.0</td>\n",
       "      <td>1.0</td>\n",
       "      <td>1.0</td>\n",
       "      <td>1.0</td>\n",
       "      <td>1.0</td>\n",
       "    </tr>\n",
       "  </tbody>\n",
       "</table>\n",
       "</div>"
      ],
      "text/plain": [
       "            event                            person  time  amount  \\\n",
       "0  offer received  78afa995795e4d85b5d9ceeca43f5fef     0     NaN   \n",
       "1  offer received  a03223e636434f42ac4c3df47e8bac43     0     NaN   \n",
       "2  offer received  e2127556f4f64592b11af22de27a7932     0     NaN   \n",
       "3  offer received  8ec6ce2a7e7949b1bf142def7d0e0586     0     NaN   \n",
       "4  offer received  68617ca6246f4fbc85e91a2a49552598     0     NaN   \n",
       "\n",
       "                           offer_id  reward   age became_member_on gender  \\\n",
       "0  9b98b8c7a33c4b65b9aebfe6a799e6d9     NaN  75.0       2017-05-09      F   \n",
       "1  0b1e1539f2cc45b7b9fa7c272da2e1d7     NaN   NaN       2017-08-04   None   \n",
       "2  2906b810c7d4411798c6938adc9daaa5     NaN  68.0       2018-04-26      M   \n",
       "3  fafdcd668e3743c1bb461111dcafc2a4     NaN   NaN       2017-09-25   None   \n",
       "4  4d5c57ea9a6940dd891ad53e9dbe8da0     NaN   NaN       2017-10-02   None   \n",
       "\n",
       "     income  missing_demographics  member_epoch_days  difficulty  duration  \\\n",
       "0  100000.0                     0              17295         5.0       7.0   \n",
       "1       NaN                     1              17382        20.0      10.0   \n",
       "2   70000.0                     0              17647        10.0       7.0   \n",
       "3       NaN                     1              17434        10.0      10.0   \n",
       "4       NaN                     1              17441        10.0       5.0   \n",
       "\n",
       "  offer_type  reward_t  channel_email  channel_web  channel_social  \\\n",
       "0       bogo       5.0            1.0          1.0             0.0   \n",
       "1   discount       5.0            1.0          1.0             0.0   \n",
       "2   discount       2.0            1.0          1.0             0.0   \n",
       "3   discount       2.0            1.0          1.0             1.0   \n",
       "4       bogo      10.0            1.0          1.0             1.0   \n",
       "\n",
       "   channel_mobile  \n",
       "0             1.0  \n",
       "1             0.0  \n",
       "2             1.0  \n",
       "3             1.0  \n",
       "4             1.0  "
      ]
     },
     "execution_count": 17,
     "metadata": {},
     "output_type": "execute_result"
    }
   ],
   "source": [
    "received.head()"
   ]
  },
  {
   "cell_type": "code",
   "execution_count": 18,
   "metadata": {
    "collapsed": false
   },
   "outputs": [
    {
     "data": {
      "text/html": [
       "<div>\n",
       "<style scoped>\n",
       "    .dataframe tbody tr th:only-of-type {\n",
       "        vertical-align: middle;\n",
       "    }\n",
       "\n",
       "    .dataframe tbody tr th {\n",
       "        vertical-align: top;\n",
       "    }\n",
       "\n",
       "    .dataframe thead th {\n",
       "        text-align: right;\n",
       "    }\n",
       "</style>\n",
       "<table border=\"1\" class=\"dataframe\">\n",
       "  <thead>\n",
       "    <tr style=\"text-align: right;\">\n",
       "      <th></th>\n",
       "      <th>event</th>\n",
       "      <th>person</th>\n",
       "      <th>time</th>\n",
       "      <th>amount</th>\n",
       "      <th>offer_id</th>\n",
       "      <th>reward</th>\n",
       "      <th>age</th>\n",
       "      <th>became_member_on</th>\n",
       "      <th>gender</th>\n",
       "      <th>income</th>\n",
       "      <th>missing_demographics</th>\n",
       "      <th>member_epoch_days</th>\n",
       "      <th>difficulty</th>\n",
       "      <th>duration</th>\n",
       "      <th>offer_type</th>\n",
       "      <th>reward_t</th>\n",
       "      <th>channel_email</th>\n",
       "      <th>channel_web</th>\n",
       "      <th>channel_social</th>\n",
       "      <th>channel_mobile</th>\n",
       "    </tr>\n",
       "  </thead>\n",
       "  <tbody>\n",
       "    <tr>\n",
       "      <th>0</th>\n",
       "      <td>offer received</td>\n",
       "      <td>78afa995795e4d85b5d9ceeca43f5fef</td>\n",
       "      <td>0</td>\n",
       "      <td>NaN</td>\n",
       "      <td>9b98b8c7a33c4b65b9aebfe6a799e6d9</td>\n",
       "      <td>NaN</td>\n",
       "      <td>75.0</td>\n",
       "      <td>2017-05-09</td>\n",
       "      <td>F</td>\n",
       "      <td>100000.0</td>\n",
       "      <td>0</td>\n",
       "      <td>17295</td>\n",
       "      <td>5.0</td>\n",
       "      <td>7.0</td>\n",
       "      <td>bogo</td>\n",
       "      <td>5.0</td>\n",
       "      <td>1.0</td>\n",
       "      <td>1.0</td>\n",
       "      <td>0.0</td>\n",
       "      <td>1.0</td>\n",
       "    </tr>\n",
       "    <tr>\n",
       "      <th>53176</th>\n",
       "      <td>offer received</td>\n",
       "      <td>78afa995795e4d85b5d9ceeca43f5fef</td>\n",
       "      <td>168</td>\n",
       "      <td>NaN</td>\n",
       "      <td>5a8bc65990b245e5a138643cd4eb9837</td>\n",
       "      <td>NaN</td>\n",
       "      <td>75.0</td>\n",
       "      <td>2017-05-09</td>\n",
       "      <td>F</td>\n",
       "      <td>100000.0</td>\n",
       "      <td>0</td>\n",
       "      <td>17295</td>\n",
       "      <td>0.0</td>\n",
       "      <td>3.0</td>\n",
       "      <td>informational</td>\n",
       "      <td>0.0</td>\n",
       "      <td>1.0</td>\n",
       "      <td>0.0</td>\n",
       "      <td>1.0</td>\n",
       "      <td>1.0</td>\n",
       "    </tr>\n",
       "    <tr>\n",
       "      <th>150598</th>\n",
       "      <td>offer received</td>\n",
       "      <td>78afa995795e4d85b5d9ceeca43f5fef</td>\n",
       "      <td>408</td>\n",
       "      <td>NaN</td>\n",
       "      <td>ae264e3637204a6fb9bb56bc8210ddfd</td>\n",
       "      <td>NaN</td>\n",
       "      <td>75.0</td>\n",
       "      <td>2017-05-09</td>\n",
       "      <td>F</td>\n",
       "      <td>100000.0</td>\n",
       "      <td>0</td>\n",
       "      <td>17295</td>\n",
       "      <td>10.0</td>\n",
       "      <td>7.0</td>\n",
       "      <td>bogo</td>\n",
       "      <td>10.0</td>\n",
       "      <td>1.0</td>\n",
       "      <td>0.0</td>\n",
       "      <td>1.0</td>\n",
       "      <td>1.0</td>\n",
       "    </tr>\n",
       "    <tr>\n",
       "      <th>201572</th>\n",
       "      <td>offer received</td>\n",
       "      <td>78afa995795e4d85b5d9ceeca43f5fef</td>\n",
       "      <td>504</td>\n",
       "      <td>NaN</td>\n",
       "      <td>f19421c1d4aa40978ebb69ca19b0e20d</td>\n",
       "      <td>NaN</td>\n",
       "      <td>75.0</td>\n",
       "      <td>2017-05-09</td>\n",
       "      <td>F</td>\n",
       "      <td>100000.0</td>\n",
       "      <td>0</td>\n",
       "      <td>17295</td>\n",
       "      <td>5.0</td>\n",
       "      <td>5.0</td>\n",
       "      <td>bogo</td>\n",
       "      <td>5.0</td>\n",
       "      <td>1.0</td>\n",
       "      <td>1.0</td>\n",
       "      <td>1.0</td>\n",
       "      <td>1.0</td>\n",
       "    </tr>\n",
       "  </tbody>\n",
       "</table>\n",
       "</div>"
      ],
      "text/plain": [
       "                 event                            person  time  amount  \\\n",
       "0       offer received  78afa995795e4d85b5d9ceeca43f5fef     0     NaN   \n",
       "53176   offer received  78afa995795e4d85b5d9ceeca43f5fef   168     NaN   \n",
       "150598  offer received  78afa995795e4d85b5d9ceeca43f5fef   408     NaN   \n",
       "201572  offer received  78afa995795e4d85b5d9ceeca43f5fef   504     NaN   \n",
       "\n",
       "                                offer_id  reward   age became_member_on  \\\n",
       "0       9b98b8c7a33c4b65b9aebfe6a799e6d9     NaN  75.0       2017-05-09   \n",
       "53176   5a8bc65990b245e5a138643cd4eb9837     NaN  75.0       2017-05-09   \n",
       "150598  ae264e3637204a6fb9bb56bc8210ddfd     NaN  75.0       2017-05-09   \n",
       "201572  f19421c1d4aa40978ebb69ca19b0e20d     NaN  75.0       2017-05-09   \n",
       "\n",
       "       gender    income  missing_demographics  member_epoch_days  difficulty  \\\n",
       "0           F  100000.0                     0              17295         5.0   \n",
       "53176       F  100000.0                     0              17295         0.0   \n",
       "150598      F  100000.0                     0              17295        10.0   \n",
       "201572      F  100000.0                     0              17295         5.0   \n",
       "\n",
       "        duration     offer_type  reward_t  channel_email  channel_web  \\\n",
       "0            7.0           bogo       5.0            1.0          1.0   \n",
       "53176        3.0  informational       0.0            1.0          0.0   \n",
       "150598       7.0           bogo      10.0            1.0          0.0   \n",
       "201572       5.0           bogo       5.0            1.0          1.0   \n",
       "\n",
       "        channel_social  channel_mobile  \n",
       "0                  0.0             1.0  \n",
       "53176              1.0             1.0  \n",
       "150598             1.0             1.0  \n",
       "201572             1.0             1.0  "
      ]
     },
     "execution_count": 18,
     "metadata": {},
     "output_type": "execute_result"
    }
   ],
   "source": [
    "user = received[received.person == received.person[0]]\n",
    "user"
   ]
  },
  {
   "cell_type": "code",
   "execution_count": 19,
   "metadata": {
    "collapsed": false
   },
   "outputs": [],
   "source": [
    "offers = portfolio.id.values"
   ]
  },
  {
   "cell_type": "code",
   "execution_count": 20,
   "metadata": {
    "collapsed": false
   },
   "outputs": [
    {
     "data": {
      "text/html": [
       "<div>\n",
       "<style scoped>\n",
       "    .dataframe tbody tr th:only-of-type {\n",
       "        vertical-align: middle;\n",
       "    }\n",
       "\n",
       "    .dataframe tbody tr th {\n",
       "        vertical-align: top;\n",
       "    }\n",
       "\n",
       "    .dataframe thead th {\n",
       "        text-align: right;\n",
       "    }\n",
       "</style>\n",
       "<table border=\"1\" class=\"dataframe\">\n",
       "  <thead>\n",
       "    <tr style=\"text-align: right;\">\n",
       "      <th></th>\n",
       "      <th>ae264e3637204a6fb9bb56bc8210ddfd</th>\n",
       "      <th>4d5c57ea9a6940dd891ad53e9dbe8da0</th>\n",
       "      <th>3f207df678b143eea3cee63160fa8bed</th>\n",
       "      <th>9b98b8c7a33c4b65b9aebfe6a799e6d9</th>\n",
       "      <th>0b1e1539f2cc45b7b9fa7c272da2e1d7</th>\n",
       "      <th>2298d6c36e964ae4a3e7e9706d1fb8c2</th>\n",
       "      <th>fafdcd668e3743c1bb461111dcafc2a4</th>\n",
       "      <th>5a8bc65990b245e5a138643cd4eb9837</th>\n",
       "      <th>f19421c1d4aa40978ebb69ca19b0e20d</th>\n",
       "      <th>2906b810c7d4411798c6938adc9daaa5</th>\n",
       "    </tr>\n",
       "  </thead>\n",
       "  <tbody>\n",
       "    <tr>\n",
       "      <th>0</th>\n",
       "      <td>0.0</td>\n",
       "      <td>0.0</td>\n",
       "      <td>0.0</td>\n",
       "      <td>0.0</td>\n",
       "      <td>0.0</td>\n",
       "      <td>0.0</td>\n",
       "      <td>0.0</td>\n",
       "      <td>0.0</td>\n",
       "      <td>0.0</td>\n",
       "      <td>0.0</td>\n",
       "    </tr>\n",
       "    <tr>\n",
       "      <th>6</th>\n",
       "      <td>0.0</td>\n",
       "      <td>0.0</td>\n",
       "      <td>0.0</td>\n",
       "      <td>0.0</td>\n",
       "      <td>0.0</td>\n",
       "      <td>0.0</td>\n",
       "      <td>0.0</td>\n",
       "      <td>0.0</td>\n",
       "      <td>0.0</td>\n",
       "      <td>0.0</td>\n",
       "    </tr>\n",
       "    <tr>\n",
       "      <th>12</th>\n",
       "      <td>0.0</td>\n",
       "      <td>0.0</td>\n",
       "      <td>0.0</td>\n",
       "      <td>0.0</td>\n",
       "      <td>0.0</td>\n",
       "      <td>0.0</td>\n",
       "      <td>0.0</td>\n",
       "      <td>0.0</td>\n",
       "      <td>0.0</td>\n",
       "      <td>0.0</td>\n",
       "    </tr>\n",
       "    <tr>\n",
       "      <th>18</th>\n",
       "      <td>0.0</td>\n",
       "      <td>0.0</td>\n",
       "      <td>0.0</td>\n",
       "      <td>0.0</td>\n",
       "      <td>0.0</td>\n",
       "      <td>0.0</td>\n",
       "      <td>0.0</td>\n",
       "      <td>0.0</td>\n",
       "      <td>0.0</td>\n",
       "      <td>0.0</td>\n",
       "    </tr>\n",
       "    <tr>\n",
       "      <th>24</th>\n",
       "      <td>0.0</td>\n",
       "      <td>0.0</td>\n",
       "      <td>0.0</td>\n",
       "      <td>0.0</td>\n",
       "      <td>0.0</td>\n",
       "      <td>0.0</td>\n",
       "      <td>0.0</td>\n",
       "      <td>0.0</td>\n",
       "      <td>0.0</td>\n",
       "      <td>0.0</td>\n",
       "    </tr>\n",
       "  </tbody>\n",
       "</table>\n",
       "</div>"
      ],
      "text/plain": [
       "    ae264e3637204a6fb9bb56bc8210ddfd  4d5c57ea9a6940dd891ad53e9dbe8da0  \\\n",
       "0                                0.0                               0.0   \n",
       "6                                0.0                               0.0   \n",
       "12                               0.0                               0.0   \n",
       "18                               0.0                               0.0   \n",
       "24                               0.0                               0.0   \n",
       "\n",
       "    3f207df678b143eea3cee63160fa8bed  9b98b8c7a33c4b65b9aebfe6a799e6d9  \\\n",
       "0                                0.0                               0.0   \n",
       "6                                0.0                               0.0   \n",
       "12                               0.0                               0.0   \n",
       "18                               0.0                               0.0   \n",
       "24                               0.0                               0.0   \n",
       "\n",
       "    0b1e1539f2cc45b7b9fa7c272da2e1d7  2298d6c36e964ae4a3e7e9706d1fb8c2  \\\n",
       "0                                0.0                               0.0   \n",
       "6                                0.0                               0.0   \n",
       "12                               0.0                               0.0   \n",
       "18                               0.0                               0.0   \n",
       "24                               0.0                               0.0   \n",
       "\n",
       "    fafdcd668e3743c1bb461111dcafc2a4  5a8bc65990b245e5a138643cd4eb9837  \\\n",
       "0                                0.0                               0.0   \n",
       "6                                0.0                               0.0   \n",
       "12                               0.0                               0.0   \n",
       "18                               0.0                               0.0   \n",
       "24                               0.0                               0.0   \n",
       "\n",
       "    f19421c1d4aa40978ebb69ca19b0e20d  2906b810c7d4411798c6938adc9daaa5  \n",
       "0                                0.0                               0.0  \n",
       "6                                0.0                               0.0  \n",
       "12                               0.0                               0.0  \n",
       "18                               0.0                               0.0  \n",
       "24                               0.0                               0.0  "
      ]
     },
     "execution_count": 20,
     "metadata": {},
     "output_type": "execute_result"
    }
   ],
   "source": [
    "offer_ts = pd.DataFrame(np.zeros((data.time.nunique(), len(offers))),\n",
    "                        index=data.time.unique(), columns=offers)\n",
    "offer_ts.head()"
   ]
  },
  {
   "cell_type": "code",
   "execution_count": 21,
   "metadata": {
    "collapsed": true
   },
   "outputs": [],
   "source": [
    "delta = 24 * 10\n",
    "for i, row in user.iterrows():\n",
    "    offer_ts.loc[row.time: row.time + delta, row.offer_id] = 1"
   ]
  },
  {
   "cell_type": "code",
   "execution_count": 22,
   "metadata": {
    "collapsed": false
   },
   "outputs": [
    {
     "data": {
      "text/plain": [
       "<matplotlib.axes._subplots.AxesSubplot at 0x7fe0a720f7f0>"
      ]
     },
     "execution_count": 22,
     "metadata": {},
     "output_type": "execute_result"
    },
    {
     "data": {
      "image/png": "[encoded data removed]",
      "text/plain": [
       "<Figure size 432x288 with 1 Axes>"
      ]
     },
     "metadata": {
      "needs_background": "dark"
     },
     "output_type": "display_data"
    }
   ],
   "source": [
    "offer_ts.loc[:, user.offer_id].plot()"
   ]
  },
  {
   "cell_type": "code",
   "execution_count": 23,
   "metadata": {
    "collapsed": true
   },
   "outputs": [],
   "source": [
    "def get_offers_ts(user_received, portfolio, data, delta = 24 * 10, viewed=False):\n",
    "    \"\"\" \n",
    "    Given the received sequence for a user, this function returns a time series\n",
    "    dataframe containing a 1 in a 10 days period after receiving an offer.\n",
    "    It can filter out the non-viewed offers.\n",
    "    Args:\n",
    "        user_received(dataframe): The received offers for one user.\n",
    "        portfolio(dataframe): The original portfolio of offers (just to get the offer ids).\n",
    "        data(dataframe): The original transcript (just to get the time values).\n",
    "        delta(int): The period of relevance for an offer.\n",
    "        viewed(boolean): Whether to show only the offers that were viewed.\n",
    "    \"\"\"\n",
    "    offers = portfolio.id.values\n",
    "    offer_ts = pd.DataFrame(np.zeros((data.time.nunique(), len(offers))),\n",
    "                            index=data.time.unique(), columns=offers)\n",
    "    for i, row in user_received.iterrows():\n",
    "        if viewed:\n",
    "            if row.viewed:\n",
    "                offer_ts.loc[row.time: row.time + delta, row.offer_id] = 1\n",
    "        else:\n",
    "            offer_ts.loc[row.time: row.time + delta, row.offer_id] = 1\n",
    "    # Fill the \"no-offer\" column\n",
    "    offer_ts['no_offer'] = (offer_ts.sum(axis=1) == 0).astype(int)\n",
    "    return offer_ts"
   ]
  },
  {
   "cell_type": "markdown",
   "metadata": {},
   "source": [
    "Let's plot the offers' relevant periods considering all the offers received and only those that were viewed."
   ]
  },
  {
   "cell_type": "code",
   "execution_count": 24,
   "metadata": {
    "collapsed": false
   },
   "outputs": [
    {
     "data": {
      "text/plain": [
       "<matplotlib.axes._subplots.AxesSubplot at 0x7fe0a725b4e0>"
      ]
     },
     "execution_count": 24,
     "metadata": {},
     "output_type": "execute_result"
    },
    {
     "data": {
      "image/png": "[encoded data removed]",
      "text/plain": [
       "<Figure size 432x288 with 1 Axes>"
      ]
     },
     "metadata": {
      "needs_background": "dark"
     },
     "output_type": "display_data"
    }
   ],
   "source": [
    "user = static_data[static_data.person == static_data.person[1]]\n",
    "interesting_offers = user.offer_id.tolist() + ['no_offer']\n",
    "offer_times = get_offers_ts(user, portfolio, data, viewed=False)\n",
    "offer_times.loc[:, interesting_offers].plot()"
   ]
  },
  {
   "cell_type": "code",
   "execution_count": 25,
   "metadata": {
    "collapsed": false
   },
   "outputs": [
    {
     "data": {
      "text/plain": [
       "<matplotlib.axes._subplots.AxesSubplot at 0x7fe0a72a0828>"
      ]
     },
     "execution_count": 25,
     "metadata": {},
     "output_type": "execute_result"
    },
    {
     "data": {
      "image/png": "[encoded data removed]",
      "text/plain": [
       "<Figure size 432x288 with 1 Axes>"
      ]
     },
     "metadata": {
      "needs_background": "dark"
     },
     "output_type": "display_data"
    }
   ],
   "source": [
    "get_offers_ts(user, portfolio, data, viewed=True).loc[:, interesting_offers].plot()"
   ]
  },
  {
   "cell_type": "markdown",
   "metadata": {},
   "source": [
    "There is overlap. Let's see if the offers, in mean, behave similarly in their full period of interest. If that is true, a model could be implemented on a day-to-day basis, and the overlapping zones could be ignored, or taken into account in an easier way."
   ]
  },
  {
   "cell_type": "code",
   "execution_count": 26,
   "metadata": {
    "collapsed": false
   },
   "outputs": [
    {
     "data": {
      "text/html": [
       "<div>\n",
       "<style scoped>\n",
       "    .dataframe tbody tr th:only-of-type {\n",
       "        vertical-align: middle;\n",
       "    }\n",
       "\n",
       "    .dataframe tbody tr th {\n",
       "        vertical-align: top;\n",
       "    }\n",
       "\n",
       "    .dataframe thead th {\n",
       "        text-align: right;\n",
       "    }\n",
       "</style>\n",
       "<table border=\"1\" class=\"dataframe\">\n",
       "  <thead>\n",
       "    <tr style=\"text-align: right;\">\n",
       "      <th></th>\n",
       "      <th>event</th>\n",
       "      <th>person</th>\n",
       "      <th>time</th>\n",
       "      <th>amount</th>\n",
       "      <th>offer_id</th>\n",
       "      <th>reward</th>\n",
       "      <th>age</th>\n",
       "      <th>became_member_on</th>\n",
       "      <th>gender</th>\n",
       "      <th>income</th>\n",
       "      <th>missing_demographics</th>\n",
       "      <th>member_epoch_days</th>\n",
       "      <th>difficulty</th>\n",
       "      <th>duration</th>\n",
       "      <th>offer_type</th>\n",
       "      <th>reward_t</th>\n",
       "      <th>channel_email</th>\n",
       "      <th>channel_web</th>\n",
       "      <th>channel_social</th>\n",
       "      <th>channel_mobile</th>\n",
       "    </tr>\n",
       "  </thead>\n",
       "  <tbody>\n",
       "    <tr>\n",
       "      <th>12654</th>\n",
       "      <td>transaction</td>\n",
       "      <td>02c083884c7d45b39cc68e1314fec56c</td>\n",
       "      <td>0</td>\n",
       "      <td>0.83</td>\n",
       "      <td>NaN</td>\n",
       "      <td>NaN</td>\n",
       "      <td>20.0</td>\n",
       "      <td>2016-07-11</td>\n",
       "      <td>F</td>\n",
       "      <td>30000.0</td>\n",
       "      <td>0</td>\n",
       "      <td>16993</td>\n",
       "      <td>NaN</td>\n",
       "      <td>NaN</td>\n",
       "      <td>NaN</td>\n",
       "      <td>NaN</td>\n",
       "      <td>NaN</td>\n",
       "      <td>NaN</td>\n",
       "      <td>NaN</td>\n",
       "      <td>NaN</td>\n",
       "    </tr>\n",
       "    <tr>\n",
       "      <th>12657</th>\n",
       "      <td>transaction</td>\n",
       "      <td>9fa9ae8f57894cc9a3b8a9bbe0fc1b2f</td>\n",
       "      <td>0</td>\n",
       "      <td>34.56</td>\n",
       "      <td>NaN</td>\n",
       "      <td>NaN</td>\n",
       "      <td>42.0</td>\n",
       "      <td>2016-01-17</td>\n",
       "      <td>M</td>\n",
       "      <td>96000.0</td>\n",
       "      <td>0</td>\n",
       "      <td>16817</td>\n",
       "      <td>NaN</td>\n",
       "      <td>NaN</td>\n",
       "      <td>NaN</td>\n",
       "      <td>NaN</td>\n",
       "      <td>NaN</td>\n",
       "      <td>NaN</td>\n",
       "      <td>NaN</td>\n",
       "      <td>NaN</td>\n",
       "    </tr>\n",
       "    <tr>\n",
       "      <th>12659</th>\n",
       "      <td>transaction</td>\n",
       "      <td>54890f68699049c2a04d415abc25e717</td>\n",
       "      <td>0</td>\n",
       "      <td>13.23</td>\n",
       "      <td>NaN</td>\n",
       "      <td>NaN</td>\n",
       "      <td>36.0</td>\n",
       "      <td>2017-12-28</td>\n",
       "      <td>M</td>\n",
       "      <td>56000.0</td>\n",
       "      <td>0</td>\n",
       "      <td>17528</td>\n",
       "      <td>NaN</td>\n",
       "      <td>NaN</td>\n",
       "      <td>NaN</td>\n",
       "      <td>NaN</td>\n",
       "      <td>NaN</td>\n",
       "      <td>NaN</td>\n",
       "      <td>NaN</td>\n",
       "      <td>NaN</td>\n",
       "    </tr>\n",
       "    <tr>\n",
       "      <th>12670</th>\n",
       "      <td>transaction</td>\n",
       "      <td>b2f1cd155b864803ad8334cdf13c4bd2</td>\n",
       "      <td>0</td>\n",
       "      <td>19.51</td>\n",
       "      <td>NaN</td>\n",
       "      <td>NaN</td>\n",
       "      <td>55.0</td>\n",
       "      <td>2017-10-16</td>\n",
       "      <td>F</td>\n",
       "      <td>94000.0</td>\n",
       "      <td>0</td>\n",
       "      <td>17455</td>\n",
       "      <td>NaN</td>\n",
       "      <td>NaN</td>\n",
       "      <td>NaN</td>\n",
       "      <td>NaN</td>\n",
       "      <td>NaN</td>\n",
       "      <td>NaN</td>\n",
       "      <td>NaN</td>\n",
       "      <td>NaN</td>\n",
       "    </tr>\n",
       "    <tr>\n",
       "      <th>12671</th>\n",
       "      <td>transaction</td>\n",
       "      <td>fe97aa22dd3e48c8b143116a8403dd52</td>\n",
       "      <td>0</td>\n",
       "      <td>18.97</td>\n",
       "      <td>NaN</td>\n",
       "      <td>NaN</td>\n",
       "      <td>39.0</td>\n",
       "      <td>2017-12-17</td>\n",
       "      <td>F</td>\n",
       "      <td>67000.0</td>\n",
       "      <td>0</td>\n",
       "      <td>17517</td>\n",
       "      <td>NaN</td>\n",
       "      <td>NaN</td>\n",
       "      <td>NaN</td>\n",
       "      <td>NaN</td>\n",
       "      <td>NaN</td>\n",
       "      <td>NaN</td>\n",
       "      <td>NaN</td>\n",
       "      <td>NaN</td>\n",
       "    </tr>\n",
       "  </tbody>\n",
       "</table>\n",
       "</div>"
      ],
      "text/plain": [
       "             event                            person  time  amount offer_id  \\\n",
       "12654  transaction  02c083884c7d45b39cc68e1314fec56c     0    0.83      NaN   \n",
       "12657  transaction  9fa9ae8f57894cc9a3b8a9bbe0fc1b2f     0   34.56      NaN   \n",
       "12659  transaction  54890f68699049c2a04d415abc25e717     0   13.23      NaN   \n",
       "12670  transaction  b2f1cd155b864803ad8334cdf13c4bd2     0   19.51      NaN   \n",
       "12671  transaction  fe97aa22dd3e48c8b143116a8403dd52     0   18.97      NaN   \n",
       "\n",
       "       reward   age became_member_on gender   income  missing_demographics  \\\n",
       "12654     NaN  20.0       2016-07-11      F  30000.0                     0   \n",
       "12657     NaN  42.0       2016-01-17      M  96000.0                     0   \n",
       "12659     NaN  36.0       2017-12-28      M  56000.0                     0   \n",
       "12670     NaN  55.0       2017-10-16      F  94000.0                     0   \n",
       "12671     NaN  39.0       2017-12-17      F  67000.0                     0   \n",
       "\n",
       "       member_epoch_days  difficulty  duration offer_type  reward_t  \\\n",
       "12654              16993         NaN       NaN        NaN       NaN   \n",
       "12657              16817         NaN       NaN        NaN       NaN   \n",
       "12659              17528         NaN       NaN        NaN       NaN   \n",
       "12670              17455         NaN       NaN        NaN       NaN   \n",
       "12671              17517         NaN       NaN        NaN       NaN   \n",
       "\n",
       "       channel_email  channel_web  channel_social  channel_mobile  \n",
       "12654            NaN          NaN             NaN             NaN  \n",
       "12657            NaN          NaN             NaN             NaN  \n",
       "12659            NaN          NaN             NaN             NaN  \n",
       "12670            NaN          NaN             NaN             NaN  \n",
       "12671            NaN          NaN             NaN             NaN  "
      ]
     },
     "execution_count": 26,
     "metadata": {},
     "output_type": "execute_result"
    }
   ],
   "source": [
    "transactions.head()"
   ]
  },
  {
   "cell_type": "code",
   "execution_count": 27,
   "metadata": {
    "collapsed": false
   },
   "outputs": [
    {
     "data": {
      "text/plain": [
       "'ae264e3637204a6fb9bb56bc8210ddfd'"
      ]
     },
     "execution_count": 27,
     "metadata": {},
     "output_type": "execute_result"
    }
   ],
   "source": [
    "offer = portfolio.id[0]\n",
    "offer"
   ]
  },
  {
   "cell_type": "code",
   "execution_count": 28,
   "metadata": {
    "collapsed": true
   },
   "outputs": [],
   "source": [
    "# Create empty time series\n",
    "ts = pd.DataFrame(np.zeros((data.time.nunique(), data.person.nunique())), \n",
    "                  index=data.time.unique(), columns=data.person.unique())\n",
    "\n",
    "ts.update(transactions.pivot_table(index='time',\n",
    "                              columns='person',\n",
    "                              values='amount',\n",
    "                              aggfunc='sum'))"
   ]
  },
  {
   "cell_type": "code",
   "execution_count": 29,
   "metadata": {
    "collapsed": false
   },
   "outputs": [
    {
     "data": {
      "text/plain": [
       "(120, 17000)"
      ]
     },
     "execution_count": 29,
     "metadata": {},
     "output_type": "execute_result"
    }
   ],
   "source": [
    "ts.shape"
   ]
  },
  {
   "cell_type": "code",
   "execution_count": 30,
   "metadata": {
    "collapsed": false
   },
   "outputs": [
    {
     "data": {
      "text/plain": [
       "(76277, 135)"
      ]
     },
     "execution_count": 30,
     "metadata": {},
     "output_type": "execute_result"
    }
   ],
   "source": [
    "static_data.shape"
   ]
  },
  {
   "cell_type": "code",
   "execution_count": 31,
   "metadata": {
    "collapsed": false
   },
   "outputs": [
    {
     "name": "stdout",
     "output_type": "stream",
     "text": [
      "CPU times: user 2min 10s, sys: 694 ms, total: 2min 11s\n",
      "Wall time: 2min 11s\n"
     ]
    }
   ],
   "source": [
    "%time multi_offer_times = static_data.groupby('person').apply(lambda x: get_offers_ts(x, portfolio, data, viewed=False).stack() )"
   ]
  },
  {
   "cell_type": "code",
   "execution_count": 32,
   "metadata": {
    "collapsed": false
   },
   "outputs": [
    {
     "data": {
      "text/plain": [
       "(16994, 1320)"
      ]
     },
     "execution_count": 32,
     "metadata": {},
     "output_type": "execute_result"
    }
   ],
   "source": [
    "multi_offer_times.shape"
   ]
  },
  {
   "cell_type": "code",
   "execution_count": 33,
   "metadata": {
    "collapsed": false
   },
   "outputs": [
    {
     "data": {
      "text/plain": [
       "(10, 9)"
      ]
     },
     "execution_count": 33,
     "metadata": {},
     "output_type": "execute_result"
    }
   ],
   "source": [
    "portfolio.shape"
   ]
  },
  {
   "cell_type": "code",
   "execution_count": 34,
   "metadata": {
    "collapsed": false
   },
   "outputs": [
    {
     "data": {
      "text/plain": [
       "1320"
      ]
     },
     "execution_count": 34,
     "metadata": {},
     "output_type": "execute_result"
    }
   ],
   "source": [
    "120 * 11"
   ]
  },
  {
   "cell_type": "code",
   "execution_count": 35,
   "metadata": {
    "collapsed": false
   },
   "outputs": [
    {
     "data": {
      "text/html": [
       "<div>\n",
       "<style scoped>\n",
       "    .dataframe tbody tr th:only-of-type {\n",
       "        vertical-align: middle;\n",
       "    }\n",
       "\n",
       "    .dataframe tbody tr th {\n",
       "        vertical-align: top;\n",
       "    }\n",
       "\n",
       "    .dataframe thead tr th {\n",
       "        text-align: left;\n",
       "    }\n",
       "\n",
       "    .dataframe thead tr:last-of-type th {\n",
       "        text-align: right;\n",
       "    }\n",
       "</style>\n",
       "<table border=\"1\" class=\"dataframe\">\n",
       "  <thead>\n",
       "    <tr>\n",
       "      <th></th>\n",
       "      <th colspan=\"10\" halign=\"left\">0</th>\n",
       "      <th>...</th>\n",
       "      <th colspan=\"10\" halign=\"left\">714</th>\n",
       "    </tr>\n",
       "    <tr>\n",
       "      <th></th>\n",
       "      <th>ae264e3637204a6fb9bb56bc8210ddfd</th>\n",
       "      <th>4d5c57ea9a6940dd891ad53e9dbe8da0</th>\n",
       "      <th>3f207df678b143eea3cee63160fa8bed</th>\n",
       "      <th>9b98b8c7a33c4b65b9aebfe6a799e6d9</th>\n",
       "      <th>0b1e1539f2cc45b7b9fa7c272da2e1d7</th>\n",
       "      <th>2298d6c36e964ae4a3e7e9706d1fb8c2</th>\n",
       "      <th>fafdcd668e3743c1bb461111dcafc2a4</th>\n",
       "      <th>5a8bc65990b245e5a138643cd4eb9837</th>\n",
       "      <th>f19421c1d4aa40978ebb69ca19b0e20d</th>\n",
       "      <th>2906b810c7d4411798c6938adc9daaa5</th>\n",
       "      <th>...</th>\n",
       "      <th>4d5c57ea9a6940dd891ad53e9dbe8da0</th>\n",
       "      <th>3f207df678b143eea3cee63160fa8bed</th>\n",
       "      <th>9b98b8c7a33c4b65b9aebfe6a799e6d9</th>\n",
       "      <th>0b1e1539f2cc45b7b9fa7c272da2e1d7</th>\n",
       "      <th>2298d6c36e964ae4a3e7e9706d1fb8c2</th>\n",
       "      <th>fafdcd668e3743c1bb461111dcafc2a4</th>\n",
       "      <th>5a8bc65990b245e5a138643cd4eb9837</th>\n",
       "      <th>f19421c1d4aa40978ebb69ca19b0e20d</th>\n",
       "      <th>2906b810c7d4411798c6938adc9daaa5</th>\n",
       "      <th>no_offer</th>\n",
       "    </tr>\n",
       "    <tr>\n",
       "      <th>person</th>\n",
       "      <th></th>\n",
       "      <th></th>\n",
       "      <th></th>\n",
       "      <th></th>\n",
       "      <th></th>\n",
       "      <th></th>\n",
       "      <th></th>\n",
       "      <th></th>\n",
       "      <th></th>\n",
       "      <th></th>\n",
       "      <th></th>\n",
       "      <th></th>\n",
       "      <th></th>\n",
       "      <th></th>\n",
       "      <th></th>\n",
       "      <th></th>\n",
       "      <th></th>\n",
       "      <th></th>\n",
       "      <th></th>\n",
       "      <th></th>\n",
       "      <th></th>\n",
       "    </tr>\n",
       "  </thead>\n",
       "  <tbody>\n",
       "    <tr>\n",
       "      <th>0009655768c64bdeb2e877511632db8f</th>\n",
       "      <td>0.0</td>\n",
       "      <td>0.0</td>\n",
       "      <td>0.0</td>\n",
       "      <td>0.0</td>\n",
       "      <td>0.0</td>\n",
       "      <td>0.0</td>\n",
       "      <td>0.0</td>\n",
       "      <td>0.0</td>\n",
       "      <td>0.0</td>\n",
       "      <td>0.0</td>\n",
       "      <td>...</td>\n",
       "      <td>0.0</td>\n",
       "      <td>0.0</td>\n",
       "      <td>0.0</td>\n",
       "      <td>0.0</td>\n",
       "      <td>0.0</td>\n",
       "      <td>1.0</td>\n",
       "      <td>0.0</td>\n",
       "      <td>0.0</td>\n",
       "      <td>1.0</td>\n",
       "      <td>0.0</td>\n",
       "    </tr>\n",
       "    <tr>\n",
       "      <th>00116118485d4dfda04fdbaba9a87b5c</th>\n",
       "      <td>0.0</td>\n",
       "      <td>0.0</td>\n",
       "      <td>0.0</td>\n",
       "      <td>0.0</td>\n",
       "      <td>0.0</td>\n",
       "      <td>0.0</td>\n",
       "      <td>0.0</td>\n",
       "      <td>0.0</td>\n",
       "      <td>0.0</td>\n",
       "      <td>0.0</td>\n",
       "      <td>...</td>\n",
       "      <td>0.0</td>\n",
       "      <td>0.0</td>\n",
       "      <td>0.0</td>\n",
       "      <td>0.0</td>\n",
       "      <td>0.0</td>\n",
       "      <td>0.0</td>\n",
       "      <td>0.0</td>\n",
       "      <td>1.0</td>\n",
       "      <td>0.0</td>\n",
       "      <td>0.0</td>\n",
       "    </tr>\n",
       "    <tr>\n",
       "      <th>0011e0d4e6b944f998e987f904e8c1e5</th>\n",
       "      <td>0.0</td>\n",
       "      <td>0.0</td>\n",
       "      <td>1.0</td>\n",
       "      <td>0.0</td>\n",
       "      <td>0.0</td>\n",
       "      <td>0.0</td>\n",
       "      <td>0.0</td>\n",
       "      <td>0.0</td>\n",
       "      <td>0.0</td>\n",
       "      <td>0.0</td>\n",
       "      <td>...</td>\n",
       "      <td>0.0</td>\n",
       "      <td>0.0</td>\n",
       "      <td>1.0</td>\n",
       "      <td>0.0</td>\n",
       "      <td>0.0</td>\n",
       "      <td>0.0</td>\n",
       "      <td>0.0</td>\n",
       "      <td>0.0</td>\n",
       "      <td>0.0</td>\n",
       "      <td>0.0</td>\n",
       "    </tr>\n",
       "    <tr>\n",
       "      <th>0020c2b971eb4e9188eac86d93036a77</th>\n",
       "      <td>0.0</td>\n",
       "      <td>0.0</td>\n",
       "      <td>0.0</td>\n",
       "      <td>0.0</td>\n",
       "      <td>0.0</td>\n",
       "      <td>0.0</td>\n",
       "      <td>1.0</td>\n",
       "      <td>0.0</td>\n",
       "      <td>0.0</td>\n",
       "      <td>0.0</td>\n",
       "      <td>...</td>\n",
       "      <td>0.0</td>\n",
       "      <td>0.0</td>\n",
       "      <td>0.0</td>\n",
       "      <td>0.0</td>\n",
       "      <td>0.0</td>\n",
       "      <td>0.0</td>\n",
       "      <td>1.0</td>\n",
       "      <td>0.0</td>\n",
       "      <td>0.0</td>\n",
       "      <td>0.0</td>\n",
       "    </tr>\n",
       "    <tr>\n",
       "      <th>0020ccbbb6d84e358d3414a3ff76cffd</th>\n",
       "      <td>0.0</td>\n",
       "      <td>0.0</td>\n",
       "      <td>0.0</td>\n",
       "      <td>0.0</td>\n",
       "      <td>0.0</td>\n",
       "      <td>0.0</td>\n",
       "      <td>0.0</td>\n",
       "      <td>0.0</td>\n",
       "      <td>0.0</td>\n",
       "      <td>0.0</td>\n",
       "      <td>...</td>\n",
       "      <td>0.0</td>\n",
       "      <td>0.0</td>\n",
       "      <td>1.0</td>\n",
       "      <td>0.0</td>\n",
       "      <td>0.0</td>\n",
       "      <td>0.0</td>\n",
       "      <td>0.0</td>\n",
       "      <td>0.0</td>\n",
       "      <td>0.0</td>\n",
       "      <td>0.0</td>\n",
       "    </tr>\n",
       "  </tbody>\n",
       "</table>\n",
       "<p>5 rows × 1320 columns</p>\n",
       "</div>"
      ],
      "text/plain": [
       "                                                              0    \\\n",
       "                                 ae264e3637204a6fb9bb56bc8210ddfd   \n",
       "person                                                              \n",
       "0009655768c64bdeb2e877511632db8f                              0.0   \n",
       "00116118485d4dfda04fdbaba9a87b5c                              0.0   \n",
       "0011e0d4e6b944f998e987f904e8c1e5                              0.0   \n",
       "0020c2b971eb4e9188eac86d93036a77                              0.0   \n",
       "0020ccbbb6d84e358d3414a3ff76cffd                              0.0   \n",
       "\n",
       "                                                                   \\\n",
       "                                 4d5c57ea9a6940dd891ad53e9dbe8da0   \n",
       "person                                                              \n",
       "0009655768c64bdeb2e877511632db8f                              0.0   \n",
       "00116118485d4dfda04fdbaba9a87b5c                              0.0   \n",
       "0011e0d4e6b944f998e987f904e8c1e5                              0.0   \n",
       "0020c2b971eb4e9188eac86d93036a77                              0.0   \n",
       "0020ccbbb6d84e358d3414a3ff76cffd                              0.0   \n",
       "\n",
       "                                                                   \\\n",
       "                                 3f207df678b143eea3cee63160fa8bed   \n",
       "person                                                              \n",
       "0009655768c64bdeb2e877511632db8f                              0.0   \n",
       "00116118485d4dfda04fdbaba9a87b5c                              0.0   \n",
       "0011e0d4e6b944f998e987f904e8c1e5                              1.0   \n",
       "0020c2b971eb4e9188eac86d93036a77                              0.0   \n",
       "0020ccbbb6d84e358d3414a3ff76cffd                              0.0   \n",
       "\n",
       "                                                                   \\\n",
       "                                 9b98b8c7a33c4b65b9aebfe6a799e6d9   \n",
       "person                                                              \n",
       "0009655768c64bdeb2e877511632db8f                              0.0   \n",
       "00116118485d4dfda04fdbaba9a87b5c                              0.0   \n",
       "0011e0d4e6b944f998e987f904e8c1e5                              0.0   \n",
       "0020c2b971eb4e9188eac86d93036a77                              0.0   \n",
       "0020ccbbb6d84e358d3414a3ff76cffd                              0.0   \n",
       "\n",
       "                                                                   \\\n",
       "                                 0b1e1539f2cc45b7b9fa7c272da2e1d7   \n",
       "person                                                              \n",
       "0009655768c64bdeb2e877511632db8f                              0.0   \n",
       "00116118485d4dfda04fdbaba9a87b5c                              0.0   \n",
       "0011e0d4e6b944f998e987f904e8c1e5                              0.0   \n",
       "0020c2b971eb4e9188eac86d93036a77                              0.0   \n",
       "0020ccbbb6d84e358d3414a3ff76cffd                              0.0   \n",
       "\n",
       "                                                                   \\\n",
       "                                 2298d6c36e964ae4a3e7e9706d1fb8c2   \n",
       "person                                                              \n",
       "0009655768c64bdeb2e877511632db8f                              0.0   \n",
       "00116118485d4dfda04fdbaba9a87b5c                              0.0   \n",
       "0011e0d4e6b944f998e987f904e8c1e5                              0.0   \n",
       "0020c2b971eb4e9188eac86d93036a77                              0.0   \n",
       "0020ccbbb6d84e358d3414a3ff76cffd                              0.0   \n",
       "\n",
       "                                                                   \\\n",
       "                                 fafdcd668e3743c1bb461111dcafc2a4   \n",
       "person                                                              \n",
       "0009655768c64bdeb2e877511632db8f                              0.0   \n",
       "00116118485d4dfda04fdbaba9a87b5c                              0.0   \n",
       "0011e0d4e6b944f998e987f904e8c1e5                              0.0   \n",
       "0020c2b971eb4e9188eac86d93036a77                              1.0   \n",
       "0020ccbbb6d84e358d3414a3ff76cffd                              0.0   \n",
       "\n",
       "                                                                   \\\n",
       "                                 5a8bc65990b245e5a138643cd4eb9837   \n",
       "person                                                              \n",
       "0009655768c64bdeb2e877511632db8f                              0.0   \n",
       "00116118485d4dfda04fdbaba9a87b5c                              0.0   \n",
       "0011e0d4e6b944f998e987f904e8c1e5                              0.0   \n",
       "0020c2b971eb4e9188eac86d93036a77                              0.0   \n",
       "0020ccbbb6d84e358d3414a3ff76cffd                              0.0   \n",
       "\n",
       "                                                                   \\\n",
       "                                 f19421c1d4aa40978ebb69ca19b0e20d   \n",
       "person                                                              \n",
       "0009655768c64bdeb2e877511632db8f                              0.0   \n",
       "00116118485d4dfda04fdbaba9a87b5c                              0.0   \n",
       "0011e0d4e6b944f998e987f904e8c1e5                              0.0   \n",
       "0020c2b971eb4e9188eac86d93036a77                              0.0   \n",
       "0020ccbbb6d84e358d3414a3ff76cffd                              0.0   \n",
       "\n",
       "                                                                    ...     \\\n",
       "                                 2906b810c7d4411798c6938adc9daaa5   ...      \n",
       "person                                                              ...      \n",
       "0009655768c64bdeb2e877511632db8f                              0.0   ...      \n",
       "00116118485d4dfda04fdbaba9a87b5c                              0.0   ...      \n",
       "0011e0d4e6b944f998e987f904e8c1e5                              0.0   ...      \n",
       "0020c2b971eb4e9188eac86d93036a77                              0.0   ...      \n",
       "0020ccbbb6d84e358d3414a3ff76cffd                              0.0   ...      \n",
       "\n",
       "                                                              714  \\\n",
       "                                 4d5c57ea9a6940dd891ad53e9dbe8da0   \n",
       "person                                                              \n",
       "0009655768c64bdeb2e877511632db8f                              0.0   \n",
       "00116118485d4dfda04fdbaba9a87b5c                              0.0   \n",
       "0011e0d4e6b944f998e987f904e8c1e5                              0.0   \n",
       "0020c2b971eb4e9188eac86d93036a77                              0.0   \n",
       "0020ccbbb6d84e358d3414a3ff76cffd                              0.0   \n",
       "\n",
       "                                                                   \\\n",
       "                                 3f207df678b143eea3cee63160fa8bed   \n",
       "person                                                              \n",
       "0009655768c64bdeb2e877511632db8f                              0.0   \n",
       "00116118485d4dfda04fdbaba9a87b5c                              0.0   \n",
       "0011e0d4e6b944f998e987f904e8c1e5                              0.0   \n",
       "0020c2b971eb4e9188eac86d93036a77                              0.0   \n",
       "0020ccbbb6d84e358d3414a3ff76cffd                              0.0   \n",
       "\n",
       "                                                                   \\\n",
       "                                 9b98b8c7a33c4b65b9aebfe6a799e6d9   \n",
       "person                                                              \n",
       "0009655768c64bdeb2e877511632db8f                              0.0   \n",
       "00116118485d4dfda04fdbaba9a87b5c                              0.0   \n",
       "0011e0d4e6b944f998e987f904e8c1e5                              1.0   \n",
       "0020c2b971eb4e9188eac86d93036a77                              0.0   \n",
       "0020ccbbb6d84e358d3414a3ff76cffd                              1.0   \n",
       "\n",
       "                                                                   \\\n",
       "                                 0b1e1539f2cc45b7b9fa7c272da2e1d7   \n",
       "person                                                              \n",
       "0009655768c64bdeb2e877511632db8f                              0.0   \n",
       "00116118485d4dfda04fdbaba9a87b5c                              0.0   \n",
       "0011e0d4e6b944f998e987f904e8c1e5                              0.0   \n",
       "0020c2b971eb4e9188eac86d93036a77                              0.0   \n",
       "0020ccbbb6d84e358d3414a3ff76cffd                              0.0   \n",
       "\n",
       "                                                                   \\\n",
       "                                 2298d6c36e964ae4a3e7e9706d1fb8c2   \n",
       "person                                                              \n",
       "0009655768c64bdeb2e877511632db8f                              0.0   \n",
       "00116118485d4dfda04fdbaba9a87b5c                              0.0   \n",
       "0011e0d4e6b944f998e987f904e8c1e5                              0.0   \n",
       "0020c2b971eb4e9188eac86d93036a77                              0.0   \n",
       "0020ccbbb6d84e358d3414a3ff76cffd                              0.0   \n",
       "\n",
       "                                                                   \\\n",
       "                                 fafdcd668e3743c1bb461111dcafc2a4   \n",
       "person                                                              \n",
       "0009655768c64bdeb2e877511632db8f                              1.0   \n",
       "00116118485d4dfda04fdbaba9a87b5c                              0.0   \n",
       "0011e0d4e6b944f998e987f904e8c1e5                              0.0   \n",
       "0020c2b971eb4e9188eac86d93036a77                              0.0   \n",
       "0020ccbbb6d84e358d3414a3ff76cffd                              0.0   \n",
       "\n",
       "                                                                   \\\n",
       "                                 5a8bc65990b245e5a138643cd4eb9837   \n",
       "person                                                              \n",
       "0009655768c64bdeb2e877511632db8f                              0.0   \n",
       "00116118485d4dfda04fdbaba9a87b5c                              0.0   \n",
       "0011e0d4e6b944f998e987f904e8c1e5                              0.0   \n",
       "0020c2b971eb4e9188eac86d93036a77                              1.0   \n",
       "0020ccbbb6d84e358d3414a3ff76cffd                              0.0   \n",
       "\n",
       "                                                                   \\\n",
       "                                 f19421c1d4aa40978ebb69ca19b0e20d   \n",
       "person                                                              \n",
       "0009655768c64bdeb2e877511632db8f                              0.0   \n",
       "00116118485d4dfda04fdbaba9a87b5c                              1.0   \n",
       "0011e0d4e6b944f998e987f904e8c1e5                              0.0   \n",
       "0020c2b971eb4e9188eac86d93036a77                              0.0   \n",
       "0020ccbbb6d84e358d3414a3ff76cffd                              0.0   \n",
       "\n",
       "                                                                            \n",
       "                                 2906b810c7d4411798c6938adc9daaa5 no_offer  \n",
       "person                                                                      \n",
       "0009655768c64bdeb2e877511632db8f                              1.0      0.0  \n",
       "00116118485d4dfda04fdbaba9a87b5c                              0.0      0.0  \n",
       "0011e0d4e6b944f998e987f904e8c1e5                              0.0      0.0  \n",
       "0020c2b971eb4e9188eac86d93036a77                              0.0      0.0  \n",
       "0020ccbbb6d84e358d3414a3ff76cffd                              0.0      0.0  \n",
       "\n",
       "[5 rows x 1320 columns]"
      ]
     },
     "execution_count": 35,
     "metadata": {},
     "output_type": "execute_result"
    }
   ],
   "source": [
    "multi_offer_times.head()"
   ]
  },
  {
   "cell_type": "code",
   "execution_count": 36,
   "metadata": {
    "collapsed": false
   },
   "outputs": [
    {
     "data": {
      "text/plain": [
       "0    ae264e3637204a6fb9bb56bc8210ddfd    0.0\n",
       "     4d5c57ea9a6940dd891ad53e9dbe8da0    0.0\n",
       "     3f207df678b143eea3cee63160fa8bed    0.0\n",
       "     9b98b8c7a33c4b65b9aebfe6a799e6d9    0.0\n",
       "     0b1e1539f2cc45b7b9fa7c272da2e1d7    0.0\n",
       "     2298d6c36e964ae4a3e7e9706d1fb8c2    0.0\n",
       "     fafdcd668e3743c1bb461111dcafc2a4    0.0\n",
       "     5a8bc65990b245e5a138643cd4eb9837    0.0\n",
       "     f19421c1d4aa40978ebb69ca19b0e20d    0.0\n",
       "     2906b810c7d4411798c6938adc9daaa5    0.0\n",
       "     no_offer                            1.0\n",
       "6    ae264e3637204a6fb9bb56bc8210ddfd    0.0\n",
       "     4d5c57ea9a6940dd891ad53e9dbe8da0    0.0\n",
       "     3f207df678b143eea3cee63160fa8bed    0.0\n",
       "     9b98b8c7a33c4b65b9aebfe6a799e6d9    0.0\n",
       "     0b1e1539f2cc45b7b9fa7c272da2e1d7    0.0\n",
       "     2298d6c36e964ae4a3e7e9706d1fb8c2    0.0\n",
       "     fafdcd668e3743c1bb461111dcafc2a4    0.0\n",
       "     5a8bc65990b245e5a138643cd4eb9837    0.0\n",
       "     f19421c1d4aa40978ebb69ca19b0e20d    0.0\n",
       "     2906b810c7d4411798c6938adc9daaa5    0.0\n",
       "     no_offer                            1.0\n",
       "12   ae264e3637204a6fb9bb56bc8210ddfd    0.0\n",
       "     4d5c57ea9a6940dd891ad53e9dbe8da0    0.0\n",
       "     3f207df678b143eea3cee63160fa8bed    0.0\n",
       "     9b98b8c7a33c4b65b9aebfe6a799e6d9    0.0\n",
       "     0b1e1539f2cc45b7b9fa7c272da2e1d7    0.0\n",
       "     2298d6c36e964ae4a3e7e9706d1fb8c2    0.0\n",
       "     fafdcd668e3743c1bb461111dcafc2a4    0.0\n",
       "     5a8bc65990b245e5a138643cd4eb9837    0.0\n",
       "                                        ... \n",
       "702  9b98b8c7a33c4b65b9aebfe6a799e6d9    0.0\n",
       "     0b1e1539f2cc45b7b9fa7c272da2e1d7    0.0\n",
       "     2298d6c36e964ae4a3e7e9706d1fb8c2    0.0\n",
       "     fafdcd668e3743c1bb461111dcafc2a4    1.0\n",
       "     5a8bc65990b245e5a138643cd4eb9837    0.0\n",
       "     f19421c1d4aa40978ebb69ca19b0e20d    0.0\n",
       "     2906b810c7d4411798c6938adc9daaa5    1.0\n",
       "     no_offer                            0.0\n",
       "708  ae264e3637204a6fb9bb56bc8210ddfd    0.0\n",
       "     4d5c57ea9a6940dd891ad53e9dbe8da0    0.0\n",
       "     3f207df678b143eea3cee63160fa8bed    0.0\n",
       "     9b98b8c7a33c4b65b9aebfe6a799e6d9    0.0\n",
       "     0b1e1539f2cc45b7b9fa7c272da2e1d7    0.0\n",
       "     2298d6c36e964ae4a3e7e9706d1fb8c2    0.0\n",
       "     fafdcd668e3743c1bb461111dcafc2a4    1.0\n",
       "     5a8bc65990b245e5a138643cd4eb9837    0.0\n",
       "     f19421c1d4aa40978ebb69ca19b0e20d    0.0\n",
       "     2906b810c7d4411798c6938adc9daaa5    1.0\n",
       "     no_offer                            0.0\n",
       "714  ae264e3637204a6fb9bb56bc8210ddfd    0.0\n",
       "     4d5c57ea9a6940dd891ad53e9dbe8da0    0.0\n",
       "     3f207df678b143eea3cee63160fa8bed    0.0\n",
       "     9b98b8c7a33c4b65b9aebfe6a799e6d9    0.0\n",
       "     0b1e1539f2cc45b7b9fa7c272da2e1d7    0.0\n",
       "     2298d6c36e964ae4a3e7e9706d1fb8c2    0.0\n",
       "     fafdcd668e3743c1bb461111dcafc2a4    1.0\n",
       "     5a8bc65990b245e5a138643cd4eb9837    0.0\n",
       "     f19421c1d4aa40978ebb69ca19b0e20d    0.0\n",
       "     2906b810c7d4411798c6938adc9daaa5    1.0\n",
       "     no_offer                            0.0\n",
       "Length: 1320, dtype: float64"
      ]
     },
     "execution_count": 36,
     "metadata": {},
     "output_type": "execute_result"
    }
   ],
   "source": [
    "offer_times = get_offers_ts(user, portfolio, data, viewed=False)\n",
    "offer_times.stack()"
   ]
  },
  {
   "cell_type": "markdown",
   "metadata": {},
   "source": [
    "## 1) Let's get the spent money in 10 days from the offer reception, without taking into account the overlapping or the views."
   ]
  },
  {
   "cell_type": "code",
   "execution_count": 37,
   "metadata": {
    "collapsed": false
   },
   "outputs": [
    {
     "name": "stdout",
     "output_type": "stream",
     "text": [
      "CPU times: user 2.98 s, sys: 27.8 ms, total: 3.01 s\n",
      "Wall time: 1.99 s\n"
     ]
    }
   ],
   "source": [
    "# Get the data\n",
    "static_data = pd.read_pickle(STATIC_DATASET_PATH)\n",
    "portfolio = pd.read_json(os.path.join(DATA_RAW, 'portfolio.json'), orient='records', lines=True)\n",
    "profile = pd.read_json(os.path.join(DATA_RAW, 'profile.json'), orient='records', lines=True)\n",
    "transcript = pd.read_json(os.path.join(DATA_RAW, 'transcript.json'), orient='records', lines=True)\n",
    "\n",
    "%time data, portfolio = pp.basic_preprocessing(portfolio, profile, transcript)\n",
    "received, viewed, completed, transactions = pp.split_transcript(data)"
   ]
  },
  {
   "cell_type": "code",
   "execution_count": 38,
   "metadata": {
    "collapsed": false
   },
   "outputs": [
    {
     "data": {
      "text/plain": [
       "(76277, 135)"
      ]
     },
     "execution_count": 38,
     "metadata": {},
     "output_type": "execute_result"
    }
   ],
   "source": [
    "static_data.shape"
   ]
  },
  {
   "cell_type": "code",
   "execution_count": 39,
   "metadata": {
    "collapsed": false
   },
   "outputs": [
    {
     "data": {
      "text/html": [
       "<div>\n",
       "<style scoped>\n",
       "    .dataframe tbody tr th:only-of-type {\n",
       "        vertical-align: middle;\n",
       "    }\n",
       "\n",
       "    .dataframe tbody tr th {\n",
       "        vertical-align: top;\n",
       "    }\n",
       "\n",
       "    .dataframe thead th {\n",
       "        text-align: right;\n",
       "    }\n",
       "</style>\n",
       "<table border=\"1\" class=\"dataframe\">\n",
       "  <thead>\n",
       "    <tr style=\"text-align: right;\">\n",
       "      <th></th>\n",
       "      <th>event</th>\n",
       "      <th>person</th>\n",
       "      <th>time</th>\n",
       "      <th>amount</th>\n",
       "      <th>offer_id</th>\n",
       "      <th>reward</th>\n",
       "      <th>age</th>\n",
       "      <th>became_member_on</th>\n",
       "      <th>gender</th>\n",
       "      <th>income</th>\n",
       "      <th>missing_demographics</th>\n",
       "      <th>member_epoch_days</th>\n",
       "      <th>difficulty</th>\n",
       "      <th>duration</th>\n",
       "      <th>offer_type</th>\n",
       "      <th>reward_t</th>\n",
       "      <th>channel_email</th>\n",
       "      <th>channel_web</th>\n",
       "      <th>channel_social</th>\n",
       "      <th>channel_mobile</th>\n",
       "    </tr>\n",
       "  </thead>\n",
       "  <tbody>\n",
       "    <tr>\n",
       "      <th>12654</th>\n",
       "      <td>transaction</td>\n",
       "      <td>02c083884c7d45b39cc68e1314fec56c</td>\n",
       "      <td>0</td>\n",
       "      <td>0.83</td>\n",
       "      <td>NaN</td>\n",
       "      <td>NaN</td>\n",
       "      <td>20.0</td>\n",
       "      <td>2016-07-11</td>\n",
       "      <td>F</td>\n",
       "      <td>30000.0</td>\n",
       "      <td>0</td>\n",
       "      <td>16993</td>\n",
       "      <td>NaN</td>\n",
       "      <td>NaN</td>\n",
       "      <td>NaN</td>\n",
       "      <td>NaN</td>\n",
       "      <td>NaN</td>\n",
       "      <td>NaN</td>\n",
       "      <td>NaN</td>\n",
       "      <td>NaN</td>\n",
       "    </tr>\n",
       "    <tr>\n",
       "      <th>12657</th>\n",
       "      <td>transaction</td>\n",
       "      <td>9fa9ae8f57894cc9a3b8a9bbe0fc1b2f</td>\n",
       "      <td>0</td>\n",
       "      <td>34.56</td>\n",
       "      <td>NaN</td>\n",
       "      <td>NaN</td>\n",
       "      <td>42.0</td>\n",
       "      <td>2016-01-17</td>\n",
       "      <td>M</td>\n",
       "      <td>96000.0</td>\n",
       "      <td>0</td>\n",
       "      <td>16817</td>\n",
       "      <td>NaN</td>\n",
       "      <td>NaN</td>\n",
       "      <td>NaN</td>\n",
       "      <td>NaN</td>\n",
       "      <td>NaN</td>\n",
       "      <td>NaN</td>\n",
       "      <td>NaN</td>\n",
       "      <td>NaN</td>\n",
       "    </tr>\n",
       "    <tr>\n",
       "      <th>12659</th>\n",
       "      <td>transaction</td>\n",
       "      <td>54890f68699049c2a04d415abc25e717</td>\n",
       "      <td>0</td>\n",
       "      <td>13.23</td>\n",
       "      <td>NaN</td>\n",
       "      <td>NaN</td>\n",
       "      <td>36.0</td>\n",
       "      <td>2017-12-28</td>\n",
       "      <td>M</td>\n",
       "      <td>56000.0</td>\n",
       "      <td>0</td>\n",
       "      <td>17528</td>\n",
       "      <td>NaN</td>\n",
       "      <td>NaN</td>\n",
       "      <td>NaN</td>\n",
       "      <td>NaN</td>\n",
       "      <td>NaN</td>\n",
       "      <td>NaN</td>\n",
       "      <td>NaN</td>\n",
       "      <td>NaN</td>\n",
       "    </tr>\n",
       "    <tr>\n",
       "      <th>12670</th>\n",
       "      <td>transaction</td>\n",
       "      <td>b2f1cd155b864803ad8334cdf13c4bd2</td>\n",
       "      <td>0</td>\n",
       "      <td>19.51</td>\n",
       "      <td>NaN</td>\n",
       "      <td>NaN</td>\n",
       "      <td>55.0</td>\n",
       "      <td>2017-10-16</td>\n",
       "      <td>F</td>\n",
       "      <td>94000.0</td>\n",
       "      <td>0</td>\n",
       "      <td>17455</td>\n",
       "      <td>NaN</td>\n",
       "      <td>NaN</td>\n",
       "      <td>NaN</td>\n",
       "      <td>NaN</td>\n",
       "      <td>NaN</td>\n",
       "      <td>NaN</td>\n",
       "      <td>NaN</td>\n",
       "      <td>NaN</td>\n",
       "    </tr>\n",
       "    <tr>\n",
       "      <th>12671</th>\n",
       "      <td>transaction</td>\n",
       "      <td>fe97aa22dd3e48c8b143116a8403dd52</td>\n",
       "      <td>0</td>\n",
       "      <td>18.97</td>\n",
       "      <td>NaN</td>\n",
       "      <td>NaN</td>\n",
       "      <td>39.0</td>\n",
       "      <td>2017-12-17</td>\n",
       "      <td>F</td>\n",
       "      <td>67000.0</td>\n",
       "      <td>0</td>\n",
       "      <td>17517</td>\n",
       "      <td>NaN</td>\n",
       "      <td>NaN</td>\n",
       "      <td>NaN</td>\n",
       "      <td>NaN</td>\n",
       "      <td>NaN</td>\n",
       "      <td>NaN</td>\n",
       "      <td>NaN</td>\n",
       "      <td>NaN</td>\n",
       "    </tr>\n",
       "  </tbody>\n",
       "</table>\n",
       "</div>"
      ],
      "text/plain": [
       "             event                            person  time  amount offer_id  \\\n",
       "12654  transaction  02c083884c7d45b39cc68e1314fec56c     0    0.83      NaN   \n",
       "12657  transaction  9fa9ae8f57894cc9a3b8a9bbe0fc1b2f     0   34.56      NaN   \n",
       "12659  transaction  54890f68699049c2a04d415abc25e717     0   13.23      NaN   \n",
       "12670  transaction  b2f1cd155b864803ad8334cdf13c4bd2     0   19.51      NaN   \n",
       "12671  transaction  fe97aa22dd3e48c8b143116a8403dd52     0   18.97      NaN   \n",
       "\n",
       "       reward   age became_member_on gender   income  missing_demographics  \\\n",
       "12654     NaN  20.0       2016-07-11      F  30000.0                     0   \n",
       "12657     NaN  42.0       2016-01-17      M  96000.0                     0   \n",
       "12659     NaN  36.0       2017-12-28      M  56000.0                     0   \n",
       "12670     NaN  55.0       2017-10-16      F  94000.0                     0   \n",
       "12671     NaN  39.0       2017-12-17      F  67000.0                     0   \n",
       "\n",
       "       member_epoch_days  difficulty  duration offer_type  reward_t  \\\n",
       "12654              16993         NaN       NaN        NaN       NaN   \n",
       "12657              16817         NaN       NaN        NaN       NaN   \n",
       "12659              17528         NaN       NaN        NaN       NaN   \n",
       "12670              17455         NaN       NaN        NaN       NaN   \n",
       "12671              17517         NaN       NaN        NaN       NaN   \n",
       "\n",
       "       channel_email  channel_web  channel_social  channel_mobile  \n",
       "12654            NaN          NaN             NaN             NaN  \n",
       "12657            NaN          NaN             NaN             NaN  \n",
       "12659            NaN          NaN             NaN             NaN  \n",
       "12670            NaN          NaN             NaN             NaN  \n",
       "12671            NaN          NaN             NaN             NaN  "
      ]
     },
     "execution_count": 39,
     "metadata": {},
     "output_type": "execute_result"
    }
   ],
   "source": [
    "transactions.head()"
   ]
  },
  {
   "cell_type": "code",
   "execution_count": 40,
   "metadata": {
    "collapsed": true
   },
   "outputs": [],
   "source": [
    "from tqdm import tqdm"
   ]
  },
  {
   "cell_type": "code",
   "execution_count": 41,
   "metadata": {
    "collapsed": false
   },
   "outputs": [],
   "source": [
    "# TODO: Make a function out of the code below..."
   ]
  },
  {
   "cell_type": "code",
   "execution_count": 42,
   "metadata": {
    "collapsed": true
   },
   "outputs": [],
   "source": [
    "def get_spent_days_static(static_data, preprocessed_data, days=10*24):\n",
    "    \"\"\"\n",
    "    Get a static data version of the profit N days dataset.\n",
    "    Calculates the total money spent for each customer, in the 10 days after\n",
    "    an offer is shown.\n",
    "    Args:\n",
    "        static_data(dataframe): The 'offer success' version of the static data.\n",
    "        preprocessed_data(dataframe): the result of 'basic_preprocessing'.\n",
    "        days(int): The number of days to calculate the profits.\n",
    "    \"\"\"\n",
    "    received, viewed, completed, transactions = pp.split_transcript(preprocessed_data)\n",
    "    \n",
    "    results = list()\n",
    "    for idx, row in tqdm(list(static_data.iterrows())):\n",
    "        record = dict()\n",
    "    \n",
    "        # Id of the record\n",
    "        record['person'] = row.person\n",
    "        record['time'] = row.time\n",
    "        record['offer_id'] = row.offer_id\n",
    "    \n",
    "        record['spent_10_days'] = transactions[(transactions.person == row.person) &\n",
    "                                               (transactions.time > row.time) &\n",
    "                                               (transactions.time <= row.time + days)\n",
    "                                              ].amount.sum()\n",
    "        results.append(record)\n",
    "    \n",
    "    return static_data.merge(pd.DataFrame(results), \n",
    "                             on=['person', 'time', 'offer_id'], how='left')"
   ]
  },
  {
   "cell_type": "code",
   "execution_count": 43,
   "metadata": {
    "collapsed": false
   },
   "outputs": [
    {
     "name": "stderr",
     "output_type": "stream",
     "text": [
      "100%|██████████| 76277/76277 [22:01<00:00, 57.70it/s]\n"
     ]
    }
   ],
   "source": [
    "filled = get_spent_days_static(static_data, data)"
   ]
  },
  {
   "cell_type": "code",
   "execution_count": 44,
   "metadata": {
    "collapsed": false
   },
   "outputs": [
    {
     "name": "stdout",
     "output_type": "stream",
     "text": [
      "(76277, 136)\n"
     ]
    },
    {
     "data": {
      "text/html": [
       "<div>\n",
       "<style scoped>\n",
       "    .dataframe tbody tr th:only-of-type {\n",
       "        vertical-align: middle;\n",
       "    }\n",
       "\n",
       "    .dataframe tbody tr th {\n",
       "        vertical-align: top;\n",
       "    }\n",
       "\n",
       "    .dataframe thead th {\n",
       "        text-align: right;\n",
       "    }\n",
       "</style>\n",
       "<table border=\"1\" class=\"dataframe\">\n",
       "  <thead>\n",
       "    <tr style=\"text-align: right;\">\n",
       "      <th></th>\n",
       "      <th>person</th>\n",
       "      <th>time</th>\n",
       "      <th>offer_id</th>\n",
       "      <th>age</th>\n",
       "      <th>became_member_on</th>\n",
       "      <th>gender</th>\n",
       "      <th>income</th>\n",
       "      <th>missing_demographics</th>\n",
       "      <th>member_epoch_days</th>\n",
       "      <th>difficulty</th>\n",
       "      <th>...</th>\n",
       "      <th>reward_10.0_success_ratio</th>\n",
       "      <th>reward_0.0_success_ratio</th>\n",
       "      <th>reward_5.0_success_ratio</th>\n",
       "      <th>reward_3.0_success_ratio</th>\n",
       "      <th>reward_2.0_success_ratio</th>\n",
       "      <th>channel_web_success_ratio</th>\n",
       "      <th>channel_email_success_ratio</th>\n",
       "      <th>channel_social_success_ratio</th>\n",
       "      <th>channel_mobile_success_ratio</th>\n",
       "      <th>spent_10_days</th>\n",
       "    </tr>\n",
       "  </thead>\n",
       "  <tbody>\n",
       "    <tr>\n",
       "      <th>0</th>\n",
       "      <td>0009655768c64bdeb2e877511632db8f</td>\n",
       "      <td>168</td>\n",
       "      <td>5a8bc65990b245e5a138643cd4eb9837</td>\n",
       "      <td>33.0</td>\n",
       "      <td>2017-04-21</td>\n",
       "      <td>M</td>\n",
       "      <td>72000.0</td>\n",
       "      <td>0</td>\n",
       "      <td>17277</td>\n",
       "      <td>0.0</td>\n",
       "      <td>...</td>\n",
       "      <td>0.0</td>\n",
       "      <td>0.0</td>\n",
       "      <td>0.0</td>\n",
       "      <td>0.0</td>\n",
       "      <td>0.0</td>\n",
       "      <td>0.0</td>\n",
       "      <td>0.0</td>\n",
       "      <td>0.0</td>\n",
       "      <td>0.0</td>\n",
       "      <td>22.16</td>\n",
       "    </tr>\n",
       "    <tr>\n",
       "      <th>1</th>\n",
       "      <td>0009655768c64bdeb2e877511632db8f</td>\n",
       "      <td>336</td>\n",
       "      <td>3f207df678b143eea3cee63160fa8bed</td>\n",
       "      <td>33.0</td>\n",
       "      <td>2017-04-21</td>\n",
       "      <td>M</td>\n",
       "      <td>72000.0</td>\n",
       "      <td>0</td>\n",
       "      <td>17277</td>\n",
       "      <td>0.0</td>\n",
       "      <td>...</td>\n",
       "      <td>0.0</td>\n",
       "      <td>0.0</td>\n",
       "      <td>0.0</td>\n",
       "      <td>0.0</td>\n",
       "      <td>0.0</td>\n",
       "      <td>0.0</td>\n",
       "      <td>0.0</td>\n",
       "      <td>0.0</td>\n",
       "      <td>0.0</td>\n",
       "      <td>46.51</td>\n",
       "    </tr>\n",
       "    <tr>\n",
       "      <th>2</th>\n",
       "      <td>0009655768c64bdeb2e877511632db8f</td>\n",
       "      <td>408</td>\n",
       "      <td>f19421c1d4aa40978ebb69ca19b0e20d</td>\n",
       "      <td>33.0</td>\n",
       "      <td>2017-04-21</td>\n",
       "      <td>M</td>\n",
       "      <td>72000.0</td>\n",
       "      <td>0</td>\n",
       "      <td>17277</td>\n",
       "      <td>5.0</td>\n",
       "      <td>...</td>\n",
       "      <td>0.0</td>\n",
       "      <td>0.0</td>\n",
       "      <td>0.0</td>\n",
       "      <td>0.0</td>\n",
       "      <td>0.0</td>\n",
       "      <td>0.0</td>\n",
       "      <td>0.0</td>\n",
       "      <td>0.0</td>\n",
       "      <td>0.0</td>\n",
       "      <td>46.51</td>\n",
       "    </tr>\n",
       "    <tr>\n",
       "      <th>3</th>\n",
       "      <td>0009655768c64bdeb2e877511632db8f</td>\n",
       "      <td>504</td>\n",
       "      <td>fafdcd668e3743c1bb461111dcafc2a4</td>\n",
       "      <td>33.0</td>\n",
       "      <td>2017-04-21</td>\n",
       "      <td>M</td>\n",
       "      <td>72000.0</td>\n",
       "      <td>0</td>\n",
       "      <td>17277</td>\n",
       "      <td>10.0</td>\n",
       "      <td>...</td>\n",
       "      <td>0.0</td>\n",
       "      <td>0.0</td>\n",
       "      <td>0.0</td>\n",
       "      <td>0.0</td>\n",
       "      <td>0.0</td>\n",
       "      <td>0.0</td>\n",
       "      <td>0.0</td>\n",
       "      <td>0.0</td>\n",
       "      <td>0.0</td>\n",
       "      <td>96.87</td>\n",
       "    </tr>\n",
       "    <tr>\n",
       "      <th>4</th>\n",
       "      <td>0009655768c64bdeb2e877511632db8f</td>\n",
       "      <td>576</td>\n",
       "      <td>2906b810c7d4411798c6938adc9daaa5</td>\n",
       "      <td>33.0</td>\n",
       "      <td>2017-04-21</td>\n",
       "      <td>M</td>\n",
       "      <td>72000.0</td>\n",
       "      <td>0</td>\n",
       "      <td>17277</td>\n",
       "      <td>10.0</td>\n",
       "      <td>...</td>\n",
       "      <td>0.0</td>\n",
       "      <td>0.0</td>\n",
       "      <td>0.0</td>\n",
       "      <td>0.0</td>\n",
       "      <td>0.0</td>\n",
       "      <td>0.0</td>\n",
       "      <td>0.0</td>\n",
       "      <td>0.0</td>\n",
       "      <td>0.0</td>\n",
       "      <td>58.93</td>\n",
       "    </tr>\n",
       "  </tbody>\n",
       "</table>\n",
       "<p>5 rows × 136 columns</p>\n",
       "</div>"
      ],
      "text/plain": [
       "                             person  time                          offer_id  \\\n",
       "0  0009655768c64bdeb2e877511632db8f   168  5a8bc65990b245e5a138643cd4eb9837   \n",
       "1  0009655768c64bdeb2e877511632db8f   336  3f207df678b143eea3cee63160fa8bed   \n",
       "2  0009655768c64bdeb2e877511632db8f   408  f19421c1d4aa40978ebb69ca19b0e20d   \n",
       "3  0009655768c64bdeb2e877511632db8f   504  fafdcd668e3743c1bb461111dcafc2a4   \n",
       "4  0009655768c64bdeb2e877511632db8f   576  2906b810c7d4411798c6938adc9daaa5   \n",
       "\n",
       "    age became_member_on gender   income  missing_demographics  \\\n",
       "0  33.0       2017-04-21      M  72000.0                     0   \n",
       "1  33.0       2017-04-21      M  72000.0                     0   \n",
       "2  33.0       2017-04-21      M  72000.0                     0   \n",
       "3  33.0       2017-04-21      M  72000.0                     0   \n",
       "4  33.0       2017-04-21      M  72000.0                     0   \n",
       "\n",
       "   member_epoch_days  difficulty      ...        reward_10.0_success_ratio  \\\n",
       "0              17277         0.0      ...                              0.0   \n",
       "1              17277         0.0      ...                              0.0   \n",
       "2              17277         5.0      ...                              0.0   \n",
       "3              17277        10.0      ...                              0.0   \n",
       "4              17277        10.0      ...                              0.0   \n",
       "\n",
       "  reward_0.0_success_ratio  reward_5.0_success_ratio  \\\n",
       "0                      0.0                       0.0   \n",
       "1                      0.0                       0.0   \n",
       "2                      0.0                       0.0   \n",
       "3                      0.0                       0.0   \n",
       "4                      0.0                       0.0   \n",
       "\n",
       "   reward_3.0_success_ratio  reward_2.0_success_ratio  \\\n",
       "0                       0.0                       0.0   \n",
       "1                       0.0                       0.0   \n",
       "2                       0.0                       0.0   \n",
       "3                       0.0                       0.0   \n",
       "4                       0.0                       0.0   \n",
       "\n",
       "   channel_web_success_ratio  channel_email_success_ratio  \\\n",
       "0                        0.0                          0.0   \n",
       "1                        0.0                          0.0   \n",
       "2                        0.0                          0.0   \n",
       "3                        0.0                          0.0   \n",
       "4                        0.0                          0.0   \n",
       "\n",
       "   channel_social_success_ratio  channel_mobile_success_ratio  spent_10_days  \n",
       "0                           0.0                           0.0          22.16  \n",
       "1                           0.0                           0.0          46.51  \n",
       "2                           0.0                           0.0          46.51  \n",
       "3                           0.0                           0.0          96.87  \n",
       "4                           0.0                           0.0          58.93  \n",
       "\n",
       "[5 rows x 136 columns]"
      ]
     },
     "execution_count": 44,
     "metadata": {},
     "output_type": "execute_result"
    }
   ],
   "source": [
    "print(filled.shape)\n",
    "filled.head()"
   ]
  },
  {
   "cell_type": "code",
   "execution_count": 45,
   "metadata": {
    "collapsed": false
   },
   "outputs": [
    {
     "data": {
      "text/plain": [
       "2759280.54"
      ]
     },
     "execution_count": 45,
     "metadata": {},
     "output_type": "execute_result"
    }
   ],
   "source": [
    "filled.spent_10_days.sum()"
   ]
  },
  {
   "cell_type": "code",
   "execution_count": 46,
   "metadata": {
    "collapsed": true
   },
   "outputs": [],
   "source": [
    "filled.to_pickle(os.path.join(DATA_PROCESSED, 'static_spent_10_days.pkl'))"
   ]
  },
  {
   "cell_type": "code",
   "execution_count": 47,
   "metadata": {
    "collapsed": true
   },
   "outputs": [],
   "source": [
    "filled = pd.read_pickle(os.path.join(DATA_PROCESSED, 'static_spent_10_days.pkl'))"
   ]
  },
  {
   "cell_type": "code",
   "execution_count": 48,
   "metadata": {
    "collapsed": false
   },
   "outputs": [
    {
     "data": {
      "text/plain": [
       "<matplotlib.axes._subplots.AxesSubplot at 0x7fe0a7062978>"
      ]
     },
     "execution_count": 48,
     "metadata": {},
     "output_type": "execute_result"
    },
    {
     "data": {
      "image/png": "[encoded data removed]",
      "text/plain": [
       "<Figure size 432x288 with 1 Axes>"
      ]
     },
     "metadata": {
      "needs_background": "dark"
     },
     "output_type": "display_data"
    }
   ],
   "source": [
    "filled.groupby('offer_id').spent_10_days.sum().sort_values().plot(kind='barh')"
   ]
  },
  {
   "cell_type": "code",
   "execution_count": 49,
   "metadata": {
    "collapsed": false
   },
   "outputs": [
    {
     "data": {
      "text/plain": [
       "<matplotlib.axes._subplots.AxesSubplot at 0x7fe0a7338ba8>"
      ]
     },
     "execution_count": 49,
     "metadata": {},
     "output_type": "execute_result"
    },
    {
     "data": {
      "image/png": "[encoded data removed]",
      "text/plain": [
       "<Figure size 432x288 with 1 Axes>"
      ]
     },
     "metadata": {
      "needs_background": "dark"
     },
     "output_type": "display_data"
    }
   ],
   "source": [
    "filled.groupby('offer_id').spent_10_days.mean().sort_values().plot(kind='barh')"
   ]
  },
  {
   "cell_type": "code",
   "execution_count": 50,
   "metadata": {
    "collapsed": false
   },
   "outputs": [
    {
     "data": {
      "text/html": [
       "<div>\n",
       "<style scoped>\n",
       "    .dataframe tbody tr th:only-of-type {\n",
       "        vertical-align: middle;\n",
       "    }\n",
       "\n",
       "    .dataframe tbody tr th {\n",
       "        vertical-align: top;\n",
       "    }\n",
       "\n",
       "    .dataframe thead th {\n",
       "        text-align: right;\n",
       "    }\n",
       "</style>\n",
       "<table border=\"1\" class=\"dataframe\">\n",
       "  <thead>\n",
       "    <tr style=\"text-align: right;\">\n",
       "      <th></th>\n",
       "      <th>difficulty</th>\n",
       "      <th>duration</th>\n",
       "      <th>id</th>\n",
       "      <th>offer_type</th>\n",
       "      <th>reward</th>\n",
       "      <th>channel_email</th>\n",
       "      <th>channel_web</th>\n",
       "      <th>channel_social</th>\n",
       "      <th>channel_mobile</th>\n",
       "    </tr>\n",
       "  </thead>\n",
       "  <tbody>\n",
       "    <tr>\n",
       "      <th>0</th>\n",
       "      <td>10</td>\n",
       "      <td>7</td>\n",
       "      <td>ae264e3637204a6fb9bb56bc8210ddfd</td>\n",
       "      <td>bogo</td>\n",
       "      <td>10</td>\n",
       "      <td>1</td>\n",
       "      <td>0</td>\n",
       "      <td>1</td>\n",
       "      <td>1</td>\n",
       "    </tr>\n",
       "    <tr>\n",
       "      <th>1</th>\n",
       "      <td>10</td>\n",
       "      <td>5</td>\n",
       "      <td>4d5c57ea9a6940dd891ad53e9dbe8da0</td>\n",
       "      <td>bogo</td>\n",
       "      <td>10</td>\n",
       "      <td>1</td>\n",
       "      <td>1</td>\n",
       "      <td>1</td>\n",
       "      <td>1</td>\n",
       "    </tr>\n",
       "    <tr>\n",
       "      <th>2</th>\n",
       "      <td>0</td>\n",
       "      <td>4</td>\n",
       "      <td>3f207df678b143eea3cee63160fa8bed</td>\n",
       "      <td>informational</td>\n",
       "      <td>0</td>\n",
       "      <td>1</td>\n",
       "      <td>1</td>\n",
       "      <td>0</td>\n",
       "      <td>1</td>\n",
       "    </tr>\n",
       "    <tr>\n",
       "      <th>3</th>\n",
       "      <td>5</td>\n",
       "      <td>7</td>\n",
       "      <td>9b98b8c7a33c4b65b9aebfe6a799e6d9</td>\n",
       "      <td>bogo</td>\n",
       "      <td>5</td>\n",
       "      <td>1</td>\n",
       "      <td>1</td>\n",
       "      <td>0</td>\n",
       "      <td>1</td>\n",
       "    </tr>\n",
       "    <tr>\n",
       "      <th>4</th>\n",
       "      <td>20</td>\n",
       "      <td>10</td>\n",
       "      <td>0b1e1539f2cc45b7b9fa7c272da2e1d7</td>\n",
       "      <td>discount</td>\n",
       "      <td>5</td>\n",
       "      <td>1</td>\n",
       "      <td>1</td>\n",
       "      <td>0</td>\n",
       "      <td>0</td>\n",
       "    </tr>\n",
       "    <tr>\n",
       "      <th>5</th>\n",
       "      <td>7</td>\n",
       "      <td>7</td>\n",
       "      <td>2298d6c36e964ae4a3e7e9706d1fb8c2</td>\n",
       "      <td>discount</td>\n",
       "      <td>3</td>\n",
       "      <td>1</td>\n",
       "      <td>1</td>\n",
       "      <td>1</td>\n",
       "      <td>1</td>\n",
       "    </tr>\n",
       "    <tr>\n",
       "      <th>6</th>\n",
       "      <td>10</td>\n",
       "      <td>10</td>\n",
       "      <td>fafdcd668e3743c1bb461111dcafc2a4</td>\n",
       "      <td>discount</td>\n",
       "      <td>2</td>\n",
       "      <td>1</td>\n",
       "      <td>1</td>\n",
       "      <td>1</td>\n",
       "      <td>1</td>\n",
       "    </tr>\n",
       "    <tr>\n",
       "      <th>7</th>\n",
       "      <td>0</td>\n",
       "      <td>3</td>\n",
       "      <td>5a8bc65990b245e5a138643cd4eb9837</td>\n",
       "      <td>informational</td>\n",
       "      <td>0</td>\n",
       "      <td>1</td>\n",
       "      <td>0</td>\n",
       "      <td>1</td>\n",
       "      <td>1</td>\n",
       "    </tr>\n",
       "    <tr>\n",
       "      <th>8</th>\n",
       "      <td>5</td>\n",
       "      <td>5</td>\n",
       "      <td>f19421c1d4aa40978ebb69ca19b0e20d</td>\n",
       "      <td>bogo</td>\n",
       "      <td>5</td>\n",
       "      <td>1</td>\n",
       "      <td>1</td>\n",
       "      <td>1</td>\n",
       "      <td>1</td>\n",
       "    </tr>\n",
       "    <tr>\n",
       "      <th>9</th>\n",
       "      <td>10</td>\n",
       "      <td>7</td>\n",
       "      <td>2906b810c7d4411798c6938adc9daaa5</td>\n",
       "      <td>discount</td>\n",
       "      <td>2</td>\n",
       "      <td>1</td>\n",
       "      <td>1</td>\n",
       "      <td>0</td>\n",
       "      <td>1</td>\n",
       "    </tr>\n",
       "  </tbody>\n",
       "</table>\n",
       "</div>"
      ],
      "text/plain": [
       "   difficulty  duration                                id     offer_type  \\\n",
       "0          10         7  ae264e3637204a6fb9bb56bc8210ddfd           bogo   \n",
       "1          10         5  4d5c57ea9a6940dd891ad53e9dbe8da0           bogo   \n",
       "2           0         4  3f207df678b143eea3cee63160fa8bed  informational   \n",
       "3           5         7  9b98b8c7a33c4b65b9aebfe6a799e6d9           bogo   \n",
       "4          20        10  0b1e1539f2cc45b7b9fa7c272da2e1d7       discount   \n",
       "5           7         7  2298d6c36e964ae4a3e7e9706d1fb8c2       discount   \n",
       "6          10        10  fafdcd668e3743c1bb461111dcafc2a4       discount   \n",
       "7           0         3  5a8bc65990b245e5a138643cd4eb9837  informational   \n",
       "8           5         5  f19421c1d4aa40978ebb69ca19b0e20d           bogo   \n",
       "9          10         7  2906b810c7d4411798c6938adc9daaa5       discount   \n",
       "\n",
       "   reward  channel_email  channel_web  channel_social  channel_mobile  \n",
       "0      10              1            0               1               1  \n",
       "1      10              1            1               1               1  \n",
       "2       0              1            1               0               1  \n",
       "3       5              1            1               0               1  \n",
       "4       5              1            1               0               0  \n",
       "5       3              1            1               1               1  \n",
       "6       2              1            1               1               1  \n",
       "7       0              1            0               1               1  \n",
       "8       5              1            1               1               1  \n",
       "9       2              1            1               0               1  "
      ]
     },
     "execution_count": 50,
     "metadata": {},
     "output_type": "execute_result"
    }
   ],
   "source": [
    "portfolio"
   ]
  },
  {
   "cell_type": "code",
   "execution_count": 51,
   "metadata": {
    "collapsed": false
   },
   "outputs": [
    {
     "data": {
      "text/plain": [
       "<matplotlib.axes._subplots.AxesSubplot at 0x7fe0a1aaeb00>"
      ]
     },
     "execution_count": 51,
     "metadata": {},
     "output_type": "execute_result"
    },
    {
     "data": {
      "image/png": "[encoded data removed]",
      "text/plain": [
       "<Figure size 432x288 with 1 Axes>"
      ]
     },
     "metadata": {
      "needs_background": "dark"
     },
     "output_type": "display_data"
    }
   ],
   "source": [
    "filled.groupby('offer_type').spent_10_days.sum().sort_values().plot(kind='barh')"
   ]
  },
  {
   "cell_type": "code",
   "execution_count": 52,
   "metadata": {
    "collapsed": false
   },
   "outputs": [
    {
     "data": {
      "text/plain": [
       "<matplotlib.axes._subplots.AxesSubplot at 0x7fe0a1aaed68>"
      ]
     },
     "execution_count": 52,
     "metadata": {},
     "output_type": "execute_result"
    },
    {
     "data": {
      "image/png": "[encoded data removed]",
      "text/plain": [
       "<Figure size 432x288 with 1 Axes>"
      ]
     },
     "metadata": {
      "needs_background": "dark"
     },
     "output_type": "display_data"
    }
   ],
   "source": [
    "filled.groupby('offer_type').spent_10_days.mean().sort_values().plot(kind='barh')"
   ]
  },
  {
   "cell_type": "markdown",
   "metadata": {},
   "source": [
    "## 2) Let's consider the non-viewed for the \"null\" offer."
   ]
  },
  {
   "cell_type": "code",
   "execution_count": 53,
   "metadata": {
    "collapsed": false
   },
   "outputs": [
    {
     "name": "stdout",
     "output_type": "stream",
     "text": [
      "CPU times: user 3.22 s, sys: 20 ms, total: 3.24 s\n",
      "Wall time: 2.2 s\n"
     ]
    }
   ],
   "source": [
    "# Get the data\n",
    "static_data = pd.read_pickle(STATIC_DATASET_PATH)\n",
    "portfolio = pd.read_json(os.path.join(DATA_RAW, 'portfolio.json'), orient='records', lines=True)\n",
    "profile = pd.read_json(os.path.join(DATA_RAW, 'profile.json'), orient='records', lines=True)\n",
    "transcript = pd.read_json(os.path.join(DATA_RAW, 'transcript.json'), orient='records', lines=True)\n",
    "\n",
    "%time data, portfolio = pp.basic_preprocessing(portfolio, profile, transcript)\n",
    "received, viewed, completed, transactions = pp.split_transcript(data)"
   ]
  },
  {
   "cell_type": "code",
   "execution_count": 54,
   "metadata": {
    "collapsed": true
   },
   "outputs": [],
   "source": [
    "filled = pd.read_pickle(os.path.join(DATA_PROCESSED, 'static_spent_10_days.pkl'))"
   ]
  },
  {
   "cell_type": "code",
   "execution_count": 55,
   "metadata": {
    "collapsed": false
   },
   "outputs": [],
   "source": [
    "filled['offer_choice'] = filled['offer_id']\n",
    "filled.loc[filled['viewed'] == 0, 'offer_choice'] = 'no_offer'"
   ]
  },
  {
   "cell_type": "code",
   "execution_count": 56,
   "metadata": {
    "collapsed": false
   },
   "outputs": [
    {
     "data": {
      "text/plain": [
       "no_offer                            19050\n",
       "fafdcd668e3743c1bb461111dcafc2a4     6932\n",
       "4d5c57ea9a6940dd891ad53e9dbe8da0     6861\n",
       "2298d6c36e964ae4a3e7e9706d1fb8c2     6853\n",
       "f19421c1d4aa40978ebb69ca19b0e20d     6698\n",
       "ae264e3637204a6fb9bb56bc8210ddfd     6318\n",
       "5a8bc65990b245e5a138643cd4eb9837     6208\n",
       "0b1e1539f2cc45b7b9fa7c272da2e1d7     4500\n",
       "2906b810c7d4411798c6938adc9daaa5     4363\n",
       "3f207df678b143eea3cee63160fa8bed     4263\n",
       "9b98b8c7a33c4b65b9aebfe6a799e6d9     4231\n",
       "Name: offer_choice, dtype: int64"
      ]
     },
     "execution_count": 56,
     "metadata": {},
     "output_type": "execute_result"
    }
   ],
   "source": [
    "filled.offer_choice.value_counts()"
   ]
  },
  {
   "cell_type": "code",
   "execution_count": 57,
   "metadata": {
    "collapsed": false
   },
   "outputs": [
    {
     "data": {
      "text/html": [
       "<div>\n",
       "<style scoped>\n",
       "    .dataframe tbody tr th:only-of-type {\n",
       "        vertical-align: middle;\n",
       "    }\n",
       "\n",
       "    .dataframe tbody tr th {\n",
       "        vertical-align: top;\n",
       "    }\n",
       "\n",
       "    .dataframe thead th {\n",
       "        text-align: right;\n",
       "    }\n",
       "</style>\n",
       "<table border=\"1\" class=\"dataframe\">\n",
       "  <thead>\n",
       "    <tr style=\"text-align: right;\">\n",
       "      <th></th>\n",
       "      <th>person</th>\n",
       "      <th>time</th>\n",
       "      <th>offer_id</th>\n",
       "      <th>age</th>\n",
       "      <th>became_member_on</th>\n",
       "      <th>gender</th>\n",
       "      <th>income</th>\n",
       "      <th>missing_demographics</th>\n",
       "      <th>member_epoch_days</th>\n",
       "      <th>difficulty</th>\n",
       "      <th>...</th>\n",
       "      <th>reward_0.0_success_ratio</th>\n",
       "      <th>reward_5.0_success_ratio</th>\n",
       "      <th>reward_3.0_success_ratio</th>\n",
       "      <th>reward_2.0_success_ratio</th>\n",
       "      <th>channel_web_success_ratio</th>\n",
       "      <th>channel_email_success_ratio</th>\n",
       "      <th>channel_social_success_ratio</th>\n",
       "      <th>channel_mobile_success_ratio</th>\n",
       "      <th>spent_10_days</th>\n",
       "      <th>offer_choice</th>\n",
       "    </tr>\n",
       "  </thead>\n",
       "  <tbody>\n",
       "    <tr>\n",
       "      <th>0</th>\n",
       "      <td>0009655768c64bdeb2e877511632db8f</td>\n",
       "      <td>168</td>\n",
       "      <td>5a8bc65990b245e5a138643cd4eb9837</td>\n",
       "      <td>33.0</td>\n",
       "      <td>2017-04-21</td>\n",
       "      <td>M</td>\n",
       "      <td>72000.0</td>\n",
       "      <td>0</td>\n",
       "      <td>17277</td>\n",
       "      <td>0.0</td>\n",
       "      <td>...</td>\n",
       "      <td>0.0</td>\n",
       "      <td>0.0</td>\n",
       "      <td>0.0</td>\n",
       "      <td>0.0</td>\n",
       "      <td>0.0</td>\n",
       "      <td>0.0</td>\n",
       "      <td>0.0</td>\n",
       "      <td>0.0</td>\n",
       "      <td>22.16</td>\n",
       "      <td>5a8bc65990b245e5a138643cd4eb9837</td>\n",
       "    </tr>\n",
       "    <tr>\n",
       "      <th>1</th>\n",
       "      <td>0009655768c64bdeb2e877511632db8f</td>\n",
       "      <td>336</td>\n",
       "      <td>3f207df678b143eea3cee63160fa8bed</td>\n",
       "      <td>33.0</td>\n",
       "      <td>2017-04-21</td>\n",
       "      <td>M</td>\n",
       "      <td>72000.0</td>\n",
       "      <td>0</td>\n",
       "      <td>17277</td>\n",
       "      <td>0.0</td>\n",
       "      <td>...</td>\n",
       "      <td>0.0</td>\n",
       "      <td>0.0</td>\n",
       "      <td>0.0</td>\n",
       "      <td>0.0</td>\n",
       "      <td>0.0</td>\n",
       "      <td>0.0</td>\n",
       "      <td>0.0</td>\n",
       "      <td>0.0</td>\n",
       "      <td>46.51</td>\n",
       "      <td>3f207df678b143eea3cee63160fa8bed</td>\n",
       "    </tr>\n",
       "    <tr>\n",
       "      <th>2</th>\n",
       "      <td>0009655768c64bdeb2e877511632db8f</td>\n",
       "      <td>408</td>\n",
       "      <td>f19421c1d4aa40978ebb69ca19b0e20d</td>\n",
       "      <td>33.0</td>\n",
       "      <td>2017-04-21</td>\n",
       "      <td>M</td>\n",
       "      <td>72000.0</td>\n",
       "      <td>0</td>\n",
       "      <td>17277</td>\n",
       "      <td>5.0</td>\n",
       "      <td>...</td>\n",
       "      <td>0.0</td>\n",
       "      <td>0.0</td>\n",
       "      <td>0.0</td>\n",
       "      <td>0.0</td>\n",
       "      <td>0.0</td>\n",
       "      <td>0.0</td>\n",
       "      <td>0.0</td>\n",
       "      <td>0.0</td>\n",
       "      <td>46.51</td>\n",
       "      <td>no_offer</td>\n",
       "    </tr>\n",
       "    <tr>\n",
       "      <th>3</th>\n",
       "      <td>0009655768c64bdeb2e877511632db8f</td>\n",
       "      <td>504</td>\n",
       "      <td>fafdcd668e3743c1bb461111dcafc2a4</td>\n",
       "      <td>33.0</td>\n",
       "      <td>2017-04-21</td>\n",
       "      <td>M</td>\n",
       "      <td>72000.0</td>\n",
       "      <td>0</td>\n",
       "      <td>17277</td>\n",
       "      <td>10.0</td>\n",
       "      <td>...</td>\n",
       "      <td>0.0</td>\n",
       "      <td>0.0</td>\n",
       "      <td>0.0</td>\n",
       "      <td>0.0</td>\n",
       "      <td>0.0</td>\n",
       "      <td>0.0</td>\n",
       "      <td>0.0</td>\n",
       "      <td>0.0</td>\n",
       "      <td>96.87</td>\n",
       "      <td>no_offer</td>\n",
       "    </tr>\n",
       "    <tr>\n",
       "      <th>4</th>\n",
       "      <td>0009655768c64bdeb2e877511632db8f</td>\n",
       "      <td>576</td>\n",
       "      <td>2906b810c7d4411798c6938adc9daaa5</td>\n",
       "      <td>33.0</td>\n",
       "      <td>2017-04-21</td>\n",
       "      <td>M</td>\n",
       "      <td>72000.0</td>\n",
       "      <td>0</td>\n",
       "      <td>17277</td>\n",
       "      <td>10.0</td>\n",
       "      <td>...</td>\n",
       "      <td>0.0</td>\n",
       "      <td>0.0</td>\n",
       "      <td>0.0</td>\n",
       "      <td>0.0</td>\n",
       "      <td>0.0</td>\n",
       "      <td>0.0</td>\n",
       "      <td>0.0</td>\n",
       "      <td>0.0</td>\n",
       "      <td>58.93</td>\n",
       "      <td>no_offer</td>\n",
       "    </tr>\n",
       "  </tbody>\n",
       "</table>\n",
       "<p>5 rows × 137 columns</p>\n",
       "</div>"
      ],
      "text/plain": [
       "                             person  time                          offer_id  \\\n",
       "0  0009655768c64bdeb2e877511632db8f   168  5a8bc65990b245e5a138643cd4eb9837   \n",
       "1  0009655768c64bdeb2e877511632db8f   336  3f207df678b143eea3cee63160fa8bed   \n",
       "2  0009655768c64bdeb2e877511632db8f   408  f19421c1d4aa40978ebb69ca19b0e20d   \n",
       "3  0009655768c64bdeb2e877511632db8f   504  fafdcd668e3743c1bb461111dcafc2a4   \n",
       "4  0009655768c64bdeb2e877511632db8f   576  2906b810c7d4411798c6938adc9daaa5   \n",
       "\n",
       "    age became_member_on gender   income  missing_demographics  \\\n",
       "0  33.0       2017-04-21      M  72000.0                     0   \n",
       "1  33.0       2017-04-21      M  72000.0                     0   \n",
       "2  33.0       2017-04-21      M  72000.0                     0   \n",
       "3  33.0       2017-04-21      M  72000.0                     0   \n",
       "4  33.0       2017-04-21      M  72000.0                     0   \n",
       "\n",
       "   member_epoch_days  difficulty                ...                 \\\n",
       "0              17277         0.0                ...                  \n",
       "1              17277         0.0                ...                  \n",
       "2              17277         5.0                ...                  \n",
       "3              17277        10.0                ...                  \n",
       "4              17277        10.0                ...                  \n",
       "\n",
       "   reward_0.0_success_ratio reward_5.0_success_ratio  \\\n",
       "0                       0.0                      0.0   \n",
       "1                       0.0                      0.0   \n",
       "2                       0.0                      0.0   \n",
       "3                       0.0                      0.0   \n",
       "4                       0.0                      0.0   \n",
       "\n",
       "   reward_3.0_success_ratio  reward_2.0_success_ratio  \\\n",
       "0                       0.0                       0.0   \n",
       "1                       0.0                       0.0   \n",
       "2                       0.0                       0.0   \n",
       "3                       0.0                       0.0   \n",
       "4                       0.0                       0.0   \n",
       "\n",
       "   channel_web_success_ratio  channel_email_success_ratio  \\\n",
       "0                        0.0                          0.0   \n",
       "1                        0.0                          0.0   \n",
       "2                        0.0                          0.0   \n",
       "3                        0.0                          0.0   \n",
       "4                        0.0                          0.0   \n",
       "\n",
       "   channel_social_success_ratio  channel_mobile_success_ratio  spent_10_days  \\\n",
       "0                           0.0                           0.0          22.16   \n",
       "1                           0.0                           0.0          46.51   \n",
       "2                           0.0                           0.0          46.51   \n",
       "3                           0.0                           0.0          96.87   \n",
       "4                           0.0                           0.0          58.93   \n",
       "\n",
       "                       offer_choice  \n",
       "0  5a8bc65990b245e5a138643cd4eb9837  \n",
       "1  3f207df678b143eea3cee63160fa8bed  \n",
       "2                          no_offer  \n",
       "3                          no_offer  \n",
       "4                          no_offer  \n",
       "\n",
       "[5 rows x 137 columns]"
      ]
     },
     "execution_count": 57,
     "metadata": {},
     "output_type": "execute_result"
    }
   ],
   "source": [
    "filled.head()"
   ]
  },
  {
   "cell_type": "code",
   "execution_count": 58,
   "metadata": {
    "collapsed": false
   },
   "outputs": [
    {
     "name": "stdout",
     "output_type": "stream",
     "text": [
      "(76277, 137)\n",
      "Index(['person', 'time', 'offer_id', 'age', 'became_member_on', 'gender',\n",
      "       'income', 'missing_demographics', 'member_epoch_days', 'difficulty',\n",
      "       ...\n",
      "       'reward_0.0_success_ratio', 'reward_5.0_success_ratio',\n",
      "       'reward_3.0_success_ratio', 'reward_2.0_success_ratio',\n",
      "       'channel_web_success_ratio', 'channel_email_success_ratio',\n",
      "       'channel_social_success_ratio', 'channel_mobile_success_ratio',\n",
      "       'spent_10_days', 'offer_choice'],\n",
      "      dtype='object', length=137)\n"
     ]
    }
   ],
   "source": [
    "print(filled.shape)\n",
    "print(filled.columns)"
   ]
  },
  {
   "cell_type": "code",
   "execution_count": 59,
   "metadata": {
    "collapsed": false
   },
   "outputs": [],
   "source": [
    "data = filled\n",
    "time_limit = 450\n",
    "drop_time = True\n",
    "anon_person = True\n",
    "anon_offer = True\n",
    "data = data.drop('became_member_on', axis=1)\n",
    "if anon_person:\n",
    "        data = data.drop('person', axis=1)\n",
    "if anon_offer:\n",
    "        data = data.drop('offer_id', axis=1)\n",
    "X = data.drop(pp.FUTURE_INFO, axis=1)\n",
    "y = data['success']\n",
    "X_train, X_test, y_train, y_test = sd.time_split(X, y, time_limit,\n",
    "                                              drop_time=drop_time)"
   ]
  },
  {
   "cell_type": "code",
   "execution_count": 60,
   "metadata": {
    "collapsed": false
   },
   "outputs": [
    {
     "data": {
      "text/html": [
       "<div>\n",
       "<style scoped>\n",
       "    .dataframe tbody tr th:only-of-type {\n",
       "        vertical-align: middle;\n",
       "    }\n",
       "\n",
       "    .dataframe tbody tr th {\n",
       "        vertical-align: top;\n",
       "    }\n",
       "\n",
       "    .dataframe thead th {\n",
       "        text-align: right;\n",
       "    }\n",
       "</style>\n",
       "<table border=\"1\" class=\"dataframe\">\n",
       "  <thead>\n",
       "    <tr style=\"text-align: right;\">\n",
       "      <th></th>\n",
       "      <th>age</th>\n",
       "      <th>gender</th>\n",
       "      <th>income</th>\n",
       "      <th>missing_demographics</th>\n",
       "      <th>member_epoch_days</th>\n",
       "      <th>difficulty</th>\n",
       "      <th>duration</th>\n",
       "      <th>offer_type</th>\n",
       "      <th>reward_t</th>\n",
       "      <th>channel_social</th>\n",
       "      <th>...</th>\n",
       "      <th>reward_0.0_success_ratio</th>\n",
       "      <th>reward_5.0_success_ratio</th>\n",
       "      <th>reward_3.0_success_ratio</th>\n",
       "      <th>reward_2.0_success_ratio</th>\n",
       "      <th>channel_web_success_ratio</th>\n",
       "      <th>channel_email_success_ratio</th>\n",
       "      <th>channel_social_success_ratio</th>\n",
       "      <th>channel_mobile_success_ratio</th>\n",
       "      <th>spent_10_days</th>\n",
       "      <th>offer_choice</th>\n",
       "    </tr>\n",
       "  </thead>\n",
       "  <tbody>\n",
       "    <tr>\n",
       "      <th>0</th>\n",
       "      <td>33.0</td>\n",
       "      <td>M</td>\n",
       "      <td>72000.0</td>\n",
       "      <td>0</td>\n",
       "      <td>17277</td>\n",
       "      <td>0.0</td>\n",
       "      <td>3.0</td>\n",
       "      <td>informational</td>\n",
       "      <td>0.0</td>\n",
       "      <td>1.0</td>\n",
       "      <td>...</td>\n",
       "      <td>0.0</td>\n",
       "      <td>0.0</td>\n",
       "      <td>0.0</td>\n",
       "      <td>0.0</td>\n",
       "      <td>0.0</td>\n",
       "      <td>0.0</td>\n",
       "      <td>0.0</td>\n",
       "      <td>0.0</td>\n",
       "      <td>22.16</td>\n",
       "      <td>5a8bc65990b245e5a138643cd4eb9837</td>\n",
       "    </tr>\n",
       "    <tr>\n",
       "      <th>1</th>\n",
       "      <td>33.0</td>\n",
       "      <td>M</td>\n",
       "      <td>72000.0</td>\n",
       "      <td>0</td>\n",
       "      <td>17277</td>\n",
       "      <td>0.0</td>\n",
       "      <td>4.0</td>\n",
       "      <td>informational</td>\n",
       "      <td>0.0</td>\n",
       "      <td>0.0</td>\n",
       "      <td>...</td>\n",
       "      <td>0.0</td>\n",
       "      <td>0.0</td>\n",
       "      <td>0.0</td>\n",
       "      <td>0.0</td>\n",
       "      <td>0.0</td>\n",
       "      <td>0.0</td>\n",
       "      <td>0.0</td>\n",
       "      <td>0.0</td>\n",
       "      <td>46.51</td>\n",
       "      <td>3f207df678b143eea3cee63160fa8bed</td>\n",
       "    </tr>\n",
       "    <tr>\n",
       "      <th>2</th>\n",
       "      <td>33.0</td>\n",
       "      <td>M</td>\n",
       "      <td>72000.0</td>\n",
       "      <td>0</td>\n",
       "      <td>17277</td>\n",
       "      <td>5.0</td>\n",
       "      <td>5.0</td>\n",
       "      <td>bogo</td>\n",
       "      <td>5.0</td>\n",
       "      <td>1.0</td>\n",
       "      <td>...</td>\n",
       "      <td>0.0</td>\n",
       "      <td>0.0</td>\n",
       "      <td>0.0</td>\n",
       "      <td>0.0</td>\n",
       "      <td>0.0</td>\n",
       "      <td>0.0</td>\n",
       "      <td>0.0</td>\n",
       "      <td>0.0</td>\n",
       "      <td>46.51</td>\n",
       "      <td>no_offer</td>\n",
       "    </tr>\n",
       "    <tr>\n",
       "      <th>5</th>\n",
       "      <td>NaN</td>\n",
       "      <td>None</td>\n",
       "      <td>NaN</td>\n",
       "      <td>1</td>\n",
       "      <td>17646</td>\n",
       "      <td>5.0</td>\n",
       "      <td>5.0</td>\n",
       "      <td>bogo</td>\n",
       "      <td>5.0</td>\n",
       "      <td>1.0</td>\n",
       "      <td>...</td>\n",
       "      <td>0.0</td>\n",
       "      <td>0.0</td>\n",
       "      <td>0.0</td>\n",
       "      <td>0.0</td>\n",
       "      <td>0.0</td>\n",
       "      <td>0.0</td>\n",
       "      <td>0.0</td>\n",
       "      <td>0.0</td>\n",
       "      <td>0.70</td>\n",
       "      <td>f19421c1d4aa40978ebb69ca19b0e20d</td>\n",
       "    </tr>\n",
       "    <tr>\n",
       "      <th>7</th>\n",
       "      <td>40.0</td>\n",
       "      <td>O</td>\n",
       "      <td>57000.0</td>\n",
       "      <td>0</td>\n",
       "      <td>17540</td>\n",
       "      <td>0.0</td>\n",
       "      <td>4.0</td>\n",
       "      <td>informational</td>\n",
       "      <td>0.0</td>\n",
       "      <td>0.0</td>\n",
       "      <td>...</td>\n",
       "      <td>0.0</td>\n",
       "      <td>0.0</td>\n",
       "      <td>0.0</td>\n",
       "      <td>0.0</td>\n",
       "      <td>0.0</td>\n",
       "      <td>0.0</td>\n",
       "      <td>0.0</td>\n",
       "      <td>0.0</td>\n",
       "      <td>13.49</td>\n",
       "      <td>3f207df678b143eea3cee63160fa8bed</td>\n",
       "    </tr>\n",
       "  </tbody>\n",
       "</table>\n",
       "<p>5 rows × 122 columns</p>\n",
       "</div>"
      ],
      "text/plain": [
       "    age gender   income  missing_demographics  member_epoch_days  difficulty  \\\n",
       "0  33.0      M  72000.0                     0              17277         0.0   \n",
       "1  33.0      M  72000.0                     0              17277         0.0   \n",
       "2  33.0      M  72000.0                     0              17277         5.0   \n",
       "5   NaN   None      NaN                     1              17646         5.0   \n",
       "7  40.0      O  57000.0                     0              17540         0.0   \n",
       "\n",
       "   duration     offer_type  reward_t  channel_social  \\\n",
       "0       3.0  informational       0.0             1.0   \n",
       "1       4.0  informational       0.0             0.0   \n",
       "2       5.0           bogo       5.0             1.0   \n",
       "5       5.0           bogo       5.0             1.0   \n",
       "7       4.0  informational       0.0             0.0   \n",
       "\n",
       "                 ...                 reward_0.0_success_ratio  \\\n",
       "0                ...                                      0.0   \n",
       "1                ...                                      0.0   \n",
       "2                ...                                      0.0   \n",
       "5                ...                                      0.0   \n",
       "7                ...                                      0.0   \n",
       "\n",
       "   reward_5.0_success_ratio  reward_3.0_success_ratio  \\\n",
       "0                       0.0                       0.0   \n",
       "1                       0.0                       0.0   \n",
       "2                       0.0                       0.0   \n",
       "5                       0.0                       0.0   \n",
       "7                       0.0                       0.0   \n",
       "\n",
       "   reward_2.0_success_ratio  channel_web_success_ratio  \\\n",
       "0                       0.0                        0.0   \n",
       "1                       0.0                        0.0   \n",
       "2                       0.0                        0.0   \n",
       "5                       0.0                        0.0   \n",
       "7                       0.0                        0.0   \n",
       "\n",
       "   channel_email_success_ratio  channel_social_success_ratio  \\\n",
       "0                          0.0                           0.0   \n",
       "1                          0.0                           0.0   \n",
       "2                          0.0                           0.0   \n",
       "5                          0.0                           0.0   \n",
       "7                          0.0                           0.0   \n",
       "\n",
       "   channel_mobile_success_ratio  spent_10_days  \\\n",
       "0                           0.0          22.16   \n",
       "1                           0.0          46.51   \n",
       "2                           0.0          46.51   \n",
       "5                           0.0           0.70   \n",
       "7                           0.0          13.49   \n",
       "\n",
       "                       offer_choice  \n",
       "0  5a8bc65990b245e5a138643cd4eb9837  \n",
       "1  3f207df678b143eea3cee63160fa8bed  \n",
       "2                          no_offer  \n",
       "5  f19421c1d4aa40978ebb69ca19b0e20d  \n",
       "7  3f207df678b143eea3cee63160fa8bed  \n",
       "\n",
       "[5 rows x 122 columns]"
      ]
     },
     "execution_count": 60,
     "metadata": {},
     "output_type": "execute_result"
    }
   ],
   "source": [
    "X_train.head()"
   ]
  },
  {
   "cell_type": "code",
   "execution_count": 61,
   "metadata": {
    "collapsed": false
   },
   "outputs": [
    {
     "data": {
      "text/html": [
       "<div>\n",
       "<style scoped>\n",
       "    .dataframe tbody tr th:only-of-type {\n",
       "        vertical-align: middle;\n",
       "    }\n",
       "\n",
       "    .dataframe tbody tr th {\n",
       "        vertical-align: top;\n",
       "    }\n",
       "\n",
       "    .dataframe thead th {\n",
       "        text-align: right;\n",
       "    }\n",
       "</style>\n",
       "<table border=\"1\" class=\"dataframe\">\n",
       "  <thead>\n",
       "    <tr style=\"text-align: right;\">\n",
       "      <th></th>\n",
       "      <th>difficulty</th>\n",
       "      <th>duration</th>\n",
       "      <th>id</th>\n",
       "      <th>offer_type</th>\n",
       "      <th>reward</th>\n",
       "      <th>channel_email</th>\n",
       "      <th>channel_web</th>\n",
       "      <th>channel_social</th>\n",
       "      <th>channel_mobile</th>\n",
       "    </tr>\n",
       "  </thead>\n",
       "  <tbody>\n",
       "    <tr>\n",
       "      <th>0</th>\n",
       "      <td>10</td>\n",
       "      <td>7</td>\n",
       "      <td>ae264e3637204a6fb9bb56bc8210ddfd</td>\n",
       "      <td>bogo</td>\n",
       "      <td>10</td>\n",
       "      <td>1</td>\n",
       "      <td>0</td>\n",
       "      <td>1</td>\n",
       "      <td>1</td>\n",
       "    </tr>\n",
       "    <tr>\n",
       "      <th>1</th>\n",
       "      <td>10</td>\n",
       "      <td>5</td>\n",
       "      <td>4d5c57ea9a6940dd891ad53e9dbe8da0</td>\n",
       "      <td>bogo</td>\n",
       "      <td>10</td>\n",
       "      <td>1</td>\n",
       "      <td>1</td>\n",
       "      <td>1</td>\n",
       "      <td>1</td>\n",
       "    </tr>\n",
       "    <tr>\n",
       "      <th>2</th>\n",
       "      <td>0</td>\n",
       "      <td>4</td>\n",
       "      <td>3f207df678b143eea3cee63160fa8bed</td>\n",
       "      <td>informational</td>\n",
       "      <td>0</td>\n",
       "      <td>1</td>\n",
       "      <td>1</td>\n",
       "      <td>0</td>\n",
       "      <td>1</td>\n",
       "    </tr>\n",
       "    <tr>\n",
       "      <th>3</th>\n",
       "      <td>5</td>\n",
       "      <td>7</td>\n",
       "      <td>9b98b8c7a33c4b65b9aebfe6a799e6d9</td>\n",
       "      <td>bogo</td>\n",
       "      <td>5</td>\n",
       "      <td>1</td>\n",
       "      <td>1</td>\n",
       "      <td>0</td>\n",
       "      <td>1</td>\n",
       "    </tr>\n",
       "    <tr>\n",
       "      <th>4</th>\n",
       "      <td>20</td>\n",
       "      <td>10</td>\n",
       "      <td>0b1e1539f2cc45b7b9fa7c272da2e1d7</td>\n",
       "      <td>discount</td>\n",
       "      <td>5</td>\n",
       "      <td>1</td>\n",
       "      <td>1</td>\n",
       "      <td>0</td>\n",
       "      <td>0</td>\n",
       "    </tr>\n",
       "    <tr>\n",
       "      <th>5</th>\n",
       "      <td>7</td>\n",
       "      <td>7</td>\n",
       "      <td>2298d6c36e964ae4a3e7e9706d1fb8c2</td>\n",
       "      <td>discount</td>\n",
       "      <td>3</td>\n",
       "      <td>1</td>\n",
       "      <td>1</td>\n",
       "      <td>1</td>\n",
       "      <td>1</td>\n",
       "    </tr>\n",
       "    <tr>\n",
       "      <th>6</th>\n",
       "      <td>10</td>\n",
       "      <td>10</td>\n",
       "      <td>fafdcd668e3743c1bb461111dcafc2a4</td>\n",
       "      <td>discount</td>\n",
       "      <td>2</td>\n",
       "      <td>1</td>\n",
       "      <td>1</td>\n",
       "      <td>1</td>\n",
       "      <td>1</td>\n",
       "    </tr>\n",
       "    <tr>\n",
       "      <th>7</th>\n",
       "      <td>0</td>\n",
       "      <td>3</td>\n",
       "      <td>5a8bc65990b245e5a138643cd4eb9837</td>\n",
       "      <td>informational</td>\n",
       "      <td>0</td>\n",
       "      <td>1</td>\n",
       "      <td>0</td>\n",
       "      <td>1</td>\n",
       "      <td>1</td>\n",
       "    </tr>\n",
       "    <tr>\n",
       "      <th>8</th>\n",
       "      <td>5</td>\n",
       "      <td>5</td>\n",
       "      <td>f19421c1d4aa40978ebb69ca19b0e20d</td>\n",
       "      <td>bogo</td>\n",
       "      <td>5</td>\n",
       "      <td>1</td>\n",
       "      <td>1</td>\n",
       "      <td>1</td>\n",
       "      <td>1</td>\n",
       "    </tr>\n",
       "    <tr>\n",
       "      <th>9</th>\n",
       "      <td>10</td>\n",
       "      <td>7</td>\n",
       "      <td>2906b810c7d4411798c6938adc9daaa5</td>\n",
       "      <td>discount</td>\n",
       "      <td>2</td>\n",
       "      <td>1</td>\n",
       "      <td>1</td>\n",
       "      <td>0</td>\n",
       "      <td>1</td>\n",
       "    </tr>\n",
       "  </tbody>\n",
       "</table>\n",
       "</div>"
      ],
      "text/plain": [
       "   difficulty  duration                                id     offer_type  \\\n",
       "0          10         7  ae264e3637204a6fb9bb56bc8210ddfd           bogo   \n",
       "1          10         5  4d5c57ea9a6940dd891ad53e9dbe8da0           bogo   \n",
       "2           0         4  3f207df678b143eea3cee63160fa8bed  informational   \n",
       "3           5         7  9b98b8c7a33c4b65b9aebfe6a799e6d9           bogo   \n",
       "4          20        10  0b1e1539f2cc45b7b9fa7c272da2e1d7       discount   \n",
       "5           7         7  2298d6c36e964ae4a3e7e9706d1fb8c2       discount   \n",
       "6          10        10  fafdcd668e3743c1bb461111dcafc2a4       discount   \n",
       "7           0         3  5a8bc65990b245e5a138643cd4eb9837  informational   \n",
       "8           5         5  f19421c1d4aa40978ebb69ca19b0e20d           bogo   \n",
       "9          10         7  2906b810c7d4411798c6938adc9daaa5       discount   \n",
       "\n",
       "   reward  channel_email  channel_web  channel_social  channel_mobile  \n",
       "0      10              1            0               1               1  \n",
       "1      10              1            1               1               1  \n",
       "2       0              1            1               0               1  \n",
       "3       5              1            1               0               1  \n",
       "4       5              1            1               0               0  \n",
       "5       3              1            1               1               1  \n",
       "6       2              1            1               1               1  \n",
       "7       0              1            0               1               1  \n",
       "8       5              1            1               1               1  \n",
       "9       2              1            1               0               1  "
      ]
     },
     "execution_count": 61,
     "metadata": {},
     "output_type": "execute_result"
    }
   ],
   "source": [
    "portfolio"
   ]
  },
  {
   "cell_type": "code",
   "execution_count": 62,
   "metadata": {
    "collapsed": false
   },
   "outputs": [],
   "source": [
    "data['profit_10_days'] = data.spent_10_days - data.actual_reward"
   ]
  },
  {
   "cell_type": "code",
   "execution_count": 63,
   "metadata": {
    "collapsed": false
   },
   "outputs": [
    {
     "data": {
      "text/html": [
       "<div>\n",
       "<style scoped>\n",
       "    .dataframe tbody tr th:only-of-type {\n",
       "        vertical-align: middle;\n",
       "    }\n",
       "\n",
       "    .dataframe tbody tr th {\n",
       "        vertical-align: top;\n",
       "    }\n",
       "\n",
       "    .dataframe thead th {\n",
       "        text-align: right;\n",
       "    }\n",
       "</style>\n",
       "<table border=\"1\" class=\"dataframe\">\n",
       "  <thead>\n",
       "    <tr style=\"text-align: right;\">\n",
       "      <th></th>\n",
       "      <th>time</th>\n",
       "      <th>age</th>\n",
       "      <th>gender</th>\n",
       "      <th>income</th>\n",
       "      <th>missing_demographics</th>\n",
       "      <th>member_epoch_days</th>\n",
       "      <th>difficulty</th>\n",
       "      <th>duration</th>\n",
       "      <th>offer_type</th>\n",
       "      <th>reward_t</th>\n",
       "      <th>...</th>\n",
       "      <th>reward_5.0_success_ratio</th>\n",
       "      <th>reward_3.0_success_ratio</th>\n",
       "      <th>reward_2.0_success_ratio</th>\n",
       "      <th>channel_web_success_ratio</th>\n",
       "      <th>channel_email_success_ratio</th>\n",
       "      <th>channel_social_success_ratio</th>\n",
       "      <th>channel_mobile_success_ratio</th>\n",
       "      <th>spent_10_days</th>\n",
       "      <th>offer_choice</th>\n",
       "      <th>profit_10_days</th>\n",
       "    </tr>\n",
       "  </thead>\n",
       "  <tbody>\n",
       "    <tr>\n",
       "      <th>0</th>\n",
       "      <td>168</td>\n",
       "      <td>33.0</td>\n",
       "      <td>M</td>\n",
       "      <td>72000.0</td>\n",
       "      <td>0</td>\n",
       "      <td>17277</td>\n",
       "      <td>0.0</td>\n",
       "      <td>3.0</td>\n",
       "      <td>informational</td>\n",
       "      <td>0.0</td>\n",
       "      <td>...</td>\n",
       "      <td>0.0</td>\n",
       "      <td>0.0</td>\n",
       "      <td>0.0</td>\n",
       "      <td>0.0</td>\n",
       "      <td>0.0</td>\n",
       "      <td>0.0</td>\n",
       "      <td>0.0</td>\n",
       "      <td>22.16</td>\n",
       "      <td>5a8bc65990b245e5a138643cd4eb9837</td>\n",
       "      <td>22.16</td>\n",
       "    </tr>\n",
       "    <tr>\n",
       "      <th>1</th>\n",
       "      <td>336</td>\n",
       "      <td>33.0</td>\n",
       "      <td>M</td>\n",
       "      <td>72000.0</td>\n",
       "      <td>0</td>\n",
       "      <td>17277</td>\n",
       "      <td>0.0</td>\n",
       "      <td>4.0</td>\n",
       "      <td>informational</td>\n",
       "      <td>0.0</td>\n",
       "      <td>...</td>\n",
       "      <td>0.0</td>\n",
       "      <td>0.0</td>\n",
       "      <td>0.0</td>\n",
       "      <td>0.0</td>\n",
       "      <td>0.0</td>\n",
       "      <td>0.0</td>\n",
       "      <td>0.0</td>\n",
       "      <td>46.51</td>\n",
       "      <td>3f207df678b143eea3cee63160fa8bed</td>\n",
       "      <td>46.51</td>\n",
       "    </tr>\n",
       "    <tr>\n",
       "      <th>2</th>\n",
       "      <td>408</td>\n",
       "      <td>33.0</td>\n",
       "      <td>M</td>\n",
       "      <td>72000.0</td>\n",
       "      <td>0</td>\n",
       "      <td>17277</td>\n",
       "      <td>5.0</td>\n",
       "      <td>5.0</td>\n",
       "      <td>bogo</td>\n",
       "      <td>5.0</td>\n",
       "      <td>...</td>\n",
       "      <td>0.0</td>\n",
       "      <td>0.0</td>\n",
       "      <td>0.0</td>\n",
       "      <td>0.0</td>\n",
       "      <td>0.0</td>\n",
       "      <td>0.0</td>\n",
       "      <td>0.0</td>\n",
       "      <td>46.51</td>\n",
       "      <td>no_offer</td>\n",
       "      <td>41.51</td>\n",
       "    </tr>\n",
       "    <tr>\n",
       "      <th>3</th>\n",
       "      <td>504</td>\n",
       "      <td>33.0</td>\n",
       "      <td>M</td>\n",
       "      <td>72000.0</td>\n",
       "      <td>0</td>\n",
       "      <td>17277</td>\n",
       "      <td>10.0</td>\n",
       "      <td>10.0</td>\n",
       "      <td>discount</td>\n",
       "      <td>2.0</td>\n",
       "      <td>...</td>\n",
       "      <td>0.0</td>\n",
       "      <td>0.0</td>\n",
       "      <td>0.0</td>\n",
       "      <td>0.0</td>\n",
       "      <td>0.0</td>\n",
       "      <td>0.0</td>\n",
       "      <td>0.0</td>\n",
       "      <td>96.87</td>\n",
       "      <td>no_offer</td>\n",
       "      <td>94.87</td>\n",
       "    </tr>\n",
       "    <tr>\n",
       "      <th>4</th>\n",
       "      <td>576</td>\n",
       "      <td>33.0</td>\n",
       "      <td>M</td>\n",
       "      <td>72000.0</td>\n",
       "      <td>0</td>\n",
       "      <td>17277</td>\n",
       "      <td>10.0</td>\n",
       "      <td>7.0</td>\n",
       "      <td>discount</td>\n",
       "      <td>2.0</td>\n",
       "      <td>...</td>\n",
       "      <td>0.0</td>\n",
       "      <td>0.0</td>\n",
       "      <td>0.0</td>\n",
       "      <td>0.0</td>\n",
       "      <td>0.0</td>\n",
       "      <td>0.0</td>\n",
       "      <td>0.0</td>\n",
       "      <td>58.93</td>\n",
       "      <td>no_offer</td>\n",
       "      <td>56.93</td>\n",
       "    </tr>\n",
       "  </tbody>\n",
       "</table>\n",
       "<p>5 rows × 135 columns</p>\n",
       "</div>"
      ],
      "text/plain": [
       "   time   age gender   income  missing_demographics  member_epoch_days  \\\n",
       "0   168  33.0      M  72000.0                     0              17277   \n",
       "1   336  33.0      M  72000.0                     0              17277   \n",
       "2   408  33.0      M  72000.0                     0              17277   \n",
       "3   504  33.0      M  72000.0                     0              17277   \n",
       "4   576  33.0      M  72000.0                     0              17277   \n",
       "\n",
       "   difficulty  duration     offer_type  reward_t       ...        \\\n",
       "0         0.0       3.0  informational       0.0       ...         \n",
       "1         0.0       4.0  informational       0.0       ...         \n",
       "2         5.0       5.0           bogo       5.0       ...         \n",
       "3        10.0      10.0       discount       2.0       ...         \n",
       "4        10.0       7.0       discount       2.0       ...         \n",
       "\n",
       "   reward_5.0_success_ratio  reward_3.0_success_ratio  \\\n",
       "0                       0.0                       0.0   \n",
       "1                       0.0                       0.0   \n",
       "2                       0.0                       0.0   \n",
       "3                       0.0                       0.0   \n",
       "4                       0.0                       0.0   \n",
       "\n",
       "   reward_2.0_success_ratio  channel_web_success_ratio  \\\n",
       "0                       0.0                        0.0   \n",
       "1                       0.0                        0.0   \n",
       "2                       0.0                        0.0   \n",
       "3                       0.0                        0.0   \n",
       "4                       0.0                        0.0   \n",
       "\n",
       "   channel_email_success_ratio  channel_social_success_ratio  \\\n",
       "0                          0.0                           0.0   \n",
       "1                          0.0                           0.0   \n",
       "2                          0.0                           0.0   \n",
       "3                          0.0                           0.0   \n",
       "4                          0.0                           0.0   \n",
       "\n",
       "   channel_mobile_success_ratio  spent_10_days  \\\n",
       "0                           0.0          22.16   \n",
       "1                           0.0          46.51   \n",
       "2                           0.0          46.51   \n",
       "3                           0.0          96.87   \n",
       "4                           0.0          58.93   \n",
       "\n",
       "                       offer_choice  profit_10_days  \n",
       "0  5a8bc65990b245e5a138643cd4eb9837           22.16  \n",
       "1  3f207df678b143eea3cee63160fa8bed           46.51  \n",
       "2                          no_offer           41.51  \n",
       "3                          no_offer           94.87  \n",
       "4                          no_offer           56.93  \n",
       "\n",
       "[5 rows x 135 columns]"
      ]
     },
     "execution_count": 63,
     "metadata": {},
     "output_type": "execute_result"
    }
   ],
   "source": [
    "data.head()"
   ]
  },
  {
   "cell_type": "code",
   "execution_count": 64,
   "metadata": {
    "collapsed": true
   },
   "outputs": [],
   "source": [
    "from sklearn.preprocessing import LabelEncoder"
   ]
  },
  {
   "cell_type": "code",
   "execution_count": 65,
   "metadata": {
    "collapsed": true
   },
   "outputs": [],
   "source": [
    "class BasicEncoderProfits(pp.BasicEncoder):\n",
    "    \"\"\" \n",
    "    Transforms the Basic dataset. Adds the encoding for the offer choice or\n",
    "    other custom features (may be offer_id for example). \"\"\"\n",
    "\n",
    "    def __init__(self, custom_features=list()):\n",
    "        super().__init__()\n",
    "        self.custom_encoders = {feat: LabelEncoder() for feat in custom_features}\n",
    "\n",
    "    def fit(self, X, y=None):\n",
    "        \"\"\" Get the encodings for the offer choice. \"\"\"\n",
    "        super().fit(X, y)\n",
    "        for feat, encoder in self.custom_encoders.items():\n",
    "            encoder.fit(X[feat])\n",
    "        return self\n",
    "\n",
    "    def transform(self, X):\n",
    "        \"\"\" Encode offer types and gender, and all the custom features. \"\"\"\n",
    "        res = super().transform(X)\n",
    "        for feat, encoder in self.custom_encoders.items():\n",
    "            res[feat] = encoder.transform(X[feat])\n",
    "        return res\n",
    "\n",
    "    def inverse_transform(self, X):\n",
    "        \"\"\" Transform back to the original encoding. \"\"\"\n",
    "        res = super().inverse_transform(X)\n",
    "        for feat, encoder in self.custom_encoders.items():\n",
    "            res[feat] = encoder.inverse_transform(X[feat])\n",
    "        return res"
   ]
  },
  {
   "cell_type": "code",
   "execution_count": 66,
   "metadata": {
    "collapsed": true
   },
   "outputs": [],
   "source": [
    "def fill_null_offer(data):\n",
    "    \"\"\" Fill the 'null' offer data when an offer was not viewed\"\"\"\n",
    "    \n",
    "    data.loc[data['viewed'] == 0, 'offer_id'] = 'no_offer'\n",
    "    z_cols = ['difficulty',\n",
    "               'duration',\n",
    "               'reward_t',\n",
    "               'channel_web',\n",
    "               'channel_mobile',\n",
    "               'channel_email',\n",
    "               'channel_social',\n",
    "               'expected_finish']\n",
    "    data.loc[data.offer_id=='no_offer', data.columns.isin(z_cols)] = 0\n",
    "    data.loc[data.offer_id=='no_offer', 'offer_type'] = 'no_offer'\n",
    "\n",
    "    return data"
   ]
  },
  {
   "cell_type": "code",
   "execution_count": 67,
   "metadata": {
    "collapsed": false
   },
   "outputs": [],
   "source": [
    "def get_profit_10_days_data(basic_dataset_path=os.path.join(DATA_PROCESSED, 'static_spent_10_days.pkl'),\n",
    "                            train_times=[0, 168],\n",
    "                            test_times=[408],\n",
    "                            drop_time=True,\n",
    "                            anon_person=True,\n",
    "                            drop_offer_id=True,\n",
    "                            fill_null=True,\n",
    "                            target='profit_10_days'):\n",
    "    \"\"\"\n",
    "    Generates the dataset to predict the profits in 10 days for each offer.\n",
    "    The profits are calculated as the money spent minus the paid reward (if any).\n",
    "    Args:\n",
    "        basic_dataset_path(str): The path to the pickle containing the basic\n",
    "            dataset\n",
    "        time_limit(int): The limit to split the train and test sets.\n",
    "        drop_time(boolean): Whether to drop the absolute time dependent\n",
    "            features.\n",
    "        anon_person(boolean): Whether to drop unique identifiers to customers.\n",
    "        anon_offer(boolean): Whether to drop unique identifiers to offers.\n",
    "\n",
    "    Returns:\n",
    "        X_train(pd.DataFrame): The training dataset.\n",
    "        X_test(pd.DataFrame): The test dataset.\n",
    "        y_train(pd.Series): The training target.\n",
    "        y_test(pd.Series): The test target.\n",
    "        BasicEncoderProfits: An encoder to use in an ML pipeline.\n",
    "    \"\"\"\n",
    "    data = pd.read_pickle(basic_dataset_path)\n",
    "    \n",
    "    custom_features = ['offer_id']\n",
    "    if fill_null:\n",
    "        data = fill_null_offer(data)\n",
    "    if anon_person:\n",
    "        data = data.drop('person', axis=1)\n",
    "    if drop_offer_id:\n",
    "        data = data.drop('offer_id', axis=1)\n",
    "        custom_features.remove('offer_id')\n",
    "    data['profit_10_days'] = data.spent_10_days - data.actual_reward\n",
    "    data = data.drop(['became_member_on', 'spent_10_days'], axis=1)\n",
    "    \n",
    "    X = data.drop(pp.FUTURE_INFO + ['profit_10_days'], axis=1)\n",
    "    y = data[target]\n",
    "    \n",
    "    # Split the train-test data\n",
    "    X_train = X[X.time.isin(train_times)]\n",
    "    X_test = X[X.time.isin(test_times)]\n",
    "    y_train = y[X.time.isin(train_times)]\n",
    "    y_test = y[X.time.isin(test_times)]\n",
    "    if drop_time:\n",
    "        X_train = X_train.drop('time', axis=1)\n",
    "        X_test = X_test.drop('time', axis=1)\n",
    "    \n",
    "    encoder = encoder = BasicEncoderProfits(custom_features=custom_features)\n",
    "    \n",
    "    return X_train, X_test, y_train, y_test, encoder"
   ]
  },
  {
   "cell_type": "code",
   "execution_count": 68,
   "metadata": {
    "collapsed": false
   },
   "outputs": [],
   "source": [
    "X_train, X_test, y_train, y_test, encoder =\\\n",
    "get_profit_10_days_data(drop_offer_id=False)"
   ]
  },
  {
   "cell_type": "code",
   "execution_count": 69,
   "metadata": {
    "collapsed": false
   },
   "outputs": [
    {
     "data": {
      "text/plain": [
       "array(['informational', 'bogo', 'discount', 'no_offer'], dtype=object)"
      ]
     },
     "execution_count": 69,
     "metadata": {},
     "output_type": "execute_result"
    }
   ],
   "source": [
    "X_train.offer_type.unique()"
   ]
  },
  {
   "cell_type": "code",
   "execution_count": 70,
   "metadata": {
    "collapsed": false
   },
   "outputs": [
    {
     "data": {
      "text/plain": [
       "'viewed'"
      ]
     },
     "execution_count": 70,
     "metadata": {},
     "output_type": "execute_result"
    }
   ],
   "source": [
    "X_train, X_test, y_train, y_test, encoder =\\\n",
    "get_profit_10_days_data(target='viewed')\n",
    "y_train.name"
   ]
  },
  {
   "cell_type": "code",
   "execution_count": 71,
   "metadata": {
    "collapsed": false
   },
   "outputs": [
    {
     "data": {
      "text/plain": [
       "array(['informational', 'bogo', 'discount'], dtype=object)"
      ]
     },
     "execution_count": 71,
     "metadata": {},
     "output_type": "execute_result"
    }
   ],
   "source": [
    "X_train, X_test, y_train, y_test, encoder =\\\n",
    "get_profit_10_days_data(fill_null=False, target='viewed')\n",
    "X_train.offer_type.unique()"
   ]
  },
  {
   "cell_type": "code",
   "execution_count": 72,
   "metadata": {
    "collapsed": false
   },
   "outputs": [
    {
     "data": {
      "text/plain": [
       "{}"
      ]
     },
     "execution_count": 72,
     "metadata": {},
     "output_type": "execute_result"
    }
   ],
   "source": [
    "encoder.custom_encoders"
   ]
  },
  {
   "cell_type": "code",
   "execution_count": 73,
   "metadata": {
    "collapsed": false
   },
   "outputs": [
    {
     "data": {
      "text/plain": [
       "BasicEncoderProfits(custom_features=None)"
      ]
     },
     "execution_count": 73,
     "metadata": {},
     "output_type": "execute_result"
    }
   ],
   "source": [
    "encoder.fit(X_train)"
   ]
  },
  {
   "cell_type": "code",
   "execution_count": 74,
   "metadata": {
    "collapsed": false
   },
   "outputs": [
    {
     "data": {
      "text/html": [
       "<div>\n",
       "<style scoped>\n",
       "    .dataframe tbody tr th:only-of-type {\n",
       "        vertical-align: middle;\n",
       "    }\n",
       "\n",
       "    .dataframe tbody tr th {\n",
       "        vertical-align: top;\n",
       "    }\n",
       "\n",
       "    .dataframe thead th {\n",
       "        text-align: right;\n",
       "    }\n",
       "</style>\n",
       "<table border=\"1\" class=\"dataframe\">\n",
       "  <thead>\n",
       "    <tr style=\"text-align: right;\">\n",
       "      <th></th>\n",
       "      <th>age</th>\n",
       "      <th>gender</th>\n",
       "      <th>income</th>\n",
       "      <th>missing_demographics</th>\n",
       "      <th>member_epoch_days</th>\n",
       "      <th>difficulty</th>\n",
       "      <th>duration</th>\n",
       "      <th>offer_type</th>\n",
       "      <th>reward_t</th>\n",
       "      <th>channel_social</th>\n",
       "      <th>...</th>\n",
       "      <th>difficulty_7.0_success_ratio</th>\n",
       "      <th>reward_10.0_success_ratio</th>\n",
       "      <th>reward_0.0_success_ratio</th>\n",
       "      <th>reward_5.0_success_ratio</th>\n",
       "      <th>reward_3.0_success_ratio</th>\n",
       "      <th>reward_2.0_success_ratio</th>\n",
       "      <th>channel_web_success_ratio</th>\n",
       "      <th>channel_email_success_ratio</th>\n",
       "      <th>channel_social_success_ratio</th>\n",
       "      <th>channel_mobile_success_ratio</th>\n",
       "    </tr>\n",
       "  </thead>\n",
       "  <tbody>\n",
       "    <tr>\n",
       "      <th>0</th>\n",
       "      <td>33.0</td>\n",
       "      <td>1.0</td>\n",
       "      <td>72000.0</td>\n",
       "      <td>0</td>\n",
       "      <td>17277</td>\n",
       "      <td>0.0</td>\n",
       "      <td>3.0</td>\n",
       "      <td>2</td>\n",
       "      <td>0.0</td>\n",
       "      <td>1.0</td>\n",
       "      <td>...</td>\n",
       "      <td>0.0</td>\n",
       "      <td>0.0</td>\n",
       "      <td>0.0</td>\n",
       "      <td>0.0</td>\n",
       "      <td>0.0</td>\n",
       "      <td>0.0</td>\n",
       "      <td>0.0</td>\n",
       "      <td>0.0</td>\n",
       "      <td>0.0</td>\n",
       "      <td>0.0</td>\n",
       "    </tr>\n",
       "    <tr>\n",
       "      <th>5</th>\n",
       "      <td>NaN</td>\n",
       "      <td>NaN</td>\n",
       "      <td>NaN</td>\n",
       "      <td>1</td>\n",
       "      <td>17646</td>\n",
       "      <td>5.0</td>\n",
       "      <td>5.0</td>\n",
       "      <td>0</td>\n",
       "      <td>5.0</td>\n",
       "      <td>1.0</td>\n",
       "      <td>...</td>\n",
       "      <td>0.0</td>\n",
       "      <td>0.0</td>\n",
       "      <td>0.0</td>\n",
       "      <td>0.0</td>\n",
       "      <td>0.0</td>\n",
       "      <td>0.0</td>\n",
       "      <td>0.0</td>\n",
       "      <td>0.0</td>\n",
       "      <td>0.0</td>\n",
       "      <td>0.0</td>\n",
       "    </tr>\n",
       "    <tr>\n",
       "      <th>7</th>\n",
       "      <td>40.0</td>\n",
       "      <td>2.0</td>\n",
       "      <td>57000.0</td>\n",
       "      <td>0</td>\n",
       "      <td>17540</td>\n",
       "      <td>0.0</td>\n",
       "      <td>4.0</td>\n",
       "      <td>2</td>\n",
       "      <td>0.0</td>\n",
       "      <td>0.0</td>\n",
       "      <td>...</td>\n",
       "      <td>0.0</td>\n",
       "      <td>0.0</td>\n",
       "      <td>0.0</td>\n",
       "      <td>0.0</td>\n",
       "      <td>0.0</td>\n",
       "      <td>0.0</td>\n",
       "      <td>0.0</td>\n",
       "      <td>0.0</td>\n",
       "      <td>0.0</td>\n",
       "      <td>0.0</td>\n",
       "    </tr>\n",
       "    <tr>\n",
       "      <th>8</th>\n",
       "      <td>40.0</td>\n",
       "      <td>2.0</td>\n",
       "      <td>57000.0</td>\n",
       "      <td>0</td>\n",
       "      <td>17540</td>\n",
       "      <td>7.0</td>\n",
       "      <td>7.0</td>\n",
       "      <td>1</td>\n",
       "      <td>3.0</td>\n",
       "      <td>1.0</td>\n",
       "      <td>...</td>\n",
       "      <td>0.0</td>\n",
       "      <td>0.0</td>\n",
       "      <td>0.0</td>\n",
       "      <td>0.0</td>\n",
       "      <td>0.0</td>\n",
       "      <td>0.0</td>\n",
       "      <td>0.0</td>\n",
       "      <td>0.0</td>\n",
       "      <td>0.0</td>\n",
       "      <td>0.0</td>\n",
       "    </tr>\n",
       "    <tr>\n",
       "      <th>12</th>\n",
       "      <td>59.0</td>\n",
       "      <td>0.0</td>\n",
       "      <td>90000.0</td>\n",
       "      <td>0</td>\n",
       "      <td>16864</td>\n",
       "      <td>10.0</td>\n",
       "      <td>10.0</td>\n",
       "      <td>1</td>\n",
       "      <td>2.0</td>\n",
       "      <td>1.0</td>\n",
       "      <td>...</td>\n",
       "      <td>0.0</td>\n",
       "      <td>0.0</td>\n",
       "      <td>0.0</td>\n",
       "      <td>0.0</td>\n",
       "      <td>0.0</td>\n",
       "      <td>0.0</td>\n",
       "      <td>0.0</td>\n",
       "      <td>0.0</td>\n",
       "      <td>0.0</td>\n",
       "      <td>0.0</td>\n",
       "    </tr>\n",
       "  </tbody>\n",
       "</table>\n",
       "<p>5 rows × 121 columns</p>\n",
       "</div>"
      ],
      "text/plain": [
       "     age  gender   income  missing_demographics  member_epoch_days  \\\n",
       "0   33.0     1.0  72000.0                     0              17277   \n",
       "5    NaN     NaN      NaN                     1              17646   \n",
       "7   40.0     2.0  57000.0                     0              17540   \n",
       "8   40.0     2.0  57000.0                     0              17540   \n",
       "12  59.0     0.0  90000.0                     0              16864   \n",
       "\n",
       "    difficulty  duration  offer_type  reward_t  channel_social  \\\n",
       "0          0.0       3.0           2       0.0             1.0   \n",
       "5          5.0       5.0           0       5.0             1.0   \n",
       "7          0.0       4.0           2       0.0             0.0   \n",
       "8          7.0       7.0           1       3.0             1.0   \n",
       "12        10.0      10.0           1       2.0             1.0   \n",
       "\n",
       "                ...               difficulty_7.0_success_ratio  \\\n",
       "0               ...                                        0.0   \n",
       "5               ...                                        0.0   \n",
       "7               ...                                        0.0   \n",
       "8               ...                                        0.0   \n",
       "12              ...                                        0.0   \n",
       "\n",
       "    reward_10.0_success_ratio  reward_0.0_success_ratio  \\\n",
       "0                         0.0                       0.0   \n",
       "5                         0.0                       0.0   \n",
       "7                         0.0                       0.0   \n",
       "8                         0.0                       0.0   \n",
       "12                        0.0                       0.0   \n",
       "\n",
       "    reward_5.0_success_ratio  reward_3.0_success_ratio  \\\n",
       "0                        0.0                       0.0   \n",
       "5                        0.0                       0.0   \n",
       "7                        0.0                       0.0   \n",
       "8                        0.0                       0.0   \n",
       "12                       0.0                       0.0   \n",
       "\n",
       "    reward_2.0_success_ratio  channel_web_success_ratio  \\\n",
       "0                        0.0                        0.0   \n",
       "5                        0.0                        0.0   \n",
       "7                        0.0                        0.0   \n",
       "8                        0.0                        0.0   \n",
       "12                       0.0                        0.0   \n",
       "\n",
       "    channel_email_success_ratio  channel_social_success_ratio  \\\n",
       "0                           0.0                           0.0   \n",
       "5                           0.0                           0.0   \n",
       "7                           0.0                           0.0   \n",
       "8                           0.0                           0.0   \n",
       "12                          0.0                           0.0   \n",
       "\n",
       "    channel_mobile_success_ratio  \n",
       "0                            0.0  \n",
       "5                            0.0  \n",
       "7                            0.0  \n",
       "8                            0.0  \n",
       "12                           0.0  \n",
       "\n",
       "[5 rows x 121 columns]"
      ]
     },
     "execution_count": 74,
     "metadata": {},
     "output_type": "execute_result"
    }
   ],
   "source": [
    "X_train_t = encoder.transform(X_train)\n",
    "X_train_t.head()"
   ]
  },
  {
   "cell_type": "code",
   "execution_count": 75,
   "metadata": {
    "collapsed": true
   },
   "outputs": [],
   "source": [
    "X_train_o = encoder.inverse_transform(X_train_t)"
   ]
  },
  {
   "cell_type": "code",
   "execution_count": 76,
   "metadata": {
    "collapsed": false
   },
   "outputs": [
    {
     "data": {
      "text/html": [
       "<div>\n",
       "<style scoped>\n",
       "    .dataframe tbody tr th:only-of-type {\n",
       "        vertical-align: middle;\n",
       "    }\n",
       "\n",
       "    .dataframe tbody tr th {\n",
       "        vertical-align: top;\n",
       "    }\n",
       "\n",
       "    .dataframe thead th {\n",
       "        text-align: right;\n",
       "    }\n",
       "</style>\n",
       "<table border=\"1\" class=\"dataframe\">\n",
       "  <thead>\n",
       "    <tr style=\"text-align: right;\">\n",
       "      <th></th>\n",
       "      <th>age</th>\n",
       "      <th>gender</th>\n",
       "      <th>income</th>\n",
       "      <th>missing_demographics</th>\n",
       "      <th>member_epoch_days</th>\n",
       "      <th>difficulty</th>\n",
       "      <th>duration</th>\n",
       "      <th>offer_type</th>\n",
       "      <th>reward_t</th>\n",
       "      <th>channel_social</th>\n",
       "      <th>...</th>\n",
       "      <th>difficulty_7.0_success_ratio</th>\n",
       "      <th>reward_10.0_success_ratio</th>\n",
       "      <th>reward_0.0_success_ratio</th>\n",
       "      <th>reward_5.0_success_ratio</th>\n",
       "      <th>reward_3.0_success_ratio</th>\n",
       "      <th>reward_2.0_success_ratio</th>\n",
       "      <th>channel_web_success_ratio</th>\n",
       "      <th>channel_email_success_ratio</th>\n",
       "      <th>channel_social_success_ratio</th>\n",
       "      <th>channel_mobile_success_ratio</th>\n",
       "    </tr>\n",
       "  </thead>\n",
       "  <tbody>\n",
       "    <tr>\n",
       "      <th>0</th>\n",
       "      <td>33.0</td>\n",
       "      <td>M</td>\n",
       "      <td>72000.0</td>\n",
       "      <td>0</td>\n",
       "      <td>17277</td>\n",
       "      <td>0.0</td>\n",
       "      <td>3.0</td>\n",
       "      <td>informational</td>\n",
       "      <td>0.0</td>\n",
       "      <td>1.0</td>\n",
       "      <td>...</td>\n",
       "      <td>0.0</td>\n",
       "      <td>0.0</td>\n",
       "      <td>0.0</td>\n",
       "      <td>0.0</td>\n",
       "      <td>0.0</td>\n",
       "      <td>0.0</td>\n",
       "      <td>0.0</td>\n",
       "      <td>0.0</td>\n",
       "      <td>0.0</td>\n",
       "      <td>0.0</td>\n",
       "    </tr>\n",
       "    <tr>\n",
       "      <th>5</th>\n",
       "      <td>NaN</td>\n",
       "      <td>None</td>\n",
       "      <td>NaN</td>\n",
       "      <td>1</td>\n",
       "      <td>17646</td>\n",
       "      <td>5.0</td>\n",
       "      <td>5.0</td>\n",
       "      <td>bogo</td>\n",
       "      <td>5.0</td>\n",
       "      <td>1.0</td>\n",
       "      <td>...</td>\n",
       "      <td>0.0</td>\n",
       "      <td>0.0</td>\n",
       "      <td>0.0</td>\n",
       "      <td>0.0</td>\n",
       "      <td>0.0</td>\n",
       "      <td>0.0</td>\n",
       "      <td>0.0</td>\n",
       "      <td>0.0</td>\n",
       "      <td>0.0</td>\n",
       "      <td>0.0</td>\n",
       "    </tr>\n",
       "    <tr>\n",
       "      <th>7</th>\n",
       "      <td>40.0</td>\n",
       "      <td>O</td>\n",
       "      <td>57000.0</td>\n",
       "      <td>0</td>\n",
       "      <td>17540</td>\n",
       "      <td>0.0</td>\n",
       "      <td>4.0</td>\n",
       "      <td>informational</td>\n",
       "      <td>0.0</td>\n",
       "      <td>0.0</td>\n",
       "      <td>...</td>\n",
       "      <td>0.0</td>\n",
       "      <td>0.0</td>\n",
       "      <td>0.0</td>\n",
       "      <td>0.0</td>\n",
       "      <td>0.0</td>\n",
       "      <td>0.0</td>\n",
       "      <td>0.0</td>\n",
       "      <td>0.0</td>\n",
       "      <td>0.0</td>\n",
       "      <td>0.0</td>\n",
       "    </tr>\n",
       "    <tr>\n",
       "      <th>8</th>\n",
       "      <td>40.0</td>\n",
       "      <td>O</td>\n",
       "      <td>57000.0</td>\n",
       "      <td>0</td>\n",
       "      <td>17540</td>\n",
       "      <td>7.0</td>\n",
       "      <td>7.0</td>\n",
       "      <td>discount</td>\n",
       "      <td>3.0</td>\n",
       "      <td>1.0</td>\n",
       "      <td>...</td>\n",
       "      <td>0.0</td>\n",
       "      <td>0.0</td>\n",
       "      <td>0.0</td>\n",
       "      <td>0.0</td>\n",
       "      <td>0.0</td>\n",
       "      <td>0.0</td>\n",
       "      <td>0.0</td>\n",
       "      <td>0.0</td>\n",
       "      <td>0.0</td>\n",
       "      <td>0.0</td>\n",
       "    </tr>\n",
       "    <tr>\n",
       "      <th>12</th>\n",
       "      <td>59.0</td>\n",
       "      <td>F</td>\n",
       "      <td>90000.0</td>\n",
       "      <td>0</td>\n",
       "      <td>16864</td>\n",
       "      <td>10.0</td>\n",
       "      <td>10.0</td>\n",
       "      <td>discount</td>\n",
       "      <td>2.0</td>\n",
       "      <td>1.0</td>\n",
       "      <td>...</td>\n",
       "      <td>0.0</td>\n",
       "      <td>0.0</td>\n",
       "      <td>0.0</td>\n",
       "      <td>0.0</td>\n",
       "      <td>0.0</td>\n",
       "      <td>0.0</td>\n",
       "      <td>0.0</td>\n",
       "      <td>0.0</td>\n",
       "      <td>0.0</td>\n",
       "      <td>0.0</td>\n",
       "    </tr>\n",
       "  </tbody>\n",
       "</table>\n",
       "<p>5 rows × 121 columns</p>\n",
       "</div>"
      ],
      "text/plain": [
       "     age gender   income  missing_demographics  member_epoch_days  difficulty  \\\n",
       "0   33.0      M  72000.0                     0              17277         0.0   \n",
       "5    NaN   None      NaN                     1              17646         5.0   \n",
       "7   40.0      O  57000.0                     0              17540         0.0   \n",
       "8   40.0      O  57000.0                     0              17540         7.0   \n",
       "12  59.0      F  90000.0                     0              16864        10.0   \n",
       "\n",
       "    duration     offer_type  reward_t  channel_social  \\\n",
       "0        3.0  informational       0.0             1.0   \n",
       "5        5.0           bogo       5.0             1.0   \n",
       "7        4.0  informational       0.0             0.0   \n",
       "8        7.0       discount       3.0             1.0   \n",
       "12      10.0       discount       2.0             1.0   \n",
       "\n",
       "                ...               difficulty_7.0_success_ratio  \\\n",
       "0               ...                                        0.0   \n",
       "5               ...                                        0.0   \n",
       "7               ...                                        0.0   \n",
       "8               ...                                        0.0   \n",
       "12              ...                                        0.0   \n",
       "\n",
       "    reward_10.0_success_ratio  reward_0.0_success_ratio  \\\n",
       "0                         0.0                       0.0   \n",
       "5                         0.0                       0.0   \n",
       "7                         0.0                       0.0   \n",
       "8                         0.0                       0.0   \n",
       "12                        0.0                       0.0   \n",
       "\n",
       "    reward_5.0_success_ratio  reward_3.0_success_ratio  \\\n",
       "0                        0.0                       0.0   \n",
       "5                        0.0                       0.0   \n",
       "7                        0.0                       0.0   \n",
       "8                        0.0                       0.0   \n",
       "12                       0.0                       0.0   \n",
       "\n",
       "    reward_2.0_success_ratio  channel_web_success_ratio  \\\n",
       "0                        0.0                        0.0   \n",
       "5                        0.0                        0.0   \n",
       "7                        0.0                        0.0   \n",
       "8                        0.0                        0.0   \n",
       "12                       0.0                        0.0   \n",
       "\n",
       "    channel_email_success_ratio  channel_social_success_ratio  \\\n",
       "0                           0.0                           0.0   \n",
       "5                           0.0                           0.0   \n",
       "7                           0.0                           0.0   \n",
       "8                           0.0                           0.0   \n",
       "12                          0.0                           0.0   \n",
       "\n",
       "    channel_mobile_success_ratio  \n",
       "0                            0.0  \n",
       "5                            0.0  \n",
       "7                            0.0  \n",
       "8                            0.0  \n",
       "12                           0.0  \n",
       "\n",
       "[5 rows x 121 columns]"
      ]
     },
     "execution_count": 76,
     "metadata": {},
     "output_type": "execute_result"
    }
   ],
   "source": [
    "X_train_o.head()"
   ]
  },
  {
   "cell_type": "code",
   "execution_count": null,
   "metadata": {
    "collapsed": true
   },
   "outputs": [],
   "source": []
  },
  {
   "cell_type": "markdown",
   "metadata": {},
   "source": [
    "### Let's train a simple profits estimator"
   ]
  },
  {
   "cell_type": "code",
   "execution_count": 77,
   "metadata": {
    "collapsed": true
   },
   "outputs": [],
   "source": [
    "from xgboost import XGBRegressor"
   ]
  },
  {
   "cell_type": "code",
   "execution_count": 78,
   "metadata": {
    "collapsed": true
   },
   "outputs": [],
   "source": [
    "X_train, X_test, y_train, y_test, encoder =\\\n",
    "get_profit_10_days_data(drop_offer_id=False)"
   ]
  },
  {
   "cell_type": "code",
   "execution_count": 79,
   "metadata": {
    "collapsed": false
   },
   "outputs": [],
   "source": [
    "model = Pipeline([\n",
    "    ('encoder', encoder),\n",
    "    ('imputer', md.BasicImputer()),\n",
    "    ('estimator', XGBRegressor(max_depth=4, n_estimators=200, n_jobs=-1,\n",
    "                                random_state=2018))\n",
    "])"
   ]
  },
  {
   "cell_type": "code",
   "execution_count": 80,
   "metadata": {
    "collapsed": false
   },
   "outputs": [
    {
     "name": "stdout",
     "output_type": "stream",
     "text": [
      "CPU times: user 18.8 s, sys: 15.9 ms, total: 18.8 s\n",
      "Wall time: 18.4 s\n"
     ]
    },
    {
     "data": {
      "text/plain": [
       "Pipeline(memory=None,\n",
       "     steps=[('encoder', BasicEncoderProfits(custom_features=None)), ('imputer', BasicImputer(fill_mode=[])), ('estimator', XGBRegressor(base_score=0.5, booster='gbtree', colsample_bylevel=1,\n",
       "       colsample_bytree=1, gamma=0, learning_rate=0.1, max_delta_step=0,\n",
       "       max_depth=4, min_child_weight=1, m...\n",
       "       reg_alpha=0, reg_lambda=1, scale_pos_weight=1, seed=None,\n",
       "       silent=True, subsample=1))])"
      ]
     },
     "execution_count": 80,
     "metadata": {},
     "output_type": "execute_result"
    }
   ],
   "source": [
    "%time model.fit(X_train, y_train)"
   ]
  },
  {
   "cell_type": "code",
   "execution_count": 81,
   "metadata": {
    "collapsed": false
   },
   "outputs": [],
   "source": [
    "y_train_pred = model.predict(X_train)"
   ]
  },
  {
   "cell_type": "code",
   "execution_count": 82,
   "metadata": {
    "collapsed": false
   },
   "outputs": [],
   "source": [
    "from sklearn.metrics import mean_squared_error as mse"
   ]
  },
  {
   "cell_type": "code",
   "execution_count": 83,
   "metadata": {
    "collapsed": false
   },
   "outputs": [
    {
     "name": "stdout",
     "output_type": "stream",
     "text": [
      "Training error (RMSE) = 49.66410696612208\n"
     ]
    }
   ],
   "source": [
    "print('Training error (RMSE) = {}'.format(np.sqrt(mse(y_train, y_train_pred))))"
   ]
  },
  {
   "cell_type": "code",
   "execution_count": 84,
   "metadata": {
    "collapsed": false
   },
   "outputs": [
    {
     "name": "stdout",
     "output_type": "stream",
     "text": [
      "Test error (RMSE) = 65.87051759256225\n"
     ]
    }
   ],
   "source": [
    "y_test_pred = model.predict(X_test)\n",
    "print('Test error (RMSE) = {}'.format(np.sqrt(mse(y_test, y_test_pred))))"
   ]
  },
  {
   "cell_type": "code",
   "execution_count": 85,
   "metadata": {
    "collapsed": false,
    "scrolled": true
   },
   "outputs": [
    {
     "data": {
      "text/plain": [
       "(12778, 122)"
      ]
     },
     "execution_count": 85,
     "metadata": {},
     "output_type": "execute_result"
    }
   ],
   "source": [
    "X_test.shape"
   ]
  },
  {
   "cell_type": "code",
   "execution_count": 86,
   "metadata": {
    "collapsed": false,
    "scrolled": false
   },
   "outputs": [
    {
     "data": {
      "text/html": [
       "<div>\n",
       "<style scoped>\n",
       "    .dataframe tbody tr th:only-of-type {\n",
       "        vertical-align: middle;\n",
       "    }\n",
       "\n",
       "    .dataframe tbody tr th {\n",
       "        vertical-align: top;\n",
       "    }\n",
       "\n",
       "    .dataframe thead th {\n",
       "        text-align: right;\n",
       "    }\n",
       "</style>\n",
       "<table border=\"1\" class=\"dataframe\">\n",
       "  <thead>\n",
       "    <tr style=\"text-align: right;\">\n",
       "      <th></th>\n",
       "      <th>true</th>\n",
       "      <th>pred</th>\n",
       "    </tr>\n",
       "  </thead>\n",
       "  <tbody>\n",
       "    <tr>\n",
       "      <th>2</th>\n",
       "      <td>41.51</td>\n",
       "      <td>54.665493</td>\n",
       "    </tr>\n",
       "    <tr>\n",
       "      <th>10</th>\n",
       "      <td>40.08</td>\n",
       "      <td>27.050095</td>\n",
       "    </tr>\n",
       "    <tr>\n",
       "      <th>15</th>\n",
       "      <td>41.10</td>\n",
       "      <td>59.180218</td>\n",
       "    </tr>\n",
       "    <tr>\n",
       "      <th>19</th>\n",
       "      <td>69.19</td>\n",
       "      <td>78.951828</td>\n",
       "    </tr>\n",
       "    <tr>\n",
       "      <th>24</th>\n",
       "      <td>22.45</td>\n",
       "      <td>322.612152</td>\n",
       "    </tr>\n",
       "    <tr>\n",
       "      <th>29</th>\n",
       "      <td>6.59</td>\n",
       "      <td>80.070244</td>\n",
       "    </tr>\n",
       "    <tr>\n",
       "      <th>36</th>\n",
       "      <td>133.12</td>\n",
       "      <td>53.048153</td>\n",
       "    </tr>\n",
       "    <tr>\n",
       "      <th>41</th>\n",
       "      <td>10.65</td>\n",
       "      <td>13.545486</td>\n",
       "    </tr>\n",
       "    <tr>\n",
       "      <th>45</th>\n",
       "      <td>81.39</td>\n",
       "      <td>172.437469</td>\n",
       "    </tr>\n",
       "    <tr>\n",
       "      <th>50</th>\n",
       "      <td>0.00</td>\n",
       "      <td>-1.582555</td>\n",
       "    </tr>\n",
       "    <tr>\n",
       "      <th>54</th>\n",
       "      <td>8.73</td>\n",
       "      <td>3.509309</td>\n",
       "    </tr>\n",
       "    <tr>\n",
       "      <th>60</th>\n",
       "      <td>21.35</td>\n",
       "      <td>59.810829</td>\n",
       "    </tr>\n",
       "    <tr>\n",
       "      <th>66</th>\n",
       "      <td>24.69</td>\n",
       "      <td>126.621941</td>\n",
       "    </tr>\n",
       "    <tr>\n",
       "      <th>71</th>\n",
       "      <td>28.04</td>\n",
       "      <td>24.664856</td>\n",
       "    </tr>\n",
       "    <tr>\n",
       "      <th>76</th>\n",
       "      <td>4.65</td>\n",
       "      <td>8.220812</td>\n",
       "    </tr>\n",
       "    <tr>\n",
       "      <th>82</th>\n",
       "      <td>5.10</td>\n",
       "      <td>12.883729</td>\n",
       "    </tr>\n",
       "    <tr>\n",
       "      <th>87</th>\n",
       "      <td>106.98</td>\n",
       "      <td>62.490982</td>\n",
       "    </tr>\n",
       "    <tr>\n",
       "      <th>93</th>\n",
       "      <td>1.32</td>\n",
       "      <td>-1.161554</td>\n",
       "    </tr>\n",
       "    <tr>\n",
       "      <th>103</th>\n",
       "      <td>2.51</td>\n",
       "      <td>-0.506450</td>\n",
       "    </tr>\n",
       "    <tr>\n",
       "      <th>109</th>\n",
       "      <td>53.21</td>\n",
       "      <td>42.961407</td>\n",
       "    </tr>\n",
       "    <tr>\n",
       "      <th>114</th>\n",
       "      <td>9.51</td>\n",
       "      <td>5.960227</td>\n",
       "    </tr>\n",
       "    <tr>\n",
       "      <th>119</th>\n",
       "      <td>130.25</td>\n",
       "      <td>56.113110</td>\n",
       "    </tr>\n",
       "    <tr>\n",
       "      <th>133</th>\n",
       "      <td>83.15</td>\n",
       "      <td>50.284744</td>\n",
       "    </tr>\n",
       "    <tr>\n",
       "      <th>136</th>\n",
       "      <td>105.63</td>\n",
       "      <td>57.192600</td>\n",
       "    </tr>\n",
       "    <tr>\n",
       "      <th>140</th>\n",
       "      <td>3.89</td>\n",
       "      <td>2.253789</td>\n",
       "    </tr>\n",
       "    <tr>\n",
       "      <th>143</th>\n",
       "      <td>11.90</td>\n",
       "      <td>5.670835</td>\n",
       "    </tr>\n",
       "    <tr>\n",
       "      <th>146</th>\n",
       "      <td>28.57</td>\n",
       "      <td>25.523117</td>\n",
       "    </tr>\n",
       "    <tr>\n",
       "      <th>151</th>\n",
       "      <td>49.94</td>\n",
       "      <td>62.467705</td>\n",
       "    </tr>\n",
       "    <tr>\n",
       "      <th>156</th>\n",
       "      <td>0.00</td>\n",
       "      <td>88.892059</td>\n",
       "    </tr>\n",
       "    <tr>\n",
       "      <th>164</th>\n",
       "      <td>35.18</td>\n",
       "      <td>30.642160</td>\n",
       "    </tr>\n",
       "    <tr>\n",
       "      <th>...</th>\n",
       "      <td>...</td>\n",
       "      <td>...</td>\n",
       "    </tr>\n",
       "    <tr>\n",
       "      <th>76108</th>\n",
       "      <td>114.65</td>\n",
       "      <td>54.792862</td>\n",
       "    </tr>\n",
       "    <tr>\n",
       "      <th>76113</th>\n",
       "      <td>20.15</td>\n",
       "      <td>30.527393</td>\n",
       "    </tr>\n",
       "    <tr>\n",
       "      <th>76117</th>\n",
       "      <td>107.08</td>\n",
       "      <td>69.978996</td>\n",
       "    </tr>\n",
       "    <tr>\n",
       "      <th>76122</th>\n",
       "      <td>0.00</td>\n",
       "      <td>28.490530</td>\n",
       "    </tr>\n",
       "    <tr>\n",
       "      <th>76136</th>\n",
       "      <td>13.97</td>\n",
       "      <td>102.899879</td>\n",
       "    </tr>\n",
       "    <tr>\n",
       "      <th>76141</th>\n",
       "      <td>0.00</td>\n",
       "      <td>55.316193</td>\n",
       "    </tr>\n",
       "    <tr>\n",
       "      <th>76145</th>\n",
       "      <td>28.64</td>\n",
       "      <td>7.725145</td>\n",
       "    </tr>\n",
       "    <tr>\n",
       "      <th>76151</th>\n",
       "      <td>22.61</td>\n",
       "      <td>28.479389</td>\n",
       "    </tr>\n",
       "    <tr>\n",
       "      <th>76156</th>\n",
       "      <td>24.66</td>\n",
       "      <td>22.449810</td>\n",
       "    </tr>\n",
       "    <tr>\n",
       "      <th>76161</th>\n",
       "      <td>46.32</td>\n",
       "      <td>64.964462</td>\n",
       "    </tr>\n",
       "    <tr>\n",
       "      <th>76165</th>\n",
       "      <td>147.68</td>\n",
       "      <td>112.902748</td>\n",
       "    </tr>\n",
       "    <tr>\n",
       "      <th>76169</th>\n",
       "      <td>0.00</td>\n",
       "      <td>7.221923</td>\n",
       "    </tr>\n",
       "    <tr>\n",
       "      <th>76174</th>\n",
       "      <td>47.47</td>\n",
       "      <td>45.595917</td>\n",
       "    </tr>\n",
       "    <tr>\n",
       "      <th>76180</th>\n",
       "      <td>9.55</td>\n",
       "      <td>100.420723</td>\n",
       "    </tr>\n",
       "    <tr>\n",
       "      <th>76185</th>\n",
       "      <td>112.00</td>\n",
       "      <td>180.157211</td>\n",
       "    </tr>\n",
       "    <tr>\n",
       "      <th>76194</th>\n",
       "      <td>0.00</td>\n",
       "      <td>15.429646</td>\n",
       "    </tr>\n",
       "    <tr>\n",
       "      <th>76198</th>\n",
       "      <td>19.28</td>\n",
       "      <td>58.211201</td>\n",
       "    </tr>\n",
       "    <tr>\n",
       "      <th>76206</th>\n",
       "      <td>50.68</td>\n",
       "      <td>20.104063</td>\n",
       "    </tr>\n",
       "    <tr>\n",
       "      <th>76211</th>\n",
       "      <td>0.00</td>\n",
       "      <td>6.797602</td>\n",
       "    </tr>\n",
       "    <tr>\n",
       "      <th>76214</th>\n",
       "      <td>38.76</td>\n",
       "      <td>37.637310</td>\n",
       "    </tr>\n",
       "    <tr>\n",
       "      <th>76219</th>\n",
       "      <td>19.60</td>\n",
       "      <td>36.100418</td>\n",
       "    </tr>\n",
       "    <tr>\n",
       "      <th>76225</th>\n",
       "      <td>13.32</td>\n",
       "      <td>30.384930</td>\n",
       "    </tr>\n",
       "    <tr>\n",
       "      <th>76230</th>\n",
       "      <td>98.61</td>\n",
       "      <td>47.777008</td>\n",
       "    </tr>\n",
       "    <tr>\n",
       "      <th>76236</th>\n",
       "      <td>9.97</td>\n",
       "      <td>0.793957</td>\n",
       "    </tr>\n",
       "    <tr>\n",
       "      <th>76250</th>\n",
       "      <td>85.40</td>\n",
       "      <td>51.483627</td>\n",
       "    </tr>\n",
       "    <tr>\n",
       "      <th>76256</th>\n",
       "      <td>430.14</td>\n",
       "      <td>47.953693</td>\n",
       "    </tr>\n",
       "    <tr>\n",
       "      <th>76261</th>\n",
       "      <td>10.09</td>\n",
       "      <td>35.645363</td>\n",
       "    </tr>\n",
       "    <tr>\n",
       "      <th>76264</th>\n",
       "      <td>8.09</td>\n",
       "      <td>11.877649</td>\n",
       "    </tr>\n",
       "    <tr>\n",
       "      <th>76269</th>\n",
       "      <td>26.13</td>\n",
       "      <td>34.852634</td>\n",
       "    </tr>\n",
       "    <tr>\n",
       "      <th>76274</th>\n",
       "      <td>79.77</td>\n",
       "      <td>77.204239</td>\n",
       "    </tr>\n",
       "  </tbody>\n",
       "</table>\n",
       "<p>12778 rows × 2 columns</p>\n",
       "</div>"
      ],
      "text/plain": [
       "         true        pred\n",
       "2       41.51   54.665493\n",
       "10      40.08   27.050095\n",
       "15      41.10   59.180218\n",
       "19      69.19   78.951828\n",
       "24      22.45  322.612152\n",
       "29       6.59   80.070244\n",
       "36     133.12   53.048153\n",
       "41      10.65   13.545486\n",
       "45      81.39  172.437469\n",
       "50       0.00   -1.582555\n",
       "54       8.73    3.509309\n",
       "60      21.35   59.810829\n",
       "66      24.69  126.621941\n",
       "71      28.04   24.664856\n",
       "76       4.65    8.220812\n",
       "82       5.10   12.883729\n",
       "87     106.98   62.490982\n",
       "93       1.32   -1.161554\n",
       "103      2.51   -0.506450\n",
       "109     53.21   42.961407\n",
       "114      9.51    5.960227\n",
       "119    130.25   56.113110\n",
       "133     83.15   50.284744\n",
       "136    105.63   57.192600\n",
       "140      3.89    2.253789\n",
       "143     11.90    5.670835\n",
       "146     28.57   25.523117\n",
       "151     49.94   62.467705\n",
       "156      0.00   88.892059\n",
       "164     35.18   30.642160\n",
       "...       ...         ...\n",
       "76108  114.65   54.792862\n",
       "76113   20.15   30.527393\n",
       "76117  107.08   69.978996\n",
       "76122    0.00   28.490530\n",
       "76136   13.97  102.899879\n",
       "76141    0.00   55.316193\n",
       "76145   28.64    7.725145\n",
       "76151   22.61   28.479389\n",
       "76156   24.66   22.449810\n",
       "76161   46.32   64.964462\n",
       "76165  147.68  112.902748\n",
       "76169    0.00    7.221923\n",
       "76174   47.47   45.595917\n",
       "76180    9.55  100.420723\n",
       "76185  112.00  180.157211\n",
       "76194    0.00   15.429646\n",
       "76198   19.28   58.211201\n",
       "76206   50.68   20.104063\n",
       "76211    0.00    6.797602\n",
       "76214   38.76   37.637310\n",
       "76219   19.60   36.100418\n",
       "76225   13.32   30.384930\n",
       "76230   98.61   47.777008\n",
       "76236    9.97    0.793957\n",
       "76250   85.40   51.483627\n",
       "76256  430.14   47.953693\n",
       "76261   10.09   35.645363\n",
       "76264    8.09   11.877649\n",
       "76269   26.13   34.852634\n",
       "76274   79.77   77.204239\n",
       "\n",
       "[12778 rows x 2 columns]"
      ]
     },
     "execution_count": 86,
     "metadata": {},
     "output_type": "execute_result"
    }
   ],
   "source": [
    "test_res = pd.DataFrame(columns=['true', 'pred'])\n",
    "test_res['true'] = y_test\n",
    "test_res['pred'] = y_test_pred\n",
    "test_res"
   ]
  },
  {
   "cell_type": "code",
   "execution_count": 87,
   "metadata": {
    "collapsed": false,
    "scrolled": true
   },
   "outputs": [
    {
     "data": {
      "text/plain": [
       "<matplotlib.axes._subplots.AxesSubplot at 0x7fe09c86f390>"
      ]
     },
     "execution_count": 87,
     "metadata": {},
     "output_type": "execute_result"
    },
    {
     "data": {
      "image/png": "[encoded data removed]",
      "text/plain": [
       "<Figure size 432x288 with 1 Axes>"
      ]
     },
     "metadata": {
      "needs_background": "dark"
     },
     "output_type": "display_data"
    }
   ],
   "source": [
    "test_res.sort_values(by='true').plot(style='.')"
   ]
  },
  {
   "cell_type": "code",
   "execution_count": 88,
   "metadata": {
    "collapsed": false
   },
   "outputs": [
    {
     "data": {
      "text/plain": [
       "<matplotlib.axes._subplots.AxesSubplot at 0x7fe0a7236160>"
      ]
     },
     "execution_count": 88,
     "metadata": {},
     "output_type": "execute_result"
    },
    {
     "data": {
      "image/png": "[encoded data removed]",
      "text/plain": [
       "<Figure size 432x288 with 1 Axes>"
      ]
     },
     "metadata": {
      "needs_background": "dark"
     },
     "output_type": "display_data"
    }
   ],
   "source": [
    "((test_res.pred - test_res.true) / test_res.true).abs().sort_values().reset_index(drop=True).plot()"
   ]
  },
  {
   "cell_type": "code",
   "execution_count": 89,
   "metadata": {
    "collapsed": false
   },
   "outputs": [],
   "source": [
    "relative_error = ((test_res.pred - test_res.true) / test_res.true).abs()"
   ]
  },
  {
   "cell_type": "code",
   "execution_count": 90,
   "metadata": {
    "collapsed": false
   },
   "outputs": [
    {
     "data": {
      "text/plain": [
       "977"
      ]
     },
     "execution_count": 90,
     "metadata": {},
     "output_type": "execute_result"
    }
   ],
   "source": [
    "(relative_error == np.inf).sum()"
   ]
  },
  {
   "cell_type": "code",
   "execution_count": 91,
   "metadata": {
    "collapsed": false
   },
   "outputs": [
    {
     "data": {
      "text/plain": [
       "1.6785341469222463"
      ]
     },
     "execution_count": 91,
     "metadata": {},
     "output_type": "execute_result"
    }
   ],
   "source": [
    "relative_error[np.isfinite(relative_error)].mean()"
   ]
  },
  {
   "cell_type": "markdown",
   "metadata": {},
   "source": [
    "### Let's pick a user and decide which would be the most profitable offer we can send them."
   ]
  },
  {
   "cell_type": "code",
   "execution_count": 92,
   "metadata": {
    "collapsed": false
   },
   "outputs": [
    {
     "name": "stdout",
     "output_type": "stream",
     "text": [
      "Basic preprocessing\n",
      "CPU times: user 1.84 s, sys: 52 ms, total: 1.9 s\n",
      "Wall time: 1.91 s\n"
     ]
    }
   ],
   "source": [
    "# Read the data\n",
    "portfolio = pd.read_json(os.path.join(DATA_RAW, 'portfolio.json'), orient='records', lines=True)\n",
    "profile = pd.read_json(os.path.join(DATA_RAW, 'profile.json'), orient='records', lines=True)\n",
    "transcript = pd.read_json(os.path.join(DATA_RAW, 'transcript.json'), orient='records', lines=True)\n",
    "\n",
    "# Basic Preprocessing\n",
    "print('Basic preprocessing')\n",
    "%time _, portfolio = pp.basic_preprocessing(portfolio, profile, transcript)"
   ]
  },
  {
   "cell_type": "code",
   "execution_count": 93,
   "metadata": {
    "collapsed": false
   },
   "outputs": [],
   "source": [
    "def predict_profit_with_offer(model, data, offer, drop_offer_id=False):\n",
    "    \"\"\" Predicts how much will be the profit in 10 days for a given an offer. \"\"\"\n",
    "    samples = data.copy()\n",
    "    if drop_offer_id:\n",
    "        std_offer = offer.drop('id').rename(index={'reward': 'reward_t'})\n",
    "    else:\n",
    "        std_offer = offer.rename(index={'reward': 'reward_t', 'id': 'offer_id'})\n",
    "    samples.loc[:, std_offer.index] = np.repeat(std_offer.values.reshape(1, -1), samples.shape[0], axis=0)\n",
    "    \n",
    "    return pd.Series(model.predict(samples), name=offer.id).T"
   ]
  },
  {
   "cell_type": "code",
   "execution_count": 94,
   "metadata": {
    "collapsed": false
   },
   "outputs": [
    {
     "data": {
      "text/plain": [
       "0     57.744038\n",
       "1     27.050865\n",
       "2     59.180218\n",
       "3     82.856621\n",
       "4    301.559845\n",
       "Name: 4d5c57ea9a6940dd891ad53e9dbe8da0, dtype: float32"
      ]
     },
     "execution_count": 94,
     "metadata": {},
     "output_type": "execute_result"
    }
   ],
   "source": [
    "predict_profit_with_offer(model, X_test, portfolio.iloc[1]).head()"
   ]
  },
  {
   "cell_type": "code",
   "execution_count": 95,
   "metadata": {
    "collapsed": false
   },
   "outputs": [
    {
     "data": {
      "text/html": [
       "<div>\n",
       "<style scoped>\n",
       "    .dataframe tbody tr th:only-of-type {\n",
       "        vertical-align: middle;\n",
       "    }\n",
       "\n",
       "    .dataframe tbody tr th {\n",
       "        vertical-align: top;\n",
       "    }\n",
       "\n",
       "    .dataframe thead th {\n",
       "        text-align: right;\n",
       "    }\n",
       "</style>\n",
       "<table border=\"1\" class=\"dataframe\">\n",
       "  <thead>\n",
       "    <tr style=\"text-align: right;\">\n",
       "      <th></th>\n",
       "      <th>difficulty</th>\n",
       "      <th>duration</th>\n",
       "      <th>id</th>\n",
       "      <th>offer_type</th>\n",
       "      <th>reward</th>\n",
       "      <th>channel_email</th>\n",
       "      <th>channel_web</th>\n",
       "      <th>channel_social</th>\n",
       "      <th>channel_mobile</th>\n",
       "    </tr>\n",
       "  </thead>\n",
       "  <tbody>\n",
       "    <tr>\n",
       "      <th>0</th>\n",
       "      <td>10</td>\n",
       "      <td>7</td>\n",
       "      <td>ae264e3637204a6fb9bb56bc8210ddfd</td>\n",
       "      <td>bogo</td>\n",
       "      <td>10</td>\n",
       "      <td>1</td>\n",
       "      <td>0</td>\n",
       "      <td>1</td>\n",
       "      <td>1</td>\n",
       "    </tr>\n",
       "    <tr>\n",
       "      <th>1</th>\n",
       "      <td>10</td>\n",
       "      <td>5</td>\n",
       "      <td>4d5c57ea9a6940dd891ad53e9dbe8da0</td>\n",
       "      <td>bogo</td>\n",
       "      <td>10</td>\n",
       "      <td>1</td>\n",
       "      <td>1</td>\n",
       "      <td>1</td>\n",
       "      <td>1</td>\n",
       "    </tr>\n",
       "    <tr>\n",
       "      <th>2</th>\n",
       "      <td>0</td>\n",
       "      <td>4</td>\n",
       "      <td>3f207df678b143eea3cee63160fa8bed</td>\n",
       "      <td>informational</td>\n",
       "      <td>0</td>\n",
       "      <td>1</td>\n",
       "      <td>1</td>\n",
       "      <td>0</td>\n",
       "      <td>1</td>\n",
       "    </tr>\n",
       "    <tr>\n",
       "      <th>3</th>\n",
       "      <td>5</td>\n",
       "      <td>7</td>\n",
       "      <td>9b98b8c7a33c4b65b9aebfe6a799e6d9</td>\n",
       "      <td>bogo</td>\n",
       "      <td>5</td>\n",
       "      <td>1</td>\n",
       "      <td>1</td>\n",
       "      <td>0</td>\n",
       "      <td>1</td>\n",
       "    </tr>\n",
       "    <tr>\n",
       "      <th>4</th>\n",
       "      <td>20</td>\n",
       "      <td>10</td>\n",
       "      <td>0b1e1539f2cc45b7b9fa7c272da2e1d7</td>\n",
       "      <td>discount</td>\n",
       "      <td>5</td>\n",
       "      <td>1</td>\n",
       "      <td>1</td>\n",
       "      <td>0</td>\n",
       "      <td>0</td>\n",
       "    </tr>\n",
       "    <tr>\n",
       "      <th>5</th>\n",
       "      <td>7</td>\n",
       "      <td>7</td>\n",
       "      <td>2298d6c36e964ae4a3e7e9706d1fb8c2</td>\n",
       "      <td>discount</td>\n",
       "      <td>3</td>\n",
       "      <td>1</td>\n",
       "      <td>1</td>\n",
       "      <td>1</td>\n",
       "      <td>1</td>\n",
       "    </tr>\n",
       "    <tr>\n",
       "      <th>6</th>\n",
       "      <td>10</td>\n",
       "      <td>10</td>\n",
       "      <td>fafdcd668e3743c1bb461111dcafc2a4</td>\n",
       "      <td>discount</td>\n",
       "      <td>2</td>\n",
       "      <td>1</td>\n",
       "      <td>1</td>\n",
       "      <td>1</td>\n",
       "      <td>1</td>\n",
       "    </tr>\n",
       "    <tr>\n",
       "      <th>7</th>\n",
       "      <td>0</td>\n",
       "      <td>3</td>\n",
       "      <td>5a8bc65990b245e5a138643cd4eb9837</td>\n",
       "      <td>informational</td>\n",
       "      <td>0</td>\n",
       "      <td>1</td>\n",
       "      <td>0</td>\n",
       "      <td>1</td>\n",
       "      <td>1</td>\n",
       "    </tr>\n",
       "    <tr>\n",
       "      <th>8</th>\n",
       "      <td>5</td>\n",
       "      <td>5</td>\n",
       "      <td>f19421c1d4aa40978ebb69ca19b0e20d</td>\n",
       "      <td>bogo</td>\n",
       "      <td>5</td>\n",
       "      <td>1</td>\n",
       "      <td>1</td>\n",
       "      <td>1</td>\n",
       "      <td>1</td>\n",
       "    </tr>\n",
       "    <tr>\n",
       "      <th>9</th>\n",
       "      <td>10</td>\n",
       "      <td>7</td>\n",
       "      <td>2906b810c7d4411798c6938adc9daaa5</td>\n",
       "      <td>discount</td>\n",
       "      <td>2</td>\n",
       "      <td>1</td>\n",
       "      <td>1</td>\n",
       "      <td>0</td>\n",
       "      <td>1</td>\n",
       "    </tr>\n",
       "  </tbody>\n",
       "</table>\n",
       "</div>"
      ],
      "text/plain": [
       "   difficulty  duration                                id     offer_type  \\\n",
       "0          10         7  ae264e3637204a6fb9bb56bc8210ddfd           bogo   \n",
       "1          10         5  4d5c57ea9a6940dd891ad53e9dbe8da0           bogo   \n",
       "2           0         4  3f207df678b143eea3cee63160fa8bed  informational   \n",
       "3           5         7  9b98b8c7a33c4b65b9aebfe6a799e6d9           bogo   \n",
       "4          20        10  0b1e1539f2cc45b7b9fa7c272da2e1d7       discount   \n",
       "5           7         7  2298d6c36e964ae4a3e7e9706d1fb8c2       discount   \n",
       "6          10        10  fafdcd668e3743c1bb461111dcafc2a4       discount   \n",
       "7           0         3  5a8bc65990b245e5a138643cd4eb9837  informational   \n",
       "8           5         5  f19421c1d4aa40978ebb69ca19b0e20d           bogo   \n",
       "9          10         7  2906b810c7d4411798c6938adc9daaa5       discount   \n",
       "\n",
       "   reward  channel_email  channel_web  channel_social  channel_mobile  \n",
       "0      10              1            0               1               1  \n",
       "1      10              1            1               1               1  \n",
       "2       0              1            1               0               1  \n",
       "3       5              1            1               0               1  \n",
       "4       5              1            1               0               0  \n",
       "5       3              1            1               1               1  \n",
       "6       2              1            1               1               1  \n",
       "7       0              1            0               1               1  \n",
       "8       5              1            1               1               1  \n",
       "9       2              1            1               0               1  "
      ]
     },
     "execution_count": 95,
     "metadata": {},
     "output_type": "execute_result"
    }
   ],
   "source": [
    "portfolio"
   ]
  },
  {
   "cell_type": "code",
   "execution_count": 96,
   "metadata": {
    "collapsed": false
   },
   "outputs": [
    {
     "data": {
      "text/html": [
       "<div>\n",
       "<style scoped>\n",
       "    .dataframe tbody tr th:only-of-type {\n",
       "        vertical-align: middle;\n",
       "    }\n",
       "\n",
       "    .dataframe tbody tr th {\n",
       "        vertical-align: top;\n",
       "    }\n",
       "\n",
       "    .dataframe thead th {\n",
       "        text-align: right;\n",
       "    }\n",
       "</style>\n",
       "<table border=\"1\" class=\"dataframe\">\n",
       "  <thead>\n",
       "    <tr style=\"text-align: right;\">\n",
       "      <th></th>\n",
       "      <th>difficulty</th>\n",
       "      <th>duration</th>\n",
       "      <th>id</th>\n",
       "      <th>offer_type</th>\n",
       "      <th>reward</th>\n",
       "      <th>channel_email</th>\n",
       "      <th>channel_web</th>\n",
       "      <th>channel_social</th>\n",
       "      <th>channel_mobile</th>\n",
       "    </tr>\n",
       "  </thead>\n",
       "  <tbody>\n",
       "    <tr>\n",
       "      <th>0</th>\n",
       "      <td>10</td>\n",
       "      <td>7</td>\n",
       "      <td>ae264e3637204a6fb9bb56bc8210ddfd</td>\n",
       "      <td>bogo</td>\n",
       "      <td>10</td>\n",
       "      <td>1</td>\n",
       "      <td>0</td>\n",
       "      <td>1</td>\n",
       "      <td>1</td>\n",
       "    </tr>\n",
       "    <tr>\n",
       "      <th>1</th>\n",
       "      <td>10</td>\n",
       "      <td>5</td>\n",
       "      <td>4d5c57ea9a6940dd891ad53e9dbe8da0</td>\n",
       "      <td>bogo</td>\n",
       "      <td>10</td>\n",
       "      <td>1</td>\n",
       "      <td>1</td>\n",
       "      <td>1</td>\n",
       "      <td>1</td>\n",
       "    </tr>\n",
       "    <tr>\n",
       "      <th>2</th>\n",
       "      <td>0</td>\n",
       "      <td>4</td>\n",
       "      <td>3f207df678b143eea3cee63160fa8bed</td>\n",
       "      <td>informational</td>\n",
       "      <td>0</td>\n",
       "      <td>1</td>\n",
       "      <td>1</td>\n",
       "      <td>0</td>\n",
       "      <td>1</td>\n",
       "    </tr>\n",
       "    <tr>\n",
       "      <th>3</th>\n",
       "      <td>5</td>\n",
       "      <td>7</td>\n",
       "      <td>9b98b8c7a33c4b65b9aebfe6a799e6d9</td>\n",
       "      <td>bogo</td>\n",
       "      <td>5</td>\n",
       "      <td>1</td>\n",
       "      <td>1</td>\n",
       "      <td>0</td>\n",
       "      <td>1</td>\n",
       "    </tr>\n",
       "    <tr>\n",
       "      <th>4</th>\n",
       "      <td>20</td>\n",
       "      <td>10</td>\n",
       "      <td>0b1e1539f2cc45b7b9fa7c272da2e1d7</td>\n",
       "      <td>discount</td>\n",
       "      <td>5</td>\n",
       "      <td>1</td>\n",
       "      <td>1</td>\n",
       "      <td>0</td>\n",
       "      <td>0</td>\n",
       "    </tr>\n",
       "    <tr>\n",
       "      <th>5</th>\n",
       "      <td>7</td>\n",
       "      <td>7</td>\n",
       "      <td>2298d6c36e964ae4a3e7e9706d1fb8c2</td>\n",
       "      <td>discount</td>\n",
       "      <td>3</td>\n",
       "      <td>1</td>\n",
       "      <td>1</td>\n",
       "      <td>1</td>\n",
       "      <td>1</td>\n",
       "    </tr>\n",
       "    <tr>\n",
       "      <th>6</th>\n",
       "      <td>10</td>\n",
       "      <td>10</td>\n",
       "      <td>fafdcd668e3743c1bb461111dcafc2a4</td>\n",
       "      <td>discount</td>\n",
       "      <td>2</td>\n",
       "      <td>1</td>\n",
       "      <td>1</td>\n",
       "      <td>1</td>\n",
       "      <td>1</td>\n",
       "    </tr>\n",
       "    <tr>\n",
       "      <th>7</th>\n",
       "      <td>0</td>\n",
       "      <td>3</td>\n",
       "      <td>5a8bc65990b245e5a138643cd4eb9837</td>\n",
       "      <td>informational</td>\n",
       "      <td>0</td>\n",
       "      <td>1</td>\n",
       "      <td>0</td>\n",
       "      <td>1</td>\n",
       "      <td>1</td>\n",
       "    </tr>\n",
       "    <tr>\n",
       "      <th>8</th>\n",
       "      <td>5</td>\n",
       "      <td>5</td>\n",
       "      <td>f19421c1d4aa40978ebb69ca19b0e20d</td>\n",
       "      <td>bogo</td>\n",
       "      <td>5</td>\n",
       "      <td>1</td>\n",
       "      <td>1</td>\n",
       "      <td>1</td>\n",
       "      <td>1</td>\n",
       "    </tr>\n",
       "    <tr>\n",
       "      <th>9</th>\n",
       "      <td>10</td>\n",
       "      <td>7</td>\n",
       "      <td>2906b810c7d4411798c6938adc9daaa5</td>\n",
       "      <td>discount</td>\n",
       "      <td>2</td>\n",
       "      <td>1</td>\n",
       "      <td>1</td>\n",
       "      <td>0</td>\n",
       "      <td>1</td>\n",
       "    </tr>\n",
       "    <tr>\n",
       "      <th>10</th>\n",
       "      <td>0</td>\n",
       "      <td>0</td>\n",
       "      <td>no_offer</td>\n",
       "      <td>no_offer</td>\n",
       "      <td>0</td>\n",
       "      <td>0</td>\n",
       "      <td>0</td>\n",
       "      <td>0</td>\n",
       "      <td>0</td>\n",
       "    </tr>\n",
       "  </tbody>\n",
       "</table>\n",
       "</div>"
      ],
      "text/plain": [
       "    difficulty  duration                                id     offer_type  \\\n",
       "0           10         7  ae264e3637204a6fb9bb56bc8210ddfd           bogo   \n",
       "1           10         5  4d5c57ea9a6940dd891ad53e9dbe8da0           bogo   \n",
       "2            0         4  3f207df678b143eea3cee63160fa8bed  informational   \n",
       "3            5         7  9b98b8c7a33c4b65b9aebfe6a799e6d9           bogo   \n",
       "4           20        10  0b1e1539f2cc45b7b9fa7c272da2e1d7       discount   \n",
       "5            7         7  2298d6c36e964ae4a3e7e9706d1fb8c2       discount   \n",
       "6           10        10  fafdcd668e3743c1bb461111dcafc2a4       discount   \n",
       "7            0         3  5a8bc65990b245e5a138643cd4eb9837  informational   \n",
       "8            5         5  f19421c1d4aa40978ebb69ca19b0e20d           bogo   \n",
       "9           10         7  2906b810c7d4411798c6938adc9daaa5       discount   \n",
       "10           0         0                          no_offer       no_offer   \n",
       "\n",
       "    reward  channel_email  channel_web  channel_social  channel_mobile  \n",
       "0       10              1            0               1               1  \n",
       "1       10              1            1               1               1  \n",
       "2        0              1            1               0               1  \n",
       "3        5              1            1               0               1  \n",
       "4        5              1            1               0               0  \n",
       "5        3              1            1               1               1  \n",
       "6        2              1            1               1               1  \n",
       "7        0              1            0               1               1  \n",
       "8        5              1            1               1               1  \n",
       "9        2              1            1               0               1  \n",
       "10       0              0            0               0               0  "
      ]
     },
     "execution_count": 96,
     "metadata": {},
     "output_type": "execute_result"
    }
   ],
   "source": [
    "complete_portfolio = portfolio.copy()\n",
    "null_offer = pd.Series([0, 0, 'no_offer', 'no_offer', 0, 0, 0, 0, 0],\n",
    "                       index=complete_portfolio.columns, name=complete_portfolio.shape[0])\n",
    "complete_portfolio = complete_portfolio.append(null_offer)\n",
    "complete_portfolio"
   ]
  },
  {
   "cell_type": "code",
   "execution_count": 97,
   "metadata": {
    "collapsed": false
   },
   "outputs": [
    {
     "data": {
      "text/plain": [
       "(12778, 11)"
      ]
     },
     "execution_count": 97,
     "metadata": {},
     "output_type": "execute_result"
    }
   ],
   "source": [
    "res = complete_portfolio.apply(lambda x: predict_profit_with_offer(model, X_test, x), axis=1).T\n",
    "res.columns = complete_portfolio.id\n",
    "res.shape"
   ]
  },
  {
   "cell_type": "code",
   "execution_count": 98,
   "metadata": {
    "collapsed": false
   },
   "outputs": [
    {
     "data": {
      "text/html": [
       "<div>\n",
       "<style scoped>\n",
       "    .dataframe tbody tr th:only-of-type {\n",
       "        vertical-align: middle;\n",
       "    }\n",
       "\n",
       "    .dataframe tbody tr th {\n",
       "        vertical-align: top;\n",
       "    }\n",
       "\n",
       "    .dataframe thead th {\n",
       "        text-align: right;\n",
       "    }\n",
       "</style>\n",
       "<table border=\"1\" class=\"dataframe\">\n",
       "  <thead>\n",
       "    <tr style=\"text-align: right;\">\n",
       "      <th>id</th>\n",
       "      <th>ae264e3637204a6fb9bb56bc8210ddfd</th>\n",
       "      <th>4d5c57ea9a6940dd891ad53e9dbe8da0</th>\n",
       "      <th>3f207df678b143eea3cee63160fa8bed</th>\n",
       "      <th>9b98b8c7a33c4b65b9aebfe6a799e6d9</th>\n",
       "      <th>0b1e1539f2cc45b7b9fa7c272da2e1d7</th>\n",
       "      <th>2298d6c36e964ae4a3e7e9706d1fb8c2</th>\n",
       "      <th>fafdcd668e3743c1bb461111dcafc2a4</th>\n",
       "      <th>5a8bc65990b245e5a138643cd4eb9837</th>\n",
       "      <th>f19421c1d4aa40978ebb69ca19b0e20d</th>\n",
       "      <th>2906b810c7d4411798c6938adc9daaa5</th>\n",
       "      <th>no_offer</th>\n",
       "    </tr>\n",
       "  </thead>\n",
       "  <tbody>\n",
       "    <tr>\n",
       "      <th>0</th>\n",
       "      <td>59.923771</td>\n",
       "      <td>57.744038</td>\n",
       "      <td>57.885956</td>\n",
       "      <td>58.447914</td>\n",
       "      <td>51.636711</td>\n",
       "      <td>61.231846</td>\n",
       "      <td>72.611969</td>\n",
       "      <td>56.613430</td>\n",
       "      <td>59.576782</td>\n",
       "      <td>61.571346</td>\n",
       "      <td>54.665493</td>\n",
       "    </tr>\n",
       "    <tr>\n",
       "      <th>1</th>\n",
       "      <td>29.299978</td>\n",
       "      <td>27.050865</td>\n",
       "      <td>27.952295</td>\n",
       "      <td>27.852968</td>\n",
       "      <td>27.050095</td>\n",
       "      <td>30.829229</td>\n",
       "      <td>31.758692</td>\n",
       "      <td>27.742893</td>\n",
       "      <td>26.126263</td>\n",
       "      <td>30.258268</td>\n",
       "      <td>24.433041</td>\n",
       "    </tr>\n",
       "    <tr>\n",
       "      <th>2</th>\n",
       "      <td>78.143867</td>\n",
       "      <td>59.180218</td>\n",
       "      <td>55.549427</td>\n",
       "      <td>79.556061</td>\n",
       "      <td>76.171860</td>\n",
       "      <td>90.224014</td>\n",
       "      <td>97.882851</td>\n",
       "      <td>52.247471</td>\n",
       "      <td>57.893326</td>\n",
       "      <td>94.065384</td>\n",
       "      <td>51.370468</td>\n",
       "    </tr>\n",
       "    <tr>\n",
       "      <th>3</th>\n",
       "      <td>87.960724</td>\n",
       "      <td>82.856621</td>\n",
       "      <td>83.295197</td>\n",
       "      <td>85.786064</td>\n",
       "      <td>83.954575</td>\n",
       "      <td>88.580734</td>\n",
       "      <td>102.799843</td>\n",
       "      <td>78.951828</td>\n",
       "      <td>85.378067</td>\n",
       "      <td>88.786865</td>\n",
       "      <td>79.838615</td>\n",
       "    </tr>\n",
       "    <tr>\n",
       "      <th>4</th>\n",
       "      <td>315.074432</td>\n",
       "      <td>301.559845</td>\n",
       "      <td>304.616119</td>\n",
       "      <td>313.316132</td>\n",
       "      <td>313.829376</td>\n",
       "      <td>324.230927</td>\n",
       "      <td>322.612152</td>\n",
       "      <td>302.449310</td>\n",
       "      <td>301.264374</td>\n",
       "      <td>326.370880</td>\n",
       "      <td>303.462372</td>\n",
       "    </tr>\n",
       "  </tbody>\n",
       "</table>\n",
       "</div>"
      ],
      "text/plain": [
       "id  ae264e3637204a6fb9bb56bc8210ddfd  4d5c57ea9a6940dd891ad53e9dbe8da0  \\\n",
       "0                          59.923771                         57.744038   \n",
       "1                          29.299978                         27.050865   \n",
       "2                          78.143867                         59.180218   \n",
       "3                          87.960724                         82.856621   \n",
       "4                         315.074432                        301.559845   \n",
       "\n",
       "id  3f207df678b143eea3cee63160fa8bed  9b98b8c7a33c4b65b9aebfe6a799e6d9  \\\n",
       "0                          57.885956                         58.447914   \n",
       "1                          27.952295                         27.852968   \n",
       "2                          55.549427                         79.556061   \n",
       "3                          83.295197                         85.786064   \n",
       "4                         304.616119                        313.316132   \n",
       "\n",
       "id  0b1e1539f2cc45b7b9fa7c272da2e1d7  2298d6c36e964ae4a3e7e9706d1fb8c2  \\\n",
       "0                          51.636711                         61.231846   \n",
       "1                          27.050095                         30.829229   \n",
       "2                          76.171860                         90.224014   \n",
       "3                          83.954575                         88.580734   \n",
       "4                         313.829376                        324.230927   \n",
       "\n",
       "id  fafdcd668e3743c1bb461111dcafc2a4  5a8bc65990b245e5a138643cd4eb9837  \\\n",
       "0                          72.611969                         56.613430   \n",
       "1                          31.758692                         27.742893   \n",
       "2                          97.882851                         52.247471   \n",
       "3                         102.799843                         78.951828   \n",
       "4                         322.612152                        302.449310   \n",
       "\n",
       "id  f19421c1d4aa40978ebb69ca19b0e20d  2906b810c7d4411798c6938adc9daaa5  \\\n",
       "0                          59.576782                         61.571346   \n",
       "1                          26.126263                         30.258268   \n",
       "2                          57.893326                         94.065384   \n",
       "3                          85.378067                         88.786865   \n",
       "4                         301.264374                        326.370880   \n",
       "\n",
       "id    no_offer  \n",
       "0    54.665493  \n",
       "1    24.433041  \n",
       "2    51.370468  \n",
       "3    79.838615  \n",
       "4   303.462372  "
      ]
     },
     "execution_count": 98,
     "metadata": {},
     "output_type": "execute_result"
    }
   ],
   "source": [
    "res.head()"
   ]
  },
  {
   "cell_type": "code",
   "execution_count": 99,
   "metadata": {
    "collapsed": false
   },
   "outputs": [
    {
     "data": {
      "text/html": [
       "<div>\n",
       "<style scoped>\n",
       "    .dataframe tbody tr th:only-of-type {\n",
       "        vertical-align: middle;\n",
       "    }\n",
       "\n",
       "    .dataframe tbody tr th {\n",
       "        vertical-align: top;\n",
       "    }\n",
       "\n",
       "    .dataframe thead th {\n",
       "        text-align: right;\n",
       "    }\n",
       "</style>\n",
       "<table border=\"1\" class=\"dataframe\">\n",
       "  <thead>\n",
       "    <tr style=\"text-align: right;\">\n",
       "      <th>id</th>\n",
       "      <th>ae264e3637204a6fb9bb56bc8210ddfd</th>\n",
       "      <th>4d5c57ea9a6940dd891ad53e9dbe8da0</th>\n",
       "      <th>3f207df678b143eea3cee63160fa8bed</th>\n",
       "      <th>9b98b8c7a33c4b65b9aebfe6a799e6d9</th>\n",
       "      <th>0b1e1539f2cc45b7b9fa7c272da2e1d7</th>\n",
       "      <th>2298d6c36e964ae4a3e7e9706d1fb8c2</th>\n",
       "      <th>fafdcd668e3743c1bb461111dcafc2a4</th>\n",
       "      <th>5a8bc65990b245e5a138643cd4eb9837</th>\n",
       "      <th>f19421c1d4aa40978ebb69ca19b0e20d</th>\n",
       "      <th>2906b810c7d4411798c6938adc9daaa5</th>\n",
       "      <th>no_offer</th>\n",
       "    </tr>\n",
       "  </thead>\n",
       "  <tbody>\n",
       "    <tr>\n",
       "      <th>count</th>\n",
       "      <td>12778.000000</td>\n",
       "      <td>12778.000000</td>\n",
       "      <td>12778.000000</td>\n",
       "      <td>12778.000000</td>\n",
       "      <td>12778.000000</td>\n",
       "      <td>12778.000000</td>\n",
       "      <td>12778.000000</td>\n",
       "      <td>12778.000000</td>\n",
       "      <td>12778.000000</td>\n",
       "      <td>12778.000000</td>\n",
       "      <td>12778.000000</td>\n",
       "    </tr>\n",
       "    <tr>\n",
       "      <th>mean</th>\n",
       "      <td>38.896633</td>\n",
       "      <td>35.187294</td>\n",
       "      <td>35.715797</td>\n",
       "      <td>38.873631</td>\n",
       "      <td>37.656544</td>\n",
       "      <td>41.476097</td>\n",
       "      <td>47.801785</td>\n",
       "      <td>33.453823</td>\n",
       "      <td>35.399055</td>\n",
       "      <td>42.912437</td>\n",
       "      <td>32.134007</td>\n",
       "    </tr>\n",
       "    <tr>\n",
       "      <th>std</th>\n",
       "      <td>32.959591</td>\n",
       "      <td>30.168884</td>\n",
       "      <td>26.977859</td>\n",
       "      <td>32.899139</td>\n",
       "      <td>35.346542</td>\n",
       "      <td>32.519054</td>\n",
       "      <td>36.788342</td>\n",
       "      <td>27.233442</td>\n",
       "      <td>30.798534</td>\n",
       "      <td>32.501858</td>\n",
       "      <td>28.127539</td>\n",
       "    </tr>\n",
       "    <tr>\n",
       "      <th>min</th>\n",
       "      <td>-60.426590</td>\n",
       "      <td>-59.903324</td>\n",
       "      <td>-61.552647</td>\n",
       "      <td>-61.234341</td>\n",
       "      <td>-73.917343</td>\n",
       "      <td>-61.771729</td>\n",
       "      <td>-44.771297</td>\n",
       "      <td>-62.319309</td>\n",
       "      <td>-47.651211</td>\n",
       "      <td>-53.316429</td>\n",
       "      <td>-50.244301</td>\n",
       "    </tr>\n",
       "    <tr>\n",
       "      <th>25%</th>\n",
       "      <td>13.307488</td>\n",
       "      <td>12.337021</td>\n",
       "      <td>14.917930</td>\n",
       "      <td>13.348125</td>\n",
       "      <td>10.679637</td>\n",
       "      <td>14.929021</td>\n",
       "      <td>18.174147</td>\n",
       "      <td>13.403819</td>\n",
       "      <td>12.623675</td>\n",
       "      <td>15.962470</td>\n",
       "      <td>11.775452</td>\n",
       "    </tr>\n",
       "    <tr>\n",
       "      <th>50%</th>\n",
       "      <td>33.227303</td>\n",
       "      <td>30.142691</td>\n",
       "      <td>32.976616</td>\n",
       "      <td>32.920315</td>\n",
       "      <td>31.379658</td>\n",
       "      <td>35.665779</td>\n",
       "      <td>40.944969</td>\n",
       "      <td>30.550117</td>\n",
       "      <td>30.195809</td>\n",
       "      <td>37.857756</td>\n",
       "      <td>29.392680</td>\n",
       "    </tr>\n",
       "    <tr>\n",
       "      <th>75%</th>\n",
       "      <td>58.451429</td>\n",
       "      <td>52.088411</td>\n",
       "      <td>50.785118</td>\n",
       "      <td>58.232438</td>\n",
       "      <td>56.369615</td>\n",
       "      <td>62.126810</td>\n",
       "      <td>70.883074</td>\n",
       "      <td>47.482450</td>\n",
       "      <td>52.324559</td>\n",
       "      <td>64.192232</td>\n",
       "      <td>46.184208</td>\n",
       "    </tr>\n",
       "    <tr>\n",
       "      <th>max</th>\n",
       "      <td>513.584106</td>\n",
       "      <td>520.597595</td>\n",
       "      <td>461.134460</td>\n",
       "      <td>529.917297</td>\n",
       "      <td>506.904968</td>\n",
       "      <td>481.815460</td>\n",
       "      <td>514.980591</td>\n",
       "      <td>490.368652</td>\n",
       "      <td>503.861511</td>\n",
       "      <td>483.010773</td>\n",
       "      <td>470.928497</td>\n",
       "    </tr>\n",
       "  </tbody>\n",
       "</table>\n",
       "</div>"
      ],
      "text/plain": [
       "id     ae264e3637204a6fb9bb56bc8210ddfd  4d5c57ea9a6940dd891ad53e9dbe8da0  \\\n",
       "count                      12778.000000                      12778.000000   \n",
       "mean                          38.896633                         35.187294   \n",
       "std                           32.959591                         30.168884   \n",
       "min                          -60.426590                        -59.903324   \n",
       "25%                           13.307488                         12.337021   \n",
       "50%                           33.227303                         30.142691   \n",
       "75%                           58.451429                         52.088411   \n",
       "max                          513.584106                        520.597595   \n",
       "\n",
       "id     3f207df678b143eea3cee63160fa8bed  9b98b8c7a33c4b65b9aebfe6a799e6d9  \\\n",
       "count                      12778.000000                      12778.000000   \n",
       "mean                          35.715797                         38.873631   \n",
       "std                           26.977859                         32.899139   \n",
       "min                          -61.552647                        -61.234341   \n",
       "25%                           14.917930                         13.348125   \n",
       "50%                           32.976616                         32.920315   \n",
       "75%                           50.785118                         58.232438   \n",
       "max                          461.134460                        529.917297   \n",
       "\n",
       "id     0b1e1539f2cc45b7b9fa7c272da2e1d7  2298d6c36e964ae4a3e7e9706d1fb8c2  \\\n",
       "count                      12778.000000                      12778.000000   \n",
       "mean                          37.656544                         41.476097   \n",
       "std                           35.346542                         32.519054   \n",
       "min                          -73.917343                        -61.771729   \n",
       "25%                           10.679637                         14.929021   \n",
       "50%                           31.379658                         35.665779   \n",
       "75%                           56.369615                         62.126810   \n",
       "max                          506.904968                        481.815460   \n",
       "\n",
       "id     fafdcd668e3743c1bb461111dcafc2a4  5a8bc65990b245e5a138643cd4eb9837  \\\n",
       "count                      12778.000000                      12778.000000   \n",
       "mean                          47.801785                         33.453823   \n",
       "std                           36.788342                         27.233442   \n",
       "min                          -44.771297                        -62.319309   \n",
       "25%                           18.174147                         13.403819   \n",
       "50%                           40.944969                         30.550117   \n",
       "75%                           70.883074                         47.482450   \n",
       "max                          514.980591                        490.368652   \n",
       "\n",
       "id     f19421c1d4aa40978ebb69ca19b0e20d  2906b810c7d4411798c6938adc9daaa5  \\\n",
       "count                      12778.000000                      12778.000000   \n",
       "mean                          35.399055                         42.912437   \n",
       "std                           30.798534                         32.501858   \n",
       "min                          -47.651211                        -53.316429   \n",
       "25%                           12.623675                         15.962470   \n",
       "50%                           30.195809                         37.857756   \n",
       "75%                           52.324559                         64.192232   \n",
       "max                          503.861511                        483.010773   \n",
       "\n",
       "id         no_offer  \n",
       "count  12778.000000  \n",
       "mean      32.134007  \n",
       "std       28.127539  \n",
       "min      -50.244301  \n",
       "25%       11.775452  \n",
       "50%       29.392680  \n",
       "75%       46.184208  \n",
       "max      470.928497  "
      ]
     },
     "execution_count": 99,
     "metadata": {},
     "output_type": "execute_result"
    }
   ],
   "source": [
    "res.describe()"
   ]
  },
  {
   "cell_type": "code",
   "execution_count": 100,
   "metadata": {
    "collapsed": false
   },
   "outputs": [
    {
     "data": {
      "text/html": [
       "<div>\n",
       "<style scoped>\n",
       "    .dataframe tbody tr th:only-of-type {\n",
       "        vertical-align: middle;\n",
       "    }\n",
       "\n",
       "    .dataframe tbody tr th {\n",
       "        vertical-align: top;\n",
       "    }\n",
       "\n",
       "    .dataframe thead th {\n",
       "        text-align: right;\n",
       "    }\n",
       "</style>\n",
       "<table border=\"1\" class=\"dataframe\">\n",
       "  <thead>\n",
       "    <tr style=\"text-align: right;\">\n",
       "      <th></th>\n",
       "      <th>index</th>\n",
       "      <th>0</th>\n",
       "      <th>difficulty</th>\n",
       "      <th>duration</th>\n",
       "      <th>id</th>\n",
       "      <th>offer_type</th>\n",
       "      <th>reward</th>\n",
       "      <th>channel_email</th>\n",
       "      <th>channel_web</th>\n",
       "      <th>channel_social</th>\n",
       "      <th>channel_mobile</th>\n",
       "    </tr>\n",
       "  </thead>\n",
       "  <tbody>\n",
       "    <tr>\n",
       "      <th>0</th>\n",
       "      <td>fafdcd668e3743c1bb461111dcafc2a4</td>\n",
       "      <td>8413</td>\n",
       "      <td>10</td>\n",
       "      <td>10</td>\n",
       "      <td>fafdcd668e3743c1bb461111dcafc2a4</td>\n",
       "      <td>discount</td>\n",
       "      <td>2</td>\n",
       "      <td>1</td>\n",
       "      <td>1</td>\n",
       "      <td>1</td>\n",
       "      <td>1</td>\n",
       "    </tr>\n",
       "    <tr>\n",
       "      <th>1</th>\n",
       "      <td>2906b810c7d4411798c6938adc9daaa5</td>\n",
       "      <td>1911</td>\n",
       "      <td>10</td>\n",
       "      <td>7</td>\n",
       "      <td>2906b810c7d4411798c6938adc9daaa5</td>\n",
       "      <td>discount</td>\n",
       "      <td>2</td>\n",
       "      <td>1</td>\n",
       "      <td>1</td>\n",
       "      <td>0</td>\n",
       "      <td>1</td>\n",
       "    </tr>\n",
       "    <tr>\n",
       "      <th>2</th>\n",
       "      <td>0b1e1539f2cc45b7b9fa7c272da2e1d7</td>\n",
       "      <td>656</td>\n",
       "      <td>20</td>\n",
       "      <td>10</td>\n",
       "      <td>0b1e1539f2cc45b7b9fa7c272da2e1d7</td>\n",
       "      <td>discount</td>\n",
       "      <td>5</td>\n",
       "      <td>1</td>\n",
       "      <td>1</td>\n",
       "      <td>0</td>\n",
       "      <td>0</td>\n",
       "    </tr>\n",
       "    <tr>\n",
       "      <th>3</th>\n",
       "      <td>3f207df678b143eea3cee63160fa8bed</td>\n",
       "      <td>582</td>\n",
       "      <td>0</td>\n",
       "      <td>4</td>\n",
       "      <td>3f207df678b143eea3cee63160fa8bed</td>\n",
       "      <td>informational</td>\n",
       "      <td>0</td>\n",
       "      <td>1</td>\n",
       "      <td>1</td>\n",
       "      <td>0</td>\n",
       "      <td>1</td>\n",
       "    </tr>\n",
       "    <tr>\n",
       "      <th>4</th>\n",
       "      <td>2298d6c36e964ae4a3e7e9706d1fb8c2</td>\n",
       "      <td>494</td>\n",
       "      <td>7</td>\n",
       "      <td>7</td>\n",
       "      <td>2298d6c36e964ae4a3e7e9706d1fb8c2</td>\n",
       "      <td>discount</td>\n",
       "      <td>3</td>\n",
       "      <td>1</td>\n",
       "      <td>1</td>\n",
       "      <td>1</td>\n",
       "      <td>1</td>\n",
       "    </tr>\n",
       "    <tr>\n",
       "      <th>5</th>\n",
       "      <td>9b98b8c7a33c4b65b9aebfe6a799e6d9</td>\n",
       "      <td>139</td>\n",
       "      <td>5</td>\n",
       "      <td>7</td>\n",
       "      <td>9b98b8c7a33c4b65b9aebfe6a799e6d9</td>\n",
       "      <td>bogo</td>\n",
       "      <td>5</td>\n",
       "      <td>1</td>\n",
       "      <td>1</td>\n",
       "      <td>0</td>\n",
       "      <td>1</td>\n",
       "    </tr>\n",
       "    <tr>\n",
       "      <th>6</th>\n",
       "      <td>5a8bc65990b245e5a138643cd4eb9837</td>\n",
       "      <td>137</td>\n",
       "      <td>0</td>\n",
       "      <td>3</td>\n",
       "      <td>5a8bc65990b245e5a138643cd4eb9837</td>\n",
       "      <td>informational</td>\n",
       "      <td>0</td>\n",
       "      <td>1</td>\n",
       "      <td>0</td>\n",
       "      <td>1</td>\n",
       "      <td>1</td>\n",
       "    </tr>\n",
       "    <tr>\n",
       "      <th>7</th>\n",
       "      <td>f19421c1d4aa40978ebb69ca19b0e20d</td>\n",
       "      <td>130</td>\n",
       "      <td>5</td>\n",
       "      <td>5</td>\n",
       "      <td>f19421c1d4aa40978ebb69ca19b0e20d</td>\n",
       "      <td>bogo</td>\n",
       "      <td>5</td>\n",
       "      <td>1</td>\n",
       "      <td>1</td>\n",
       "      <td>1</td>\n",
       "      <td>1</td>\n",
       "    </tr>\n",
       "    <tr>\n",
       "      <th>8</th>\n",
       "      <td>ae264e3637204a6fb9bb56bc8210ddfd</td>\n",
       "      <td>99</td>\n",
       "      <td>10</td>\n",
       "      <td>7</td>\n",
       "      <td>ae264e3637204a6fb9bb56bc8210ddfd</td>\n",
       "      <td>bogo</td>\n",
       "      <td>10</td>\n",
       "      <td>1</td>\n",
       "      <td>0</td>\n",
       "      <td>1</td>\n",
       "      <td>1</td>\n",
       "    </tr>\n",
       "    <tr>\n",
       "      <th>9</th>\n",
       "      <td>4d5c57ea9a6940dd891ad53e9dbe8da0</td>\n",
       "      <td>89</td>\n",
       "      <td>10</td>\n",
       "      <td>5</td>\n",
       "      <td>4d5c57ea9a6940dd891ad53e9dbe8da0</td>\n",
       "      <td>bogo</td>\n",
       "      <td>10</td>\n",
       "      <td>1</td>\n",
       "      <td>1</td>\n",
       "      <td>1</td>\n",
       "      <td>1</td>\n",
       "    </tr>\n",
       "  </tbody>\n",
       "</table>\n",
       "</div>"
      ],
      "text/plain": [
       "                              index     0  difficulty  duration  \\\n",
       "0  fafdcd668e3743c1bb461111dcafc2a4  8413          10        10   \n",
       "1  2906b810c7d4411798c6938adc9daaa5  1911          10         7   \n",
       "2  0b1e1539f2cc45b7b9fa7c272da2e1d7   656          20        10   \n",
       "3  3f207df678b143eea3cee63160fa8bed   582           0         4   \n",
       "4  2298d6c36e964ae4a3e7e9706d1fb8c2   494           7         7   \n",
       "5  9b98b8c7a33c4b65b9aebfe6a799e6d9   139           5         7   \n",
       "6  5a8bc65990b245e5a138643cd4eb9837   137           0         3   \n",
       "7  f19421c1d4aa40978ebb69ca19b0e20d   130           5         5   \n",
       "8  ae264e3637204a6fb9bb56bc8210ddfd    99          10         7   \n",
       "9  4d5c57ea9a6940dd891ad53e9dbe8da0    89          10         5   \n",
       "\n",
       "                                 id     offer_type  reward  channel_email  \\\n",
       "0  fafdcd668e3743c1bb461111dcafc2a4       discount       2              1   \n",
       "1  2906b810c7d4411798c6938adc9daaa5       discount       2              1   \n",
       "2  0b1e1539f2cc45b7b9fa7c272da2e1d7       discount       5              1   \n",
       "3  3f207df678b143eea3cee63160fa8bed  informational       0              1   \n",
       "4  2298d6c36e964ae4a3e7e9706d1fb8c2       discount       3              1   \n",
       "5  9b98b8c7a33c4b65b9aebfe6a799e6d9           bogo       5              1   \n",
       "6  5a8bc65990b245e5a138643cd4eb9837  informational       0              1   \n",
       "7  f19421c1d4aa40978ebb69ca19b0e20d           bogo       5              1   \n",
       "8  ae264e3637204a6fb9bb56bc8210ddfd           bogo      10              1   \n",
       "9  4d5c57ea9a6940dd891ad53e9dbe8da0           bogo      10              1   \n",
       "\n",
       "   channel_web  channel_social  channel_mobile  \n",
       "0            1               1               1  \n",
       "1            1               0               1  \n",
       "2            1               0               0  \n",
       "3            1               0               1  \n",
       "4            1               1               1  \n",
       "5            1               0               1  \n",
       "6            0               1               1  \n",
       "7            1               1               1  \n",
       "8            0               1               1  \n",
       "9            1               1               1  "
      ]
     },
     "execution_count": 100,
     "metadata": {},
     "output_type": "execute_result"
    }
   ],
   "source": [
    "selected_offers = res.idxmax(axis=1)\n",
    "selected_offers.value_counts().reset_index().merge(portfolio, left_on='index', right_on='id')"
   ]
  },
  {
   "cell_type": "code",
   "execution_count": 101,
   "metadata": {
    "collapsed": true
   },
   "outputs": [],
   "source": [
    "def choose_offer(model, X, portfolio, add_null_offer=True):\n",
    "    \"\"\"\n",
    "    Given a model and a features dataframe it returns the\n",
    "    model that maximizes the model predictions.\n",
    "    \"\"\"\n",
    "    complete_portfolio = portfolio.copy()\n",
    "    \n",
    "    # Add the null offer\n",
    "    if add_null_offer:\n",
    "        null_offer = pd.Series([0, 0, 'no_offer', 'no_offer', 0, 0, 0, 0, 0],\n",
    "                               index=complete_portfolio.columns, \n",
    "                               name=complete_portfolio.shape[0])\n",
    "        complete_portfolio = complete_portfolio.append(null_offer)\n",
    "    \n",
    "    res = complete_portfolio.apply(\n",
    "        lambda x: predict_profit_with_offer(model, X, x), axis=1).T\n",
    "    res.columns = complete_portfolio.id\n",
    "    \n",
    "    return res.idxmax(axis=1)"
   ]
  },
  {
   "cell_type": "code",
   "execution_count": 102,
   "metadata": {
    "collapsed": false
   },
   "outputs": [
    {
     "data": {
      "text/plain": [
       "0    fafdcd668e3743c1bb461111dcafc2a4\n",
       "1    fafdcd668e3743c1bb461111dcafc2a4\n",
       "2    fafdcd668e3743c1bb461111dcafc2a4\n",
       "3    fafdcd668e3743c1bb461111dcafc2a4\n",
       "4    2906b810c7d4411798c6938adc9daaa5\n",
       "dtype: object"
      ]
     },
     "execution_count": 102,
     "metadata": {},
     "output_type": "execute_result"
    }
   ],
   "source": [
    "selected_offers = choose_offer(model, X_test, portfolio)\n",
    "selected_offers.head()"
   ]
  },
  {
   "cell_type": "code",
   "execution_count": 103,
   "metadata": {
    "collapsed": false
   },
   "outputs": [
    {
     "data": {
      "text/plain": [
       "0.08193770543120989"
      ]
     },
     "execution_count": 103,
     "metadata": {},
     "output_type": "execute_result"
    }
   ],
   "source": [
    "(X_test.offer_id == selected_offers.values).mean()"
   ]
  },
  {
   "cell_type": "code",
   "execution_count": 104,
   "metadata": {
    "collapsed": false
   },
   "outputs": [
    {
     "data": {
      "text/plain": [
       "1047"
      ]
     },
     "execution_count": 104,
     "metadata": {},
     "output_type": "execute_result"
    }
   ],
   "source": [
    "(X_test.offer_id == selected_offers.values).sum()"
   ]
  },
  {
   "cell_type": "markdown",
   "metadata": {},
   "source": [
    "We could check the actual profit on those samples that, by chance, were sent the selected offer."
   ]
  },
  {
   "cell_type": "code",
   "execution_count": 105,
   "metadata": {
    "collapsed": false
   },
   "outputs": [
    {
     "data": {
      "text/plain": [
       "52887.66"
      ]
     },
     "execution_count": 105,
     "metadata": {},
     "output_type": "execute_result"
    }
   ],
   "source": [
    "coincidences = y_test[X_test.offer_id == selected_offers.values]\n",
    "coincidences.sum()"
   ]
  },
  {
   "cell_type": "markdown",
   "metadata": {},
   "source": [
    "Now we select a random sample, of the same size, from the test set, and compare with the above profit."
   ]
  },
  {
   "cell_type": "code",
   "execution_count": 106,
   "metadata": {
    "collapsed": false
   },
   "outputs": [
    {
     "data": {
      "text/plain": [
       "44370.630000000005"
      ]
     },
     "execution_count": 106,
     "metadata": {},
     "output_type": "execute_result"
    }
   ],
   "source": [
    "np.random.seed(2018)\n",
    "np.random.choice(y_test, coincidences.shape[0], replace=False).sum()"
   ]
  },
  {
   "cell_type": "markdown",
   "metadata": {},
   "source": [
    "## 3) Let's find P(viewed | offer)"
   ]
  },
  {
   "cell_type": "code",
   "execution_count": 107,
   "metadata": {
    "collapsed": false
   },
   "outputs": [
    {
     "data": {
      "text/plain": [
       "'viewed'"
      ]
     },
     "execution_count": 107,
     "metadata": {},
     "output_type": "execute_result"
    }
   ],
   "source": [
    "X_train, X_test, y_train, y_test, encoder =\\\n",
    "get_profit_10_days_data(fill_null=False, \n",
    "                        target='viewed', drop_offer_id=False)\n",
    "y_train.name"
   ]
  },
  {
   "cell_type": "code",
   "execution_count": 108,
   "metadata": {
    "collapsed": true
   },
   "outputs": [],
   "source": [
    "model = Pipeline([\n",
    "    ('encoder', encoder),\n",
    "    ('imputer', md.BasicImputer()),\n",
    "    ('estimator', XGBClassifier(max_depth=7, n_estimators=200, n_jobs=-1,\n",
    "                                random_state=2018))\n",
    "])"
   ]
  },
  {
   "cell_type": "code",
   "execution_count": 109,
   "metadata": {
    "collapsed": false
   },
   "outputs": [
    {
     "name": "stdout",
     "output_type": "stream",
     "text": [
      "CPU times: user 29.3 s, sys: 11.8 ms, total: 29.3 s\n",
      "Wall time: 29.3 s\n",
      "--------------------------------------------TRAIN RESULTS--------------------------------------------\n",
      "Confusion Matrix:\n",
      "[[ 3355  2839]\n",
      " [  633 18492]]\n",
      "Classification Report:\n",
      "              precision    recall  f1-score   support\n",
      "\n",
      "           0       0.84      0.54      0.66      6194\n",
      "           1       0.87      0.97      0.91     19125\n",
      "\n",
      "   micro avg       0.86      0.86      0.86     25319\n",
      "   macro avg       0.85      0.75      0.79     25319\n",
      "weighted avg       0.86      0.86      0.85     25319\n",
      "\n",
      "----------------------------------------------------------------------------------------------------\n",
      "--------------------------------------------TEST RESULTS--------------------------------------------\n",
      "Confusion Matrix:\n",
      "[[1088 2030]\n",
      " [1100 8560]]\n",
      "Classification Report:\n",
      "              precision    recall  f1-score   support\n",
      "\n",
      "           0       0.50      0.35      0.41      3118\n",
      "           1       0.81      0.89      0.85      9660\n",
      "\n",
      "   micro avg       0.76      0.76      0.76     12778\n",
      "   macro avg       0.65      0.62      0.63     12778\n",
      "weighted avg       0.73      0.76      0.74     12778\n",
      "\n",
      "----------------------------------------------------------------------------------------------------\n",
      "\n",
      "___________________________________________________\n",
      "| MAIN METRIC (test f1-score): 0.845432098765432 |\n",
      "---------------------------------------------------\n"
     ]
    }
   ],
   "source": [
    "from sklearn.metrics import classification_report, confusion_matrix, f1_score\n",
    "\n",
    "%time model.fit(X_train, y_train)\n",
    "\n",
    "# Predict and show results\n",
    "y_train_pred = model.predict(X_train)\n",
    "print('-' * 44 + 'TRAIN RESULTS' + '-' * 44)\n",
    "print('Confusion Matrix:')\n",
    "print(confusion_matrix(y_train, y_train_pred))\n",
    "print('Classification Report:')\n",
    "print(classification_report(y_train, y_train_pred))\n",
    "print('-' * 100)\n",
    "\n",
    "y_test_pred = model.predict(X_test)\n",
    "print('-' * 44 + 'TEST RESULTS' + '-' * 44)\n",
    "print('Confusion Matrix:')\n",
    "print(confusion_matrix(y_test, y_test_pred))\n",
    "print('Classification Report:')\n",
    "print(classification_report(y_test, y_test_pred))\n",
    "print('-' * 100)\n",
    "\n",
    "print('\\n' + '_' * 51)\n",
    "print('| MAIN METRIC (test f1-score): {} |'.format(\n",
    "    f1_score(y_test, y_test_pred)))\n",
    "print('-' * 51)"
   ]
  },
  {
   "cell_type": "code",
   "execution_count": 110,
   "metadata": {
    "collapsed": false
   },
   "outputs": [
    {
     "data": {
      "text/html": [
       "<script type=\"text/javascript\">window.PlotlyConfig = {MathJaxConfig: 'local'};</script><script type=\"text/javascript\">if (window.MathJax) {MathJax.Hub.Config({SVG: {font: \"STIX-Web\"}});}</script><script>requirejs.config({paths: { 'plotly': ['https://cdn.plot.ly/plotly-latest.min']},});if(!window._Plotly) {require(['plotly'],function(plotly) {window._Plotly=plotly;});}</script>"
      ],
      "text/vnd.plotly.v1+html": [
       "<script type=\"text/javascript\">window.PlotlyConfig = {MathJaxConfig: 'local'};</script><script type=\"text/javascript\">if (window.MathJax) {MathJax.Hub.Config({SVG: {font: \"STIX-Web\"}});}</script><script>requirejs.config({paths: { 'plotly': ['https://cdn.plot.ly/plotly-latest.min']},});if(!window._Plotly) {require(['plotly'],function(plotly) {window._Plotly=plotly;});}</script>"
      ]
     },
     "metadata": {},
     "output_type": "display_data"
    }
   ],
   "source": [
    "import src.visualization.visualize as vis"
   ]
  },
  {
   "cell_type": "code",
   "execution_count": 111,
   "metadata": {
    "collapsed": false
   },
   "outputs": [
    {
     "data": {
      "image/png": "[encoded data removed]",
      "text/plain": [
       "<Figure size 432x288 with 1 Axes>"
      ]
     },
     "metadata": {
      "needs_background": "dark"
     },
     "output_type": "display_data"
    },
    {
     "data": {
      "text/plain": [
       "<Figure size 432x288 with 0 Axes>"
      ]
     },
     "metadata": {},
     "output_type": "display_data"
    },
    {
     "data": {
      "image/png": "[encoded data removed]",
      "text/plain": [
       "<Figure size 432x288 with 1 Axes>"
      ]
     },
     "metadata": {
      "needs_background": "dark"
     },
     "output_type": "display_data"
    }
   ],
   "source": [
    "vis.show_feat_importances(model, X_train)"
   ]
  },
  {
   "cell_type": "code",
   "execution_count": 112,
   "metadata": {
    "collapsed": true
   },
   "outputs": [],
   "source": [
    "vis_probas_train = model.predict_proba(X_train)[:, 1]\n",
    "vis_probas_test = model.predict_proba(X_test)[:, 1]"
   ]
  },
  {
   "cell_type": "markdown",
   "metadata": {},
   "source": [
    "### Now, the full model"
   ]
  },
  {
   "cell_type": "code",
   "execution_count": 113,
   "metadata": {
    "collapsed": false
   },
   "outputs": [
    {
     "data": {
      "text/plain": [
       "array([0.92262733, 0.9730705 , 0.9220209 , ..., 0.9503085 , 0.927412  ,\n",
       "       0.61803174], dtype=float32)"
      ]
     },
     "execution_count": 113,
     "metadata": {},
     "output_type": "execute_result"
    }
   ],
   "source": [
    "vis_probas_train"
   ]
  },
  {
   "cell_type": "code",
   "execution_count": 114,
   "metadata": {
    "collapsed": false
   },
   "outputs": [
    {
     "data": {
      "text/plain": [
       "(array([  113.,   509.,   950.,  1132.,  1376.,  2084.,  2448.,  2660.,\n",
       "         3834., 10213.]),\n",
       " array([0.01503998, 0.11332978, 0.21161959, 0.30990937, 0.4081992 ,\n",
       "        0.506489  , 0.60477877, 0.70306855, 0.8013584 , 0.8996482 ,\n",
       "        0.997938  ], dtype=float32),\n",
       " <a list of 10 Patch objects>)"
      ]
     },
     "execution_count": 114,
     "metadata": {},
     "output_type": "execute_result"
    },
    {
     "data": {
      "image/png": "[encoded data removed]",
      "text/plain": [
       "<Figure size 432x288 with 1 Axes>"
      ]
     },
     "metadata": {
      "needs_background": "dark"
     },
     "output_type": "display_data"
    }
   ],
   "source": [
    "plt.hist(vis_probas_train)"
   ]
  },
  {
   "cell_type": "code",
   "execution_count": 115,
   "metadata": {
    "collapsed": false
   },
   "outputs": [
    {
     "data": {
      "text/plain": [
       "(25319,)"
      ]
     },
     "execution_count": 115,
     "metadata": {},
     "output_type": "execute_result"
    }
   ],
   "source": [
    "vis_probas_train.shape"
   ]
  },
  {
   "cell_type": "code",
   "execution_count": 116,
   "metadata": {
    "collapsed": false
   },
   "outputs": [
    {
     "data": {
      "text/plain": [
       "(25319,)"
      ]
     },
     "execution_count": 116,
     "metadata": {},
     "output_type": "execute_result"
    }
   ],
   "source": [
    "y_train.shape"
   ]
  },
  {
   "cell_type": "code",
   "execution_count": null,
   "metadata": {
    "collapsed": true
   },
   "outputs": [],
   "source": []
  },
  {
   "cell_type": "code",
   "execution_count": 117,
   "metadata": {
    "collapsed": false,
    "scrolled": true
   },
   "outputs": [
    {
     "name": "stdout",
     "output_type": "stream",
     "text": [
      "profit_10_days\n",
      "CPU times: user 17.3 s, sys: 55.9 ms, total: 17.3 s\n",
      "Wall time: 17.3 s\n"
     ]
    }
   ],
   "source": [
    "from xgboost import XGBRegressor\n",
    "from sklearn.metrics import mean_squared_error as mse\n",
    "\n",
    "X_train, X_test, y_train, y_test, encoder =\\\n",
    "get_profit_10_days_data(drop_offer_id=False)\n",
    "print(y_train.name)\n",
    "\n",
    "profit_est_model = Pipeline([\n",
    "    ('encoder', encoder),\n",
    "    ('imputer', md.BasicImputer()),\n",
    "    ('estimator', XGBRegressor(max_depth=4, n_estimators=200, n_jobs=-1,\n",
    "                                random_state=2018))\n",
    "])\n",
    "\n",
    "%time profit_est_model.fit(X_train, y_train)\n",
    "\n",
    "profit_train_pred = profit_est_model.predict(X_train)\n",
    "profit_test_pred = profit_est_model.predict(X_test)"
   ]
  },
  {
   "cell_type": "code",
   "execution_count": 118,
   "metadata": {
    "collapsed": false
   },
   "outputs": [
    {
     "data": {
      "text/plain": [
       "array(['5a8bc65990b245e5a138643cd4eb9837',\n",
       "       'f19421c1d4aa40978ebb69ca19b0e20d',\n",
       "       '3f207df678b143eea3cee63160fa8bed',\n",
       "       '2298d6c36e964ae4a3e7e9706d1fb8c2',\n",
       "       'fafdcd668e3743c1bb461111dcafc2a4', 'no_offer',\n",
       "       'ae264e3637204a6fb9bb56bc8210ddfd',\n",
       "       '9b98b8c7a33c4b65b9aebfe6a799e6d9',\n",
       "       '4d5c57ea9a6940dd891ad53e9dbe8da0',\n",
       "       '0b1e1539f2cc45b7b9fa7c272da2e1d7',\n",
       "       '2906b810c7d4411798c6938adc9daaa5'], dtype=object)"
      ]
     },
     "execution_count": 118,
     "metadata": {},
     "output_type": "execute_result"
    }
   ],
   "source": [
    "X_train.offer_id.unique()"
   ]
  },
  {
   "cell_type": "code",
   "execution_count": 119,
   "metadata": {
    "collapsed": false
   },
   "outputs": [],
   "source": [
    "y_train_pred = vis_probas_train * profit_train_pred\n",
    "y_test_pred = vis_probas_test * profit_test_pred"
   ]
  },
  {
   "cell_type": "code",
   "execution_count": 120,
   "metadata": {
    "collapsed": false
   },
   "outputs": [
    {
     "name": "stdout",
     "output_type": "stream",
     "text": [
      "Training error (RMSE) = 52.23693446548049\n"
     ]
    }
   ],
   "source": [
    "print('Training error (RMSE) = {}'.format(np.sqrt(mse(y_train, y_train_pred))))"
   ]
  },
  {
   "cell_type": "code",
   "execution_count": 121,
   "metadata": {
    "collapsed": false
   },
   "outputs": [
    {
     "name": "stdout",
     "output_type": "stream",
     "text": [
      "Test error (RMSE) = 67.36932030044213\n"
     ]
    }
   ],
   "source": [
    "print('Test error (RMSE) = {}'.format(np.sqrt(mse(y_test, y_test_pred))))"
   ]
  },
  {
   "cell_type": "code",
   "execution_count": 122,
   "metadata": {
    "collapsed": false,
    "scrolled": true
   },
   "outputs": [
    {
     "data": {
      "text/plain": [
       "(12778, 122)"
      ]
     },
     "execution_count": 122,
     "metadata": {},
     "output_type": "execute_result"
    }
   ],
   "source": [
    "X_test.shape"
   ]
  },
  {
   "cell_type": "code",
   "execution_count": 123,
   "metadata": {
    "collapsed": false,
    "scrolled": false
   },
   "outputs": [
    {
     "data": {
      "text/html": [
       "<div>\n",
       "<style scoped>\n",
       "    .dataframe tbody tr th:only-of-type {\n",
       "        vertical-align: middle;\n",
       "    }\n",
       "\n",
       "    .dataframe tbody tr th {\n",
       "        vertical-align: top;\n",
       "    }\n",
       "\n",
       "    .dataframe thead th {\n",
       "        text-align: right;\n",
       "    }\n",
       "</style>\n",
       "<table border=\"1\" class=\"dataframe\">\n",
       "  <thead>\n",
       "    <tr style=\"text-align: right;\">\n",
       "      <th></th>\n",
       "      <th>true</th>\n",
       "      <th>pred</th>\n",
       "    </tr>\n",
       "  </thead>\n",
       "  <tbody>\n",
       "    <tr>\n",
       "      <th>2</th>\n",
       "      <td>41.51</td>\n",
       "      <td>50.906998</td>\n",
       "    </tr>\n",
       "    <tr>\n",
       "      <th>10</th>\n",
       "      <td>40.08</td>\n",
       "      <td>20.730556</td>\n",
       "    </tr>\n",
       "    <tr>\n",
       "      <th>15</th>\n",
       "      <td>41.10</td>\n",
       "      <td>44.185806</td>\n",
       "    </tr>\n",
       "    <tr>\n",
       "      <th>19</th>\n",
       "      <td>69.19</td>\n",
       "      <td>64.473289</td>\n",
       "    </tr>\n",
       "    <tr>\n",
       "      <th>24</th>\n",
       "      <td>22.45</td>\n",
       "      <td>236.453354</td>\n",
       "    </tr>\n",
       "    <tr>\n",
       "      <th>29</th>\n",
       "      <td>6.59</td>\n",
       "      <td>14.278313</td>\n",
       "    </tr>\n",
       "    <tr>\n",
       "      <th>36</th>\n",
       "      <td>133.12</td>\n",
       "      <td>47.231045</td>\n",
       "    </tr>\n",
       "    <tr>\n",
       "      <th>41</th>\n",
       "      <td>10.65</td>\n",
       "      <td>3.487362</td>\n",
       "    </tr>\n",
       "    <tr>\n",
       "      <th>45</th>\n",
       "      <td>81.39</td>\n",
       "      <td>123.236908</td>\n",
       "    </tr>\n",
       "    <tr>\n",
       "      <th>50</th>\n",
       "      <td>0.00</td>\n",
       "      <td>-1.257310</td>\n",
       "    </tr>\n",
       "    <tr>\n",
       "      <th>54</th>\n",
       "      <td>8.73</td>\n",
       "      <td>1.858010</td>\n",
       "    </tr>\n",
       "    <tr>\n",
       "      <th>60</th>\n",
       "      <td>21.35</td>\n",
       "      <td>17.959721</td>\n",
       "    </tr>\n",
       "    <tr>\n",
       "      <th>66</th>\n",
       "      <td>24.69</td>\n",
       "      <td>98.236473</td>\n",
       "    </tr>\n",
       "    <tr>\n",
       "      <th>71</th>\n",
       "      <td>28.04</td>\n",
       "      <td>10.308941</td>\n",
       "    </tr>\n",
       "    <tr>\n",
       "      <th>76</th>\n",
       "      <td>4.65</td>\n",
       "      <td>3.281965</td>\n",
       "    </tr>\n",
       "    <tr>\n",
       "      <th>82</th>\n",
       "      <td>5.10</td>\n",
       "      <td>12.398633</td>\n",
       "    </tr>\n",
       "    <tr>\n",
       "      <th>87</th>\n",
       "      <td>106.98</td>\n",
       "      <td>54.157093</td>\n",
       "    </tr>\n",
       "    <tr>\n",
       "      <th>93</th>\n",
       "      <td>1.32</td>\n",
       "      <td>-0.983855</td>\n",
       "    </tr>\n",
       "    <tr>\n",
       "      <th>103</th>\n",
       "      <td>2.51</td>\n",
       "      <td>-0.495679</td>\n",
       "    </tr>\n",
       "    <tr>\n",
       "      <th>109</th>\n",
       "      <td>53.21</td>\n",
       "      <td>38.665554</td>\n",
       "    </tr>\n",
       "    <tr>\n",
       "      <th>114</th>\n",
       "      <td>9.51</td>\n",
       "      <td>5.850085</td>\n",
       "    </tr>\n",
       "    <tr>\n",
       "      <th>119</th>\n",
       "      <td>130.25</td>\n",
       "      <td>39.727886</td>\n",
       "    </tr>\n",
       "    <tr>\n",
       "      <th>133</th>\n",
       "      <td>83.15</td>\n",
       "      <td>27.767750</td>\n",
       "    </tr>\n",
       "    <tr>\n",
       "      <th>136</th>\n",
       "      <td>105.63</td>\n",
       "      <td>20.237711</td>\n",
       "    </tr>\n",
       "    <tr>\n",
       "      <th>140</th>\n",
       "      <td>3.89</td>\n",
       "      <td>1.835616</td>\n",
       "    </tr>\n",
       "    <tr>\n",
       "      <th>143</th>\n",
       "      <td>11.90</td>\n",
       "      <td>5.252283</td>\n",
       "    </tr>\n",
       "    <tr>\n",
       "      <th>146</th>\n",
       "      <td>28.57</td>\n",
       "      <td>3.441954</td>\n",
       "    </tr>\n",
       "    <tr>\n",
       "      <th>151</th>\n",
       "      <td>49.94</td>\n",
       "      <td>57.148895</td>\n",
       "    </tr>\n",
       "    <tr>\n",
       "      <th>156</th>\n",
       "      <td>0.00</td>\n",
       "      <td>65.525513</td>\n",
       "    </tr>\n",
       "    <tr>\n",
       "      <th>164</th>\n",
       "      <td>35.18</td>\n",
       "      <td>26.487698</td>\n",
       "    </tr>\n",
       "    <tr>\n",
       "      <th>...</th>\n",
       "      <td>...</td>\n",
       "      <td>...</td>\n",
       "    </tr>\n",
       "    <tr>\n",
       "      <th>76108</th>\n",
       "      <td>114.65</td>\n",
       "      <td>48.446140</td>\n",
       "    </tr>\n",
       "    <tr>\n",
       "      <th>76113</th>\n",
       "      <td>20.15</td>\n",
       "      <td>28.530874</td>\n",
       "    </tr>\n",
       "    <tr>\n",
       "      <th>76117</th>\n",
       "      <td>107.08</td>\n",
       "      <td>57.745480</td>\n",
       "    </tr>\n",
       "    <tr>\n",
       "      <th>76122</th>\n",
       "      <td>0.00</td>\n",
       "      <td>26.764675</td>\n",
       "    </tr>\n",
       "    <tr>\n",
       "      <th>76136</th>\n",
       "      <td>13.97</td>\n",
       "      <td>88.030701</td>\n",
       "    </tr>\n",
       "    <tr>\n",
       "      <th>76141</th>\n",
       "      <td>0.00</td>\n",
       "      <td>15.484076</td>\n",
       "    </tr>\n",
       "    <tr>\n",
       "      <th>76145</th>\n",
       "      <td>28.64</td>\n",
       "      <td>6.981474</td>\n",
       "    </tr>\n",
       "    <tr>\n",
       "      <th>76151</th>\n",
       "      <td>22.61</td>\n",
       "      <td>24.265627</td>\n",
       "    </tr>\n",
       "    <tr>\n",
       "      <th>76156</th>\n",
       "      <td>24.66</td>\n",
       "      <td>17.666046</td>\n",
       "    </tr>\n",
       "    <tr>\n",
       "      <th>76161</th>\n",
       "      <td>46.32</td>\n",
       "      <td>31.409702</td>\n",
       "    </tr>\n",
       "    <tr>\n",
       "      <th>76165</th>\n",
       "      <td>147.68</td>\n",
       "      <td>106.901802</td>\n",
       "    </tr>\n",
       "    <tr>\n",
       "      <th>76169</th>\n",
       "      <td>0.00</td>\n",
       "      <td>3.516529</td>\n",
       "    </tr>\n",
       "    <tr>\n",
       "      <th>76174</th>\n",
       "      <td>47.47</td>\n",
       "      <td>33.647541</td>\n",
       "    </tr>\n",
       "    <tr>\n",
       "      <th>76180</th>\n",
       "      <td>9.55</td>\n",
       "      <td>18.099638</td>\n",
       "    </tr>\n",
       "    <tr>\n",
       "      <th>76185</th>\n",
       "      <td>112.00</td>\n",
       "      <td>168.651474</td>\n",
       "    </tr>\n",
       "    <tr>\n",
       "      <th>76194</th>\n",
       "      <td>0.00</td>\n",
       "      <td>8.576672</td>\n",
       "    </tr>\n",
       "    <tr>\n",
       "      <th>76198</th>\n",
       "      <td>19.28</td>\n",
       "      <td>54.782806</td>\n",
       "    </tr>\n",
       "    <tr>\n",
       "      <th>76206</th>\n",
       "      <td>50.68</td>\n",
       "      <td>6.979283</td>\n",
       "    </tr>\n",
       "    <tr>\n",
       "      <th>76211</th>\n",
       "      <td>0.00</td>\n",
       "      <td>4.011021</td>\n",
       "    </tr>\n",
       "    <tr>\n",
       "      <th>76214</th>\n",
       "      <td>38.76</td>\n",
       "      <td>4.584583</td>\n",
       "    </tr>\n",
       "    <tr>\n",
       "      <th>76219</th>\n",
       "      <td>19.60</td>\n",
       "      <td>13.516821</td>\n",
       "    </tr>\n",
       "    <tr>\n",
       "      <th>76225</th>\n",
       "      <td>13.32</td>\n",
       "      <td>24.218744</td>\n",
       "    </tr>\n",
       "    <tr>\n",
       "      <th>76230</th>\n",
       "      <td>98.61</td>\n",
       "      <td>41.385464</td>\n",
       "    </tr>\n",
       "    <tr>\n",
       "      <th>76236</th>\n",
       "      <td>9.97</td>\n",
       "      <td>0.709003</td>\n",
       "    </tr>\n",
       "    <tr>\n",
       "      <th>76250</th>\n",
       "      <td>85.40</td>\n",
       "      <td>41.723629</td>\n",
       "    </tr>\n",
       "    <tr>\n",
       "      <th>76256</th>\n",
       "      <td>430.14</td>\n",
       "      <td>10.511992</td>\n",
       "    </tr>\n",
       "    <tr>\n",
       "      <th>76261</th>\n",
       "      <td>10.09</td>\n",
       "      <td>27.706633</td>\n",
       "    </tr>\n",
       "    <tr>\n",
       "      <th>76264</th>\n",
       "      <td>8.09</td>\n",
       "      <td>11.432427</td>\n",
       "    </tr>\n",
       "    <tr>\n",
       "      <th>76269</th>\n",
       "      <td>26.13</td>\n",
       "      <td>31.668596</td>\n",
       "    </tr>\n",
       "    <tr>\n",
       "      <th>76274</th>\n",
       "      <td>79.77</td>\n",
       "      <td>60.217907</td>\n",
       "    </tr>\n",
       "  </tbody>\n",
       "</table>\n",
       "<p>12778 rows × 2 columns</p>\n",
       "</div>"
      ],
      "text/plain": [
       "         true        pred\n",
       "2       41.51   50.906998\n",
       "10      40.08   20.730556\n",
       "15      41.10   44.185806\n",
       "19      69.19   64.473289\n",
       "24      22.45  236.453354\n",
       "29       6.59   14.278313\n",
       "36     133.12   47.231045\n",
       "41      10.65    3.487362\n",
       "45      81.39  123.236908\n",
       "50       0.00   -1.257310\n",
       "54       8.73    1.858010\n",
       "60      21.35   17.959721\n",
       "66      24.69   98.236473\n",
       "71      28.04   10.308941\n",
       "76       4.65    3.281965\n",
       "82       5.10   12.398633\n",
       "87     106.98   54.157093\n",
       "93       1.32   -0.983855\n",
       "103      2.51   -0.495679\n",
       "109     53.21   38.665554\n",
       "114      9.51    5.850085\n",
       "119    130.25   39.727886\n",
       "133     83.15   27.767750\n",
       "136    105.63   20.237711\n",
       "140      3.89    1.835616\n",
       "143     11.90    5.252283\n",
       "146     28.57    3.441954\n",
       "151     49.94   57.148895\n",
       "156      0.00   65.525513\n",
       "164     35.18   26.487698\n",
       "...       ...         ...\n",
       "76108  114.65   48.446140\n",
       "76113   20.15   28.530874\n",
       "76117  107.08   57.745480\n",
       "76122    0.00   26.764675\n",
       "76136   13.97   88.030701\n",
       "76141    0.00   15.484076\n",
       "76145   28.64    6.981474\n",
       "76151   22.61   24.265627\n",
       "76156   24.66   17.666046\n",
       "76161   46.32   31.409702\n",
       "76165  147.68  106.901802\n",
       "76169    0.00    3.516529\n",
       "76174   47.47   33.647541\n",
       "76180    9.55   18.099638\n",
       "76185  112.00  168.651474\n",
       "76194    0.00    8.576672\n",
       "76198   19.28   54.782806\n",
       "76206   50.68    6.979283\n",
       "76211    0.00    4.011021\n",
       "76214   38.76    4.584583\n",
       "76219   19.60   13.516821\n",
       "76225   13.32   24.218744\n",
       "76230   98.61   41.385464\n",
       "76236    9.97    0.709003\n",
       "76250   85.40   41.723629\n",
       "76256  430.14   10.511992\n",
       "76261   10.09   27.706633\n",
       "76264    8.09   11.432427\n",
       "76269   26.13   31.668596\n",
       "76274   79.77   60.217907\n",
       "\n",
       "[12778 rows x 2 columns]"
      ]
     },
     "execution_count": 123,
     "metadata": {},
     "output_type": "execute_result"
    }
   ],
   "source": [
    "test_res = pd.DataFrame(columns=['true', 'pred'])\n",
    "test_res['true'] = y_test\n",
    "test_res['pred'] = y_test_pred\n",
    "test_res"
   ]
  },
  {
   "cell_type": "code",
   "execution_count": 124,
   "metadata": {
    "collapsed": false,
    "scrolled": true
   },
   "outputs": [
    {
     "data": {
      "text/plain": [
       "<matplotlib.axes._subplots.AxesSubplot at 0x7fe08df48400>"
      ]
     },
     "execution_count": 124,
     "metadata": {},
     "output_type": "execute_result"
    },
    {
     "data": {
      "image/png": "[encoded data removed]",
      "text/plain": [
       "<Figure size 432x288 with 1 Axes>"
      ]
     },
     "metadata": {
      "needs_background": "dark"
     },
     "output_type": "display_data"
    }
   ],
   "source": [
    "test_res.sort_values(by='true').plot(style='.')"
   ]
  },
  {
   "cell_type": "code",
   "execution_count": 125,
   "metadata": {
    "collapsed": false
   },
   "outputs": [
    {
     "data": {
      "text/plain": [
       "<matplotlib.axes._subplots.AxesSubplot at 0x7fe08df63e10>"
      ]
     },
     "execution_count": 125,
     "metadata": {},
     "output_type": "execute_result"
    },
    {
     "data": {
      "image/png": "[encoded data removed]",
      "text/plain": [
       "<Figure size 432x288 with 1 Axes>"
      ]
     },
     "metadata": {
      "needs_background": "dark"
     },
     "output_type": "display_data"
    }
   ],
   "source": [
    "((test_res.pred - test_res.true) / test_res.true).abs().sort_values().reset_index(drop=True).plot()"
   ]
  },
  {
   "cell_type": "code",
   "execution_count": 126,
   "metadata": {
    "collapsed": false
   },
   "outputs": [],
   "source": [
    "relative_error = ((test_res.pred - test_res.true) / test_res.true).abs()"
   ]
  },
  {
   "cell_type": "code",
   "execution_count": 127,
   "metadata": {
    "collapsed": false
   },
   "outputs": [
    {
     "data": {
      "text/plain": [
       "977"
      ]
     },
     "execution_count": 127,
     "metadata": {},
     "output_type": "execute_result"
    }
   ],
   "source": [
    "(relative_error == np.inf).sum()"
   ]
  },
  {
   "cell_type": "code",
   "execution_count": 128,
   "metadata": {
    "collapsed": false
   },
   "outputs": [
    {
     "data": {
      "text/plain": [
       "1.2708867211692358"
      ]
     },
     "execution_count": 128,
     "metadata": {},
     "output_type": "execute_result"
    }
   ],
   "source": [
    "relative_error[np.isfinite(relative_error)].mean()"
   ]
  },
  {
   "cell_type": "code",
   "execution_count": null,
   "metadata": {
    "collapsed": true
   },
   "outputs": [],
   "source": []
  },
  {
   "cell_type": "markdown",
   "metadata": {},
   "source": [
    "## Pseudo AB test"
   ]
  },
  {
   "cell_type": "code",
   "execution_count": 129,
   "metadata": {
    "collapsed": true
   },
   "outputs": [],
   "source": [
    "def predict_profit_with_offer(view_model, profit_model, data, offer, drop_offer_id=False):\n",
    "    \"\"\" Predicts how much will be the profit in 10 days for a given an offer. \"\"\"\n",
    "    samples = data.copy()\n",
    "    if drop_offer_id:\n",
    "        std_offer = offer.drop('id').rename(index={'reward': 'reward_t'})\n",
    "    else:\n",
    "        std_offer = offer.rename(index={'reward': 'reward_t', 'id': 'offer_id'})\n",
    "    samples.loc[:, std_offer.index] = np.repeat(std_offer.values.reshape(1, -1), samples.shape[0], axis=0)\n",
    "    \n",
    "    if offer.offer_type == 'no_offer':\n",
    "        vis_probas = np.ones(samples.shape[0])\n",
    "    else:\n",
    "        vis_probas = view_model.predict_proba(samples)[:, 1]\n",
    "\n",
    "    profit_pred = profit_model.predict(samples)\n",
    "    \n",
    "    y_pred = vis_probas * profit_pred\n",
    "    \n",
    "    return pd.Series(y_pred, name=offer.id).T"
   ]
  },
  {
   "cell_type": "code",
   "execution_count": 130,
   "metadata": {
    "collapsed": false
   },
   "outputs": [
    {
     "data": {
      "text/html": [
       "<div>\n",
       "<style scoped>\n",
       "    .dataframe tbody tr th:only-of-type {\n",
       "        vertical-align: middle;\n",
       "    }\n",
       "\n",
       "    .dataframe tbody tr th {\n",
       "        vertical-align: top;\n",
       "    }\n",
       "\n",
       "    .dataframe thead th {\n",
       "        text-align: right;\n",
       "    }\n",
       "</style>\n",
       "<table border=\"1\" class=\"dataframe\">\n",
       "  <thead>\n",
       "    <tr style=\"text-align: right;\">\n",
       "      <th></th>\n",
       "      <th>difficulty</th>\n",
       "      <th>duration</th>\n",
       "      <th>id</th>\n",
       "      <th>offer_type</th>\n",
       "      <th>reward</th>\n",
       "      <th>channel_email</th>\n",
       "      <th>channel_web</th>\n",
       "      <th>channel_social</th>\n",
       "      <th>channel_mobile</th>\n",
       "    </tr>\n",
       "  </thead>\n",
       "  <tbody>\n",
       "    <tr>\n",
       "      <th>10</th>\n",
       "      <td>0</td>\n",
       "      <td>0</td>\n",
       "      <td>no_offer</td>\n",
       "      <td>no_offer</td>\n",
       "      <td>0</td>\n",
       "      <td>0</td>\n",
       "      <td>0</td>\n",
       "      <td>0</td>\n",
       "      <td>0</td>\n",
       "    </tr>\n",
       "  </tbody>\n",
       "</table>\n",
       "</div>"
      ],
      "text/plain": [
       "    difficulty  duration        id offer_type  reward  channel_email  \\\n",
       "10           0         0  no_offer   no_offer       0              0   \n",
       "\n",
       "    channel_web  channel_social  channel_mobile  \n",
       "10            0               0               0  "
      ]
     },
     "execution_count": 130,
     "metadata": {},
     "output_type": "execute_result"
    }
   ],
   "source": [
    "complete_portfolio.iloc[10:, :]"
   ]
  },
  {
   "cell_type": "code",
   "execution_count": 131,
   "metadata": {
    "collapsed": false
   },
   "outputs": [
    {
     "data": {
      "text/plain": [
       "0         54.648129\n",
       "1         24.908100\n",
       "2         44.185806\n",
       "3         74.613869\n",
       "4        252.112198\n",
       "5         47.821438\n",
       "6         82.167725\n",
       "7         10.659841\n",
       "8        164.039825\n",
       "9         -1.554312\n",
       "10         5.944099\n",
       "11        63.042080\n",
       "12       109.698601\n",
       "13        22.749817\n",
       "14         8.533852\n",
       "15        10.786850\n",
       "16        58.758625\n",
       "17        -1.055075\n",
       "18        -0.868415\n",
       "19        38.665554\n",
       "20         5.850085\n",
       "21        58.744301\n",
       "22        50.559971\n",
       "23        65.986282\n",
       "24         1.033376\n",
       "25         4.694843\n",
       "26        19.124044\n",
       "27        59.290760\n",
       "28        80.718620\n",
       "29        24.593561\n",
       "            ...    \n",
       "12748     49.064007\n",
       "12749     22.493299\n",
       "12750    103.026405\n",
       "12751     26.764675\n",
       "12752     66.351387\n",
       "12753     42.506824\n",
       "12754      6.978518\n",
       "12755     20.035408\n",
       "12756     23.771841\n",
       "12757     41.084743\n",
       "12758     86.405281\n",
       "12759      9.177302\n",
       "12760     52.115070\n",
       "12761     77.064201\n",
       "12762    108.710922\n",
       "12763     14.404173\n",
       "12764     48.799686\n",
       "12765     18.923706\n",
       "12766      4.547188\n",
       "12767     29.999432\n",
       "12768     32.270184\n",
       "12769     23.891005\n",
       "12770     66.425415\n",
       "12771      1.466262\n",
       "12772     51.511738\n",
       "12773     32.235039\n",
       "12774     27.601152\n",
       "12775      7.452108\n",
       "12776     29.843161\n",
       "12777     50.828625\n",
       "Name: 4d5c57ea9a6940dd891ad53e9dbe8da0, Length: 12778, dtype: float32"
      ]
     },
     "execution_count": 131,
     "metadata": {},
     "output_type": "execute_result"
    }
   ],
   "source": [
    "predict_profit_with_offer(model, profit_est_model, X_test, complete_portfolio.iloc[1, :])"
   ]
  },
  {
   "cell_type": "code",
   "execution_count": 132,
   "metadata": {
    "collapsed": true
   },
   "outputs": [],
   "source": [
    "def choose_offer(view_model, profit_model, X, portfolio, add_null_offer=True):\n",
    "    \"\"\"\n",
    "    Given a model and a features dataframe it returns the\n",
    "    model that maximizes the model predictions.\n",
    "    \"\"\"\n",
    "    complete_portfolio = portfolio.copy()\n",
    "    \n",
    "    # Add the null offer\n",
    "    if add_null_offer:\n",
    "        null_offer = pd.Series([0, 0, 'no_offer', 'no_offer', 0, 0, 0, 0, 0],\n",
    "                               index=complete_portfolio.columns, \n",
    "                               name=complete_portfolio.shape[0])\n",
    "        complete_portfolio = complete_portfolio.append(null_offer)\n",
    "    \n",
    "    res = complete_portfolio.apply(\n",
    "        lambda x: predict_profit_with_offer(view_model, profit_model, X, x), axis=1).T\n",
    "    res.columns = complete_portfolio.id\n",
    "    \n",
    "    return res.idxmax(axis=1), res"
   ]
  },
  {
   "cell_type": "code",
   "execution_count": 133,
   "metadata": {
    "collapsed": false
   },
   "outputs": [
    {
     "data": {
      "text/plain": [
       "0    fafdcd668e3743c1bb461111dcafc2a4\n",
       "1    fafdcd668e3743c1bb461111dcafc2a4\n",
       "2    fafdcd668e3743c1bb461111dcafc2a4\n",
       "3    fafdcd668e3743c1bb461111dcafc2a4\n",
       "4                            no_offer\n",
       "dtype: object"
      ]
     },
     "execution_count": 133,
     "metadata": {},
     "output_type": "execute_result"
    }
   ],
   "source": [
    "selected_offers, predicted_full = choose_offer(model, profit_est_model, X_test, portfolio)\n",
    "selected_offers.head()"
   ]
  },
  {
   "cell_type": "code",
   "execution_count": 134,
   "metadata": {
    "collapsed": false
   },
   "outputs": [
    {
     "data": {
      "text/plain": [
       "fafdcd668e3743c1bb461111dcafc2a4    8879\n",
       "2298d6c36e964ae4a3e7e9706d1fb8c2    1780\n",
       "no_offer                             957\n",
       "0b1e1539f2cc45b7b9fa7c272da2e1d7     218\n",
       "3f207df678b143eea3cee63160fa8bed     218\n",
       "4d5c57ea9a6940dd891ad53e9dbe8da0     202\n",
       "ae264e3637204a6fb9bb56bc8210ddfd     165\n",
       "2906b810c7d4411798c6938adc9daaa5     145\n",
       "5a8bc65990b245e5a138643cd4eb9837     127\n",
       "f19421c1d4aa40978ebb69ca19b0e20d      79\n",
       "9b98b8c7a33c4b65b9aebfe6a799e6d9       8\n",
       "dtype: int64"
      ]
     },
     "execution_count": 134,
     "metadata": {},
     "output_type": "execute_result"
    }
   ],
   "source": [
    "selected_offers.value_counts()"
   ]
  },
  {
   "cell_type": "code",
   "execution_count": 135,
   "metadata": {
    "collapsed": false
   },
   "outputs": [
    {
     "data": {
      "text/plain": [
       "0.10478948192205353"
      ]
     },
     "execution_count": 135,
     "metadata": {},
     "output_type": "execute_result"
    }
   ],
   "source": [
    "(X_test.offer_id == selected_offers.values).mean()"
   ]
  },
  {
   "cell_type": "code",
   "execution_count": 136,
   "metadata": {
    "collapsed": false
   },
   "outputs": [
    {
     "data": {
      "text/plain": [
       "1339"
      ]
     },
     "execution_count": 136,
     "metadata": {},
     "output_type": "execute_result"
    }
   ],
   "source": [
    "(X_test.offer_id == selected_offers.values).sum()"
   ]
  },
  {
   "cell_type": "markdown",
   "metadata": {},
   "source": [
    "We could check the actual profit on those samples that, by chance, were sent the selected offer."
   ]
  },
  {
   "cell_type": "code",
   "execution_count": 137,
   "metadata": {
    "collapsed": false
   },
   "outputs": [
    {
     "data": {
      "text/plain": [
       "64823.28000000001"
      ]
     },
     "execution_count": 137,
     "metadata": {},
     "output_type": "execute_result"
    }
   ],
   "source": [
    "coincidences = y_test[X_test.offer_id == selected_offers.values]\n",
    "coincidences.sum()"
   ]
  },
  {
   "cell_type": "markdown",
   "metadata": {},
   "source": [
    "Now we select a random sample, of the same size, from the test set, and compare with the above profit."
   ]
  },
  {
   "cell_type": "code",
   "execution_count": 138,
   "metadata": {
    "collapsed": false
   },
   "outputs": [
    {
     "data": {
      "text/plain": [
       "56476.020000000004"
      ]
     },
     "execution_count": 138,
     "metadata": {},
     "output_type": "execute_result"
    }
   ],
   "source": [
    "np.random.seed(2018)\n",
    "np.random.choice(y_test, coincidences.shape[0], replace=False).sum()"
   ]
  },
  {
   "cell_type": "code",
   "execution_count": null,
   "metadata": {
    "collapsed": true
   },
   "outputs": [],
   "source": []
  },
  {
   "cell_type": "markdown",
   "metadata": {
    "collapsed": true
   },
   "source": [
    "## Let's create a class to represent the full model, and possibly some evaluation functions."
   ]
  },
  {
   "cell_type": "code",
   "execution_count": 139,
   "metadata": {
    "collapsed": true
   },
   "outputs": [],
   "source": [
    "from sklearn.base import BaseEstimator, RegressorMixin"
   ]
  },
  {
   "cell_type": "code",
   "execution_count": 142,
   "metadata": {
    "collapsed": false
   },
   "outputs": [],
   "source": [
    "Z_COLS = ('difficulty',\n",
    "              'duration',\n",
    "              'reward_t',\n",
    "              'channel_web',\n",
    "              'channel_mobile',\n",
    "              'channel_email',\n",
    "              'channel_social',\n",
    "              'expected_finish')\n",
    "PROFIT_COLS = Z_COLS + ('offer_id', 'offer_type')\n",
    "VIEW_COLS = ('{}_viewcol'.format(col) for col in PROFIT_COLS)\n",
    "\n",
    "class ProfitsPredictor(BaseEstimator, RegressorMixin):\n",
    "    \"\"\"\n",
    "    Predicts the profits in 10 days for any given offer to a specific customer.\n",
    "    \"\"\"\n",
    "    def __init__(self, view_cols=VIEW_COLS, profit_cols=PROFIT_COLS, **kwargs):\n",
    "        super().__init__(**kwargs)\n",
    "        self.view_cols = view_cols\n",
    "        self.profit_cols = profit_cols\n",
    "        \n",
    "        # Create the models\n",
    "        self.views_model = Pipeline([\n",
    "            ('encoder', encoder),\n",
    "            ('imputer', md.BasicImputer()),\n",
    "            ('estimator', XGBClassifier(max_depth=7, n_estimators=200, n_jobs=-1,\n",
    "                                        random_state=2018))\n",
    "        ])\n",
    "        self.profits_model = Pipeline([\n",
    "            ('encoder', encoder),\n",
    "            ('imputer', md.BasicImputer()),\n",
    "            ('estimator', XGBRegressor(max_depth=4, n_estimators=200, n_jobs=-1,\n",
    "                                       random_state=2018))\n",
    "        ])\n",
    "\n",
    "    def fit(self, X, y):\n",
    "        \"\"\" Fits all the models. \"\"\"\n",
    "        y_views = y.iloc[:, 0]\n",
    "        y_profits = y.iloc[:, 1]\n",
    "        X_views, X_profits = p10.split_view_profit(X, \n",
    "                                                   self.view_cols, \n",
    "                                                   self.profit_cols)\n",
    "        self.views_model.fit(X_views, y_views)\n",
    "        self.profits_model.fit(X_profits, y_profits)\n",
    "        \n",
    "        return self\n",
    "    \n",
    "    def predict(self, X):\n",
    "        \"\"\" Gets the predictions from all models and calculates the final prediction.\"\"\"\n",
    "        X_views, X_profits = p10.split_view_profit(X, \n",
    "                                                   self.view_cols, \n",
    "                                                   self.profit_cols)\n",
    "        vis_probas = self.views_model.predict_proba(X_views)[:, 1]\n",
    "        profits_pred = self.profits_model.predict(X_profits)\n",
    "    \n",
    "        return vis_probas * profits_pred"
   ]
  },
  {
   "cell_type": "code",
   "execution_count": 143,
   "metadata": {
    "collapsed": true
   },
   "outputs": [],
   "source": [
    "import src.data.profit_10_days_dataset as p10\n",
    "from xgboost import XGBRegressor\n",
    "from sklearn.metrics import mean_squared_error as mse"
   ]
  },
  {
   "cell_type": "code",
   "execution_count": 144,
   "metadata": {
    "collapsed": false
   },
   "outputs": [],
   "source": [
    "X_train, X_test, y_train, y_test, encoder, view_cols, profit_cols =\\\n",
    "p10.get_profit_10_days_data(fill_null=True, \n",
    "                        target=['viewed', 'profit_10_days'], drop_offer_id=False)"
   ]
  },
  {
   "cell_type": "code",
   "execution_count": 145,
   "metadata": {
    "collapsed": false
   },
   "outputs": [],
   "source": [
    "model = ProfitsPredictor(view_cols=view_cols, profit_cols=profit_cols)"
   ]
  },
  {
   "cell_type": "code",
   "execution_count": 146,
   "metadata": {
    "collapsed": false
   },
   "outputs": [
    {
     "name": "stdout",
     "output_type": "stream",
     "text": [
      "CPU times: user 38.8 s, sys: 63.4 ms, total: 38.9 s\n",
      "Wall time: 38.9 s\n"
     ]
    },
    {
     "data": {
      "text/plain": [
       "ProfitsPredictor(profit_cols=['difficulty', 'duration', 'reward_t', 'channel_web', 'channel_mobile', 'channel_email', 'channel_social', 'offer_id', 'offer_type'],\n",
       "         view_cols=['difficulty_viewcol', 'duration_viewcol', 'reward_t_viewcol', 'channel_web_viewcol', 'channel_mobile_viewcol', 'channel_email_viewcol', 'channel_social_viewcol', 'offer_id_viewcol', 'offer_type_viewcol'])"
      ]
     },
     "execution_count": 146,
     "metadata": {},
     "output_type": "execute_result"
    }
   ],
   "source": [
    "%time model.fit(X_train, y_train)"
   ]
  },
  {
   "cell_type": "code",
   "execution_count": 147,
   "metadata": {
    "collapsed": false
   },
   "outputs": [],
   "source": [
    "y_pred = model.predict(X_train)"
   ]
  },
  {
   "cell_type": "code",
   "execution_count": 148,
   "metadata": {
    "collapsed": false
   },
   "outputs": [
    {
     "data": {
      "text/plain": [
       "array([53.683846 ,  3.1976643, 19.114822 , ..., 22.862236 , 72.89631  ,\n",
       "       39.40702  ], dtype=float32)"
      ]
     },
     "execution_count": 148,
     "metadata": {},
     "output_type": "execute_result"
    }
   ],
   "source": [
    "y_pred"
   ]
  },
  {
   "cell_type": "code",
   "execution_count": null,
   "metadata": {
    "collapsed": true
   },
   "outputs": [],
   "source": []
  }
 ],
 "metadata": {
  "kernelspec": {
   "display_name": "sbucks",
   "language": "python",
   "name": "sbucks"
  },
  "language_info": {
   "codemirror_mode": {
    "name": "ipython",
    "version": 3
   },
   "file_extension": ".py",
   "mimetype": "text/x-python",
   "name": "python",
   "nbconvert_exporter": "python",
   "pygments_lexer": "ipython3",
   "version": "3.7.1"
  }
 },
 "nbformat": 4,
 "nbformat_minor": 2
}
