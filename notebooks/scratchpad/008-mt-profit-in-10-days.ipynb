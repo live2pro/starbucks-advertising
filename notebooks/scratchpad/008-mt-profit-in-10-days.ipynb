{
 "cells": [
  {
   "cell_type": "code",
   "execution_count": 1,
   "metadata": {
    "collapsed": false
   },
   "outputs": [],
   "source": [
    "import pandas as pd\n",
    "import numpy as np\n",
    "import math\n",
    "import json\n",
    "import os\n",
    "import matplotlib.pyplot as plt\n",
    "%matplotlib inline\n",
    "\n",
    "%load_ext autoreload\n",
    "%autoreload 2\n",
    "\n",
    "from jupyterthemes import jtplot\n",
    "jtplot.style(theme='solarizedd')\n",
    "plt.rcParams['figure.figsize'] = (20.0, 10.0)\n",
    "\n",
    "import data_utils_mt.utils as utils\n",
    "import seaborn as sns\n",
    "from sklearn.pipeline import Pipeline\n",
    "import datetime as dt\n",
    "from xgboost import XGBClassifier\n",
    "\n",
    "ROOT_DIR = '../..'\n",
    "DATA_DIR = os.path.join(ROOT_DIR, 'data')\n",
    "DATA_RAW = os.path.join(DATA_DIR, 'raw')\n",
    "DATA_INTERIM = os.path.join(DATA_DIR, 'interim')\n",
    "DATA_EXTERNAL = os.path.join(DATA_DIR, 'external')\n",
    "DATA_PROCESSED = os.path.join(DATA_DIR, 'processed')\n",
    "SRC = os.path.join(ROOT_DIR, 'src')\n",
    "\n",
    "STATIC_DATASET_PATH = os.path.join(DATA_PROCESSED, 'static_cluster_lagged.pkl')\n",
    "\n",
    "import sys\n",
    "sys.path.append(SRC)\n",
    "\n",
    "import src.data.preprocessing as pp\n",
    "import src.data.success_dataset as sd\n",
    "import src.data.missing_data as md\n",
    "import src.evaluation.offer_success as evos"
   ]
  },
  {
   "cell_type": "code",
   "execution_count": 2,
   "metadata": {
    "collapsed": false
   },
   "outputs": [
    {
     "name": "stdout",
     "output_type": "stream",
     "text": [
      "(76277, 132)\n"
     ]
    },
    {
     "data": {
      "text/html": [
       "<div>\n",
       "<style scoped>\n",
       "    .dataframe tbody tr th:only-of-type {\n",
       "        vertical-align: middle;\n",
       "    }\n",
       "\n",
       "    .dataframe tbody tr th {\n",
       "        vertical-align: top;\n",
       "    }\n",
       "\n",
       "    .dataframe thead th {\n",
       "        text-align: right;\n",
       "    }\n",
       "</style>\n",
       "<table border=\"1\" class=\"dataframe\">\n",
       "  <thead>\n",
       "    <tr style=\"text-align: right;\">\n",
       "      <th></th>\n",
       "      <th>person</th>\n",
       "      <th>time</th>\n",
       "      <th>offer_id</th>\n",
       "      <th>age</th>\n",
       "      <th>became_member_on</th>\n",
       "      <th>gender</th>\n",
       "      <th>income</th>\n",
       "      <th>missing_demographics</th>\n",
       "      <th>member_epoch_days</th>\n",
       "      <th>difficulty</th>\n",
       "      <th>...</th>\n",
       "      <th>difficulty_7.0_success_ratio</th>\n",
       "      <th>reward_10.0_success_ratio</th>\n",
       "      <th>reward_0.0_success_ratio</th>\n",
       "      <th>reward_5.0_success_ratio</th>\n",
       "      <th>reward_3.0_success_ratio</th>\n",
       "      <th>reward_2.0_success_ratio</th>\n",
       "      <th>channel_web_success_ratio</th>\n",
       "      <th>channel_email_success_ratio</th>\n",
       "      <th>channel_social_success_ratio</th>\n",
       "      <th>channel_mobile_success_ratio</th>\n",
       "    </tr>\n",
       "  </thead>\n",
       "  <tbody>\n",
       "    <tr>\n",
       "      <th>0</th>\n",
       "      <td>0009655768c64bdeb2e877511632db8f</td>\n",
       "      <td>168</td>\n",
       "      <td>5a8bc65990b245e5a138643cd4eb9837</td>\n",
       "      <td>33.0</td>\n",
       "      <td>2017-04-21</td>\n",
       "      <td>M</td>\n",
       "      <td>72000.0</td>\n",
       "      <td>0</td>\n",
       "      <td>17277</td>\n",
       "      <td>0.0</td>\n",
       "      <td>...</td>\n",
       "      <td>0.0</td>\n",
       "      <td>0.0</td>\n",
       "      <td>0.0</td>\n",
       "      <td>0.0</td>\n",
       "      <td>0.0</td>\n",
       "      <td>0.0</td>\n",
       "      <td>0.0</td>\n",
       "      <td>0.0</td>\n",
       "      <td>0.0</td>\n",
       "      <td>0.0</td>\n",
       "    </tr>\n",
       "    <tr>\n",
       "      <th>1</th>\n",
       "      <td>0009655768c64bdeb2e877511632db8f</td>\n",
       "      <td>336</td>\n",
       "      <td>3f207df678b143eea3cee63160fa8bed</td>\n",
       "      <td>33.0</td>\n",
       "      <td>2017-04-21</td>\n",
       "      <td>M</td>\n",
       "      <td>72000.0</td>\n",
       "      <td>0</td>\n",
       "      <td>17277</td>\n",
       "      <td>0.0</td>\n",
       "      <td>...</td>\n",
       "      <td>0.0</td>\n",
       "      <td>0.0</td>\n",
       "      <td>0.0</td>\n",
       "      <td>0.0</td>\n",
       "      <td>0.0</td>\n",
       "      <td>0.0</td>\n",
       "      <td>0.0</td>\n",
       "      <td>0.0</td>\n",
       "      <td>0.0</td>\n",
       "      <td>0.0</td>\n",
       "    </tr>\n",
       "    <tr>\n",
       "      <th>2</th>\n",
       "      <td>0009655768c64bdeb2e877511632db8f</td>\n",
       "      <td>408</td>\n",
       "      <td>f19421c1d4aa40978ebb69ca19b0e20d</td>\n",
       "      <td>33.0</td>\n",
       "      <td>2017-04-21</td>\n",
       "      <td>M</td>\n",
       "      <td>72000.0</td>\n",
       "      <td>0</td>\n",
       "      <td>17277</td>\n",
       "      <td>5.0</td>\n",
       "      <td>...</td>\n",
       "      <td>0.0</td>\n",
       "      <td>0.0</td>\n",
       "      <td>0.0</td>\n",
       "      <td>0.0</td>\n",
       "      <td>0.0</td>\n",
       "      <td>0.0</td>\n",
       "      <td>0.0</td>\n",
       "      <td>0.0</td>\n",
       "      <td>0.0</td>\n",
       "      <td>0.0</td>\n",
       "    </tr>\n",
       "    <tr>\n",
       "      <th>3</th>\n",
       "      <td>0009655768c64bdeb2e877511632db8f</td>\n",
       "      <td>504</td>\n",
       "      <td>fafdcd668e3743c1bb461111dcafc2a4</td>\n",
       "      <td>33.0</td>\n",
       "      <td>2017-04-21</td>\n",
       "      <td>M</td>\n",
       "      <td>72000.0</td>\n",
       "      <td>0</td>\n",
       "      <td>17277</td>\n",
       "      <td>10.0</td>\n",
       "      <td>...</td>\n",
       "      <td>0.0</td>\n",
       "      <td>0.0</td>\n",
       "      <td>0.0</td>\n",
       "      <td>0.0</td>\n",
       "      <td>0.0</td>\n",
       "      <td>0.0</td>\n",
       "      <td>0.0</td>\n",
       "      <td>0.0</td>\n",
       "      <td>0.0</td>\n",
       "      <td>0.0</td>\n",
       "    </tr>\n",
       "    <tr>\n",
       "      <th>4</th>\n",
       "      <td>0009655768c64bdeb2e877511632db8f</td>\n",
       "      <td>576</td>\n",
       "      <td>2906b810c7d4411798c6938adc9daaa5</td>\n",
       "      <td>33.0</td>\n",
       "      <td>2017-04-21</td>\n",
       "      <td>M</td>\n",
       "      <td>72000.0</td>\n",
       "      <td>0</td>\n",
       "      <td>17277</td>\n",
       "      <td>10.0</td>\n",
       "      <td>...</td>\n",
       "      <td>0.0</td>\n",
       "      <td>0.0</td>\n",
       "      <td>0.0</td>\n",
       "      <td>0.0</td>\n",
       "      <td>0.0</td>\n",
       "      <td>0.0</td>\n",
       "      <td>0.0</td>\n",
       "      <td>0.0</td>\n",
       "      <td>0.0</td>\n",
       "      <td>0.0</td>\n",
       "    </tr>\n",
       "  </tbody>\n",
       "</table>\n",
       "<p>5 rows × 132 columns</p>\n",
       "</div>"
      ],
      "text/plain": [
       "                             person  time                          offer_id  \\\n",
       "0  0009655768c64bdeb2e877511632db8f   168  5a8bc65990b245e5a138643cd4eb9837   \n",
       "1  0009655768c64bdeb2e877511632db8f   336  3f207df678b143eea3cee63160fa8bed   \n",
       "2  0009655768c64bdeb2e877511632db8f   408  f19421c1d4aa40978ebb69ca19b0e20d   \n",
       "3  0009655768c64bdeb2e877511632db8f   504  fafdcd668e3743c1bb461111dcafc2a4   \n",
       "4  0009655768c64bdeb2e877511632db8f   576  2906b810c7d4411798c6938adc9daaa5   \n",
       "\n",
       "    age became_member_on gender   income  missing_demographics  \\\n",
       "0  33.0       2017-04-21      M  72000.0                     0   \n",
       "1  33.0       2017-04-21      M  72000.0                     0   \n",
       "2  33.0       2017-04-21      M  72000.0                     0   \n",
       "3  33.0       2017-04-21      M  72000.0                     0   \n",
       "4  33.0       2017-04-21      M  72000.0                     0   \n",
       "\n",
       "   member_epoch_days  difficulty              ...               \\\n",
       "0              17277         0.0              ...                \n",
       "1              17277         0.0              ...                \n",
       "2              17277         5.0              ...                \n",
       "3              17277        10.0              ...                \n",
       "4              17277        10.0              ...                \n",
       "\n",
       "   difficulty_7.0_success_ratio reward_10.0_success_ratio  \\\n",
       "0                           0.0                       0.0   \n",
       "1                           0.0                       0.0   \n",
       "2                           0.0                       0.0   \n",
       "3                           0.0                       0.0   \n",
       "4                           0.0                       0.0   \n",
       "\n",
       "   reward_0.0_success_ratio  reward_5.0_success_ratio  \\\n",
       "0                       0.0                       0.0   \n",
       "1                       0.0                       0.0   \n",
       "2                       0.0                       0.0   \n",
       "3                       0.0                       0.0   \n",
       "4                       0.0                       0.0   \n",
       "\n",
       "   reward_3.0_success_ratio  reward_2.0_success_ratio  \\\n",
       "0                       0.0                       0.0   \n",
       "1                       0.0                       0.0   \n",
       "2                       0.0                       0.0   \n",
       "3                       0.0                       0.0   \n",
       "4                       0.0                       0.0   \n",
       "\n",
       "   channel_web_success_ratio  channel_email_success_ratio  \\\n",
       "0                        0.0                          0.0   \n",
       "1                        0.0                          0.0   \n",
       "2                        0.0                          0.0   \n",
       "3                        0.0                          0.0   \n",
       "4                        0.0                          0.0   \n",
       "\n",
       "   channel_social_success_ratio  channel_mobile_success_ratio  \n",
       "0                           0.0                           0.0  \n",
       "1                           0.0                           0.0  \n",
       "2                           0.0                           0.0  \n",
       "3                           0.0                           0.0  \n",
       "4                           0.0                           0.0  \n",
       "\n",
       "[5 rows x 132 columns]"
      ]
     },
     "execution_count": 2,
     "metadata": {},
     "output_type": "execute_result"
    }
   ],
   "source": [
    "static_data = pd.read_pickle(STATIC_DATASET_PATH)\n",
    "print(static_data.shape)\n",
    "static_data.head()"
   ]
  },
  {
   "cell_type": "markdown",
   "metadata": {},
   "source": [
    "I should modify the fill_profits function from the preprocessing module. As I will be only adding a column, that shouldn't affect the old code (I could add a boolean in the signature if anything goes wrong). Let's use the old functions to get the data needed."
   ]
  },
  {
   "cell_type": "markdown",
   "metadata": {},
   "source": [
    "We have to differentiate the case when the customer has viewed an offer in the last 10 days, from the case in which it hasn't."
   ]
  },
  {
   "cell_type": "code",
   "execution_count": 3,
   "metadata": {
    "collapsed": false
   },
   "outputs": [
    {
     "data": {
      "text/plain": [
       "0.7502523696527131"
      ]
     },
     "execution_count": 3,
     "metadata": {},
     "output_type": "execute_result"
    }
   ],
   "source": [
    "static_data.viewed.mean()"
   ]
  },
  {
   "cell_type": "markdown",
   "metadata": {},
   "source": [
    "So, 75% of the sent offers are seen."
   ]
  },
  {
   "cell_type": "code",
   "execution_count": null,
   "metadata": {
    "collapsed": true
   },
   "outputs": [],
   "source": []
  },
  {
   "cell_type": "code",
   "execution_count": 4,
   "metadata": {
    "collapsed": false
   },
   "outputs": [
    {
     "name": "stdout",
     "output_type": "stream",
     "text": [
      "Basic preprocessing\n",
      "CPU times: user 3.25 s, sys: 204 ms, total: 3.45 s\n",
      "Wall time: 2.21 s\n"
     ]
    }
   ],
   "source": [
    "# Read the data\n",
    "portfolio = pd.read_json(os.path.join(DATA_RAW, 'portfolio.json'), orient='records', lines=True)\n",
    "profile = pd.read_json(os.path.join(DATA_RAW, 'profile.json'), orient='records', lines=True)\n",
    "transcript = pd.read_json(os.path.join(DATA_RAW, 'transcript.json'), orient='records', lines=True)\n",
    "\n",
    "# Basic Preprocessing\n",
    "print('Basic preprocessing')\n",
    "%time data, portfolio = pp.basic_preprocessing(portfolio, profile, transcript)"
   ]
  },
  {
   "cell_type": "code",
   "execution_count": 5,
   "metadata": {
    "collapsed": false
   },
   "outputs": [
    {
     "name": "stdout",
     "output_type": "stream",
     "text": [
      "(306534, 20)\n"
     ]
    },
    {
     "data": {
      "text/html": [
       "<div>\n",
       "<style scoped>\n",
       "    .dataframe tbody tr th:only-of-type {\n",
       "        vertical-align: middle;\n",
       "    }\n",
       "\n",
       "    .dataframe tbody tr th {\n",
       "        vertical-align: top;\n",
       "    }\n",
       "\n",
       "    .dataframe thead th {\n",
       "        text-align: right;\n",
       "    }\n",
       "</style>\n",
       "<table border=\"1\" class=\"dataframe\">\n",
       "  <thead>\n",
       "    <tr style=\"text-align: right;\">\n",
       "      <th></th>\n",
       "      <th>event</th>\n",
       "      <th>person</th>\n",
       "      <th>time</th>\n",
       "      <th>amount</th>\n",
       "      <th>offer_id</th>\n",
       "      <th>reward</th>\n",
       "      <th>age</th>\n",
       "      <th>became_member_on</th>\n",
       "      <th>gender</th>\n",
       "      <th>income</th>\n",
       "      <th>missing_demographics</th>\n",
       "      <th>member_epoch_days</th>\n",
       "      <th>difficulty</th>\n",
       "      <th>duration</th>\n",
       "      <th>offer_type</th>\n",
       "      <th>reward_t</th>\n",
       "      <th>channel_mobile</th>\n",
       "      <th>channel_social</th>\n",
       "      <th>channel_email</th>\n",
       "      <th>channel_web</th>\n",
       "    </tr>\n",
       "  </thead>\n",
       "  <tbody>\n",
       "    <tr>\n",
       "      <th>0</th>\n",
       "      <td>offer received</td>\n",
       "      <td>78afa995795e4d85b5d9ceeca43f5fef</td>\n",
       "      <td>0</td>\n",
       "      <td>NaN</td>\n",
       "      <td>9b98b8c7a33c4b65b9aebfe6a799e6d9</td>\n",
       "      <td>NaN</td>\n",
       "      <td>75.0</td>\n",
       "      <td>2017-05-09</td>\n",
       "      <td>F</td>\n",
       "      <td>100000.0</td>\n",
       "      <td>0</td>\n",
       "      <td>17295</td>\n",
       "      <td>5.0</td>\n",
       "      <td>7.0</td>\n",
       "      <td>bogo</td>\n",
       "      <td>5.0</td>\n",
       "      <td>1.0</td>\n",
       "      <td>0.0</td>\n",
       "      <td>1.0</td>\n",
       "      <td>1.0</td>\n",
       "    </tr>\n",
       "    <tr>\n",
       "      <th>1</th>\n",
       "      <td>offer received</td>\n",
       "      <td>a03223e636434f42ac4c3df47e8bac43</td>\n",
       "      <td>0</td>\n",
       "      <td>NaN</td>\n",
       "      <td>0b1e1539f2cc45b7b9fa7c272da2e1d7</td>\n",
       "      <td>NaN</td>\n",
       "      <td>NaN</td>\n",
       "      <td>2017-08-04</td>\n",
       "      <td>None</td>\n",
       "      <td>NaN</td>\n",
       "      <td>1</td>\n",
       "      <td>17382</td>\n",
       "      <td>20.0</td>\n",
       "      <td>10.0</td>\n",
       "      <td>discount</td>\n",
       "      <td>5.0</td>\n",
       "      <td>0.0</td>\n",
       "      <td>0.0</td>\n",
       "      <td>1.0</td>\n",
       "      <td>1.0</td>\n",
       "    </tr>\n",
       "    <tr>\n",
       "      <th>2</th>\n",
       "      <td>offer received</td>\n",
       "      <td>e2127556f4f64592b11af22de27a7932</td>\n",
       "      <td>0</td>\n",
       "      <td>NaN</td>\n",
       "      <td>2906b810c7d4411798c6938adc9daaa5</td>\n",
       "      <td>NaN</td>\n",
       "      <td>68.0</td>\n",
       "      <td>2018-04-26</td>\n",
       "      <td>M</td>\n",
       "      <td>70000.0</td>\n",
       "      <td>0</td>\n",
       "      <td>17647</td>\n",
       "      <td>10.0</td>\n",
       "      <td>7.0</td>\n",
       "      <td>discount</td>\n",
       "      <td>2.0</td>\n",
       "      <td>1.0</td>\n",
       "      <td>0.0</td>\n",
       "      <td>1.0</td>\n",
       "      <td>1.0</td>\n",
       "    </tr>\n",
       "    <tr>\n",
       "      <th>3</th>\n",
       "      <td>offer received</td>\n",
       "      <td>8ec6ce2a7e7949b1bf142def7d0e0586</td>\n",
       "      <td>0</td>\n",
       "      <td>NaN</td>\n",
       "      <td>fafdcd668e3743c1bb461111dcafc2a4</td>\n",
       "      <td>NaN</td>\n",
       "      <td>NaN</td>\n",
       "      <td>2017-09-25</td>\n",
       "      <td>None</td>\n",
       "      <td>NaN</td>\n",
       "      <td>1</td>\n",
       "      <td>17434</td>\n",
       "      <td>10.0</td>\n",
       "      <td>10.0</td>\n",
       "      <td>discount</td>\n",
       "      <td>2.0</td>\n",
       "      <td>1.0</td>\n",
       "      <td>1.0</td>\n",
       "      <td>1.0</td>\n",
       "      <td>1.0</td>\n",
       "    </tr>\n",
       "    <tr>\n",
       "      <th>4</th>\n",
       "      <td>offer received</td>\n",
       "      <td>68617ca6246f4fbc85e91a2a49552598</td>\n",
       "      <td>0</td>\n",
       "      <td>NaN</td>\n",
       "      <td>4d5c57ea9a6940dd891ad53e9dbe8da0</td>\n",
       "      <td>NaN</td>\n",
       "      <td>NaN</td>\n",
       "      <td>2017-10-02</td>\n",
       "      <td>None</td>\n",
       "      <td>NaN</td>\n",
       "      <td>1</td>\n",
       "      <td>17441</td>\n",
       "      <td>10.0</td>\n",
       "      <td>5.0</td>\n",
       "      <td>bogo</td>\n",
       "      <td>10.0</td>\n",
       "      <td>1.0</td>\n",
       "      <td>1.0</td>\n",
       "      <td>1.0</td>\n",
       "      <td>1.0</td>\n",
       "    </tr>\n",
       "  </tbody>\n",
       "</table>\n",
       "</div>"
      ],
      "text/plain": [
       "            event                            person  time  amount  \\\n",
       "0  offer received  78afa995795e4d85b5d9ceeca43f5fef     0     NaN   \n",
       "1  offer received  a03223e636434f42ac4c3df47e8bac43     0     NaN   \n",
       "2  offer received  e2127556f4f64592b11af22de27a7932     0     NaN   \n",
       "3  offer received  8ec6ce2a7e7949b1bf142def7d0e0586     0     NaN   \n",
       "4  offer received  68617ca6246f4fbc85e91a2a49552598     0     NaN   \n",
       "\n",
       "                           offer_id  reward   age became_member_on gender  \\\n",
       "0  9b98b8c7a33c4b65b9aebfe6a799e6d9     NaN  75.0       2017-05-09      F   \n",
       "1  0b1e1539f2cc45b7b9fa7c272da2e1d7     NaN   NaN       2017-08-04   None   \n",
       "2  2906b810c7d4411798c6938adc9daaa5     NaN  68.0       2018-04-26      M   \n",
       "3  fafdcd668e3743c1bb461111dcafc2a4     NaN   NaN       2017-09-25   None   \n",
       "4  4d5c57ea9a6940dd891ad53e9dbe8da0     NaN   NaN       2017-10-02   None   \n",
       "\n",
       "     income  missing_demographics  member_epoch_days  difficulty  duration  \\\n",
       "0  100000.0                     0              17295         5.0       7.0   \n",
       "1       NaN                     1              17382        20.0      10.0   \n",
       "2   70000.0                     0              17647        10.0       7.0   \n",
       "3       NaN                     1              17434        10.0      10.0   \n",
       "4       NaN                     1              17441        10.0       5.0   \n",
       "\n",
       "  offer_type  reward_t  channel_mobile  channel_social  channel_email  \\\n",
       "0       bogo       5.0             1.0             0.0            1.0   \n",
       "1   discount       5.0             0.0             0.0            1.0   \n",
       "2   discount       2.0             1.0             0.0            1.0   \n",
       "3   discount       2.0             1.0             1.0            1.0   \n",
       "4       bogo      10.0             1.0             1.0            1.0   \n",
       "\n",
       "   channel_web  \n",
       "0          1.0  \n",
       "1          1.0  \n",
       "2          1.0  \n",
       "3          1.0  \n",
       "4          1.0  "
      ]
     },
     "execution_count": 5,
     "metadata": {},
     "output_type": "execute_result"
    }
   ],
   "source": [
    "print(data.shape)\n",
    "data.head()"
   ]
  },
  {
   "cell_type": "code",
   "execution_count": 6,
   "metadata": {
    "collapsed": false
   },
   "outputs": [
    {
     "data": {
      "text/plain": [
       "17000"
      ]
     },
     "execution_count": 6,
     "metadata": {},
     "output_type": "execute_result"
    }
   ],
   "source": [
    "data.person.nunique()"
   ]
  },
  {
   "cell_type": "code",
   "execution_count": 7,
   "metadata": {
    "collapsed": false
   },
   "outputs": [
    {
     "data": {
      "text/plain": [
       "120"
      ]
     },
     "execution_count": 7,
     "metadata": {},
     "output_type": "execute_result"
    }
   ],
   "source": [
    "data.time.nunique()"
   ]
  },
  {
   "cell_type": "code",
   "execution_count": 8,
   "metadata": {
    "collapsed": true
   },
   "outputs": [],
   "source": [
    "received, viewed, completed, transactions = pp.split_transcript(data)"
   ]
  },
  {
   "cell_type": "code",
   "execution_count": 9,
   "metadata": {
    "collapsed": false
   },
   "outputs": [
    {
     "data": {
      "text/html": [
       "<div>\n",
       "<style scoped>\n",
       "    .dataframe tbody tr th:only-of-type {\n",
       "        vertical-align: middle;\n",
       "    }\n",
       "\n",
       "    .dataframe tbody tr th {\n",
       "        vertical-align: top;\n",
       "    }\n",
       "\n",
       "    .dataframe thead th {\n",
       "        text-align: right;\n",
       "    }\n",
       "</style>\n",
       "<table border=\"1\" class=\"dataframe\">\n",
       "  <thead>\n",
       "    <tr style=\"text-align: right;\">\n",
       "      <th></th>\n",
       "      <th>event</th>\n",
       "      <th>person</th>\n",
       "      <th>time</th>\n",
       "      <th>amount</th>\n",
       "      <th>offer_id</th>\n",
       "      <th>reward</th>\n",
       "      <th>age</th>\n",
       "      <th>became_member_on</th>\n",
       "      <th>gender</th>\n",
       "      <th>income</th>\n",
       "      <th>missing_demographics</th>\n",
       "      <th>member_epoch_days</th>\n",
       "      <th>difficulty</th>\n",
       "      <th>duration</th>\n",
       "      <th>offer_type</th>\n",
       "      <th>reward_t</th>\n",
       "      <th>channel_mobile</th>\n",
       "      <th>channel_social</th>\n",
       "      <th>channel_email</th>\n",
       "      <th>channel_web</th>\n",
       "    </tr>\n",
       "  </thead>\n",
       "  <tbody>\n",
       "    <tr>\n",
       "      <th>12654</th>\n",
       "      <td>transaction</td>\n",
       "      <td>02c083884c7d45b39cc68e1314fec56c</td>\n",
       "      <td>0</td>\n",
       "      <td>0.83</td>\n",
       "      <td>NaN</td>\n",
       "      <td>NaN</td>\n",
       "      <td>20.0</td>\n",
       "      <td>2016-07-11</td>\n",
       "      <td>F</td>\n",
       "      <td>30000.0</td>\n",
       "      <td>0</td>\n",
       "      <td>16993</td>\n",
       "      <td>NaN</td>\n",
       "      <td>NaN</td>\n",
       "      <td>NaN</td>\n",
       "      <td>NaN</td>\n",
       "      <td>NaN</td>\n",
       "      <td>NaN</td>\n",
       "      <td>NaN</td>\n",
       "      <td>NaN</td>\n",
       "    </tr>\n",
       "    <tr>\n",
       "      <th>12657</th>\n",
       "      <td>transaction</td>\n",
       "      <td>9fa9ae8f57894cc9a3b8a9bbe0fc1b2f</td>\n",
       "      <td>0</td>\n",
       "      <td>34.56</td>\n",
       "      <td>NaN</td>\n",
       "      <td>NaN</td>\n",
       "      <td>42.0</td>\n",
       "      <td>2016-01-17</td>\n",
       "      <td>M</td>\n",
       "      <td>96000.0</td>\n",
       "      <td>0</td>\n",
       "      <td>16817</td>\n",
       "      <td>NaN</td>\n",
       "      <td>NaN</td>\n",
       "      <td>NaN</td>\n",
       "      <td>NaN</td>\n",
       "      <td>NaN</td>\n",
       "      <td>NaN</td>\n",
       "      <td>NaN</td>\n",
       "      <td>NaN</td>\n",
       "    </tr>\n",
       "    <tr>\n",
       "      <th>12659</th>\n",
       "      <td>transaction</td>\n",
       "      <td>54890f68699049c2a04d415abc25e717</td>\n",
       "      <td>0</td>\n",
       "      <td>13.23</td>\n",
       "      <td>NaN</td>\n",
       "      <td>NaN</td>\n",
       "      <td>36.0</td>\n",
       "      <td>2017-12-28</td>\n",
       "      <td>M</td>\n",
       "      <td>56000.0</td>\n",
       "      <td>0</td>\n",
       "      <td>17528</td>\n",
       "      <td>NaN</td>\n",
       "      <td>NaN</td>\n",
       "      <td>NaN</td>\n",
       "      <td>NaN</td>\n",
       "      <td>NaN</td>\n",
       "      <td>NaN</td>\n",
       "      <td>NaN</td>\n",
       "      <td>NaN</td>\n",
       "    </tr>\n",
       "    <tr>\n",
       "      <th>12670</th>\n",
       "      <td>transaction</td>\n",
       "      <td>b2f1cd155b864803ad8334cdf13c4bd2</td>\n",
       "      <td>0</td>\n",
       "      <td>19.51</td>\n",
       "      <td>NaN</td>\n",
       "      <td>NaN</td>\n",
       "      <td>55.0</td>\n",
       "      <td>2017-10-16</td>\n",
       "      <td>F</td>\n",
       "      <td>94000.0</td>\n",
       "      <td>0</td>\n",
       "      <td>17455</td>\n",
       "      <td>NaN</td>\n",
       "      <td>NaN</td>\n",
       "      <td>NaN</td>\n",
       "      <td>NaN</td>\n",
       "      <td>NaN</td>\n",
       "      <td>NaN</td>\n",
       "      <td>NaN</td>\n",
       "      <td>NaN</td>\n",
       "    </tr>\n",
       "    <tr>\n",
       "      <th>12671</th>\n",
       "      <td>transaction</td>\n",
       "      <td>fe97aa22dd3e48c8b143116a8403dd52</td>\n",
       "      <td>0</td>\n",
       "      <td>18.97</td>\n",
       "      <td>NaN</td>\n",
       "      <td>NaN</td>\n",
       "      <td>39.0</td>\n",
       "      <td>2017-12-17</td>\n",
       "      <td>F</td>\n",
       "      <td>67000.0</td>\n",
       "      <td>0</td>\n",
       "      <td>17517</td>\n",
       "      <td>NaN</td>\n",
       "      <td>NaN</td>\n",
       "      <td>NaN</td>\n",
       "      <td>NaN</td>\n",
       "      <td>NaN</td>\n",
       "      <td>NaN</td>\n",
       "      <td>NaN</td>\n",
       "      <td>NaN</td>\n",
       "    </tr>\n",
       "  </tbody>\n",
       "</table>\n",
       "</div>"
      ],
      "text/plain": [
       "             event                            person  time  amount offer_id  \\\n",
       "12654  transaction  02c083884c7d45b39cc68e1314fec56c     0    0.83      NaN   \n",
       "12657  transaction  9fa9ae8f57894cc9a3b8a9bbe0fc1b2f     0   34.56      NaN   \n",
       "12659  transaction  54890f68699049c2a04d415abc25e717     0   13.23      NaN   \n",
       "12670  transaction  b2f1cd155b864803ad8334cdf13c4bd2     0   19.51      NaN   \n",
       "12671  transaction  fe97aa22dd3e48c8b143116a8403dd52     0   18.97      NaN   \n",
       "\n",
       "       reward   age became_member_on gender   income  missing_demographics  \\\n",
       "12654     NaN  20.0       2016-07-11      F  30000.0                     0   \n",
       "12657     NaN  42.0       2016-01-17      M  96000.0                     0   \n",
       "12659     NaN  36.0       2017-12-28      M  56000.0                     0   \n",
       "12670     NaN  55.0       2017-10-16      F  94000.0                     0   \n",
       "12671     NaN  39.0       2017-12-17      F  67000.0                     0   \n",
       "\n",
       "       member_epoch_days  difficulty  duration offer_type  reward_t  \\\n",
       "12654              16993         NaN       NaN        NaN       NaN   \n",
       "12657              16817         NaN       NaN        NaN       NaN   \n",
       "12659              17528         NaN       NaN        NaN       NaN   \n",
       "12670              17455         NaN       NaN        NaN       NaN   \n",
       "12671              17517         NaN       NaN        NaN       NaN   \n",
       "\n",
       "       channel_mobile  channel_social  channel_email  channel_web  \n",
       "12654             NaN             NaN            NaN          NaN  \n",
       "12657             NaN             NaN            NaN          NaN  \n",
       "12659             NaN             NaN            NaN          NaN  \n",
       "12670             NaN             NaN            NaN          NaN  \n",
       "12671             NaN             NaN            NaN          NaN  "
      ]
     },
     "execution_count": 9,
     "metadata": {},
     "output_type": "execute_result"
    }
   ],
   "source": [
    "transactions.head()"
   ]
  },
  {
   "cell_type": "code",
   "execution_count": null,
   "metadata": {
    "collapsed": false
   },
   "outputs": [],
   "source": []
  },
  {
   "cell_type": "code",
   "execution_count": 10,
   "metadata": {
    "collapsed": false
   },
   "outputs": [
    {
     "name": "stdout",
     "output_type": "stream",
     "text": [
      "(120, 17000)\n"
     ]
    },
    {
     "data": {
      "text/html": [
       "<div>\n",
       "<style scoped>\n",
       "    .dataframe tbody tr th:only-of-type {\n",
       "        vertical-align: middle;\n",
       "    }\n",
       "\n",
       "    .dataframe tbody tr th {\n",
       "        vertical-align: top;\n",
       "    }\n",
       "\n",
       "    .dataframe thead th {\n",
       "        text-align: right;\n",
       "    }\n",
       "</style>\n",
       "<table border=\"1\" class=\"dataframe\">\n",
       "  <thead>\n",
       "    <tr style=\"text-align: right;\">\n",
       "      <th></th>\n",
       "      <th>78afa995795e4d85b5d9ceeca43f5fef</th>\n",
       "      <th>a03223e636434f42ac4c3df47e8bac43</th>\n",
       "      <th>e2127556f4f64592b11af22de27a7932</th>\n",
       "      <th>8ec6ce2a7e7949b1bf142def7d0e0586</th>\n",
       "      <th>68617ca6246f4fbc85e91a2a49552598</th>\n",
       "      <th>389bc3fa690240e798340f5a15918d5c</th>\n",
       "      <th>c4863c7985cf408faee930f111475da3</th>\n",
       "      <th>2eeac8d8feae4a8cad5a6af0499a211d</th>\n",
       "      <th>aa4862eba776480b8bb9c68455b8c2e1</th>\n",
       "      <th>31dda685af34476cad5bc968bdb01c53</th>\n",
       "      <th>...</th>\n",
       "      <th>22617705eec442e0b7b43e5c5f56fb17</th>\n",
       "      <th>fc966e9c3edc4578a1fb4c6a8c2659c2</th>\n",
       "      <th>47683732768a4f7db7abb710ca22e66e</th>\n",
       "      <th>3873fe915496482eb589fa316ae7b0db</th>\n",
       "      <th>8578196a074a4f328976e334fa9383a3</th>\n",
       "      <th>9fcbff4f8d7241faa4ab8a9d19c8a812</th>\n",
       "      <th>ebae5093b436466c9fbd097cb7434023</th>\n",
       "      <th>912b9f623b9e4b4eb99b6dc919f09a93</th>\n",
       "      <th>3045af4e98794a04a5542d3eac939b1f</th>\n",
       "      <th>da7a7c0dcfcb41a8acc7864a53cf60fb</th>\n",
       "    </tr>\n",
       "  </thead>\n",
       "  <tbody>\n",
       "    <tr>\n",
       "      <th>0</th>\n",
       "      <td>0.0</td>\n",
       "      <td>0.0</td>\n",
       "      <td>0.0</td>\n",
       "      <td>0.0</td>\n",
       "      <td>0.0</td>\n",
       "      <td>0.0</td>\n",
       "      <td>0.0</td>\n",
       "      <td>0.0</td>\n",
       "      <td>0.0</td>\n",
       "      <td>0.0</td>\n",
       "      <td>...</td>\n",
       "      <td>0.0</td>\n",
       "      <td>0.0</td>\n",
       "      <td>0.0</td>\n",
       "      <td>0.0</td>\n",
       "      <td>0.0</td>\n",
       "      <td>0.0</td>\n",
       "      <td>0.0</td>\n",
       "      <td>0.0</td>\n",
       "      <td>0.0</td>\n",
       "      <td>0.0</td>\n",
       "    </tr>\n",
       "    <tr>\n",
       "      <th>6</th>\n",
       "      <td>0.0</td>\n",
       "      <td>0.0</td>\n",
       "      <td>0.0</td>\n",
       "      <td>0.0</td>\n",
       "      <td>0.0</td>\n",
       "      <td>0.0</td>\n",
       "      <td>0.0</td>\n",
       "      <td>0.0</td>\n",
       "      <td>0.0</td>\n",
       "      <td>0.0</td>\n",
       "      <td>...</td>\n",
       "      <td>0.0</td>\n",
       "      <td>0.0</td>\n",
       "      <td>0.0</td>\n",
       "      <td>0.0</td>\n",
       "      <td>0.0</td>\n",
       "      <td>0.0</td>\n",
       "      <td>0.0</td>\n",
       "      <td>0.0</td>\n",
       "      <td>0.0</td>\n",
       "      <td>0.0</td>\n",
       "    </tr>\n",
       "    <tr>\n",
       "      <th>12</th>\n",
       "      <td>0.0</td>\n",
       "      <td>0.0</td>\n",
       "      <td>0.0</td>\n",
       "      <td>0.0</td>\n",
       "      <td>0.0</td>\n",
       "      <td>0.0</td>\n",
       "      <td>0.0</td>\n",
       "      <td>0.0</td>\n",
       "      <td>0.0</td>\n",
       "      <td>0.0</td>\n",
       "      <td>...</td>\n",
       "      <td>0.0</td>\n",
       "      <td>0.0</td>\n",
       "      <td>0.0</td>\n",
       "      <td>0.0</td>\n",
       "      <td>0.0</td>\n",
       "      <td>0.0</td>\n",
       "      <td>0.0</td>\n",
       "      <td>0.0</td>\n",
       "      <td>0.0</td>\n",
       "      <td>0.0</td>\n",
       "    </tr>\n",
       "    <tr>\n",
       "      <th>18</th>\n",
       "      <td>0.0</td>\n",
       "      <td>0.0</td>\n",
       "      <td>0.0</td>\n",
       "      <td>0.0</td>\n",
       "      <td>0.0</td>\n",
       "      <td>0.0</td>\n",
       "      <td>0.0</td>\n",
       "      <td>0.0</td>\n",
       "      <td>0.0</td>\n",
       "      <td>0.0</td>\n",
       "      <td>...</td>\n",
       "      <td>0.0</td>\n",
       "      <td>0.0</td>\n",
       "      <td>0.0</td>\n",
       "      <td>0.0</td>\n",
       "      <td>0.0</td>\n",
       "      <td>0.0</td>\n",
       "      <td>0.0</td>\n",
       "      <td>0.0</td>\n",
       "      <td>0.0</td>\n",
       "      <td>0.0</td>\n",
       "    </tr>\n",
       "    <tr>\n",
       "      <th>24</th>\n",
       "      <td>0.0</td>\n",
       "      <td>0.0</td>\n",
       "      <td>0.0</td>\n",
       "      <td>0.0</td>\n",
       "      <td>0.0</td>\n",
       "      <td>0.0</td>\n",
       "      <td>0.0</td>\n",
       "      <td>0.0</td>\n",
       "      <td>0.0</td>\n",
       "      <td>0.0</td>\n",
       "      <td>...</td>\n",
       "      <td>0.0</td>\n",
       "      <td>0.0</td>\n",
       "      <td>0.0</td>\n",
       "      <td>0.0</td>\n",
       "      <td>0.0</td>\n",
       "      <td>0.0</td>\n",
       "      <td>0.0</td>\n",
       "      <td>0.0</td>\n",
       "      <td>0.0</td>\n",
       "      <td>0.0</td>\n",
       "    </tr>\n",
       "  </tbody>\n",
       "</table>\n",
       "<p>5 rows × 17000 columns</p>\n",
       "</div>"
      ],
      "text/plain": [
       "    78afa995795e4d85b5d9ceeca43f5fef  a03223e636434f42ac4c3df47e8bac43  \\\n",
       "0                                0.0                               0.0   \n",
       "6                                0.0                               0.0   \n",
       "12                               0.0                               0.0   \n",
       "18                               0.0                               0.0   \n",
       "24                               0.0                               0.0   \n",
       "\n",
       "    e2127556f4f64592b11af22de27a7932  8ec6ce2a7e7949b1bf142def7d0e0586  \\\n",
       "0                                0.0                               0.0   \n",
       "6                                0.0                               0.0   \n",
       "12                               0.0                               0.0   \n",
       "18                               0.0                               0.0   \n",
       "24                               0.0                               0.0   \n",
       "\n",
       "    68617ca6246f4fbc85e91a2a49552598  389bc3fa690240e798340f5a15918d5c  \\\n",
       "0                                0.0                               0.0   \n",
       "6                                0.0                               0.0   \n",
       "12                               0.0                               0.0   \n",
       "18                               0.0                               0.0   \n",
       "24                               0.0                               0.0   \n",
       "\n",
       "    c4863c7985cf408faee930f111475da3  2eeac8d8feae4a8cad5a6af0499a211d  \\\n",
       "0                                0.0                               0.0   \n",
       "6                                0.0                               0.0   \n",
       "12                               0.0                               0.0   \n",
       "18                               0.0                               0.0   \n",
       "24                               0.0                               0.0   \n",
       "\n",
       "    aa4862eba776480b8bb9c68455b8c2e1  31dda685af34476cad5bc968bdb01c53  \\\n",
       "0                                0.0                               0.0   \n",
       "6                                0.0                               0.0   \n",
       "12                               0.0                               0.0   \n",
       "18                               0.0                               0.0   \n",
       "24                               0.0                               0.0   \n",
       "\n",
       "                  ...                 22617705eec442e0b7b43e5c5f56fb17  \\\n",
       "0                 ...                                              0.0   \n",
       "6                 ...                                              0.0   \n",
       "12                ...                                              0.0   \n",
       "18                ...                                              0.0   \n",
       "24                ...                                              0.0   \n",
       "\n",
       "    fc966e9c3edc4578a1fb4c6a8c2659c2  47683732768a4f7db7abb710ca22e66e  \\\n",
       "0                                0.0                               0.0   \n",
       "6                                0.0                               0.0   \n",
       "12                               0.0                               0.0   \n",
       "18                               0.0                               0.0   \n",
       "24                               0.0                               0.0   \n",
       "\n",
       "    3873fe915496482eb589fa316ae7b0db  8578196a074a4f328976e334fa9383a3  \\\n",
       "0                                0.0                               0.0   \n",
       "6                                0.0                               0.0   \n",
       "12                               0.0                               0.0   \n",
       "18                               0.0                               0.0   \n",
       "24                               0.0                               0.0   \n",
       "\n",
       "    9fcbff4f8d7241faa4ab8a9d19c8a812  ebae5093b436466c9fbd097cb7434023  \\\n",
       "0                                0.0                               0.0   \n",
       "6                                0.0                               0.0   \n",
       "12                               0.0                               0.0   \n",
       "18                               0.0                               0.0   \n",
       "24                               0.0                               0.0   \n",
       "\n",
       "    912b9f623b9e4b4eb99b6dc919f09a93  3045af4e98794a04a5542d3eac939b1f  \\\n",
       "0                                0.0                               0.0   \n",
       "6                                0.0                               0.0   \n",
       "12                               0.0                               0.0   \n",
       "18                               0.0                               0.0   \n",
       "24                               0.0                               0.0   \n",
       "\n",
       "    da7a7c0dcfcb41a8acc7864a53cf60fb  \n",
       "0                                0.0  \n",
       "6                                0.0  \n",
       "12                               0.0  \n",
       "18                               0.0  \n",
       "24                               0.0  \n",
       "\n",
       "[5 rows x 17000 columns]"
      ]
     },
     "execution_count": 10,
     "metadata": {},
     "output_type": "execute_result"
    }
   ],
   "source": [
    "# Create empty time series\n",
    "ts = pd.DataFrame(np.zeros((data.time.nunique(), data.person.nunique())), \n",
    "                  index=data.time.unique(), columns=data.person.unique())\n",
    "\n",
    "ts.update(transactions.pivot_table(index='time',\n",
    "                              columns='person',\n",
    "                              values='amount',\n",
    "                              aggfunc='sum'))\n",
    "\n",
    "print(ts.shape)\n",
    "ts.head()"
   ]
  },
  {
   "cell_type": "code",
   "execution_count": 11,
   "metadata": {
    "collapsed": false
   },
   "outputs": [
    {
     "data": {
      "text/plain": [
       "78afa995795e4d85b5d9ceeca43f5fef    159.27\n",
       "a03223e636434f42ac4c3df47e8bac43      4.65\n",
       "e2127556f4f64592b11af22de27a7932     57.73\n",
       "8ec6ce2a7e7949b1bf142def7d0e0586      0.00\n",
       "68617ca6246f4fbc85e91a2a49552598      0.24\n",
       "dtype: float64"
      ]
     },
     "execution_count": 11,
     "metadata": {},
     "output_type": "execute_result"
    }
   ],
   "source": [
    "ts.sum().head()"
   ]
  },
  {
   "cell_type": "code",
   "execution_count": 12,
   "metadata": {
    "collapsed": false
   },
   "outputs": [
    {
     "data": {
      "text/plain": [
       "<matplotlib.axes._subplots.AxesSubplot at 0x7f0e7ad859b0>"
      ]
     },
     "execution_count": 12,
     "metadata": {},
     "output_type": "execute_result"
    },
    {
     "data": {
      "image/png": "[encoded data removed]",
      "text/plain": [
       "<Figure size 432x288 with 1 Axes>"
      ]
     },
     "metadata": {
      "needs_background": "dark"
     },
     "output_type": "display_data"
    }
   ],
   "source": [
    "ts.mean(axis=1).plot()"
   ]
  },
  {
   "cell_type": "code",
   "execution_count": 13,
   "metadata": {
    "collapsed": false
   },
   "outputs": [
    {
     "data": {
      "text/plain": [
       "<matplotlib.axes._subplots.AxesSubplot at 0x7f0e7ad61400>"
      ]
     },
     "execution_count": 13,
     "metadata": {},
     "output_type": "execute_result"
    },
    {
     "data": {
      "image/png": "[encoded data removed]",
      "text/plain": [
       "<Figure size 432x288 with 1 Axes>"
      ]
     },
     "metadata": {
      "needs_background": "dark"
     },
     "output_type": "display_data"
    }
   ],
   "source": [
    "ts.cumsum().mean(axis=1).plot()"
   ]
  },
  {
   "cell_type": "code",
   "execution_count": 14,
   "metadata": {
    "collapsed": false
   },
   "outputs": [
    {
     "data": {
      "text/plain": [
       "array([  0, 168, 336, 408, 504, 576])"
      ]
     },
     "execution_count": 14,
     "metadata": {},
     "output_type": "execute_result"
    }
   ],
   "source": [
    "sending_times = received.time.unique()\n",
    "sending_times"
   ]
  },
  {
   "cell_type": "code",
   "execution_count": 15,
   "metadata": {
    "collapsed": false
   },
   "outputs": [
    {
     "data": {
      "text/plain": [
       "array([168, 168,  72,  96,  72])"
      ]
     },
     "execution_count": 15,
     "metadata": {},
     "output_type": "execute_result"
    }
   ],
   "source": [
    "sending_times[1:] - sending_times[:-1]"
   ]
  },
  {
   "cell_type": "code",
   "execution_count": 16,
   "metadata": {
    "collapsed": false
   },
   "outputs": [
    {
     "data": {
      "text/plain": [
       "7.0"
      ]
     },
     "execution_count": 16,
     "metadata": {},
     "output_type": "execute_result"
    }
   ],
   "source": [
    "168/24"
   ]
  },
  {
   "cell_type": "markdown",
   "metadata": {},
   "source": [
    "Let's assume that the period of interest for an offer is always 10 days after it was received. Let's make a table that shows if an offer was received in the past 10 days."
   ]
  },
  {
   "cell_type": "code",
   "execution_count": 17,
   "metadata": {
    "collapsed": false
   },
   "outputs": [
    {
     "data": {
      "text/html": [
       "<div>\n",
       "<style scoped>\n",
       "    .dataframe tbody tr th:only-of-type {\n",
       "        vertical-align: middle;\n",
       "    }\n",
       "\n",
       "    .dataframe tbody tr th {\n",
       "        vertical-align: top;\n",
       "    }\n",
       "\n",
       "    .dataframe thead th {\n",
       "        text-align: right;\n",
       "    }\n",
       "</style>\n",
       "<table border=\"1\" class=\"dataframe\">\n",
       "  <thead>\n",
       "    <tr style=\"text-align: right;\">\n",
       "      <th></th>\n",
       "      <th>event</th>\n",
       "      <th>person</th>\n",
       "      <th>time</th>\n",
       "      <th>amount</th>\n",
       "      <th>offer_id</th>\n",
       "      <th>reward</th>\n",
       "      <th>age</th>\n",
       "      <th>became_member_on</th>\n",
       "      <th>gender</th>\n",
       "      <th>income</th>\n",
       "      <th>missing_demographics</th>\n",
       "      <th>member_epoch_days</th>\n",
       "      <th>difficulty</th>\n",
       "      <th>duration</th>\n",
       "      <th>offer_type</th>\n",
       "      <th>reward_t</th>\n",
       "      <th>channel_mobile</th>\n",
       "      <th>channel_social</th>\n",
       "      <th>channel_email</th>\n",
       "      <th>channel_web</th>\n",
       "    </tr>\n",
       "  </thead>\n",
       "  <tbody>\n",
       "    <tr>\n",
       "      <th>0</th>\n",
       "      <td>offer received</td>\n",
       "      <td>78afa995795e4d85b5d9ceeca43f5fef</td>\n",
       "      <td>0</td>\n",
       "      <td>NaN</td>\n",
       "      <td>9b98b8c7a33c4b65b9aebfe6a799e6d9</td>\n",
       "      <td>NaN</td>\n",
       "      <td>75.0</td>\n",
       "      <td>2017-05-09</td>\n",
       "      <td>F</td>\n",
       "      <td>100000.0</td>\n",
       "      <td>0</td>\n",
       "      <td>17295</td>\n",
       "      <td>5.0</td>\n",
       "      <td>7.0</td>\n",
       "      <td>bogo</td>\n",
       "      <td>5.0</td>\n",
       "      <td>1.0</td>\n",
       "      <td>0.0</td>\n",
       "      <td>1.0</td>\n",
       "      <td>1.0</td>\n",
       "    </tr>\n",
       "    <tr>\n",
       "      <th>1</th>\n",
       "      <td>offer received</td>\n",
       "      <td>a03223e636434f42ac4c3df47e8bac43</td>\n",
       "      <td>0</td>\n",
       "      <td>NaN</td>\n",
       "      <td>0b1e1539f2cc45b7b9fa7c272da2e1d7</td>\n",
       "      <td>NaN</td>\n",
       "      <td>NaN</td>\n",
       "      <td>2017-08-04</td>\n",
       "      <td>None</td>\n",
       "      <td>NaN</td>\n",
       "      <td>1</td>\n",
       "      <td>17382</td>\n",
       "      <td>20.0</td>\n",
       "      <td>10.0</td>\n",
       "      <td>discount</td>\n",
       "      <td>5.0</td>\n",
       "      <td>0.0</td>\n",
       "      <td>0.0</td>\n",
       "      <td>1.0</td>\n",
       "      <td>1.0</td>\n",
       "    </tr>\n",
       "    <tr>\n",
       "      <th>2</th>\n",
       "      <td>offer received</td>\n",
       "      <td>e2127556f4f64592b11af22de27a7932</td>\n",
       "      <td>0</td>\n",
       "      <td>NaN</td>\n",
       "      <td>2906b810c7d4411798c6938adc9daaa5</td>\n",
       "      <td>NaN</td>\n",
       "      <td>68.0</td>\n",
       "      <td>2018-04-26</td>\n",
       "      <td>M</td>\n",
       "      <td>70000.0</td>\n",
       "      <td>0</td>\n",
       "      <td>17647</td>\n",
       "      <td>10.0</td>\n",
       "      <td>7.0</td>\n",
       "      <td>discount</td>\n",
       "      <td>2.0</td>\n",
       "      <td>1.0</td>\n",
       "      <td>0.0</td>\n",
       "      <td>1.0</td>\n",
       "      <td>1.0</td>\n",
       "    </tr>\n",
       "    <tr>\n",
       "      <th>3</th>\n",
       "      <td>offer received</td>\n",
       "      <td>8ec6ce2a7e7949b1bf142def7d0e0586</td>\n",
       "      <td>0</td>\n",
       "      <td>NaN</td>\n",
       "      <td>fafdcd668e3743c1bb461111dcafc2a4</td>\n",
       "      <td>NaN</td>\n",
       "      <td>NaN</td>\n",
       "      <td>2017-09-25</td>\n",
       "      <td>None</td>\n",
       "      <td>NaN</td>\n",
       "      <td>1</td>\n",
       "      <td>17434</td>\n",
       "      <td>10.0</td>\n",
       "      <td>10.0</td>\n",
       "      <td>discount</td>\n",
       "      <td>2.0</td>\n",
       "      <td>1.0</td>\n",
       "      <td>1.0</td>\n",
       "      <td>1.0</td>\n",
       "      <td>1.0</td>\n",
       "    </tr>\n",
       "    <tr>\n",
       "      <th>4</th>\n",
       "      <td>offer received</td>\n",
       "      <td>68617ca6246f4fbc85e91a2a49552598</td>\n",
       "      <td>0</td>\n",
       "      <td>NaN</td>\n",
       "      <td>4d5c57ea9a6940dd891ad53e9dbe8da0</td>\n",
       "      <td>NaN</td>\n",
       "      <td>NaN</td>\n",
       "      <td>2017-10-02</td>\n",
       "      <td>None</td>\n",
       "      <td>NaN</td>\n",
       "      <td>1</td>\n",
       "      <td>17441</td>\n",
       "      <td>10.0</td>\n",
       "      <td>5.0</td>\n",
       "      <td>bogo</td>\n",
       "      <td>10.0</td>\n",
       "      <td>1.0</td>\n",
       "      <td>1.0</td>\n",
       "      <td>1.0</td>\n",
       "      <td>1.0</td>\n",
       "    </tr>\n",
       "  </tbody>\n",
       "</table>\n",
       "</div>"
      ],
      "text/plain": [
       "            event                            person  time  amount  \\\n",
       "0  offer received  78afa995795e4d85b5d9ceeca43f5fef     0     NaN   \n",
       "1  offer received  a03223e636434f42ac4c3df47e8bac43     0     NaN   \n",
       "2  offer received  e2127556f4f64592b11af22de27a7932     0     NaN   \n",
       "3  offer received  8ec6ce2a7e7949b1bf142def7d0e0586     0     NaN   \n",
       "4  offer received  68617ca6246f4fbc85e91a2a49552598     0     NaN   \n",
       "\n",
       "                           offer_id  reward   age became_member_on gender  \\\n",
       "0  9b98b8c7a33c4b65b9aebfe6a799e6d9     NaN  75.0       2017-05-09      F   \n",
       "1  0b1e1539f2cc45b7b9fa7c272da2e1d7     NaN   NaN       2017-08-04   None   \n",
       "2  2906b810c7d4411798c6938adc9daaa5     NaN  68.0       2018-04-26      M   \n",
       "3  fafdcd668e3743c1bb461111dcafc2a4     NaN   NaN       2017-09-25   None   \n",
       "4  4d5c57ea9a6940dd891ad53e9dbe8da0     NaN   NaN       2017-10-02   None   \n",
       "\n",
       "     income  missing_demographics  member_epoch_days  difficulty  duration  \\\n",
       "0  100000.0                     0              17295         5.0       7.0   \n",
       "1       NaN                     1              17382        20.0      10.0   \n",
       "2   70000.0                     0              17647        10.0       7.0   \n",
       "3       NaN                     1              17434        10.0      10.0   \n",
       "4       NaN                     1              17441        10.0       5.0   \n",
       "\n",
       "  offer_type  reward_t  channel_mobile  channel_social  channel_email  \\\n",
       "0       bogo       5.0             1.0             0.0            1.0   \n",
       "1   discount       5.0             0.0             0.0            1.0   \n",
       "2   discount       2.0             1.0             0.0            1.0   \n",
       "3   discount       2.0             1.0             1.0            1.0   \n",
       "4       bogo      10.0             1.0             1.0            1.0   \n",
       "\n",
       "   channel_web  \n",
       "0          1.0  \n",
       "1          1.0  \n",
       "2          1.0  \n",
       "3          1.0  \n",
       "4          1.0  "
      ]
     },
     "execution_count": 17,
     "metadata": {},
     "output_type": "execute_result"
    }
   ],
   "source": [
    "received.head()"
   ]
  },
  {
   "cell_type": "code",
   "execution_count": 18,
   "metadata": {
    "collapsed": false
   },
   "outputs": [
    {
     "data": {
      "text/html": [
       "<div>\n",
       "<style scoped>\n",
       "    .dataframe tbody tr th:only-of-type {\n",
       "        vertical-align: middle;\n",
       "    }\n",
       "\n",
       "    .dataframe tbody tr th {\n",
       "        vertical-align: top;\n",
       "    }\n",
       "\n",
       "    .dataframe thead th {\n",
       "        text-align: right;\n",
       "    }\n",
       "</style>\n",
       "<table border=\"1\" class=\"dataframe\">\n",
       "  <thead>\n",
       "    <tr style=\"text-align: right;\">\n",
       "      <th></th>\n",
       "      <th>event</th>\n",
       "      <th>person</th>\n",
       "      <th>time</th>\n",
       "      <th>amount</th>\n",
       "      <th>offer_id</th>\n",
       "      <th>reward</th>\n",
       "      <th>age</th>\n",
       "      <th>became_member_on</th>\n",
       "      <th>gender</th>\n",
       "      <th>income</th>\n",
       "      <th>missing_demographics</th>\n",
       "      <th>member_epoch_days</th>\n",
       "      <th>difficulty</th>\n",
       "      <th>duration</th>\n",
       "      <th>offer_type</th>\n",
       "      <th>reward_t</th>\n",
       "      <th>channel_mobile</th>\n",
       "      <th>channel_social</th>\n",
       "      <th>channel_email</th>\n",
       "      <th>channel_web</th>\n",
       "    </tr>\n",
       "  </thead>\n",
       "  <tbody>\n",
       "    <tr>\n",
       "      <th>0</th>\n",
       "      <td>offer received</td>\n",
       "      <td>78afa995795e4d85b5d9ceeca43f5fef</td>\n",
       "      <td>0</td>\n",
       "      <td>NaN</td>\n",
       "      <td>9b98b8c7a33c4b65b9aebfe6a799e6d9</td>\n",
       "      <td>NaN</td>\n",
       "      <td>75.0</td>\n",
       "      <td>2017-05-09</td>\n",
       "      <td>F</td>\n",
       "      <td>100000.0</td>\n",
       "      <td>0</td>\n",
       "      <td>17295</td>\n",
       "      <td>5.0</td>\n",
       "      <td>7.0</td>\n",
       "      <td>bogo</td>\n",
       "      <td>5.0</td>\n",
       "      <td>1.0</td>\n",
       "      <td>0.0</td>\n",
       "      <td>1.0</td>\n",
       "      <td>1.0</td>\n",
       "    </tr>\n",
       "    <tr>\n",
       "      <th>53176</th>\n",
       "      <td>offer received</td>\n",
       "      <td>78afa995795e4d85b5d9ceeca43f5fef</td>\n",
       "      <td>168</td>\n",
       "      <td>NaN</td>\n",
       "      <td>5a8bc65990b245e5a138643cd4eb9837</td>\n",
       "      <td>NaN</td>\n",
       "      <td>75.0</td>\n",
       "      <td>2017-05-09</td>\n",
       "      <td>F</td>\n",
       "      <td>100000.0</td>\n",
       "      <td>0</td>\n",
       "      <td>17295</td>\n",
       "      <td>0.0</td>\n",
       "      <td>3.0</td>\n",
       "      <td>informational</td>\n",
       "      <td>0.0</td>\n",
       "      <td>1.0</td>\n",
       "      <td>1.0</td>\n",
       "      <td>1.0</td>\n",
       "      <td>0.0</td>\n",
       "    </tr>\n",
       "    <tr>\n",
       "      <th>150598</th>\n",
       "      <td>offer received</td>\n",
       "      <td>78afa995795e4d85b5d9ceeca43f5fef</td>\n",
       "      <td>408</td>\n",
       "      <td>NaN</td>\n",
       "      <td>ae264e3637204a6fb9bb56bc8210ddfd</td>\n",
       "      <td>NaN</td>\n",
       "      <td>75.0</td>\n",
       "      <td>2017-05-09</td>\n",
       "      <td>F</td>\n",
       "      <td>100000.0</td>\n",
       "      <td>0</td>\n",
       "      <td>17295</td>\n",
       "      <td>10.0</td>\n",
       "      <td>7.0</td>\n",
       "      <td>bogo</td>\n",
       "      <td>10.0</td>\n",
       "      <td>1.0</td>\n",
       "      <td>1.0</td>\n",
       "      <td>1.0</td>\n",
       "      <td>0.0</td>\n",
       "    </tr>\n",
       "    <tr>\n",
       "      <th>201572</th>\n",
       "      <td>offer received</td>\n",
       "      <td>78afa995795e4d85b5d9ceeca43f5fef</td>\n",
       "      <td>504</td>\n",
       "      <td>NaN</td>\n",
       "      <td>f19421c1d4aa40978ebb69ca19b0e20d</td>\n",
       "      <td>NaN</td>\n",
       "      <td>75.0</td>\n",
       "      <td>2017-05-09</td>\n",
       "      <td>F</td>\n",
       "      <td>100000.0</td>\n",
       "      <td>0</td>\n",
       "      <td>17295</td>\n",
       "      <td>5.0</td>\n",
       "      <td>5.0</td>\n",
       "      <td>bogo</td>\n",
       "      <td>5.0</td>\n",
       "      <td>1.0</td>\n",
       "      <td>1.0</td>\n",
       "      <td>1.0</td>\n",
       "      <td>1.0</td>\n",
       "    </tr>\n",
       "  </tbody>\n",
       "</table>\n",
       "</div>"
      ],
      "text/plain": [
       "                 event                            person  time  amount  \\\n",
       "0       offer received  78afa995795e4d85b5d9ceeca43f5fef     0     NaN   \n",
       "53176   offer received  78afa995795e4d85b5d9ceeca43f5fef   168     NaN   \n",
       "150598  offer received  78afa995795e4d85b5d9ceeca43f5fef   408     NaN   \n",
       "201572  offer received  78afa995795e4d85b5d9ceeca43f5fef   504     NaN   \n",
       "\n",
       "                                offer_id  reward   age became_member_on  \\\n",
       "0       9b98b8c7a33c4b65b9aebfe6a799e6d9     NaN  75.0       2017-05-09   \n",
       "53176   5a8bc65990b245e5a138643cd4eb9837     NaN  75.0       2017-05-09   \n",
       "150598  ae264e3637204a6fb9bb56bc8210ddfd     NaN  75.0       2017-05-09   \n",
       "201572  f19421c1d4aa40978ebb69ca19b0e20d     NaN  75.0       2017-05-09   \n",
       "\n",
       "       gender    income  missing_demographics  member_epoch_days  difficulty  \\\n",
       "0           F  100000.0                     0              17295         5.0   \n",
       "53176       F  100000.0                     0              17295         0.0   \n",
       "150598      F  100000.0                     0              17295        10.0   \n",
       "201572      F  100000.0                     0              17295         5.0   \n",
       "\n",
       "        duration     offer_type  reward_t  channel_mobile  channel_social  \\\n",
       "0            7.0           bogo       5.0             1.0             0.0   \n",
       "53176        3.0  informational       0.0             1.0             1.0   \n",
       "150598       7.0           bogo      10.0             1.0             1.0   \n",
       "201572       5.0           bogo       5.0             1.0             1.0   \n",
       "\n",
       "        channel_email  channel_web  \n",
       "0                 1.0          1.0  \n",
       "53176             1.0          0.0  \n",
       "150598            1.0          0.0  \n",
       "201572            1.0          1.0  "
      ]
     },
     "execution_count": 18,
     "metadata": {},
     "output_type": "execute_result"
    }
   ],
   "source": [
    "user = received[received.person == received.person[0]]\n",
    "user"
   ]
  },
  {
   "cell_type": "code",
   "execution_count": 19,
   "metadata": {
    "collapsed": false
   },
   "outputs": [],
   "source": [
    "offers = portfolio.id.values"
   ]
  },
  {
   "cell_type": "code",
   "execution_count": 20,
   "metadata": {
    "collapsed": false
   },
   "outputs": [
    {
     "data": {
      "text/html": [
       "<div>\n",
       "<style scoped>\n",
       "    .dataframe tbody tr th:only-of-type {\n",
       "        vertical-align: middle;\n",
       "    }\n",
       "\n",
       "    .dataframe tbody tr th {\n",
       "        vertical-align: top;\n",
       "    }\n",
       "\n",
       "    .dataframe thead th {\n",
       "        text-align: right;\n",
       "    }\n",
       "</style>\n",
       "<table border=\"1\" class=\"dataframe\">\n",
       "  <thead>\n",
       "    <tr style=\"text-align: right;\">\n",
       "      <th></th>\n",
       "      <th>ae264e3637204a6fb9bb56bc8210ddfd</th>\n",
       "      <th>4d5c57ea9a6940dd891ad53e9dbe8da0</th>\n",
       "      <th>3f207df678b143eea3cee63160fa8bed</th>\n",
       "      <th>9b98b8c7a33c4b65b9aebfe6a799e6d9</th>\n",
       "      <th>0b1e1539f2cc45b7b9fa7c272da2e1d7</th>\n",
       "      <th>2298d6c36e964ae4a3e7e9706d1fb8c2</th>\n",
       "      <th>fafdcd668e3743c1bb461111dcafc2a4</th>\n",
       "      <th>5a8bc65990b245e5a138643cd4eb9837</th>\n",
       "      <th>f19421c1d4aa40978ebb69ca19b0e20d</th>\n",
       "      <th>2906b810c7d4411798c6938adc9daaa5</th>\n",
       "    </tr>\n",
       "  </thead>\n",
       "  <tbody>\n",
       "    <tr>\n",
       "      <th>0</th>\n",
       "      <td>0.0</td>\n",
       "      <td>0.0</td>\n",
       "      <td>0.0</td>\n",
       "      <td>0.0</td>\n",
       "      <td>0.0</td>\n",
       "      <td>0.0</td>\n",
       "      <td>0.0</td>\n",
       "      <td>0.0</td>\n",
       "      <td>0.0</td>\n",
       "      <td>0.0</td>\n",
       "    </tr>\n",
       "    <tr>\n",
       "      <th>6</th>\n",
       "      <td>0.0</td>\n",
       "      <td>0.0</td>\n",
       "      <td>0.0</td>\n",
       "      <td>0.0</td>\n",
       "      <td>0.0</td>\n",
       "      <td>0.0</td>\n",
       "      <td>0.0</td>\n",
       "      <td>0.0</td>\n",
       "      <td>0.0</td>\n",
       "      <td>0.0</td>\n",
       "    </tr>\n",
       "    <tr>\n",
       "      <th>12</th>\n",
       "      <td>0.0</td>\n",
       "      <td>0.0</td>\n",
       "      <td>0.0</td>\n",
       "      <td>0.0</td>\n",
       "      <td>0.0</td>\n",
       "      <td>0.0</td>\n",
       "      <td>0.0</td>\n",
       "      <td>0.0</td>\n",
       "      <td>0.0</td>\n",
       "      <td>0.0</td>\n",
       "    </tr>\n",
       "    <tr>\n",
       "      <th>18</th>\n",
       "      <td>0.0</td>\n",
       "      <td>0.0</td>\n",
       "      <td>0.0</td>\n",
       "      <td>0.0</td>\n",
       "      <td>0.0</td>\n",
       "      <td>0.0</td>\n",
       "      <td>0.0</td>\n",
       "      <td>0.0</td>\n",
       "      <td>0.0</td>\n",
       "      <td>0.0</td>\n",
       "    </tr>\n",
       "    <tr>\n",
       "      <th>24</th>\n",
       "      <td>0.0</td>\n",
       "      <td>0.0</td>\n",
       "      <td>0.0</td>\n",
       "      <td>0.0</td>\n",
       "      <td>0.0</td>\n",
       "      <td>0.0</td>\n",
       "      <td>0.0</td>\n",
       "      <td>0.0</td>\n",
       "      <td>0.0</td>\n",
       "      <td>0.0</td>\n",
       "    </tr>\n",
       "  </tbody>\n",
       "</table>\n",
       "</div>"
      ],
      "text/plain": [
       "    ae264e3637204a6fb9bb56bc8210ddfd  4d5c57ea9a6940dd891ad53e9dbe8da0  \\\n",
       "0                                0.0                               0.0   \n",
       "6                                0.0                               0.0   \n",
       "12                               0.0                               0.0   \n",
       "18                               0.0                               0.0   \n",
       "24                               0.0                               0.0   \n",
       "\n",
       "    3f207df678b143eea3cee63160fa8bed  9b98b8c7a33c4b65b9aebfe6a799e6d9  \\\n",
       "0                                0.0                               0.0   \n",
       "6                                0.0                               0.0   \n",
       "12                               0.0                               0.0   \n",
       "18                               0.0                               0.0   \n",
       "24                               0.0                               0.0   \n",
       "\n",
       "    0b1e1539f2cc45b7b9fa7c272da2e1d7  2298d6c36e964ae4a3e7e9706d1fb8c2  \\\n",
       "0                                0.0                               0.0   \n",
       "6                                0.0                               0.0   \n",
       "12                               0.0                               0.0   \n",
       "18                               0.0                               0.0   \n",
       "24                               0.0                               0.0   \n",
       "\n",
       "    fafdcd668e3743c1bb461111dcafc2a4  5a8bc65990b245e5a138643cd4eb9837  \\\n",
       "0                                0.0                               0.0   \n",
       "6                                0.0                               0.0   \n",
       "12                               0.0                               0.0   \n",
       "18                               0.0                               0.0   \n",
       "24                               0.0                               0.0   \n",
       "\n",
       "    f19421c1d4aa40978ebb69ca19b0e20d  2906b810c7d4411798c6938adc9daaa5  \n",
       "0                                0.0                               0.0  \n",
       "6                                0.0                               0.0  \n",
       "12                               0.0                               0.0  \n",
       "18                               0.0                               0.0  \n",
       "24                               0.0                               0.0  "
      ]
     },
     "execution_count": 20,
     "metadata": {},
     "output_type": "execute_result"
    }
   ],
   "source": [
    "offer_ts = pd.DataFrame(np.zeros((data.time.nunique(), len(offers))),\n",
    "                        index=data.time.unique(), columns=offers)\n",
    "offer_ts.head()"
   ]
  },
  {
   "cell_type": "code",
   "execution_count": 21,
   "metadata": {
    "collapsed": true
   },
   "outputs": [],
   "source": [
    "delta = 24 * 10\n",
    "for i, row in user.iterrows():\n",
    "    offer_ts.loc[row.time: row.time + delta, row.offer_id] = 1"
   ]
  },
  {
   "cell_type": "code",
   "execution_count": 22,
   "metadata": {
    "collapsed": false
   },
   "outputs": [
    {
     "data": {
      "text/plain": [
       "<matplotlib.axes._subplots.AxesSubplot at 0x7f0e7ada7f98>"
      ]
     },
     "execution_count": 22,
     "metadata": {},
     "output_type": "execute_result"
    },
    {
     "data": {
      "image/png": "[encoded data removed]",
      "text/plain": [
       "<Figure size 432x288 with 1 Axes>"
      ]
     },
     "metadata": {
      "needs_background": "dark"
     },
     "output_type": "display_data"
    }
   ],
   "source": [
    "offer_ts.loc[:, user.offer_id].plot()"
   ]
  },
  {
   "cell_type": "code",
   "execution_count": 23,
   "metadata": {
    "collapsed": true
   },
   "outputs": [],
   "source": [
    "def get_offers_ts(user_received, portfolio, data, delta = 24 * 10, viewed=False):\n",
    "    \"\"\" \n",
    "    Given the received sequence for a user, this function returns a time series\n",
    "    dataframe containing a 1 in a 10 days period after receiving an offer.\n",
    "    It can filter out the non-viewed offers.\n",
    "    Args:\n",
    "        user_received(dataframe): The received offers for one user.\n",
    "        portfolio(dataframe): The original portfolio of offers (just to get the offer ids).\n",
    "        data(dataframe): The original transcript (just to get the time values).\n",
    "        delta(int): The period of relevance for an offer.\n",
    "        viewed(boolean): Whether to show only the offers that were viewed.\n",
    "    \"\"\"\n",
    "    offers = portfolio.id.values\n",
    "    offer_ts = pd.DataFrame(np.zeros((data.time.nunique(), len(offers))),\n",
    "                            index=data.time.unique(), columns=offers)\n",
    "    for i, row in user_received.iterrows():\n",
    "        if viewed:\n",
    "            if row.viewed:\n",
    "                offer_ts.loc[row.time: row.time + delta, row.offer_id] = 1\n",
    "        else:\n",
    "            offer_ts.loc[row.time: row.time + delta, row.offer_id] = 1\n",
    "    # Fill the \"no-offer\" column\n",
    "    offer_ts['no_offer'] = (offer_ts.sum(axis=1) == 0).astype(int)\n",
    "    return offer_ts"
   ]
  },
  {
   "cell_type": "markdown",
   "metadata": {},
   "source": [
    "Let's plot the offers' relevant periods considering all the offers received and only those that were viewed."
   ]
  },
  {
   "cell_type": "code",
   "execution_count": 24,
   "metadata": {
    "collapsed": false
   },
   "outputs": [
    {
     "data": {
      "text/plain": [
       "<matplotlib.axes._subplots.AxesSubplot at 0x7f0e7adefd68>"
      ]
     },
     "execution_count": 24,
     "metadata": {},
     "output_type": "execute_result"
    },
    {
     "data": {
      "image/png": "[encoded data removed]",
      "text/plain": [
       "<Figure size 432x288 with 1 Axes>"
      ]
     },
     "metadata": {
      "needs_background": "dark"
     },
     "output_type": "display_data"
    }
   ],
   "source": [
    "user = static_data[static_data.person == static_data.person[1]]\n",
    "interesting_offers = user.offer_id.tolist() + ['no_offer']\n",
    "offer_times = get_offers_ts(user, portfolio, data, viewed=False)\n",
    "offer_times.loc[:, interesting_offers].plot()"
   ]
  },
  {
   "cell_type": "code",
   "execution_count": 25,
   "metadata": {
    "collapsed": false
   },
   "outputs": [
    {
     "data": {
      "text/plain": [
       "<matplotlib.axes._subplots.AxesSubplot at 0x7f0e7ae30898>"
      ]
     },
     "execution_count": 25,
     "metadata": {},
     "output_type": "execute_result"
    },
    {
     "data": {
      "image/png": "[encoded data removed]",
      "text/plain": [
       "<Figure size 432x288 with 1 Axes>"
      ]
     },
     "metadata": {
      "needs_background": "dark"
     },
     "output_type": "display_data"
    }
   ],
   "source": [
    "get_offers_ts(user, portfolio, data, viewed=True).loc[:, interesting_offers].plot()"
   ]
  },
  {
   "cell_type": "markdown",
   "metadata": {},
   "source": [
    "There is overlap. Let's see if the offers, in mean, behave similarly in their full period of interest. If that is true, a model could be implemented on a day-to-day basis, and the overlapping zones could be ignored, or taken into account in an easier way."
   ]
  },
  {
   "cell_type": "code",
   "execution_count": 26,
   "metadata": {
    "collapsed": false
   },
   "outputs": [
    {
     "data": {
      "text/html": [
       "<div>\n",
       "<style scoped>\n",
       "    .dataframe tbody tr th:only-of-type {\n",
       "        vertical-align: middle;\n",
       "    }\n",
       "\n",
       "    .dataframe tbody tr th {\n",
       "        vertical-align: top;\n",
       "    }\n",
       "\n",
       "    .dataframe thead th {\n",
       "        text-align: right;\n",
       "    }\n",
       "</style>\n",
       "<table border=\"1\" class=\"dataframe\">\n",
       "  <thead>\n",
       "    <tr style=\"text-align: right;\">\n",
       "      <th></th>\n",
       "      <th>event</th>\n",
       "      <th>person</th>\n",
       "      <th>time</th>\n",
       "      <th>amount</th>\n",
       "      <th>offer_id</th>\n",
       "      <th>reward</th>\n",
       "      <th>age</th>\n",
       "      <th>became_member_on</th>\n",
       "      <th>gender</th>\n",
       "      <th>income</th>\n",
       "      <th>missing_demographics</th>\n",
       "      <th>member_epoch_days</th>\n",
       "      <th>difficulty</th>\n",
       "      <th>duration</th>\n",
       "      <th>offer_type</th>\n",
       "      <th>reward_t</th>\n",
       "      <th>channel_mobile</th>\n",
       "      <th>channel_social</th>\n",
       "      <th>channel_email</th>\n",
       "      <th>channel_web</th>\n",
       "    </tr>\n",
       "  </thead>\n",
       "  <tbody>\n",
       "    <tr>\n",
       "      <th>12654</th>\n",
       "      <td>transaction</td>\n",
       "      <td>02c083884c7d45b39cc68e1314fec56c</td>\n",
       "      <td>0</td>\n",
       "      <td>0.83</td>\n",
       "      <td>NaN</td>\n",
       "      <td>NaN</td>\n",
       "      <td>20.0</td>\n",
       "      <td>2016-07-11</td>\n",
       "      <td>F</td>\n",
       "      <td>30000.0</td>\n",
       "      <td>0</td>\n",
       "      <td>16993</td>\n",
       "      <td>NaN</td>\n",
       "      <td>NaN</td>\n",
       "      <td>NaN</td>\n",
       "      <td>NaN</td>\n",
       "      <td>NaN</td>\n",
       "      <td>NaN</td>\n",
       "      <td>NaN</td>\n",
       "      <td>NaN</td>\n",
       "    </tr>\n",
       "    <tr>\n",
       "      <th>12657</th>\n",
       "      <td>transaction</td>\n",
       "      <td>9fa9ae8f57894cc9a3b8a9bbe0fc1b2f</td>\n",
       "      <td>0</td>\n",
       "      <td>34.56</td>\n",
       "      <td>NaN</td>\n",
       "      <td>NaN</td>\n",
       "      <td>42.0</td>\n",
       "      <td>2016-01-17</td>\n",
       "      <td>M</td>\n",
       "      <td>96000.0</td>\n",
       "      <td>0</td>\n",
       "      <td>16817</td>\n",
       "      <td>NaN</td>\n",
       "      <td>NaN</td>\n",
       "      <td>NaN</td>\n",
       "      <td>NaN</td>\n",
       "      <td>NaN</td>\n",
       "      <td>NaN</td>\n",
       "      <td>NaN</td>\n",
       "      <td>NaN</td>\n",
       "    </tr>\n",
       "    <tr>\n",
       "      <th>12659</th>\n",
       "      <td>transaction</td>\n",
       "      <td>54890f68699049c2a04d415abc25e717</td>\n",
       "      <td>0</td>\n",
       "      <td>13.23</td>\n",
       "      <td>NaN</td>\n",
       "      <td>NaN</td>\n",
       "      <td>36.0</td>\n",
       "      <td>2017-12-28</td>\n",
       "      <td>M</td>\n",
       "      <td>56000.0</td>\n",
       "      <td>0</td>\n",
       "      <td>17528</td>\n",
       "      <td>NaN</td>\n",
       "      <td>NaN</td>\n",
       "      <td>NaN</td>\n",
       "      <td>NaN</td>\n",
       "      <td>NaN</td>\n",
       "      <td>NaN</td>\n",
       "      <td>NaN</td>\n",
       "      <td>NaN</td>\n",
       "    </tr>\n",
       "    <tr>\n",
       "      <th>12670</th>\n",
       "      <td>transaction</td>\n",
       "      <td>b2f1cd155b864803ad8334cdf13c4bd2</td>\n",
       "      <td>0</td>\n",
       "      <td>19.51</td>\n",
       "      <td>NaN</td>\n",
       "      <td>NaN</td>\n",
       "      <td>55.0</td>\n",
       "      <td>2017-10-16</td>\n",
       "      <td>F</td>\n",
       "      <td>94000.0</td>\n",
       "      <td>0</td>\n",
       "      <td>17455</td>\n",
       "      <td>NaN</td>\n",
       "      <td>NaN</td>\n",
       "      <td>NaN</td>\n",
       "      <td>NaN</td>\n",
       "      <td>NaN</td>\n",
       "      <td>NaN</td>\n",
       "      <td>NaN</td>\n",
       "      <td>NaN</td>\n",
       "    </tr>\n",
       "    <tr>\n",
       "      <th>12671</th>\n",
       "      <td>transaction</td>\n",
       "      <td>fe97aa22dd3e48c8b143116a8403dd52</td>\n",
       "      <td>0</td>\n",
       "      <td>18.97</td>\n",
       "      <td>NaN</td>\n",
       "      <td>NaN</td>\n",
       "      <td>39.0</td>\n",
       "      <td>2017-12-17</td>\n",
       "      <td>F</td>\n",
       "      <td>67000.0</td>\n",
       "      <td>0</td>\n",
       "      <td>17517</td>\n",
       "      <td>NaN</td>\n",
       "      <td>NaN</td>\n",
       "      <td>NaN</td>\n",
       "      <td>NaN</td>\n",
       "      <td>NaN</td>\n",
       "      <td>NaN</td>\n",
       "      <td>NaN</td>\n",
       "      <td>NaN</td>\n",
       "    </tr>\n",
       "  </tbody>\n",
       "</table>\n",
       "</div>"
      ],
      "text/plain": [
       "             event                            person  time  amount offer_id  \\\n",
       "12654  transaction  02c083884c7d45b39cc68e1314fec56c     0    0.83      NaN   \n",
       "12657  transaction  9fa9ae8f57894cc9a3b8a9bbe0fc1b2f     0   34.56      NaN   \n",
       "12659  transaction  54890f68699049c2a04d415abc25e717     0   13.23      NaN   \n",
       "12670  transaction  b2f1cd155b864803ad8334cdf13c4bd2     0   19.51      NaN   \n",
       "12671  transaction  fe97aa22dd3e48c8b143116a8403dd52     0   18.97      NaN   \n",
       "\n",
       "       reward   age became_member_on gender   income  missing_demographics  \\\n",
       "12654     NaN  20.0       2016-07-11      F  30000.0                     0   \n",
       "12657     NaN  42.0       2016-01-17      M  96000.0                     0   \n",
       "12659     NaN  36.0       2017-12-28      M  56000.0                     0   \n",
       "12670     NaN  55.0       2017-10-16      F  94000.0                     0   \n",
       "12671     NaN  39.0       2017-12-17      F  67000.0                     0   \n",
       "\n",
       "       member_epoch_days  difficulty  duration offer_type  reward_t  \\\n",
       "12654              16993         NaN       NaN        NaN       NaN   \n",
       "12657              16817         NaN       NaN        NaN       NaN   \n",
       "12659              17528         NaN       NaN        NaN       NaN   \n",
       "12670              17455         NaN       NaN        NaN       NaN   \n",
       "12671              17517         NaN       NaN        NaN       NaN   \n",
       "\n",
       "       channel_mobile  channel_social  channel_email  channel_web  \n",
       "12654             NaN             NaN            NaN          NaN  \n",
       "12657             NaN             NaN            NaN          NaN  \n",
       "12659             NaN             NaN            NaN          NaN  \n",
       "12670             NaN             NaN            NaN          NaN  \n",
       "12671             NaN             NaN            NaN          NaN  "
      ]
     },
     "execution_count": 26,
     "metadata": {},
     "output_type": "execute_result"
    }
   ],
   "source": [
    "transactions.head()"
   ]
  },
  {
   "cell_type": "code",
   "execution_count": 27,
   "metadata": {
    "collapsed": false
   },
   "outputs": [
    {
     "data": {
      "text/plain": [
       "'ae264e3637204a6fb9bb56bc8210ddfd'"
      ]
     },
     "execution_count": 27,
     "metadata": {},
     "output_type": "execute_result"
    }
   ],
   "source": [
    "offer = portfolio.id[0]\n",
    "offer"
   ]
  },
  {
   "cell_type": "code",
   "execution_count": 28,
   "metadata": {
    "collapsed": true
   },
   "outputs": [],
   "source": [
    "# Create empty time series\n",
    "ts = pd.DataFrame(np.zeros((data.time.nunique(), data.person.nunique())), \n",
    "                  index=data.time.unique(), columns=data.person.unique())\n",
    "\n",
    "ts.update(transactions.pivot_table(index='time',\n",
    "                              columns='person',\n",
    "                              values='amount',\n",
    "                              aggfunc='sum'))"
   ]
  },
  {
   "cell_type": "code",
   "execution_count": 29,
   "metadata": {
    "collapsed": false
   },
   "outputs": [
    {
     "data": {
      "text/plain": [
       "(120, 17000)"
      ]
     },
     "execution_count": 29,
     "metadata": {},
     "output_type": "execute_result"
    }
   ],
   "source": [
    "ts.shape"
   ]
  },
  {
   "cell_type": "code",
   "execution_count": 30,
   "metadata": {
    "collapsed": false
   },
   "outputs": [
    {
     "data": {
      "text/plain": [
       "(76277, 132)"
      ]
     },
     "execution_count": 30,
     "metadata": {},
     "output_type": "execute_result"
    }
   ],
   "source": [
    "static_data.shape"
   ]
  },
  {
   "cell_type": "code",
   "execution_count": 31,
   "metadata": {
    "collapsed": false
   },
   "outputs": [
    {
     "name": "stdout",
     "output_type": "stream",
     "text": [
      "CPU times: user 1min 59s, sys: 516 ms, total: 2min\n",
      "Wall time: 2min\n"
     ]
    }
   ],
   "source": [
    "%time multi_offer_times = static_data.groupby('person').apply(lambda x: get_offers_ts(x, portfolio, data, viewed=False).stack() )"
   ]
  },
  {
   "cell_type": "code",
   "execution_count": 32,
   "metadata": {
    "collapsed": false
   },
   "outputs": [
    {
     "data": {
      "text/plain": [
       "(16994, 1320)"
      ]
     },
     "execution_count": 32,
     "metadata": {},
     "output_type": "execute_result"
    }
   ],
   "source": [
    "multi_offer_times.shape"
   ]
  },
  {
   "cell_type": "code",
   "execution_count": 33,
   "metadata": {
    "collapsed": false
   },
   "outputs": [
    {
     "data": {
      "text/plain": [
       "(10, 9)"
      ]
     },
     "execution_count": 33,
     "metadata": {},
     "output_type": "execute_result"
    }
   ],
   "source": [
    "portfolio.shape"
   ]
  },
  {
   "cell_type": "code",
   "execution_count": 34,
   "metadata": {
    "collapsed": false
   },
   "outputs": [
    {
     "data": {
      "text/plain": [
       "1320"
      ]
     },
     "execution_count": 34,
     "metadata": {},
     "output_type": "execute_result"
    }
   ],
   "source": [
    "120 * 11"
   ]
  },
  {
   "cell_type": "code",
   "execution_count": 35,
   "metadata": {
    "collapsed": false
   },
   "outputs": [
    {
     "data": {
      "text/html": [
       "<div>\n",
       "<style scoped>\n",
       "    .dataframe tbody tr th:only-of-type {\n",
       "        vertical-align: middle;\n",
       "    }\n",
       "\n",
       "    .dataframe tbody tr th {\n",
       "        vertical-align: top;\n",
       "    }\n",
       "\n",
       "    .dataframe thead tr th {\n",
       "        text-align: left;\n",
       "    }\n",
       "\n",
       "    .dataframe thead tr:last-of-type th {\n",
       "        text-align: right;\n",
       "    }\n",
       "</style>\n",
       "<table border=\"1\" class=\"dataframe\">\n",
       "  <thead>\n",
       "    <tr>\n",
       "      <th></th>\n",
       "      <th colspan=\"10\" halign=\"left\">0</th>\n",
       "      <th>...</th>\n",
       "      <th colspan=\"10\" halign=\"left\">714</th>\n",
       "    </tr>\n",
       "    <tr>\n",
       "      <th></th>\n",
       "      <th>ae264e3637204a6fb9bb56bc8210ddfd</th>\n",
       "      <th>4d5c57ea9a6940dd891ad53e9dbe8da0</th>\n",
       "      <th>3f207df678b143eea3cee63160fa8bed</th>\n",
       "      <th>9b98b8c7a33c4b65b9aebfe6a799e6d9</th>\n",
       "      <th>0b1e1539f2cc45b7b9fa7c272da2e1d7</th>\n",
       "      <th>2298d6c36e964ae4a3e7e9706d1fb8c2</th>\n",
       "      <th>fafdcd668e3743c1bb461111dcafc2a4</th>\n",
       "      <th>5a8bc65990b245e5a138643cd4eb9837</th>\n",
       "      <th>f19421c1d4aa40978ebb69ca19b0e20d</th>\n",
       "      <th>2906b810c7d4411798c6938adc9daaa5</th>\n",
       "      <th>...</th>\n",
       "      <th>4d5c57ea9a6940dd891ad53e9dbe8da0</th>\n",
       "      <th>3f207df678b143eea3cee63160fa8bed</th>\n",
       "      <th>9b98b8c7a33c4b65b9aebfe6a799e6d9</th>\n",
       "      <th>0b1e1539f2cc45b7b9fa7c272da2e1d7</th>\n",
       "      <th>2298d6c36e964ae4a3e7e9706d1fb8c2</th>\n",
       "      <th>fafdcd668e3743c1bb461111dcafc2a4</th>\n",
       "      <th>5a8bc65990b245e5a138643cd4eb9837</th>\n",
       "      <th>f19421c1d4aa40978ebb69ca19b0e20d</th>\n",
       "      <th>2906b810c7d4411798c6938adc9daaa5</th>\n",
       "      <th>no_offer</th>\n",
       "    </tr>\n",
       "    <tr>\n",
       "      <th>person</th>\n",
       "      <th></th>\n",
       "      <th></th>\n",
       "      <th></th>\n",
       "      <th></th>\n",
       "      <th></th>\n",
       "      <th></th>\n",
       "      <th></th>\n",
       "      <th></th>\n",
       "      <th></th>\n",
       "      <th></th>\n",
       "      <th></th>\n",
       "      <th></th>\n",
       "      <th></th>\n",
       "      <th></th>\n",
       "      <th></th>\n",
       "      <th></th>\n",
       "      <th></th>\n",
       "      <th></th>\n",
       "      <th></th>\n",
       "      <th></th>\n",
       "      <th></th>\n",
       "    </tr>\n",
       "  </thead>\n",
       "  <tbody>\n",
       "    <tr>\n",
       "      <th>0009655768c64bdeb2e877511632db8f</th>\n",
       "      <td>0.0</td>\n",
       "      <td>0.0</td>\n",
       "      <td>0.0</td>\n",
       "      <td>0.0</td>\n",
       "      <td>0.0</td>\n",
       "      <td>0.0</td>\n",
       "      <td>0.0</td>\n",
       "      <td>0.0</td>\n",
       "      <td>0.0</td>\n",
       "      <td>0.0</td>\n",
       "      <td>...</td>\n",
       "      <td>0.0</td>\n",
       "      <td>0.0</td>\n",
       "      <td>0.0</td>\n",
       "      <td>0.0</td>\n",
       "      <td>0.0</td>\n",
       "      <td>1.0</td>\n",
       "      <td>0.0</td>\n",
       "      <td>0.0</td>\n",
       "      <td>1.0</td>\n",
       "      <td>0.0</td>\n",
       "    </tr>\n",
       "    <tr>\n",
       "      <th>00116118485d4dfda04fdbaba9a87b5c</th>\n",
       "      <td>0.0</td>\n",
       "      <td>0.0</td>\n",
       "      <td>0.0</td>\n",
       "      <td>0.0</td>\n",
       "      <td>0.0</td>\n",
       "      <td>0.0</td>\n",
       "      <td>0.0</td>\n",
       "      <td>0.0</td>\n",
       "      <td>0.0</td>\n",
       "      <td>0.0</td>\n",
       "      <td>...</td>\n",
       "      <td>0.0</td>\n",
       "      <td>0.0</td>\n",
       "      <td>0.0</td>\n",
       "      <td>0.0</td>\n",
       "      <td>0.0</td>\n",
       "      <td>0.0</td>\n",
       "      <td>0.0</td>\n",
       "      <td>1.0</td>\n",
       "      <td>0.0</td>\n",
       "      <td>0.0</td>\n",
       "    </tr>\n",
       "    <tr>\n",
       "      <th>0011e0d4e6b944f998e987f904e8c1e5</th>\n",
       "      <td>0.0</td>\n",
       "      <td>0.0</td>\n",
       "      <td>1.0</td>\n",
       "      <td>0.0</td>\n",
       "      <td>0.0</td>\n",
       "      <td>0.0</td>\n",
       "      <td>0.0</td>\n",
       "      <td>0.0</td>\n",
       "      <td>0.0</td>\n",
       "      <td>0.0</td>\n",
       "      <td>...</td>\n",
       "      <td>0.0</td>\n",
       "      <td>0.0</td>\n",
       "      <td>1.0</td>\n",
       "      <td>0.0</td>\n",
       "      <td>0.0</td>\n",
       "      <td>0.0</td>\n",
       "      <td>0.0</td>\n",
       "      <td>0.0</td>\n",
       "      <td>0.0</td>\n",
       "      <td>0.0</td>\n",
       "    </tr>\n",
       "    <tr>\n",
       "      <th>0020c2b971eb4e9188eac86d93036a77</th>\n",
       "      <td>0.0</td>\n",
       "      <td>0.0</td>\n",
       "      <td>0.0</td>\n",
       "      <td>0.0</td>\n",
       "      <td>0.0</td>\n",
       "      <td>0.0</td>\n",
       "      <td>1.0</td>\n",
       "      <td>0.0</td>\n",
       "      <td>0.0</td>\n",
       "      <td>0.0</td>\n",
       "      <td>...</td>\n",
       "      <td>0.0</td>\n",
       "      <td>0.0</td>\n",
       "      <td>0.0</td>\n",
       "      <td>0.0</td>\n",
       "      <td>0.0</td>\n",
       "      <td>0.0</td>\n",
       "      <td>1.0</td>\n",
       "      <td>0.0</td>\n",
       "      <td>0.0</td>\n",
       "      <td>0.0</td>\n",
       "    </tr>\n",
       "    <tr>\n",
       "      <th>0020ccbbb6d84e358d3414a3ff76cffd</th>\n",
       "      <td>0.0</td>\n",
       "      <td>0.0</td>\n",
       "      <td>0.0</td>\n",
       "      <td>0.0</td>\n",
       "      <td>0.0</td>\n",
       "      <td>0.0</td>\n",
       "      <td>0.0</td>\n",
       "      <td>0.0</td>\n",
       "      <td>0.0</td>\n",
       "      <td>0.0</td>\n",
       "      <td>...</td>\n",
       "      <td>0.0</td>\n",
       "      <td>0.0</td>\n",
       "      <td>1.0</td>\n",
       "      <td>0.0</td>\n",
       "      <td>0.0</td>\n",
       "      <td>0.0</td>\n",
       "      <td>0.0</td>\n",
       "      <td>0.0</td>\n",
       "      <td>0.0</td>\n",
       "      <td>0.0</td>\n",
       "    </tr>\n",
       "  </tbody>\n",
       "</table>\n",
       "<p>5 rows × 1320 columns</p>\n",
       "</div>"
      ],
      "text/plain": [
       "                                                              0    \\\n",
       "                                 ae264e3637204a6fb9bb56bc8210ddfd   \n",
       "person                                                              \n",
       "0009655768c64bdeb2e877511632db8f                              0.0   \n",
       "00116118485d4dfda04fdbaba9a87b5c                              0.0   \n",
       "0011e0d4e6b944f998e987f904e8c1e5                              0.0   \n",
       "0020c2b971eb4e9188eac86d93036a77                              0.0   \n",
       "0020ccbbb6d84e358d3414a3ff76cffd                              0.0   \n",
       "\n",
       "                                                                   \\\n",
       "                                 4d5c57ea9a6940dd891ad53e9dbe8da0   \n",
       "person                                                              \n",
       "0009655768c64bdeb2e877511632db8f                              0.0   \n",
       "00116118485d4dfda04fdbaba9a87b5c                              0.0   \n",
       "0011e0d4e6b944f998e987f904e8c1e5                              0.0   \n",
       "0020c2b971eb4e9188eac86d93036a77                              0.0   \n",
       "0020ccbbb6d84e358d3414a3ff76cffd                              0.0   \n",
       "\n",
       "                                                                   \\\n",
       "                                 3f207df678b143eea3cee63160fa8bed   \n",
       "person                                                              \n",
       "0009655768c64bdeb2e877511632db8f                              0.0   \n",
       "00116118485d4dfda04fdbaba9a87b5c                              0.0   \n",
       "0011e0d4e6b944f998e987f904e8c1e5                              1.0   \n",
       "0020c2b971eb4e9188eac86d93036a77                              0.0   \n",
       "0020ccbbb6d84e358d3414a3ff76cffd                              0.0   \n",
       "\n",
       "                                                                   \\\n",
       "                                 9b98b8c7a33c4b65b9aebfe6a799e6d9   \n",
       "person                                                              \n",
       "0009655768c64bdeb2e877511632db8f                              0.0   \n",
       "00116118485d4dfda04fdbaba9a87b5c                              0.0   \n",
       "0011e0d4e6b944f998e987f904e8c1e5                              0.0   \n",
       "0020c2b971eb4e9188eac86d93036a77                              0.0   \n",
       "0020ccbbb6d84e358d3414a3ff76cffd                              0.0   \n",
       "\n",
       "                                                                   \\\n",
       "                                 0b1e1539f2cc45b7b9fa7c272da2e1d7   \n",
       "person                                                              \n",
       "0009655768c64bdeb2e877511632db8f                              0.0   \n",
       "00116118485d4dfda04fdbaba9a87b5c                              0.0   \n",
       "0011e0d4e6b944f998e987f904e8c1e5                              0.0   \n",
       "0020c2b971eb4e9188eac86d93036a77                              0.0   \n",
       "0020ccbbb6d84e358d3414a3ff76cffd                              0.0   \n",
       "\n",
       "                                                                   \\\n",
       "                                 2298d6c36e964ae4a3e7e9706d1fb8c2   \n",
       "person                                                              \n",
       "0009655768c64bdeb2e877511632db8f                              0.0   \n",
       "00116118485d4dfda04fdbaba9a87b5c                              0.0   \n",
       "0011e0d4e6b944f998e987f904e8c1e5                              0.0   \n",
       "0020c2b971eb4e9188eac86d93036a77                              0.0   \n",
       "0020ccbbb6d84e358d3414a3ff76cffd                              0.0   \n",
       "\n",
       "                                                                   \\\n",
       "                                 fafdcd668e3743c1bb461111dcafc2a4   \n",
       "person                                                              \n",
       "0009655768c64bdeb2e877511632db8f                              0.0   \n",
       "00116118485d4dfda04fdbaba9a87b5c                              0.0   \n",
       "0011e0d4e6b944f998e987f904e8c1e5                              0.0   \n",
       "0020c2b971eb4e9188eac86d93036a77                              1.0   \n",
       "0020ccbbb6d84e358d3414a3ff76cffd                              0.0   \n",
       "\n",
       "                                                                   \\\n",
       "                                 5a8bc65990b245e5a138643cd4eb9837   \n",
       "person                                                              \n",
       "0009655768c64bdeb2e877511632db8f                              0.0   \n",
       "00116118485d4dfda04fdbaba9a87b5c                              0.0   \n",
       "0011e0d4e6b944f998e987f904e8c1e5                              0.0   \n",
       "0020c2b971eb4e9188eac86d93036a77                              0.0   \n",
       "0020ccbbb6d84e358d3414a3ff76cffd                              0.0   \n",
       "\n",
       "                                                                   \\\n",
       "                                 f19421c1d4aa40978ebb69ca19b0e20d   \n",
       "person                                                              \n",
       "0009655768c64bdeb2e877511632db8f                              0.0   \n",
       "00116118485d4dfda04fdbaba9a87b5c                              0.0   \n",
       "0011e0d4e6b944f998e987f904e8c1e5                              0.0   \n",
       "0020c2b971eb4e9188eac86d93036a77                              0.0   \n",
       "0020ccbbb6d84e358d3414a3ff76cffd                              0.0   \n",
       "\n",
       "                                                                    ...     \\\n",
       "                                 2906b810c7d4411798c6938adc9daaa5   ...      \n",
       "person                                                              ...      \n",
       "0009655768c64bdeb2e877511632db8f                              0.0   ...      \n",
       "00116118485d4dfda04fdbaba9a87b5c                              0.0   ...      \n",
       "0011e0d4e6b944f998e987f904e8c1e5                              0.0   ...      \n",
       "0020c2b971eb4e9188eac86d93036a77                              0.0   ...      \n",
       "0020ccbbb6d84e358d3414a3ff76cffd                              0.0   ...      \n",
       "\n",
       "                                                              714  \\\n",
       "                                 4d5c57ea9a6940dd891ad53e9dbe8da0   \n",
       "person                                                              \n",
       "0009655768c64bdeb2e877511632db8f                              0.0   \n",
       "00116118485d4dfda04fdbaba9a87b5c                              0.0   \n",
       "0011e0d4e6b944f998e987f904e8c1e5                              0.0   \n",
       "0020c2b971eb4e9188eac86d93036a77                              0.0   \n",
       "0020ccbbb6d84e358d3414a3ff76cffd                              0.0   \n",
       "\n",
       "                                                                   \\\n",
       "                                 3f207df678b143eea3cee63160fa8bed   \n",
       "person                                                              \n",
       "0009655768c64bdeb2e877511632db8f                              0.0   \n",
       "00116118485d4dfda04fdbaba9a87b5c                              0.0   \n",
       "0011e0d4e6b944f998e987f904e8c1e5                              0.0   \n",
       "0020c2b971eb4e9188eac86d93036a77                              0.0   \n",
       "0020ccbbb6d84e358d3414a3ff76cffd                              0.0   \n",
       "\n",
       "                                                                   \\\n",
       "                                 9b98b8c7a33c4b65b9aebfe6a799e6d9   \n",
       "person                                                              \n",
       "0009655768c64bdeb2e877511632db8f                              0.0   \n",
       "00116118485d4dfda04fdbaba9a87b5c                              0.0   \n",
       "0011e0d4e6b944f998e987f904e8c1e5                              1.0   \n",
       "0020c2b971eb4e9188eac86d93036a77                              0.0   \n",
       "0020ccbbb6d84e358d3414a3ff76cffd                              1.0   \n",
       "\n",
       "                                                                   \\\n",
       "                                 0b1e1539f2cc45b7b9fa7c272da2e1d7   \n",
       "person                                                              \n",
       "0009655768c64bdeb2e877511632db8f                              0.0   \n",
       "00116118485d4dfda04fdbaba9a87b5c                              0.0   \n",
       "0011e0d4e6b944f998e987f904e8c1e5                              0.0   \n",
       "0020c2b971eb4e9188eac86d93036a77                              0.0   \n",
       "0020ccbbb6d84e358d3414a3ff76cffd                              0.0   \n",
       "\n",
       "                                                                   \\\n",
       "                                 2298d6c36e964ae4a3e7e9706d1fb8c2   \n",
       "person                                                              \n",
       "0009655768c64bdeb2e877511632db8f                              0.0   \n",
       "00116118485d4dfda04fdbaba9a87b5c                              0.0   \n",
       "0011e0d4e6b944f998e987f904e8c1e5                              0.0   \n",
       "0020c2b971eb4e9188eac86d93036a77                              0.0   \n",
       "0020ccbbb6d84e358d3414a3ff76cffd                              0.0   \n",
       "\n",
       "                                                                   \\\n",
       "                                 fafdcd668e3743c1bb461111dcafc2a4   \n",
       "person                                                              \n",
       "0009655768c64bdeb2e877511632db8f                              1.0   \n",
       "00116118485d4dfda04fdbaba9a87b5c                              0.0   \n",
       "0011e0d4e6b944f998e987f904e8c1e5                              0.0   \n",
       "0020c2b971eb4e9188eac86d93036a77                              0.0   \n",
       "0020ccbbb6d84e358d3414a3ff76cffd                              0.0   \n",
       "\n",
       "                                                                   \\\n",
       "                                 5a8bc65990b245e5a138643cd4eb9837   \n",
       "person                                                              \n",
       "0009655768c64bdeb2e877511632db8f                              0.0   \n",
       "00116118485d4dfda04fdbaba9a87b5c                              0.0   \n",
       "0011e0d4e6b944f998e987f904e8c1e5                              0.0   \n",
       "0020c2b971eb4e9188eac86d93036a77                              1.0   \n",
       "0020ccbbb6d84e358d3414a3ff76cffd                              0.0   \n",
       "\n",
       "                                                                   \\\n",
       "                                 f19421c1d4aa40978ebb69ca19b0e20d   \n",
       "person                                                              \n",
       "0009655768c64bdeb2e877511632db8f                              0.0   \n",
       "00116118485d4dfda04fdbaba9a87b5c                              1.0   \n",
       "0011e0d4e6b944f998e987f904e8c1e5                              0.0   \n",
       "0020c2b971eb4e9188eac86d93036a77                              0.0   \n",
       "0020ccbbb6d84e358d3414a3ff76cffd                              0.0   \n",
       "\n",
       "                                                                            \n",
       "                                 2906b810c7d4411798c6938adc9daaa5 no_offer  \n",
       "person                                                                      \n",
       "0009655768c64bdeb2e877511632db8f                              1.0      0.0  \n",
       "00116118485d4dfda04fdbaba9a87b5c                              0.0      0.0  \n",
       "0011e0d4e6b944f998e987f904e8c1e5                              0.0      0.0  \n",
       "0020c2b971eb4e9188eac86d93036a77                              0.0      0.0  \n",
       "0020ccbbb6d84e358d3414a3ff76cffd                              0.0      0.0  \n",
       "\n",
       "[5 rows x 1320 columns]"
      ]
     },
     "execution_count": 35,
     "metadata": {},
     "output_type": "execute_result"
    }
   ],
   "source": [
    "multi_offer_times.head()"
   ]
  },
  {
   "cell_type": "code",
   "execution_count": 36,
   "metadata": {
    "collapsed": false
   },
   "outputs": [
    {
     "data": {
      "text/plain": [
       "0    ae264e3637204a6fb9bb56bc8210ddfd    0.0\n",
       "     4d5c57ea9a6940dd891ad53e9dbe8da0    0.0\n",
       "     3f207df678b143eea3cee63160fa8bed    0.0\n",
       "     9b98b8c7a33c4b65b9aebfe6a799e6d9    0.0\n",
       "     0b1e1539f2cc45b7b9fa7c272da2e1d7    0.0\n",
       "     2298d6c36e964ae4a3e7e9706d1fb8c2    0.0\n",
       "     fafdcd668e3743c1bb461111dcafc2a4    0.0\n",
       "     5a8bc65990b245e5a138643cd4eb9837    0.0\n",
       "     f19421c1d4aa40978ebb69ca19b0e20d    0.0\n",
       "     2906b810c7d4411798c6938adc9daaa5    0.0\n",
       "     no_offer                            1.0\n",
       "6    ae264e3637204a6fb9bb56bc8210ddfd    0.0\n",
       "     4d5c57ea9a6940dd891ad53e9dbe8da0    0.0\n",
       "     3f207df678b143eea3cee63160fa8bed    0.0\n",
       "     9b98b8c7a33c4b65b9aebfe6a799e6d9    0.0\n",
       "     0b1e1539f2cc45b7b9fa7c272da2e1d7    0.0\n",
       "     2298d6c36e964ae4a3e7e9706d1fb8c2    0.0\n",
       "     fafdcd668e3743c1bb461111dcafc2a4    0.0\n",
       "     5a8bc65990b245e5a138643cd4eb9837    0.0\n",
       "     f19421c1d4aa40978ebb69ca19b0e20d    0.0\n",
       "     2906b810c7d4411798c6938adc9daaa5    0.0\n",
       "     no_offer                            1.0\n",
       "12   ae264e3637204a6fb9bb56bc8210ddfd    0.0\n",
       "     4d5c57ea9a6940dd891ad53e9dbe8da0    0.0\n",
       "     3f207df678b143eea3cee63160fa8bed    0.0\n",
       "     9b98b8c7a33c4b65b9aebfe6a799e6d9    0.0\n",
       "     0b1e1539f2cc45b7b9fa7c272da2e1d7    0.0\n",
       "     2298d6c36e964ae4a3e7e9706d1fb8c2    0.0\n",
       "     fafdcd668e3743c1bb461111dcafc2a4    0.0\n",
       "     5a8bc65990b245e5a138643cd4eb9837    0.0\n",
       "                                        ... \n",
       "702  9b98b8c7a33c4b65b9aebfe6a799e6d9    0.0\n",
       "     0b1e1539f2cc45b7b9fa7c272da2e1d7    0.0\n",
       "     2298d6c36e964ae4a3e7e9706d1fb8c2    0.0\n",
       "     fafdcd668e3743c1bb461111dcafc2a4    1.0\n",
       "     5a8bc65990b245e5a138643cd4eb9837    0.0\n",
       "     f19421c1d4aa40978ebb69ca19b0e20d    0.0\n",
       "     2906b810c7d4411798c6938adc9daaa5    1.0\n",
       "     no_offer                            0.0\n",
       "708  ae264e3637204a6fb9bb56bc8210ddfd    0.0\n",
       "     4d5c57ea9a6940dd891ad53e9dbe8da0    0.0\n",
       "     3f207df678b143eea3cee63160fa8bed    0.0\n",
       "     9b98b8c7a33c4b65b9aebfe6a799e6d9    0.0\n",
       "     0b1e1539f2cc45b7b9fa7c272da2e1d7    0.0\n",
       "     2298d6c36e964ae4a3e7e9706d1fb8c2    0.0\n",
       "     fafdcd668e3743c1bb461111dcafc2a4    1.0\n",
       "     5a8bc65990b245e5a138643cd4eb9837    0.0\n",
       "     f19421c1d4aa40978ebb69ca19b0e20d    0.0\n",
       "     2906b810c7d4411798c6938adc9daaa5    1.0\n",
       "     no_offer                            0.0\n",
       "714  ae264e3637204a6fb9bb56bc8210ddfd    0.0\n",
       "     4d5c57ea9a6940dd891ad53e9dbe8da0    0.0\n",
       "     3f207df678b143eea3cee63160fa8bed    0.0\n",
       "     9b98b8c7a33c4b65b9aebfe6a799e6d9    0.0\n",
       "     0b1e1539f2cc45b7b9fa7c272da2e1d7    0.0\n",
       "     2298d6c36e964ae4a3e7e9706d1fb8c2    0.0\n",
       "     fafdcd668e3743c1bb461111dcafc2a4    1.0\n",
       "     5a8bc65990b245e5a138643cd4eb9837    0.0\n",
       "     f19421c1d4aa40978ebb69ca19b0e20d    0.0\n",
       "     2906b810c7d4411798c6938adc9daaa5    1.0\n",
       "     no_offer                            0.0\n",
       "Length: 1320, dtype: float64"
      ]
     },
     "execution_count": 36,
     "metadata": {},
     "output_type": "execute_result"
    }
   ],
   "source": [
    "offer_times = get_offers_ts(user, portfolio, data, viewed=False)\n",
    "offer_times.stack()"
   ]
  },
  {
   "cell_type": "markdown",
   "metadata": {},
   "source": [
    "## 1) Let's get the spent money in 10 days from the offer reception, without taking into account the overlapping or the views."
   ]
  },
  {
   "cell_type": "code",
   "execution_count": 37,
   "metadata": {
    "collapsed": false
   },
   "outputs": [
    {
     "name": "stdout",
     "output_type": "stream",
     "text": [
      "CPU times: user 3.45 s, sys: 16 ms, total: 3.47 s\n",
      "Wall time: 2.31 s\n"
     ]
    }
   ],
   "source": [
    "# Get the data\n",
    "static_data = pd.read_pickle(STATIC_DATASET_PATH)\n",
    "portfolio = pd.read_json(os.path.join(DATA_RAW, 'portfolio.json'), orient='records', lines=True)\n",
    "profile = pd.read_json(os.path.join(DATA_RAW, 'profile.json'), orient='records', lines=True)\n",
    "transcript = pd.read_json(os.path.join(DATA_RAW, 'transcript.json'), orient='records', lines=True)\n",
    "\n",
    "%time data, portfolio = pp.basic_preprocessing(portfolio, profile, transcript)\n",
    "received, viewed, completed, transactions = pp.split_transcript(data)"
   ]
  },
  {
   "cell_type": "code",
   "execution_count": 38,
   "metadata": {
    "collapsed": false
   },
   "outputs": [
    {
     "data": {
      "text/plain": [
       "(76277, 132)"
      ]
     },
     "execution_count": 38,
     "metadata": {},
     "output_type": "execute_result"
    }
   ],
   "source": [
    "static_data.shape"
   ]
  },
  {
   "cell_type": "code",
   "execution_count": 39,
   "metadata": {
    "collapsed": false
   },
   "outputs": [
    {
     "data": {
      "text/html": [
       "<div>\n",
       "<style scoped>\n",
       "    .dataframe tbody tr th:only-of-type {\n",
       "        vertical-align: middle;\n",
       "    }\n",
       "\n",
       "    .dataframe tbody tr th {\n",
       "        vertical-align: top;\n",
       "    }\n",
       "\n",
       "    .dataframe thead th {\n",
       "        text-align: right;\n",
       "    }\n",
       "</style>\n",
       "<table border=\"1\" class=\"dataframe\">\n",
       "  <thead>\n",
       "    <tr style=\"text-align: right;\">\n",
       "      <th></th>\n",
       "      <th>event</th>\n",
       "      <th>person</th>\n",
       "      <th>time</th>\n",
       "      <th>amount</th>\n",
       "      <th>offer_id</th>\n",
       "      <th>reward</th>\n",
       "      <th>age</th>\n",
       "      <th>became_member_on</th>\n",
       "      <th>gender</th>\n",
       "      <th>income</th>\n",
       "      <th>missing_demographics</th>\n",
       "      <th>member_epoch_days</th>\n",
       "      <th>difficulty</th>\n",
       "      <th>duration</th>\n",
       "      <th>offer_type</th>\n",
       "      <th>reward_t</th>\n",
       "      <th>channel_mobile</th>\n",
       "      <th>channel_social</th>\n",
       "      <th>channel_email</th>\n",
       "      <th>channel_web</th>\n",
       "    </tr>\n",
       "  </thead>\n",
       "  <tbody>\n",
       "    <tr>\n",
       "      <th>12654</th>\n",
       "      <td>transaction</td>\n",
       "      <td>02c083884c7d45b39cc68e1314fec56c</td>\n",
       "      <td>0</td>\n",
       "      <td>0.83</td>\n",
       "      <td>NaN</td>\n",
       "      <td>NaN</td>\n",
       "      <td>20.0</td>\n",
       "      <td>2016-07-11</td>\n",
       "      <td>F</td>\n",
       "      <td>30000.0</td>\n",
       "      <td>0</td>\n",
       "      <td>16993</td>\n",
       "      <td>NaN</td>\n",
       "      <td>NaN</td>\n",
       "      <td>NaN</td>\n",
       "      <td>NaN</td>\n",
       "      <td>NaN</td>\n",
       "      <td>NaN</td>\n",
       "      <td>NaN</td>\n",
       "      <td>NaN</td>\n",
       "    </tr>\n",
       "    <tr>\n",
       "      <th>12657</th>\n",
       "      <td>transaction</td>\n",
       "      <td>9fa9ae8f57894cc9a3b8a9bbe0fc1b2f</td>\n",
       "      <td>0</td>\n",
       "      <td>34.56</td>\n",
       "      <td>NaN</td>\n",
       "      <td>NaN</td>\n",
       "      <td>42.0</td>\n",
       "      <td>2016-01-17</td>\n",
       "      <td>M</td>\n",
       "      <td>96000.0</td>\n",
       "      <td>0</td>\n",
       "      <td>16817</td>\n",
       "      <td>NaN</td>\n",
       "      <td>NaN</td>\n",
       "      <td>NaN</td>\n",
       "      <td>NaN</td>\n",
       "      <td>NaN</td>\n",
       "      <td>NaN</td>\n",
       "      <td>NaN</td>\n",
       "      <td>NaN</td>\n",
       "    </tr>\n",
       "    <tr>\n",
       "      <th>12659</th>\n",
       "      <td>transaction</td>\n",
       "      <td>54890f68699049c2a04d415abc25e717</td>\n",
       "      <td>0</td>\n",
       "      <td>13.23</td>\n",
       "      <td>NaN</td>\n",
       "      <td>NaN</td>\n",
       "      <td>36.0</td>\n",
       "      <td>2017-12-28</td>\n",
       "      <td>M</td>\n",
       "      <td>56000.0</td>\n",
       "      <td>0</td>\n",
       "      <td>17528</td>\n",
       "      <td>NaN</td>\n",
       "      <td>NaN</td>\n",
       "      <td>NaN</td>\n",
       "      <td>NaN</td>\n",
       "      <td>NaN</td>\n",
       "      <td>NaN</td>\n",
       "      <td>NaN</td>\n",
       "      <td>NaN</td>\n",
       "    </tr>\n",
       "    <tr>\n",
       "      <th>12670</th>\n",
       "      <td>transaction</td>\n",
       "      <td>b2f1cd155b864803ad8334cdf13c4bd2</td>\n",
       "      <td>0</td>\n",
       "      <td>19.51</td>\n",
       "      <td>NaN</td>\n",
       "      <td>NaN</td>\n",
       "      <td>55.0</td>\n",
       "      <td>2017-10-16</td>\n",
       "      <td>F</td>\n",
       "      <td>94000.0</td>\n",
       "      <td>0</td>\n",
       "      <td>17455</td>\n",
       "      <td>NaN</td>\n",
       "      <td>NaN</td>\n",
       "      <td>NaN</td>\n",
       "      <td>NaN</td>\n",
       "      <td>NaN</td>\n",
       "      <td>NaN</td>\n",
       "      <td>NaN</td>\n",
       "      <td>NaN</td>\n",
       "    </tr>\n",
       "    <tr>\n",
       "      <th>12671</th>\n",
       "      <td>transaction</td>\n",
       "      <td>fe97aa22dd3e48c8b143116a8403dd52</td>\n",
       "      <td>0</td>\n",
       "      <td>18.97</td>\n",
       "      <td>NaN</td>\n",
       "      <td>NaN</td>\n",
       "      <td>39.0</td>\n",
       "      <td>2017-12-17</td>\n",
       "      <td>F</td>\n",
       "      <td>67000.0</td>\n",
       "      <td>0</td>\n",
       "      <td>17517</td>\n",
       "      <td>NaN</td>\n",
       "      <td>NaN</td>\n",
       "      <td>NaN</td>\n",
       "      <td>NaN</td>\n",
       "      <td>NaN</td>\n",
       "      <td>NaN</td>\n",
       "      <td>NaN</td>\n",
       "      <td>NaN</td>\n",
       "    </tr>\n",
       "  </tbody>\n",
       "</table>\n",
       "</div>"
      ],
      "text/plain": [
       "             event                            person  time  amount offer_id  \\\n",
       "12654  transaction  02c083884c7d45b39cc68e1314fec56c     0    0.83      NaN   \n",
       "12657  transaction  9fa9ae8f57894cc9a3b8a9bbe0fc1b2f     0   34.56      NaN   \n",
       "12659  transaction  54890f68699049c2a04d415abc25e717     0   13.23      NaN   \n",
       "12670  transaction  b2f1cd155b864803ad8334cdf13c4bd2     0   19.51      NaN   \n",
       "12671  transaction  fe97aa22dd3e48c8b143116a8403dd52     0   18.97      NaN   \n",
       "\n",
       "       reward   age became_member_on gender   income  missing_demographics  \\\n",
       "12654     NaN  20.0       2016-07-11      F  30000.0                     0   \n",
       "12657     NaN  42.0       2016-01-17      M  96000.0                     0   \n",
       "12659     NaN  36.0       2017-12-28      M  56000.0                     0   \n",
       "12670     NaN  55.0       2017-10-16      F  94000.0                     0   \n",
       "12671     NaN  39.0       2017-12-17      F  67000.0                     0   \n",
       "\n",
       "       member_epoch_days  difficulty  duration offer_type  reward_t  \\\n",
       "12654              16993         NaN       NaN        NaN       NaN   \n",
       "12657              16817         NaN       NaN        NaN       NaN   \n",
       "12659              17528         NaN       NaN        NaN       NaN   \n",
       "12670              17455         NaN       NaN        NaN       NaN   \n",
       "12671              17517         NaN       NaN        NaN       NaN   \n",
       "\n",
       "       channel_mobile  channel_social  channel_email  channel_web  \n",
       "12654             NaN             NaN            NaN          NaN  \n",
       "12657             NaN             NaN            NaN          NaN  \n",
       "12659             NaN             NaN            NaN          NaN  \n",
       "12670             NaN             NaN            NaN          NaN  \n",
       "12671             NaN             NaN            NaN          NaN  "
      ]
     },
     "execution_count": 39,
     "metadata": {},
     "output_type": "execute_result"
    }
   ],
   "source": [
    "transactions.head()"
   ]
  },
  {
   "cell_type": "code",
   "execution_count": 40,
   "metadata": {
    "collapsed": true
   },
   "outputs": [],
   "source": [
    "from tqdm import tqdm"
   ]
  },
  {
   "cell_type": "code",
   "execution_count": 41,
   "metadata": {
    "collapsed": false
   },
   "outputs": [],
   "source": [
    "# TODO: Make a function out of the code below..."
   ]
  },
  {
   "cell_type": "code",
   "execution_count": 42,
   "metadata": {
    "collapsed": true
   },
   "outputs": [],
   "source": [
    "def get_spent_days_static(static_data, preprocessed_data, days=10*24):\n",
    "    \"\"\"\n",
    "    Get a static data version of the profit N days dataset.\n",
    "    Calculates the total money spent for each customer, in the 10 days after\n",
    "    an offer is shown.\n",
    "    Args:\n",
    "        static_data(dataframe): The 'offer success' version of the static data.\n",
    "        preprocessed_data(dataframe): the result of 'basic_preprocessing'.\n",
    "        days(int): The number of days to calculate the profits.\n",
    "    \"\"\"\n",
    "    received, viewed, completed, transactions = pp.split_transcript(preprocessed_data)\n",
    "    \n",
    "    results = list()\n",
    "    for idx, row in tqdm(list(static_data.iterrows())):\n",
    "        record = dict()\n",
    "    \n",
    "        # Id of the record\n",
    "        record['person'] = row.person\n",
    "        record['time'] = row.time\n",
    "        record['offer_id'] = row.offer_id\n",
    "    \n",
    "        record['spent_10_days'] = transactions[(transactions.person == row.person) &\n",
    "                                               (transactions.time > row.time) &\n",
    "                                               (transactions.time <= row.time + days)\n",
    "                                              ].amount.sum()\n",
    "        results.append(record)\n",
    "    \n",
    "    return static_data.merge(pd.DataFrame(results), \n",
    "                             on=['person', 'time', 'offer_id'], how='left')"
   ]
  },
  {
   "cell_type": "code",
   "execution_count": null,
   "metadata": {
    "collapsed": false
   },
   "outputs": [
    {
     "name": "stderr",
     "output_type": "stream",
     "text": [
      " 37%|███▋      | 28519/76277 [08:26<14:24, 55.22it/s]"
     ]
    }
   ],
   "source": [
    "filled = get_spent_days_static(static_data, data)"
   ]
  },
  {
   "cell_type": "code",
   "execution_count": null,
   "metadata": {
    "collapsed": false
   },
   "outputs": [],
   "source": [
    "print(filled.shape)\n",
    "filled.head()"
   ]
  },
  {
   "cell_type": "code",
   "execution_count": null,
   "metadata": {
    "collapsed": false
   },
   "outputs": [],
   "source": [
    "filled.spent_10_days.sum()"
   ]
  },
  {
   "cell_type": "code",
   "execution_count": null,
   "metadata": {
    "collapsed": true
   },
   "outputs": [],
   "source": [
    "filled.to_pickle(os.path.join(DATA_PROCESSED, 'static_spent_10_days.pkl'))"
   ]
  },
  {
   "cell_type": "code",
   "execution_count": null,
   "metadata": {
    "collapsed": true
   },
   "outputs": [],
   "source": [
    "filled = pd.read_pickle(os.path.join(DATA_PROCESSED, 'static_spent_10_days.pkl'))"
   ]
  },
  {
   "cell_type": "code",
   "execution_count": null,
   "metadata": {
    "collapsed": false
   },
   "outputs": [],
   "source": [
    "filled.groupby('offer_id').spent_10_days.sum().sort_values().plot(kind='barh')"
   ]
  },
  {
   "cell_type": "code",
   "execution_count": null,
   "metadata": {
    "collapsed": false
   },
   "outputs": [],
   "source": [
    "filled.groupby('offer_id').spent_10_days.mean().sort_values().plot(kind='barh')"
   ]
  },
  {
   "cell_type": "code",
   "execution_count": null,
   "metadata": {
    "collapsed": false
   },
   "outputs": [],
   "source": [
    "portfolio"
   ]
  },
  {
   "cell_type": "code",
   "execution_count": null,
   "metadata": {
    "collapsed": false
   },
   "outputs": [],
   "source": [
    "filled.groupby('offer_type').spent_10_days.sum().sort_values().plot(kind='barh')"
   ]
  },
  {
   "cell_type": "code",
   "execution_count": null,
   "metadata": {
    "collapsed": false
   },
   "outputs": [],
   "source": [
    "filled.groupby('offer_type').spent_10_days.mean().sort_values().plot(kind='barh')"
   ]
  },
  {
   "cell_type": "markdown",
   "metadata": {},
   "source": [
    "## 2) Let's consider the non-viewed for the \"null\" offer."
   ]
  },
  {
   "cell_type": "code",
   "execution_count": null,
   "metadata": {
    "collapsed": false
   },
   "outputs": [],
   "source": [
    "# Get the data\n",
    "static_data = pd.read_pickle(STATIC_DATASET_PATH)\n",
    "portfolio = pd.read_json(os.path.join(DATA_RAW, 'portfolio.json'), orient='records', lines=True)\n",
    "profile = pd.read_json(os.path.join(DATA_RAW, 'profile.json'), orient='records', lines=True)\n",
    "transcript = pd.read_json(os.path.join(DATA_RAW, 'transcript.json'), orient='records', lines=True)\n",
    "\n",
    "%time data, portfolio = pp.basic_preprocessing(portfolio, profile, transcript)\n",
    "received, viewed, completed, transactions = pp.split_transcript(data)"
   ]
  },
  {
   "cell_type": "code",
   "execution_count": null,
   "metadata": {
    "collapsed": true
   },
   "outputs": [],
   "source": [
    "filled = pd.read_pickle(os.path.join(DATA_PROCESSED, 'static_spent_10_days.pkl'))"
   ]
  },
  {
   "cell_type": "code",
   "execution_count": null,
   "metadata": {
    "collapsed": false
   },
   "outputs": [],
   "source": [
    "filled['offer_choice'] = filled['offer_id']\n",
    "filled.loc[filled['viewed'] == 0, 'offer_choice'] = 'no_offer'"
   ]
  },
  {
   "cell_type": "code",
   "execution_count": null,
   "metadata": {
    "collapsed": false
   },
   "outputs": [],
   "source": [
    "filled.offer_choice.value_counts()"
   ]
  },
  {
   "cell_type": "code",
   "execution_count": null,
   "metadata": {
    "collapsed": false
   },
   "outputs": [],
   "source": [
    "filled.head()"
   ]
  },
  {
   "cell_type": "code",
   "execution_count": null,
   "metadata": {
    "collapsed": false
   },
   "outputs": [],
   "source": [
    "print(filled.shape)\n",
    "print(filled.columns)"
   ]
  },
  {
   "cell_type": "code",
   "execution_count": null,
   "metadata": {
    "collapsed": false
   },
   "outputs": [],
   "source": [
    "data = filled\n",
    "time_limit = 450\n",
    "drop_time = True\n",
    "anon_person = True\n",
    "anon_offer = True\n",
    "data = data.drop('became_member_on', axis=1)\n",
    "if anon_person:\n",
    "        data = data.drop('person', axis=1)\n",
    "if anon_offer:\n",
    "        data = data.drop('offer_id', axis=1)\n",
    "X = data.drop(pp.FUTURE_INFO, axis=1)\n",
    "y = data['success']\n",
    "X_train, X_test, y_train, y_test = sd.time_split(X, y, time_limit,\n",
    "                                              drop_time=drop_time)"
   ]
  },
  {
   "cell_type": "code",
   "execution_count": null,
   "metadata": {
    "collapsed": false
   },
   "outputs": [],
   "source": [
    "X_train.head()"
   ]
  },
  {
   "cell_type": "code",
   "execution_count": null,
   "metadata": {
    "collapsed": false
   },
   "outputs": [],
   "source": [
    "portfolio"
   ]
  },
  {
   "cell_type": "code",
   "execution_count": null,
   "metadata": {
    "collapsed": false
   },
   "outputs": [],
   "source": [
    "data['profit_10_days'] = data.spent_10_days - data.actual_reward"
   ]
  },
  {
   "cell_type": "code",
   "execution_count": null,
   "metadata": {
    "collapsed": false
   },
   "outputs": [],
   "source": [
    "data.head()"
   ]
  },
  {
   "cell_type": "code",
   "execution_count": null,
   "metadata": {
    "collapsed": true
   },
   "outputs": [],
   "source": [
    "from sklearn.preprocessing import LabelEncoder"
   ]
  },
  {
   "cell_type": "code",
   "execution_count": null,
   "metadata": {
    "collapsed": true
   },
   "outputs": [],
   "source": [
    "class BasicEncoderProfits(pp.BasicEncoder):\n",
    "    \"\"\" \n",
    "    Transforms the Basic dataset. Adds the encoding for the offer choice or\n",
    "    other custom features (may be offer_id for example). \"\"\"\n",
    "\n",
    "    def __init__(self, custom_features=list()):\n",
    "        super().__init__()\n",
    "        self.custom_encoders = {feat: LabelEncoder() for feat in custom_features}\n",
    "\n",
    "    def fit(self, X, y=None):\n",
    "        \"\"\" Get the encodings for the offer choice. \"\"\"\n",
    "        super().fit(X, y)\n",
    "        for feat, encoder in self.custom_encoders.items():\n",
    "            encoder.fit(X[feat])\n",
    "        return self\n",
    "\n",
    "    def transform(self, X):\n",
    "        \"\"\" Encode offer types and gender, and all the custom features. \"\"\"\n",
    "        res = super().transform(X)\n",
    "        for feat, encoder in self.custom_encoders.items():\n",
    "            res[feat] = encoder.transform(X[feat])\n",
    "        return res\n",
    "\n",
    "    def inverse_transform(self, X):\n",
    "        \"\"\" Transform back to the original encoding. \"\"\"\n",
    "        res = super().inverse_transform(X)\n",
    "        for feat, encoder in self.custom_encoders.items():\n",
    "            res[feat] = encoder.inverse_transform(X[feat])\n",
    "        return res"
   ]
  },
  {
   "cell_type": "code",
   "execution_count": null,
   "metadata": {
    "collapsed": true
   },
   "outputs": [],
   "source": [
    "def fill_null_offer(data):\n",
    "    \"\"\" Fill the 'null' offer data when an offer was not viewed\"\"\"\n",
    "    \n",
    "    data.loc[data['viewed'] == 0, 'offer_id'] = 'no_offer'\n",
    "    z_cols = ['difficulty',\n",
    "               'duration',\n",
    "               'reward_t',\n",
    "               'channel_web',\n",
    "               'channel_mobile',\n",
    "               'channel_email',\n",
    "               'channel_social',\n",
    "               'expected_finish']\n",
    "    data.loc[data.offer_id=='no_offer', data.columns.isin(z_cols)] = 0\n",
    "    data.loc[data.offer_id=='no_offer', 'offer_type'] = 'no_offer'\n",
    "\n",
    "    return data"
   ]
  },
  {
   "cell_type": "code",
   "execution_count": null,
   "metadata": {
    "collapsed": false
   },
   "outputs": [],
   "source": [
    "def get_profit_10_days_data(basic_dataset_path=os.path.join(DATA_PROCESSED, 'static_spent_10_days.pkl'),\n",
    "                            train_times=[0, 168],\n",
    "                            test_times=[408],\n",
    "                            drop_time=True,\n",
    "                            anon_person=True,\n",
    "                            drop_offer_id=True,\n",
    "                            fill_null=True,\n",
    "                            target='profit_10_days'):\n",
    "    \"\"\"\n",
    "    Generates the dataset to predict the profits in 10 days for each offer.\n",
    "    The profits are calculated as the money spent minus the paid reward (if any).\n",
    "    Args:\n",
    "        basic_dataset_path(str): The path to the pickle containing the basic\n",
    "            dataset\n",
    "        time_limit(int): The limit to split the train and test sets.\n",
    "        drop_time(boolean): Whether to drop the absolute time dependent\n",
    "            features.\n",
    "        anon_person(boolean): Whether to drop unique identifiers to customers.\n",
    "        anon_offer(boolean): Whether to drop unique identifiers to offers.\n",
    "\n",
    "    Returns:\n",
    "        X_train(pd.DataFrame): The training dataset.\n",
    "        X_test(pd.DataFrame): The test dataset.\n",
    "        y_train(pd.Series): The training target.\n",
    "        y_test(pd.Series): The test target.\n",
    "        BasicEncoderProfits: An encoder to use in an ML pipeline.\n",
    "    \"\"\"\n",
    "    data = pd.read_pickle(basic_dataset_path)\n",
    "    \n",
    "    custom_features = ['offer_id']\n",
    "    if fill_null:\n",
    "        data = fill_null_offer(data)\n",
    "    if anon_person:\n",
    "        data = data.drop('person', axis=1)\n",
    "    if drop_offer_id:\n",
    "        data = data.drop('offer_id', axis=1)\n",
    "        custom_features.remove('offer_id')\n",
    "    data['profit_10_days'] = data.spent_10_days - data.actual_reward\n",
    "    data = data.drop(['became_member_on', 'spent_10_days'], axis=1)\n",
    "    \n",
    "    X = data.drop(pp.FUTURE_INFO + ['profit_10_days'], axis=1)\n",
    "    y = data[target]\n",
    "    \n",
    "    # Split the train-test data\n",
    "    X_train = X[X.time.isin(train_times)]\n",
    "    X_test = X[X.time.isin(test_times)]\n",
    "    y_train = y[X.time.isin(train_times)]\n",
    "    y_test = y[X.time.isin(test_times)]\n",
    "    if drop_time:\n",
    "        X_train = X_train.drop('time', axis=1)\n",
    "        X_test = X_test.drop('time', axis=1)\n",
    "    \n",
    "    encoder = encoder = BasicEncoderProfits(custom_features=custom_features)\n",
    "    \n",
    "    return X_train, X_test, y_train, y_test, encoder"
   ]
  },
  {
   "cell_type": "code",
   "execution_count": null,
   "metadata": {
    "collapsed": false
   },
   "outputs": [],
   "source": [
    "X_train, X_test, y_train, y_test, encoder =\\\n",
    "get_profit_10_days_data(drop_offer_id=False)"
   ]
  },
  {
   "cell_type": "code",
   "execution_count": null,
   "metadata": {
    "collapsed": false
   },
   "outputs": [],
   "source": [
    "X_train.offer_type.unique()"
   ]
  },
  {
   "cell_type": "code",
   "execution_count": null,
   "metadata": {
    "collapsed": false
   },
   "outputs": [],
   "source": [
    "X_train, X_test, y_train, y_test, encoder =\\\n",
    "get_profit_10_days_data(target='viewed')\n",
    "y_train.name"
   ]
  },
  {
   "cell_type": "code",
   "execution_count": null,
   "metadata": {
    "collapsed": false
   },
   "outputs": [],
   "source": [
    "X_train, X_test, y_train, y_test, encoder =\\\n",
    "get_profit_10_days_data(fill_null=False, target='viewed')\n",
    "X_train.offer_type.unique()"
   ]
  },
  {
   "cell_type": "code",
   "execution_count": null,
   "metadata": {
    "collapsed": false
   },
   "outputs": [],
   "source": [
    "encoder.custom_encoders"
   ]
  },
  {
   "cell_type": "code",
   "execution_count": null,
   "metadata": {
    "collapsed": false
   },
   "outputs": [],
   "source": [
    "encoder.fit(X_train)"
   ]
  },
  {
   "cell_type": "code",
   "execution_count": null,
   "metadata": {
    "collapsed": false
   },
   "outputs": [],
   "source": [
    "X_train_t = encoder.transform(X_train)\n",
    "X_train_t.head()"
   ]
  },
  {
   "cell_type": "code",
   "execution_count": null,
   "metadata": {
    "collapsed": true
   },
   "outputs": [],
   "source": [
    "X_train_o = encoder.inverse_transform(X_train_t)"
   ]
  },
  {
   "cell_type": "code",
   "execution_count": null,
   "metadata": {
    "collapsed": false
   },
   "outputs": [],
   "source": [
    "X_train_o.head()"
   ]
  },
  {
   "cell_type": "code",
   "execution_count": null,
   "metadata": {
    "collapsed": true
   },
   "outputs": [],
   "source": []
  },
  {
   "cell_type": "markdown",
   "metadata": {},
   "source": [
    "### Let's train a simple profits estimator"
   ]
  },
  {
   "cell_type": "code",
   "execution_count": null,
   "metadata": {
    "collapsed": true
   },
   "outputs": [],
   "source": [
    "from xgboost import XGBRegressor"
   ]
  },
  {
   "cell_type": "code",
   "execution_count": null,
   "metadata": {
    "collapsed": true
   },
   "outputs": [],
   "source": [
    "X_train, X_test, y_train, y_test, encoder =\\\n",
    "get_profit_10_days_data(drop_offer_id=False)"
   ]
  },
  {
   "cell_type": "code",
   "execution_count": null,
   "metadata": {
    "collapsed": false
   },
   "outputs": [],
   "source": [
    "model = Pipeline([\n",
    "    ('encoder', encoder),\n",
    "    ('imputer', md.BasicImputer()),\n",
    "    ('estimator', XGBRegressor(max_depth=4, n_estimators=200, n_jobs=-1,\n",
    "                                random_state=2018))\n",
    "])"
   ]
  },
  {
   "cell_type": "code",
   "execution_count": null,
   "metadata": {
    "collapsed": false
   },
   "outputs": [],
   "source": [
    "%time model.fit(X_train, y_train)"
   ]
  },
  {
   "cell_type": "code",
   "execution_count": null,
   "metadata": {
    "collapsed": false
   },
   "outputs": [],
   "source": [
    "y_train_pred = model.predict(X_train)"
   ]
  },
  {
   "cell_type": "code",
   "execution_count": null,
   "metadata": {
    "collapsed": false
   },
   "outputs": [],
   "source": [
    "from sklearn.metrics import mean_squared_error as mse"
   ]
  },
  {
   "cell_type": "code",
   "execution_count": null,
   "metadata": {
    "collapsed": false
   },
   "outputs": [],
   "source": [
    "print('Training error (RMSE) = {}'.format(np.sqrt(mse(y_train, y_train_pred))))"
   ]
  },
  {
   "cell_type": "code",
   "execution_count": null,
   "metadata": {
    "collapsed": false
   },
   "outputs": [],
   "source": [
    "y_test_pred = model.predict(X_test)\n",
    "print('Test error (RMSE) = {}'.format(np.sqrt(mse(y_test, y_test_pred))))"
   ]
  },
  {
   "cell_type": "code",
   "execution_count": null,
   "metadata": {
    "collapsed": false,
    "scrolled": true
   },
   "outputs": [],
   "source": [
    "X_test.shape"
   ]
  },
  {
   "cell_type": "code",
   "execution_count": null,
   "metadata": {
    "collapsed": false,
    "scrolled": false
   },
   "outputs": [],
   "source": [
    "test_res = pd.DataFrame(columns=['true', 'pred'])\n",
    "test_res['true'] = y_test\n",
    "test_res['pred'] = y_test_pred\n",
    "test_res"
   ]
  },
  {
   "cell_type": "code",
   "execution_count": null,
   "metadata": {
    "collapsed": false,
    "scrolled": true
   },
   "outputs": [],
   "source": [
    "test_res.sort_values(by='true').plot(style='.')"
   ]
  },
  {
   "cell_type": "code",
   "execution_count": null,
   "metadata": {
    "collapsed": false
   },
   "outputs": [],
   "source": [
    "((test_res.pred - test_res.true) / test_res.true).abs().sort_values().reset_index(drop=True).plot()"
   ]
  },
  {
   "cell_type": "code",
   "execution_count": null,
   "metadata": {
    "collapsed": false
   },
   "outputs": [],
   "source": [
    "relative_error = ((test_res.pred - test_res.true) / test_res.true).abs()"
   ]
  },
  {
   "cell_type": "code",
   "execution_count": null,
   "metadata": {
    "collapsed": false
   },
   "outputs": [],
   "source": [
    "(relative_error == np.inf).sum()"
   ]
  },
  {
   "cell_type": "code",
   "execution_count": null,
   "metadata": {
    "collapsed": false
   },
   "outputs": [],
   "source": [
    "relative_error[np.isfinite(relative_error)].mean()"
   ]
  },
  {
   "cell_type": "markdown",
   "metadata": {},
   "source": [
    "### Let's pick a user and decide which would be the most profitable offer we can send them."
   ]
  },
  {
   "cell_type": "code",
   "execution_count": null,
   "metadata": {
    "collapsed": false
   },
   "outputs": [],
   "source": [
    "# Read the data\n",
    "portfolio = pd.read_json(os.path.join(DATA_RAW, 'portfolio.json'), orient='records', lines=True)\n",
    "profile = pd.read_json(os.path.join(DATA_RAW, 'profile.json'), orient='records', lines=True)\n",
    "transcript = pd.read_json(os.path.join(DATA_RAW, 'transcript.json'), orient='records', lines=True)\n",
    "\n",
    "# Basic Preprocessing\n",
    "print('Basic preprocessing')\n",
    "%time _, portfolio = pp.basic_preprocessing(portfolio, profile, transcript)"
   ]
  },
  {
   "cell_type": "code",
   "execution_count": null,
   "metadata": {
    "collapsed": false
   },
   "outputs": [],
   "source": [
    "def predict_profit_with_offer(model, data, offer, drop_offer_id=False):\n",
    "    \"\"\" Predicts how much will be the profit in 10 days for a given an offer. \"\"\"\n",
    "    samples = data.copy()\n",
    "    if drop_offer_id:\n",
    "        std_offer = offer.drop('id').rename(index={'reward': 'reward_t'})\n",
    "    else:\n",
    "        std_offer = offer.rename(index={'reward': 'reward_t', 'id': 'offer_id'})\n",
    "    samples.loc[:, std_offer.index] = np.repeat(std_offer.values.reshape(1, -1), samples.shape[0], axis=0)\n",
    "    \n",
    "    return pd.Series(model.predict(samples), name=offer.id).T"
   ]
  },
  {
   "cell_type": "code",
   "execution_count": null,
   "metadata": {
    "collapsed": false
   },
   "outputs": [],
   "source": [
    "predict_profit_with_offer(model, X_test, portfolio.iloc[1]).head()"
   ]
  },
  {
   "cell_type": "code",
   "execution_count": null,
   "metadata": {
    "collapsed": false
   },
   "outputs": [],
   "source": [
    "portfolio"
   ]
  },
  {
   "cell_type": "code",
   "execution_count": null,
   "metadata": {
    "collapsed": false
   },
   "outputs": [],
   "source": [
    "complete_portfolio = portfolio.copy()\n",
    "null_offer = pd.Series([0, 0, 'no_offer', 'no_offer', 0, 0, 0, 0, 0],\n",
    "                       index=complete_portfolio.columns, name=complete_portfolio.shape[0])\n",
    "complete_portfolio = complete_portfolio.append(null_offer)\n",
    "complete_portfolio"
   ]
  },
  {
   "cell_type": "code",
   "execution_count": null,
   "metadata": {
    "collapsed": false
   },
   "outputs": [],
   "source": [
    "res = complete_portfolio.apply(lambda x: predict_profit_with_offer(model, X_test, x), axis=1).T\n",
    "res.columns = complete_portfolio.id\n",
    "res.shape"
   ]
  },
  {
   "cell_type": "code",
   "execution_count": null,
   "metadata": {
    "collapsed": false
   },
   "outputs": [],
   "source": [
    "res.head()"
   ]
  },
  {
   "cell_type": "code",
   "execution_count": null,
   "metadata": {
    "collapsed": false
   },
   "outputs": [],
   "source": [
    "res.describe()"
   ]
  },
  {
   "cell_type": "code",
   "execution_count": null,
   "metadata": {
    "collapsed": false
   },
   "outputs": [],
   "source": [
    "selected_offers = res.idxmax(axis=1)\n",
    "selected_offers.value_counts().reset_index().merge(portfolio, left_on='index', right_on='id')"
   ]
  },
  {
   "cell_type": "code",
   "execution_count": null,
   "metadata": {
    "collapsed": true
   },
   "outputs": [],
   "source": [
    "def choose_offer(model, X, portfolio, add_null_offer=True):\n",
    "    \"\"\"\n",
    "    Given a model and a features dataframe it returns the\n",
    "    model that maximizes the model predictions.\n",
    "    \"\"\"\n",
    "    complete_portfolio = portfolio.copy()\n",
    "    \n",
    "    # Add the null offer\n",
    "    if add_null_offer:\n",
    "        null_offer = pd.Series([0, 0, 'no_offer', 'no_offer', 0, 0, 0, 0, 0],\n",
    "                               index=complete_portfolio.columns, \n",
    "                               name=complete_portfolio.shape[0])\n",
    "        complete_portfolio = complete_portfolio.append(null_offer)\n",
    "    \n",
    "    res = complete_portfolio.apply(\n",
    "        lambda x: predict_profit_with_offer(model, X, x), axis=1).T\n",
    "    res.columns = complete_portfolio.id\n",
    "    \n",
    "    return res.idxmax(axis=1)"
   ]
  },
  {
   "cell_type": "code",
   "execution_count": null,
   "metadata": {
    "collapsed": false
   },
   "outputs": [],
   "source": [
    "selected_offers = choose_offer(model, X_test, portfolio)\n",
    "selected_offers.head()"
   ]
  },
  {
   "cell_type": "code",
   "execution_count": null,
   "metadata": {
    "collapsed": false
   },
   "outputs": [],
   "source": [
    "(X_test.offer_id == selected_offers.values).mean()"
   ]
  },
  {
   "cell_type": "code",
   "execution_count": null,
   "metadata": {
    "collapsed": false
   },
   "outputs": [],
   "source": [
    "(X_test.offer_id == selected_offers.values).sum()"
   ]
  },
  {
   "cell_type": "markdown",
   "metadata": {},
   "source": [
    "We could check the actual profit on those samples that, by chance, were sent the selected offer."
   ]
  },
  {
   "cell_type": "code",
   "execution_count": null,
   "metadata": {
    "collapsed": false
   },
   "outputs": [],
   "source": [
    "coincidences = y_test[X_test.offer_id == selected_offers.values]\n",
    "coincidences.sum()"
   ]
  },
  {
   "cell_type": "markdown",
   "metadata": {},
   "source": [
    "Now we select a random sample, of the same size, from the test set, and compare with the above profit."
   ]
  },
  {
   "cell_type": "code",
   "execution_count": null,
   "metadata": {
    "collapsed": false
   },
   "outputs": [],
   "source": [
    "np.random.seed(2018)\n",
    "np.random.choice(y_test, coincidences.shape[0], replace=False).sum()"
   ]
  },
  {
   "cell_type": "markdown",
   "metadata": {},
   "source": [
    "## 3) Let's find P(viewed | offer)"
   ]
  },
  {
   "cell_type": "code",
   "execution_count": null,
   "metadata": {
    "collapsed": false
   },
   "outputs": [],
   "source": [
    "X_train, X_test, y_train, y_test, encoder =\\\n",
    "get_profit_10_days_data(fill_null_offer=False, \n",
    "                        target='viewed', drop_offer_id=False)\n",
    "y_train.name"
   ]
  },
  {
   "cell_type": "code",
   "execution_count": null,
   "metadata": {
    "collapsed": true
   },
   "outputs": [],
   "source": [
    "model = Pipeline([\n",
    "    ('encoder', encoder),\n",
    "    ('imputer', md.BasicImputer()),\n",
    "    ('estimator', XGBClassifier(max_depth=7, n_estimators=200, n_jobs=-1,\n",
    "                                random_state=2018))\n",
    "])"
   ]
  },
  {
   "cell_type": "code",
   "execution_count": null,
   "metadata": {
    "collapsed": false
   },
   "outputs": [],
   "source": [
    "from sklearn.metrics import classification_report, confusion_matrix, f1_score\n",
    "\n",
    "%time model.fit(X_train, y_train)\n",
    "\n",
    "# Predict and show results\n",
    "y_train_pred = model.predict(X_train)\n",
    "print('-' * 44 + 'TRAIN RESULTS' + '-' * 44)\n",
    "print('Confusion Matrix:')\n",
    "print(confusion_matrix(y_train, y_train_pred))\n",
    "print('Classification Report:')\n",
    "print(classification_report(y_train, y_train_pred))\n",
    "print('-' * 100)\n",
    "\n",
    "y_test_pred = model.predict(X_test)\n",
    "print('-' * 44 + 'TEST RESULTS' + '-' * 44)\n",
    "print('Confusion Matrix:')\n",
    "print(confusion_matrix(y_test, y_test_pred))\n",
    "print('Classification Report:')\n",
    "print(classification_report(y_test, y_test_pred))\n",
    "print('-' * 100)\n",
    "\n",
    "print('\\n' + '_' * 51)\n",
    "print('| MAIN METRIC (test f1-score): {} |'.format(\n",
    "    f1_score(y_test, y_test_pred)))\n",
    "print('-' * 51)"
   ]
  },
  {
   "cell_type": "code",
   "execution_count": null,
   "metadata": {
    "collapsed": false
   },
   "outputs": [],
   "source": [
    "import src.visualization.visualize as vis"
   ]
  },
  {
   "cell_type": "code",
   "execution_count": null,
   "metadata": {
    "collapsed": false
   },
   "outputs": [],
   "source": [
    "vis.show_feat_importances(model, X_train)"
   ]
  },
  {
   "cell_type": "code",
   "execution_count": null,
   "metadata": {
    "collapsed": true
   },
   "outputs": [],
   "source": [
    "vis_probas_train = model.predict_proba(X_train)[:, 1]\n",
    "vis_probas_test = model.predict_proba(X_test)[:, 1]"
   ]
  },
  {
   "cell_type": "markdown",
   "metadata": {},
   "source": [
    "### Now, the full model"
   ]
  },
  {
   "cell_type": "code",
   "execution_count": null,
   "metadata": {
    "collapsed": false
   },
   "outputs": [],
   "source": [
    "vis_probas_train"
   ]
  },
  {
   "cell_type": "code",
   "execution_count": null,
   "metadata": {
    "collapsed": false
   },
   "outputs": [],
   "source": [
    "plt.hist(vis_probas_train)"
   ]
  },
  {
   "cell_type": "code",
   "execution_count": null,
   "metadata": {
    "collapsed": false
   },
   "outputs": [],
   "source": [
    "vis_probas_train.shape"
   ]
  },
  {
   "cell_type": "code",
   "execution_count": null,
   "metadata": {
    "collapsed": false
   },
   "outputs": [],
   "source": [
    "y_train.shape"
   ]
  },
  {
   "cell_type": "code",
   "execution_count": null,
   "metadata": {
    "collapsed": true
   },
   "outputs": [],
   "source": []
  },
  {
   "cell_type": "code",
   "execution_count": null,
   "metadata": {
    "collapsed": false,
    "scrolled": true
   },
   "outputs": [],
   "source": [
    "from xgboost import XGBRegressor\n",
    "from sklearn.metrics import mean_squared_error as mse\n",
    "\n",
    "X_train, X_test, y_train, y_test, encoder =\\\n",
    "get_profit_10_days_data(drop_offer_id=False)\n",
    "print(y_train.name)\n",
    "\n",
    "profit_est_model = Pipeline([\n",
    "    ('encoder', encoder),\n",
    "    ('imputer', md.BasicImputer()),\n",
    "    ('estimator', XGBRegressor(max_depth=4, n_estimators=200, n_jobs=-1,\n",
    "                                random_state=2018))\n",
    "])\n",
    "\n",
    "%time profit_est_model.fit(X_train, y_train)\n",
    "\n",
    "profit_train_pred = profit_est_model.predict(X_train)\n",
    "profit_test_pred = profit_est_model.predict(X_test)"
   ]
  },
  {
   "cell_type": "code",
   "execution_count": null,
   "metadata": {
    "collapsed": false
   },
   "outputs": [],
   "source": [
    "X_train.offer_id.unique()"
   ]
  },
  {
   "cell_type": "code",
   "execution_count": null,
   "metadata": {
    "collapsed": false
   },
   "outputs": [],
   "source": [
    "y_train_pred = vis_probas_train * profit_train_pred\n",
    "y_test_pred = vis_probas_test * profit_test_pred"
   ]
  },
  {
   "cell_type": "code",
   "execution_count": null,
   "metadata": {
    "collapsed": false
   },
   "outputs": [],
   "source": [
    "print('Training error (RMSE) = {}'.format(np.sqrt(mse(y_train, y_train_pred))))"
   ]
  },
  {
   "cell_type": "code",
   "execution_count": null,
   "metadata": {
    "collapsed": false
   },
   "outputs": [],
   "source": [
    "print('Test error (RMSE) = {}'.format(np.sqrt(mse(y_test, y_test_pred))))"
   ]
  },
  {
   "cell_type": "code",
   "execution_count": null,
   "metadata": {
    "collapsed": false,
    "scrolled": true
   },
   "outputs": [],
   "source": [
    "X_test.shape"
   ]
  },
  {
   "cell_type": "code",
   "execution_count": null,
   "metadata": {
    "collapsed": false,
    "scrolled": false
   },
   "outputs": [],
   "source": [
    "test_res = pd.DataFrame(columns=['true', 'pred'])\n",
    "test_res['true'] = y_test\n",
    "test_res['pred'] = y_test_pred\n",
    "test_res"
   ]
  },
  {
   "cell_type": "code",
   "execution_count": null,
   "metadata": {
    "collapsed": false,
    "scrolled": true
   },
   "outputs": [],
   "source": [
    "test_res.sort_values(by='true').plot(style='.')"
   ]
  },
  {
   "cell_type": "code",
   "execution_count": null,
   "metadata": {
    "collapsed": false
   },
   "outputs": [],
   "source": [
    "((test_res.pred - test_res.true) / test_res.true).abs().sort_values().reset_index(drop=True).plot()"
   ]
  },
  {
   "cell_type": "code",
   "execution_count": null,
   "metadata": {
    "collapsed": false
   },
   "outputs": [],
   "source": [
    "relative_error = ((test_res.pred - test_res.true) / test_res.true).abs()"
   ]
  },
  {
   "cell_type": "code",
   "execution_count": null,
   "metadata": {
    "collapsed": false
   },
   "outputs": [],
   "source": [
    "(relative_error == np.inf).sum()"
   ]
  },
  {
   "cell_type": "code",
   "execution_count": null,
   "metadata": {
    "collapsed": false
   },
   "outputs": [],
   "source": [
    "relative_error[np.isfinite(relative_error)].mean()"
   ]
  },
  {
   "cell_type": "code",
   "execution_count": null,
   "metadata": {
    "collapsed": true
   },
   "outputs": [],
   "source": []
  },
  {
   "cell_type": "markdown",
   "metadata": {},
   "source": [
    "## Pseudo AB test"
   ]
  },
  {
   "cell_type": "code",
   "execution_count": null,
   "metadata": {
    "collapsed": true
   },
   "outputs": [],
   "source": [
    "def predict_profit_with_offer(view_model, profit_model, data, offer, drop_offer_id=False):\n",
    "    \"\"\" Predicts how much will be the profit in 10 days for a given an offer. \"\"\"\n",
    "    samples = data.copy()\n",
    "    if drop_offer_id:\n",
    "        std_offer = offer.drop('id').rename(index={'reward': 'reward_t'})\n",
    "    else:\n",
    "        std_offer = offer.rename(index={'reward': 'reward_t', 'id': 'offer_id'})\n",
    "    samples.loc[:, std_offer.index] = np.repeat(std_offer.values.reshape(1, -1), samples.shape[0], axis=0)\n",
    "    \n",
    "    if offer.offer_type == 'no_offer':\n",
    "        vis_probas = np.ones(samples.shape[0])\n",
    "    else:\n",
    "        vis_probas = view_model.predict_proba(samples)[:, 1]\n",
    "\n",
    "    profit_pred = profit_model.predict(samples)\n",
    "    \n",
    "    y_pred = vis_probas * profit_pred\n",
    "    \n",
    "    return pd.Series(y_pred, name=offer.id).T"
   ]
  },
  {
   "cell_type": "code",
   "execution_count": null,
   "metadata": {
    "collapsed": false
   },
   "outputs": [],
   "source": [
    "complete_portfolio.iloc[10:, :]"
   ]
  },
  {
   "cell_type": "code",
   "execution_count": null,
   "metadata": {
    "collapsed": false
   },
   "outputs": [],
   "source": [
    "predict_profit_with_offer(model, profit_est_model, X_test, complete_portfolio.iloc[1, :])"
   ]
  },
  {
   "cell_type": "code",
   "execution_count": null,
   "metadata": {
    "collapsed": true
   },
   "outputs": [],
   "source": [
    "def choose_offer(view_model, profit_model, X, portfolio, add_null_offer=True):\n",
    "    \"\"\"\n",
    "    Given a model and a features dataframe it returns the\n",
    "    model that maximizes the model predictions.\n",
    "    \"\"\"\n",
    "    complete_portfolio = portfolio.copy()\n",
    "    \n",
    "    # Add the null offer\n",
    "    if add_null_offer:\n",
    "        null_offer = pd.Series([0, 0, 'no_offer', 'no_offer', 0, 0, 0, 0, 0],\n",
    "                               index=complete_portfolio.columns, \n",
    "                               name=complete_portfolio.shape[0])\n",
    "        complete_portfolio = complete_portfolio.append(null_offer)\n",
    "    \n",
    "    res = complete_portfolio.apply(\n",
    "        lambda x: predict_profit_with_offer(view_model, profit_model, X, x), axis=1).T\n",
    "    res.columns = complete_portfolio.id\n",
    "    \n",
    "    return res.idxmax(axis=1), res"
   ]
  },
  {
   "cell_type": "code",
   "execution_count": null,
   "metadata": {
    "collapsed": false
   },
   "outputs": [],
   "source": [
    "selected_offers, predicted_full = choose_offer(model, profit_est_model, X_test, portfolio)\n",
    "selected_offers.head()"
   ]
  },
  {
   "cell_type": "code",
   "execution_count": null,
   "metadata": {
    "collapsed": false
   },
   "outputs": [],
   "source": [
    "selected_offers.value_counts()"
   ]
  },
  {
   "cell_type": "code",
   "execution_count": null,
   "metadata": {
    "collapsed": false
   },
   "outputs": [],
   "source": [
    "(X_test.offer_id == selected_offers.values).mean()"
   ]
  },
  {
   "cell_type": "code",
   "execution_count": null,
   "metadata": {
    "collapsed": false
   },
   "outputs": [],
   "source": [
    "(X_test.offer_id == selected_offers.values).sum()"
   ]
  },
  {
   "cell_type": "markdown",
   "metadata": {},
   "source": [
    "We could check the actual profit on those samples that, by chance, were sent the selected offer."
   ]
  },
  {
   "cell_type": "code",
   "execution_count": null,
   "metadata": {
    "collapsed": false
   },
   "outputs": [],
   "source": [
    "coincidences = y_test[X_test.offer_id == selected_offers.values]\n",
    "coincidences.sum()"
   ]
  },
  {
   "cell_type": "markdown",
   "metadata": {},
   "source": [
    "Now we select a random sample, of the same size, from the test set, and compare with the above profit."
   ]
  },
  {
   "cell_type": "code",
   "execution_count": null,
   "metadata": {
    "collapsed": false
   },
   "outputs": [],
   "source": [
    "np.random.seed(2018)\n",
    "np.random.choice(y_test, coincidences.shape[0], replace=False).sum()"
   ]
  },
  {
   "cell_type": "code",
   "execution_count": null,
   "metadata": {
    "collapsed": true
   },
   "outputs": [],
   "source": []
  },
  {
   "cell_type": "code",
   "execution_count": null,
   "metadata": {
    "collapsed": true
   },
   "outputs": [],
   "source": []
  },
  {
   "cell_type": "code",
   "execution_count": null,
   "metadata": {
    "collapsed": true
   },
   "outputs": [],
   "source": []
  },
  {
   "cell_type": "markdown",
   "metadata": {},
   "source": [
    "## 4) Let's deal with the overlapping."
   ]
  },
  {
   "cell_type": "code",
   "execution_count": null,
   "metadata": {
    "collapsed": true
   },
   "outputs": [],
   "source": []
  },
  {
   "cell_type": "code",
   "execution_count": null,
   "metadata": {
    "collapsed": true
   },
   "outputs": [],
   "source": []
  },
  {
   "cell_type": "code",
   "execution_count": null,
   "metadata": {
    "collapsed": true
   },
   "outputs": [],
   "source": []
  },
  {
   "cell_type": "code",
   "execution_count": null,
   "metadata": {
    "collapsed": true
   },
   "outputs": [],
   "source": []
  }
 ],
 "metadata": {
  "kernelspec": {
   "display_name": "sbucks",
   "language": "python",
   "name": "sbucks"
  },
  "language_info": {
   "codemirror_mode": {
    "name": "ipython",
    "version": 3
   },
   "file_extension": ".py",
   "mimetype": "text/x-python",
   "name": "python",
   "nbconvert_exporter": "python",
   "pygments_lexer": "ipython3",
   "version": "3.7.1"
  }
 },
 "nbformat": 4,
 "nbformat_minor": 2
}
