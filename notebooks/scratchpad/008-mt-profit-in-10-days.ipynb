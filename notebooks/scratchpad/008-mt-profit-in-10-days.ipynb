{
 "cells": [
  {
   "cell_type": "code",
   "execution_count": 1,
   "metadata": {
    "collapsed": false
   },
   "outputs": [],
   "source": [
    "import pandas as pd\n",
    "import numpy as np\n",
    "import math\n",
    "import json\n",
    "import os\n",
    "import matplotlib.pyplot as plt\n",
    "%matplotlib inline\n",
    "\n",
    "%load_ext autoreload\n",
    "%autoreload 2\n",
    "\n",
    "from jupyterthemes import jtplot\n",
    "jtplot.style(theme='solarizedd')\n",
    "plt.rcParams['figure.figsize'] = (20.0, 10.0)\n",
    "\n",
    "import data_utils_mt.utils as utils\n",
    "import seaborn as sns\n",
    "from sklearn.pipeline import Pipeline\n",
    "import datetime as dt\n",
    "from xgboost import XGBClassifier\n",
    "\n",
    "ROOT_DIR = '../..'\n",
    "DATA_DIR = os.path.join(ROOT_DIR, 'data')\n",
    "DATA_RAW = os.path.join(DATA_DIR, 'raw')\n",
    "DATA_INTERIM = os.path.join(DATA_DIR, 'interim')\n",
    "DATA_EXTERNAL = os.path.join(DATA_DIR, 'external')\n",
    "DATA_PROCESSED = os.path.join(DATA_DIR, 'processed')\n",
    "SRC = os.path.join(ROOT_DIR, 'src')\n",
    "\n",
    "STATIC_DATASET_PATH = os.path.join(DATA_PROCESSED, 'static_cluster_lagged.pkl')\n",
    "\n",
    "import sys\n",
    "sys.path.append(SRC)\n",
    "\n",
    "import src.data.preprocessing as pp\n",
    "import src.data.success_dataset as sd\n",
    "import src.data.missing_data as md\n",
    "import src.evaluation.offer_success as evos"
   ]
  },
  {
   "cell_type": "code",
   "execution_count": 2,
   "metadata": {
    "collapsed": false
   },
   "outputs": [
    {
     "name": "stdout",
     "output_type": "stream",
     "text": [
      "(76277, 132)\n"
     ]
    },
    {
     "data": {
      "text/html": [
       "<div>\n",
       "<style scoped>\n",
       "    .dataframe tbody tr th:only-of-type {\n",
       "        vertical-align: middle;\n",
       "    }\n",
       "\n",
       "    .dataframe tbody tr th {\n",
       "        vertical-align: top;\n",
       "    }\n",
       "\n",
       "    .dataframe thead th {\n",
       "        text-align: right;\n",
       "    }\n",
       "</style>\n",
       "<table border=\"1\" class=\"dataframe\">\n",
       "  <thead>\n",
       "    <tr style=\"text-align: right;\">\n",
       "      <th></th>\n",
       "      <th>person</th>\n",
       "      <th>time</th>\n",
       "      <th>offer_id</th>\n",
       "      <th>age</th>\n",
       "      <th>became_member_on</th>\n",
       "      <th>gender</th>\n",
       "      <th>income</th>\n",
       "      <th>missing_demographics</th>\n",
       "      <th>member_epoch_days</th>\n",
       "      <th>difficulty</th>\n",
       "      <th>...</th>\n",
       "      <th>difficulty_7.0_success_ratio</th>\n",
       "      <th>reward_10.0_success_ratio</th>\n",
       "      <th>reward_0.0_success_ratio</th>\n",
       "      <th>reward_5.0_success_ratio</th>\n",
       "      <th>reward_3.0_success_ratio</th>\n",
       "      <th>reward_2.0_success_ratio</th>\n",
       "      <th>channel_web_success_ratio</th>\n",
       "      <th>channel_email_success_ratio</th>\n",
       "      <th>channel_social_success_ratio</th>\n",
       "      <th>channel_mobile_success_ratio</th>\n",
       "    </tr>\n",
       "  </thead>\n",
       "  <tbody>\n",
       "    <tr>\n",
       "      <th>0</th>\n",
       "      <td>0009655768c64bdeb2e877511632db8f</td>\n",
       "      <td>168</td>\n",
       "      <td>5a8bc65990b245e5a138643cd4eb9837</td>\n",
       "      <td>33.0</td>\n",
       "      <td>2017-04-21</td>\n",
       "      <td>M</td>\n",
       "      <td>72000.0</td>\n",
       "      <td>0</td>\n",
       "      <td>17277</td>\n",
       "      <td>0.0</td>\n",
       "      <td>...</td>\n",
       "      <td>0.0</td>\n",
       "      <td>0.0</td>\n",
       "      <td>0.0</td>\n",
       "      <td>0.0</td>\n",
       "      <td>0.0</td>\n",
       "      <td>0.0</td>\n",
       "      <td>0.0</td>\n",
       "      <td>0.0</td>\n",
       "      <td>0.0</td>\n",
       "      <td>0.0</td>\n",
       "    </tr>\n",
       "    <tr>\n",
       "      <th>1</th>\n",
       "      <td>0009655768c64bdeb2e877511632db8f</td>\n",
       "      <td>336</td>\n",
       "      <td>3f207df678b143eea3cee63160fa8bed</td>\n",
       "      <td>33.0</td>\n",
       "      <td>2017-04-21</td>\n",
       "      <td>M</td>\n",
       "      <td>72000.0</td>\n",
       "      <td>0</td>\n",
       "      <td>17277</td>\n",
       "      <td>0.0</td>\n",
       "      <td>...</td>\n",
       "      <td>0.0</td>\n",
       "      <td>0.0</td>\n",
       "      <td>0.0</td>\n",
       "      <td>0.0</td>\n",
       "      <td>0.0</td>\n",
       "      <td>0.0</td>\n",
       "      <td>0.0</td>\n",
       "      <td>0.0</td>\n",
       "      <td>0.0</td>\n",
       "      <td>0.0</td>\n",
       "    </tr>\n",
       "    <tr>\n",
       "      <th>2</th>\n",
       "      <td>0009655768c64bdeb2e877511632db8f</td>\n",
       "      <td>408</td>\n",
       "      <td>f19421c1d4aa40978ebb69ca19b0e20d</td>\n",
       "      <td>33.0</td>\n",
       "      <td>2017-04-21</td>\n",
       "      <td>M</td>\n",
       "      <td>72000.0</td>\n",
       "      <td>0</td>\n",
       "      <td>17277</td>\n",
       "      <td>5.0</td>\n",
       "      <td>...</td>\n",
       "      <td>0.0</td>\n",
       "      <td>0.0</td>\n",
       "      <td>0.0</td>\n",
       "      <td>0.0</td>\n",
       "      <td>0.0</td>\n",
       "      <td>0.0</td>\n",
       "      <td>0.0</td>\n",
       "      <td>0.0</td>\n",
       "      <td>0.0</td>\n",
       "      <td>0.0</td>\n",
       "    </tr>\n",
       "    <tr>\n",
       "      <th>3</th>\n",
       "      <td>0009655768c64bdeb2e877511632db8f</td>\n",
       "      <td>504</td>\n",
       "      <td>fafdcd668e3743c1bb461111dcafc2a4</td>\n",
       "      <td>33.0</td>\n",
       "      <td>2017-04-21</td>\n",
       "      <td>M</td>\n",
       "      <td>72000.0</td>\n",
       "      <td>0</td>\n",
       "      <td>17277</td>\n",
       "      <td>10.0</td>\n",
       "      <td>...</td>\n",
       "      <td>0.0</td>\n",
       "      <td>0.0</td>\n",
       "      <td>0.0</td>\n",
       "      <td>0.0</td>\n",
       "      <td>0.0</td>\n",
       "      <td>0.0</td>\n",
       "      <td>0.0</td>\n",
       "      <td>0.0</td>\n",
       "      <td>0.0</td>\n",
       "      <td>0.0</td>\n",
       "    </tr>\n",
       "    <tr>\n",
       "      <th>4</th>\n",
       "      <td>0009655768c64bdeb2e877511632db8f</td>\n",
       "      <td>576</td>\n",
       "      <td>2906b810c7d4411798c6938adc9daaa5</td>\n",
       "      <td>33.0</td>\n",
       "      <td>2017-04-21</td>\n",
       "      <td>M</td>\n",
       "      <td>72000.0</td>\n",
       "      <td>0</td>\n",
       "      <td>17277</td>\n",
       "      <td>10.0</td>\n",
       "      <td>...</td>\n",
       "      <td>0.0</td>\n",
       "      <td>0.0</td>\n",
       "      <td>0.0</td>\n",
       "      <td>0.0</td>\n",
       "      <td>0.0</td>\n",
       "      <td>0.0</td>\n",
       "      <td>0.0</td>\n",
       "      <td>0.0</td>\n",
       "      <td>0.0</td>\n",
       "      <td>0.0</td>\n",
       "    </tr>\n",
       "  </tbody>\n",
       "</table>\n",
       "<p>5 rows × 132 columns</p>\n",
       "</div>"
      ],
      "text/plain": [
       "                             person  time                          offer_id  \\\n",
       "0  0009655768c64bdeb2e877511632db8f   168  5a8bc65990b245e5a138643cd4eb9837   \n",
       "1  0009655768c64bdeb2e877511632db8f   336  3f207df678b143eea3cee63160fa8bed   \n",
       "2  0009655768c64bdeb2e877511632db8f   408  f19421c1d4aa40978ebb69ca19b0e20d   \n",
       "3  0009655768c64bdeb2e877511632db8f   504  fafdcd668e3743c1bb461111dcafc2a4   \n",
       "4  0009655768c64bdeb2e877511632db8f   576  2906b810c7d4411798c6938adc9daaa5   \n",
       "\n",
       "    age became_member_on gender   income  missing_demographics  \\\n",
       "0  33.0       2017-04-21      M  72000.0                     0   \n",
       "1  33.0       2017-04-21      M  72000.0                     0   \n",
       "2  33.0       2017-04-21      M  72000.0                     0   \n",
       "3  33.0       2017-04-21      M  72000.0                     0   \n",
       "4  33.0       2017-04-21      M  72000.0                     0   \n",
       "\n",
       "   member_epoch_days  difficulty              ...               \\\n",
       "0              17277         0.0              ...                \n",
       "1              17277         0.0              ...                \n",
       "2              17277         5.0              ...                \n",
       "3              17277        10.0              ...                \n",
       "4              17277        10.0              ...                \n",
       "\n",
       "   difficulty_7.0_success_ratio reward_10.0_success_ratio  \\\n",
       "0                           0.0                       0.0   \n",
       "1                           0.0                       0.0   \n",
       "2                           0.0                       0.0   \n",
       "3                           0.0                       0.0   \n",
       "4                           0.0                       0.0   \n",
       "\n",
       "   reward_0.0_success_ratio  reward_5.0_success_ratio  \\\n",
       "0                       0.0                       0.0   \n",
       "1                       0.0                       0.0   \n",
       "2                       0.0                       0.0   \n",
       "3                       0.0                       0.0   \n",
       "4                       0.0                       0.0   \n",
       "\n",
       "   reward_3.0_success_ratio  reward_2.0_success_ratio  \\\n",
       "0                       0.0                       0.0   \n",
       "1                       0.0                       0.0   \n",
       "2                       0.0                       0.0   \n",
       "3                       0.0                       0.0   \n",
       "4                       0.0                       0.0   \n",
       "\n",
       "   channel_web_success_ratio  channel_email_success_ratio  \\\n",
       "0                        0.0                          0.0   \n",
       "1                        0.0                          0.0   \n",
       "2                        0.0                          0.0   \n",
       "3                        0.0                          0.0   \n",
       "4                        0.0                          0.0   \n",
       "\n",
       "   channel_social_success_ratio  channel_mobile_success_ratio  \n",
       "0                           0.0                           0.0  \n",
       "1                           0.0                           0.0  \n",
       "2                           0.0                           0.0  \n",
       "3                           0.0                           0.0  \n",
       "4                           0.0                           0.0  \n",
       "\n",
       "[5 rows x 132 columns]"
      ]
     },
     "execution_count": 2,
     "metadata": {},
     "output_type": "execute_result"
    }
   ],
   "source": [
    "static_data = pd.read_pickle(STATIC_DATASET_PATH)\n",
    "print(static_data.shape)\n",
    "static_data.head()"
   ]
  },
  {
   "cell_type": "markdown",
   "metadata": {},
   "source": [
    "I should modify the fill_profits function from the preprocessing module. As I will be only adding a column, that shouldn't affect the old code (I could add a boolean in the signature if anything goes wrong). Let's use the old functions to get the data needed."
   ]
  },
  {
   "cell_type": "markdown",
   "metadata": {},
   "source": [
    "We have to differentiate the case when the customer has viewed an offer in the last 10 days, from the case in which it hasn't."
   ]
  },
  {
   "cell_type": "code",
   "execution_count": 3,
   "metadata": {
    "collapsed": false
   },
   "outputs": [
    {
     "data": {
      "text/plain": [
       "0.7502523696527131"
      ]
     },
     "execution_count": 3,
     "metadata": {},
     "output_type": "execute_result"
    }
   ],
   "source": [
    "static_data.viewed.mean()"
   ]
  },
  {
   "cell_type": "markdown",
   "metadata": {},
   "source": [
    "So, 75% of the sent offers are seen."
   ]
  },
  {
   "cell_type": "code",
   "execution_count": null,
   "metadata": {
    "collapsed": true
   },
   "outputs": [],
   "source": []
  },
  {
   "cell_type": "code",
   "execution_count": 4,
   "metadata": {
    "collapsed": false
   },
   "outputs": [
    {
     "name": "stdout",
     "output_type": "stream",
     "text": [
      "Basic preprocessing\n",
      "CPU times: user 3.25 s, sys: 204 ms, total: 3.45 s\n",
      "Wall time: 2.21 s\n"
     ]
    }
   ],
   "source": [
    "# Read the data\n",
    "portfolio = pd.read_json(os.path.join(DATA_RAW, 'portfolio.json'), orient='records', lines=True)\n",
    "profile = pd.read_json(os.path.join(DATA_RAW, 'profile.json'), orient='records', lines=True)\n",
    "transcript = pd.read_json(os.path.join(DATA_RAW, 'transcript.json'), orient='records', lines=True)\n",
    "\n",
    "# Basic Preprocessing\n",
    "print('Basic preprocessing')\n",
    "%time data, portfolio = pp.basic_preprocessing(portfolio, profile, transcript)"
   ]
  },
  {
   "cell_type": "code",
   "execution_count": 5,
   "metadata": {
    "collapsed": false
   },
   "outputs": [
    {
     "name": "stdout",
     "output_type": "stream",
     "text": [
      "(306534, 20)\n"
     ]
    },
    {
     "data": {
      "text/html": [
       "<div>\n",
       "<style scoped>\n",
       "    .dataframe tbody tr th:only-of-type {\n",
       "        vertical-align: middle;\n",
       "    }\n",
       "\n",
       "    .dataframe tbody tr th {\n",
       "        vertical-align: top;\n",
       "    }\n",
       "\n",
       "    .dataframe thead th {\n",
       "        text-align: right;\n",
       "    }\n",
       "</style>\n",
       "<table border=\"1\" class=\"dataframe\">\n",
       "  <thead>\n",
       "    <tr style=\"text-align: right;\">\n",
       "      <th></th>\n",
       "      <th>event</th>\n",
       "      <th>person</th>\n",
       "      <th>time</th>\n",
       "      <th>amount</th>\n",
       "      <th>offer_id</th>\n",
       "      <th>reward</th>\n",
       "      <th>age</th>\n",
       "      <th>became_member_on</th>\n",
       "      <th>gender</th>\n",
       "      <th>income</th>\n",
       "      <th>missing_demographics</th>\n",
       "      <th>member_epoch_days</th>\n",
       "      <th>difficulty</th>\n",
       "      <th>duration</th>\n",
       "      <th>offer_type</th>\n",
       "      <th>reward_t</th>\n",
       "      <th>channel_mobile</th>\n",
       "      <th>channel_social</th>\n",
       "      <th>channel_email</th>\n",
       "      <th>channel_web</th>\n",
       "    </tr>\n",
       "  </thead>\n",
       "  <tbody>\n",
       "    <tr>\n",
       "      <th>0</th>\n",
       "      <td>offer received</td>\n",
       "      <td>78afa995795e4d85b5d9ceeca43f5fef</td>\n",
       "      <td>0</td>\n",
       "      <td>NaN</td>\n",
       "      <td>9b98b8c7a33c4b65b9aebfe6a799e6d9</td>\n",
       "      <td>NaN</td>\n",
       "      <td>75.0</td>\n",
       "      <td>2017-05-09</td>\n",
       "      <td>F</td>\n",
       "      <td>100000.0</td>\n",
       "      <td>0</td>\n",
       "      <td>17295</td>\n",
       "      <td>5.0</td>\n",
       "      <td>7.0</td>\n",
       "      <td>bogo</td>\n",
       "      <td>5.0</td>\n",
       "      <td>1.0</td>\n",
       "      <td>0.0</td>\n",
       "      <td>1.0</td>\n",
       "      <td>1.0</td>\n",
       "    </tr>\n",
       "    <tr>\n",
       "      <th>1</th>\n",
       "      <td>offer received</td>\n",
       "      <td>a03223e636434f42ac4c3df47e8bac43</td>\n",
       "      <td>0</td>\n",
       "      <td>NaN</td>\n",
       "      <td>0b1e1539f2cc45b7b9fa7c272da2e1d7</td>\n",
       "      <td>NaN</td>\n",
       "      <td>NaN</td>\n",
       "      <td>2017-08-04</td>\n",
       "      <td>None</td>\n",
       "      <td>NaN</td>\n",
       "      <td>1</td>\n",
       "      <td>17382</td>\n",
       "      <td>20.0</td>\n",
       "      <td>10.0</td>\n",
       "      <td>discount</td>\n",
       "      <td>5.0</td>\n",
       "      <td>0.0</td>\n",
       "      <td>0.0</td>\n",
       "      <td>1.0</td>\n",
       "      <td>1.0</td>\n",
       "    </tr>\n",
       "    <tr>\n",
       "      <th>2</th>\n",
       "      <td>offer received</td>\n",
       "      <td>e2127556f4f64592b11af22de27a7932</td>\n",
       "      <td>0</td>\n",
       "      <td>NaN</td>\n",
       "      <td>2906b810c7d4411798c6938adc9daaa5</td>\n",
       "      <td>NaN</td>\n",
       "      <td>68.0</td>\n",
       "      <td>2018-04-26</td>\n",
       "      <td>M</td>\n",
       "      <td>70000.0</td>\n",
       "      <td>0</td>\n",
       "      <td>17647</td>\n",
       "      <td>10.0</td>\n",
       "      <td>7.0</td>\n",
       "      <td>discount</td>\n",
       "      <td>2.0</td>\n",
       "      <td>1.0</td>\n",
       "      <td>0.0</td>\n",
       "      <td>1.0</td>\n",
       "      <td>1.0</td>\n",
       "    </tr>\n",
       "    <tr>\n",
       "      <th>3</th>\n",
       "      <td>offer received</td>\n",
       "      <td>8ec6ce2a7e7949b1bf142def7d0e0586</td>\n",
       "      <td>0</td>\n",
       "      <td>NaN</td>\n",
       "      <td>fafdcd668e3743c1bb461111dcafc2a4</td>\n",
       "      <td>NaN</td>\n",
       "      <td>NaN</td>\n",
       "      <td>2017-09-25</td>\n",
       "      <td>None</td>\n",
       "      <td>NaN</td>\n",
       "      <td>1</td>\n",
       "      <td>17434</td>\n",
       "      <td>10.0</td>\n",
       "      <td>10.0</td>\n",
       "      <td>discount</td>\n",
       "      <td>2.0</td>\n",
       "      <td>1.0</td>\n",
       "      <td>1.0</td>\n",
       "      <td>1.0</td>\n",
       "      <td>1.0</td>\n",
       "    </tr>\n",
       "    <tr>\n",
       "      <th>4</th>\n",
       "      <td>offer received</td>\n",
       "      <td>68617ca6246f4fbc85e91a2a49552598</td>\n",
       "      <td>0</td>\n",
       "      <td>NaN</td>\n",
       "      <td>4d5c57ea9a6940dd891ad53e9dbe8da0</td>\n",
       "      <td>NaN</td>\n",
       "      <td>NaN</td>\n",
       "      <td>2017-10-02</td>\n",
       "      <td>None</td>\n",
       "      <td>NaN</td>\n",
       "      <td>1</td>\n",
       "      <td>17441</td>\n",
       "      <td>10.0</td>\n",
       "      <td>5.0</td>\n",
       "      <td>bogo</td>\n",
       "      <td>10.0</td>\n",
       "      <td>1.0</td>\n",
       "      <td>1.0</td>\n",
       "      <td>1.0</td>\n",
       "      <td>1.0</td>\n",
       "    </tr>\n",
       "  </tbody>\n",
       "</table>\n",
       "</div>"
      ],
      "text/plain": [
       "            event                            person  time  amount  \\\n",
       "0  offer received  78afa995795e4d85b5d9ceeca43f5fef     0     NaN   \n",
       "1  offer received  a03223e636434f42ac4c3df47e8bac43     0     NaN   \n",
       "2  offer received  e2127556f4f64592b11af22de27a7932     0     NaN   \n",
       "3  offer received  8ec6ce2a7e7949b1bf142def7d0e0586     0     NaN   \n",
       "4  offer received  68617ca6246f4fbc85e91a2a49552598     0     NaN   \n",
       "\n",
       "                           offer_id  reward   age became_member_on gender  \\\n",
       "0  9b98b8c7a33c4b65b9aebfe6a799e6d9     NaN  75.0       2017-05-09      F   \n",
       "1  0b1e1539f2cc45b7b9fa7c272da2e1d7     NaN   NaN       2017-08-04   None   \n",
       "2  2906b810c7d4411798c6938adc9daaa5     NaN  68.0       2018-04-26      M   \n",
       "3  fafdcd668e3743c1bb461111dcafc2a4     NaN   NaN       2017-09-25   None   \n",
       "4  4d5c57ea9a6940dd891ad53e9dbe8da0     NaN   NaN       2017-10-02   None   \n",
       "\n",
       "     income  missing_demographics  member_epoch_days  difficulty  duration  \\\n",
       "0  100000.0                     0              17295         5.0       7.0   \n",
       "1       NaN                     1              17382        20.0      10.0   \n",
       "2   70000.0                     0              17647        10.0       7.0   \n",
       "3       NaN                     1              17434        10.0      10.0   \n",
       "4       NaN                     1              17441        10.0       5.0   \n",
       "\n",
       "  offer_type  reward_t  channel_mobile  channel_social  channel_email  \\\n",
       "0       bogo       5.0             1.0             0.0            1.0   \n",
       "1   discount       5.0             0.0             0.0            1.0   \n",
       "2   discount       2.0             1.0             0.0            1.0   \n",
       "3   discount       2.0             1.0             1.0            1.0   \n",
       "4       bogo      10.0             1.0             1.0            1.0   \n",
       "\n",
       "   channel_web  \n",
       "0          1.0  \n",
       "1          1.0  \n",
       "2          1.0  \n",
       "3          1.0  \n",
       "4          1.0  "
      ]
     },
     "execution_count": 5,
     "metadata": {},
     "output_type": "execute_result"
    }
   ],
   "source": [
    "print(data.shape)\n",
    "data.head()"
   ]
  },
  {
   "cell_type": "code",
   "execution_count": 6,
   "metadata": {
    "collapsed": false
   },
   "outputs": [
    {
     "data": {
      "text/plain": [
       "17000"
      ]
     },
     "execution_count": 6,
     "metadata": {},
     "output_type": "execute_result"
    }
   ],
   "source": [
    "data.person.nunique()"
   ]
  },
  {
   "cell_type": "code",
   "execution_count": 7,
   "metadata": {
    "collapsed": false
   },
   "outputs": [
    {
     "data": {
      "text/plain": [
       "120"
      ]
     },
     "execution_count": 7,
     "metadata": {},
     "output_type": "execute_result"
    }
   ],
   "source": [
    "data.time.nunique()"
   ]
  },
  {
   "cell_type": "code",
   "execution_count": 8,
   "metadata": {
    "collapsed": true
   },
   "outputs": [],
   "source": [
    "received, viewed, completed, transactions = pp.split_transcript(data)"
   ]
  },
  {
   "cell_type": "code",
   "execution_count": 9,
   "metadata": {
    "collapsed": false
   },
   "outputs": [
    {
     "data": {
      "text/html": [
       "<div>\n",
       "<style scoped>\n",
       "    .dataframe tbody tr th:only-of-type {\n",
       "        vertical-align: middle;\n",
       "    }\n",
       "\n",
       "    .dataframe tbody tr th {\n",
       "        vertical-align: top;\n",
       "    }\n",
       "\n",
       "    .dataframe thead th {\n",
       "        text-align: right;\n",
       "    }\n",
       "</style>\n",
       "<table border=\"1\" class=\"dataframe\">\n",
       "  <thead>\n",
       "    <tr style=\"text-align: right;\">\n",
       "      <th></th>\n",
       "      <th>event</th>\n",
       "      <th>person</th>\n",
       "      <th>time</th>\n",
       "      <th>amount</th>\n",
       "      <th>offer_id</th>\n",
       "      <th>reward</th>\n",
       "      <th>age</th>\n",
       "      <th>became_member_on</th>\n",
       "      <th>gender</th>\n",
       "      <th>income</th>\n",
       "      <th>missing_demographics</th>\n",
       "      <th>member_epoch_days</th>\n",
       "      <th>difficulty</th>\n",
       "      <th>duration</th>\n",
       "      <th>offer_type</th>\n",
       "      <th>reward_t</th>\n",
       "      <th>channel_mobile</th>\n",
       "      <th>channel_social</th>\n",
       "      <th>channel_email</th>\n",
       "      <th>channel_web</th>\n",
       "    </tr>\n",
       "  </thead>\n",
       "  <tbody>\n",
       "    <tr>\n",
       "      <th>12654</th>\n",
       "      <td>transaction</td>\n",
       "      <td>02c083884c7d45b39cc68e1314fec56c</td>\n",
       "      <td>0</td>\n",
       "      <td>0.83</td>\n",
       "      <td>NaN</td>\n",
       "      <td>NaN</td>\n",
       "      <td>20.0</td>\n",
       "      <td>2016-07-11</td>\n",
       "      <td>F</td>\n",
       "      <td>30000.0</td>\n",
       "      <td>0</td>\n",
       "      <td>16993</td>\n",
       "      <td>NaN</td>\n",
       "      <td>NaN</td>\n",
       "      <td>NaN</td>\n",
       "      <td>NaN</td>\n",
       "      <td>NaN</td>\n",
       "      <td>NaN</td>\n",
       "      <td>NaN</td>\n",
       "      <td>NaN</td>\n",
       "    </tr>\n",
       "    <tr>\n",
       "      <th>12657</th>\n",
       "      <td>transaction</td>\n",
       "      <td>9fa9ae8f57894cc9a3b8a9bbe0fc1b2f</td>\n",
       "      <td>0</td>\n",
       "      <td>34.56</td>\n",
       "      <td>NaN</td>\n",
       "      <td>NaN</td>\n",
       "      <td>42.0</td>\n",
       "      <td>2016-01-17</td>\n",
       "      <td>M</td>\n",
       "      <td>96000.0</td>\n",
       "      <td>0</td>\n",
       "      <td>16817</td>\n",
       "      <td>NaN</td>\n",
       "      <td>NaN</td>\n",
       "      <td>NaN</td>\n",
       "      <td>NaN</td>\n",
       "      <td>NaN</td>\n",
       "      <td>NaN</td>\n",
       "      <td>NaN</td>\n",
       "      <td>NaN</td>\n",
       "    </tr>\n",
       "    <tr>\n",
       "      <th>12659</th>\n",
       "      <td>transaction</td>\n",
       "      <td>54890f68699049c2a04d415abc25e717</td>\n",
       "      <td>0</td>\n",
       "      <td>13.23</td>\n",
       "      <td>NaN</td>\n",
       "      <td>NaN</td>\n",
       "      <td>36.0</td>\n",
       "      <td>2017-12-28</td>\n",
       "      <td>M</td>\n",
       "      <td>56000.0</td>\n",
       "      <td>0</td>\n",
       "      <td>17528</td>\n",
       "      <td>NaN</td>\n",
       "      <td>NaN</td>\n",
       "      <td>NaN</td>\n",
       "      <td>NaN</td>\n",
       "      <td>NaN</td>\n",
       "      <td>NaN</td>\n",
       "      <td>NaN</td>\n",
       "      <td>NaN</td>\n",
       "    </tr>\n",
       "    <tr>\n",
       "      <th>12670</th>\n",
       "      <td>transaction</td>\n",
       "      <td>b2f1cd155b864803ad8334cdf13c4bd2</td>\n",
       "      <td>0</td>\n",
       "      <td>19.51</td>\n",
       "      <td>NaN</td>\n",
       "      <td>NaN</td>\n",
       "      <td>55.0</td>\n",
       "      <td>2017-10-16</td>\n",
       "      <td>F</td>\n",
       "      <td>94000.0</td>\n",
       "      <td>0</td>\n",
       "      <td>17455</td>\n",
       "      <td>NaN</td>\n",
       "      <td>NaN</td>\n",
       "      <td>NaN</td>\n",
       "      <td>NaN</td>\n",
       "      <td>NaN</td>\n",
       "      <td>NaN</td>\n",
       "      <td>NaN</td>\n",
       "      <td>NaN</td>\n",
       "    </tr>\n",
       "    <tr>\n",
       "      <th>12671</th>\n",
       "      <td>transaction</td>\n",
       "      <td>fe97aa22dd3e48c8b143116a8403dd52</td>\n",
       "      <td>0</td>\n",
       "      <td>18.97</td>\n",
       "      <td>NaN</td>\n",
       "      <td>NaN</td>\n",
       "      <td>39.0</td>\n",
       "      <td>2017-12-17</td>\n",
       "      <td>F</td>\n",
       "      <td>67000.0</td>\n",
       "      <td>0</td>\n",
       "      <td>17517</td>\n",
       "      <td>NaN</td>\n",
       "      <td>NaN</td>\n",
       "      <td>NaN</td>\n",
       "      <td>NaN</td>\n",
       "      <td>NaN</td>\n",
       "      <td>NaN</td>\n",
       "      <td>NaN</td>\n",
       "      <td>NaN</td>\n",
       "    </tr>\n",
       "  </tbody>\n",
       "</table>\n",
       "</div>"
      ],
      "text/plain": [
       "             event                            person  time  amount offer_id  \\\n",
       "12654  transaction  02c083884c7d45b39cc68e1314fec56c     0    0.83      NaN   \n",
       "12657  transaction  9fa9ae8f57894cc9a3b8a9bbe0fc1b2f     0   34.56      NaN   \n",
       "12659  transaction  54890f68699049c2a04d415abc25e717     0   13.23      NaN   \n",
       "12670  transaction  b2f1cd155b864803ad8334cdf13c4bd2     0   19.51      NaN   \n",
       "12671  transaction  fe97aa22dd3e48c8b143116a8403dd52     0   18.97      NaN   \n",
       "\n",
       "       reward   age became_member_on gender   income  missing_demographics  \\\n",
       "12654     NaN  20.0       2016-07-11      F  30000.0                     0   \n",
       "12657     NaN  42.0       2016-01-17      M  96000.0                     0   \n",
       "12659     NaN  36.0       2017-12-28      M  56000.0                     0   \n",
       "12670     NaN  55.0       2017-10-16      F  94000.0                     0   \n",
       "12671     NaN  39.0       2017-12-17      F  67000.0                     0   \n",
       "\n",
       "       member_epoch_days  difficulty  duration offer_type  reward_t  \\\n",
       "12654              16993         NaN       NaN        NaN       NaN   \n",
       "12657              16817         NaN       NaN        NaN       NaN   \n",
       "12659              17528         NaN       NaN        NaN       NaN   \n",
       "12670              17455         NaN       NaN        NaN       NaN   \n",
       "12671              17517         NaN       NaN        NaN       NaN   \n",
       "\n",
       "       channel_mobile  channel_social  channel_email  channel_web  \n",
       "12654             NaN             NaN            NaN          NaN  \n",
       "12657             NaN             NaN            NaN          NaN  \n",
       "12659             NaN             NaN            NaN          NaN  \n",
       "12670             NaN             NaN            NaN          NaN  \n",
       "12671             NaN             NaN            NaN          NaN  "
      ]
     },
     "execution_count": 9,
     "metadata": {},
     "output_type": "execute_result"
    }
   ],
   "source": [
    "transactions.head()"
   ]
  },
  {
   "cell_type": "code",
   "execution_count": null,
   "metadata": {
    "collapsed": false
   },
   "outputs": [],
   "source": []
  },
  {
   "cell_type": "code",
   "execution_count": 10,
   "metadata": {
    "collapsed": false
   },
   "outputs": [
    {
     "name": "stdout",
     "output_type": "stream",
     "text": [
      "(120, 17000)\n"
     ]
    },
    {
     "data": {
      "text/html": [
       "<div>\n",
       "<style scoped>\n",
       "    .dataframe tbody tr th:only-of-type {\n",
       "        vertical-align: middle;\n",
       "    }\n",
       "\n",
       "    .dataframe tbody tr th {\n",
       "        vertical-align: top;\n",
       "    }\n",
       "\n",
       "    .dataframe thead th {\n",
       "        text-align: right;\n",
       "    }\n",
       "</style>\n",
       "<table border=\"1\" class=\"dataframe\">\n",
       "  <thead>\n",
       "    <tr style=\"text-align: right;\">\n",
       "      <th></th>\n",
       "      <th>78afa995795e4d85b5d9ceeca43f5fef</th>\n",
       "      <th>a03223e636434f42ac4c3df47e8bac43</th>\n",
       "      <th>e2127556f4f64592b11af22de27a7932</th>\n",
       "      <th>8ec6ce2a7e7949b1bf142def7d0e0586</th>\n",
       "      <th>68617ca6246f4fbc85e91a2a49552598</th>\n",
       "      <th>389bc3fa690240e798340f5a15918d5c</th>\n",
       "      <th>c4863c7985cf408faee930f111475da3</th>\n",
       "      <th>2eeac8d8feae4a8cad5a6af0499a211d</th>\n",
       "      <th>aa4862eba776480b8bb9c68455b8c2e1</th>\n",
       "      <th>31dda685af34476cad5bc968bdb01c53</th>\n",
       "      <th>...</th>\n",
       "      <th>22617705eec442e0b7b43e5c5f56fb17</th>\n",
       "      <th>fc966e9c3edc4578a1fb4c6a8c2659c2</th>\n",
       "      <th>47683732768a4f7db7abb710ca22e66e</th>\n",
       "      <th>3873fe915496482eb589fa316ae7b0db</th>\n",
       "      <th>8578196a074a4f328976e334fa9383a3</th>\n",
       "      <th>9fcbff4f8d7241faa4ab8a9d19c8a812</th>\n",
       "      <th>ebae5093b436466c9fbd097cb7434023</th>\n",
       "      <th>912b9f623b9e4b4eb99b6dc919f09a93</th>\n",
       "      <th>3045af4e98794a04a5542d3eac939b1f</th>\n",
       "      <th>da7a7c0dcfcb41a8acc7864a53cf60fb</th>\n",
       "    </tr>\n",
       "  </thead>\n",
       "  <tbody>\n",
       "    <tr>\n",
       "      <th>0</th>\n",
       "      <td>0.0</td>\n",
       "      <td>0.0</td>\n",
       "      <td>0.0</td>\n",
       "      <td>0.0</td>\n",
       "      <td>0.0</td>\n",
       "      <td>0.0</td>\n",
       "      <td>0.0</td>\n",
       "      <td>0.0</td>\n",
       "      <td>0.0</td>\n",
       "      <td>0.0</td>\n",
       "      <td>...</td>\n",
       "      <td>0.0</td>\n",
       "      <td>0.0</td>\n",
       "      <td>0.0</td>\n",
       "      <td>0.0</td>\n",
       "      <td>0.0</td>\n",
       "      <td>0.0</td>\n",
       "      <td>0.0</td>\n",
       "      <td>0.0</td>\n",
       "      <td>0.0</td>\n",
       "      <td>0.0</td>\n",
       "    </tr>\n",
       "    <tr>\n",
       "      <th>6</th>\n",
       "      <td>0.0</td>\n",
       "      <td>0.0</td>\n",
       "      <td>0.0</td>\n",
       "      <td>0.0</td>\n",
       "      <td>0.0</td>\n",
       "      <td>0.0</td>\n",
       "      <td>0.0</td>\n",
       "      <td>0.0</td>\n",
       "      <td>0.0</td>\n",
       "      <td>0.0</td>\n",
       "      <td>...</td>\n",
       "      <td>0.0</td>\n",
       "      <td>0.0</td>\n",
       "      <td>0.0</td>\n",
       "      <td>0.0</td>\n",
       "      <td>0.0</td>\n",
       "      <td>0.0</td>\n",
       "      <td>0.0</td>\n",
       "      <td>0.0</td>\n",
       "      <td>0.0</td>\n",
       "      <td>0.0</td>\n",
       "    </tr>\n",
       "    <tr>\n",
       "      <th>12</th>\n",
       "      <td>0.0</td>\n",
       "      <td>0.0</td>\n",
       "      <td>0.0</td>\n",
       "      <td>0.0</td>\n",
       "      <td>0.0</td>\n",
       "      <td>0.0</td>\n",
       "      <td>0.0</td>\n",
       "      <td>0.0</td>\n",
       "      <td>0.0</td>\n",
       "      <td>0.0</td>\n",
       "      <td>...</td>\n",
       "      <td>0.0</td>\n",
       "      <td>0.0</td>\n",
       "      <td>0.0</td>\n",
       "      <td>0.0</td>\n",
       "      <td>0.0</td>\n",
       "      <td>0.0</td>\n",
       "      <td>0.0</td>\n",
       "      <td>0.0</td>\n",
       "      <td>0.0</td>\n",
       "      <td>0.0</td>\n",
       "    </tr>\n",
       "    <tr>\n",
       "      <th>18</th>\n",
       "      <td>0.0</td>\n",
       "      <td>0.0</td>\n",
       "      <td>0.0</td>\n",
       "      <td>0.0</td>\n",
       "      <td>0.0</td>\n",
       "      <td>0.0</td>\n",
       "      <td>0.0</td>\n",
       "      <td>0.0</td>\n",
       "      <td>0.0</td>\n",
       "      <td>0.0</td>\n",
       "      <td>...</td>\n",
       "      <td>0.0</td>\n",
       "      <td>0.0</td>\n",
       "      <td>0.0</td>\n",
       "      <td>0.0</td>\n",
       "      <td>0.0</td>\n",
       "      <td>0.0</td>\n",
       "      <td>0.0</td>\n",
       "      <td>0.0</td>\n",
       "      <td>0.0</td>\n",
       "      <td>0.0</td>\n",
       "    </tr>\n",
       "    <tr>\n",
       "      <th>24</th>\n",
       "      <td>0.0</td>\n",
       "      <td>0.0</td>\n",
       "      <td>0.0</td>\n",
       "      <td>0.0</td>\n",
       "      <td>0.0</td>\n",
       "      <td>0.0</td>\n",
       "      <td>0.0</td>\n",
       "      <td>0.0</td>\n",
       "      <td>0.0</td>\n",
       "      <td>0.0</td>\n",
       "      <td>...</td>\n",
       "      <td>0.0</td>\n",
       "      <td>0.0</td>\n",
       "      <td>0.0</td>\n",
       "      <td>0.0</td>\n",
       "      <td>0.0</td>\n",
       "      <td>0.0</td>\n",
       "      <td>0.0</td>\n",
       "      <td>0.0</td>\n",
       "      <td>0.0</td>\n",
       "      <td>0.0</td>\n",
       "    </tr>\n",
       "  </tbody>\n",
       "</table>\n",
       "<p>5 rows × 17000 columns</p>\n",
       "</div>"
      ],
      "text/plain": [
       "    78afa995795e4d85b5d9ceeca43f5fef  a03223e636434f42ac4c3df47e8bac43  \\\n",
       "0                                0.0                               0.0   \n",
       "6                                0.0                               0.0   \n",
       "12                               0.0                               0.0   \n",
       "18                               0.0                               0.0   \n",
       "24                               0.0                               0.0   \n",
       "\n",
       "    e2127556f4f64592b11af22de27a7932  8ec6ce2a7e7949b1bf142def7d0e0586  \\\n",
       "0                                0.0                               0.0   \n",
       "6                                0.0                               0.0   \n",
       "12                               0.0                               0.0   \n",
       "18                               0.0                               0.0   \n",
       "24                               0.0                               0.0   \n",
       "\n",
       "    68617ca6246f4fbc85e91a2a49552598  389bc3fa690240e798340f5a15918d5c  \\\n",
       "0                                0.0                               0.0   \n",
       "6                                0.0                               0.0   \n",
       "12                               0.0                               0.0   \n",
       "18                               0.0                               0.0   \n",
       "24                               0.0                               0.0   \n",
       "\n",
       "    c4863c7985cf408faee930f111475da3  2eeac8d8feae4a8cad5a6af0499a211d  \\\n",
       "0                                0.0                               0.0   \n",
       "6                                0.0                               0.0   \n",
       "12                               0.0                               0.0   \n",
       "18                               0.0                               0.0   \n",
       "24                               0.0                               0.0   \n",
       "\n",
       "    aa4862eba776480b8bb9c68455b8c2e1  31dda685af34476cad5bc968bdb01c53  \\\n",
       "0                                0.0                               0.0   \n",
       "6                                0.0                               0.0   \n",
       "12                               0.0                               0.0   \n",
       "18                               0.0                               0.0   \n",
       "24                               0.0                               0.0   \n",
       "\n",
       "                  ...                 22617705eec442e0b7b43e5c5f56fb17  \\\n",
       "0                 ...                                              0.0   \n",
       "6                 ...                                              0.0   \n",
       "12                ...                                              0.0   \n",
       "18                ...                                              0.0   \n",
       "24                ...                                              0.0   \n",
       "\n",
       "    fc966e9c3edc4578a1fb4c6a8c2659c2  47683732768a4f7db7abb710ca22e66e  \\\n",
       "0                                0.0                               0.0   \n",
       "6                                0.0                               0.0   \n",
       "12                               0.0                               0.0   \n",
       "18                               0.0                               0.0   \n",
       "24                               0.0                               0.0   \n",
       "\n",
       "    3873fe915496482eb589fa316ae7b0db  8578196a074a4f328976e334fa9383a3  \\\n",
       "0                                0.0                               0.0   \n",
       "6                                0.0                               0.0   \n",
       "12                               0.0                               0.0   \n",
       "18                               0.0                               0.0   \n",
       "24                               0.0                               0.0   \n",
       "\n",
       "    9fcbff4f8d7241faa4ab8a9d19c8a812  ebae5093b436466c9fbd097cb7434023  \\\n",
       "0                                0.0                               0.0   \n",
       "6                                0.0                               0.0   \n",
       "12                               0.0                               0.0   \n",
       "18                               0.0                               0.0   \n",
       "24                               0.0                               0.0   \n",
       "\n",
       "    912b9f623b9e4b4eb99b6dc919f09a93  3045af4e98794a04a5542d3eac939b1f  \\\n",
       "0                                0.0                               0.0   \n",
       "6                                0.0                               0.0   \n",
       "12                               0.0                               0.0   \n",
       "18                               0.0                               0.0   \n",
       "24                               0.0                               0.0   \n",
       "\n",
       "    da7a7c0dcfcb41a8acc7864a53cf60fb  \n",
       "0                                0.0  \n",
       "6                                0.0  \n",
       "12                               0.0  \n",
       "18                               0.0  \n",
       "24                               0.0  \n",
       "\n",
       "[5 rows x 17000 columns]"
      ]
     },
     "execution_count": 10,
     "metadata": {},
     "output_type": "execute_result"
    }
   ],
   "source": [
    "# Create empty time series\n",
    "ts = pd.DataFrame(np.zeros((data.time.nunique(), data.person.nunique())), \n",
    "                  index=data.time.unique(), columns=data.person.unique())\n",
    "\n",
    "ts.update(transactions.pivot_table(index='time',\n",
    "                              columns='person',\n",
    "                              values='amount',\n",
    "                              aggfunc='sum'))\n",
    "\n",
    "print(ts.shape)\n",
    "ts.head()"
   ]
  },
  {
   "cell_type": "code",
   "execution_count": 11,
   "metadata": {
    "collapsed": false
   },
   "outputs": [
    {
     "data": {
      "text/plain": [
       "78afa995795e4d85b5d9ceeca43f5fef    159.27\n",
       "a03223e636434f42ac4c3df47e8bac43      4.65\n",
       "e2127556f4f64592b11af22de27a7932     57.73\n",
       "8ec6ce2a7e7949b1bf142def7d0e0586      0.00\n",
       "68617ca6246f4fbc85e91a2a49552598      0.24\n",
       "dtype: float64"
      ]
     },
     "execution_count": 11,
     "metadata": {},
     "output_type": "execute_result"
    }
   ],
   "source": [
    "ts.sum().head()"
   ]
  },
  {
   "cell_type": "code",
   "execution_count": 12,
   "metadata": {
    "collapsed": false
   },
   "outputs": [
    {
     "data": {
      "text/plain": [
       "<matplotlib.axes._subplots.AxesSubplot at 0x7f0e7ad859b0>"
      ]
     },
     "execution_count": 12,
     "metadata": {},
     "output_type": "execute_result"
    },
    {
     "data": {
      "image/png": "[encoded data removed]",
      "text/plain": [
       "<Figure size 432x288 with 1 Axes>"
      ]
     },
     "metadata": {
      "needs_background": "dark"
     },
     "output_type": "display_data"
    }
   ],
   "source": [
    "ts.mean(axis=1).plot()"
   ]
  },
  {
   "cell_type": "code",
   "execution_count": 13,
   "metadata": {
    "collapsed": false
   },
   "outputs": [
    {
     "data": {
      "text/plain": [
       "<matplotlib.axes._subplots.AxesSubplot at 0x7f0e7ad61400>"
      ]
     },
     "execution_count": 13,
     "metadata": {},
     "output_type": "execute_result"
    },
    {
     "data": {
      "image/png": "[encoded data removed]",
      "text/plain": [
       "<Figure size 432x288 with 1 Axes>"
      ]
     },
     "metadata": {
      "needs_background": "dark"
     },
     "output_type": "display_data"
    }
   ],
   "source": [
    "ts.cumsum().mean(axis=1).plot()"
   ]
  },
  {
   "cell_type": "code",
   "execution_count": 14,
   "metadata": {
    "collapsed": false
   },
   "outputs": [
    {
     "data": {
      "text/plain": [
       "array([  0, 168, 336, 408, 504, 576])"
      ]
     },
     "execution_count": 14,
     "metadata": {},
     "output_type": "execute_result"
    }
   ],
   "source": [
    "sending_times = received.time.unique()\n",
    "sending_times"
   ]
  },
  {
   "cell_type": "code",
   "execution_count": 15,
   "metadata": {
    "collapsed": false
   },
   "outputs": [
    {
     "data": {
      "text/plain": [
       "array([168, 168,  72,  96,  72])"
      ]
     },
     "execution_count": 15,
     "metadata": {},
     "output_type": "execute_result"
    }
   ],
   "source": [
    "sending_times[1:] - sending_times[:-1]"
   ]
  },
  {
   "cell_type": "code",
   "execution_count": 16,
   "metadata": {
    "collapsed": false
   },
   "outputs": [
    {
     "data": {
      "text/plain": [
       "7.0"
      ]
     },
     "execution_count": 16,
     "metadata": {},
     "output_type": "execute_result"
    }
   ],
   "source": [
    "168/24"
   ]
  },
  {
   "cell_type": "markdown",
   "metadata": {},
   "source": [
    "Let's assume that the period of interest for an offer is always 10 days after it was received. Let's make a table that shows if an offer was received in the past 10 days."
   ]
  },
  {
   "cell_type": "code",
   "execution_count": 17,
   "metadata": {
    "collapsed": false
   },
   "outputs": [
    {
     "data": {
      "text/html": [
       "<div>\n",
       "<style scoped>\n",
       "    .dataframe tbody tr th:only-of-type {\n",
       "        vertical-align: middle;\n",
       "    }\n",
       "\n",
       "    .dataframe tbody tr th {\n",
       "        vertical-align: top;\n",
       "    }\n",
       "\n",
       "    .dataframe thead th {\n",
       "        text-align: right;\n",
       "    }\n",
       "</style>\n",
       "<table border=\"1\" class=\"dataframe\">\n",
       "  <thead>\n",
       "    <tr style=\"text-align: right;\">\n",
       "      <th></th>\n",
       "      <th>event</th>\n",
       "      <th>person</th>\n",
       "      <th>time</th>\n",
       "      <th>amount</th>\n",
       "      <th>offer_id</th>\n",
       "      <th>reward</th>\n",
       "      <th>age</th>\n",
       "      <th>became_member_on</th>\n",
       "      <th>gender</th>\n",
       "      <th>income</th>\n",
       "      <th>missing_demographics</th>\n",
       "      <th>member_epoch_days</th>\n",
       "      <th>difficulty</th>\n",
       "      <th>duration</th>\n",
       "      <th>offer_type</th>\n",
       "      <th>reward_t</th>\n",
       "      <th>channel_mobile</th>\n",
       "      <th>channel_social</th>\n",
       "      <th>channel_email</th>\n",
       "      <th>channel_web</th>\n",
       "    </tr>\n",
       "  </thead>\n",
       "  <tbody>\n",
       "    <tr>\n",
       "      <th>0</th>\n",
       "      <td>offer received</td>\n",
       "      <td>78afa995795e4d85b5d9ceeca43f5fef</td>\n",
       "      <td>0</td>\n",
       "      <td>NaN</td>\n",
       "      <td>9b98b8c7a33c4b65b9aebfe6a799e6d9</td>\n",
       "      <td>NaN</td>\n",
       "      <td>75.0</td>\n",
       "      <td>2017-05-09</td>\n",
       "      <td>F</td>\n",
       "      <td>100000.0</td>\n",
       "      <td>0</td>\n",
       "      <td>17295</td>\n",
       "      <td>5.0</td>\n",
       "      <td>7.0</td>\n",
       "      <td>bogo</td>\n",
       "      <td>5.0</td>\n",
       "      <td>1.0</td>\n",
       "      <td>0.0</td>\n",
       "      <td>1.0</td>\n",
       "      <td>1.0</td>\n",
       "    </tr>\n",
       "    <tr>\n",
       "      <th>1</th>\n",
       "      <td>offer received</td>\n",
       "      <td>a03223e636434f42ac4c3df47e8bac43</td>\n",
       "      <td>0</td>\n",
       "      <td>NaN</td>\n",
       "      <td>0b1e1539f2cc45b7b9fa7c272da2e1d7</td>\n",
       "      <td>NaN</td>\n",
       "      <td>NaN</td>\n",
       "      <td>2017-08-04</td>\n",
       "      <td>None</td>\n",
       "      <td>NaN</td>\n",
       "      <td>1</td>\n",
       "      <td>17382</td>\n",
       "      <td>20.0</td>\n",
       "      <td>10.0</td>\n",
       "      <td>discount</td>\n",
       "      <td>5.0</td>\n",
       "      <td>0.0</td>\n",
       "      <td>0.0</td>\n",
       "      <td>1.0</td>\n",
       "      <td>1.0</td>\n",
       "    </tr>\n",
       "    <tr>\n",
       "      <th>2</th>\n",
       "      <td>offer received</td>\n",
       "      <td>e2127556f4f64592b11af22de27a7932</td>\n",
       "      <td>0</td>\n",
       "      <td>NaN</td>\n",
       "      <td>2906b810c7d4411798c6938adc9daaa5</td>\n",
       "      <td>NaN</td>\n",
       "      <td>68.0</td>\n",
       "      <td>2018-04-26</td>\n",
       "      <td>M</td>\n",
       "      <td>70000.0</td>\n",
       "      <td>0</td>\n",
       "      <td>17647</td>\n",
       "      <td>10.0</td>\n",
       "      <td>7.0</td>\n",
       "      <td>discount</td>\n",
       "      <td>2.0</td>\n",
       "      <td>1.0</td>\n",
       "      <td>0.0</td>\n",
       "      <td>1.0</td>\n",
       "      <td>1.0</td>\n",
       "    </tr>\n",
       "    <tr>\n",
       "      <th>3</th>\n",
       "      <td>offer received</td>\n",
       "      <td>8ec6ce2a7e7949b1bf142def7d0e0586</td>\n",
       "      <td>0</td>\n",
       "      <td>NaN</td>\n",
       "      <td>fafdcd668e3743c1bb461111dcafc2a4</td>\n",
       "      <td>NaN</td>\n",
       "      <td>NaN</td>\n",
       "      <td>2017-09-25</td>\n",
       "      <td>None</td>\n",
       "      <td>NaN</td>\n",
       "      <td>1</td>\n",
       "      <td>17434</td>\n",
       "      <td>10.0</td>\n",
       "      <td>10.0</td>\n",
       "      <td>discount</td>\n",
       "      <td>2.0</td>\n",
       "      <td>1.0</td>\n",
       "      <td>1.0</td>\n",
       "      <td>1.0</td>\n",
       "      <td>1.0</td>\n",
       "    </tr>\n",
       "    <tr>\n",
       "      <th>4</th>\n",
       "      <td>offer received</td>\n",
       "      <td>68617ca6246f4fbc85e91a2a49552598</td>\n",
       "      <td>0</td>\n",
       "      <td>NaN</td>\n",
       "      <td>4d5c57ea9a6940dd891ad53e9dbe8da0</td>\n",
       "      <td>NaN</td>\n",
       "      <td>NaN</td>\n",
       "      <td>2017-10-02</td>\n",
       "      <td>None</td>\n",
       "      <td>NaN</td>\n",
       "      <td>1</td>\n",
       "      <td>17441</td>\n",
       "      <td>10.0</td>\n",
       "      <td>5.0</td>\n",
       "      <td>bogo</td>\n",
       "      <td>10.0</td>\n",
       "      <td>1.0</td>\n",
       "      <td>1.0</td>\n",
       "      <td>1.0</td>\n",
       "      <td>1.0</td>\n",
       "    </tr>\n",
       "  </tbody>\n",
       "</table>\n",
       "</div>"
      ],
      "text/plain": [
       "            event                            person  time  amount  \\\n",
       "0  offer received  78afa995795e4d85b5d9ceeca43f5fef     0     NaN   \n",
       "1  offer received  a03223e636434f42ac4c3df47e8bac43     0     NaN   \n",
       "2  offer received  e2127556f4f64592b11af22de27a7932     0     NaN   \n",
       "3  offer received  8ec6ce2a7e7949b1bf142def7d0e0586     0     NaN   \n",
       "4  offer received  68617ca6246f4fbc85e91a2a49552598     0     NaN   \n",
       "\n",
       "                           offer_id  reward   age became_member_on gender  \\\n",
       "0  9b98b8c7a33c4b65b9aebfe6a799e6d9     NaN  75.0       2017-05-09      F   \n",
       "1  0b1e1539f2cc45b7b9fa7c272da2e1d7     NaN   NaN       2017-08-04   None   \n",
       "2  2906b810c7d4411798c6938adc9daaa5     NaN  68.0       2018-04-26      M   \n",
       "3  fafdcd668e3743c1bb461111dcafc2a4     NaN   NaN       2017-09-25   None   \n",
       "4  4d5c57ea9a6940dd891ad53e9dbe8da0     NaN   NaN       2017-10-02   None   \n",
       "\n",
       "     income  missing_demographics  member_epoch_days  difficulty  duration  \\\n",
       "0  100000.0                     0              17295         5.0       7.0   \n",
       "1       NaN                     1              17382        20.0      10.0   \n",
       "2   70000.0                     0              17647        10.0       7.0   \n",
       "3       NaN                     1              17434        10.0      10.0   \n",
       "4       NaN                     1              17441        10.0       5.0   \n",
       "\n",
       "  offer_type  reward_t  channel_mobile  channel_social  channel_email  \\\n",
       "0       bogo       5.0             1.0             0.0            1.0   \n",
       "1   discount       5.0             0.0             0.0            1.0   \n",
       "2   discount       2.0             1.0             0.0            1.0   \n",
       "3   discount       2.0             1.0             1.0            1.0   \n",
       "4       bogo      10.0             1.0             1.0            1.0   \n",
       "\n",
       "   channel_web  \n",
       "0          1.0  \n",
       "1          1.0  \n",
       "2          1.0  \n",
       "3          1.0  \n",
       "4          1.0  "
      ]
     },
     "execution_count": 17,
     "metadata": {},
     "output_type": "execute_result"
    }
   ],
   "source": [
    "received.head()"
   ]
  },
  {
   "cell_type": "code",
   "execution_count": 18,
   "metadata": {
    "collapsed": false
   },
   "outputs": [
    {
     "data": {
      "text/html": [
       "<div>\n",
       "<style scoped>\n",
       "    .dataframe tbody tr th:only-of-type {\n",
       "        vertical-align: middle;\n",
       "    }\n",
       "\n",
       "    .dataframe tbody tr th {\n",
       "        vertical-align: top;\n",
       "    }\n",
       "\n",
       "    .dataframe thead th {\n",
       "        text-align: right;\n",
       "    }\n",
       "</style>\n",
       "<table border=\"1\" class=\"dataframe\">\n",
       "  <thead>\n",
       "    <tr style=\"text-align: right;\">\n",
       "      <th></th>\n",
       "      <th>event</th>\n",
       "      <th>person</th>\n",
       "      <th>time</th>\n",
       "      <th>amount</th>\n",
       "      <th>offer_id</th>\n",
       "      <th>reward</th>\n",
       "      <th>age</th>\n",
       "      <th>became_member_on</th>\n",
       "      <th>gender</th>\n",
       "      <th>income</th>\n",
       "      <th>missing_demographics</th>\n",
       "      <th>member_epoch_days</th>\n",
       "      <th>difficulty</th>\n",
       "      <th>duration</th>\n",
       "      <th>offer_type</th>\n",
       "      <th>reward_t</th>\n",
       "      <th>channel_mobile</th>\n",
       "      <th>channel_social</th>\n",
       "      <th>channel_email</th>\n",
       "      <th>channel_web</th>\n",
       "    </tr>\n",
       "  </thead>\n",
       "  <tbody>\n",
       "    <tr>\n",
       "      <th>0</th>\n",
       "      <td>offer received</td>\n",
       "      <td>78afa995795e4d85b5d9ceeca43f5fef</td>\n",
       "      <td>0</td>\n",
       "      <td>NaN</td>\n",
       "      <td>9b98b8c7a33c4b65b9aebfe6a799e6d9</td>\n",
       "      <td>NaN</td>\n",
       "      <td>75.0</td>\n",
       "      <td>2017-05-09</td>\n",
       "      <td>F</td>\n",
       "      <td>100000.0</td>\n",
       "      <td>0</td>\n",
       "      <td>17295</td>\n",
       "      <td>5.0</td>\n",
       "      <td>7.0</td>\n",
       "      <td>bogo</td>\n",
       "      <td>5.0</td>\n",
       "      <td>1.0</td>\n",
       "      <td>0.0</td>\n",
       "      <td>1.0</td>\n",
       "      <td>1.0</td>\n",
       "    </tr>\n",
       "    <tr>\n",
       "      <th>53176</th>\n",
       "      <td>offer received</td>\n",
       "      <td>78afa995795e4d85b5d9ceeca43f5fef</td>\n",
       "      <td>168</td>\n",
       "      <td>NaN</td>\n",
       "      <td>5a8bc65990b245e5a138643cd4eb9837</td>\n",
       "      <td>NaN</td>\n",
       "      <td>75.0</td>\n",
       "      <td>2017-05-09</td>\n",
       "      <td>F</td>\n",
       "      <td>100000.0</td>\n",
       "      <td>0</td>\n",
       "      <td>17295</td>\n",
       "      <td>0.0</td>\n",
       "      <td>3.0</td>\n",
       "      <td>informational</td>\n",
       "      <td>0.0</td>\n",
       "      <td>1.0</td>\n",
       "      <td>1.0</td>\n",
       "      <td>1.0</td>\n",
       "      <td>0.0</td>\n",
       "    </tr>\n",
       "    <tr>\n",
       "      <th>150598</th>\n",
       "      <td>offer received</td>\n",
       "      <td>78afa995795e4d85b5d9ceeca43f5fef</td>\n",
       "      <td>408</td>\n",
       "      <td>NaN</td>\n",
       "      <td>ae264e3637204a6fb9bb56bc8210ddfd</td>\n",
       "      <td>NaN</td>\n",
       "      <td>75.0</td>\n",
       "      <td>2017-05-09</td>\n",
       "      <td>F</td>\n",
       "      <td>100000.0</td>\n",
       "      <td>0</td>\n",
       "      <td>17295</td>\n",
       "      <td>10.0</td>\n",
       "      <td>7.0</td>\n",
       "      <td>bogo</td>\n",
       "      <td>10.0</td>\n",
       "      <td>1.0</td>\n",
       "      <td>1.0</td>\n",
       "      <td>1.0</td>\n",
       "      <td>0.0</td>\n",
       "    </tr>\n",
       "    <tr>\n",
       "      <th>201572</th>\n",
       "      <td>offer received</td>\n",
       "      <td>78afa995795e4d85b5d9ceeca43f5fef</td>\n",
       "      <td>504</td>\n",
       "      <td>NaN</td>\n",
       "      <td>f19421c1d4aa40978ebb69ca19b0e20d</td>\n",
       "      <td>NaN</td>\n",
       "      <td>75.0</td>\n",
       "      <td>2017-05-09</td>\n",
       "      <td>F</td>\n",
       "      <td>100000.0</td>\n",
       "      <td>0</td>\n",
       "      <td>17295</td>\n",
       "      <td>5.0</td>\n",
       "      <td>5.0</td>\n",
       "      <td>bogo</td>\n",
       "      <td>5.0</td>\n",
       "      <td>1.0</td>\n",
       "      <td>1.0</td>\n",
       "      <td>1.0</td>\n",
       "      <td>1.0</td>\n",
       "    </tr>\n",
       "  </tbody>\n",
       "</table>\n",
       "</div>"
      ],
      "text/plain": [
       "                 event                            person  time  amount  \\\n",
       "0       offer received  78afa995795e4d85b5d9ceeca43f5fef     0     NaN   \n",
       "53176   offer received  78afa995795e4d85b5d9ceeca43f5fef   168     NaN   \n",
       "150598  offer received  78afa995795e4d85b5d9ceeca43f5fef   408     NaN   \n",
       "201572  offer received  78afa995795e4d85b5d9ceeca43f5fef   504     NaN   \n",
       "\n",
       "                                offer_id  reward   age became_member_on  \\\n",
       "0       9b98b8c7a33c4b65b9aebfe6a799e6d9     NaN  75.0       2017-05-09   \n",
       "53176   5a8bc65990b245e5a138643cd4eb9837     NaN  75.0       2017-05-09   \n",
       "150598  ae264e3637204a6fb9bb56bc8210ddfd     NaN  75.0       2017-05-09   \n",
       "201572  f19421c1d4aa40978ebb69ca19b0e20d     NaN  75.0       2017-05-09   \n",
       "\n",
       "       gender    income  missing_demographics  member_epoch_days  difficulty  \\\n",
       "0           F  100000.0                     0              17295         5.0   \n",
       "53176       F  100000.0                     0              17295         0.0   \n",
       "150598      F  100000.0                     0              17295        10.0   \n",
       "201572      F  100000.0                     0              17295         5.0   \n",
       "\n",
       "        duration     offer_type  reward_t  channel_mobile  channel_social  \\\n",
       "0            7.0           bogo       5.0             1.0             0.0   \n",
       "53176        3.0  informational       0.0             1.0             1.0   \n",
       "150598       7.0           bogo      10.0             1.0             1.0   \n",
       "201572       5.0           bogo       5.0             1.0             1.0   \n",
       "\n",
       "        channel_email  channel_web  \n",
       "0                 1.0          1.0  \n",
       "53176             1.0          0.0  \n",
       "150598            1.0          0.0  \n",
       "201572            1.0          1.0  "
      ]
     },
     "execution_count": 18,
     "metadata": {},
     "output_type": "execute_result"
    }
   ],
   "source": [
    "user = received[received.person == received.person[0]]\n",
    "user"
   ]
  },
  {
   "cell_type": "code",
   "execution_count": 19,
   "metadata": {
    "collapsed": false
   },
   "outputs": [],
   "source": [
    "offers = portfolio.id.values"
   ]
  },
  {
   "cell_type": "code",
   "execution_count": 20,
   "metadata": {
    "collapsed": false
   },
   "outputs": [
    {
     "data": {
      "text/html": [
       "<div>\n",
       "<style scoped>\n",
       "    .dataframe tbody tr th:only-of-type {\n",
       "        vertical-align: middle;\n",
       "    }\n",
       "\n",
       "    .dataframe tbody tr th {\n",
       "        vertical-align: top;\n",
       "    }\n",
       "\n",
       "    .dataframe thead th {\n",
       "        text-align: right;\n",
       "    }\n",
       "</style>\n",
       "<table border=\"1\" class=\"dataframe\">\n",
       "  <thead>\n",
       "    <tr style=\"text-align: right;\">\n",
       "      <th></th>\n",
       "      <th>ae264e3637204a6fb9bb56bc8210ddfd</th>\n",
       "      <th>4d5c57ea9a6940dd891ad53e9dbe8da0</th>\n",
       "      <th>3f207df678b143eea3cee63160fa8bed</th>\n",
       "      <th>9b98b8c7a33c4b65b9aebfe6a799e6d9</th>\n",
       "      <th>0b1e1539f2cc45b7b9fa7c272da2e1d7</th>\n",
       "      <th>2298d6c36e964ae4a3e7e9706d1fb8c2</th>\n",
       "      <th>fafdcd668e3743c1bb461111dcafc2a4</th>\n",
       "      <th>5a8bc65990b245e5a138643cd4eb9837</th>\n",
       "      <th>f19421c1d4aa40978ebb69ca19b0e20d</th>\n",
       "      <th>2906b810c7d4411798c6938adc9daaa5</th>\n",
       "    </tr>\n",
       "  </thead>\n",
       "  <tbody>\n",
       "    <tr>\n",
       "      <th>0</th>\n",
       "      <td>0.0</td>\n",
       "      <td>0.0</td>\n",
       "      <td>0.0</td>\n",
       "      <td>0.0</td>\n",
       "      <td>0.0</td>\n",
       "      <td>0.0</td>\n",
       "      <td>0.0</td>\n",
       "      <td>0.0</td>\n",
       "      <td>0.0</td>\n",
       "      <td>0.0</td>\n",
       "    </tr>\n",
       "    <tr>\n",
       "      <th>6</th>\n",
       "      <td>0.0</td>\n",
       "      <td>0.0</td>\n",
       "      <td>0.0</td>\n",
       "      <td>0.0</td>\n",
       "      <td>0.0</td>\n",
       "      <td>0.0</td>\n",
       "      <td>0.0</td>\n",
       "      <td>0.0</td>\n",
       "      <td>0.0</td>\n",
       "      <td>0.0</td>\n",
       "    </tr>\n",
       "    <tr>\n",
       "      <th>12</th>\n",
       "      <td>0.0</td>\n",
       "      <td>0.0</td>\n",
       "      <td>0.0</td>\n",
       "      <td>0.0</td>\n",
       "      <td>0.0</td>\n",
       "      <td>0.0</td>\n",
       "      <td>0.0</td>\n",
       "      <td>0.0</td>\n",
       "      <td>0.0</td>\n",
       "      <td>0.0</td>\n",
       "    </tr>\n",
       "    <tr>\n",
       "      <th>18</th>\n",
       "      <td>0.0</td>\n",
       "      <td>0.0</td>\n",
       "      <td>0.0</td>\n",
       "      <td>0.0</td>\n",
       "      <td>0.0</td>\n",
       "      <td>0.0</td>\n",
       "      <td>0.0</td>\n",
       "      <td>0.0</td>\n",
       "      <td>0.0</td>\n",
       "      <td>0.0</td>\n",
       "    </tr>\n",
       "    <tr>\n",
       "      <th>24</th>\n",
       "      <td>0.0</td>\n",
       "      <td>0.0</td>\n",
       "      <td>0.0</td>\n",
       "      <td>0.0</td>\n",
       "      <td>0.0</td>\n",
       "      <td>0.0</td>\n",
       "      <td>0.0</td>\n",
       "      <td>0.0</td>\n",
       "      <td>0.0</td>\n",
       "      <td>0.0</td>\n",
       "    </tr>\n",
       "  </tbody>\n",
       "</table>\n",
       "</div>"
      ],
      "text/plain": [
       "    ae264e3637204a6fb9bb56bc8210ddfd  4d5c57ea9a6940dd891ad53e9dbe8da0  \\\n",
       "0                                0.0                               0.0   \n",
       "6                                0.0                               0.0   \n",
       "12                               0.0                               0.0   \n",
       "18                               0.0                               0.0   \n",
       "24                               0.0                               0.0   \n",
       "\n",
       "    3f207df678b143eea3cee63160fa8bed  9b98b8c7a33c4b65b9aebfe6a799e6d9  \\\n",
       "0                                0.0                               0.0   \n",
       "6                                0.0                               0.0   \n",
       "12                               0.0                               0.0   \n",
       "18                               0.0                               0.0   \n",
       "24                               0.0                               0.0   \n",
       "\n",
       "    0b1e1539f2cc45b7b9fa7c272da2e1d7  2298d6c36e964ae4a3e7e9706d1fb8c2  \\\n",
       "0                                0.0                               0.0   \n",
       "6                                0.0                               0.0   \n",
       "12                               0.0                               0.0   \n",
       "18                               0.0                               0.0   \n",
       "24                               0.0                               0.0   \n",
       "\n",
       "    fafdcd668e3743c1bb461111dcafc2a4  5a8bc65990b245e5a138643cd4eb9837  \\\n",
       "0                                0.0                               0.0   \n",
       "6                                0.0                               0.0   \n",
       "12                               0.0                               0.0   \n",
       "18                               0.0                               0.0   \n",
       "24                               0.0                               0.0   \n",
       "\n",
       "    f19421c1d4aa40978ebb69ca19b0e20d  2906b810c7d4411798c6938adc9daaa5  \n",
       "0                                0.0                               0.0  \n",
       "6                                0.0                               0.0  \n",
       "12                               0.0                               0.0  \n",
       "18                               0.0                               0.0  \n",
       "24                               0.0                               0.0  "
      ]
     },
     "execution_count": 20,
     "metadata": {},
     "output_type": "execute_result"
    }
   ],
   "source": [
    "offer_ts = pd.DataFrame(np.zeros((data.time.nunique(), len(offers))),\n",
    "                        index=data.time.unique(), columns=offers)\n",
    "offer_ts.head()"
   ]
  },
  {
   "cell_type": "code",
   "execution_count": 21,
   "metadata": {
    "collapsed": true
   },
   "outputs": [],
   "source": [
    "delta = 24 * 10\n",
    "for i, row in user.iterrows():\n",
    "    offer_ts.loc[row.time: row.time + delta, row.offer_id] = 1"
   ]
  },
  {
   "cell_type": "code",
   "execution_count": 22,
   "metadata": {
    "collapsed": false
   },
   "outputs": [
    {
     "data": {
      "text/plain": [
       "<matplotlib.axes._subplots.AxesSubplot at 0x7f0e7ada7f98>"
      ]
     },
     "execution_count": 22,
     "metadata": {},
     "output_type": "execute_result"
    },
    {
     "data": {
      "image/png": "[encoded data removed]",
      "text/plain": [
       "<Figure size 432x288 with 1 Axes>"
      ]
     },
     "metadata": {
      "needs_background": "dark"
     },
     "output_type": "display_data"
    }
   ],
   "source": [
    "offer_ts.loc[:, user.offer_id].plot()"
   ]
  },
  {
   "cell_type": "code",
   "execution_count": 23,
   "metadata": {
    "collapsed": true
   },
   "outputs": [],
   "source": [
    "def get_offers_ts(user_received, portfolio, data, delta = 24 * 10, viewed=False):\n",
    "    \"\"\" \n",
    "    Given the received sequence for a user, this function returns a time series\n",
    "    dataframe containing a 1 in a 10 days period after receiving an offer.\n",
    "    It can filter out the non-viewed offers.\n",
    "    Args:\n",
    "        user_received(dataframe): The received offers for one user.\n",
    "        portfolio(dataframe): The original portfolio of offers (just to get the offer ids).\n",
    "        data(dataframe): The original transcript (just to get the time values).\n",
    "        delta(int): The period of relevance for an offer.\n",
    "        viewed(boolean): Whether to show only the offers that were viewed.\n",
    "    \"\"\"\n",
    "    offers = portfolio.id.values\n",
    "    offer_ts = pd.DataFrame(np.zeros((data.time.nunique(), len(offers))),\n",
    "                            index=data.time.unique(), columns=offers)\n",
    "    for i, row in user_received.iterrows():\n",
    "        if viewed:\n",
    "            if row.viewed:\n",
    "                offer_ts.loc[row.time: row.time + delta, row.offer_id] = 1\n",
    "        else:\n",
    "            offer_ts.loc[row.time: row.time + delta, row.offer_id] = 1\n",
    "    # Fill the \"no-offer\" column\n",
    "    offer_ts['no_offer'] = (offer_ts.sum(axis=1) == 0).astype(int)\n",
    "    return offer_ts"
   ]
  },
  {
   "cell_type": "markdown",
   "metadata": {},
   "source": [
    "Let's plot the offers' relevant periods considering all the offers received and only those that were viewed."
   ]
  },
  {
   "cell_type": "code",
   "execution_count": 24,
   "metadata": {
    "collapsed": false
   },
   "outputs": [
    {
     "data": {
      "text/plain": [
       "<matplotlib.axes._subplots.AxesSubplot at 0x7f0e7adefd68>"
      ]
     },
     "execution_count": 24,
     "metadata": {},
     "output_type": "execute_result"
    },
    {
     "data": {
      "image/png": "[encoded data removed]",
      "text/plain": [
       "<Figure size 432x288 with 1 Axes>"
      ]
     },
     "metadata": {
      "needs_background": "dark"
     },
     "output_type": "display_data"
    }
   ],
   "source": [
    "user = static_data[static_data.person == static_data.person[1]]\n",
    "interesting_offers = user.offer_id.tolist() + ['no_offer']\n",
    "offer_times = get_offers_ts(user, portfolio, data, viewed=False)\n",
    "offer_times.loc[:, interesting_offers].plot()"
   ]
  },
  {
   "cell_type": "code",
   "execution_count": 25,
   "metadata": {
    "collapsed": false
   },
   "outputs": [
    {
     "data": {
      "text/plain": [
       "<matplotlib.axes._subplots.AxesSubplot at 0x7f0e7ae30898>"
      ]
     },
     "execution_count": 25,
     "metadata": {},
     "output_type": "execute_result"
    },
    {
     "data": {
      "image/png": "[encoded data removed]",
      "text/plain": [
       "<Figure size 432x288 with 1 Axes>"
      ]
     },
     "metadata": {
      "needs_background": "dark"
     },
     "output_type": "display_data"
    }
   ],
   "source": [
    "get_offers_ts(user, portfolio, data, viewed=True).loc[:, interesting_offers].plot()"
   ]
  },
  {
   "cell_type": "markdown",
   "metadata": {},
   "source": [
    "There is overlap. Let's see if the offers, in mean, behave similarly in their full period of interest. If that is true, a model could be implemented on a day-to-day basis, and the overlapping zones could be ignored, or taken into account in an easier way."
   ]
  },
  {
   "cell_type": "code",
   "execution_count": 26,
   "metadata": {
    "collapsed": false
   },
   "outputs": [
    {
     "data": {
      "text/html": [
       "<div>\n",
       "<style scoped>\n",
       "    .dataframe tbody tr th:only-of-type {\n",
       "        vertical-align: middle;\n",
       "    }\n",
       "\n",
       "    .dataframe tbody tr th {\n",
       "        vertical-align: top;\n",
       "    }\n",
       "\n",
       "    .dataframe thead th {\n",
       "        text-align: right;\n",
       "    }\n",
       "</style>\n",
       "<table border=\"1\" class=\"dataframe\">\n",
       "  <thead>\n",
       "    <tr style=\"text-align: right;\">\n",
       "      <th></th>\n",
       "      <th>event</th>\n",
       "      <th>person</th>\n",
       "      <th>time</th>\n",
       "      <th>amount</th>\n",
       "      <th>offer_id</th>\n",
       "      <th>reward</th>\n",
       "      <th>age</th>\n",
       "      <th>became_member_on</th>\n",
       "      <th>gender</th>\n",
       "      <th>income</th>\n",
       "      <th>missing_demographics</th>\n",
       "      <th>member_epoch_days</th>\n",
       "      <th>difficulty</th>\n",
       "      <th>duration</th>\n",
       "      <th>offer_type</th>\n",
       "      <th>reward_t</th>\n",
       "      <th>channel_mobile</th>\n",
       "      <th>channel_social</th>\n",
       "      <th>channel_email</th>\n",
       "      <th>channel_web</th>\n",
       "    </tr>\n",
       "  </thead>\n",
       "  <tbody>\n",
       "    <tr>\n",
       "      <th>12654</th>\n",
       "      <td>transaction</td>\n",
       "      <td>02c083884c7d45b39cc68e1314fec56c</td>\n",
       "      <td>0</td>\n",
       "      <td>0.83</td>\n",
       "      <td>NaN</td>\n",
       "      <td>NaN</td>\n",
       "      <td>20.0</td>\n",
       "      <td>2016-07-11</td>\n",
       "      <td>F</td>\n",
       "      <td>30000.0</td>\n",
       "      <td>0</td>\n",
       "      <td>16993</td>\n",
       "      <td>NaN</td>\n",
       "      <td>NaN</td>\n",
       "      <td>NaN</td>\n",
       "      <td>NaN</td>\n",
       "      <td>NaN</td>\n",
       "      <td>NaN</td>\n",
       "      <td>NaN</td>\n",
       "      <td>NaN</td>\n",
       "    </tr>\n",
       "    <tr>\n",
       "      <th>12657</th>\n",
       "      <td>transaction</td>\n",
       "      <td>9fa9ae8f57894cc9a3b8a9bbe0fc1b2f</td>\n",
       "      <td>0</td>\n",
       "      <td>34.56</td>\n",
       "      <td>NaN</td>\n",
       "      <td>NaN</td>\n",
       "      <td>42.0</td>\n",
       "      <td>2016-01-17</td>\n",
       "      <td>M</td>\n",
       "      <td>96000.0</td>\n",
       "      <td>0</td>\n",
       "      <td>16817</td>\n",
       "      <td>NaN</td>\n",
       "      <td>NaN</td>\n",
       "      <td>NaN</td>\n",
       "      <td>NaN</td>\n",
       "      <td>NaN</td>\n",
       "      <td>NaN</td>\n",
       "      <td>NaN</td>\n",
       "      <td>NaN</td>\n",
       "    </tr>\n",
       "    <tr>\n",
       "      <th>12659</th>\n",
       "      <td>transaction</td>\n",
       "      <td>54890f68699049c2a04d415abc25e717</td>\n",
       "      <td>0</td>\n",
       "      <td>13.23</td>\n",
       "      <td>NaN</td>\n",
       "      <td>NaN</td>\n",
       "      <td>36.0</td>\n",
       "      <td>2017-12-28</td>\n",
       "      <td>M</td>\n",
       "      <td>56000.0</td>\n",
       "      <td>0</td>\n",
       "      <td>17528</td>\n",
       "      <td>NaN</td>\n",
       "      <td>NaN</td>\n",
       "      <td>NaN</td>\n",
       "      <td>NaN</td>\n",
       "      <td>NaN</td>\n",
       "      <td>NaN</td>\n",
       "      <td>NaN</td>\n",
       "      <td>NaN</td>\n",
       "    </tr>\n",
       "    <tr>\n",
       "      <th>12670</th>\n",
       "      <td>transaction</td>\n",
       "      <td>b2f1cd155b864803ad8334cdf13c4bd2</td>\n",
       "      <td>0</td>\n",
       "      <td>19.51</td>\n",
       "      <td>NaN</td>\n",
       "      <td>NaN</td>\n",
       "      <td>55.0</td>\n",
       "      <td>2017-10-16</td>\n",
       "      <td>F</td>\n",
       "      <td>94000.0</td>\n",
       "      <td>0</td>\n",
       "      <td>17455</td>\n",
       "      <td>NaN</td>\n",
       "      <td>NaN</td>\n",
       "      <td>NaN</td>\n",
       "      <td>NaN</td>\n",
       "      <td>NaN</td>\n",
       "      <td>NaN</td>\n",
       "      <td>NaN</td>\n",
       "      <td>NaN</td>\n",
       "    </tr>\n",
       "    <tr>\n",
       "      <th>12671</th>\n",
       "      <td>transaction</td>\n",
       "      <td>fe97aa22dd3e48c8b143116a8403dd52</td>\n",
       "      <td>0</td>\n",
       "      <td>18.97</td>\n",
       "      <td>NaN</td>\n",
       "      <td>NaN</td>\n",
       "      <td>39.0</td>\n",
       "      <td>2017-12-17</td>\n",
       "      <td>F</td>\n",
       "      <td>67000.0</td>\n",
       "      <td>0</td>\n",
       "      <td>17517</td>\n",
       "      <td>NaN</td>\n",
       "      <td>NaN</td>\n",
       "      <td>NaN</td>\n",
       "      <td>NaN</td>\n",
       "      <td>NaN</td>\n",
       "      <td>NaN</td>\n",
       "      <td>NaN</td>\n",
       "      <td>NaN</td>\n",
       "    </tr>\n",
       "  </tbody>\n",
       "</table>\n",
       "</div>"
      ],
      "text/plain": [
       "             event                            person  time  amount offer_id  \\\n",
       "12654  transaction  02c083884c7d45b39cc68e1314fec56c     0    0.83      NaN   \n",
       "12657  transaction  9fa9ae8f57894cc9a3b8a9bbe0fc1b2f     0   34.56      NaN   \n",
       "12659  transaction  54890f68699049c2a04d415abc25e717     0   13.23      NaN   \n",
       "12670  transaction  b2f1cd155b864803ad8334cdf13c4bd2     0   19.51      NaN   \n",
       "12671  transaction  fe97aa22dd3e48c8b143116a8403dd52     0   18.97      NaN   \n",
       "\n",
       "       reward   age became_member_on gender   income  missing_demographics  \\\n",
       "12654     NaN  20.0       2016-07-11      F  30000.0                     0   \n",
       "12657     NaN  42.0       2016-01-17      M  96000.0                     0   \n",
       "12659     NaN  36.0       2017-12-28      M  56000.0                     0   \n",
       "12670     NaN  55.0       2017-10-16      F  94000.0                     0   \n",
       "12671     NaN  39.0       2017-12-17      F  67000.0                     0   \n",
       "\n",
       "       member_epoch_days  difficulty  duration offer_type  reward_t  \\\n",
       "12654              16993         NaN       NaN        NaN       NaN   \n",
       "12657              16817         NaN       NaN        NaN       NaN   \n",
       "12659              17528         NaN       NaN        NaN       NaN   \n",
       "12670              17455         NaN       NaN        NaN       NaN   \n",
       "12671              17517         NaN       NaN        NaN       NaN   \n",
       "\n",
       "       channel_mobile  channel_social  channel_email  channel_web  \n",
       "12654             NaN             NaN            NaN          NaN  \n",
       "12657             NaN             NaN            NaN          NaN  \n",
       "12659             NaN             NaN            NaN          NaN  \n",
       "12670             NaN             NaN            NaN          NaN  \n",
       "12671             NaN             NaN            NaN          NaN  "
      ]
     },
     "execution_count": 26,
     "metadata": {},
     "output_type": "execute_result"
    }
   ],
   "source": [
    "transactions.head()"
   ]
  },
  {
   "cell_type": "code",
   "execution_count": 27,
   "metadata": {
    "collapsed": false
   },
   "outputs": [
    {
     "data": {
      "text/plain": [
       "'ae264e3637204a6fb9bb56bc8210ddfd'"
      ]
     },
     "execution_count": 27,
     "metadata": {},
     "output_type": "execute_result"
    }
   ],
   "source": [
    "offer = portfolio.id[0]\n",
    "offer"
   ]
  },
  {
   "cell_type": "code",
   "execution_count": 28,
   "metadata": {
    "collapsed": true
   },
   "outputs": [],
   "source": [
    "# Create empty time series\n",
    "ts = pd.DataFrame(np.zeros((data.time.nunique(), data.person.nunique())), \n",
    "                  index=data.time.unique(), columns=data.person.unique())\n",
    "\n",
    "ts.update(transactions.pivot_table(index='time',\n",
    "                              columns='person',\n",
    "                              values='amount',\n",
    "                              aggfunc='sum'))"
   ]
  },
  {
   "cell_type": "code",
   "execution_count": 29,
   "metadata": {
    "collapsed": false
   },
   "outputs": [
    {
     "data": {
      "text/plain": [
       "(120, 17000)"
      ]
     },
     "execution_count": 29,
     "metadata": {},
     "output_type": "execute_result"
    }
   ],
   "source": [
    "ts.shape"
   ]
  },
  {
   "cell_type": "code",
   "execution_count": 30,
   "metadata": {
    "collapsed": false
   },
   "outputs": [
    {
     "data": {
      "text/plain": [
       "(76277, 132)"
      ]
     },
     "execution_count": 30,
     "metadata": {},
     "output_type": "execute_result"
    }
   ],
   "source": [
    "static_data.shape"
   ]
  },
  {
   "cell_type": "code",
   "execution_count": 31,
   "metadata": {
    "collapsed": false
   },
   "outputs": [
    {
     "name": "stdout",
     "output_type": "stream",
     "text": [
      "CPU times: user 1min 59s, sys: 516 ms, total: 2min\n",
      "Wall time: 2min\n"
     ]
    }
   ],
   "source": [
    "%time multi_offer_times = static_data.groupby('person').apply(lambda x: get_offers_ts(x, portfolio, data, viewed=False).stack() )"
   ]
  },
  {
   "cell_type": "code",
   "execution_count": 32,
   "metadata": {
    "collapsed": false
   },
   "outputs": [
    {
     "data": {
      "text/plain": [
       "(16994, 1320)"
      ]
     },
     "execution_count": 32,
     "metadata": {},
     "output_type": "execute_result"
    }
   ],
   "source": [
    "multi_offer_times.shape"
   ]
  },
  {
   "cell_type": "code",
   "execution_count": 33,
   "metadata": {
    "collapsed": false
   },
   "outputs": [
    {
     "data": {
      "text/plain": [
       "(10, 9)"
      ]
     },
     "execution_count": 33,
     "metadata": {},
     "output_type": "execute_result"
    }
   ],
   "source": [
    "portfolio.shape"
   ]
  },
  {
   "cell_type": "code",
   "execution_count": 34,
   "metadata": {
    "collapsed": false
   },
   "outputs": [
    {
     "data": {
      "text/plain": [
       "1320"
      ]
     },
     "execution_count": 34,
     "metadata": {},
     "output_type": "execute_result"
    }
   ],
   "source": [
    "120 * 11"
   ]
  },
  {
   "cell_type": "code",
   "execution_count": 35,
   "metadata": {
    "collapsed": false
   },
   "outputs": [
    {
     "data": {
      "text/html": [
       "<div>\n",
       "<style scoped>\n",
       "    .dataframe tbody tr th:only-of-type {\n",
       "        vertical-align: middle;\n",
       "    }\n",
       "\n",
       "    .dataframe tbody tr th {\n",
       "        vertical-align: top;\n",
       "    }\n",
       "\n",
       "    .dataframe thead tr th {\n",
       "        text-align: left;\n",
       "    }\n",
       "\n",
       "    .dataframe thead tr:last-of-type th {\n",
       "        text-align: right;\n",
       "    }\n",
       "</style>\n",
       "<table border=\"1\" class=\"dataframe\">\n",
       "  <thead>\n",
       "    <tr>\n",
       "      <th></th>\n",
       "      <th colspan=\"10\" halign=\"left\">0</th>\n",
       "      <th>...</th>\n",
       "      <th colspan=\"10\" halign=\"left\">714</th>\n",
       "    </tr>\n",
       "    <tr>\n",
       "      <th></th>\n",
       "      <th>ae264e3637204a6fb9bb56bc8210ddfd</th>\n",
       "      <th>4d5c57ea9a6940dd891ad53e9dbe8da0</th>\n",
       "      <th>3f207df678b143eea3cee63160fa8bed</th>\n",
       "      <th>9b98b8c7a33c4b65b9aebfe6a799e6d9</th>\n",
       "      <th>0b1e1539f2cc45b7b9fa7c272da2e1d7</th>\n",
       "      <th>2298d6c36e964ae4a3e7e9706d1fb8c2</th>\n",
       "      <th>fafdcd668e3743c1bb461111dcafc2a4</th>\n",
       "      <th>5a8bc65990b245e5a138643cd4eb9837</th>\n",
       "      <th>f19421c1d4aa40978ebb69ca19b0e20d</th>\n",
       "      <th>2906b810c7d4411798c6938adc9daaa5</th>\n",
       "      <th>...</th>\n",
       "      <th>4d5c57ea9a6940dd891ad53e9dbe8da0</th>\n",
       "      <th>3f207df678b143eea3cee63160fa8bed</th>\n",
       "      <th>9b98b8c7a33c4b65b9aebfe6a799e6d9</th>\n",
       "      <th>0b1e1539f2cc45b7b9fa7c272da2e1d7</th>\n",
       "      <th>2298d6c36e964ae4a3e7e9706d1fb8c2</th>\n",
       "      <th>fafdcd668e3743c1bb461111dcafc2a4</th>\n",
       "      <th>5a8bc65990b245e5a138643cd4eb9837</th>\n",
       "      <th>f19421c1d4aa40978ebb69ca19b0e20d</th>\n",
       "      <th>2906b810c7d4411798c6938adc9daaa5</th>\n",
       "      <th>no_offer</th>\n",
       "    </tr>\n",
       "    <tr>\n",
       "      <th>person</th>\n",
       "      <th></th>\n",
       "      <th></th>\n",
       "      <th></th>\n",
       "      <th></th>\n",
       "      <th></th>\n",
       "      <th></th>\n",
       "      <th></th>\n",
       "      <th></th>\n",
       "      <th></th>\n",
       "      <th></th>\n",
       "      <th></th>\n",
       "      <th></th>\n",
       "      <th></th>\n",
       "      <th></th>\n",
       "      <th></th>\n",
       "      <th></th>\n",
       "      <th></th>\n",
       "      <th></th>\n",
       "      <th></th>\n",
       "      <th></th>\n",
       "      <th></th>\n",
       "    </tr>\n",
       "  </thead>\n",
       "  <tbody>\n",
       "    <tr>\n",
       "      <th>0009655768c64bdeb2e877511632db8f</th>\n",
       "      <td>0.0</td>\n",
       "      <td>0.0</td>\n",
       "      <td>0.0</td>\n",
       "      <td>0.0</td>\n",
       "      <td>0.0</td>\n",
       "      <td>0.0</td>\n",
       "      <td>0.0</td>\n",
       "      <td>0.0</td>\n",
       "      <td>0.0</td>\n",
       "      <td>0.0</td>\n",
       "      <td>...</td>\n",
       "      <td>0.0</td>\n",
       "      <td>0.0</td>\n",
       "      <td>0.0</td>\n",
       "      <td>0.0</td>\n",
       "      <td>0.0</td>\n",
       "      <td>1.0</td>\n",
       "      <td>0.0</td>\n",
       "      <td>0.0</td>\n",
       "      <td>1.0</td>\n",
       "      <td>0.0</td>\n",
       "    </tr>\n",
       "    <tr>\n",
       "      <th>00116118485d4dfda04fdbaba9a87b5c</th>\n",
       "      <td>0.0</td>\n",
       "      <td>0.0</td>\n",
       "      <td>0.0</td>\n",
       "      <td>0.0</td>\n",
       "      <td>0.0</td>\n",
       "      <td>0.0</td>\n",
       "      <td>0.0</td>\n",
       "      <td>0.0</td>\n",
       "      <td>0.0</td>\n",
       "      <td>0.0</td>\n",
       "      <td>...</td>\n",
       "      <td>0.0</td>\n",
       "      <td>0.0</td>\n",
       "      <td>0.0</td>\n",
       "      <td>0.0</td>\n",
       "      <td>0.0</td>\n",
       "      <td>0.0</td>\n",
       "      <td>0.0</td>\n",
       "      <td>1.0</td>\n",
       "      <td>0.0</td>\n",
       "      <td>0.0</td>\n",
       "    </tr>\n",
       "    <tr>\n",
       "      <th>0011e0d4e6b944f998e987f904e8c1e5</th>\n",
       "      <td>0.0</td>\n",
       "      <td>0.0</td>\n",
       "      <td>1.0</td>\n",
       "      <td>0.0</td>\n",
       "      <td>0.0</td>\n",
       "      <td>0.0</td>\n",
       "      <td>0.0</td>\n",
       "      <td>0.0</td>\n",
       "      <td>0.0</td>\n",
       "      <td>0.0</td>\n",
       "      <td>...</td>\n",
       "      <td>0.0</td>\n",
       "      <td>0.0</td>\n",
       "      <td>1.0</td>\n",
       "      <td>0.0</td>\n",
       "      <td>0.0</td>\n",
       "      <td>0.0</td>\n",
       "      <td>0.0</td>\n",
       "      <td>0.0</td>\n",
       "      <td>0.0</td>\n",
       "      <td>0.0</td>\n",
       "    </tr>\n",
       "    <tr>\n",
       "      <th>0020c2b971eb4e9188eac86d93036a77</th>\n",
       "      <td>0.0</td>\n",
       "      <td>0.0</td>\n",
       "      <td>0.0</td>\n",
       "      <td>0.0</td>\n",
       "      <td>0.0</td>\n",
       "      <td>0.0</td>\n",
       "      <td>1.0</td>\n",
       "      <td>0.0</td>\n",
       "      <td>0.0</td>\n",
       "      <td>0.0</td>\n",
       "      <td>...</td>\n",
       "      <td>0.0</td>\n",
       "      <td>0.0</td>\n",
       "      <td>0.0</td>\n",
       "      <td>0.0</td>\n",
       "      <td>0.0</td>\n",
       "      <td>0.0</td>\n",
       "      <td>1.0</td>\n",
       "      <td>0.0</td>\n",
       "      <td>0.0</td>\n",
       "      <td>0.0</td>\n",
       "    </tr>\n",
       "    <tr>\n",
       "      <th>0020ccbbb6d84e358d3414a3ff76cffd</th>\n",
       "      <td>0.0</td>\n",
       "      <td>0.0</td>\n",
       "      <td>0.0</td>\n",
       "      <td>0.0</td>\n",
       "      <td>0.0</td>\n",
       "      <td>0.0</td>\n",
       "      <td>0.0</td>\n",
       "      <td>0.0</td>\n",
       "      <td>0.0</td>\n",
       "      <td>0.0</td>\n",
       "      <td>...</td>\n",
       "      <td>0.0</td>\n",
       "      <td>0.0</td>\n",
       "      <td>1.0</td>\n",
       "      <td>0.0</td>\n",
       "      <td>0.0</td>\n",
       "      <td>0.0</td>\n",
       "      <td>0.0</td>\n",
       "      <td>0.0</td>\n",
       "      <td>0.0</td>\n",
       "      <td>0.0</td>\n",
       "    </tr>\n",
       "  </tbody>\n",
       "</table>\n",
       "<p>5 rows × 1320 columns</p>\n",
       "</div>"
      ],
      "text/plain": [
       "                                                              0    \\\n",
       "                                 ae264e3637204a6fb9bb56bc8210ddfd   \n",
       "person                                                              \n",
       "0009655768c64bdeb2e877511632db8f                              0.0   \n",
       "00116118485d4dfda04fdbaba9a87b5c                              0.0   \n",
       "0011e0d4e6b944f998e987f904e8c1e5                              0.0   \n",
       "0020c2b971eb4e9188eac86d93036a77                              0.0   \n",
       "0020ccbbb6d84e358d3414a3ff76cffd                              0.0   \n",
       "\n",
       "                                                                   \\\n",
       "                                 4d5c57ea9a6940dd891ad53e9dbe8da0   \n",
       "person                                                              \n",
       "0009655768c64bdeb2e877511632db8f                              0.0   \n",
       "00116118485d4dfda04fdbaba9a87b5c                              0.0   \n",
       "0011e0d4e6b944f998e987f904e8c1e5                              0.0   \n",
       "0020c2b971eb4e9188eac86d93036a77                              0.0   \n",
       "0020ccbbb6d84e358d3414a3ff76cffd                              0.0   \n",
       "\n",
       "                                                                   \\\n",
       "                                 3f207df678b143eea3cee63160fa8bed   \n",
       "person                                                              \n",
       "0009655768c64bdeb2e877511632db8f                              0.0   \n",
       "00116118485d4dfda04fdbaba9a87b5c                              0.0   \n",
       "0011e0d4e6b944f998e987f904e8c1e5                              1.0   \n",
       "0020c2b971eb4e9188eac86d93036a77                              0.0   \n",
       "0020ccbbb6d84e358d3414a3ff76cffd                              0.0   \n",
       "\n",
       "                                                                   \\\n",
       "                                 9b98b8c7a33c4b65b9aebfe6a799e6d9   \n",
       "person                                                              \n",
       "0009655768c64bdeb2e877511632db8f                              0.0   \n",
       "00116118485d4dfda04fdbaba9a87b5c                              0.0   \n",
       "0011e0d4e6b944f998e987f904e8c1e5                              0.0   \n",
       "0020c2b971eb4e9188eac86d93036a77                              0.0   \n",
       "0020ccbbb6d84e358d3414a3ff76cffd                              0.0   \n",
       "\n",
       "                                                                   \\\n",
       "                                 0b1e1539f2cc45b7b9fa7c272da2e1d7   \n",
       "person                                                              \n",
       "0009655768c64bdeb2e877511632db8f                              0.0   \n",
       "00116118485d4dfda04fdbaba9a87b5c                              0.0   \n",
       "0011e0d4e6b944f998e987f904e8c1e5                              0.0   \n",
       "0020c2b971eb4e9188eac86d93036a77                              0.0   \n",
       "0020ccbbb6d84e358d3414a3ff76cffd                              0.0   \n",
       "\n",
       "                                                                   \\\n",
       "                                 2298d6c36e964ae4a3e7e9706d1fb8c2   \n",
       "person                                                              \n",
       "0009655768c64bdeb2e877511632db8f                              0.0   \n",
       "00116118485d4dfda04fdbaba9a87b5c                              0.0   \n",
       "0011e0d4e6b944f998e987f904e8c1e5                              0.0   \n",
       "0020c2b971eb4e9188eac86d93036a77                              0.0   \n",
       "0020ccbbb6d84e358d3414a3ff76cffd                              0.0   \n",
       "\n",
       "                                                                   \\\n",
       "                                 fafdcd668e3743c1bb461111dcafc2a4   \n",
       "person                                                              \n",
       "0009655768c64bdeb2e877511632db8f                              0.0   \n",
       "00116118485d4dfda04fdbaba9a87b5c                              0.0   \n",
       "0011e0d4e6b944f998e987f904e8c1e5                              0.0   \n",
       "0020c2b971eb4e9188eac86d93036a77                              1.0   \n",
       "0020ccbbb6d84e358d3414a3ff76cffd                              0.0   \n",
       "\n",
       "                                                                   \\\n",
       "                                 5a8bc65990b245e5a138643cd4eb9837   \n",
       "person                                                              \n",
       "0009655768c64bdeb2e877511632db8f                              0.0   \n",
       "00116118485d4dfda04fdbaba9a87b5c                              0.0   \n",
       "0011e0d4e6b944f998e987f904e8c1e5                              0.0   \n",
       "0020c2b971eb4e9188eac86d93036a77                              0.0   \n",
       "0020ccbbb6d84e358d3414a3ff76cffd                              0.0   \n",
       "\n",
       "                                                                   \\\n",
       "                                 f19421c1d4aa40978ebb69ca19b0e20d   \n",
       "person                                                              \n",
       "0009655768c64bdeb2e877511632db8f                              0.0   \n",
       "00116118485d4dfda04fdbaba9a87b5c                              0.0   \n",
       "0011e0d4e6b944f998e987f904e8c1e5                              0.0   \n",
       "0020c2b971eb4e9188eac86d93036a77                              0.0   \n",
       "0020ccbbb6d84e358d3414a3ff76cffd                              0.0   \n",
       "\n",
       "                                                                    ...     \\\n",
       "                                 2906b810c7d4411798c6938adc9daaa5   ...      \n",
       "person                                                              ...      \n",
       "0009655768c64bdeb2e877511632db8f                              0.0   ...      \n",
       "00116118485d4dfda04fdbaba9a87b5c                              0.0   ...      \n",
       "0011e0d4e6b944f998e987f904e8c1e5                              0.0   ...      \n",
       "0020c2b971eb4e9188eac86d93036a77                              0.0   ...      \n",
       "0020ccbbb6d84e358d3414a3ff76cffd                              0.0   ...      \n",
       "\n",
       "                                                              714  \\\n",
       "                                 4d5c57ea9a6940dd891ad53e9dbe8da0   \n",
       "person                                                              \n",
       "0009655768c64bdeb2e877511632db8f                              0.0   \n",
       "00116118485d4dfda04fdbaba9a87b5c                              0.0   \n",
       "0011e0d4e6b944f998e987f904e8c1e5                              0.0   \n",
       "0020c2b971eb4e9188eac86d93036a77                              0.0   \n",
       "0020ccbbb6d84e358d3414a3ff76cffd                              0.0   \n",
       "\n",
       "                                                                   \\\n",
       "                                 3f207df678b143eea3cee63160fa8bed   \n",
       "person                                                              \n",
       "0009655768c64bdeb2e877511632db8f                              0.0   \n",
       "00116118485d4dfda04fdbaba9a87b5c                              0.0   \n",
       "0011e0d4e6b944f998e987f904e8c1e5                              0.0   \n",
       "0020c2b971eb4e9188eac86d93036a77                              0.0   \n",
       "0020ccbbb6d84e358d3414a3ff76cffd                              0.0   \n",
       "\n",
       "                                                                   \\\n",
       "                                 9b98b8c7a33c4b65b9aebfe6a799e6d9   \n",
       "person                                                              \n",
       "0009655768c64bdeb2e877511632db8f                              0.0   \n",
       "00116118485d4dfda04fdbaba9a87b5c                              0.0   \n",
       "0011e0d4e6b944f998e987f904e8c1e5                              1.0   \n",
       "0020c2b971eb4e9188eac86d93036a77                              0.0   \n",
       "0020ccbbb6d84e358d3414a3ff76cffd                              1.0   \n",
       "\n",
       "                                                                   \\\n",
       "                                 0b1e1539f2cc45b7b9fa7c272da2e1d7   \n",
       "person                                                              \n",
       "0009655768c64bdeb2e877511632db8f                              0.0   \n",
       "00116118485d4dfda04fdbaba9a87b5c                              0.0   \n",
       "0011e0d4e6b944f998e987f904e8c1e5                              0.0   \n",
       "0020c2b971eb4e9188eac86d93036a77                              0.0   \n",
       "0020ccbbb6d84e358d3414a3ff76cffd                              0.0   \n",
       "\n",
       "                                                                   \\\n",
       "                                 2298d6c36e964ae4a3e7e9706d1fb8c2   \n",
       "person                                                              \n",
       "0009655768c64bdeb2e877511632db8f                              0.0   \n",
       "00116118485d4dfda04fdbaba9a87b5c                              0.0   \n",
       "0011e0d4e6b944f998e987f904e8c1e5                              0.0   \n",
       "0020c2b971eb4e9188eac86d93036a77                              0.0   \n",
       "0020ccbbb6d84e358d3414a3ff76cffd                              0.0   \n",
       "\n",
       "                                                                   \\\n",
       "                                 fafdcd668e3743c1bb461111dcafc2a4   \n",
       "person                                                              \n",
       "0009655768c64bdeb2e877511632db8f                              1.0   \n",
       "00116118485d4dfda04fdbaba9a87b5c                              0.0   \n",
       "0011e0d4e6b944f998e987f904e8c1e5                              0.0   \n",
       "0020c2b971eb4e9188eac86d93036a77                              0.0   \n",
       "0020ccbbb6d84e358d3414a3ff76cffd                              0.0   \n",
       "\n",
       "                                                                   \\\n",
       "                                 5a8bc65990b245e5a138643cd4eb9837   \n",
       "person                                                              \n",
       "0009655768c64bdeb2e877511632db8f                              0.0   \n",
       "00116118485d4dfda04fdbaba9a87b5c                              0.0   \n",
       "0011e0d4e6b944f998e987f904e8c1e5                              0.0   \n",
       "0020c2b971eb4e9188eac86d93036a77                              1.0   \n",
       "0020ccbbb6d84e358d3414a3ff76cffd                              0.0   \n",
       "\n",
       "                                                                   \\\n",
       "                                 f19421c1d4aa40978ebb69ca19b0e20d   \n",
       "person                                                              \n",
       "0009655768c64bdeb2e877511632db8f                              0.0   \n",
       "00116118485d4dfda04fdbaba9a87b5c                              1.0   \n",
       "0011e0d4e6b944f998e987f904e8c1e5                              0.0   \n",
       "0020c2b971eb4e9188eac86d93036a77                              0.0   \n",
       "0020ccbbb6d84e358d3414a3ff76cffd                              0.0   \n",
       "\n",
       "                                                                            \n",
       "                                 2906b810c7d4411798c6938adc9daaa5 no_offer  \n",
       "person                                                                      \n",
       "0009655768c64bdeb2e877511632db8f                              1.0      0.0  \n",
       "00116118485d4dfda04fdbaba9a87b5c                              0.0      0.0  \n",
       "0011e0d4e6b944f998e987f904e8c1e5                              0.0      0.0  \n",
       "0020c2b971eb4e9188eac86d93036a77                              0.0      0.0  \n",
       "0020ccbbb6d84e358d3414a3ff76cffd                              0.0      0.0  \n",
       "\n",
       "[5 rows x 1320 columns]"
      ]
     },
     "execution_count": 35,
     "metadata": {},
     "output_type": "execute_result"
    }
   ],
   "source": [
    "multi_offer_times.head()"
   ]
  },
  {
   "cell_type": "code",
   "execution_count": 36,
   "metadata": {
    "collapsed": false
   },
   "outputs": [
    {
     "data": {
      "text/plain": [
       "0    ae264e3637204a6fb9bb56bc8210ddfd    0.0\n",
       "     4d5c57ea9a6940dd891ad53e9dbe8da0    0.0\n",
       "     3f207df678b143eea3cee63160fa8bed    0.0\n",
       "     9b98b8c7a33c4b65b9aebfe6a799e6d9    0.0\n",
       "     0b1e1539f2cc45b7b9fa7c272da2e1d7    0.0\n",
       "     2298d6c36e964ae4a3e7e9706d1fb8c2    0.0\n",
       "     fafdcd668e3743c1bb461111dcafc2a4    0.0\n",
       "     5a8bc65990b245e5a138643cd4eb9837    0.0\n",
       "     f19421c1d4aa40978ebb69ca19b0e20d    0.0\n",
       "     2906b810c7d4411798c6938adc9daaa5    0.0\n",
       "     no_offer                            1.0\n",
       "6    ae264e3637204a6fb9bb56bc8210ddfd    0.0\n",
       "     4d5c57ea9a6940dd891ad53e9dbe8da0    0.0\n",
       "     3f207df678b143eea3cee63160fa8bed    0.0\n",
       "     9b98b8c7a33c4b65b9aebfe6a799e6d9    0.0\n",
       "     0b1e1539f2cc45b7b9fa7c272da2e1d7    0.0\n",
       "     2298d6c36e964ae4a3e7e9706d1fb8c2    0.0\n",
       "     fafdcd668e3743c1bb461111dcafc2a4    0.0\n",
       "     5a8bc65990b245e5a138643cd4eb9837    0.0\n",
       "     f19421c1d4aa40978ebb69ca19b0e20d    0.0\n",
       "     2906b810c7d4411798c6938adc9daaa5    0.0\n",
       "     no_offer                            1.0\n",
       "12   ae264e3637204a6fb9bb56bc8210ddfd    0.0\n",
       "     4d5c57ea9a6940dd891ad53e9dbe8da0    0.0\n",
       "     3f207df678b143eea3cee63160fa8bed    0.0\n",
       "     9b98b8c7a33c4b65b9aebfe6a799e6d9    0.0\n",
       "     0b1e1539f2cc45b7b9fa7c272da2e1d7    0.0\n",
       "     2298d6c36e964ae4a3e7e9706d1fb8c2    0.0\n",
       "     fafdcd668e3743c1bb461111dcafc2a4    0.0\n",
       "     5a8bc65990b245e5a138643cd4eb9837    0.0\n",
       "                                        ... \n",
       "702  9b98b8c7a33c4b65b9aebfe6a799e6d9    0.0\n",
       "     0b1e1539f2cc45b7b9fa7c272da2e1d7    0.0\n",
       "     2298d6c36e964ae4a3e7e9706d1fb8c2    0.0\n",
       "     fafdcd668e3743c1bb461111dcafc2a4    1.0\n",
       "     5a8bc65990b245e5a138643cd4eb9837    0.0\n",
       "     f19421c1d4aa40978ebb69ca19b0e20d    0.0\n",
       "     2906b810c7d4411798c6938adc9daaa5    1.0\n",
       "     no_offer                            0.0\n",
       "708  ae264e3637204a6fb9bb56bc8210ddfd    0.0\n",
       "     4d5c57ea9a6940dd891ad53e9dbe8da0    0.0\n",
       "     3f207df678b143eea3cee63160fa8bed    0.0\n",
       "     9b98b8c7a33c4b65b9aebfe6a799e6d9    0.0\n",
       "     0b1e1539f2cc45b7b9fa7c272da2e1d7    0.0\n",
       "     2298d6c36e964ae4a3e7e9706d1fb8c2    0.0\n",
       "     fafdcd668e3743c1bb461111dcafc2a4    1.0\n",
       "     5a8bc65990b245e5a138643cd4eb9837    0.0\n",
       "     f19421c1d4aa40978ebb69ca19b0e20d    0.0\n",
       "     2906b810c7d4411798c6938adc9daaa5    1.0\n",
       "     no_offer                            0.0\n",
       "714  ae264e3637204a6fb9bb56bc8210ddfd    0.0\n",
       "     4d5c57ea9a6940dd891ad53e9dbe8da0    0.0\n",
       "     3f207df678b143eea3cee63160fa8bed    0.0\n",
       "     9b98b8c7a33c4b65b9aebfe6a799e6d9    0.0\n",
       "     0b1e1539f2cc45b7b9fa7c272da2e1d7    0.0\n",
       "     2298d6c36e964ae4a3e7e9706d1fb8c2    0.0\n",
       "     fafdcd668e3743c1bb461111dcafc2a4    1.0\n",
       "     5a8bc65990b245e5a138643cd4eb9837    0.0\n",
       "     f19421c1d4aa40978ebb69ca19b0e20d    0.0\n",
       "     2906b810c7d4411798c6938adc9daaa5    1.0\n",
       "     no_offer                            0.0\n",
       "Length: 1320, dtype: float64"
      ]
     },
     "execution_count": 36,
     "metadata": {},
     "output_type": "execute_result"
    }
   ],
   "source": [
    "offer_times = get_offers_ts(user, portfolio, data, viewed=False)\n",
    "offer_times.stack()"
   ]
  },
  {
   "cell_type": "markdown",
   "metadata": {},
   "source": [
    "## 1) Let's get the spent money in 10 days from the offer reception, without taking into account the overlapping or the views."
   ]
  },
  {
   "cell_type": "code",
   "execution_count": 37,
   "metadata": {
    "collapsed": false
   },
   "outputs": [
    {
     "name": "stdout",
     "output_type": "stream",
     "text": [
      "CPU times: user 3.45 s, sys: 16 ms, total: 3.47 s\n",
      "Wall time: 2.31 s\n"
     ]
    }
   ],
   "source": [
    "# Get the data\n",
    "static_data = pd.read_pickle(STATIC_DATASET_PATH)\n",
    "portfolio = pd.read_json(os.path.join(DATA_RAW, 'portfolio.json'), orient='records', lines=True)\n",
    "profile = pd.read_json(os.path.join(DATA_RAW, 'profile.json'), orient='records', lines=True)\n",
    "transcript = pd.read_json(os.path.join(DATA_RAW, 'transcript.json'), orient='records', lines=True)\n",
    "\n",
    "%time data, portfolio = pp.basic_preprocessing(portfolio, profile, transcript)\n",
    "received, viewed, completed, transactions = pp.split_transcript(data)"
   ]
  },
  {
   "cell_type": "code",
   "execution_count": 38,
   "metadata": {
    "collapsed": false
   },
   "outputs": [
    {
     "data": {
      "text/plain": [
       "(76277, 132)"
      ]
     },
     "execution_count": 38,
     "metadata": {},
     "output_type": "execute_result"
    }
   ],
   "source": [
    "static_data.shape"
   ]
  },
  {
   "cell_type": "code",
   "execution_count": 39,
   "metadata": {
    "collapsed": false
   },
   "outputs": [
    {
     "data": {
      "text/html": [
       "<div>\n",
       "<style scoped>\n",
       "    .dataframe tbody tr th:only-of-type {\n",
       "        vertical-align: middle;\n",
       "    }\n",
       "\n",
       "    .dataframe tbody tr th {\n",
       "        vertical-align: top;\n",
       "    }\n",
       "\n",
       "    .dataframe thead th {\n",
       "        text-align: right;\n",
       "    }\n",
       "</style>\n",
       "<table border=\"1\" class=\"dataframe\">\n",
       "  <thead>\n",
       "    <tr style=\"text-align: right;\">\n",
       "      <th></th>\n",
       "      <th>event</th>\n",
       "      <th>person</th>\n",
       "      <th>time</th>\n",
       "      <th>amount</th>\n",
       "      <th>offer_id</th>\n",
       "      <th>reward</th>\n",
       "      <th>age</th>\n",
       "      <th>became_member_on</th>\n",
       "      <th>gender</th>\n",
       "      <th>income</th>\n",
       "      <th>missing_demographics</th>\n",
       "      <th>member_epoch_days</th>\n",
       "      <th>difficulty</th>\n",
       "      <th>duration</th>\n",
       "      <th>offer_type</th>\n",
       "      <th>reward_t</th>\n",
       "      <th>channel_mobile</th>\n",
       "      <th>channel_social</th>\n",
       "      <th>channel_email</th>\n",
       "      <th>channel_web</th>\n",
       "    </tr>\n",
       "  </thead>\n",
       "  <tbody>\n",
       "    <tr>\n",
       "      <th>12654</th>\n",
       "      <td>transaction</td>\n",
       "      <td>02c083884c7d45b39cc68e1314fec56c</td>\n",
       "      <td>0</td>\n",
       "      <td>0.83</td>\n",
       "      <td>NaN</td>\n",
       "      <td>NaN</td>\n",
       "      <td>20.0</td>\n",
       "      <td>2016-07-11</td>\n",
       "      <td>F</td>\n",
       "      <td>30000.0</td>\n",
       "      <td>0</td>\n",
       "      <td>16993</td>\n",
       "      <td>NaN</td>\n",
       "      <td>NaN</td>\n",
       "      <td>NaN</td>\n",
       "      <td>NaN</td>\n",
       "      <td>NaN</td>\n",
       "      <td>NaN</td>\n",
       "      <td>NaN</td>\n",
       "      <td>NaN</td>\n",
       "    </tr>\n",
       "    <tr>\n",
       "      <th>12657</th>\n",
       "      <td>transaction</td>\n",
       "      <td>9fa9ae8f57894cc9a3b8a9bbe0fc1b2f</td>\n",
       "      <td>0</td>\n",
       "      <td>34.56</td>\n",
       "      <td>NaN</td>\n",
       "      <td>NaN</td>\n",
       "      <td>42.0</td>\n",
       "      <td>2016-01-17</td>\n",
       "      <td>M</td>\n",
       "      <td>96000.0</td>\n",
       "      <td>0</td>\n",
       "      <td>16817</td>\n",
       "      <td>NaN</td>\n",
       "      <td>NaN</td>\n",
       "      <td>NaN</td>\n",
       "      <td>NaN</td>\n",
       "      <td>NaN</td>\n",
       "      <td>NaN</td>\n",
       "      <td>NaN</td>\n",
       "      <td>NaN</td>\n",
       "    </tr>\n",
       "    <tr>\n",
       "      <th>12659</th>\n",
       "      <td>transaction</td>\n",
       "      <td>54890f68699049c2a04d415abc25e717</td>\n",
       "      <td>0</td>\n",
       "      <td>13.23</td>\n",
       "      <td>NaN</td>\n",
       "      <td>NaN</td>\n",
       "      <td>36.0</td>\n",
       "      <td>2017-12-28</td>\n",
       "      <td>M</td>\n",
       "      <td>56000.0</td>\n",
       "      <td>0</td>\n",
       "      <td>17528</td>\n",
       "      <td>NaN</td>\n",
       "      <td>NaN</td>\n",
       "      <td>NaN</td>\n",
       "      <td>NaN</td>\n",
       "      <td>NaN</td>\n",
       "      <td>NaN</td>\n",
       "      <td>NaN</td>\n",
       "      <td>NaN</td>\n",
       "    </tr>\n",
       "    <tr>\n",
       "      <th>12670</th>\n",
       "      <td>transaction</td>\n",
       "      <td>b2f1cd155b864803ad8334cdf13c4bd2</td>\n",
       "      <td>0</td>\n",
       "      <td>19.51</td>\n",
       "      <td>NaN</td>\n",
       "      <td>NaN</td>\n",
       "      <td>55.0</td>\n",
       "      <td>2017-10-16</td>\n",
       "      <td>F</td>\n",
       "      <td>94000.0</td>\n",
       "      <td>0</td>\n",
       "      <td>17455</td>\n",
       "      <td>NaN</td>\n",
       "      <td>NaN</td>\n",
       "      <td>NaN</td>\n",
       "      <td>NaN</td>\n",
       "      <td>NaN</td>\n",
       "      <td>NaN</td>\n",
       "      <td>NaN</td>\n",
       "      <td>NaN</td>\n",
       "    </tr>\n",
       "    <tr>\n",
       "      <th>12671</th>\n",
       "      <td>transaction</td>\n",
       "      <td>fe97aa22dd3e48c8b143116a8403dd52</td>\n",
       "      <td>0</td>\n",
       "      <td>18.97</td>\n",
       "      <td>NaN</td>\n",
       "      <td>NaN</td>\n",
       "      <td>39.0</td>\n",
       "      <td>2017-12-17</td>\n",
       "      <td>F</td>\n",
       "      <td>67000.0</td>\n",
       "      <td>0</td>\n",
       "      <td>17517</td>\n",
       "      <td>NaN</td>\n",
       "      <td>NaN</td>\n",
       "      <td>NaN</td>\n",
       "      <td>NaN</td>\n",
       "      <td>NaN</td>\n",
       "      <td>NaN</td>\n",
       "      <td>NaN</td>\n",
       "      <td>NaN</td>\n",
       "    </tr>\n",
       "  </tbody>\n",
       "</table>\n",
       "</div>"
      ],
      "text/plain": [
       "             event                            person  time  amount offer_id  \\\n",
       "12654  transaction  02c083884c7d45b39cc68e1314fec56c     0    0.83      NaN   \n",
       "12657  transaction  9fa9ae8f57894cc9a3b8a9bbe0fc1b2f     0   34.56      NaN   \n",
       "12659  transaction  54890f68699049c2a04d415abc25e717     0   13.23      NaN   \n",
       "12670  transaction  b2f1cd155b864803ad8334cdf13c4bd2     0   19.51      NaN   \n",
       "12671  transaction  fe97aa22dd3e48c8b143116a8403dd52     0   18.97      NaN   \n",
       "\n",
       "       reward   age became_member_on gender   income  missing_demographics  \\\n",
       "12654     NaN  20.0       2016-07-11      F  30000.0                     0   \n",
       "12657     NaN  42.0       2016-01-17      M  96000.0                     0   \n",
       "12659     NaN  36.0       2017-12-28      M  56000.0                     0   \n",
       "12670     NaN  55.0       2017-10-16      F  94000.0                     0   \n",
       "12671     NaN  39.0       2017-12-17      F  67000.0                     0   \n",
       "\n",
       "       member_epoch_days  difficulty  duration offer_type  reward_t  \\\n",
       "12654              16993         NaN       NaN        NaN       NaN   \n",
       "12657              16817         NaN       NaN        NaN       NaN   \n",
       "12659              17528         NaN       NaN        NaN       NaN   \n",
       "12670              17455         NaN       NaN        NaN       NaN   \n",
       "12671              17517         NaN       NaN        NaN       NaN   \n",
       "\n",
       "       channel_mobile  channel_social  channel_email  channel_web  \n",
       "12654             NaN             NaN            NaN          NaN  \n",
       "12657             NaN             NaN            NaN          NaN  \n",
       "12659             NaN             NaN            NaN          NaN  \n",
       "12670             NaN             NaN            NaN          NaN  \n",
       "12671             NaN             NaN            NaN          NaN  "
      ]
     },
     "execution_count": 39,
     "metadata": {},
     "output_type": "execute_result"
    }
   ],
   "source": [
    "transactions.head()"
   ]
  },
  {
   "cell_type": "code",
   "execution_count": 40,
   "metadata": {
    "collapsed": true
   },
   "outputs": [],
   "source": [
    "from tqdm import tqdm"
   ]
  },
  {
   "cell_type": "code",
   "execution_count": 41,
   "metadata": {
    "collapsed": false
   },
   "outputs": [],
   "source": [
    "# TODO: Make a function out of the code below..."
   ]
  },
  {
   "cell_type": "code",
   "execution_count": 42,
   "metadata": {
    "collapsed": true
   },
   "outputs": [],
   "source": [
    "def get_spent_days_static(static_data, preprocessed_data, days=10*24):\n",
    "    \"\"\"\n",
    "    Get a static data version of the profit N days dataset.\n",
    "    Calculates the total money spent for each customer, in the 10 days after\n",
    "    an offer is shown.\n",
    "    Args:\n",
    "        static_data(dataframe): The 'offer success' version of the static data.\n",
    "        preprocessed_data(dataframe): the result of 'basic_preprocessing'.\n",
    "        days(int): The number of days to calculate the profits.\n",
    "    \"\"\"\n",
    "    received, viewed, completed, transactions = pp.split_transcript(preprocessed_data)\n",
    "    \n",
    "    results = list()\n",
    "    for idx, row in tqdm(list(static_data.iterrows())):\n",
    "        record = dict()\n",
    "    \n",
    "        # Id of the record\n",
    "        record['person'] = row.person\n",
    "        record['time'] = row.time\n",
    "        record['offer_id'] = row.offer_id\n",
    "    \n",
    "        record['spent_10_days'] = transactions[(transactions.person == row.person) &\n",
    "                                               (transactions.time > row.time) &\n",
    "                                               (transactions.time <= row.time + days)\n",
    "                                              ].amount.sum()\n",
    "        results.append(record)\n",
    "    \n",
    "    return static_data.merge(pd.DataFrame(results), \n",
    "                             on=['person', 'time', 'offer_id'], how='left')"
   ]
  },
  {
   "cell_type": "code",
   "execution_count": 45,
   "metadata": {
    "collapsed": false
   },
   "outputs": [
    {
     "name": "stderr",
     "output_type": "stream",
     "text": [
      "100%|██████████| 76277/76277 [25:24<00:00, 50.02it/s]\n"
     ]
    }
   ],
   "source": [
    "filled = get_spent_days_static(static_data, data)"
   ]
  },
  {
   "cell_type": "code",
   "execution_count": 46,
   "metadata": {
    "collapsed": false
   },
   "outputs": [
    {
     "name": "stdout",
     "output_type": "stream",
     "text": [
      "(76277, 133)\n"
     ]
    },
    {
     "data": {
      "text/html": [
       "<div>\n",
       "<style scoped>\n",
       "    .dataframe tbody tr th:only-of-type {\n",
       "        vertical-align: middle;\n",
       "    }\n",
       "\n",
       "    .dataframe tbody tr th {\n",
       "        vertical-align: top;\n",
       "    }\n",
       "\n",
       "    .dataframe thead th {\n",
       "        text-align: right;\n",
       "    }\n",
       "</style>\n",
       "<table border=\"1\" class=\"dataframe\">\n",
       "  <thead>\n",
       "    <tr style=\"text-align: right;\">\n",
       "      <th></th>\n",
       "      <th>person</th>\n",
       "      <th>time</th>\n",
       "      <th>offer_id</th>\n",
       "      <th>age</th>\n",
       "      <th>became_member_on</th>\n",
       "      <th>gender</th>\n",
       "      <th>income</th>\n",
       "      <th>missing_demographics</th>\n",
       "      <th>member_epoch_days</th>\n",
       "      <th>difficulty</th>\n",
       "      <th>...</th>\n",
       "      <th>reward_10.0_success_ratio</th>\n",
       "      <th>reward_0.0_success_ratio</th>\n",
       "      <th>reward_5.0_success_ratio</th>\n",
       "      <th>reward_3.0_success_ratio</th>\n",
       "      <th>reward_2.0_success_ratio</th>\n",
       "      <th>channel_web_success_ratio</th>\n",
       "      <th>channel_email_success_ratio</th>\n",
       "      <th>channel_social_success_ratio</th>\n",
       "      <th>channel_mobile_success_ratio</th>\n",
       "      <th>spent_10_days</th>\n",
       "    </tr>\n",
       "  </thead>\n",
       "  <tbody>\n",
       "    <tr>\n",
       "      <th>0</th>\n",
       "      <td>0009655768c64bdeb2e877511632db8f</td>\n",
       "      <td>168</td>\n",
       "      <td>5a8bc65990b245e5a138643cd4eb9837</td>\n",
       "      <td>33.0</td>\n",
       "      <td>2017-04-21</td>\n",
       "      <td>M</td>\n",
       "      <td>72000.0</td>\n",
       "      <td>0</td>\n",
       "      <td>17277</td>\n",
       "      <td>0.0</td>\n",
       "      <td>...</td>\n",
       "      <td>0.0</td>\n",
       "      <td>0.0</td>\n",
       "      <td>0.0</td>\n",
       "      <td>0.0</td>\n",
       "      <td>0.0</td>\n",
       "      <td>0.0</td>\n",
       "      <td>0.0</td>\n",
       "      <td>0.0</td>\n",
       "      <td>0.0</td>\n",
       "      <td>22.16</td>\n",
       "    </tr>\n",
       "    <tr>\n",
       "      <th>1</th>\n",
       "      <td>0009655768c64bdeb2e877511632db8f</td>\n",
       "      <td>336</td>\n",
       "      <td>3f207df678b143eea3cee63160fa8bed</td>\n",
       "      <td>33.0</td>\n",
       "      <td>2017-04-21</td>\n",
       "      <td>M</td>\n",
       "      <td>72000.0</td>\n",
       "      <td>0</td>\n",
       "      <td>17277</td>\n",
       "      <td>0.0</td>\n",
       "      <td>...</td>\n",
       "      <td>0.0</td>\n",
       "      <td>0.0</td>\n",
       "      <td>0.0</td>\n",
       "      <td>0.0</td>\n",
       "      <td>0.0</td>\n",
       "      <td>0.0</td>\n",
       "      <td>0.0</td>\n",
       "      <td>0.0</td>\n",
       "      <td>0.0</td>\n",
       "      <td>46.51</td>\n",
       "    </tr>\n",
       "    <tr>\n",
       "      <th>2</th>\n",
       "      <td>0009655768c64bdeb2e877511632db8f</td>\n",
       "      <td>408</td>\n",
       "      <td>f19421c1d4aa40978ebb69ca19b0e20d</td>\n",
       "      <td>33.0</td>\n",
       "      <td>2017-04-21</td>\n",
       "      <td>M</td>\n",
       "      <td>72000.0</td>\n",
       "      <td>0</td>\n",
       "      <td>17277</td>\n",
       "      <td>5.0</td>\n",
       "      <td>...</td>\n",
       "      <td>0.0</td>\n",
       "      <td>0.0</td>\n",
       "      <td>0.0</td>\n",
       "      <td>0.0</td>\n",
       "      <td>0.0</td>\n",
       "      <td>0.0</td>\n",
       "      <td>0.0</td>\n",
       "      <td>0.0</td>\n",
       "      <td>0.0</td>\n",
       "      <td>46.51</td>\n",
       "    </tr>\n",
       "    <tr>\n",
       "      <th>3</th>\n",
       "      <td>0009655768c64bdeb2e877511632db8f</td>\n",
       "      <td>504</td>\n",
       "      <td>fafdcd668e3743c1bb461111dcafc2a4</td>\n",
       "      <td>33.0</td>\n",
       "      <td>2017-04-21</td>\n",
       "      <td>M</td>\n",
       "      <td>72000.0</td>\n",
       "      <td>0</td>\n",
       "      <td>17277</td>\n",
       "      <td>10.0</td>\n",
       "      <td>...</td>\n",
       "      <td>0.0</td>\n",
       "      <td>0.0</td>\n",
       "      <td>0.0</td>\n",
       "      <td>0.0</td>\n",
       "      <td>0.0</td>\n",
       "      <td>0.0</td>\n",
       "      <td>0.0</td>\n",
       "      <td>0.0</td>\n",
       "      <td>0.0</td>\n",
       "      <td>96.87</td>\n",
       "    </tr>\n",
       "    <tr>\n",
       "      <th>4</th>\n",
       "      <td>0009655768c64bdeb2e877511632db8f</td>\n",
       "      <td>576</td>\n",
       "      <td>2906b810c7d4411798c6938adc9daaa5</td>\n",
       "      <td>33.0</td>\n",
       "      <td>2017-04-21</td>\n",
       "      <td>M</td>\n",
       "      <td>72000.0</td>\n",
       "      <td>0</td>\n",
       "      <td>17277</td>\n",
       "      <td>10.0</td>\n",
       "      <td>...</td>\n",
       "      <td>0.0</td>\n",
       "      <td>0.0</td>\n",
       "      <td>0.0</td>\n",
       "      <td>0.0</td>\n",
       "      <td>0.0</td>\n",
       "      <td>0.0</td>\n",
       "      <td>0.0</td>\n",
       "      <td>0.0</td>\n",
       "      <td>0.0</td>\n",
       "      <td>58.93</td>\n",
       "    </tr>\n",
       "  </tbody>\n",
       "</table>\n",
       "<p>5 rows × 133 columns</p>\n",
       "</div>"
      ],
      "text/plain": [
       "                             person  time                          offer_id  \\\n",
       "0  0009655768c64bdeb2e877511632db8f   168  5a8bc65990b245e5a138643cd4eb9837   \n",
       "1  0009655768c64bdeb2e877511632db8f   336  3f207df678b143eea3cee63160fa8bed   \n",
       "2  0009655768c64bdeb2e877511632db8f   408  f19421c1d4aa40978ebb69ca19b0e20d   \n",
       "3  0009655768c64bdeb2e877511632db8f   504  fafdcd668e3743c1bb461111dcafc2a4   \n",
       "4  0009655768c64bdeb2e877511632db8f   576  2906b810c7d4411798c6938adc9daaa5   \n",
       "\n",
       "    age became_member_on gender   income  missing_demographics  \\\n",
       "0  33.0       2017-04-21      M  72000.0                     0   \n",
       "1  33.0       2017-04-21      M  72000.0                     0   \n",
       "2  33.0       2017-04-21      M  72000.0                     0   \n",
       "3  33.0       2017-04-21      M  72000.0                     0   \n",
       "4  33.0       2017-04-21      M  72000.0                     0   \n",
       "\n",
       "   member_epoch_days  difficulty      ...        reward_10.0_success_ratio  \\\n",
       "0              17277         0.0      ...                              0.0   \n",
       "1              17277         0.0      ...                              0.0   \n",
       "2              17277         5.0      ...                              0.0   \n",
       "3              17277        10.0      ...                              0.0   \n",
       "4              17277        10.0      ...                              0.0   \n",
       "\n",
       "  reward_0.0_success_ratio  reward_5.0_success_ratio  \\\n",
       "0                      0.0                       0.0   \n",
       "1                      0.0                       0.0   \n",
       "2                      0.0                       0.0   \n",
       "3                      0.0                       0.0   \n",
       "4                      0.0                       0.0   \n",
       "\n",
       "   reward_3.0_success_ratio  reward_2.0_success_ratio  \\\n",
       "0                       0.0                       0.0   \n",
       "1                       0.0                       0.0   \n",
       "2                       0.0                       0.0   \n",
       "3                       0.0                       0.0   \n",
       "4                       0.0                       0.0   \n",
       "\n",
       "   channel_web_success_ratio  channel_email_success_ratio  \\\n",
       "0                        0.0                          0.0   \n",
       "1                        0.0                          0.0   \n",
       "2                        0.0                          0.0   \n",
       "3                        0.0                          0.0   \n",
       "4                        0.0                          0.0   \n",
       "\n",
       "   channel_social_success_ratio  channel_mobile_success_ratio  spent_10_days  \n",
       "0                           0.0                           0.0          22.16  \n",
       "1                           0.0                           0.0          46.51  \n",
       "2                           0.0                           0.0          46.51  \n",
       "3                           0.0                           0.0          96.87  \n",
       "4                           0.0                           0.0          58.93  \n",
       "\n",
       "[5 rows x 133 columns]"
      ]
     },
     "execution_count": 46,
     "metadata": {},
     "output_type": "execute_result"
    }
   ],
   "source": [
    "print(filled.shape)\n",
    "filled.head()"
   ]
  },
  {
   "cell_type": "code",
   "execution_count": 47,
   "metadata": {
    "collapsed": false
   },
   "outputs": [
    {
     "data": {
      "text/plain": [
       "2759280.54"
      ]
     },
     "execution_count": 47,
     "metadata": {},
     "output_type": "execute_result"
    }
   ],
   "source": [
    "filled.spent_10_days.sum()"
   ]
  },
  {
   "cell_type": "code",
   "execution_count": 48,
   "metadata": {
    "collapsed": true
   },
   "outputs": [],
   "source": [
    "filled.to_pickle(os.path.join(DATA_PROCESSED, 'static_spent_10_days.pkl'))"
   ]
  },
  {
   "cell_type": "code",
   "execution_count": 49,
   "metadata": {
    "collapsed": true
   },
   "outputs": [],
   "source": [
    "filled = pd.read_pickle(os.path.join(DATA_PROCESSED, 'static_spent_10_days.pkl'))"
   ]
  },
  {
   "cell_type": "code",
   "execution_count": 50,
   "metadata": {
    "collapsed": false
   },
   "outputs": [
    {
     "data": {
      "text/plain": [
       "<matplotlib.axes._subplots.AxesSubplot at 0x7f0e7aca9518>"
      ]
     },
     "execution_count": 50,
     "metadata": {},
     "output_type": "execute_result"
    },
    {
     "data": {
      "image/png": "[encoded data removed]",
      "text/plain": [
       "<Figure size 432x288 with 1 Axes>"
      ]
     },
     "metadata": {
      "needs_background": "dark"
     },
     "output_type": "display_data"
    }
   ],
   "source": [
    "filled.groupby('offer_id').spent_10_days.sum().sort_values().plot(kind='barh')"
   ]
  },
  {
   "cell_type": "code",
   "execution_count": 51,
   "metadata": {
    "collapsed": false
   },
   "outputs": [
    {
     "data": {
      "text/plain": [
       "<matplotlib.axes._subplots.AxesSubplot at 0x7f0e7acf19e8>"
      ]
     },
     "execution_count": 51,
     "metadata": {},
     "output_type": "execute_result"
    },
    {
     "data": {
      "image/png": "[encoded data removed]",
      "text/plain": [
       "<Figure size 432x288 with 1 Axes>"
      ]
     },
     "metadata": {
      "needs_background": "dark"
     },
     "output_type": "display_data"
    }
   ],
   "source": [
    "filled.groupby('offer_id').spent_10_days.mean().sort_values().plot(kind='barh')"
   ]
  },
  {
   "cell_type": "code",
   "execution_count": 52,
   "metadata": {
    "collapsed": false
   },
   "outputs": [
    {
     "data": {
      "text/html": [
       "<div>\n",
       "<style scoped>\n",
       "    .dataframe tbody tr th:only-of-type {\n",
       "        vertical-align: middle;\n",
       "    }\n",
       "\n",
       "    .dataframe tbody tr th {\n",
       "        vertical-align: top;\n",
       "    }\n",
       "\n",
       "    .dataframe thead th {\n",
       "        text-align: right;\n",
       "    }\n",
       "</style>\n",
       "<table border=\"1\" class=\"dataframe\">\n",
       "  <thead>\n",
       "    <tr style=\"text-align: right;\">\n",
       "      <th></th>\n",
       "      <th>difficulty</th>\n",
       "      <th>duration</th>\n",
       "      <th>id</th>\n",
       "      <th>offer_type</th>\n",
       "      <th>reward</th>\n",
       "      <th>channel_mobile</th>\n",
       "      <th>channel_social</th>\n",
       "      <th>channel_email</th>\n",
       "      <th>channel_web</th>\n",
       "    </tr>\n",
       "  </thead>\n",
       "  <tbody>\n",
       "    <tr>\n",
       "      <th>0</th>\n",
       "      <td>10</td>\n",
       "      <td>7</td>\n",
       "      <td>ae264e3637204a6fb9bb56bc8210ddfd</td>\n",
       "      <td>bogo</td>\n",
       "      <td>10</td>\n",
       "      <td>1</td>\n",
       "      <td>1</td>\n",
       "      <td>1</td>\n",
       "      <td>0</td>\n",
       "    </tr>\n",
       "    <tr>\n",
       "      <th>1</th>\n",
       "      <td>10</td>\n",
       "      <td>5</td>\n",
       "      <td>4d5c57ea9a6940dd891ad53e9dbe8da0</td>\n",
       "      <td>bogo</td>\n",
       "      <td>10</td>\n",
       "      <td>1</td>\n",
       "      <td>1</td>\n",
       "      <td>1</td>\n",
       "      <td>1</td>\n",
       "    </tr>\n",
       "    <tr>\n",
       "      <th>2</th>\n",
       "      <td>0</td>\n",
       "      <td>4</td>\n",
       "      <td>3f207df678b143eea3cee63160fa8bed</td>\n",
       "      <td>informational</td>\n",
       "      <td>0</td>\n",
       "      <td>1</td>\n",
       "      <td>0</td>\n",
       "      <td>1</td>\n",
       "      <td>1</td>\n",
       "    </tr>\n",
       "    <tr>\n",
       "      <th>3</th>\n",
       "      <td>5</td>\n",
       "      <td>7</td>\n",
       "      <td>9b98b8c7a33c4b65b9aebfe6a799e6d9</td>\n",
       "      <td>bogo</td>\n",
       "      <td>5</td>\n",
       "      <td>1</td>\n",
       "      <td>0</td>\n",
       "      <td>1</td>\n",
       "      <td>1</td>\n",
       "    </tr>\n",
       "    <tr>\n",
       "      <th>4</th>\n",
       "      <td>20</td>\n",
       "      <td>10</td>\n",
       "      <td>0b1e1539f2cc45b7b9fa7c272da2e1d7</td>\n",
       "      <td>discount</td>\n",
       "      <td>5</td>\n",
       "      <td>0</td>\n",
       "      <td>0</td>\n",
       "      <td>1</td>\n",
       "      <td>1</td>\n",
       "    </tr>\n",
       "    <tr>\n",
       "      <th>5</th>\n",
       "      <td>7</td>\n",
       "      <td>7</td>\n",
       "      <td>2298d6c36e964ae4a3e7e9706d1fb8c2</td>\n",
       "      <td>discount</td>\n",
       "      <td>3</td>\n",
       "      <td>1</td>\n",
       "      <td>1</td>\n",
       "      <td>1</td>\n",
       "      <td>1</td>\n",
       "    </tr>\n",
       "    <tr>\n",
       "      <th>6</th>\n",
       "      <td>10</td>\n",
       "      <td>10</td>\n",
       "      <td>fafdcd668e3743c1bb461111dcafc2a4</td>\n",
       "      <td>discount</td>\n",
       "      <td>2</td>\n",
       "      <td>1</td>\n",
       "      <td>1</td>\n",
       "      <td>1</td>\n",
       "      <td>1</td>\n",
       "    </tr>\n",
       "    <tr>\n",
       "      <th>7</th>\n",
       "      <td>0</td>\n",
       "      <td>3</td>\n",
       "      <td>5a8bc65990b245e5a138643cd4eb9837</td>\n",
       "      <td>informational</td>\n",
       "      <td>0</td>\n",
       "      <td>1</td>\n",
       "      <td>1</td>\n",
       "      <td>1</td>\n",
       "      <td>0</td>\n",
       "    </tr>\n",
       "    <tr>\n",
       "      <th>8</th>\n",
       "      <td>5</td>\n",
       "      <td>5</td>\n",
       "      <td>f19421c1d4aa40978ebb69ca19b0e20d</td>\n",
       "      <td>bogo</td>\n",
       "      <td>5</td>\n",
       "      <td>1</td>\n",
       "      <td>1</td>\n",
       "      <td>1</td>\n",
       "      <td>1</td>\n",
       "    </tr>\n",
       "    <tr>\n",
       "      <th>9</th>\n",
       "      <td>10</td>\n",
       "      <td>7</td>\n",
       "      <td>2906b810c7d4411798c6938adc9daaa5</td>\n",
       "      <td>discount</td>\n",
       "      <td>2</td>\n",
       "      <td>1</td>\n",
       "      <td>0</td>\n",
       "      <td>1</td>\n",
       "      <td>1</td>\n",
       "    </tr>\n",
       "  </tbody>\n",
       "</table>\n",
       "</div>"
      ],
      "text/plain": [
       "   difficulty  duration                                id     offer_type  \\\n",
       "0          10         7  ae264e3637204a6fb9bb56bc8210ddfd           bogo   \n",
       "1          10         5  4d5c57ea9a6940dd891ad53e9dbe8da0           bogo   \n",
       "2           0         4  3f207df678b143eea3cee63160fa8bed  informational   \n",
       "3           5         7  9b98b8c7a33c4b65b9aebfe6a799e6d9           bogo   \n",
       "4          20        10  0b1e1539f2cc45b7b9fa7c272da2e1d7       discount   \n",
       "5           7         7  2298d6c36e964ae4a3e7e9706d1fb8c2       discount   \n",
       "6          10        10  fafdcd668e3743c1bb461111dcafc2a4       discount   \n",
       "7           0         3  5a8bc65990b245e5a138643cd4eb9837  informational   \n",
       "8           5         5  f19421c1d4aa40978ebb69ca19b0e20d           bogo   \n",
       "9          10         7  2906b810c7d4411798c6938adc9daaa5       discount   \n",
       "\n",
       "   reward  channel_mobile  channel_social  channel_email  channel_web  \n",
       "0      10               1               1              1            0  \n",
       "1      10               1               1              1            1  \n",
       "2       0               1               0              1            1  \n",
       "3       5               1               0              1            1  \n",
       "4       5               0               0              1            1  \n",
       "5       3               1               1              1            1  \n",
       "6       2               1               1              1            1  \n",
       "7       0               1               1              1            0  \n",
       "8       5               1               1              1            1  \n",
       "9       2               1               0              1            1  "
      ]
     },
     "execution_count": 52,
     "metadata": {},
     "output_type": "execute_result"
    }
   ],
   "source": [
    "portfolio"
   ]
  },
  {
   "cell_type": "code",
   "execution_count": 53,
   "metadata": {
    "collapsed": false
   },
   "outputs": [
    {
     "data": {
      "text/plain": [
       "<matplotlib.axes._subplots.AxesSubplot at 0x7f0e7ae2c0b8>"
      ]
     },
     "execution_count": 53,
     "metadata": {},
     "output_type": "execute_result"
    },
    {
     "data": {
      "image/png": "[encoded data removed]",
      "text/plain": [
       "<Figure size 432x288 with 1 Axes>"
      ]
     },
     "metadata": {
      "needs_background": "dark"
     },
     "output_type": "display_data"
    }
   ],
   "source": [
    "filled.groupby('offer_type').spent_10_days.sum().sort_values().plot(kind='barh')"
   ]
  },
  {
   "cell_type": "code",
   "execution_count": 54,
   "metadata": {
    "collapsed": false
   },
   "outputs": [
    {
     "data": {
      "text/plain": [
       "<matplotlib.axes._subplots.AxesSubplot at 0x7f0e709c14a8>"
      ]
     },
     "execution_count": 54,
     "metadata": {},
     "output_type": "execute_result"
    },
    {
     "data": {
      "image/png": "[encoded data removed]",
      "text/plain": [
       "<Figure size 432x288 with 1 Axes>"
      ]
     },
     "metadata": {
      "needs_background": "dark"
     },
     "output_type": "display_data"
    }
   ],
   "source": [
    "filled.groupby('offer_type').spent_10_days.mean().sort_values().plot(kind='barh')"
   ]
  },
  {
   "cell_type": "markdown",
   "metadata": {},
   "source": [
    "## 2) Let's consider the non-viewed for the \"null\" offer."
   ]
  },
  {
   "cell_type": "code",
   "execution_count": 55,
   "metadata": {
    "collapsed": false
   },
   "outputs": [
    {
     "name": "stdout",
     "output_type": "stream",
     "text": [
      "CPU times: user 2.73 s, sys: 48 ms, total: 2.78 s\n",
      "Wall time: 1.74 s\n"
     ]
    }
   ],
   "source": [
    "# Get the data\n",
    "static_data = pd.read_pickle(STATIC_DATASET_PATH)\n",
    "portfolio = pd.read_json(os.path.join(DATA_RAW, 'portfolio.json'), orient='records', lines=True)\n",
    "profile = pd.read_json(os.path.join(DATA_RAW, 'profile.json'), orient='records', lines=True)\n",
    "transcript = pd.read_json(os.path.join(DATA_RAW, 'transcript.json'), orient='records', lines=True)\n",
    "\n",
    "%time data, portfolio = pp.basic_preprocessing(portfolio, profile, transcript)\n",
    "received, viewed, completed, transactions = pp.split_transcript(data)"
   ]
  },
  {
   "cell_type": "code",
   "execution_count": 56,
   "metadata": {
    "collapsed": true
   },
   "outputs": [],
   "source": [
    "filled = pd.read_pickle(os.path.join(DATA_PROCESSED, 'static_spent_10_days.pkl'))"
   ]
  },
  {
   "cell_type": "code",
   "execution_count": 57,
   "metadata": {
    "collapsed": false
   },
   "outputs": [],
   "source": [
    "filled['offer_choice'] = filled['offer_id']\n",
    "filled.loc[filled['viewed'] == 0, 'offer_choice'] = 'no_offer'"
   ]
  },
  {
   "cell_type": "code",
   "execution_count": 58,
   "metadata": {
    "collapsed": false
   },
   "outputs": [
    {
     "data": {
      "text/plain": [
       "no_offer                            19050\n",
       "fafdcd668e3743c1bb461111dcafc2a4     6932\n",
       "4d5c57ea9a6940dd891ad53e9dbe8da0     6861\n",
       "2298d6c36e964ae4a3e7e9706d1fb8c2     6853\n",
       "f19421c1d4aa40978ebb69ca19b0e20d     6698\n",
       "ae264e3637204a6fb9bb56bc8210ddfd     6318\n",
       "5a8bc65990b245e5a138643cd4eb9837     6208\n",
       "0b1e1539f2cc45b7b9fa7c272da2e1d7     4500\n",
       "2906b810c7d4411798c6938adc9daaa5     4363\n",
       "3f207df678b143eea3cee63160fa8bed     4263\n",
       "9b98b8c7a33c4b65b9aebfe6a799e6d9     4231\n",
       "Name: offer_choice, dtype: int64"
      ]
     },
     "execution_count": 58,
     "metadata": {},
     "output_type": "execute_result"
    }
   ],
   "source": [
    "filled.offer_choice.value_counts()"
   ]
  },
  {
   "cell_type": "code",
   "execution_count": 59,
   "metadata": {
    "collapsed": false
   },
   "outputs": [
    {
     "data": {
      "text/html": [
       "<div>\n",
       "<style scoped>\n",
       "    .dataframe tbody tr th:only-of-type {\n",
       "        vertical-align: middle;\n",
       "    }\n",
       "\n",
       "    .dataframe tbody tr th {\n",
       "        vertical-align: top;\n",
       "    }\n",
       "\n",
       "    .dataframe thead th {\n",
       "        text-align: right;\n",
       "    }\n",
       "</style>\n",
       "<table border=\"1\" class=\"dataframe\">\n",
       "  <thead>\n",
       "    <tr style=\"text-align: right;\">\n",
       "      <th></th>\n",
       "      <th>person</th>\n",
       "      <th>time</th>\n",
       "      <th>offer_id</th>\n",
       "      <th>age</th>\n",
       "      <th>became_member_on</th>\n",
       "      <th>gender</th>\n",
       "      <th>income</th>\n",
       "      <th>missing_demographics</th>\n",
       "      <th>member_epoch_days</th>\n",
       "      <th>difficulty</th>\n",
       "      <th>...</th>\n",
       "      <th>reward_0.0_success_ratio</th>\n",
       "      <th>reward_5.0_success_ratio</th>\n",
       "      <th>reward_3.0_success_ratio</th>\n",
       "      <th>reward_2.0_success_ratio</th>\n",
       "      <th>channel_web_success_ratio</th>\n",
       "      <th>channel_email_success_ratio</th>\n",
       "      <th>channel_social_success_ratio</th>\n",
       "      <th>channel_mobile_success_ratio</th>\n",
       "      <th>spent_10_days</th>\n",
       "      <th>offer_choice</th>\n",
       "    </tr>\n",
       "  </thead>\n",
       "  <tbody>\n",
       "    <tr>\n",
       "      <th>0</th>\n",
       "      <td>0009655768c64bdeb2e877511632db8f</td>\n",
       "      <td>168</td>\n",
       "      <td>5a8bc65990b245e5a138643cd4eb9837</td>\n",
       "      <td>33.0</td>\n",
       "      <td>2017-04-21</td>\n",
       "      <td>M</td>\n",
       "      <td>72000.0</td>\n",
       "      <td>0</td>\n",
       "      <td>17277</td>\n",
       "      <td>0.0</td>\n",
       "      <td>...</td>\n",
       "      <td>0.0</td>\n",
       "      <td>0.0</td>\n",
       "      <td>0.0</td>\n",
       "      <td>0.0</td>\n",
       "      <td>0.0</td>\n",
       "      <td>0.0</td>\n",
       "      <td>0.0</td>\n",
       "      <td>0.0</td>\n",
       "      <td>22.16</td>\n",
       "      <td>5a8bc65990b245e5a138643cd4eb9837</td>\n",
       "    </tr>\n",
       "    <tr>\n",
       "      <th>1</th>\n",
       "      <td>0009655768c64bdeb2e877511632db8f</td>\n",
       "      <td>336</td>\n",
       "      <td>3f207df678b143eea3cee63160fa8bed</td>\n",
       "      <td>33.0</td>\n",
       "      <td>2017-04-21</td>\n",
       "      <td>M</td>\n",
       "      <td>72000.0</td>\n",
       "      <td>0</td>\n",
       "      <td>17277</td>\n",
       "      <td>0.0</td>\n",
       "      <td>...</td>\n",
       "      <td>0.0</td>\n",
       "      <td>0.0</td>\n",
       "      <td>0.0</td>\n",
       "      <td>0.0</td>\n",
       "      <td>0.0</td>\n",
       "      <td>0.0</td>\n",
       "      <td>0.0</td>\n",
       "      <td>0.0</td>\n",
       "      <td>46.51</td>\n",
       "      <td>3f207df678b143eea3cee63160fa8bed</td>\n",
       "    </tr>\n",
       "    <tr>\n",
       "      <th>2</th>\n",
       "      <td>0009655768c64bdeb2e877511632db8f</td>\n",
       "      <td>408</td>\n",
       "      <td>f19421c1d4aa40978ebb69ca19b0e20d</td>\n",
       "      <td>33.0</td>\n",
       "      <td>2017-04-21</td>\n",
       "      <td>M</td>\n",
       "      <td>72000.0</td>\n",
       "      <td>0</td>\n",
       "      <td>17277</td>\n",
       "      <td>5.0</td>\n",
       "      <td>...</td>\n",
       "      <td>0.0</td>\n",
       "      <td>0.0</td>\n",
       "      <td>0.0</td>\n",
       "      <td>0.0</td>\n",
       "      <td>0.0</td>\n",
       "      <td>0.0</td>\n",
       "      <td>0.0</td>\n",
       "      <td>0.0</td>\n",
       "      <td>46.51</td>\n",
       "      <td>no_offer</td>\n",
       "    </tr>\n",
       "    <tr>\n",
       "      <th>3</th>\n",
       "      <td>0009655768c64bdeb2e877511632db8f</td>\n",
       "      <td>504</td>\n",
       "      <td>fafdcd668e3743c1bb461111dcafc2a4</td>\n",
       "      <td>33.0</td>\n",
       "      <td>2017-04-21</td>\n",
       "      <td>M</td>\n",
       "      <td>72000.0</td>\n",
       "      <td>0</td>\n",
       "      <td>17277</td>\n",
       "      <td>10.0</td>\n",
       "      <td>...</td>\n",
       "      <td>0.0</td>\n",
       "      <td>0.0</td>\n",
       "      <td>0.0</td>\n",
       "      <td>0.0</td>\n",
       "      <td>0.0</td>\n",
       "      <td>0.0</td>\n",
       "      <td>0.0</td>\n",
       "      <td>0.0</td>\n",
       "      <td>96.87</td>\n",
       "      <td>no_offer</td>\n",
       "    </tr>\n",
       "    <tr>\n",
       "      <th>4</th>\n",
       "      <td>0009655768c64bdeb2e877511632db8f</td>\n",
       "      <td>576</td>\n",
       "      <td>2906b810c7d4411798c6938adc9daaa5</td>\n",
       "      <td>33.0</td>\n",
       "      <td>2017-04-21</td>\n",
       "      <td>M</td>\n",
       "      <td>72000.0</td>\n",
       "      <td>0</td>\n",
       "      <td>17277</td>\n",
       "      <td>10.0</td>\n",
       "      <td>...</td>\n",
       "      <td>0.0</td>\n",
       "      <td>0.0</td>\n",
       "      <td>0.0</td>\n",
       "      <td>0.0</td>\n",
       "      <td>0.0</td>\n",
       "      <td>0.0</td>\n",
       "      <td>0.0</td>\n",
       "      <td>0.0</td>\n",
       "      <td>58.93</td>\n",
       "      <td>no_offer</td>\n",
       "    </tr>\n",
       "  </tbody>\n",
       "</table>\n",
       "<p>5 rows × 134 columns</p>\n",
       "</div>"
      ],
      "text/plain": [
       "                             person  time                          offer_id  \\\n",
       "0  0009655768c64bdeb2e877511632db8f   168  5a8bc65990b245e5a138643cd4eb9837   \n",
       "1  0009655768c64bdeb2e877511632db8f   336  3f207df678b143eea3cee63160fa8bed   \n",
       "2  0009655768c64bdeb2e877511632db8f   408  f19421c1d4aa40978ebb69ca19b0e20d   \n",
       "3  0009655768c64bdeb2e877511632db8f   504  fafdcd668e3743c1bb461111dcafc2a4   \n",
       "4  0009655768c64bdeb2e877511632db8f   576  2906b810c7d4411798c6938adc9daaa5   \n",
       "\n",
       "    age became_member_on gender   income  missing_demographics  \\\n",
       "0  33.0       2017-04-21      M  72000.0                     0   \n",
       "1  33.0       2017-04-21      M  72000.0                     0   \n",
       "2  33.0       2017-04-21      M  72000.0                     0   \n",
       "3  33.0       2017-04-21      M  72000.0                     0   \n",
       "4  33.0       2017-04-21      M  72000.0                     0   \n",
       "\n",
       "   member_epoch_days  difficulty                ...                 \\\n",
       "0              17277         0.0                ...                  \n",
       "1              17277         0.0                ...                  \n",
       "2              17277         5.0                ...                  \n",
       "3              17277        10.0                ...                  \n",
       "4              17277        10.0                ...                  \n",
       "\n",
       "   reward_0.0_success_ratio reward_5.0_success_ratio  \\\n",
       "0                       0.0                      0.0   \n",
       "1                       0.0                      0.0   \n",
       "2                       0.0                      0.0   \n",
       "3                       0.0                      0.0   \n",
       "4                       0.0                      0.0   \n",
       "\n",
       "   reward_3.0_success_ratio  reward_2.0_success_ratio  \\\n",
       "0                       0.0                       0.0   \n",
       "1                       0.0                       0.0   \n",
       "2                       0.0                       0.0   \n",
       "3                       0.0                       0.0   \n",
       "4                       0.0                       0.0   \n",
       "\n",
       "   channel_web_success_ratio  channel_email_success_ratio  \\\n",
       "0                        0.0                          0.0   \n",
       "1                        0.0                          0.0   \n",
       "2                        0.0                          0.0   \n",
       "3                        0.0                          0.0   \n",
       "4                        0.0                          0.0   \n",
       "\n",
       "   channel_social_success_ratio  channel_mobile_success_ratio  spent_10_days  \\\n",
       "0                           0.0                           0.0          22.16   \n",
       "1                           0.0                           0.0          46.51   \n",
       "2                           0.0                           0.0          46.51   \n",
       "3                           0.0                           0.0          96.87   \n",
       "4                           0.0                           0.0          58.93   \n",
       "\n",
       "                       offer_choice  \n",
       "0  5a8bc65990b245e5a138643cd4eb9837  \n",
       "1  3f207df678b143eea3cee63160fa8bed  \n",
       "2                          no_offer  \n",
       "3                          no_offer  \n",
       "4                          no_offer  \n",
       "\n",
       "[5 rows x 134 columns]"
      ]
     },
     "execution_count": 59,
     "metadata": {},
     "output_type": "execute_result"
    }
   ],
   "source": [
    "filled.head()"
   ]
  },
  {
   "cell_type": "code",
   "execution_count": 60,
   "metadata": {
    "collapsed": false
   },
   "outputs": [
    {
     "name": "stdout",
     "output_type": "stream",
     "text": [
      "(76277, 134)\n",
      "Index(['person', 'time', 'offer_id', 'age', 'became_member_on', 'gender',\n",
      "       'income', 'missing_demographics', 'member_epoch_days', 'difficulty',\n",
      "       ...\n",
      "       'reward_0.0_success_ratio', 'reward_5.0_success_ratio',\n",
      "       'reward_3.0_success_ratio', 'reward_2.0_success_ratio',\n",
      "       'channel_web_success_ratio', 'channel_email_success_ratio',\n",
      "       'channel_social_success_ratio', 'channel_mobile_success_ratio',\n",
      "       'spent_10_days', 'offer_choice'],\n",
      "      dtype='object', length=134)\n"
     ]
    }
   ],
   "source": [
    "print(filled.shape)\n",
    "print(filled.columns)"
   ]
  },
  {
   "cell_type": "code",
   "execution_count": 61,
   "metadata": {
    "collapsed": false
   },
   "outputs": [],
   "source": [
    "data = filled\n",
    "time_limit = 450\n",
    "drop_time = True\n",
    "anon_person = True\n",
    "anon_offer = True\n",
    "data = data.drop('became_member_on', axis=1)\n",
    "if anon_person:\n",
    "        data = data.drop('person', axis=1)\n",
    "if anon_offer:\n",
    "        data = data.drop('offer_id', axis=1)\n",
    "X = data.drop(pp.FUTURE_INFO, axis=1)\n",
    "y = data['success']\n",
    "X_train, X_test, y_train, y_test = sd.time_split(X, y, time_limit,\n",
    "                                              drop_time=drop_time)"
   ]
  },
  {
   "cell_type": "code",
   "execution_count": 62,
   "metadata": {
    "collapsed": false
   },
   "outputs": [
    {
     "data": {
      "text/html": [
       "<div>\n",
       "<style scoped>\n",
       "    .dataframe tbody tr th:only-of-type {\n",
       "        vertical-align: middle;\n",
       "    }\n",
       "\n",
       "    .dataframe tbody tr th {\n",
       "        vertical-align: top;\n",
       "    }\n",
       "\n",
       "    .dataframe thead th {\n",
       "        text-align: right;\n",
       "    }\n",
       "</style>\n",
       "<table border=\"1\" class=\"dataframe\">\n",
       "  <thead>\n",
       "    <tr style=\"text-align: right;\">\n",
       "      <th></th>\n",
       "      <th>age</th>\n",
       "      <th>gender</th>\n",
       "      <th>income</th>\n",
       "      <th>missing_demographics</th>\n",
       "      <th>member_epoch_days</th>\n",
       "      <th>difficulty</th>\n",
       "      <th>duration</th>\n",
       "      <th>offer_type</th>\n",
       "      <th>reward_t</th>\n",
       "      <th>channel_web</th>\n",
       "      <th>...</th>\n",
       "      <th>reward_0.0_success_ratio</th>\n",
       "      <th>reward_5.0_success_ratio</th>\n",
       "      <th>reward_3.0_success_ratio</th>\n",
       "      <th>reward_2.0_success_ratio</th>\n",
       "      <th>channel_web_success_ratio</th>\n",
       "      <th>channel_email_success_ratio</th>\n",
       "      <th>channel_social_success_ratio</th>\n",
       "      <th>channel_mobile_success_ratio</th>\n",
       "      <th>spent_10_days</th>\n",
       "      <th>offer_choice</th>\n",
       "    </tr>\n",
       "  </thead>\n",
       "  <tbody>\n",
       "    <tr>\n",
       "      <th>0</th>\n",
       "      <td>33.0</td>\n",
       "      <td>M</td>\n",
       "      <td>72000.0</td>\n",
       "      <td>0</td>\n",
       "      <td>17277</td>\n",
       "      <td>0.0</td>\n",
       "      <td>3.0</td>\n",
       "      <td>informational</td>\n",
       "      <td>0.0</td>\n",
       "      <td>0.0</td>\n",
       "      <td>...</td>\n",
       "      <td>0.0</td>\n",
       "      <td>0.0</td>\n",
       "      <td>0.0</td>\n",
       "      <td>0.0</td>\n",
       "      <td>0.0</td>\n",
       "      <td>0.0</td>\n",
       "      <td>0.0</td>\n",
       "      <td>0.0</td>\n",
       "      <td>22.16</td>\n",
       "      <td>5a8bc65990b245e5a138643cd4eb9837</td>\n",
       "    </tr>\n",
       "    <tr>\n",
       "      <th>1</th>\n",
       "      <td>33.0</td>\n",
       "      <td>M</td>\n",
       "      <td>72000.0</td>\n",
       "      <td>0</td>\n",
       "      <td>17277</td>\n",
       "      <td>0.0</td>\n",
       "      <td>4.0</td>\n",
       "      <td>informational</td>\n",
       "      <td>0.0</td>\n",
       "      <td>1.0</td>\n",
       "      <td>...</td>\n",
       "      <td>0.0</td>\n",
       "      <td>0.0</td>\n",
       "      <td>0.0</td>\n",
       "      <td>0.0</td>\n",
       "      <td>0.0</td>\n",
       "      <td>0.0</td>\n",
       "      <td>0.0</td>\n",
       "      <td>0.0</td>\n",
       "      <td>46.51</td>\n",
       "      <td>3f207df678b143eea3cee63160fa8bed</td>\n",
       "    </tr>\n",
       "    <tr>\n",
       "      <th>2</th>\n",
       "      <td>33.0</td>\n",
       "      <td>M</td>\n",
       "      <td>72000.0</td>\n",
       "      <td>0</td>\n",
       "      <td>17277</td>\n",
       "      <td>5.0</td>\n",
       "      <td>5.0</td>\n",
       "      <td>bogo</td>\n",
       "      <td>5.0</td>\n",
       "      <td>1.0</td>\n",
       "      <td>...</td>\n",
       "      <td>0.0</td>\n",
       "      <td>0.0</td>\n",
       "      <td>0.0</td>\n",
       "      <td>0.0</td>\n",
       "      <td>0.0</td>\n",
       "      <td>0.0</td>\n",
       "      <td>0.0</td>\n",
       "      <td>0.0</td>\n",
       "      <td>46.51</td>\n",
       "      <td>no_offer</td>\n",
       "    </tr>\n",
       "    <tr>\n",
       "      <th>5</th>\n",
       "      <td>NaN</td>\n",
       "      <td>None</td>\n",
       "      <td>NaN</td>\n",
       "      <td>1</td>\n",
       "      <td>17646</td>\n",
       "      <td>5.0</td>\n",
       "      <td>5.0</td>\n",
       "      <td>bogo</td>\n",
       "      <td>5.0</td>\n",
       "      <td>1.0</td>\n",
       "      <td>...</td>\n",
       "      <td>0.0</td>\n",
       "      <td>0.0</td>\n",
       "      <td>0.0</td>\n",
       "      <td>0.0</td>\n",
       "      <td>0.0</td>\n",
       "      <td>0.0</td>\n",
       "      <td>0.0</td>\n",
       "      <td>0.0</td>\n",
       "      <td>0.70</td>\n",
       "      <td>f19421c1d4aa40978ebb69ca19b0e20d</td>\n",
       "    </tr>\n",
       "    <tr>\n",
       "      <th>7</th>\n",
       "      <td>40.0</td>\n",
       "      <td>O</td>\n",
       "      <td>57000.0</td>\n",
       "      <td>0</td>\n",
       "      <td>17540</td>\n",
       "      <td>0.0</td>\n",
       "      <td>4.0</td>\n",
       "      <td>informational</td>\n",
       "      <td>0.0</td>\n",
       "      <td>1.0</td>\n",
       "      <td>...</td>\n",
       "      <td>0.0</td>\n",
       "      <td>0.0</td>\n",
       "      <td>0.0</td>\n",
       "      <td>0.0</td>\n",
       "      <td>0.0</td>\n",
       "      <td>0.0</td>\n",
       "      <td>0.0</td>\n",
       "      <td>0.0</td>\n",
       "      <td>13.49</td>\n",
       "      <td>3f207df678b143eea3cee63160fa8bed</td>\n",
       "    </tr>\n",
       "  </tbody>\n",
       "</table>\n",
       "<p>5 rows × 119 columns</p>\n",
       "</div>"
      ],
      "text/plain": [
       "    age gender   income  missing_demographics  member_epoch_days  difficulty  \\\n",
       "0  33.0      M  72000.0                     0              17277         0.0   \n",
       "1  33.0      M  72000.0                     0              17277         0.0   \n",
       "2  33.0      M  72000.0                     0              17277         5.0   \n",
       "5   NaN   None      NaN                     1              17646         5.0   \n",
       "7  40.0      O  57000.0                     0              17540         0.0   \n",
       "\n",
       "   duration     offer_type  reward_t  channel_web  \\\n",
       "0       3.0  informational       0.0          0.0   \n",
       "1       4.0  informational       0.0          1.0   \n",
       "2       5.0           bogo       5.0          1.0   \n",
       "5       5.0           bogo       5.0          1.0   \n",
       "7       4.0  informational       0.0          1.0   \n",
       "\n",
       "                 ...                 reward_0.0_success_ratio  \\\n",
       "0                ...                                      0.0   \n",
       "1                ...                                      0.0   \n",
       "2                ...                                      0.0   \n",
       "5                ...                                      0.0   \n",
       "7                ...                                      0.0   \n",
       "\n",
       "   reward_5.0_success_ratio  reward_3.0_success_ratio  \\\n",
       "0                       0.0                       0.0   \n",
       "1                       0.0                       0.0   \n",
       "2                       0.0                       0.0   \n",
       "5                       0.0                       0.0   \n",
       "7                       0.0                       0.0   \n",
       "\n",
       "   reward_2.0_success_ratio  channel_web_success_ratio  \\\n",
       "0                       0.0                        0.0   \n",
       "1                       0.0                        0.0   \n",
       "2                       0.0                        0.0   \n",
       "5                       0.0                        0.0   \n",
       "7                       0.0                        0.0   \n",
       "\n",
       "   channel_email_success_ratio  channel_social_success_ratio  \\\n",
       "0                          0.0                           0.0   \n",
       "1                          0.0                           0.0   \n",
       "2                          0.0                           0.0   \n",
       "5                          0.0                           0.0   \n",
       "7                          0.0                           0.0   \n",
       "\n",
       "   channel_mobile_success_ratio  spent_10_days  \\\n",
       "0                           0.0          22.16   \n",
       "1                           0.0          46.51   \n",
       "2                           0.0          46.51   \n",
       "5                           0.0           0.70   \n",
       "7                           0.0          13.49   \n",
       "\n",
       "                       offer_choice  \n",
       "0  5a8bc65990b245e5a138643cd4eb9837  \n",
       "1  3f207df678b143eea3cee63160fa8bed  \n",
       "2                          no_offer  \n",
       "5  f19421c1d4aa40978ebb69ca19b0e20d  \n",
       "7  3f207df678b143eea3cee63160fa8bed  \n",
       "\n",
       "[5 rows x 119 columns]"
      ]
     },
     "execution_count": 62,
     "metadata": {},
     "output_type": "execute_result"
    }
   ],
   "source": [
    "X_train.head()"
   ]
  },
  {
   "cell_type": "code",
   "execution_count": 63,
   "metadata": {
    "collapsed": false
   },
   "outputs": [
    {
     "data": {
      "text/html": [
       "<div>\n",
       "<style scoped>\n",
       "    .dataframe tbody tr th:only-of-type {\n",
       "        vertical-align: middle;\n",
       "    }\n",
       "\n",
       "    .dataframe tbody tr th {\n",
       "        vertical-align: top;\n",
       "    }\n",
       "\n",
       "    .dataframe thead th {\n",
       "        text-align: right;\n",
       "    }\n",
       "</style>\n",
       "<table border=\"1\" class=\"dataframe\">\n",
       "  <thead>\n",
       "    <tr style=\"text-align: right;\">\n",
       "      <th></th>\n",
       "      <th>difficulty</th>\n",
       "      <th>duration</th>\n",
       "      <th>id</th>\n",
       "      <th>offer_type</th>\n",
       "      <th>reward</th>\n",
       "      <th>channel_mobile</th>\n",
       "      <th>channel_social</th>\n",
       "      <th>channel_email</th>\n",
       "      <th>channel_web</th>\n",
       "    </tr>\n",
       "  </thead>\n",
       "  <tbody>\n",
       "    <tr>\n",
       "      <th>0</th>\n",
       "      <td>10</td>\n",
       "      <td>7</td>\n",
       "      <td>ae264e3637204a6fb9bb56bc8210ddfd</td>\n",
       "      <td>bogo</td>\n",
       "      <td>10</td>\n",
       "      <td>1</td>\n",
       "      <td>1</td>\n",
       "      <td>1</td>\n",
       "      <td>0</td>\n",
       "    </tr>\n",
       "    <tr>\n",
       "      <th>1</th>\n",
       "      <td>10</td>\n",
       "      <td>5</td>\n",
       "      <td>4d5c57ea9a6940dd891ad53e9dbe8da0</td>\n",
       "      <td>bogo</td>\n",
       "      <td>10</td>\n",
       "      <td>1</td>\n",
       "      <td>1</td>\n",
       "      <td>1</td>\n",
       "      <td>1</td>\n",
       "    </tr>\n",
       "    <tr>\n",
       "      <th>2</th>\n",
       "      <td>0</td>\n",
       "      <td>4</td>\n",
       "      <td>3f207df678b143eea3cee63160fa8bed</td>\n",
       "      <td>informational</td>\n",
       "      <td>0</td>\n",
       "      <td>1</td>\n",
       "      <td>0</td>\n",
       "      <td>1</td>\n",
       "      <td>1</td>\n",
       "    </tr>\n",
       "    <tr>\n",
       "      <th>3</th>\n",
       "      <td>5</td>\n",
       "      <td>7</td>\n",
       "      <td>9b98b8c7a33c4b65b9aebfe6a799e6d9</td>\n",
       "      <td>bogo</td>\n",
       "      <td>5</td>\n",
       "      <td>1</td>\n",
       "      <td>0</td>\n",
       "      <td>1</td>\n",
       "      <td>1</td>\n",
       "    </tr>\n",
       "    <tr>\n",
       "      <th>4</th>\n",
       "      <td>20</td>\n",
       "      <td>10</td>\n",
       "      <td>0b1e1539f2cc45b7b9fa7c272da2e1d7</td>\n",
       "      <td>discount</td>\n",
       "      <td>5</td>\n",
       "      <td>0</td>\n",
       "      <td>0</td>\n",
       "      <td>1</td>\n",
       "      <td>1</td>\n",
       "    </tr>\n",
       "    <tr>\n",
       "      <th>5</th>\n",
       "      <td>7</td>\n",
       "      <td>7</td>\n",
       "      <td>2298d6c36e964ae4a3e7e9706d1fb8c2</td>\n",
       "      <td>discount</td>\n",
       "      <td>3</td>\n",
       "      <td>1</td>\n",
       "      <td>1</td>\n",
       "      <td>1</td>\n",
       "      <td>1</td>\n",
       "    </tr>\n",
       "    <tr>\n",
       "      <th>6</th>\n",
       "      <td>10</td>\n",
       "      <td>10</td>\n",
       "      <td>fafdcd668e3743c1bb461111dcafc2a4</td>\n",
       "      <td>discount</td>\n",
       "      <td>2</td>\n",
       "      <td>1</td>\n",
       "      <td>1</td>\n",
       "      <td>1</td>\n",
       "      <td>1</td>\n",
       "    </tr>\n",
       "    <tr>\n",
       "      <th>7</th>\n",
       "      <td>0</td>\n",
       "      <td>3</td>\n",
       "      <td>5a8bc65990b245e5a138643cd4eb9837</td>\n",
       "      <td>informational</td>\n",
       "      <td>0</td>\n",
       "      <td>1</td>\n",
       "      <td>1</td>\n",
       "      <td>1</td>\n",
       "      <td>0</td>\n",
       "    </tr>\n",
       "    <tr>\n",
       "      <th>8</th>\n",
       "      <td>5</td>\n",
       "      <td>5</td>\n",
       "      <td>f19421c1d4aa40978ebb69ca19b0e20d</td>\n",
       "      <td>bogo</td>\n",
       "      <td>5</td>\n",
       "      <td>1</td>\n",
       "      <td>1</td>\n",
       "      <td>1</td>\n",
       "      <td>1</td>\n",
       "    </tr>\n",
       "    <tr>\n",
       "      <th>9</th>\n",
       "      <td>10</td>\n",
       "      <td>7</td>\n",
       "      <td>2906b810c7d4411798c6938adc9daaa5</td>\n",
       "      <td>discount</td>\n",
       "      <td>2</td>\n",
       "      <td>1</td>\n",
       "      <td>0</td>\n",
       "      <td>1</td>\n",
       "      <td>1</td>\n",
       "    </tr>\n",
       "  </tbody>\n",
       "</table>\n",
       "</div>"
      ],
      "text/plain": [
       "   difficulty  duration                                id     offer_type  \\\n",
       "0          10         7  ae264e3637204a6fb9bb56bc8210ddfd           bogo   \n",
       "1          10         5  4d5c57ea9a6940dd891ad53e9dbe8da0           bogo   \n",
       "2           0         4  3f207df678b143eea3cee63160fa8bed  informational   \n",
       "3           5         7  9b98b8c7a33c4b65b9aebfe6a799e6d9           bogo   \n",
       "4          20        10  0b1e1539f2cc45b7b9fa7c272da2e1d7       discount   \n",
       "5           7         7  2298d6c36e964ae4a3e7e9706d1fb8c2       discount   \n",
       "6          10        10  fafdcd668e3743c1bb461111dcafc2a4       discount   \n",
       "7           0         3  5a8bc65990b245e5a138643cd4eb9837  informational   \n",
       "8           5         5  f19421c1d4aa40978ebb69ca19b0e20d           bogo   \n",
       "9          10         7  2906b810c7d4411798c6938adc9daaa5       discount   \n",
       "\n",
       "   reward  channel_mobile  channel_social  channel_email  channel_web  \n",
       "0      10               1               1              1            0  \n",
       "1      10               1               1              1            1  \n",
       "2       0               1               0              1            1  \n",
       "3       5               1               0              1            1  \n",
       "4       5               0               0              1            1  \n",
       "5       3               1               1              1            1  \n",
       "6       2               1               1              1            1  \n",
       "7       0               1               1              1            0  \n",
       "8       5               1               1              1            1  \n",
       "9       2               1               0              1            1  "
      ]
     },
     "execution_count": 63,
     "metadata": {},
     "output_type": "execute_result"
    }
   ],
   "source": [
    "portfolio"
   ]
  },
  {
   "cell_type": "code",
   "execution_count": 64,
   "metadata": {
    "collapsed": false
   },
   "outputs": [],
   "source": [
    "data['profit_10_days'] = data.spent_10_days - data.actual_reward"
   ]
  },
  {
   "cell_type": "code",
   "execution_count": 65,
   "metadata": {
    "collapsed": false
   },
   "outputs": [
    {
     "data": {
      "text/html": [
       "<div>\n",
       "<style scoped>\n",
       "    .dataframe tbody tr th:only-of-type {\n",
       "        vertical-align: middle;\n",
       "    }\n",
       "\n",
       "    .dataframe tbody tr th {\n",
       "        vertical-align: top;\n",
       "    }\n",
       "\n",
       "    .dataframe thead th {\n",
       "        text-align: right;\n",
       "    }\n",
       "</style>\n",
       "<table border=\"1\" class=\"dataframe\">\n",
       "  <thead>\n",
       "    <tr style=\"text-align: right;\">\n",
       "      <th></th>\n",
       "      <th>time</th>\n",
       "      <th>age</th>\n",
       "      <th>gender</th>\n",
       "      <th>income</th>\n",
       "      <th>missing_demographics</th>\n",
       "      <th>member_epoch_days</th>\n",
       "      <th>difficulty</th>\n",
       "      <th>duration</th>\n",
       "      <th>offer_type</th>\n",
       "      <th>reward_t</th>\n",
       "      <th>...</th>\n",
       "      <th>reward_5.0_success_ratio</th>\n",
       "      <th>reward_3.0_success_ratio</th>\n",
       "      <th>reward_2.0_success_ratio</th>\n",
       "      <th>channel_web_success_ratio</th>\n",
       "      <th>channel_email_success_ratio</th>\n",
       "      <th>channel_social_success_ratio</th>\n",
       "      <th>channel_mobile_success_ratio</th>\n",
       "      <th>spent_10_days</th>\n",
       "      <th>offer_choice</th>\n",
       "      <th>profit_10_days</th>\n",
       "    </tr>\n",
       "  </thead>\n",
       "  <tbody>\n",
       "    <tr>\n",
       "      <th>0</th>\n",
       "      <td>168</td>\n",
       "      <td>33.0</td>\n",
       "      <td>M</td>\n",
       "      <td>72000.0</td>\n",
       "      <td>0</td>\n",
       "      <td>17277</td>\n",
       "      <td>0.0</td>\n",
       "      <td>3.0</td>\n",
       "      <td>informational</td>\n",
       "      <td>0.0</td>\n",
       "      <td>...</td>\n",
       "      <td>0.0</td>\n",
       "      <td>0.0</td>\n",
       "      <td>0.0</td>\n",
       "      <td>0.0</td>\n",
       "      <td>0.0</td>\n",
       "      <td>0.0</td>\n",
       "      <td>0.0</td>\n",
       "      <td>22.16</td>\n",
       "      <td>5a8bc65990b245e5a138643cd4eb9837</td>\n",
       "      <td>22.16</td>\n",
       "    </tr>\n",
       "    <tr>\n",
       "      <th>1</th>\n",
       "      <td>336</td>\n",
       "      <td>33.0</td>\n",
       "      <td>M</td>\n",
       "      <td>72000.0</td>\n",
       "      <td>0</td>\n",
       "      <td>17277</td>\n",
       "      <td>0.0</td>\n",
       "      <td>4.0</td>\n",
       "      <td>informational</td>\n",
       "      <td>0.0</td>\n",
       "      <td>...</td>\n",
       "      <td>0.0</td>\n",
       "      <td>0.0</td>\n",
       "      <td>0.0</td>\n",
       "      <td>0.0</td>\n",
       "      <td>0.0</td>\n",
       "      <td>0.0</td>\n",
       "      <td>0.0</td>\n",
       "      <td>46.51</td>\n",
       "      <td>3f207df678b143eea3cee63160fa8bed</td>\n",
       "      <td>46.51</td>\n",
       "    </tr>\n",
       "    <tr>\n",
       "      <th>2</th>\n",
       "      <td>408</td>\n",
       "      <td>33.0</td>\n",
       "      <td>M</td>\n",
       "      <td>72000.0</td>\n",
       "      <td>0</td>\n",
       "      <td>17277</td>\n",
       "      <td>5.0</td>\n",
       "      <td>5.0</td>\n",
       "      <td>bogo</td>\n",
       "      <td>5.0</td>\n",
       "      <td>...</td>\n",
       "      <td>0.0</td>\n",
       "      <td>0.0</td>\n",
       "      <td>0.0</td>\n",
       "      <td>0.0</td>\n",
       "      <td>0.0</td>\n",
       "      <td>0.0</td>\n",
       "      <td>0.0</td>\n",
       "      <td>46.51</td>\n",
       "      <td>no_offer</td>\n",
       "      <td>41.51</td>\n",
       "    </tr>\n",
       "    <tr>\n",
       "      <th>3</th>\n",
       "      <td>504</td>\n",
       "      <td>33.0</td>\n",
       "      <td>M</td>\n",
       "      <td>72000.0</td>\n",
       "      <td>0</td>\n",
       "      <td>17277</td>\n",
       "      <td>10.0</td>\n",
       "      <td>10.0</td>\n",
       "      <td>discount</td>\n",
       "      <td>2.0</td>\n",
       "      <td>...</td>\n",
       "      <td>0.0</td>\n",
       "      <td>0.0</td>\n",
       "      <td>0.0</td>\n",
       "      <td>0.0</td>\n",
       "      <td>0.0</td>\n",
       "      <td>0.0</td>\n",
       "      <td>0.0</td>\n",
       "      <td>96.87</td>\n",
       "      <td>no_offer</td>\n",
       "      <td>94.87</td>\n",
       "    </tr>\n",
       "    <tr>\n",
       "      <th>4</th>\n",
       "      <td>576</td>\n",
       "      <td>33.0</td>\n",
       "      <td>M</td>\n",
       "      <td>72000.0</td>\n",
       "      <td>0</td>\n",
       "      <td>17277</td>\n",
       "      <td>10.0</td>\n",
       "      <td>7.0</td>\n",
       "      <td>discount</td>\n",
       "      <td>2.0</td>\n",
       "      <td>...</td>\n",
       "      <td>0.0</td>\n",
       "      <td>0.0</td>\n",
       "      <td>0.0</td>\n",
       "      <td>0.0</td>\n",
       "      <td>0.0</td>\n",
       "      <td>0.0</td>\n",
       "      <td>0.0</td>\n",
       "      <td>58.93</td>\n",
       "      <td>no_offer</td>\n",
       "      <td>56.93</td>\n",
       "    </tr>\n",
       "  </tbody>\n",
       "</table>\n",
       "<p>5 rows × 132 columns</p>\n",
       "</div>"
      ],
      "text/plain": [
       "   time   age gender   income  missing_demographics  member_epoch_days  \\\n",
       "0   168  33.0      M  72000.0                     0              17277   \n",
       "1   336  33.0      M  72000.0                     0              17277   \n",
       "2   408  33.0      M  72000.0                     0              17277   \n",
       "3   504  33.0      M  72000.0                     0              17277   \n",
       "4   576  33.0      M  72000.0                     0              17277   \n",
       "\n",
       "   difficulty  duration     offer_type  reward_t       ...        \\\n",
       "0         0.0       3.0  informational       0.0       ...         \n",
       "1         0.0       4.0  informational       0.0       ...         \n",
       "2         5.0       5.0           bogo       5.0       ...         \n",
       "3        10.0      10.0       discount       2.0       ...         \n",
       "4        10.0       7.0       discount       2.0       ...         \n",
       "\n",
       "   reward_5.0_success_ratio  reward_3.0_success_ratio  \\\n",
       "0                       0.0                       0.0   \n",
       "1                       0.0                       0.0   \n",
       "2                       0.0                       0.0   \n",
       "3                       0.0                       0.0   \n",
       "4                       0.0                       0.0   \n",
       "\n",
       "   reward_2.0_success_ratio  channel_web_success_ratio  \\\n",
       "0                       0.0                        0.0   \n",
       "1                       0.0                        0.0   \n",
       "2                       0.0                        0.0   \n",
       "3                       0.0                        0.0   \n",
       "4                       0.0                        0.0   \n",
       "\n",
       "   channel_email_success_ratio  channel_social_success_ratio  \\\n",
       "0                          0.0                           0.0   \n",
       "1                          0.0                           0.0   \n",
       "2                          0.0                           0.0   \n",
       "3                          0.0                           0.0   \n",
       "4                          0.0                           0.0   \n",
       "\n",
       "   channel_mobile_success_ratio  spent_10_days  \\\n",
       "0                           0.0          22.16   \n",
       "1                           0.0          46.51   \n",
       "2                           0.0          46.51   \n",
       "3                           0.0          96.87   \n",
       "4                           0.0          58.93   \n",
       "\n",
       "                       offer_choice  profit_10_days  \n",
       "0  5a8bc65990b245e5a138643cd4eb9837           22.16  \n",
       "1  3f207df678b143eea3cee63160fa8bed           46.51  \n",
       "2                          no_offer           41.51  \n",
       "3                          no_offer           94.87  \n",
       "4                          no_offer           56.93  \n",
       "\n",
       "[5 rows x 132 columns]"
      ]
     },
     "execution_count": 65,
     "metadata": {},
     "output_type": "execute_result"
    }
   ],
   "source": [
    "data.head()"
   ]
  },
  {
   "cell_type": "code",
   "execution_count": 66,
   "metadata": {
    "collapsed": true
   },
   "outputs": [],
   "source": [
    "from sklearn.preprocessing import LabelEncoder"
   ]
  },
  {
   "cell_type": "code",
   "execution_count": 67,
   "metadata": {
    "collapsed": true
   },
   "outputs": [],
   "source": [
    "class BasicEncoderProfits(pp.BasicEncoder):\n",
    "    \"\"\" \n",
    "    Transforms the Basic dataset. Adds the encoding for the offer choice or\n",
    "    other custom features (may be offer_id for example). \"\"\"\n",
    "\n",
    "    def __init__(self, custom_features=list()):\n",
    "        super().__init__()\n",
    "        self.custom_encoders = {feat: LabelEncoder() for feat in custom_features}\n",
    "\n",
    "    def fit(self, X, y=None):\n",
    "        \"\"\" Get the encodings for the offer choice. \"\"\"\n",
    "        super().fit(X, y)\n",
    "        for feat, encoder in self.custom_encoders.items():\n",
    "            encoder.fit(X[feat])\n",
    "        return self\n",
    "\n",
    "    def transform(self, X):\n",
    "        \"\"\" Encode offer types and gender, and all the custom features. \"\"\"\n",
    "        res = super().transform(X)\n",
    "        for feat, encoder in self.custom_encoders.items():\n",
    "            res[feat] = encoder.transform(X[feat])\n",
    "        return res\n",
    "\n",
    "    def inverse_transform(self, X):\n",
    "        \"\"\" Transform back to the original encoding. \"\"\"\n",
    "        res = super().inverse_transform(X)\n",
    "        for feat, encoder in self.custom_encoders.items():\n",
    "            res[feat] = encoder.inverse_transform(X[feat])\n",
    "        return res"
   ]
  },
  {
   "cell_type": "code",
   "execution_count": 68,
   "metadata": {
    "collapsed": true
   },
   "outputs": [],
   "source": [
    "def fill_null_offer(data):\n",
    "    \"\"\" Fill the 'null' offer data when an offer was not viewed\"\"\"\n",
    "    \n",
    "    data.loc[data['viewed'] == 0, 'offer_id'] = 'no_offer'\n",
    "    z_cols = ['difficulty',\n",
    "               'duration',\n",
    "               'reward_t',\n",
    "               'channel_web',\n",
    "               'channel_mobile',\n",
    "               'channel_email',\n",
    "               'channel_social',\n",
    "               'expected_finish']\n",
    "    data.loc[data.offer_id=='no_offer', data.columns.isin(z_cols)] = 0\n",
    "    data.loc[data.offer_id=='no_offer', 'offer_type'] = 'no_offer'\n",
    "\n",
    "    return data"
   ]
  },
  {
   "cell_type": "code",
   "execution_count": 69,
   "metadata": {
    "collapsed": false
   },
   "outputs": [],
   "source": [
    "def get_profit_10_days_data(basic_dataset_path=os.path.join(DATA_PROCESSED, 'static_spent_10_days.pkl'),\n",
    "                            train_times=[0, 168],\n",
    "                            test_times=[408],\n",
    "                            drop_time=True,\n",
    "                            anon_person=True,\n",
    "                            drop_offer_id=True,\n",
    "                            fill_null=True,\n",
    "                            target='profit_10_days'):\n",
    "    \"\"\"\n",
    "    Generates the dataset to predict the profits in 10 days for each offer.\n",
    "    The profits are calculated as the money spent minus the paid reward (if any).\n",
    "    Args:\n",
    "        basic_dataset_path(str): The path to the pickle containing the basic\n",
    "            dataset\n",
    "        time_limit(int): The limit to split the train and test sets.\n",
    "        drop_time(boolean): Whether to drop the absolute time dependent\n",
    "            features.\n",
    "        anon_person(boolean): Whether to drop unique identifiers to customers.\n",
    "        anon_offer(boolean): Whether to drop unique identifiers to offers.\n",
    "\n",
    "    Returns:\n",
    "        X_train(pd.DataFrame): The training dataset.\n",
    "        X_test(pd.DataFrame): The test dataset.\n",
    "        y_train(pd.Series): The training target.\n",
    "        y_test(pd.Series): The test target.\n",
    "        BasicEncoderProfits: An encoder to use in an ML pipeline.\n",
    "    \"\"\"\n",
    "    data = pd.read_pickle(basic_dataset_path)\n",
    "    \n",
    "    custom_features = ['offer_id']\n",
    "    if fill_null:\n",
    "        data = fill_null_offer(data)\n",
    "    if anon_person:\n",
    "        data = data.drop('person', axis=1)\n",
    "    if drop_offer_id:\n",
    "        data = data.drop('offer_id', axis=1)\n",
    "        custom_features.remove('offer_id')\n",
    "    data['profit_10_days'] = data.spent_10_days - data.actual_reward\n",
    "    data = data.drop(['became_member_on', 'spent_10_days'], axis=1)\n",
    "    \n",
    "    X = data.drop(pp.FUTURE_INFO + ['profit_10_days'], axis=1)\n",
    "    y = data[target]\n",
    "    \n",
    "    # Split the train-test data\n",
    "    X_train = X[X.time.isin(train_times)]\n",
    "    X_test = X[X.time.isin(test_times)]\n",
    "    y_train = y[X.time.isin(train_times)]\n",
    "    y_test = y[X.time.isin(test_times)]\n",
    "    if drop_time:\n",
    "        X_train = X_train.drop('time', axis=1)\n",
    "        X_test = X_test.drop('time', axis=1)\n",
    "    \n",
    "    encoder = encoder = BasicEncoderProfits(custom_features=custom_features)\n",
    "    \n",
    "    return X_train, X_test, y_train, y_test, encoder"
   ]
  },
  {
   "cell_type": "code",
   "execution_count": 70,
   "metadata": {
    "collapsed": false
   },
   "outputs": [],
   "source": [
    "X_train, X_test, y_train, y_test, encoder =\\\n",
    "get_profit_10_days_data(drop_offer_id=False)"
   ]
  },
  {
   "cell_type": "code",
   "execution_count": 71,
   "metadata": {
    "collapsed": false
   },
   "outputs": [
    {
     "data": {
      "text/plain": [
       "array(['informational', 'bogo', 'discount', 'no_offer'], dtype=object)"
      ]
     },
     "execution_count": 71,
     "metadata": {},
     "output_type": "execute_result"
    }
   ],
   "source": [
    "X_train.offer_type.unique()"
   ]
  },
  {
   "cell_type": "code",
   "execution_count": 72,
   "metadata": {
    "collapsed": false
   },
   "outputs": [
    {
     "data": {
      "text/plain": [
       "'viewed'"
      ]
     },
     "execution_count": 72,
     "metadata": {},
     "output_type": "execute_result"
    }
   ],
   "source": [
    "X_train, X_test, y_train, y_test, encoder =\\\n",
    "get_profit_10_days_data(target='viewed')\n",
    "y_train.name"
   ]
  },
  {
   "cell_type": "code",
   "execution_count": 73,
   "metadata": {
    "collapsed": false
   },
   "outputs": [
    {
     "data": {
      "text/plain": [
       "array(['informational', 'bogo', 'discount'], dtype=object)"
      ]
     },
     "execution_count": 73,
     "metadata": {},
     "output_type": "execute_result"
    }
   ],
   "source": [
    "X_train, X_test, y_train, y_test, encoder =\\\n",
    "get_profit_10_days_data(fill_null=False, target='viewed')\n",
    "X_train.offer_type.unique()"
   ]
  },
  {
   "cell_type": "code",
   "execution_count": 74,
   "metadata": {
    "collapsed": false
   },
   "outputs": [
    {
     "data": {
      "text/plain": [
       "{}"
      ]
     },
     "execution_count": 74,
     "metadata": {},
     "output_type": "execute_result"
    }
   ],
   "source": [
    "encoder.custom_encoders"
   ]
  },
  {
   "cell_type": "code",
   "execution_count": 75,
   "metadata": {
    "collapsed": false
   },
   "outputs": [
    {
     "data": {
      "text/plain": [
       "BasicEncoderProfits(custom_features=None)"
      ]
     },
     "execution_count": 75,
     "metadata": {},
     "output_type": "execute_result"
    }
   ],
   "source": [
    "encoder.fit(X_train)"
   ]
  },
  {
   "cell_type": "code",
   "execution_count": 76,
   "metadata": {
    "collapsed": false
   },
   "outputs": [
    {
     "data": {
      "text/html": [
       "<div>\n",
       "<style scoped>\n",
       "    .dataframe tbody tr th:only-of-type {\n",
       "        vertical-align: middle;\n",
       "    }\n",
       "\n",
       "    .dataframe tbody tr th {\n",
       "        vertical-align: top;\n",
       "    }\n",
       "\n",
       "    .dataframe thead th {\n",
       "        text-align: right;\n",
       "    }\n",
       "</style>\n",
       "<table border=\"1\" class=\"dataframe\">\n",
       "  <thead>\n",
       "    <tr style=\"text-align: right;\">\n",
       "      <th></th>\n",
       "      <th>age</th>\n",
       "      <th>gender</th>\n",
       "      <th>income</th>\n",
       "      <th>missing_demographics</th>\n",
       "      <th>member_epoch_days</th>\n",
       "      <th>difficulty</th>\n",
       "      <th>duration</th>\n",
       "      <th>offer_type</th>\n",
       "      <th>reward_t</th>\n",
       "      <th>channel_web</th>\n",
       "      <th>...</th>\n",
       "      <th>difficulty_7.0_success_ratio</th>\n",
       "      <th>reward_10.0_success_ratio</th>\n",
       "      <th>reward_0.0_success_ratio</th>\n",
       "      <th>reward_5.0_success_ratio</th>\n",
       "      <th>reward_3.0_success_ratio</th>\n",
       "      <th>reward_2.0_success_ratio</th>\n",
       "      <th>channel_web_success_ratio</th>\n",
       "      <th>channel_email_success_ratio</th>\n",
       "      <th>channel_social_success_ratio</th>\n",
       "      <th>channel_mobile_success_ratio</th>\n",
       "    </tr>\n",
       "  </thead>\n",
       "  <tbody>\n",
       "    <tr>\n",
       "      <th>0</th>\n",
       "      <td>33.0</td>\n",
       "      <td>1.0</td>\n",
       "      <td>72000.0</td>\n",
       "      <td>0</td>\n",
       "      <td>17277</td>\n",
       "      <td>0.0</td>\n",
       "      <td>3.0</td>\n",
       "      <td>2</td>\n",
       "      <td>0.0</td>\n",
       "      <td>0.0</td>\n",
       "      <td>...</td>\n",
       "      <td>0.0</td>\n",
       "      <td>0.0</td>\n",
       "      <td>0.0</td>\n",
       "      <td>0.0</td>\n",
       "      <td>0.0</td>\n",
       "      <td>0.0</td>\n",
       "      <td>0.0</td>\n",
       "      <td>0.0</td>\n",
       "      <td>0.0</td>\n",
       "      <td>0.0</td>\n",
       "    </tr>\n",
       "    <tr>\n",
       "      <th>5</th>\n",
       "      <td>NaN</td>\n",
       "      <td>NaN</td>\n",
       "      <td>NaN</td>\n",
       "      <td>1</td>\n",
       "      <td>17646</td>\n",
       "      <td>5.0</td>\n",
       "      <td>5.0</td>\n",
       "      <td>0</td>\n",
       "      <td>5.0</td>\n",
       "      <td>1.0</td>\n",
       "      <td>...</td>\n",
       "      <td>0.0</td>\n",
       "      <td>0.0</td>\n",
       "      <td>0.0</td>\n",
       "      <td>0.0</td>\n",
       "      <td>0.0</td>\n",
       "      <td>0.0</td>\n",
       "      <td>0.0</td>\n",
       "      <td>0.0</td>\n",
       "      <td>0.0</td>\n",
       "      <td>0.0</td>\n",
       "    </tr>\n",
       "    <tr>\n",
       "      <th>7</th>\n",
       "      <td>40.0</td>\n",
       "      <td>2.0</td>\n",
       "      <td>57000.0</td>\n",
       "      <td>0</td>\n",
       "      <td>17540</td>\n",
       "      <td>0.0</td>\n",
       "      <td>4.0</td>\n",
       "      <td>2</td>\n",
       "      <td>0.0</td>\n",
       "      <td>1.0</td>\n",
       "      <td>...</td>\n",
       "      <td>0.0</td>\n",
       "      <td>0.0</td>\n",
       "      <td>0.0</td>\n",
       "      <td>0.0</td>\n",
       "      <td>0.0</td>\n",
       "      <td>0.0</td>\n",
       "      <td>0.0</td>\n",
       "      <td>0.0</td>\n",
       "      <td>0.0</td>\n",
       "      <td>0.0</td>\n",
       "    </tr>\n",
       "    <tr>\n",
       "      <th>8</th>\n",
       "      <td>40.0</td>\n",
       "      <td>2.0</td>\n",
       "      <td>57000.0</td>\n",
       "      <td>0</td>\n",
       "      <td>17540</td>\n",
       "      <td>7.0</td>\n",
       "      <td>7.0</td>\n",
       "      <td>1</td>\n",
       "      <td>3.0</td>\n",
       "      <td>1.0</td>\n",
       "      <td>...</td>\n",
       "      <td>0.0</td>\n",
       "      <td>0.0</td>\n",
       "      <td>0.0</td>\n",
       "      <td>0.0</td>\n",
       "      <td>0.0</td>\n",
       "      <td>0.0</td>\n",
       "      <td>0.0</td>\n",
       "      <td>0.0</td>\n",
       "      <td>0.0</td>\n",
       "      <td>0.0</td>\n",
       "    </tr>\n",
       "    <tr>\n",
       "      <th>12</th>\n",
       "      <td>59.0</td>\n",
       "      <td>0.0</td>\n",
       "      <td>90000.0</td>\n",
       "      <td>0</td>\n",
       "      <td>16864</td>\n",
       "      <td>10.0</td>\n",
       "      <td>10.0</td>\n",
       "      <td>1</td>\n",
       "      <td>2.0</td>\n",
       "      <td>1.0</td>\n",
       "      <td>...</td>\n",
       "      <td>0.0</td>\n",
       "      <td>0.0</td>\n",
       "      <td>0.0</td>\n",
       "      <td>0.0</td>\n",
       "      <td>0.0</td>\n",
       "      <td>0.0</td>\n",
       "      <td>0.0</td>\n",
       "      <td>0.0</td>\n",
       "      <td>0.0</td>\n",
       "      <td>0.0</td>\n",
       "    </tr>\n",
       "  </tbody>\n",
       "</table>\n",
       "<p>5 rows × 118 columns</p>\n",
       "</div>"
      ],
      "text/plain": [
       "     age  gender   income  missing_demographics  member_epoch_days  \\\n",
       "0   33.0     1.0  72000.0                     0              17277   \n",
       "5    NaN     NaN      NaN                     1              17646   \n",
       "7   40.0     2.0  57000.0                     0              17540   \n",
       "8   40.0     2.0  57000.0                     0              17540   \n",
       "12  59.0     0.0  90000.0                     0              16864   \n",
       "\n",
       "    difficulty  duration  offer_type  reward_t  channel_web  \\\n",
       "0          0.0       3.0           2       0.0          0.0   \n",
       "5          5.0       5.0           0       5.0          1.0   \n",
       "7          0.0       4.0           2       0.0          1.0   \n",
       "8          7.0       7.0           1       3.0          1.0   \n",
       "12        10.0      10.0           1       2.0          1.0   \n",
       "\n",
       "                ...               difficulty_7.0_success_ratio  \\\n",
       "0               ...                                        0.0   \n",
       "5               ...                                        0.0   \n",
       "7               ...                                        0.0   \n",
       "8               ...                                        0.0   \n",
       "12              ...                                        0.0   \n",
       "\n",
       "    reward_10.0_success_ratio  reward_0.0_success_ratio  \\\n",
       "0                         0.0                       0.0   \n",
       "5                         0.0                       0.0   \n",
       "7                         0.0                       0.0   \n",
       "8                         0.0                       0.0   \n",
       "12                        0.0                       0.0   \n",
       "\n",
       "    reward_5.0_success_ratio  reward_3.0_success_ratio  \\\n",
       "0                        0.0                       0.0   \n",
       "5                        0.0                       0.0   \n",
       "7                        0.0                       0.0   \n",
       "8                        0.0                       0.0   \n",
       "12                       0.0                       0.0   \n",
       "\n",
       "    reward_2.0_success_ratio  channel_web_success_ratio  \\\n",
       "0                        0.0                        0.0   \n",
       "5                        0.0                        0.0   \n",
       "7                        0.0                        0.0   \n",
       "8                        0.0                        0.0   \n",
       "12                       0.0                        0.0   \n",
       "\n",
       "    channel_email_success_ratio  channel_social_success_ratio  \\\n",
       "0                           0.0                           0.0   \n",
       "5                           0.0                           0.0   \n",
       "7                           0.0                           0.0   \n",
       "8                           0.0                           0.0   \n",
       "12                          0.0                           0.0   \n",
       "\n",
       "    channel_mobile_success_ratio  \n",
       "0                            0.0  \n",
       "5                            0.0  \n",
       "7                            0.0  \n",
       "8                            0.0  \n",
       "12                           0.0  \n",
       "\n",
       "[5 rows x 118 columns]"
      ]
     },
     "execution_count": 76,
     "metadata": {},
     "output_type": "execute_result"
    }
   ],
   "source": [
    "X_train_t = encoder.transform(X_train)\n",
    "X_train_t.head()"
   ]
  },
  {
   "cell_type": "code",
   "execution_count": 77,
   "metadata": {
    "collapsed": true
   },
   "outputs": [],
   "source": [
    "X_train_o = encoder.inverse_transform(X_train_t)"
   ]
  },
  {
   "cell_type": "code",
   "execution_count": 78,
   "metadata": {
    "collapsed": false
   },
   "outputs": [
    {
     "data": {
      "text/html": [
       "<div>\n",
       "<style scoped>\n",
       "    .dataframe tbody tr th:only-of-type {\n",
       "        vertical-align: middle;\n",
       "    }\n",
       "\n",
       "    .dataframe tbody tr th {\n",
       "        vertical-align: top;\n",
       "    }\n",
       "\n",
       "    .dataframe thead th {\n",
       "        text-align: right;\n",
       "    }\n",
       "</style>\n",
       "<table border=\"1\" class=\"dataframe\">\n",
       "  <thead>\n",
       "    <tr style=\"text-align: right;\">\n",
       "      <th></th>\n",
       "      <th>age</th>\n",
       "      <th>gender</th>\n",
       "      <th>income</th>\n",
       "      <th>missing_demographics</th>\n",
       "      <th>member_epoch_days</th>\n",
       "      <th>difficulty</th>\n",
       "      <th>duration</th>\n",
       "      <th>offer_type</th>\n",
       "      <th>reward_t</th>\n",
       "      <th>channel_web</th>\n",
       "      <th>...</th>\n",
       "      <th>difficulty_7.0_success_ratio</th>\n",
       "      <th>reward_10.0_success_ratio</th>\n",
       "      <th>reward_0.0_success_ratio</th>\n",
       "      <th>reward_5.0_success_ratio</th>\n",
       "      <th>reward_3.0_success_ratio</th>\n",
       "      <th>reward_2.0_success_ratio</th>\n",
       "      <th>channel_web_success_ratio</th>\n",
       "      <th>channel_email_success_ratio</th>\n",
       "      <th>channel_social_success_ratio</th>\n",
       "      <th>channel_mobile_success_ratio</th>\n",
       "    </tr>\n",
       "  </thead>\n",
       "  <tbody>\n",
       "    <tr>\n",
       "      <th>0</th>\n",
       "      <td>33.0</td>\n",
       "      <td>M</td>\n",
       "      <td>72000.0</td>\n",
       "      <td>0</td>\n",
       "      <td>17277</td>\n",
       "      <td>0.0</td>\n",
       "      <td>3.0</td>\n",
       "      <td>informational</td>\n",
       "      <td>0.0</td>\n",
       "      <td>0.0</td>\n",
       "      <td>...</td>\n",
       "      <td>0.0</td>\n",
       "      <td>0.0</td>\n",
       "      <td>0.0</td>\n",
       "      <td>0.0</td>\n",
       "      <td>0.0</td>\n",
       "      <td>0.0</td>\n",
       "      <td>0.0</td>\n",
       "      <td>0.0</td>\n",
       "      <td>0.0</td>\n",
       "      <td>0.0</td>\n",
       "    </tr>\n",
       "    <tr>\n",
       "      <th>5</th>\n",
       "      <td>NaN</td>\n",
       "      <td>None</td>\n",
       "      <td>NaN</td>\n",
       "      <td>1</td>\n",
       "      <td>17646</td>\n",
       "      <td>5.0</td>\n",
       "      <td>5.0</td>\n",
       "      <td>bogo</td>\n",
       "      <td>5.0</td>\n",
       "      <td>1.0</td>\n",
       "      <td>...</td>\n",
       "      <td>0.0</td>\n",
       "      <td>0.0</td>\n",
       "      <td>0.0</td>\n",
       "      <td>0.0</td>\n",
       "      <td>0.0</td>\n",
       "      <td>0.0</td>\n",
       "      <td>0.0</td>\n",
       "      <td>0.0</td>\n",
       "      <td>0.0</td>\n",
       "      <td>0.0</td>\n",
       "    </tr>\n",
       "    <tr>\n",
       "      <th>7</th>\n",
       "      <td>40.0</td>\n",
       "      <td>O</td>\n",
       "      <td>57000.0</td>\n",
       "      <td>0</td>\n",
       "      <td>17540</td>\n",
       "      <td>0.0</td>\n",
       "      <td>4.0</td>\n",
       "      <td>informational</td>\n",
       "      <td>0.0</td>\n",
       "      <td>1.0</td>\n",
       "      <td>...</td>\n",
       "      <td>0.0</td>\n",
       "      <td>0.0</td>\n",
       "      <td>0.0</td>\n",
       "      <td>0.0</td>\n",
       "      <td>0.0</td>\n",
       "      <td>0.0</td>\n",
       "      <td>0.0</td>\n",
       "      <td>0.0</td>\n",
       "      <td>0.0</td>\n",
       "      <td>0.0</td>\n",
       "    </tr>\n",
       "    <tr>\n",
       "      <th>8</th>\n",
       "      <td>40.0</td>\n",
       "      <td>O</td>\n",
       "      <td>57000.0</td>\n",
       "      <td>0</td>\n",
       "      <td>17540</td>\n",
       "      <td>7.0</td>\n",
       "      <td>7.0</td>\n",
       "      <td>discount</td>\n",
       "      <td>3.0</td>\n",
       "      <td>1.0</td>\n",
       "      <td>...</td>\n",
       "      <td>0.0</td>\n",
       "      <td>0.0</td>\n",
       "      <td>0.0</td>\n",
       "      <td>0.0</td>\n",
       "      <td>0.0</td>\n",
       "      <td>0.0</td>\n",
       "      <td>0.0</td>\n",
       "      <td>0.0</td>\n",
       "      <td>0.0</td>\n",
       "      <td>0.0</td>\n",
       "    </tr>\n",
       "    <tr>\n",
       "      <th>12</th>\n",
       "      <td>59.0</td>\n",
       "      <td>F</td>\n",
       "      <td>90000.0</td>\n",
       "      <td>0</td>\n",
       "      <td>16864</td>\n",
       "      <td>10.0</td>\n",
       "      <td>10.0</td>\n",
       "      <td>discount</td>\n",
       "      <td>2.0</td>\n",
       "      <td>1.0</td>\n",
       "      <td>...</td>\n",
       "      <td>0.0</td>\n",
       "      <td>0.0</td>\n",
       "      <td>0.0</td>\n",
       "      <td>0.0</td>\n",
       "      <td>0.0</td>\n",
       "      <td>0.0</td>\n",
       "      <td>0.0</td>\n",
       "      <td>0.0</td>\n",
       "      <td>0.0</td>\n",
       "      <td>0.0</td>\n",
       "    </tr>\n",
       "  </tbody>\n",
       "</table>\n",
       "<p>5 rows × 118 columns</p>\n",
       "</div>"
      ],
      "text/plain": [
       "     age gender   income  missing_demographics  member_epoch_days  difficulty  \\\n",
       "0   33.0      M  72000.0                     0              17277         0.0   \n",
       "5    NaN   None      NaN                     1              17646         5.0   \n",
       "7   40.0      O  57000.0                     0              17540         0.0   \n",
       "8   40.0      O  57000.0                     0              17540         7.0   \n",
       "12  59.0      F  90000.0                     0              16864        10.0   \n",
       "\n",
       "    duration     offer_type  reward_t  channel_web  \\\n",
       "0        3.0  informational       0.0          0.0   \n",
       "5        5.0           bogo       5.0          1.0   \n",
       "7        4.0  informational       0.0          1.0   \n",
       "8        7.0       discount       3.0          1.0   \n",
       "12      10.0       discount       2.0          1.0   \n",
       "\n",
       "                ...               difficulty_7.0_success_ratio  \\\n",
       "0               ...                                        0.0   \n",
       "5               ...                                        0.0   \n",
       "7               ...                                        0.0   \n",
       "8               ...                                        0.0   \n",
       "12              ...                                        0.0   \n",
       "\n",
       "    reward_10.0_success_ratio  reward_0.0_success_ratio  \\\n",
       "0                         0.0                       0.0   \n",
       "5                         0.0                       0.0   \n",
       "7                         0.0                       0.0   \n",
       "8                         0.0                       0.0   \n",
       "12                        0.0                       0.0   \n",
       "\n",
       "    reward_5.0_success_ratio  reward_3.0_success_ratio  \\\n",
       "0                        0.0                       0.0   \n",
       "5                        0.0                       0.0   \n",
       "7                        0.0                       0.0   \n",
       "8                        0.0                       0.0   \n",
       "12                       0.0                       0.0   \n",
       "\n",
       "    reward_2.0_success_ratio  channel_web_success_ratio  \\\n",
       "0                        0.0                        0.0   \n",
       "5                        0.0                        0.0   \n",
       "7                        0.0                        0.0   \n",
       "8                        0.0                        0.0   \n",
       "12                       0.0                        0.0   \n",
       "\n",
       "    channel_email_success_ratio  channel_social_success_ratio  \\\n",
       "0                           0.0                           0.0   \n",
       "5                           0.0                           0.0   \n",
       "7                           0.0                           0.0   \n",
       "8                           0.0                           0.0   \n",
       "12                          0.0                           0.0   \n",
       "\n",
       "    channel_mobile_success_ratio  \n",
       "0                            0.0  \n",
       "5                            0.0  \n",
       "7                            0.0  \n",
       "8                            0.0  \n",
       "12                           0.0  \n",
       "\n",
       "[5 rows x 118 columns]"
      ]
     },
     "execution_count": 78,
     "metadata": {},
     "output_type": "execute_result"
    }
   ],
   "source": [
    "X_train_o.head()"
   ]
  },
  {
   "cell_type": "code",
   "execution_count": null,
   "metadata": {
    "collapsed": true
   },
   "outputs": [],
   "source": []
  },
  {
   "cell_type": "markdown",
   "metadata": {},
   "source": [
    "### Let's train a simple profits estimator"
   ]
  },
  {
   "cell_type": "code",
   "execution_count": 79,
   "metadata": {
    "collapsed": true
   },
   "outputs": [],
   "source": [
    "from xgboost import XGBRegressor"
   ]
  },
  {
   "cell_type": "code",
   "execution_count": 80,
   "metadata": {
    "collapsed": true
   },
   "outputs": [],
   "source": [
    "X_train, X_test, y_train, y_test, encoder =\\\n",
    "get_profit_10_days_data(drop_offer_id=False)"
   ]
  },
  {
   "cell_type": "code",
   "execution_count": 81,
   "metadata": {
    "collapsed": false
   },
   "outputs": [],
   "source": [
    "model = Pipeline([\n",
    "    ('encoder', encoder),\n",
    "    ('imputer', md.BasicImputer()),\n",
    "    ('estimator', XGBRegressor(max_depth=4, n_estimators=200, n_jobs=-1,\n",
    "                                random_state=2018))\n",
    "])"
   ]
  },
  {
   "cell_type": "code",
   "execution_count": 82,
   "metadata": {
    "collapsed": false
   },
   "outputs": [
    {
     "name": "stdout",
     "output_type": "stream",
     "text": [
      "CPU times: user 16.1 s, sys: 27.8 ms, total: 16.2 s\n",
      "Wall time: 15.7 s\n"
     ]
    },
    {
     "data": {
      "text/plain": [
       "Pipeline(memory=None,\n",
       "     steps=[('encoder', BasicEncoderProfits(custom_features=None)), ('imputer', BasicImputer(fill_mode=[])), ('estimator', XGBRegressor(base_score=0.5, booster='gbtree', colsample_bylevel=1,\n",
       "       colsample_bytree=1, gamma=0, learning_rate=0.1, max_delta_step=0,\n",
       "       max_depth=4, min_child_weight=1, m...\n",
       "       reg_alpha=0, reg_lambda=1, scale_pos_weight=1, seed=None,\n",
       "       silent=True, subsample=1))])"
      ]
     },
     "execution_count": 82,
     "metadata": {},
     "output_type": "execute_result"
    }
   ],
   "source": [
    "%time model.fit(X_train, y_train)"
   ]
  },
  {
   "cell_type": "code",
   "execution_count": 83,
   "metadata": {
    "collapsed": false
   },
   "outputs": [],
   "source": [
    "y_train_pred = model.predict(X_train)"
   ]
  },
  {
   "cell_type": "code",
   "execution_count": 84,
   "metadata": {
    "collapsed": false
   },
   "outputs": [],
   "source": [
    "from sklearn.metrics import mean_squared_error as mse"
   ]
  },
  {
   "cell_type": "code",
   "execution_count": 85,
   "metadata": {
    "collapsed": false
   },
   "outputs": [
    {
     "name": "stdout",
     "output_type": "stream",
     "text": [
      "Training error (RMSE) = 49.68743573619416\n"
     ]
    }
   ],
   "source": [
    "print('Training error (RMSE) = {}'.format(np.sqrt(mse(y_train, y_train_pred))))"
   ]
  },
  {
   "cell_type": "code",
   "execution_count": 86,
   "metadata": {
    "collapsed": false
   },
   "outputs": [
    {
     "name": "stdout",
     "output_type": "stream",
     "text": [
      "Test error (RMSE) = 65.56712234730111\n"
     ]
    }
   ],
   "source": [
    "y_test_pred = model.predict(X_test)\n",
    "print('Test error (RMSE) = {}'.format(np.sqrt(mse(y_test, y_test_pred))))"
   ]
  },
  {
   "cell_type": "code",
   "execution_count": 87,
   "metadata": {
    "collapsed": false,
    "scrolled": true
   },
   "outputs": [
    {
     "data": {
      "text/plain": [
       "(12778, 119)"
      ]
     },
     "execution_count": 87,
     "metadata": {},
     "output_type": "execute_result"
    }
   ],
   "source": [
    "X_test.shape"
   ]
  },
  {
   "cell_type": "code",
   "execution_count": 88,
   "metadata": {
    "collapsed": false,
    "scrolled": false
   },
   "outputs": [
    {
     "data": {
      "text/html": [
       "<div>\n",
       "<style scoped>\n",
       "    .dataframe tbody tr th:only-of-type {\n",
       "        vertical-align: middle;\n",
       "    }\n",
       "\n",
       "    .dataframe tbody tr th {\n",
       "        vertical-align: top;\n",
       "    }\n",
       "\n",
       "    .dataframe thead th {\n",
       "        text-align: right;\n",
       "    }\n",
       "</style>\n",
       "<table border=\"1\" class=\"dataframe\">\n",
       "  <thead>\n",
       "    <tr style=\"text-align: right;\">\n",
       "      <th></th>\n",
       "      <th>true</th>\n",
       "      <th>pred</th>\n",
       "    </tr>\n",
       "  </thead>\n",
       "  <tbody>\n",
       "    <tr>\n",
       "      <th>2</th>\n",
       "      <td>41.51</td>\n",
       "      <td>161.283142</td>\n",
       "    </tr>\n",
       "    <tr>\n",
       "      <th>10</th>\n",
       "      <td>40.08</td>\n",
       "      <td>23.791924</td>\n",
       "    </tr>\n",
       "    <tr>\n",
       "      <th>15</th>\n",
       "      <td>41.10</td>\n",
       "      <td>64.386620</td>\n",
       "    </tr>\n",
       "    <tr>\n",
       "      <th>19</th>\n",
       "      <td>69.19</td>\n",
       "      <td>56.681511</td>\n",
       "    </tr>\n",
       "    <tr>\n",
       "      <th>24</th>\n",
       "      <td>22.45</td>\n",
       "      <td>223.449234</td>\n",
       "    </tr>\n",
       "    <tr>\n",
       "      <th>29</th>\n",
       "      <td>6.59</td>\n",
       "      <td>58.785099</td>\n",
       "    </tr>\n",
       "    <tr>\n",
       "      <th>36</th>\n",
       "      <td>133.12</td>\n",
       "      <td>61.480885</td>\n",
       "    </tr>\n",
       "    <tr>\n",
       "      <th>41</th>\n",
       "      <td>10.65</td>\n",
       "      <td>12.679276</td>\n",
       "    </tr>\n",
       "    <tr>\n",
       "      <th>45</th>\n",
       "      <td>81.39</td>\n",
       "      <td>55.418987</td>\n",
       "    </tr>\n",
       "    <tr>\n",
       "      <th>50</th>\n",
       "      <td>0.00</td>\n",
       "      <td>-3.409606</td>\n",
       "    </tr>\n",
       "    <tr>\n",
       "      <th>54</th>\n",
       "      <td>8.73</td>\n",
       "      <td>4.146682</td>\n",
       "    </tr>\n",
       "    <tr>\n",
       "      <th>60</th>\n",
       "      <td>21.35</td>\n",
       "      <td>86.137360</td>\n",
       "    </tr>\n",
       "    <tr>\n",
       "      <th>66</th>\n",
       "      <td>24.69</td>\n",
       "      <td>48.339535</td>\n",
       "    </tr>\n",
       "    <tr>\n",
       "      <th>71</th>\n",
       "      <td>28.04</td>\n",
       "      <td>31.840933</td>\n",
       "    </tr>\n",
       "    <tr>\n",
       "      <th>76</th>\n",
       "      <td>4.65</td>\n",
       "      <td>4.543057</td>\n",
       "    </tr>\n",
       "    <tr>\n",
       "      <th>82</th>\n",
       "      <td>5.10</td>\n",
       "      <td>11.251467</td>\n",
       "    </tr>\n",
       "    <tr>\n",
       "      <th>87</th>\n",
       "      <td>106.98</td>\n",
       "      <td>71.537109</td>\n",
       "    </tr>\n",
       "    <tr>\n",
       "      <th>93</th>\n",
       "      <td>1.32</td>\n",
       "      <td>-1.594480</td>\n",
       "    </tr>\n",
       "    <tr>\n",
       "      <th>103</th>\n",
       "      <td>2.51</td>\n",
       "      <td>-1.484365</td>\n",
       "    </tr>\n",
       "    <tr>\n",
       "      <th>109</th>\n",
       "      <td>53.21</td>\n",
       "      <td>48.238705</td>\n",
       "    </tr>\n",
       "    <tr>\n",
       "      <th>114</th>\n",
       "      <td>9.51</td>\n",
       "      <td>4.835291</td>\n",
       "    </tr>\n",
       "    <tr>\n",
       "      <th>119</th>\n",
       "      <td>130.25</td>\n",
       "      <td>47.680099</td>\n",
       "    </tr>\n",
       "    <tr>\n",
       "      <th>133</th>\n",
       "      <td>83.15</td>\n",
       "      <td>54.381939</td>\n",
       "    </tr>\n",
       "    <tr>\n",
       "      <th>136</th>\n",
       "      <td>105.63</td>\n",
       "      <td>69.515083</td>\n",
       "    </tr>\n",
       "    <tr>\n",
       "      <th>140</th>\n",
       "      <td>3.89</td>\n",
       "      <td>1.084190</td>\n",
       "    </tr>\n",
       "    <tr>\n",
       "      <th>143</th>\n",
       "      <td>11.90</td>\n",
       "      <td>5.024876</td>\n",
       "    </tr>\n",
       "    <tr>\n",
       "      <th>146</th>\n",
       "      <td>28.57</td>\n",
       "      <td>29.505186</td>\n",
       "    </tr>\n",
       "    <tr>\n",
       "      <th>151</th>\n",
       "      <td>49.94</td>\n",
       "      <td>60.881626</td>\n",
       "    </tr>\n",
       "    <tr>\n",
       "      <th>156</th>\n",
       "      <td>0.00</td>\n",
       "      <td>99.117882</td>\n",
       "    </tr>\n",
       "    <tr>\n",
       "      <th>164</th>\n",
       "      <td>35.18</td>\n",
       "      <td>27.286114</td>\n",
       "    </tr>\n",
       "    <tr>\n",
       "      <th>...</th>\n",
       "      <td>...</td>\n",
       "      <td>...</td>\n",
       "    </tr>\n",
       "    <tr>\n",
       "      <th>76108</th>\n",
       "      <td>114.65</td>\n",
       "      <td>44.394756</td>\n",
       "    </tr>\n",
       "    <tr>\n",
       "      <th>76113</th>\n",
       "      <td>20.15</td>\n",
       "      <td>24.176661</td>\n",
       "    </tr>\n",
       "    <tr>\n",
       "      <th>76117</th>\n",
       "      <td>107.08</td>\n",
       "      <td>77.184395</td>\n",
       "    </tr>\n",
       "    <tr>\n",
       "      <th>76122</th>\n",
       "      <td>0.00</td>\n",
       "      <td>26.645922</td>\n",
       "    </tr>\n",
       "    <tr>\n",
       "      <th>76136</th>\n",
       "      <td>13.97</td>\n",
       "      <td>86.274620</td>\n",
       "    </tr>\n",
       "    <tr>\n",
       "      <th>76141</th>\n",
       "      <td>0.00</td>\n",
       "      <td>55.237869</td>\n",
       "    </tr>\n",
       "    <tr>\n",
       "      <th>76145</th>\n",
       "      <td>28.64</td>\n",
       "      <td>6.901511</td>\n",
       "    </tr>\n",
       "    <tr>\n",
       "      <th>76151</th>\n",
       "      <td>22.61</td>\n",
       "      <td>38.883511</td>\n",
       "    </tr>\n",
       "    <tr>\n",
       "      <th>76156</th>\n",
       "      <td>24.66</td>\n",
       "      <td>23.178070</td>\n",
       "    </tr>\n",
       "    <tr>\n",
       "      <th>76161</th>\n",
       "      <td>46.32</td>\n",
       "      <td>64.809059</td>\n",
       "    </tr>\n",
       "    <tr>\n",
       "      <th>76165</th>\n",
       "      <td>147.68</td>\n",
       "      <td>121.323166</td>\n",
       "    </tr>\n",
       "    <tr>\n",
       "      <th>76169</th>\n",
       "      <td>0.00</td>\n",
       "      <td>7.070858</td>\n",
       "    </tr>\n",
       "    <tr>\n",
       "      <th>76174</th>\n",
       "      <td>47.47</td>\n",
       "      <td>56.298424</td>\n",
       "    </tr>\n",
       "    <tr>\n",
       "      <th>76180</th>\n",
       "      <td>9.55</td>\n",
       "      <td>65.539558</td>\n",
       "    </tr>\n",
       "    <tr>\n",
       "      <th>76185</th>\n",
       "      <td>112.00</td>\n",
       "      <td>166.608582</td>\n",
       "    </tr>\n",
       "    <tr>\n",
       "      <th>76194</th>\n",
       "      <td>0.00</td>\n",
       "      <td>16.009922</td>\n",
       "    </tr>\n",
       "    <tr>\n",
       "      <th>76198</th>\n",
       "      <td>19.28</td>\n",
       "      <td>76.920448</td>\n",
       "    </tr>\n",
       "    <tr>\n",
       "      <th>76206</th>\n",
       "      <td>50.68</td>\n",
       "      <td>21.698338</td>\n",
       "    </tr>\n",
       "    <tr>\n",
       "      <th>76211</th>\n",
       "      <td>0.00</td>\n",
       "      <td>7.801909</td>\n",
       "    </tr>\n",
       "    <tr>\n",
       "      <th>76214</th>\n",
       "      <td>38.76</td>\n",
       "      <td>37.886032</td>\n",
       "    </tr>\n",
       "    <tr>\n",
       "      <th>76219</th>\n",
       "      <td>19.60</td>\n",
       "      <td>37.134281</td>\n",
       "    </tr>\n",
       "    <tr>\n",
       "      <th>76225</th>\n",
       "      <td>13.32</td>\n",
       "      <td>43.593540</td>\n",
       "    </tr>\n",
       "    <tr>\n",
       "      <th>76230</th>\n",
       "      <td>98.61</td>\n",
       "      <td>64.063721</td>\n",
       "    </tr>\n",
       "    <tr>\n",
       "      <th>76236</th>\n",
       "      <td>9.97</td>\n",
       "      <td>-0.171970</td>\n",
       "    </tr>\n",
       "    <tr>\n",
       "      <th>76250</th>\n",
       "      <td>85.40</td>\n",
       "      <td>71.183334</td>\n",
       "    </tr>\n",
       "    <tr>\n",
       "      <th>76256</th>\n",
       "      <td>430.14</td>\n",
       "      <td>49.573822</td>\n",
       "    </tr>\n",
       "    <tr>\n",
       "      <th>76261</th>\n",
       "      <td>10.09</td>\n",
       "      <td>30.850098</td>\n",
       "    </tr>\n",
       "    <tr>\n",
       "      <th>76264</th>\n",
       "      <td>8.09</td>\n",
       "      <td>10.258457</td>\n",
       "    </tr>\n",
       "    <tr>\n",
       "      <th>76269</th>\n",
       "      <td>26.13</td>\n",
       "      <td>31.891413</td>\n",
       "    </tr>\n",
       "    <tr>\n",
       "      <th>76274</th>\n",
       "      <td>79.77</td>\n",
       "      <td>70.798973</td>\n",
       "    </tr>\n",
       "  </tbody>\n",
       "</table>\n",
       "<p>12778 rows × 2 columns</p>\n",
       "</div>"
      ],
      "text/plain": [
       "         true        pred\n",
       "2       41.51  161.283142\n",
       "10      40.08   23.791924\n",
       "15      41.10   64.386620\n",
       "19      69.19   56.681511\n",
       "24      22.45  223.449234\n",
       "29       6.59   58.785099\n",
       "36     133.12   61.480885\n",
       "41      10.65   12.679276\n",
       "45      81.39   55.418987\n",
       "50       0.00   -3.409606\n",
       "54       8.73    4.146682\n",
       "60      21.35   86.137360\n",
       "66      24.69   48.339535\n",
       "71      28.04   31.840933\n",
       "76       4.65    4.543057\n",
       "82       5.10   11.251467\n",
       "87     106.98   71.537109\n",
       "93       1.32   -1.594480\n",
       "103      2.51   -1.484365\n",
       "109     53.21   48.238705\n",
       "114      9.51    4.835291\n",
       "119    130.25   47.680099\n",
       "133     83.15   54.381939\n",
       "136    105.63   69.515083\n",
       "140      3.89    1.084190\n",
       "143     11.90    5.024876\n",
       "146     28.57   29.505186\n",
       "151     49.94   60.881626\n",
       "156      0.00   99.117882\n",
       "164     35.18   27.286114\n",
       "...       ...         ...\n",
       "76108  114.65   44.394756\n",
       "76113   20.15   24.176661\n",
       "76117  107.08   77.184395\n",
       "76122    0.00   26.645922\n",
       "76136   13.97   86.274620\n",
       "76141    0.00   55.237869\n",
       "76145   28.64    6.901511\n",
       "76151   22.61   38.883511\n",
       "76156   24.66   23.178070\n",
       "76161   46.32   64.809059\n",
       "76165  147.68  121.323166\n",
       "76169    0.00    7.070858\n",
       "76174   47.47   56.298424\n",
       "76180    9.55   65.539558\n",
       "76185  112.00  166.608582\n",
       "76194    0.00   16.009922\n",
       "76198   19.28   76.920448\n",
       "76206   50.68   21.698338\n",
       "76211    0.00    7.801909\n",
       "76214   38.76   37.886032\n",
       "76219   19.60   37.134281\n",
       "76225   13.32   43.593540\n",
       "76230   98.61   64.063721\n",
       "76236    9.97   -0.171970\n",
       "76250   85.40   71.183334\n",
       "76256  430.14   49.573822\n",
       "76261   10.09   30.850098\n",
       "76264    8.09   10.258457\n",
       "76269   26.13   31.891413\n",
       "76274   79.77   70.798973\n",
       "\n",
       "[12778 rows x 2 columns]"
      ]
     },
     "execution_count": 88,
     "metadata": {},
     "output_type": "execute_result"
    }
   ],
   "source": [
    "test_res = pd.DataFrame(columns=['true', 'pred'])\n",
    "test_res['true'] = y_test\n",
    "test_res['pred'] = y_test_pred\n",
    "test_res"
   ]
  },
  {
   "cell_type": "code",
   "execution_count": 89,
   "metadata": {
    "collapsed": false,
    "scrolled": true
   },
   "outputs": [
    {
     "data": {
      "text/plain": [
       "<matplotlib.axes._subplots.AxesSubplot at 0x7f0e70986208>"
      ]
     },
     "execution_count": 89,
     "metadata": {},
     "output_type": "execute_result"
    },
    {
     "data": {
      "image/png": "[encoded data removed]",
      "text/plain": [
       "<Figure size 432x288 with 1 Axes>"
      ]
     },
     "metadata": {
      "needs_background": "dark"
     },
     "output_type": "display_data"
    }
   ],
   "source": [
    "test_res.sort_values(by='true').plot(style='.')"
   ]
  },
  {
   "cell_type": "code",
   "execution_count": 90,
   "metadata": {
    "collapsed": false
   },
   "outputs": [
    {
     "data": {
      "text/plain": [
       "<matplotlib.axes._subplots.AxesSubplot at 0x7f0e708f52e8>"
      ]
     },
     "execution_count": 90,
     "metadata": {},
     "output_type": "execute_result"
    },
    {
     "data": {
      "image/png": "[encoded data removed]",
      "text/plain": [
       "<Figure size 432x288 with 1 Axes>"
      ]
     },
     "metadata": {
      "needs_background": "dark"
     },
     "output_type": "display_data"
    }
   ],
   "source": [
    "((test_res.pred - test_res.true) / test_res.true).abs().sort_values().reset_index(drop=True).plot()"
   ]
  },
  {
   "cell_type": "code",
   "execution_count": 91,
   "metadata": {
    "collapsed": false
   },
   "outputs": [],
   "source": [
    "relative_error = ((test_res.pred - test_res.true) / test_res.true).abs()"
   ]
  },
  {
   "cell_type": "code",
   "execution_count": 92,
   "metadata": {
    "collapsed": false
   },
   "outputs": [
    {
     "data": {
      "text/plain": [
       "977"
      ]
     },
     "execution_count": 92,
     "metadata": {},
     "output_type": "execute_result"
    }
   ],
   "source": [
    "(relative_error == np.inf).sum()"
   ]
  },
  {
   "cell_type": "code",
   "execution_count": 93,
   "metadata": {
    "collapsed": false
   },
   "outputs": [
    {
     "data": {
      "text/plain": [
       "1.6332644627362536"
      ]
     },
     "execution_count": 93,
     "metadata": {},
     "output_type": "execute_result"
    }
   ],
   "source": [
    "relative_error[np.isfinite(relative_error)].mean()"
   ]
  },
  {
   "cell_type": "markdown",
   "metadata": {},
   "source": [
    "### Let's pick a user and decide which would be the most profitable offer we can send them."
   ]
  },
  {
   "cell_type": "code",
   "execution_count": 94,
   "metadata": {
    "collapsed": false
   },
   "outputs": [
    {
     "name": "stdout",
     "output_type": "stream",
     "text": [
      "Basic preprocessing\n",
      "CPU times: user 1.77 s, sys: 28 ms, total: 1.8 s\n",
      "Wall time: 1.8 s\n"
     ]
    }
   ],
   "source": [
    "# Read the data\n",
    "portfolio = pd.read_json(os.path.join(DATA_RAW, 'portfolio.json'), orient='records', lines=True)\n",
    "profile = pd.read_json(os.path.join(DATA_RAW, 'profile.json'), orient='records', lines=True)\n",
    "transcript = pd.read_json(os.path.join(DATA_RAW, 'transcript.json'), orient='records', lines=True)\n",
    "\n",
    "# Basic Preprocessing\n",
    "print('Basic preprocessing')\n",
    "%time _, portfolio = pp.basic_preprocessing(portfolio, profile, transcript)"
   ]
  },
  {
   "cell_type": "code",
   "execution_count": 95,
   "metadata": {
    "collapsed": false
   },
   "outputs": [],
   "source": [
    "def predict_profit_with_offer(model, data, offer, drop_offer_id=False):\n",
    "    \"\"\" Predicts how much will be the profit in 10 days for a given an offer. \"\"\"\n",
    "    samples = data.copy()\n",
    "    if drop_offer_id:\n",
    "        std_offer = offer.drop('id').rename(index={'reward': 'reward_t'})\n",
    "    else:\n",
    "        std_offer = offer.rename(index={'reward': 'reward_t', 'id': 'offer_id'})\n",
    "    samples.loc[:, std_offer.index] = np.repeat(std_offer.values.reshape(1, -1), samples.shape[0], axis=0)\n",
    "    \n",
    "    return pd.Series(model.predict(samples), name=offer.id).T"
   ]
  },
  {
   "cell_type": "code",
   "execution_count": 96,
   "metadata": {
    "collapsed": false
   },
   "outputs": [
    {
     "data": {
      "text/plain": [
       "0    166.283401\n",
       "1     26.076126\n",
       "2     64.386620\n",
       "3     60.839657\n",
       "4    194.869888\n",
       "Name: 4d5c57ea9a6940dd891ad53e9dbe8da0, dtype: float32"
      ]
     },
     "execution_count": 96,
     "metadata": {},
     "output_type": "execute_result"
    }
   ],
   "source": [
    "predict_profit_with_offer(model, X_test, portfolio.iloc[1]).head()"
   ]
  },
  {
   "cell_type": "code",
   "execution_count": 97,
   "metadata": {
    "collapsed": false
   },
   "outputs": [
    {
     "data": {
      "text/html": [
       "<div>\n",
       "<style scoped>\n",
       "    .dataframe tbody tr th:only-of-type {\n",
       "        vertical-align: middle;\n",
       "    }\n",
       "\n",
       "    .dataframe tbody tr th {\n",
       "        vertical-align: top;\n",
       "    }\n",
       "\n",
       "    .dataframe thead th {\n",
       "        text-align: right;\n",
       "    }\n",
       "</style>\n",
       "<table border=\"1\" class=\"dataframe\">\n",
       "  <thead>\n",
       "    <tr style=\"text-align: right;\">\n",
       "      <th></th>\n",
       "      <th>difficulty</th>\n",
       "      <th>duration</th>\n",
       "      <th>id</th>\n",
       "      <th>offer_type</th>\n",
       "      <th>reward</th>\n",
       "      <th>channel_mobile</th>\n",
       "      <th>channel_social</th>\n",
       "      <th>channel_email</th>\n",
       "      <th>channel_web</th>\n",
       "    </tr>\n",
       "  </thead>\n",
       "  <tbody>\n",
       "    <tr>\n",
       "      <th>0</th>\n",
       "      <td>10</td>\n",
       "      <td>7</td>\n",
       "      <td>ae264e3637204a6fb9bb56bc8210ddfd</td>\n",
       "      <td>bogo</td>\n",
       "      <td>10</td>\n",
       "      <td>1</td>\n",
       "      <td>1</td>\n",
       "      <td>1</td>\n",
       "      <td>0</td>\n",
       "    </tr>\n",
       "    <tr>\n",
       "      <th>1</th>\n",
       "      <td>10</td>\n",
       "      <td>5</td>\n",
       "      <td>4d5c57ea9a6940dd891ad53e9dbe8da0</td>\n",
       "      <td>bogo</td>\n",
       "      <td>10</td>\n",
       "      <td>1</td>\n",
       "      <td>1</td>\n",
       "      <td>1</td>\n",
       "      <td>1</td>\n",
       "    </tr>\n",
       "    <tr>\n",
       "      <th>2</th>\n",
       "      <td>0</td>\n",
       "      <td>4</td>\n",
       "      <td>3f207df678b143eea3cee63160fa8bed</td>\n",
       "      <td>informational</td>\n",
       "      <td>0</td>\n",
       "      <td>1</td>\n",
       "      <td>0</td>\n",
       "      <td>1</td>\n",
       "      <td>1</td>\n",
       "    </tr>\n",
       "    <tr>\n",
       "      <th>3</th>\n",
       "      <td>5</td>\n",
       "      <td>7</td>\n",
       "      <td>9b98b8c7a33c4b65b9aebfe6a799e6d9</td>\n",
       "      <td>bogo</td>\n",
       "      <td>5</td>\n",
       "      <td>1</td>\n",
       "      <td>0</td>\n",
       "      <td>1</td>\n",
       "      <td>1</td>\n",
       "    </tr>\n",
       "    <tr>\n",
       "      <th>4</th>\n",
       "      <td>20</td>\n",
       "      <td>10</td>\n",
       "      <td>0b1e1539f2cc45b7b9fa7c272da2e1d7</td>\n",
       "      <td>discount</td>\n",
       "      <td>5</td>\n",
       "      <td>0</td>\n",
       "      <td>0</td>\n",
       "      <td>1</td>\n",
       "      <td>1</td>\n",
       "    </tr>\n",
       "    <tr>\n",
       "      <th>5</th>\n",
       "      <td>7</td>\n",
       "      <td>7</td>\n",
       "      <td>2298d6c36e964ae4a3e7e9706d1fb8c2</td>\n",
       "      <td>discount</td>\n",
       "      <td>3</td>\n",
       "      <td>1</td>\n",
       "      <td>1</td>\n",
       "      <td>1</td>\n",
       "      <td>1</td>\n",
       "    </tr>\n",
       "    <tr>\n",
       "      <th>6</th>\n",
       "      <td>10</td>\n",
       "      <td>10</td>\n",
       "      <td>fafdcd668e3743c1bb461111dcafc2a4</td>\n",
       "      <td>discount</td>\n",
       "      <td>2</td>\n",
       "      <td>1</td>\n",
       "      <td>1</td>\n",
       "      <td>1</td>\n",
       "      <td>1</td>\n",
       "    </tr>\n",
       "    <tr>\n",
       "      <th>7</th>\n",
       "      <td>0</td>\n",
       "      <td>3</td>\n",
       "      <td>5a8bc65990b245e5a138643cd4eb9837</td>\n",
       "      <td>informational</td>\n",
       "      <td>0</td>\n",
       "      <td>1</td>\n",
       "      <td>1</td>\n",
       "      <td>1</td>\n",
       "      <td>0</td>\n",
       "    </tr>\n",
       "    <tr>\n",
       "      <th>8</th>\n",
       "      <td>5</td>\n",
       "      <td>5</td>\n",
       "      <td>f19421c1d4aa40978ebb69ca19b0e20d</td>\n",
       "      <td>bogo</td>\n",
       "      <td>5</td>\n",
       "      <td>1</td>\n",
       "      <td>1</td>\n",
       "      <td>1</td>\n",
       "      <td>1</td>\n",
       "    </tr>\n",
       "    <tr>\n",
       "      <th>9</th>\n",
       "      <td>10</td>\n",
       "      <td>7</td>\n",
       "      <td>2906b810c7d4411798c6938adc9daaa5</td>\n",
       "      <td>discount</td>\n",
       "      <td>2</td>\n",
       "      <td>1</td>\n",
       "      <td>0</td>\n",
       "      <td>1</td>\n",
       "      <td>1</td>\n",
       "    </tr>\n",
       "  </tbody>\n",
       "</table>\n",
       "</div>"
      ],
      "text/plain": [
       "   difficulty  duration                                id     offer_type  \\\n",
       "0          10         7  ae264e3637204a6fb9bb56bc8210ddfd           bogo   \n",
       "1          10         5  4d5c57ea9a6940dd891ad53e9dbe8da0           bogo   \n",
       "2           0         4  3f207df678b143eea3cee63160fa8bed  informational   \n",
       "3           5         7  9b98b8c7a33c4b65b9aebfe6a799e6d9           bogo   \n",
       "4          20        10  0b1e1539f2cc45b7b9fa7c272da2e1d7       discount   \n",
       "5           7         7  2298d6c36e964ae4a3e7e9706d1fb8c2       discount   \n",
       "6          10        10  fafdcd668e3743c1bb461111dcafc2a4       discount   \n",
       "7           0         3  5a8bc65990b245e5a138643cd4eb9837  informational   \n",
       "8           5         5  f19421c1d4aa40978ebb69ca19b0e20d           bogo   \n",
       "9          10         7  2906b810c7d4411798c6938adc9daaa5       discount   \n",
       "\n",
       "   reward  channel_mobile  channel_social  channel_email  channel_web  \n",
       "0      10               1               1              1            0  \n",
       "1      10               1               1              1            1  \n",
       "2       0               1               0              1            1  \n",
       "3       5               1               0              1            1  \n",
       "4       5               0               0              1            1  \n",
       "5       3               1               1              1            1  \n",
       "6       2               1               1              1            1  \n",
       "7       0               1               1              1            0  \n",
       "8       5               1               1              1            1  \n",
       "9       2               1               0              1            1  "
      ]
     },
     "execution_count": 97,
     "metadata": {},
     "output_type": "execute_result"
    }
   ],
   "source": [
    "portfolio"
   ]
  },
  {
   "cell_type": "code",
   "execution_count": 98,
   "metadata": {
    "collapsed": false
   },
   "outputs": [
    {
     "data": {
      "text/html": [
       "<div>\n",
       "<style scoped>\n",
       "    .dataframe tbody tr th:only-of-type {\n",
       "        vertical-align: middle;\n",
       "    }\n",
       "\n",
       "    .dataframe tbody tr th {\n",
       "        vertical-align: top;\n",
       "    }\n",
       "\n",
       "    .dataframe thead th {\n",
       "        text-align: right;\n",
       "    }\n",
       "</style>\n",
       "<table border=\"1\" class=\"dataframe\">\n",
       "  <thead>\n",
       "    <tr style=\"text-align: right;\">\n",
       "      <th></th>\n",
       "      <th>difficulty</th>\n",
       "      <th>duration</th>\n",
       "      <th>id</th>\n",
       "      <th>offer_type</th>\n",
       "      <th>reward</th>\n",
       "      <th>channel_mobile</th>\n",
       "      <th>channel_social</th>\n",
       "      <th>channel_email</th>\n",
       "      <th>channel_web</th>\n",
       "    </tr>\n",
       "  </thead>\n",
       "  <tbody>\n",
       "    <tr>\n",
       "      <th>0</th>\n",
       "      <td>10</td>\n",
       "      <td>7</td>\n",
       "      <td>ae264e3637204a6fb9bb56bc8210ddfd</td>\n",
       "      <td>bogo</td>\n",
       "      <td>10</td>\n",
       "      <td>1</td>\n",
       "      <td>1</td>\n",
       "      <td>1</td>\n",
       "      <td>0</td>\n",
       "    </tr>\n",
       "    <tr>\n",
       "      <th>1</th>\n",
       "      <td>10</td>\n",
       "      <td>5</td>\n",
       "      <td>4d5c57ea9a6940dd891ad53e9dbe8da0</td>\n",
       "      <td>bogo</td>\n",
       "      <td>10</td>\n",
       "      <td>1</td>\n",
       "      <td>1</td>\n",
       "      <td>1</td>\n",
       "      <td>1</td>\n",
       "    </tr>\n",
       "    <tr>\n",
       "      <th>2</th>\n",
       "      <td>0</td>\n",
       "      <td>4</td>\n",
       "      <td>3f207df678b143eea3cee63160fa8bed</td>\n",
       "      <td>informational</td>\n",
       "      <td>0</td>\n",
       "      <td>1</td>\n",
       "      <td>0</td>\n",
       "      <td>1</td>\n",
       "      <td>1</td>\n",
       "    </tr>\n",
       "    <tr>\n",
       "      <th>3</th>\n",
       "      <td>5</td>\n",
       "      <td>7</td>\n",
       "      <td>9b98b8c7a33c4b65b9aebfe6a799e6d9</td>\n",
       "      <td>bogo</td>\n",
       "      <td>5</td>\n",
       "      <td>1</td>\n",
       "      <td>0</td>\n",
       "      <td>1</td>\n",
       "      <td>1</td>\n",
       "    </tr>\n",
       "    <tr>\n",
       "      <th>4</th>\n",
       "      <td>20</td>\n",
       "      <td>10</td>\n",
       "      <td>0b1e1539f2cc45b7b9fa7c272da2e1d7</td>\n",
       "      <td>discount</td>\n",
       "      <td>5</td>\n",
       "      <td>0</td>\n",
       "      <td>0</td>\n",
       "      <td>1</td>\n",
       "      <td>1</td>\n",
       "    </tr>\n",
       "    <tr>\n",
       "      <th>5</th>\n",
       "      <td>7</td>\n",
       "      <td>7</td>\n",
       "      <td>2298d6c36e964ae4a3e7e9706d1fb8c2</td>\n",
       "      <td>discount</td>\n",
       "      <td>3</td>\n",
       "      <td>1</td>\n",
       "      <td>1</td>\n",
       "      <td>1</td>\n",
       "      <td>1</td>\n",
       "    </tr>\n",
       "    <tr>\n",
       "      <th>6</th>\n",
       "      <td>10</td>\n",
       "      <td>10</td>\n",
       "      <td>fafdcd668e3743c1bb461111dcafc2a4</td>\n",
       "      <td>discount</td>\n",
       "      <td>2</td>\n",
       "      <td>1</td>\n",
       "      <td>1</td>\n",
       "      <td>1</td>\n",
       "      <td>1</td>\n",
       "    </tr>\n",
       "    <tr>\n",
       "      <th>7</th>\n",
       "      <td>0</td>\n",
       "      <td>3</td>\n",
       "      <td>5a8bc65990b245e5a138643cd4eb9837</td>\n",
       "      <td>informational</td>\n",
       "      <td>0</td>\n",
       "      <td>1</td>\n",
       "      <td>1</td>\n",
       "      <td>1</td>\n",
       "      <td>0</td>\n",
       "    </tr>\n",
       "    <tr>\n",
       "      <th>8</th>\n",
       "      <td>5</td>\n",
       "      <td>5</td>\n",
       "      <td>f19421c1d4aa40978ebb69ca19b0e20d</td>\n",
       "      <td>bogo</td>\n",
       "      <td>5</td>\n",
       "      <td>1</td>\n",
       "      <td>1</td>\n",
       "      <td>1</td>\n",
       "      <td>1</td>\n",
       "    </tr>\n",
       "    <tr>\n",
       "      <th>9</th>\n",
       "      <td>10</td>\n",
       "      <td>7</td>\n",
       "      <td>2906b810c7d4411798c6938adc9daaa5</td>\n",
       "      <td>discount</td>\n",
       "      <td>2</td>\n",
       "      <td>1</td>\n",
       "      <td>0</td>\n",
       "      <td>1</td>\n",
       "      <td>1</td>\n",
       "    </tr>\n",
       "    <tr>\n",
       "      <th>10</th>\n",
       "      <td>0</td>\n",
       "      <td>0</td>\n",
       "      <td>no_offer</td>\n",
       "      <td>no_offer</td>\n",
       "      <td>0</td>\n",
       "      <td>0</td>\n",
       "      <td>0</td>\n",
       "      <td>0</td>\n",
       "      <td>0</td>\n",
       "    </tr>\n",
       "  </tbody>\n",
       "</table>\n",
       "</div>"
      ],
      "text/plain": [
       "    difficulty  duration                                id     offer_type  \\\n",
       "0           10         7  ae264e3637204a6fb9bb56bc8210ddfd           bogo   \n",
       "1           10         5  4d5c57ea9a6940dd891ad53e9dbe8da0           bogo   \n",
       "2            0         4  3f207df678b143eea3cee63160fa8bed  informational   \n",
       "3            5         7  9b98b8c7a33c4b65b9aebfe6a799e6d9           bogo   \n",
       "4           20        10  0b1e1539f2cc45b7b9fa7c272da2e1d7       discount   \n",
       "5            7         7  2298d6c36e964ae4a3e7e9706d1fb8c2       discount   \n",
       "6           10        10  fafdcd668e3743c1bb461111dcafc2a4       discount   \n",
       "7            0         3  5a8bc65990b245e5a138643cd4eb9837  informational   \n",
       "8            5         5  f19421c1d4aa40978ebb69ca19b0e20d           bogo   \n",
       "9           10         7  2906b810c7d4411798c6938adc9daaa5       discount   \n",
       "10           0         0                          no_offer       no_offer   \n",
       "\n",
       "    reward  channel_mobile  channel_social  channel_email  channel_web  \n",
       "0       10               1               1              1            0  \n",
       "1       10               1               1              1            1  \n",
       "2        0               1               0              1            1  \n",
       "3        5               1               0              1            1  \n",
       "4        5               0               0              1            1  \n",
       "5        3               1               1              1            1  \n",
       "6        2               1               1              1            1  \n",
       "7        0               1               1              1            0  \n",
       "8        5               1               1              1            1  \n",
       "9        2               1               0              1            1  \n",
       "10       0               0               0              0            0  "
      ]
     },
     "execution_count": 98,
     "metadata": {},
     "output_type": "execute_result"
    }
   ],
   "source": [
    "complete_portfolio = portfolio.copy()\n",
    "null_offer = pd.Series([0, 0, 'no_offer', 'no_offer', 0, 0, 0, 0, 0],\n",
    "                       index=complete_portfolio.columns, name=complete_portfolio.shape[0])\n",
    "complete_portfolio = complete_portfolio.append(null_offer)\n",
    "complete_portfolio"
   ]
  },
  {
   "cell_type": "code",
   "execution_count": 99,
   "metadata": {
    "collapsed": false
   },
   "outputs": [
    {
     "data": {
      "text/plain": [
       "(12778, 11)"
      ]
     },
     "execution_count": 99,
     "metadata": {},
     "output_type": "execute_result"
    }
   ],
   "source": [
    "res = complete_portfolio.apply(lambda x: predict_profit_with_offer(model, X_test, x), axis=1).T\n",
    "res.columns = complete_portfolio.id\n",
    "res.shape"
   ]
  },
  {
   "cell_type": "code",
   "execution_count": 100,
   "metadata": {
    "collapsed": false
   },
   "outputs": [
    {
     "data": {
      "text/html": [
       "<div>\n",
       "<style scoped>\n",
       "    .dataframe tbody tr th:only-of-type {\n",
       "        vertical-align: middle;\n",
       "    }\n",
       "\n",
       "    .dataframe tbody tr th {\n",
       "        vertical-align: top;\n",
       "    }\n",
       "\n",
       "    .dataframe thead th {\n",
       "        text-align: right;\n",
       "    }\n",
       "</style>\n",
       "<table border=\"1\" class=\"dataframe\">\n",
       "  <thead>\n",
       "    <tr style=\"text-align: right;\">\n",
       "      <th>id</th>\n",
       "      <th>ae264e3637204a6fb9bb56bc8210ddfd</th>\n",
       "      <th>4d5c57ea9a6940dd891ad53e9dbe8da0</th>\n",
       "      <th>3f207df678b143eea3cee63160fa8bed</th>\n",
       "      <th>9b98b8c7a33c4b65b9aebfe6a799e6d9</th>\n",
       "      <th>0b1e1539f2cc45b7b9fa7c272da2e1d7</th>\n",
       "      <th>2298d6c36e964ae4a3e7e9706d1fb8c2</th>\n",
       "      <th>fafdcd668e3743c1bb461111dcafc2a4</th>\n",
       "      <th>5a8bc65990b245e5a138643cd4eb9837</th>\n",
       "      <th>f19421c1d4aa40978ebb69ca19b0e20d</th>\n",
       "      <th>2906b810c7d4411798c6938adc9daaa5</th>\n",
       "      <th>no_offer</th>\n",
       "    </tr>\n",
       "  </thead>\n",
       "  <tbody>\n",
       "    <tr>\n",
       "      <th>0</th>\n",
       "      <td>172.773361</td>\n",
       "      <td>166.283401</td>\n",
       "      <td>164.727707</td>\n",
       "      <td>168.690842</td>\n",
       "      <td>157.889359</td>\n",
       "      <td>172.720535</td>\n",
       "      <td>185.436066</td>\n",
       "      <td>164.004715</td>\n",
       "      <td>168.394806</td>\n",
       "      <td>170.829453</td>\n",
       "      <td>161.283142</td>\n",
       "    </tr>\n",
       "    <tr>\n",
       "      <th>1</th>\n",
       "      <td>26.946207</td>\n",
       "      <td>26.076126</td>\n",
       "      <td>28.519405</td>\n",
       "      <td>27.075087</td>\n",
       "      <td>23.791924</td>\n",
       "      <td>28.589231</td>\n",
       "      <td>31.710272</td>\n",
       "      <td>27.332481</td>\n",
       "      <td>26.838003</td>\n",
       "      <td>29.067387</td>\n",
       "      <td>26.223358</td>\n",
       "    </tr>\n",
       "    <tr>\n",
       "      <th>2</th>\n",
       "      <td>84.755737</td>\n",
       "      <td>64.386620</td>\n",
       "      <td>59.507278</td>\n",
       "      <td>84.568245</td>\n",
       "      <td>76.274399</td>\n",
       "      <td>88.683197</td>\n",
       "      <td>96.699623</td>\n",
       "      <td>54.470222</td>\n",
       "      <td>64.624115</td>\n",
       "      <td>93.288048</td>\n",
       "      <td>60.267361</td>\n",
       "    </tr>\n",
       "    <tr>\n",
       "      <th>3</th>\n",
       "      <td>65.903229</td>\n",
       "      <td>60.839657</td>\n",
       "      <td>60.668015</td>\n",
       "      <td>64.852112</td>\n",
       "      <td>64.427925</td>\n",
       "      <td>67.332115</td>\n",
       "      <td>80.868492</td>\n",
       "      <td>56.681511</td>\n",
       "      <td>63.297794</td>\n",
       "      <td>68.562347</td>\n",
       "      <td>59.588730</td>\n",
       "    </tr>\n",
       "    <tr>\n",
       "      <th>4</th>\n",
       "      <td>212.203644</td>\n",
       "      <td>194.869888</td>\n",
       "      <td>200.652451</td>\n",
       "      <td>211.634659</td>\n",
       "      <td>201.878250</td>\n",
       "      <td>216.646103</td>\n",
       "      <td>223.449234</td>\n",
       "      <td>194.774796</td>\n",
       "      <td>196.580368</td>\n",
       "      <td>222.571884</td>\n",
       "      <td>200.903305</td>\n",
       "    </tr>\n",
       "  </tbody>\n",
       "</table>\n",
       "</div>"
      ],
      "text/plain": [
       "id  ae264e3637204a6fb9bb56bc8210ddfd  4d5c57ea9a6940dd891ad53e9dbe8da0  \\\n",
       "0                         172.773361                        166.283401   \n",
       "1                          26.946207                         26.076126   \n",
       "2                          84.755737                         64.386620   \n",
       "3                          65.903229                         60.839657   \n",
       "4                         212.203644                        194.869888   \n",
       "\n",
       "id  3f207df678b143eea3cee63160fa8bed  9b98b8c7a33c4b65b9aebfe6a799e6d9  \\\n",
       "0                         164.727707                        168.690842   \n",
       "1                          28.519405                         27.075087   \n",
       "2                          59.507278                         84.568245   \n",
       "3                          60.668015                         64.852112   \n",
       "4                         200.652451                        211.634659   \n",
       "\n",
       "id  0b1e1539f2cc45b7b9fa7c272da2e1d7  2298d6c36e964ae4a3e7e9706d1fb8c2  \\\n",
       "0                         157.889359                        172.720535   \n",
       "1                          23.791924                         28.589231   \n",
       "2                          76.274399                         88.683197   \n",
       "3                          64.427925                         67.332115   \n",
       "4                         201.878250                        216.646103   \n",
       "\n",
       "id  fafdcd668e3743c1bb461111dcafc2a4  5a8bc65990b245e5a138643cd4eb9837  \\\n",
       "0                         185.436066                        164.004715   \n",
       "1                          31.710272                         27.332481   \n",
       "2                          96.699623                         54.470222   \n",
       "3                          80.868492                         56.681511   \n",
       "4                         223.449234                        194.774796   \n",
       "\n",
       "id  f19421c1d4aa40978ebb69ca19b0e20d  2906b810c7d4411798c6938adc9daaa5  \\\n",
       "0                         168.394806                        170.829453   \n",
       "1                          26.838003                         29.067387   \n",
       "2                          64.624115                         93.288048   \n",
       "3                          63.297794                         68.562347   \n",
       "4                         196.580368                        222.571884   \n",
       "\n",
       "id    no_offer  \n",
       "0   161.283142  \n",
       "1    26.223358  \n",
       "2    60.267361  \n",
       "3    59.588730  \n",
       "4   200.903305  "
      ]
     },
     "execution_count": 100,
     "metadata": {},
     "output_type": "execute_result"
    }
   ],
   "source": [
    "res.head()"
   ]
  },
  {
   "cell_type": "code",
   "execution_count": 101,
   "metadata": {
    "collapsed": false
   },
   "outputs": [
    {
     "data": {
      "text/html": [
       "<div>\n",
       "<style scoped>\n",
       "    .dataframe tbody tr th:only-of-type {\n",
       "        vertical-align: middle;\n",
       "    }\n",
       "\n",
       "    .dataframe tbody tr th {\n",
       "        vertical-align: top;\n",
       "    }\n",
       "\n",
       "    .dataframe thead th {\n",
       "        text-align: right;\n",
       "    }\n",
       "</style>\n",
       "<table border=\"1\" class=\"dataframe\">\n",
       "  <thead>\n",
       "    <tr style=\"text-align: right;\">\n",
       "      <th>id</th>\n",
       "      <th>ae264e3637204a6fb9bb56bc8210ddfd</th>\n",
       "      <th>4d5c57ea9a6940dd891ad53e9dbe8da0</th>\n",
       "      <th>3f207df678b143eea3cee63160fa8bed</th>\n",
       "      <th>9b98b8c7a33c4b65b9aebfe6a799e6d9</th>\n",
       "      <th>0b1e1539f2cc45b7b9fa7c272da2e1d7</th>\n",
       "      <th>2298d6c36e964ae4a3e7e9706d1fb8c2</th>\n",
       "      <th>fafdcd668e3743c1bb461111dcafc2a4</th>\n",
       "      <th>5a8bc65990b245e5a138643cd4eb9837</th>\n",
       "      <th>f19421c1d4aa40978ebb69ca19b0e20d</th>\n",
       "      <th>2906b810c7d4411798c6938adc9daaa5</th>\n",
       "      <th>no_offer</th>\n",
       "    </tr>\n",
       "  </thead>\n",
       "  <tbody>\n",
       "    <tr>\n",
       "      <th>count</th>\n",
       "      <td>12778.000000</td>\n",
       "      <td>12778.000000</td>\n",
       "      <td>12778.000000</td>\n",
       "      <td>12778.000000</td>\n",
       "      <td>12778.000000</td>\n",
       "      <td>12778.000000</td>\n",
       "      <td>12778.000000</td>\n",
       "      <td>12778.000000</td>\n",
       "      <td>12778.000000</td>\n",
       "      <td>12778.000000</td>\n",
       "      <td>12778.000000</td>\n",
       "    </tr>\n",
       "    <tr>\n",
       "      <th>mean</th>\n",
       "      <td>38.646446</td>\n",
       "      <td>35.012550</td>\n",
       "      <td>35.701847</td>\n",
       "      <td>39.120037</td>\n",
       "      <td>37.150085</td>\n",
       "      <td>41.013008</td>\n",
       "      <td>47.945843</td>\n",
       "      <td>33.199703</td>\n",
       "      <td>35.952854</td>\n",
       "      <td>42.544369</td>\n",
       "      <td>33.969223</td>\n",
       "    </tr>\n",
       "    <tr>\n",
       "      <th>std</th>\n",
       "      <td>32.790443</td>\n",
       "      <td>30.118114</td>\n",
       "      <td>27.073235</td>\n",
       "      <td>32.483715</td>\n",
       "      <td>35.595108</td>\n",
       "      <td>31.685730</td>\n",
       "      <td>35.326900</td>\n",
       "      <td>26.666719</td>\n",
       "      <td>30.290836</td>\n",
       "      <td>32.057640</td>\n",
       "      <td>29.407246</td>\n",
       "    </tr>\n",
       "    <tr>\n",
       "      <th>min</th>\n",
       "      <td>-12.227659</td>\n",
       "      <td>-11.472479</td>\n",
       "      <td>-8.584282</td>\n",
       "      <td>-9.678270</td>\n",
       "      <td>-25.050116</td>\n",
       "      <td>-12.092134</td>\n",
       "      <td>-3.013086</td>\n",
       "      <td>-11.351426</td>\n",
       "      <td>-6.650651</td>\n",
       "      <td>-10.295974</td>\n",
       "      <td>-7.863291</td>\n",
       "    </tr>\n",
       "    <tr>\n",
       "      <th>25%</th>\n",
       "      <td>12.071297</td>\n",
       "      <td>11.032092</td>\n",
       "      <td>14.493437</td>\n",
       "      <td>12.531816</td>\n",
       "      <td>10.380508</td>\n",
       "      <td>14.065307</td>\n",
       "      <td>18.798587</td>\n",
       "      <td>12.065371</td>\n",
       "      <td>12.133776</td>\n",
       "      <td>15.454016</td>\n",
       "      <td>12.094405</td>\n",
       "    </tr>\n",
       "    <tr>\n",
       "      <th>50%</th>\n",
       "      <td>33.105923</td>\n",
       "      <td>29.871875</td>\n",
       "      <td>33.169220</td>\n",
       "      <td>34.069429</td>\n",
       "      <td>30.808695</td>\n",
       "      <td>36.035975</td>\n",
       "      <td>42.507177</td>\n",
       "      <td>30.135440</td>\n",
       "      <td>31.404767</td>\n",
       "      <td>38.069677</td>\n",
       "      <td>30.854597</td>\n",
       "    </tr>\n",
       "    <tr>\n",
       "      <th>75%</th>\n",
       "      <td>59.189095</td>\n",
       "      <td>52.636271</td>\n",
       "      <td>50.952511</td>\n",
       "      <td>59.237474</td>\n",
       "      <td>55.493708</td>\n",
       "      <td>62.343003</td>\n",
       "      <td>71.431698</td>\n",
       "      <td>48.089652</td>\n",
       "      <td>53.133011</td>\n",
       "      <td>63.692473</td>\n",
       "      <td>49.141231</td>\n",
       "    </tr>\n",
       "    <tr>\n",
       "      <th>max</th>\n",
       "      <td>541.126770</td>\n",
       "      <td>432.425537</td>\n",
       "      <td>481.332581</td>\n",
       "      <td>524.403687</td>\n",
       "      <td>429.158447</td>\n",
       "      <td>439.593628</td>\n",
       "      <td>391.865234</td>\n",
       "      <td>410.179352</td>\n",
       "      <td>404.472717</td>\n",
       "      <td>464.510681</td>\n",
       "      <td>495.320282</td>\n",
       "    </tr>\n",
       "  </tbody>\n",
       "</table>\n",
       "</div>"
      ],
      "text/plain": [
       "id     ae264e3637204a6fb9bb56bc8210ddfd  4d5c57ea9a6940dd891ad53e9dbe8da0  \\\n",
       "count                      12778.000000                      12778.000000   \n",
       "mean                          38.646446                         35.012550   \n",
       "std                           32.790443                         30.118114   \n",
       "min                          -12.227659                        -11.472479   \n",
       "25%                           12.071297                         11.032092   \n",
       "50%                           33.105923                         29.871875   \n",
       "75%                           59.189095                         52.636271   \n",
       "max                          541.126770                        432.425537   \n",
       "\n",
       "id     3f207df678b143eea3cee63160fa8bed  9b98b8c7a33c4b65b9aebfe6a799e6d9  \\\n",
       "count                      12778.000000                      12778.000000   \n",
       "mean                          35.701847                         39.120037   \n",
       "std                           27.073235                         32.483715   \n",
       "min                           -8.584282                         -9.678270   \n",
       "25%                           14.493437                         12.531816   \n",
       "50%                           33.169220                         34.069429   \n",
       "75%                           50.952511                         59.237474   \n",
       "max                          481.332581                        524.403687   \n",
       "\n",
       "id     0b1e1539f2cc45b7b9fa7c272da2e1d7  2298d6c36e964ae4a3e7e9706d1fb8c2  \\\n",
       "count                      12778.000000                      12778.000000   \n",
       "mean                          37.150085                         41.013008   \n",
       "std                           35.595108                         31.685730   \n",
       "min                          -25.050116                        -12.092134   \n",
       "25%                           10.380508                         14.065307   \n",
       "50%                           30.808695                         36.035975   \n",
       "75%                           55.493708                         62.343003   \n",
       "max                          429.158447                        439.593628   \n",
       "\n",
       "id     fafdcd668e3743c1bb461111dcafc2a4  5a8bc65990b245e5a138643cd4eb9837  \\\n",
       "count                      12778.000000                      12778.000000   \n",
       "mean                          47.945843                         33.199703   \n",
       "std                           35.326900                         26.666719   \n",
       "min                           -3.013086                        -11.351426   \n",
       "25%                           18.798587                         12.065371   \n",
       "50%                           42.507177                         30.135440   \n",
       "75%                           71.431698                         48.089652   \n",
       "max                          391.865234                        410.179352   \n",
       "\n",
       "id     f19421c1d4aa40978ebb69ca19b0e20d  2906b810c7d4411798c6938adc9daaa5  \\\n",
       "count                      12778.000000                      12778.000000   \n",
       "mean                          35.952854                         42.544369   \n",
       "std                           30.290836                         32.057640   \n",
       "min                           -6.650651                        -10.295974   \n",
       "25%                           12.133776                         15.454016   \n",
       "50%                           31.404767                         38.069677   \n",
       "75%                           53.133011                         63.692473   \n",
       "max                          404.472717                        464.510681   \n",
       "\n",
       "id         no_offer  \n",
       "count  12778.000000  \n",
       "mean      33.969223  \n",
       "std       29.407246  \n",
       "min       -7.863291  \n",
       "25%       12.094405  \n",
       "50%       30.854597  \n",
       "75%       49.141231  \n",
       "max      495.320282  "
      ]
     },
     "execution_count": 101,
     "metadata": {},
     "output_type": "execute_result"
    }
   ],
   "source": [
    "res.describe()"
   ]
  },
  {
   "cell_type": "code",
   "execution_count": 102,
   "metadata": {
    "collapsed": false
   },
   "outputs": [
    {
     "data": {
      "text/html": [
       "<div>\n",
       "<style scoped>\n",
       "    .dataframe tbody tr th:only-of-type {\n",
       "        vertical-align: middle;\n",
       "    }\n",
       "\n",
       "    .dataframe tbody tr th {\n",
       "        vertical-align: top;\n",
       "    }\n",
       "\n",
       "    .dataframe thead th {\n",
       "        text-align: right;\n",
       "    }\n",
       "</style>\n",
       "<table border=\"1\" class=\"dataframe\">\n",
       "  <thead>\n",
       "    <tr style=\"text-align: right;\">\n",
       "      <th></th>\n",
       "      <th>index</th>\n",
       "      <th>0</th>\n",
       "      <th>difficulty</th>\n",
       "      <th>duration</th>\n",
       "      <th>id</th>\n",
       "      <th>offer_type</th>\n",
       "      <th>reward</th>\n",
       "      <th>channel_mobile</th>\n",
       "      <th>channel_social</th>\n",
       "      <th>channel_email</th>\n",
       "      <th>channel_web</th>\n",
       "    </tr>\n",
       "  </thead>\n",
       "  <tbody>\n",
       "    <tr>\n",
       "      <th>0</th>\n",
       "      <td>fafdcd668e3743c1bb461111dcafc2a4</td>\n",
       "      <td>8860</td>\n",
       "      <td>10</td>\n",
       "      <td>10</td>\n",
       "      <td>fafdcd668e3743c1bb461111dcafc2a4</td>\n",
       "      <td>discount</td>\n",
       "      <td>2</td>\n",
       "      <td>1</td>\n",
       "      <td>1</td>\n",
       "      <td>1</td>\n",
       "      <td>1</td>\n",
       "    </tr>\n",
       "    <tr>\n",
       "      <th>1</th>\n",
       "      <td>2906b810c7d4411798c6938adc9daaa5</td>\n",
       "      <td>1932</td>\n",
       "      <td>10</td>\n",
       "      <td>7</td>\n",
       "      <td>2906b810c7d4411798c6938adc9daaa5</td>\n",
       "      <td>discount</td>\n",
       "      <td>2</td>\n",
       "      <td>1</td>\n",
       "      <td>0</td>\n",
       "      <td>1</td>\n",
       "      <td>1</td>\n",
       "    </tr>\n",
       "    <tr>\n",
       "      <th>2</th>\n",
       "      <td>0b1e1539f2cc45b7b9fa7c272da2e1d7</td>\n",
       "      <td>736</td>\n",
       "      <td>20</td>\n",
       "      <td>10</td>\n",
       "      <td>0b1e1539f2cc45b7b9fa7c272da2e1d7</td>\n",
       "      <td>discount</td>\n",
       "      <td>5</td>\n",
       "      <td>0</td>\n",
       "      <td>0</td>\n",
       "      <td>1</td>\n",
       "      <td>1</td>\n",
       "    </tr>\n",
       "    <tr>\n",
       "      <th>3</th>\n",
       "      <td>2298d6c36e964ae4a3e7e9706d1fb8c2</td>\n",
       "      <td>298</td>\n",
       "      <td>7</td>\n",
       "      <td>7</td>\n",
       "      <td>2298d6c36e964ae4a3e7e9706d1fb8c2</td>\n",
       "      <td>discount</td>\n",
       "      <td>3</td>\n",
       "      <td>1</td>\n",
       "      <td>1</td>\n",
       "      <td>1</td>\n",
       "      <td>1</td>\n",
       "    </tr>\n",
       "    <tr>\n",
       "      <th>4</th>\n",
       "      <td>9b98b8c7a33c4b65b9aebfe6a799e6d9</td>\n",
       "      <td>278</td>\n",
       "      <td>5</td>\n",
       "      <td>7</td>\n",
       "      <td>9b98b8c7a33c4b65b9aebfe6a799e6d9</td>\n",
       "      <td>bogo</td>\n",
       "      <td>5</td>\n",
       "      <td>1</td>\n",
       "      <td>0</td>\n",
       "      <td>1</td>\n",
       "      <td>1</td>\n",
       "    </tr>\n",
       "    <tr>\n",
       "      <th>5</th>\n",
       "      <td>f19421c1d4aa40978ebb69ca19b0e20d</td>\n",
       "      <td>151</td>\n",
       "      <td>5</td>\n",
       "      <td>5</td>\n",
       "      <td>f19421c1d4aa40978ebb69ca19b0e20d</td>\n",
       "      <td>bogo</td>\n",
       "      <td>5</td>\n",
       "      <td>1</td>\n",
       "      <td>1</td>\n",
       "      <td>1</td>\n",
       "      <td>1</td>\n",
       "    </tr>\n",
       "    <tr>\n",
       "      <th>6</th>\n",
       "      <td>ae264e3637204a6fb9bb56bc8210ddfd</td>\n",
       "      <td>82</td>\n",
       "      <td>10</td>\n",
       "      <td>7</td>\n",
       "      <td>ae264e3637204a6fb9bb56bc8210ddfd</td>\n",
       "      <td>bogo</td>\n",
       "      <td>10</td>\n",
       "      <td>1</td>\n",
       "      <td>1</td>\n",
       "      <td>1</td>\n",
       "      <td>0</td>\n",
       "    </tr>\n",
       "    <tr>\n",
       "      <th>7</th>\n",
       "      <td>3f207df678b143eea3cee63160fa8bed</td>\n",
       "      <td>62</td>\n",
       "      <td>0</td>\n",
       "      <td>4</td>\n",
       "      <td>3f207df678b143eea3cee63160fa8bed</td>\n",
       "      <td>informational</td>\n",
       "      <td>0</td>\n",
       "      <td>1</td>\n",
       "      <td>0</td>\n",
       "      <td>1</td>\n",
       "      <td>1</td>\n",
       "    </tr>\n",
       "    <tr>\n",
       "      <th>8</th>\n",
       "      <td>4d5c57ea9a6940dd891ad53e9dbe8da0</td>\n",
       "      <td>58</td>\n",
       "      <td>10</td>\n",
       "      <td>5</td>\n",
       "      <td>4d5c57ea9a6940dd891ad53e9dbe8da0</td>\n",
       "      <td>bogo</td>\n",
       "      <td>10</td>\n",
       "      <td>1</td>\n",
       "      <td>1</td>\n",
       "      <td>1</td>\n",
       "      <td>1</td>\n",
       "    </tr>\n",
       "    <tr>\n",
       "      <th>9</th>\n",
       "      <td>5a8bc65990b245e5a138643cd4eb9837</td>\n",
       "      <td>33</td>\n",
       "      <td>0</td>\n",
       "      <td>3</td>\n",
       "      <td>5a8bc65990b245e5a138643cd4eb9837</td>\n",
       "      <td>informational</td>\n",
       "      <td>0</td>\n",
       "      <td>1</td>\n",
       "      <td>1</td>\n",
       "      <td>1</td>\n",
       "      <td>0</td>\n",
       "    </tr>\n",
       "  </tbody>\n",
       "</table>\n",
       "</div>"
      ],
      "text/plain": [
       "                              index     0  difficulty  duration  \\\n",
       "0  fafdcd668e3743c1bb461111dcafc2a4  8860          10        10   \n",
       "1  2906b810c7d4411798c6938adc9daaa5  1932          10         7   \n",
       "2  0b1e1539f2cc45b7b9fa7c272da2e1d7   736          20        10   \n",
       "3  2298d6c36e964ae4a3e7e9706d1fb8c2   298           7         7   \n",
       "4  9b98b8c7a33c4b65b9aebfe6a799e6d9   278           5         7   \n",
       "5  f19421c1d4aa40978ebb69ca19b0e20d   151           5         5   \n",
       "6  ae264e3637204a6fb9bb56bc8210ddfd    82          10         7   \n",
       "7  3f207df678b143eea3cee63160fa8bed    62           0         4   \n",
       "8  4d5c57ea9a6940dd891ad53e9dbe8da0    58          10         5   \n",
       "9  5a8bc65990b245e5a138643cd4eb9837    33           0         3   \n",
       "\n",
       "                                 id     offer_type  reward  channel_mobile  \\\n",
       "0  fafdcd668e3743c1bb461111dcafc2a4       discount       2               1   \n",
       "1  2906b810c7d4411798c6938adc9daaa5       discount       2               1   \n",
       "2  0b1e1539f2cc45b7b9fa7c272da2e1d7       discount       5               0   \n",
       "3  2298d6c36e964ae4a3e7e9706d1fb8c2       discount       3               1   \n",
       "4  9b98b8c7a33c4b65b9aebfe6a799e6d9           bogo       5               1   \n",
       "5  f19421c1d4aa40978ebb69ca19b0e20d           bogo       5               1   \n",
       "6  ae264e3637204a6fb9bb56bc8210ddfd           bogo      10               1   \n",
       "7  3f207df678b143eea3cee63160fa8bed  informational       0               1   \n",
       "8  4d5c57ea9a6940dd891ad53e9dbe8da0           bogo      10               1   \n",
       "9  5a8bc65990b245e5a138643cd4eb9837  informational       0               1   \n",
       "\n",
       "   channel_social  channel_email  channel_web  \n",
       "0               1              1            1  \n",
       "1               0              1            1  \n",
       "2               0              1            1  \n",
       "3               1              1            1  \n",
       "4               0              1            1  \n",
       "5               1              1            1  \n",
       "6               1              1            0  \n",
       "7               0              1            1  \n",
       "8               1              1            1  \n",
       "9               1              1            0  "
      ]
     },
     "execution_count": 102,
     "metadata": {},
     "output_type": "execute_result"
    }
   ],
   "source": [
    "selected_offers = res.idxmax(axis=1)\n",
    "selected_offers.value_counts().reset_index().merge(portfolio, left_on='index', right_on='id')"
   ]
  },
  {
   "cell_type": "code",
   "execution_count": 103,
   "metadata": {
    "collapsed": true
   },
   "outputs": [],
   "source": [
    "def choose_offer(model, X, portfolio, add_null_offer=True):\n",
    "    \"\"\"\n",
    "    Given a model and a features dataframe it returns the\n",
    "    model that maximizes the model predictions.\n",
    "    \"\"\"\n",
    "    complete_portfolio = portfolio.copy()\n",
    "    \n",
    "    # Add the null offer\n",
    "    if add_null_offer:\n",
    "        null_offer = pd.Series([0, 0, 'no_offer', 'no_offer', 0, 0, 0, 0, 0],\n",
    "                               index=complete_portfolio.columns, \n",
    "                               name=complete_portfolio.shape[0])\n",
    "        complete_portfolio = complete_portfolio.append(null_offer)\n",
    "    \n",
    "    res = complete_portfolio.apply(\n",
    "        lambda x: predict_profit_with_offer(model, X, x), axis=1).T\n",
    "    res.columns = complete_portfolio.id\n",
    "    \n",
    "    return res.idxmax(axis=1)"
   ]
  },
  {
   "cell_type": "code",
   "execution_count": 104,
   "metadata": {
    "collapsed": false
   },
   "outputs": [
    {
     "data": {
      "text/plain": [
       "0    fafdcd668e3743c1bb461111dcafc2a4\n",
       "1    fafdcd668e3743c1bb461111dcafc2a4\n",
       "2    fafdcd668e3743c1bb461111dcafc2a4\n",
       "3    fafdcd668e3743c1bb461111dcafc2a4\n",
       "4    fafdcd668e3743c1bb461111dcafc2a4\n",
       "dtype: object"
      ]
     },
     "execution_count": 104,
     "metadata": {},
     "output_type": "execute_result"
    }
   ],
   "source": [
    "selected_offers = choose_offer(model, X_test, portfolio)\n",
    "selected_offers.head()"
   ]
  },
  {
   "cell_type": "code",
   "execution_count": 105,
   "metadata": {
    "collapsed": false
   },
   "outputs": [
    {
     "data": {
      "text/plain": [
       "0.08162466739708875"
      ]
     },
     "execution_count": 105,
     "metadata": {},
     "output_type": "execute_result"
    }
   ],
   "source": [
    "(X_test.offer_id == selected_offers.values).mean()"
   ]
  },
  {
   "cell_type": "code",
   "execution_count": 106,
   "metadata": {
    "collapsed": false
   },
   "outputs": [
    {
     "data": {
      "text/plain": [
       "1043"
      ]
     },
     "execution_count": 106,
     "metadata": {},
     "output_type": "execute_result"
    }
   ],
   "source": [
    "(X_test.offer_id == selected_offers.values).sum()"
   ]
  },
  {
   "cell_type": "markdown",
   "metadata": {},
   "source": [
    "We could check the actual profit on those samples that, by chance, were sent the selected offer."
   ]
  },
  {
   "cell_type": "code",
   "execution_count": 107,
   "metadata": {
    "collapsed": false
   },
   "outputs": [
    {
     "data": {
      "text/plain": [
       "51836.95"
      ]
     },
     "execution_count": 107,
     "metadata": {},
     "output_type": "execute_result"
    }
   ],
   "source": [
    "coincidences = y_test[X_test.offer_id == selected_offers.values]\n",
    "coincidences.sum()"
   ]
  },
  {
   "cell_type": "markdown",
   "metadata": {},
   "source": [
    "Now we select a random sample, of the same size, from the test set, and compare with the above profit."
   ]
  },
  {
   "cell_type": "code",
   "execution_count": 108,
   "metadata": {
    "collapsed": false
   },
   "outputs": [
    {
     "data": {
      "text/plain": [
       "44223.119999999995"
      ]
     },
     "execution_count": 108,
     "metadata": {},
     "output_type": "execute_result"
    }
   ],
   "source": [
    "np.random.seed(2018)\n",
    "np.random.choice(y_test, coincidences.shape[0], replace=False).sum()"
   ]
  },
  {
   "cell_type": "markdown",
   "metadata": {},
   "source": [
    "## 3) Let's find P(viewed | offer)"
   ]
  },
  {
   "cell_type": "code",
   "execution_count": 110,
   "metadata": {
    "collapsed": false
   },
   "outputs": [
    {
     "data": {
      "text/plain": [
       "'viewed'"
      ]
     },
     "execution_count": 110,
     "metadata": {},
     "output_type": "execute_result"
    }
   ],
   "source": [
    "X_train, X_test, y_train, y_test, encoder =\\\n",
    "get_profit_10_days_data(fill_null=False, \n",
    "                        target='viewed', drop_offer_id=False)\n",
    "y_train.name"
   ]
  },
  {
   "cell_type": "code",
   "execution_count": 111,
   "metadata": {
    "collapsed": true
   },
   "outputs": [],
   "source": [
    "model = Pipeline([\n",
    "    ('encoder', encoder),\n",
    "    ('imputer', md.BasicImputer()),\n",
    "    ('estimator', XGBClassifier(max_depth=7, n_estimators=200, n_jobs=-1,\n",
    "                                random_state=2018))\n",
    "])"
   ]
  },
  {
   "cell_type": "code",
   "execution_count": 112,
   "metadata": {
    "collapsed": false
   },
   "outputs": [
    {
     "name": "stdout",
     "output_type": "stream",
     "text": [
      "CPU times: user 26.5 s, sys: 7.81 ms, total: 26.5 s\n",
      "Wall time: 26.5 s\n",
      "--------------------------------------------TRAIN RESULTS--------------------------------------------\n",
      "Confusion Matrix:\n",
      "[[ 3312  2882]\n",
      " [  663 18462]]\n",
      "Classification Report:\n",
      "              precision    recall  f1-score   support\n",
      "\n",
      "           0       0.83      0.53      0.65      6194\n",
      "           1       0.86      0.97      0.91     19125\n",
      "\n",
      "   micro avg       0.86      0.86      0.86     25319\n",
      "   macro avg       0.85      0.75      0.78     25319\n",
      "weighted avg       0.86      0.86      0.85     25319\n",
      "\n",
      "----------------------------------------------------------------------------------------------------\n",
      "--------------------------------------------TEST RESULTS--------------------------------------------\n",
      "Confusion Matrix:\n",
      "[[1091 2027]\n",
      " [1127 8533]]\n",
      "Classification Report:\n",
      "              precision    recall  f1-score   support\n",
      "\n",
      "           0       0.49      0.35      0.41      3118\n",
      "           1       0.81      0.88      0.84      9660\n",
      "\n",
      "   micro avg       0.75      0.75      0.75     12778\n",
      "   macro avg       0.65      0.62      0.63     12778\n",
      "weighted avg       0.73      0.75      0.74     12778\n",
      "\n",
      "----------------------------------------------------------------------------------------------------\n",
      "\n",
      "___________________________________________________\n",
      "| MAIN METRIC (test f1-score): 0.8440158259149357 |\n",
      "---------------------------------------------------\n"
     ]
    }
   ],
   "source": [
    "from sklearn.metrics import classification_report, confusion_matrix, f1_score\n",
    "\n",
    "%time model.fit(X_train, y_train)\n",
    "\n",
    "# Predict and show results\n",
    "y_train_pred = model.predict(X_train)\n",
    "print('-' * 44 + 'TRAIN RESULTS' + '-' * 44)\n",
    "print('Confusion Matrix:')\n",
    "print(confusion_matrix(y_train, y_train_pred))\n",
    "print('Classification Report:')\n",
    "print(classification_report(y_train, y_train_pred))\n",
    "print('-' * 100)\n",
    "\n",
    "y_test_pred = model.predict(X_test)\n",
    "print('-' * 44 + 'TEST RESULTS' + '-' * 44)\n",
    "print('Confusion Matrix:')\n",
    "print(confusion_matrix(y_test, y_test_pred))\n",
    "print('Classification Report:')\n",
    "print(classification_report(y_test, y_test_pred))\n",
    "print('-' * 100)\n",
    "\n",
    "print('\\n' + '_' * 51)\n",
    "print('| MAIN METRIC (test f1-score): {} |'.format(\n",
    "    f1_score(y_test, y_test_pred)))\n",
    "print('-' * 51)"
   ]
  },
  {
   "cell_type": "code",
   "execution_count": 113,
   "metadata": {
    "collapsed": false
   },
   "outputs": [
    {
     "data": {
      "text/html": [
       "<script type=\"text/javascript\">window.PlotlyConfig = {MathJaxConfig: 'local'};</script><script type=\"text/javascript\">if (window.MathJax) {MathJax.Hub.Config({SVG: {font: \"STIX-Web\"}});}</script><script>requirejs.config({paths: { 'plotly': ['https://cdn.plot.ly/plotly-latest.min']},});if(!window._Plotly) {require(['plotly'],function(plotly) {window._Plotly=plotly;});}</script>"
      ],
      "text/vnd.plotly.v1+html": [
       "<script type=\"text/javascript\">window.PlotlyConfig = {MathJaxConfig: 'local'};</script><script type=\"text/javascript\">if (window.MathJax) {MathJax.Hub.Config({SVG: {font: \"STIX-Web\"}});}</script><script>requirejs.config({paths: { 'plotly': ['https://cdn.plot.ly/plotly-latest.min']},});if(!window._Plotly) {require(['plotly'],function(plotly) {window._Plotly=plotly;});}</script>"
      ]
     },
     "metadata": {},
     "output_type": "display_data"
    }
   ],
   "source": [
    "import src.visualization.visualize as vis"
   ]
  },
  {
   "cell_type": "code",
   "execution_count": 114,
   "metadata": {
    "collapsed": false
   },
   "outputs": [
    {
     "data": {
      "image/png": "[encoded data removed]",
      "text/plain": [
       "<Figure size 432x288 with 1 Axes>"
      ]
     },
     "metadata": {
      "needs_background": "dark"
     },
     "output_type": "display_data"
    },
    {
     "data": {
      "text/plain": [
       "<Figure size 432x288 with 0 Axes>"
      ]
     },
     "metadata": {},
     "output_type": "display_data"
    },
    {
     "data": {
      "image/png": "[encoded data removed]",
      "text/plain": [
       "<Figure size 432x288 with 1 Axes>"
      ]
     },
     "metadata": {
      "needs_background": "dark"
     },
     "output_type": "display_data"
    }
   ],
   "source": [
    "vis.show_feat_importances(model, X_train)"
   ]
  },
  {
   "cell_type": "code",
   "execution_count": 115,
   "metadata": {
    "collapsed": true
   },
   "outputs": [],
   "source": [
    "vis_probas_train = model.predict_proba(X_train)[:, 1]\n",
    "vis_probas_test = model.predict_proba(X_test)[:, 1]"
   ]
  },
  {
   "cell_type": "markdown",
   "metadata": {},
   "source": [
    "### Now, the full model"
   ]
  },
  {
   "cell_type": "code",
   "execution_count": 116,
   "metadata": {
    "collapsed": false
   },
   "outputs": [
    {
     "data": {
      "text/plain": [
       "array([0.9100658 , 0.9767224 , 0.8507627 , ..., 0.94540256, 0.9370554 ,\n",
       "       0.6583747 ], dtype=float32)"
      ]
     },
     "execution_count": 116,
     "metadata": {},
     "output_type": "execute_result"
    }
   ],
   "source": [
    "vis_probas_train"
   ]
  },
  {
   "cell_type": "code",
   "execution_count": 117,
   "metadata": {
    "collapsed": false
   },
   "outputs": [
    {
     "data": {
      "text/plain": [
       "(array([  110.,   498.,   974.,  1185.,  1403.,  2087.,  2528.,  2501.,\n",
       "         3922., 10111.]),\n",
       " array([0.02325942, 0.12075736, 0.2182553 , 0.31575322, 0.41325116,\n",
       "        0.5107491 , 0.60824704, 0.705745  , 0.8032429 , 0.90074086,\n",
       "        0.9982388 ], dtype=float32),\n",
       " <a list of 10 Patch objects>)"
      ]
     },
     "execution_count": 117,
     "metadata": {},
     "output_type": "execute_result"
    },
    {
     "data": {
      "image/png": "[encoded data removed]",
      "text/plain": [
       "<Figure size 432x288 with 1 Axes>"
      ]
     },
     "metadata": {
      "needs_background": "dark"
     },
     "output_type": "display_data"
    }
   ],
   "source": [
    "plt.hist(vis_probas_train)"
   ]
  },
  {
   "cell_type": "code",
   "execution_count": 118,
   "metadata": {
    "collapsed": false
   },
   "outputs": [
    {
     "data": {
      "text/plain": [
       "(25319,)"
      ]
     },
     "execution_count": 118,
     "metadata": {},
     "output_type": "execute_result"
    }
   ],
   "source": [
    "vis_probas_train.shape"
   ]
  },
  {
   "cell_type": "code",
   "execution_count": 119,
   "metadata": {
    "collapsed": false
   },
   "outputs": [
    {
     "data": {
      "text/plain": [
       "(25319,)"
      ]
     },
     "execution_count": 119,
     "metadata": {},
     "output_type": "execute_result"
    }
   ],
   "source": [
    "y_train.shape"
   ]
  },
  {
   "cell_type": "code",
   "execution_count": null,
   "metadata": {
    "collapsed": true
   },
   "outputs": [],
   "source": []
  },
  {
   "cell_type": "code",
   "execution_count": 120,
   "metadata": {
    "collapsed": false,
    "scrolled": true
   },
   "outputs": [
    {
     "name": "stdout",
     "output_type": "stream",
     "text": [
      "profit_10_days\n",
      "CPU times: user 14.7 s, sys: 27.8 ms, total: 14.7 s\n",
      "Wall time: 14.7 s\n"
     ]
    }
   ],
   "source": [
    "from xgboost import XGBRegressor\n",
    "from sklearn.metrics import mean_squared_error as mse\n",
    "\n",
    "X_train, X_test, y_train, y_test, encoder =\\\n",
    "get_profit_10_days_data(drop_offer_id=False)\n",
    "print(y_train.name)\n",
    "\n",
    "profit_est_model = Pipeline([\n",
    "    ('encoder', encoder),\n",
    "    ('imputer', md.BasicImputer()),\n",
    "    ('estimator', XGBRegressor(max_depth=4, n_estimators=200, n_jobs=-1,\n",
    "                                random_state=2018))\n",
    "])\n",
    "\n",
    "%time profit_est_model.fit(X_train, y_train)\n",
    "\n",
    "profit_train_pred = profit_est_model.predict(X_train)\n",
    "profit_test_pred = profit_est_model.predict(X_test)"
   ]
  },
  {
   "cell_type": "code",
   "execution_count": 121,
   "metadata": {
    "collapsed": false
   },
   "outputs": [
    {
     "data": {
      "text/plain": [
       "array(['5a8bc65990b245e5a138643cd4eb9837',\n",
       "       'f19421c1d4aa40978ebb69ca19b0e20d',\n",
       "       '3f207df678b143eea3cee63160fa8bed',\n",
       "       '2298d6c36e964ae4a3e7e9706d1fb8c2',\n",
       "       'fafdcd668e3743c1bb461111dcafc2a4', 'no_offer',\n",
       "       'ae264e3637204a6fb9bb56bc8210ddfd',\n",
       "       '9b98b8c7a33c4b65b9aebfe6a799e6d9',\n",
       "       '4d5c57ea9a6940dd891ad53e9dbe8da0',\n",
       "       '0b1e1539f2cc45b7b9fa7c272da2e1d7',\n",
       "       '2906b810c7d4411798c6938adc9daaa5'], dtype=object)"
      ]
     },
     "execution_count": 121,
     "metadata": {},
     "output_type": "execute_result"
    }
   ],
   "source": [
    "X_train.offer_id.unique()"
   ]
  },
  {
   "cell_type": "code",
   "execution_count": 122,
   "metadata": {
    "collapsed": false
   },
   "outputs": [],
   "source": [
    "y_train_pred = vis_probas_train * profit_train_pred\n",
    "y_test_pred = vis_probas_test * profit_test_pred"
   ]
  },
  {
   "cell_type": "code",
   "execution_count": 123,
   "metadata": {
    "collapsed": false
   },
   "outputs": [
    {
     "name": "stdout",
     "output_type": "stream",
     "text": [
      "Training error (RMSE) = 52.238636259357726\n"
     ]
    }
   ],
   "source": [
    "print('Training error (RMSE) = {}'.format(np.sqrt(mse(y_train, y_train_pred))))"
   ]
  },
  {
   "cell_type": "code",
   "execution_count": 124,
   "metadata": {
    "collapsed": false
   },
   "outputs": [
    {
     "name": "stdout",
     "output_type": "stream",
     "text": [
      "Test error (RMSE) = 67.28192723599389\n"
     ]
    }
   ],
   "source": [
    "print('Test error (RMSE) = {}'.format(np.sqrt(mse(y_test, y_test_pred))))"
   ]
  },
  {
   "cell_type": "code",
   "execution_count": 125,
   "metadata": {
    "collapsed": false,
    "scrolled": true
   },
   "outputs": [
    {
     "data": {
      "text/plain": [
       "(12778, 119)"
      ]
     },
     "execution_count": 125,
     "metadata": {},
     "output_type": "execute_result"
    }
   ],
   "source": [
    "X_test.shape"
   ]
  },
  {
   "cell_type": "code",
   "execution_count": 126,
   "metadata": {
    "collapsed": false,
    "scrolled": false
   },
   "outputs": [
    {
     "data": {
      "text/html": [
       "<div>\n",
       "<style scoped>\n",
       "    .dataframe tbody tr th:only-of-type {\n",
       "        vertical-align: middle;\n",
       "    }\n",
       "\n",
       "    .dataframe tbody tr th {\n",
       "        vertical-align: top;\n",
       "    }\n",
       "\n",
       "    .dataframe thead th {\n",
       "        text-align: right;\n",
       "    }\n",
       "</style>\n",
       "<table border=\"1\" class=\"dataframe\">\n",
       "  <thead>\n",
       "    <tr style=\"text-align: right;\">\n",
       "      <th></th>\n",
       "      <th>true</th>\n",
       "      <th>pred</th>\n",
       "    </tr>\n",
       "  </thead>\n",
       "  <tbody>\n",
       "    <tr>\n",
       "      <th>2</th>\n",
       "      <td>41.51</td>\n",
       "      <td>155.411179</td>\n",
       "    </tr>\n",
       "    <tr>\n",
       "      <th>10</th>\n",
       "      <td>40.08</td>\n",
       "      <td>21.152534</td>\n",
       "    </tr>\n",
       "    <tr>\n",
       "      <th>15</th>\n",
       "      <td>41.10</td>\n",
       "      <td>44.242661</td>\n",
       "    </tr>\n",
       "    <tr>\n",
       "      <th>19</th>\n",
       "      <td>69.19</td>\n",
       "      <td>49.427872</td>\n",
       "    </tr>\n",
       "    <tr>\n",
       "      <th>24</th>\n",
       "      <td>22.45</td>\n",
       "      <td>179.627609</td>\n",
       "    </tr>\n",
       "    <tr>\n",
       "      <th>29</th>\n",
       "      <td>6.59</td>\n",
       "      <td>9.426353</td>\n",
       "    </tr>\n",
       "    <tr>\n",
       "      <th>36</th>\n",
       "      <td>133.12</td>\n",
       "      <td>44.768425</td>\n",
       "    </tr>\n",
       "    <tr>\n",
       "      <th>41</th>\n",
       "      <td>10.65</td>\n",
       "      <td>4.367924</td>\n",
       "    </tr>\n",
       "    <tr>\n",
       "      <th>45</th>\n",
       "      <td>81.39</td>\n",
       "      <td>38.713707</td>\n",
       "    </tr>\n",
       "    <tr>\n",
       "      <th>50</th>\n",
       "      <td>0.00</td>\n",
       "      <td>-2.713904</td>\n",
       "    </tr>\n",
       "    <tr>\n",
       "      <th>54</th>\n",
       "      <td>8.73</td>\n",
       "      <td>1.904861</td>\n",
       "    </tr>\n",
       "    <tr>\n",
       "      <th>60</th>\n",
       "      <td>21.35</td>\n",
       "      <td>22.209242</td>\n",
       "    </tr>\n",
       "    <tr>\n",
       "      <th>66</th>\n",
       "      <td>24.69</td>\n",
       "      <td>33.843868</td>\n",
       "    </tr>\n",
       "    <tr>\n",
       "      <th>71</th>\n",
       "      <td>28.04</td>\n",
       "      <td>9.890559</td>\n",
       "    </tr>\n",
       "    <tr>\n",
       "      <th>76</th>\n",
       "      <td>4.65</td>\n",
       "      <td>1.871357</td>\n",
       "    </tr>\n",
       "    <tr>\n",
       "      <th>82</th>\n",
       "      <td>5.10</td>\n",
       "      <td>11.057103</td>\n",
       "    </tr>\n",
       "    <tr>\n",
       "      <th>87</th>\n",
       "      <td>106.98</td>\n",
       "      <td>61.122173</td>\n",
       "    </tr>\n",
       "    <tr>\n",
       "      <th>93</th>\n",
       "      <td>1.32</td>\n",
       "      <td>-1.489306</td>\n",
       "    </tr>\n",
       "    <tr>\n",
       "      <th>103</th>\n",
       "      <td>2.51</td>\n",
       "      <td>-1.465592</td>\n",
       "    </tr>\n",
       "    <tr>\n",
       "      <th>109</th>\n",
       "      <td>53.21</td>\n",
       "      <td>44.020470</td>\n",
       "    </tr>\n",
       "    <tr>\n",
       "      <th>114</th>\n",
       "      <td>9.51</td>\n",
       "      <td>4.770544</td>\n",
       "    </tr>\n",
       "    <tr>\n",
       "      <th>119</th>\n",
       "      <td>130.25</td>\n",
       "      <td>35.962112</td>\n",
       "    </tr>\n",
       "    <tr>\n",
       "      <th>133</th>\n",
       "      <td>83.15</td>\n",
       "      <td>37.012810</td>\n",
       "    </tr>\n",
       "    <tr>\n",
       "      <th>136</th>\n",
       "      <td>105.63</td>\n",
       "      <td>21.424864</td>\n",
       "    </tr>\n",
       "    <tr>\n",
       "      <th>140</th>\n",
       "      <td>3.89</td>\n",
       "      <td>0.858156</td>\n",
       "    </tr>\n",
       "    <tr>\n",
       "      <th>143</th>\n",
       "      <td>11.90</td>\n",
       "      <td>4.670250</td>\n",
       "    </tr>\n",
       "    <tr>\n",
       "      <th>146</th>\n",
       "      <td>28.57</td>\n",
       "      <td>2.088623</td>\n",
       "    </tr>\n",
       "    <tr>\n",
       "      <th>151</th>\n",
       "      <td>49.94</td>\n",
       "      <td>56.653111</td>\n",
       "    </tr>\n",
       "    <tr>\n",
       "      <th>156</th>\n",
       "      <td>0.00</td>\n",
       "      <td>71.516075</td>\n",
       "    </tr>\n",
       "    <tr>\n",
       "      <th>164</th>\n",
       "      <td>35.18</td>\n",
       "      <td>22.056936</td>\n",
       "    </tr>\n",
       "    <tr>\n",
       "      <th>...</th>\n",
       "      <td>...</td>\n",
       "      <td>...</td>\n",
       "    </tr>\n",
       "    <tr>\n",
       "      <th>76108</th>\n",
       "      <td>114.65</td>\n",
       "      <td>39.831173</td>\n",
       "    </tr>\n",
       "    <tr>\n",
       "      <th>76113</th>\n",
       "      <td>20.15</td>\n",
       "      <td>22.676092</td>\n",
       "    </tr>\n",
       "    <tr>\n",
       "      <th>76117</th>\n",
       "      <td>107.08</td>\n",
       "      <td>67.301636</td>\n",
       "    </tr>\n",
       "    <tr>\n",
       "      <th>76122</th>\n",
       "      <td>0.00</td>\n",
       "      <td>25.446913</td>\n",
       "    </tr>\n",
       "    <tr>\n",
       "      <th>76136</th>\n",
       "      <td>13.97</td>\n",
       "      <td>79.018196</td>\n",
       "    </tr>\n",
       "    <tr>\n",
       "      <th>76141</th>\n",
       "      <td>0.00</td>\n",
       "      <td>15.874200</td>\n",
       "    </tr>\n",
       "    <tr>\n",
       "      <th>76145</th>\n",
       "      <td>28.64</td>\n",
       "      <td>6.282448</td>\n",
       "    </tr>\n",
       "    <tr>\n",
       "      <th>76151</th>\n",
       "      <td>22.61</td>\n",
       "      <td>30.634911</td>\n",
       "    </tr>\n",
       "    <tr>\n",
       "      <th>76156</th>\n",
       "      <td>24.66</td>\n",
       "      <td>18.340143</td>\n",
       "    </tr>\n",
       "    <tr>\n",
       "      <th>76161</th>\n",
       "      <td>46.32</td>\n",
       "      <td>44.853733</td>\n",
       "    </tr>\n",
       "    <tr>\n",
       "      <th>76165</th>\n",
       "      <td>147.68</td>\n",
       "      <td>116.081894</td>\n",
       "    </tr>\n",
       "    <tr>\n",
       "      <th>76169</th>\n",
       "      <td>0.00</td>\n",
       "      <td>3.249753</td>\n",
       "    </tr>\n",
       "    <tr>\n",
       "      <th>76174</th>\n",
       "      <td>47.47</td>\n",
       "      <td>35.181019</td>\n",
       "    </tr>\n",
       "    <tr>\n",
       "      <th>76180</th>\n",
       "      <td>9.55</td>\n",
       "      <td>29.827890</td>\n",
       "    </tr>\n",
       "    <tr>\n",
       "      <th>76185</th>\n",
       "      <td>112.00</td>\n",
       "      <td>156.772919</td>\n",
       "    </tr>\n",
       "    <tr>\n",
       "      <th>76194</th>\n",
       "      <td>0.00</td>\n",
       "      <td>6.963925</td>\n",
       "    </tr>\n",
       "    <tr>\n",
       "      <th>76198</th>\n",
       "      <td>19.28</td>\n",
       "      <td>72.843079</td>\n",
       "    </tr>\n",
       "    <tr>\n",
       "      <th>76206</th>\n",
       "      <td>50.68</td>\n",
       "      <td>4.110490</td>\n",
       "    </tr>\n",
       "    <tr>\n",
       "      <th>76211</th>\n",
       "      <td>0.00</td>\n",
       "      <td>3.496814</td>\n",
       "    </tr>\n",
       "    <tr>\n",
       "      <th>76214</th>\n",
       "      <td>38.76</td>\n",
       "      <td>4.878369</td>\n",
       "    </tr>\n",
       "    <tr>\n",
       "      <th>76219</th>\n",
       "      <td>19.60</td>\n",
       "      <td>16.727175</td>\n",
       "    </tr>\n",
       "    <tr>\n",
       "      <th>76225</th>\n",
       "      <td>13.32</td>\n",
       "      <td>36.129833</td>\n",
       "    </tr>\n",
       "    <tr>\n",
       "      <th>76230</th>\n",
       "      <td>98.61</td>\n",
       "      <td>45.016991</td>\n",
       "    </tr>\n",
       "    <tr>\n",
       "      <th>76236</th>\n",
       "      <td>9.97</td>\n",
       "      <td>-0.149579</td>\n",
       "    </tr>\n",
       "    <tr>\n",
       "      <th>76250</th>\n",
       "      <td>85.40</td>\n",
       "      <td>51.249561</td>\n",
       "    </tr>\n",
       "    <tr>\n",
       "      <th>76256</th>\n",
       "      <td>430.14</td>\n",
       "      <td>16.544790</td>\n",
       "    </tr>\n",
       "    <tr>\n",
       "      <th>76261</th>\n",
       "      <td>10.09</td>\n",
       "      <td>23.643827</td>\n",
       "    </tr>\n",
       "    <tr>\n",
       "      <th>76264</th>\n",
       "      <td>8.09</td>\n",
       "      <td>9.927896</td>\n",
       "    </tr>\n",
       "    <tr>\n",
       "      <th>76269</th>\n",
       "      <td>26.13</td>\n",
       "      <td>28.309389</td>\n",
       "    </tr>\n",
       "    <tr>\n",
       "      <th>76274</th>\n",
       "      <td>79.77</td>\n",
       "      <td>59.600357</td>\n",
       "    </tr>\n",
       "  </tbody>\n",
       "</table>\n",
       "<p>12778 rows × 2 columns</p>\n",
       "</div>"
      ],
      "text/plain": [
       "         true        pred\n",
       "2       41.51  155.411179\n",
       "10      40.08   21.152534\n",
       "15      41.10   44.242661\n",
       "19      69.19   49.427872\n",
       "24      22.45  179.627609\n",
       "29       6.59    9.426353\n",
       "36     133.12   44.768425\n",
       "41      10.65    4.367924\n",
       "45      81.39   38.713707\n",
       "50       0.00   -2.713904\n",
       "54       8.73    1.904861\n",
       "60      21.35   22.209242\n",
       "66      24.69   33.843868\n",
       "71      28.04    9.890559\n",
       "76       4.65    1.871357\n",
       "82       5.10   11.057103\n",
       "87     106.98   61.122173\n",
       "93       1.32   -1.489306\n",
       "103      2.51   -1.465592\n",
       "109     53.21   44.020470\n",
       "114      9.51    4.770544\n",
       "119    130.25   35.962112\n",
       "133     83.15   37.012810\n",
       "136    105.63   21.424864\n",
       "140      3.89    0.858156\n",
       "143     11.90    4.670250\n",
       "146     28.57    2.088623\n",
       "151     49.94   56.653111\n",
       "156      0.00   71.516075\n",
       "164     35.18   22.056936\n",
       "...       ...         ...\n",
       "76108  114.65   39.831173\n",
       "76113   20.15   22.676092\n",
       "76117  107.08   67.301636\n",
       "76122    0.00   25.446913\n",
       "76136   13.97   79.018196\n",
       "76141    0.00   15.874200\n",
       "76145   28.64    6.282448\n",
       "76151   22.61   30.634911\n",
       "76156   24.66   18.340143\n",
       "76161   46.32   44.853733\n",
       "76165  147.68  116.081894\n",
       "76169    0.00    3.249753\n",
       "76174   47.47   35.181019\n",
       "76180    9.55   29.827890\n",
       "76185  112.00  156.772919\n",
       "76194    0.00    6.963925\n",
       "76198   19.28   72.843079\n",
       "76206   50.68    4.110490\n",
       "76211    0.00    3.496814\n",
       "76214   38.76    4.878369\n",
       "76219   19.60   16.727175\n",
       "76225   13.32   36.129833\n",
       "76230   98.61   45.016991\n",
       "76236    9.97   -0.149579\n",
       "76250   85.40   51.249561\n",
       "76256  430.14   16.544790\n",
       "76261   10.09   23.643827\n",
       "76264    8.09    9.927896\n",
       "76269   26.13   28.309389\n",
       "76274   79.77   59.600357\n",
       "\n",
       "[12778 rows x 2 columns]"
      ]
     },
     "execution_count": 126,
     "metadata": {},
     "output_type": "execute_result"
    }
   ],
   "source": [
    "test_res = pd.DataFrame(columns=['true', 'pred'])\n",
    "test_res['true'] = y_test\n",
    "test_res['pred'] = y_test_pred\n",
    "test_res"
   ]
  },
  {
   "cell_type": "code",
   "execution_count": 127,
   "metadata": {
    "collapsed": false,
    "scrolled": true
   },
   "outputs": [
    {
     "data": {
      "text/plain": [
       "<matplotlib.axes._subplots.AxesSubplot at 0x7f0e61e7add8>"
      ]
     },
     "execution_count": 127,
     "metadata": {},
     "output_type": "execute_result"
    },
    {
     "data": {
      "image/png": "[encoded data removed]",
      "text/plain": [
       "<Figure size 432x288 with 1 Axes>"
      ]
     },
     "metadata": {
      "needs_background": "dark"
     },
     "output_type": "display_data"
    }
   ],
   "source": [
    "test_res.sort_values(by='true').plot(style='.')"
   ]
  },
  {
   "cell_type": "code",
   "execution_count": 128,
   "metadata": {
    "collapsed": false
   },
   "outputs": [
    {
     "data": {
      "text/plain": [
       "<matplotlib.axes._subplots.AxesSubplot at 0x7f0e61e96828>"
      ]
     },
     "execution_count": 128,
     "metadata": {},
     "output_type": "execute_result"
    },
    {
     "data": {
      "image/png": "[encoded data removed]",
      "text/plain": [
       "<Figure size 432x288 with 1 Axes>"
      ]
     },
     "metadata": {
      "needs_background": "dark"
     },
     "output_type": "display_data"
    }
   ],
   "source": [
    "((test_res.pred - test_res.true) / test_res.true).abs().sort_values().reset_index(drop=True).plot()"
   ]
  },
  {
   "cell_type": "code",
   "execution_count": 129,
   "metadata": {
    "collapsed": false
   },
   "outputs": [],
   "source": [
    "relative_error = ((test_res.pred - test_res.true) / test_res.true).abs()"
   ]
  },
  {
   "cell_type": "code",
   "execution_count": null,
   "metadata": {
    "collapsed": false
   },
   "outputs": [
    {
     "data": {
      "text/plain": [
       "977"
      ]
     },
     "execution_count": 130,
     "metadata": {},
     "output_type": "execute_result"
    }
   ],
   "source": [
    "(relative_error == np.inf).sum()"
   ]
  },
  {
   "cell_type": "code",
   "execution_count": null,
   "metadata": {
    "collapsed": false
   },
   "outputs": [
    {
     "data": {
      "text/plain": [
       "1.2284908677951032"
      ]
     },
     "execution_count": 131,
     "metadata": {},
     "output_type": "execute_result"
    }
   ],
   "source": [
    "relative_error[np.isfinite(relative_error)].mean()"
   ]
  },
  {
   "cell_type": "code",
   "execution_count": null,
   "metadata": {
    "collapsed": true
   },
   "outputs": [],
   "source": []
  },
  {
   "cell_type": "markdown",
   "metadata": {},
   "source": [
    "## Pseudo AB test"
   ]
  },
  {
   "cell_type": "code",
   "execution_count": null,
   "metadata": {
    "collapsed": true
   },
   "outputs": [],
   "source": [
    "def predict_profit_with_offer(view_model, profit_model, data, offer, drop_offer_id=False):\n",
    "    \"\"\" Predicts how much will be the profit in 10 days for a given an offer. \"\"\"\n",
    "    samples = data.copy()\n",
    "    if drop_offer_id:\n",
    "        std_offer = offer.drop('id').rename(index={'reward': 'reward_t'})\n",
    "    else:\n",
    "        std_offer = offer.rename(index={'reward': 'reward_t', 'id': 'offer_id'})\n",
    "    samples.loc[:, std_offer.index] = np.repeat(std_offer.values.reshape(1, -1), samples.shape[0], axis=0)\n",
    "    \n",
    "    if offer.offer_type == 'no_offer':\n",
    "        vis_probas = np.ones(samples.shape[0])\n",
    "    else:\n",
    "        vis_probas = view_model.predict_proba(samples)[:, 1]\n",
    "\n",
    "    profit_pred = profit_model.predict(samples)\n",
    "    \n",
    "    y_pred = vis_probas * profit_pred\n",
    "    \n",
    "    return pd.Series(y_pred, name=offer.id).T"
   ]
  },
  {
   "cell_type": "code",
   "execution_count": null,
   "metadata": {
    "collapsed": false
   },
   "outputs": [
    {
     "data": {
      "text/html": [
       "<div>\n",
       "<style scoped>\n",
       "    .dataframe tbody tr th:only-of-type {\n",
       "        vertical-align: middle;\n",
       "    }\n",
       "\n",
       "    .dataframe tbody tr th {\n",
       "        vertical-align: top;\n",
       "    }\n",
       "\n",
       "    .dataframe thead th {\n",
       "        text-align: right;\n",
       "    }\n",
       "</style>\n",
       "<table border=\"1\" class=\"dataframe\">\n",
       "  <thead>\n",
       "    <tr style=\"text-align: right;\">\n",
       "      <th></th>\n",
       "      <th>difficulty</th>\n",
       "      <th>duration</th>\n",
       "      <th>id</th>\n",
       "      <th>offer_type</th>\n",
       "      <th>reward</th>\n",
       "      <th>channel_mobile</th>\n",
       "      <th>channel_social</th>\n",
       "      <th>channel_email</th>\n",
       "      <th>channel_web</th>\n",
       "    </tr>\n",
       "  </thead>\n",
       "  <tbody>\n",
       "    <tr>\n",
       "      <th>10</th>\n",
       "      <td>0</td>\n",
       "      <td>0</td>\n",
       "      <td>no_offer</td>\n",
       "      <td>no_offer</td>\n",
       "      <td>0</td>\n",
       "      <td>0</td>\n",
       "      <td>0</td>\n",
       "      <td>0</td>\n",
       "      <td>0</td>\n",
       "    </tr>\n",
       "  </tbody>\n",
       "</table>\n",
       "</div>"
      ],
      "text/plain": [
       "    difficulty  duration        id offer_type  reward  channel_mobile  \\\n",
       "10           0         0  no_offer   no_offer       0               0   \n",
       "\n",
       "    channel_social  channel_email  channel_web  \n",
       "10               0              0            0  "
      ]
     },
     "execution_count": 133,
     "metadata": {},
     "output_type": "execute_result"
    }
   ],
   "source": [
    "complete_portfolio.iloc[10:, :]"
   ]
  },
  {
   "cell_type": "code",
   "execution_count": null,
   "metadata": {
    "collapsed": false
   },
   "outputs": [],
   "source": [
    "predict_profit_with_offer(model, profit_est_model, X_test, complete_portfolio.iloc[1, :])"
   ]
  },
  {
   "cell_type": "code",
   "execution_count": null,
   "metadata": {
    "collapsed": true
   },
   "outputs": [],
   "source": [
    "def choose_offer(view_model, profit_model, X, portfolio, add_null_offer=True):\n",
    "    \"\"\"\n",
    "    Given a model and a features dataframe it returns the\n",
    "    model that maximizes the model predictions.\n",
    "    \"\"\"\n",
    "    complete_portfolio = portfolio.copy()\n",
    "    \n",
    "    # Add the null offer\n",
    "    if add_null_offer:\n",
    "        null_offer = pd.Series([0, 0, 'no_offer', 'no_offer', 0, 0, 0, 0, 0],\n",
    "                               index=complete_portfolio.columns, \n",
    "                               name=complete_portfolio.shape[0])\n",
    "        complete_portfolio = complete_portfolio.append(null_offer)\n",
    "    \n",
    "    res = complete_portfolio.apply(\n",
    "        lambda x: predict_profit_with_offer(view_model, profit_model, X, x), axis=1).T\n",
    "    res.columns = complete_portfolio.id\n",
    "    \n",
    "    return res.idxmax(axis=1), res"
   ]
  },
  {
   "cell_type": "code",
   "execution_count": null,
   "metadata": {
    "collapsed": false
   },
   "outputs": [],
   "source": [
    "selected_offers, predicted_full = choose_offer(model, profit_est_model, X_test, portfolio)\n",
    "selected_offers.head()"
   ]
  },
  {
   "cell_type": "code",
   "execution_count": null,
   "metadata": {
    "collapsed": false
   },
   "outputs": [],
   "source": [
    "selected_offers.value_counts()"
   ]
  },
  {
   "cell_type": "code",
   "execution_count": null,
   "metadata": {
    "collapsed": false
   },
   "outputs": [],
   "source": [
    "(X_test.offer_id == selected_offers.values).mean()"
   ]
  },
  {
   "cell_type": "code",
   "execution_count": null,
   "metadata": {
    "collapsed": false
   },
   "outputs": [],
   "source": [
    "(X_test.offer_id == selected_offers.values).sum()"
   ]
  },
  {
   "cell_type": "markdown",
   "metadata": {},
   "source": [
    "We could check the actual profit on those samples that, by chance, were sent the selected offer."
   ]
  },
  {
   "cell_type": "code",
   "execution_count": null,
   "metadata": {
    "collapsed": false
   },
   "outputs": [],
   "source": [
    "coincidences = y_test[X_test.offer_id == selected_offers.values]\n",
    "coincidences.sum()"
   ]
  },
  {
   "cell_type": "markdown",
   "metadata": {},
   "source": [
    "Now we select a random sample, of the same size, from the test set, and compare with the above profit."
   ]
  },
  {
   "cell_type": "code",
   "execution_count": null,
   "metadata": {
    "collapsed": false
   },
   "outputs": [],
   "source": [
    "np.random.seed(2018)\n",
    "np.random.choice(y_test, coincidences.shape[0], replace=False).sum()"
   ]
  },
  {
   "cell_type": "code",
   "execution_count": null,
   "metadata": {
    "collapsed": true
   },
   "outputs": [],
   "source": []
  },
  {
   "cell_type": "code",
   "execution_count": null,
   "metadata": {
    "collapsed": true
   },
   "outputs": [],
   "source": []
  },
  {
   "cell_type": "code",
   "execution_count": null,
   "metadata": {
    "collapsed": true
   },
   "outputs": [],
   "source": []
  },
  {
   "cell_type": "markdown",
   "metadata": {},
   "source": [
    "## 4) Let's deal with the overlapping."
   ]
  },
  {
   "cell_type": "code",
   "execution_count": null,
   "metadata": {
    "collapsed": true
   },
   "outputs": [],
   "source": []
  },
  {
   "cell_type": "code",
   "execution_count": null,
   "metadata": {
    "collapsed": true
   },
   "outputs": [],
   "source": []
  },
  {
   "cell_type": "code",
   "execution_count": null,
   "metadata": {
    "collapsed": true
   },
   "outputs": [],
   "source": []
  },
  {
   "cell_type": "code",
   "execution_count": null,
   "metadata": {
    "collapsed": true
   },
   "outputs": [],
   "source": []
  }
 ],
 "metadata": {
  "kernelspec": {
   "display_name": "sbucks",
   "language": "python",
   "name": "sbucks"
  },
  "language_info": {
   "codemirror_mode": {
    "name": "ipython",
    "version": 3
   },
   "file_extension": ".py",
   "mimetype": "text/x-python",
   "name": "python",
   "nbconvert_exporter": "python",
   "pygments_lexer": "ipython3",
   "version": "3.7.1"
  }
 },
 "nbformat": 4,
 "nbformat_minor": 2
}
