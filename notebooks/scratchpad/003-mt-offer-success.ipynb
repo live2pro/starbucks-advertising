{
 "cells": [
  {
   "cell_type": "markdown",
   "metadata": {},
   "source": [
    "# Notebook to try to estimate the \"offer success\" for a customer. That is, the probability that a customer views and completes an offer in its active time, in that order."
   ]
  },
  {
   "cell_type": "code",
   "execution_count": 1,
   "metadata": {
    "collapsed": true
   },
   "outputs": [],
   "source": [
    "import pandas as pd\n",
    "import numpy as np\n",
    "import math\n",
    "import json\n",
    "import os\n",
    "import matplotlib.pyplot as plt\n",
    "%matplotlib inline\n",
    "\n",
    "%load_ext autoreload\n",
    "%autoreload 2\n",
    "\n",
    "from jupyterthemes import jtplot\n",
    "jtplot.style(theme='solarizedd')\n",
    "plt.rcParams['figure.figsize'] = (20.0, 10.0)\n",
    "\n",
    "import data_utils_mt.utils as utils\n",
    "import seaborn as sns\n",
    "from sklearn.preprocessing import LabelEncoder\n",
    "import datetime as dt\n",
    "from xgboost import XGBClassifier\n",
    "\n",
    "ROOT = '../..'\n",
    "DATA = os.path.join(ROOT, 'data')\n",
    "DATA_RAW = os.path.join(DATA, 'raw')\n",
    "SRC = os.path.join(ROOT, 'src')\n",
    "\n",
    "import sys\n",
    "sys.path.append(SRC)\n",
    "\n",
    "import src.data.preprocessing as pp\n",
    "import src.data.success_dataset as sd\n",
    "from sklearn.model_selection import StratifiedKFold"
   ]
  },
  {
   "cell_type": "code",
   "execution_count": 2,
   "metadata": {
    "collapsed": true
   },
   "outputs": [],
   "source": [
    "data = pd.read_pickle(os.path.join(DATA, 'interim', 'static_data.pkl'))\n",
    "data = pp.anonimize_data(data)"
   ]
  },
  {
   "cell_type": "code",
   "execution_count": 3,
   "metadata": {
    "collapsed": false
   },
   "outputs": [
    {
     "data": {
      "text/html": [
       "<div>\n",
       "<style scoped>\n",
       "    .dataframe tbody tr th:only-of-type {\n",
       "        vertical-align: middle;\n",
       "    }\n",
       "\n",
       "    .dataframe tbody tr th {\n",
       "        vertical-align: top;\n",
       "    }\n",
       "\n",
       "    .dataframe thead th {\n",
       "        text-align: right;\n",
       "    }\n",
       "</style>\n",
       "<table border=\"1\" class=\"dataframe\">\n",
       "  <thead>\n",
       "    <tr style=\"text-align: right;\">\n",
       "      <th></th>\n",
       "      <th>time</th>\n",
       "      <th>age</th>\n",
       "      <th>gender</th>\n",
       "      <th>income</th>\n",
       "      <th>missing_demographics</th>\n",
       "      <th>member_epoch_days</th>\n",
       "      <th>difficulty</th>\n",
       "      <th>duration</th>\n",
       "      <th>offer_type</th>\n",
       "      <th>reward_t</th>\n",
       "      <th>...</th>\n",
       "      <th>expected_finish</th>\n",
       "      <th>finish</th>\n",
       "      <th>success</th>\n",
       "      <th>view_time</th>\n",
       "      <th>viewed</th>\n",
       "      <th>actual_reward</th>\n",
       "      <th>profit_in_duration</th>\n",
       "      <th>profit_until_complete</th>\n",
       "      <th>spent_in_duration</th>\n",
       "      <th>spent_until_complete</th>\n",
       "    </tr>\n",
       "  </thead>\n",
       "  <tbody>\n",
       "    <tr>\n",
       "      <th>0</th>\n",
       "      <td>168</td>\n",
       "      <td>33.0</td>\n",
       "      <td>M</td>\n",
       "      <td>72000.0</td>\n",
       "      <td>0</td>\n",
       "      <td>17277</td>\n",
       "      <td>0.0</td>\n",
       "      <td>3.0</td>\n",
       "      <td>informational</td>\n",
       "      <td>0.0</td>\n",
       "      <td>...</td>\n",
       "      <td>240.0</td>\n",
       "      <td>240.0</td>\n",
       "      <td>0</td>\n",
       "      <td>192.0</td>\n",
       "      <td>1</td>\n",
       "      <td>0.0</td>\n",
       "      <td>22.16</td>\n",
       "      <td>22.16</td>\n",
       "      <td>22.16</td>\n",
       "      <td>22.16</td>\n",
       "    </tr>\n",
       "    <tr>\n",
       "      <th>1</th>\n",
       "      <td>336</td>\n",
       "      <td>33.0</td>\n",
       "      <td>M</td>\n",
       "      <td>72000.0</td>\n",
       "      <td>0</td>\n",
       "      <td>17277</td>\n",
       "      <td>0.0</td>\n",
       "      <td>4.0</td>\n",
       "      <td>informational</td>\n",
       "      <td>0.0</td>\n",
       "      <td>...</td>\n",
       "      <td>432.0</td>\n",
       "      <td>432.0</td>\n",
       "      <td>0</td>\n",
       "      <td>372.0</td>\n",
       "      <td>1</td>\n",
       "      <td>0.0</td>\n",
       "      <td>8.57</td>\n",
       "      <td>8.57</td>\n",
       "      <td>8.57</td>\n",
       "      <td>8.57</td>\n",
       "    </tr>\n",
       "    <tr>\n",
       "      <th>2</th>\n",
       "      <td>408</td>\n",
       "      <td>33.0</td>\n",
       "      <td>M</td>\n",
       "      <td>72000.0</td>\n",
       "      <td>0</td>\n",
       "      <td>17277</td>\n",
       "      <td>5.0</td>\n",
       "      <td>5.0</td>\n",
       "      <td>bogo</td>\n",
       "      <td>5.0</td>\n",
       "      <td>...</td>\n",
       "      <td>528.0</td>\n",
       "      <td>414.0</td>\n",
       "      <td>0</td>\n",
       "      <td>NaN</td>\n",
       "      <td>0</td>\n",
       "      <td>5.0</td>\n",
       "      <td>17.68</td>\n",
       "      <td>3.57</td>\n",
       "      <td>22.68</td>\n",
       "      <td>8.57</td>\n",
       "    </tr>\n",
       "    <tr>\n",
       "      <th>3</th>\n",
       "      <td>504</td>\n",
       "      <td>33.0</td>\n",
       "      <td>M</td>\n",
       "      <td>72000.0</td>\n",
       "      <td>0</td>\n",
       "      <td>17277</td>\n",
       "      <td>10.0</td>\n",
       "      <td>10.0</td>\n",
       "      <td>discount</td>\n",
       "      <td>2.0</td>\n",
       "      <td>...</td>\n",
       "      <td>744.0</td>\n",
       "      <td>528.0</td>\n",
       "      <td>0</td>\n",
       "      <td>NaN</td>\n",
       "      <td>0</td>\n",
       "      <td>2.0</td>\n",
       "      <td>94.87</td>\n",
       "      <td>12.11</td>\n",
       "      <td>96.87</td>\n",
       "      <td>14.11</td>\n",
       "    </tr>\n",
       "    <tr>\n",
       "      <th>4</th>\n",
       "      <td>576</td>\n",
       "      <td>33.0</td>\n",
       "      <td>M</td>\n",
       "      <td>72000.0</td>\n",
       "      <td>0</td>\n",
       "      <td>17277</td>\n",
       "      <td>10.0</td>\n",
       "      <td>7.0</td>\n",
       "      <td>discount</td>\n",
       "      <td>2.0</td>\n",
       "      <td>...</td>\n",
       "      <td>744.0</td>\n",
       "      <td>576.0</td>\n",
       "      <td>0</td>\n",
       "      <td>NaN</td>\n",
       "      <td>0</td>\n",
       "      <td>2.0</td>\n",
       "      <td>67.20</td>\n",
       "      <td>8.27</td>\n",
       "      <td>69.20</td>\n",
       "      <td>10.27</td>\n",
       "    </tr>\n",
       "  </tbody>\n",
       "</table>\n",
       "<p>5 rows × 25 columns</p>\n",
       "</div>"
      ],
      "text/plain": [
       "   time   age gender   income  missing_demographics  member_epoch_days  \\\n",
       "0   168  33.0      M  72000.0                     0              17277   \n",
       "1   336  33.0      M  72000.0                     0              17277   \n",
       "2   408  33.0      M  72000.0                     0              17277   \n",
       "3   504  33.0      M  72000.0                     0              17277   \n",
       "4   576  33.0      M  72000.0                     0              17277   \n",
       "\n",
       "   difficulty  duration     offer_type  reward_t          ...           \\\n",
       "0         0.0       3.0  informational       0.0          ...            \n",
       "1         0.0       4.0  informational       0.0          ...            \n",
       "2         5.0       5.0           bogo       5.0          ...            \n",
       "3        10.0      10.0       discount       2.0          ...            \n",
       "4        10.0       7.0       discount       2.0          ...            \n",
       "\n",
       "   expected_finish  finish  success  view_time  viewed  actual_reward  \\\n",
       "0            240.0   240.0        0      192.0       1            0.0   \n",
       "1            432.0   432.0        0      372.0       1            0.0   \n",
       "2            528.0   414.0        0        NaN       0            5.0   \n",
       "3            744.0   528.0        0        NaN       0            2.0   \n",
       "4            744.0   576.0        0        NaN       0            2.0   \n",
       "\n",
       "   profit_in_duration  profit_until_complete  spent_in_duration  \\\n",
       "0               22.16                  22.16              22.16   \n",
       "1                8.57                   8.57               8.57   \n",
       "2               17.68                   3.57              22.68   \n",
       "3               94.87                  12.11              96.87   \n",
       "4               67.20                   8.27              69.20   \n",
       "\n",
       "   spent_until_complete  \n",
       "0                 22.16  \n",
       "1                  8.57  \n",
       "2                  8.57  \n",
       "3                 14.11  \n",
       "4                 10.27  \n",
       "\n",
       "[5 rows x 25 columns]"
      ]
     },
     "execution_count": 3,
     "metadata": {},
     "output_type": "execute_result"
    }
   ],
   "source": [
    "data.head()"
   ]
  },
  {
   "cell_type": "code",
   "execution_count": 4,
   "metadata": {
    "collapsed": false
   },
   "outputs": [
    {
     "name": "stdout",
     "output_type": "stream",
     "text": [
      "<class 'pandas.core.frame.DataFrame'>\n",
      "RangeIndex: 76277 entries, 0 to 76276\n",
      "Data columns (total 25 columns):\n",
      "time                     76277 non-null int64\n",
      "age                      66501 non-null float64\n",
      "gender                   66501 non-null object\n",
      "income                   66501 non-null float64\n",
      "missing_demographics     76277 non-null int64\n",
      "member_epoch_days        76277 non-null int64\n",
      "difficulty               76277 non-null float64\n",
      "duration                 76277 non-null float64\n",
      "offer_type               76277 non-null object\n",
      "reward_t                 76277 non-null float64\n",
      "channel_social           76277 non-null float64\n",
      "channel_email            76277 non-null float64\n",
      "channel_web              76277 non-null float64\n",
      "channel_mobile           76277 non-null float64\n",
      "completed                76277 non-null int64\n",
      "expected_finish          76277 non-null float64\n",
      "finish                   76277 non-null float64\n",
      "success                  76277 non-null int64\n",
      "view_time                57227 non-null float64\n",
      "viewed                   76277 non-null int64\n",
      "actual_reward            76277 non-null float64\n",
      "profit_in_duration       76277 non-null float64\n",
      "profit_until_complete    76277 non-null float64\n",
      "spent_in_duration        76277 non-null float64\n",
      "spent_until_complete     76277 non-null float64\n",
      "dtypes: float64(17), int64(6), object(2)\n",
      "memory usage: 14.5+ MB\n"
     ]
    }
   ],
   "source": [
    "data.info()"
   ]
  },
  {
   "cell_type": "code",
   "execution_count": 5,
   "metadata": {
    "collapsed": true
   },
   "outputs": [],
   "source": [
    "from sklearn.base import BaseEstimator, TransformerMixin\n",
    "from sklearn.preprocessing import LabelEncoder"
   ]
  },
  {
   "cell_type": "code",
   "execution_count": 6,
   "metadata": {
    "collapsed": true
   },
   "outputs": [],
   "source": [
    "class BasicEncoder(BaseEstimator, TransformerMixin):\n",
    "    \"\"\" Transforms the Basic dataset. \"\"\"\n",
    "    \n",
    "    def __init__(self):\n",
    "        super(BaseEstimator, self).__init__()\n",
    "        self.offer_type_encoder = LabelEncoder()\n",
    "        \n",
    "    def fit(self, X, y=None):\n",
    "        self.offer_type_encoder.fit(X['offer_type'])\n",
    "        return self\n",
    "        \n",
    "    def transform(self, X):\n",
    "        res = X.copy()\n",
    "        res['offer_type'] = self.offer_type_encoder.transform(X['offer_type'])\n",
    "        return res"
   ]
  },
  {
   "cell_type": "code",
   "execution_count": 7,
   "metadata": {
    "collapsed": false
   },
   "outputs": [
    {
     "data": {
      "text/html": [
       "<div>\n",
       "<style scoped>\n",
       "    .dataframe tbody tr th:only-of-type {\n",
       "        vertical-align: middle;\n",
       "    }\n",
       "\n",
       "    .dataframe tbody tr th {\n",
       "        vertical-align: top;\n",
       "    }\n",
       "\n",
       "    .dataframe thead th {\n",
       "        text-align: right;\n",
       "    }\n",
       "</style>\n",
       "<table border=\"1\" class=\"dataframe\">\n",
       "  <thead>\n",
       "    <tr style=\"text-align: right;\">\n",
       "      <th></th>\n",
       "      <th>time</th>\n",
       "      <th>age</th>\n",
       "      <th>gender</th>\n",
       "      <th>income</th>\n",
       "      <th>missing_demographics</th>\n",
       "      <th>member_epoch_days</th>\n",
       "      <th>difficulty</th>\n",
       "      <th>duration</th>\n",
       "      <th>offer_type</th>\n",
       "      <th>reward_t</th>\n",
       "      <th>...</th>\n",
       "      <th>expected_finish</th>\n",
       "      <th>finish</th>\n",
       "      <th>success</th>\n",
       "      <th>view_time</th>\n",
       "      <th>viewed</th>\n",
       "      <th>actual_reward</th>\n",
       "      <th>profit_in_duration</th>\n",
       "      <th>profit_until_complete</th>\n",
       "      <th>spent_in_duration</th>\n",
       "      <th>spent_until_complete</th>\n",
       "    </tr>\n",
       "  </thead>\n",
       "  <tbody>\n",
       "    <tr>\n",
       "      <th>0</th>\n",
       "      <td>168</td>\n",
       "      <td>33.0</td>\n",
       "      <td>M</td>\n",
       "      <td>72000.0</td>\n",
       "      <td>0</td>\n",
       "      <td>17277</td>\n",
       "      <td>0.0</td>\n",
       "      <td>3.0</td>\n",
       "      <td>2</td>\n",
       "      <td>0.0</td>\n",
       "      <td>...</td>\n",
       "      <td>240.0</td>\n",
       "      <td>240.0</td>\n",
       "      <td>0</td>\n",
       "      <td>192.0</td>\n",
       "      <td>1</td>\n",
       "      <td>0.0</td>\n",
       "      <td>22.16</td>\n",
       "      <td>22.16</td>\n",
       "      <td>22.16</td>\n",
       "      <td>22.16</td>\n",
       "    </tr>\n",
       "    <tr>\n",
       "      <th>1</th>\n",
       "      <td>336</td>\n",
       "      <td>33.0</td>\n",
       "      <td>M</td>\n",
       "      <td>72000.0</td>\n",
       "      <td>0</td>\n",
       "      <td>17277</td>\n",
       "      <td>0.0</td>\n",
       "      <td>4.0</td>\n",
       "      <td>2</td>\n",
       "      <td>0.0</td>\n",
       "      <td>...</td>\n",
       "      <td>432.0</td>\n",
       "      <td>432.0</td>\n",
       "      <td>0</td>\n",
       "      <td>372.0</td>\n",
       "      <td>1</td>\n",
       "      <td>0.0</td>\n",
       "      <td>8.57</td>\n",
       "      <td>8.57</td>\n",
       "      <td>8.57</td>\n",
       "      <td>8.57</td>\n",
       "    </tr>\n",
       "    <tr>\n",
       "      <th>2</th>\n",
       "      <td>408</td>\n",
       "      <td>33.0</td>\n",
       "      <td>M</td>\n",
       "      <td>72000.0</td>\n",
       "      <td>0</td>\n",
       "      <td>17277</td>\n",
       "      <td>5.0</td>\n",
       "      <td>5.0</td>\n",
       "      <td>0</td>\n",
       "      <td>5.0</td>\n",
       "      <td>...</td>\n",
       "      <td>528.0</td>\n",
       "      <td>414.0</td>\n",
       "      <td>0</td>\n",
       "      <td>NaN</td>\n",
       "      <td>0</td>\n",
       "      <td>5.0</td>\n",
       "      <td>17.68</td>\n",
       "      <td>3.57</td>\n",
       "      <td>22.68</td>\n",
       "      <td>8.57</td>\n",
       "    </tr>\n",
       "    <tr>\n",
       "      <th>3</th>\n",
       "      <td>504</td>\n",
       "      <td>33.0</td>\n",
       "      <td>M</td>\n",
       "      <td>72000.0</td>\n",
       "      <td>0</td>\n",
       "      <td>17277</td>\n",
       "      <td>10.0</td>\n",
       "      <td>10.0</td>\n",
       "      <td>1</td>\n",
       "      <td>2.0</td>\n",
       "      <td>...</td>\n",
       "      <td>744.0</td>\n",
       "      <td>528.0</td>\n",
       "      <td>0</td>\n",
       "      <td>NaN</td>\n",
       "      <td>0</td>\n",
       "      <td>2.0</td>\n",
       "      <td>94.87</td>\n",
       "      <td>12.11</td>\n",
       "      <td>96.87</td>\n",
       "      <td>14.11</td>\n",
       "    </tr>\n",
       "    <tr>\n",
       "      <th>4</th>\n",
       "      <td>576</td>\n",
       "      <td>33.0</td>\n",
       "      <td>M</td>\n",
       "      <td>72000.0</td>\n",
       "      <td>0</td>\n",
       "      <td>17277</td>\n",
       "      <td>10.0</td>\n",
       "      <td>7.0</td>\n",
       "      <td>1</td>\n",
       "      <td>2.0</td>\n",
       "      <td>...</td>\n",
       "      <td>744.0</td>\n",
       "      <td>576.0</td>\n",
       "      <td>0</td>\n",
       "      <td>NaN</td>\n",
       "      <td>0</td>\n",
       "      <td>2.0</td>\n",
       "      <td>67.20</td>\n",
       "      <td>8.27</td>\n",
       "      <td>69.20</td>\n",
       "      <td>10.27</td>\n",
       "    </tr>\n",
       "  </tbody>\n",
       "</table>\n",
       "<p>5 rows × 25 columns</p>\n",
       "</div>"
      ],
      "text/plain": [
       "   time   age gender   income  missing_demographics  member_epoch_days  \\\n",
       "0   168  33.0      M  72000.0                     0              17277   \n",
       "1   336  33.0      M  72000.0                     0              17277   \n",
       "2   408  33.0      M  72000.0                     0              17277   \n",
       "3   504  33.0      M  72000.0                     0              17277   \n",
       "4   576  33.0      M  72000.0                     0              17277   \n",
       "\n",
       "   difficulty  duration  offer_type  reward_t          ...           \\\n",
       "0         0.0       3.0           2       0.0          ...            \n",
       "1         0.0       4.0           2       0.0          ...            \n",
       "2         5.0       5.0           0       5.0          ...            \n",
       "3        10.0      10.0           1       2.0          ...            \n",
       "4        10.0       7.0           1       2.0          ...            \n",
       "\n",
       "   expected_finish  finish  success  view_time  viewed  actual_reward  \\\n",
       "0            240.0   240.0        0      192.0       1            0.0   \n",
       "1            432.0   432.0        0      372.0       1            0.0   \n",
       "2            528.0   414.0        0        NaN       0            5.0   \n",
       "3            744.0   528.0        0        NaN       0            2.0   \n",
       "4            744.0   576.0        0        NaN       0            2.0   \n",
       "\n",
       "   profit_in_duration  profit_until_complete  spent_in_duration  \\\n",
       "0               22.16                  22.16              22.16   \n",
       "1                8.57                   8.57               8.57   \n",
       "2               17.68                   3.57              22.68   \n",
       "3               94.87                  12.11              96.87   \n",
       "4               67.20                   8.27              69.20   \n",
       "\n",
       "   spent_until_complete  \n",
       "0                 22.16  \n",
       "1                  8.57  \n",
       "2                  8.57  \n",
       "3                 14.11  \n",
       "4                 10.27  \n",
       "\n",
       "[5 rows x 25 columns]"
      ]
     },
     "execution_count": 7,
     "metadata": {},
     "output_type": "execute_result"
    }
   ],
   "source": [
    "encoder = BasicEncoder()\n",
    "X = encoder.fit_transform(data)\n",
    "X.head()"
   ]
  },
  {
   "cell_type": "code",
   "execution_count": 8,
   "metadata": {
    "collapsed": true
   },
   "outputs": [],
   "source": [
    "data.loc[data.offer_type == 'informational', 'success'] = data.loc[\n",
    "    data.offer_type == 'informational', 'viewed']"
   ]
  },
  {
   "cell_type": "code",
   "execution_count": 9,
   "metadata": {
    "collapsed": false
   },
   "outputs": [
    {
     "data": {
      "text/html": [
       "<div>\n",
       "<style scoped>\n",
       "    .dataframe tbody tr th:only-of-type {\n",
       "        vertical-align: middle;\n",
       "    }\n",
       "\n",
       "    .dataframe tbody tr th {\n",
       "        vertical-align: top;\n",
       "    }\n",
       "\n",
       "    .dataframe thead th {\n",
       "        text-align: right;\n",
       "    }\n",
       "</style>\n",
       "<table border=\"1\" class=\"dataframe\">\n",
       "  <thead>\n",
       "    <tr style=\"text-align: right;\">\n",
       "      <th></th>\n",
       "      <th>time</th>\n",
       "      <th>age</th>\n",
       "      <th>gender</th>\n",
       "      <th>income</th>\n",
       "      <th>missing_demographics</th>\n",
       "      <th>member_epoch_days</th>\n",
       "      <th>difficulty</th>\n",
       "      <th>duration</th>\n",
       "      <th>offer_type</th>\n",
       "      <th>reward_t</th>\n",
       "      <th>...</th>\n",
       "      <th>expected_finish</th>\n",
       "      <th>finish</th>\n",
       "      <th>success</th>\n",
       "      <th>view_time</th>\n",
       "      <th>viewed</th>\n",
       "      <th>actual_reward</th>\n",
       "      <th>profit_in_duration</th>\n",
       "      <th>profit_until_complete</th>\n",
       "      <th>spent_in_duration</th>\n",
       "      <th>spent_until_complete</th>\n",
       "    </tr>\n",
       "  </thead>\n",
       "  <tbody>\n",
       "    <tr>\n",
       "      <th>0</th>\n",
       "      <td>168</td>\n",
       "      <td>33.0</td>\n",
       "      <td>M</td>\n",
       "      <td>72000.0</td>\n",
       "      <td>0</td>\n",
       "      <td>17277</td>\n",
       "      <td>0.0</td>\n",
       "      <td>3.0</td>\n",
       "      <td>informational</td>\n",
       "      <td>0.0</td>\n",
       "      <td>...</td>\n",
       "      <td>240.0</td>\n",
       "      <td>240.0</td>\n",
       "      <td>1</td>\n",
       "      <td>192.0</td>\n",
       "      <td>1</td>\n",
       "      <td>0.0</td>\n",
       "      <td>22.16</td>\n",
       "      <td>22.16</td>\n",
       "      <td>22.16</td>\n",
       "      <td>22.16</td>\n",
       "    </tr>\n",
       "    <tr>\n",
       "      <th>1</th>\n",
       "      <td>336</td>\n",
       "      <td>33.0</td>\n",
       "      <td>M</td>\n",
       "      <td>72000.0</td>\n",
       "      <td>0</td>\n",
       "      <td>17277</td>\n",
       "      <td>0.0</td>\n",
       "      <td>4.0</td>\n",
       "      <td>informational</td>\n",
       "      <td>0.0</td>\n",
       "      <td>...</td>\n",
       "      <td>432.0</td>\n",
       "      <td>432.0</td>\n",
       "      <td>1</td>\n",
       "      <td>372.0</td>\n",
       "      <td>1</td>\n",
       "      <td>0.0</td>\n",
       "      <td>8.57</td>\n",
       "      <td>8.57</td>\n",
       "      <td>8.57</td>\n",
       "      <td>8.57</td>\n",
       "    </tr>\n",
       "    <tr>\n",
       "      <th>2</th>\n",
       "      <td>408</td>\n",
       "      <td>33.0</td>\n",
       "      <td>M</td>\n",
       "      <td>72000.0</td>\n",
       "      <td>0</td>\n",
       "      <td>17277</td>\n",
       "      <td>5.0</td>\n",
       "      <td>5.0</td>\n",
       "      <td>bogo</td>\n",
       "      <td>5.0</td>\n",
       "      <td>...</td>\n",
       "      <td>528.0</td>\n",
       "      <td>414.0</td>\n",
       "      <td>0</td>\n",
       "      <td>NaN</td>\n",
       "      <td>0</td>\n",
       "      <td>5.0</td>\n",
       "      <td>17.68</td>\n",
       "      <td>3.57</td>\n",
       "      <td>22.68</td>\n",
       "      <td>8.57</td>\n",
       "    </tr>\n",
       "    <tr>\n",
       "      <th>3</th>\n",
       "      <td>504</td>\n",
       "      <td>33.0</td>\n",
       "      <td>M</td>\n",
       "      <td>72000.0</td>\n",
       "      <td>0</td>\n",
       "      <td>17277</td>\n",
       "      <td>10.0</td>\n",
       "      <td>10.0</td>\n",
       "      <td>discount</td>\n",
       "      <td>2.0</td>\n",
       "      <td>...</td>\n",
       "      <td>744.0</td>\n",
       "      <td>528.0</td>\n",
       "      <td>0</td>\n",
       "      <td>NaN</td>\n",
       "      <td>0</td>\n",
       "      <td>2.0</td>\n",
       "      <td>94.87</td>\n",
       "      <td>12.11</td>\n",
       "      <td>96.87</td>\n",
       "      <td>14.11</td>\n",
       "    </tr>\n",
       "    <tr>\n",
       "      <th>4</th>\n",
       "      <td>576</td>\n",
       "      <td>33.0</td>\n",
       "      <td>M</td>\n",
       "      <td>72000.0</td>\n",
       "      <td>0</td>\n",
       "      <td>17277</td>\n",
       "      <td>10.0</td>\n",
       "      <td>7.0</td>\n",
       "      <td>discount</td>\n",
       "      <td>2.0</td>\n",
       "      <td>...</td>\n",
       "      <td>744.0</td>\n",
       "      <td>576.0</td>\n",
       "      <td>0</td>\n",
       "      <td>NaN</td>\n",
       "      <td>0</td>\n",
       "      <td>2.0</td>\n",
       "      <td>67.20</td>\n",
       "      <td>8.27</td>\n",
       "      <td>69.20</td>\n",
       "      <td>10.27</td>\n",
       "    </tr>\n",
       "  </tbody>\n",
       "</table>\n",
       "<p>5 rows × 25 columns</p>\n",
       "</div>"
      ],
      "text/plain": [
       "   time   age gender   income  missing_demographics  member_epoch_days  \\\n",
       "0   168  33.0      M  72000.0                     0              17277   \n",
       "1   336  33.0      M  72000.0                     0              17277   \n",
       "2   408  33.0      M  72000.0                     0              17277   \n",
       "3   504  33.0      M  72000.0                     0              17277   \n",
       "4   576  33.0      M  72000.0                     0              17277   \n",
       "\n",
       "   difficulty  duration     offer_type  reward_t          ...           \\\n",
       "0         0.0       3.0  informational       0.0          ...            \n",
       "1         0.0       4.0  informational       0.0          ...            \n",
       "2         5.0       5.0           bogo       5.0          ...            \n",
       "3        10.0      10.0       discount       2.0          ...            \n",
       "4        10.0       7.0       discount       2.0          ...            \n",
       "\n",
       "   expected_finish  finish  success  view_time  viewed  actual_reward  \\\n",
       "0            240.0   240.0        1      192.0       1            0.0   \n",
       "1            432.0   432.0        1      372.0       1            0.0   \n",
       "2            528.0   414.0        0        NaN       0            5.0   \n",
       "3            744.0   528.0        0        NaN       0            2.0   \n",
       "4            744.0   576.0        0        NaN       0            2.0   \n",
       "\n",
       "   profit_in_duration  profit_until_complete  spent_in_duration  \\\n",
       "0               22.16                  22.16              22.16   \n",
       "1                8.57                   8.57               8.57   \n",
       "2               17.68                   3.57              22.68   \n",
       "3               94.87                  12.11              96.87   \n",
       "4               67.20                   8.27              69.20   \n",
       "\n",
       "   spent_until_complete  \n",
       "0                 22.16  \n",
       "1                  8.57  \n",
       "2                  8.57  \n",
       "3                 14.11  \n",
       "4                 10.27  \n",
       "\n",
       "[5 rows x 25 columns]"
      ]
     },
     "execution_count": 9,
     "metadata": {},
     "output_type": "execute_result"
    }
   ],
   "source": [
    "data.head()"
   ]
  },
  {
   "cell_type": "code",
   "execution_count": 10,
   "metadata": {
    "collapsed": true
   },
   "outputs": [],
   "source": [
    "def get_success_data(\n",
    "    basic_dataset_path=os.path.join(DATA, \n",
    "                                    'interim',\n",
    "                                    'static_data.pkl'),\n",
    "    time_limit = 450,\n",
    "    informational_success=True\n",
    "):\n",
    "    \"\"\" \n",
    "    Generates the dataset to predict whether an offer was successful.\n",
    "    An offer is considered successful if it is viewed and then completed. In\n",
    "    the case of informational offers a visualization alone may be considered a\n",
    "    success or not.\n",
    "    Args:\n",
    "        basic_dataset_path(str): The path to the pickle containing the basic\n",
    "            dataset\n",
    "        time_limit(int): The limit to split the train and test sets.\n",
    "        informational_success(boolean): Whether a visualization of an \n",
    "            informational offer should be considered as a success.\n",
    "    \n",
    "    Returns:\n",
    "        X_train(pd.DataFrame): The training dataset.\n",
    "        X_test(pd.DataFrame): The test dataset.\n",
    "        y_train(pd.Series): The training target.\n",
    "        y_test(pd.Series): The test target.\n",
    "        BasicEncoder: An encoder to use in a ML pipeline.\n",
    "    \"\"\"\n",
    "    \n",
    "    data = pd.read_pickle(basic_dataset_path)\n",
    "    data = pp.anonimize_data(data)\n",
    "    if informational_success:\n",
    "        data.loc[data.offer_type == 'informational', 'success'] = data.loc[\n",
    "            data.offer_type == 'informational', 'viewed']\n",
    "    \n",
    "    X_train = data[data.time < time_limit].drop(pp.FUTURE_INFO, axis=1)\n",
    "    y_train = data.loc[data.time < time_limit, 'success']\n",
    "    X_test = data[data.time >= time_limit].drop(pp.FUTURE_INFO, axis=1)\n",
    "    y_test = data.loc[data.time >= time_limit, 'success']\n",
    "    \n",
    "    # Drop the columns that depend on absolute time\n",
    "    X_train = X_train.drop(['time', 'expected_finish'], axis=1)\n",
    "    X_test = X_test.drop(['time', 'expected_finish'], axis=1)\n",
    "    \n",
    "    encoder = pp.BasicEncoder()\n",
    "    \n",
    "    return X_train, X_test, y_train, y_test, encoder"
   ]
  },
  {
   "cell_type": "code",
   "execution_count": 11,
   "metadata": {
    "collapsed": true
   },
   "outputs": [],
   "source": [
    "X_train, X_test, y_train, y_test, encoder = get_success_data()"
   ]
  },
  {
   "cell_type": "code",
   "execution_count": 12,
   "metadata": {
    "collapsed": true
   },
   "outputs": [],
   "source": [
    "from sklearn.pipeline import Pipeline"
   ]
  },
  {
   "cell_type": "code",
   "execution_count": 13,
   "metadata": {
    "collapsed": true
   },
   "outputs": [],
   "source": [
    "model = Pipeline([\n",
    "    ('encoder', encoder),\n",
    "    ('estimator', XGBClassifier(max_depth=7, n_estimators=1000, n_jobs=-1, \n",
    "                                feature_names=X_train.columns))\n",
    "])"
   ]
  },
  {
   "cell_type": "code",
   "execution_count": 14,
   "metadata": {
    "collapsed": true
   },
   "outputs": [],
   "source": [
    "from time import time\n",
    "from sklearn.metrics import confusion_matrix, classification_report, f1_score"
   ]
  },
  {
   "cell_type": "code",
   "execution_count": 15,
   "metadata": {
    "collapsed": true
   },
   "outputs": [],
   "source": [
    "def evaluate_model(model, X_train, X_test, y_train, y_test):\n",
    "    \"\"\" \n",
    "    Shows some training and test results. Returns the trained model and the \n",
    "    predictions.\n",
    "    \"\"\"\n",
    "    # Fit the model\n",
    "    tic = time()\n",
    "    model.fit(X_train, y_train)\n",
    "    toc = time()\n",
    "    print('Training time: {} seconds.'.format(toc - tic))\n",
    "    \n",
    "    # Predict and show results\n",
    "    y_train_pred = model.predict(X_train)\n",
    "    print('-'*44 + 'TRAIN RESULTS' + '-'*44)\n",
    "    print('Confusion Matrix:')\n",
    "    print(confusion_matrix(y_train, y_train_pred))\n",
    "    print('Classification Report:')\n",
    "    print(classification_report(y_train, y_train_pred))\n",
    "    print('-'*100)\n",
    "    \n",
    "    y_test_pred = model.predict(X_test)\n",
    "    print('-'*44 + 'TEST RESULTS' + '-'*44)\n",
    "    print('Confusion Matrix:')\n",
    "    print(confusion_matrix(y_test, y_test_pred))\n",
    "    print('Classification Report:')\n",
    "    print(classification_report(y_test, y_test_pred))\n",
    "    print('-'*100)\n",
    "    \n",
    "    print('\\n' + '_'*51)\n",
    "    print('| MAIN METRIC (test f1-score): {} |'.format(\n",
    "        f1_score(y_test, y_test_pred)))\n",
    "    print('-'*51)\n",
    "    \n",
    "    return model, y_train_pred, y_test_pred"
   ]
  },
  {
   "cell_type": "code",
   "execution_count": 16,
   "metadata": {
    "collapsed": false
   },
   "outputs": [
    {
     "name": "stdout",
     "output_type": "stream",
     "text": [
      "Training time: 69.69393515586853 seconds.\n",
      "--------------------------------------------TRAIN RESULTS--------------------------------------------\n",
      "Confusion Matrix:\n",
      "[[23433  3442]\n",
      " [ 3490 20443]]\n",
      "Classification Report:\n",
      "              precision    recall  f1-score   support\n",
      "\n",
      "           0       0.87      0.87      0.87     26875\n",
      "           1       0.86      0.85      0.86     23933\n",
      "\n",
      "   micro avg       0.86      0.86      0.86     50808\n",
      "   macro avg       0.86      0.86      0.86     50808\n",
      "weighted avg       0.86      0.86      0.86     50808\n",
      "\n",
      "----------------------------------------------------------------------------------------------------\n",
      "--------------------------------------------TEST RESULTS--------------------------------------------\n",
      "Confusion Matrix:\n",
      "[[10080  3908]\n",
      " [ 3432  8049]]\n",
      "Classification Report:\n",
      "              precision    recall  f1-score   support\n",
      "\n",
      "           0       0.75      0.72      0.73     13988\n",
      "           1       0.67      0.70      0.69     11481\n",
      "\n",
      "   micro avg       0.71      0.71      0.71     25469\n",
      "   macro avg       0.71      0.71      0.71     25469\n",
      "weighted avg       0.71      0.71      0.71     25469\n",
      "\n",
      "----------------------------------------------------------------------------------------------------\n",
      "\n",
      "___________________________________________________\n",
      "| MAIN METRIC (test f1-score): 0.6868333475552522 |\n",
      "---------------------------------------------------\n"
     ]
    }
   ],
   "source": [
    "model, y_train_pred, y_test_pred = evaluate_model(model, X_train, X_test, y_train, y_test)"
   ]
  },
  {
   "cell_type": "code",
   "execution_count": 17,
   "metadata": {
    "collapsed": false
   },
   "outputs": [
    {
     "data": {
      "text/plain": [
       "<matplotlib.axes._subplots.AxesSubplot at 0x7f5f98e4a128>"
      ]
     },
     "execution_count": 17,
     "metadata": {},
     "output_type": "execute_result"
    },
    {
     "data": {
      "image/png": "[encoded data removed]",
      "text/plain": [
       "<Figure size 432x288 with 1 Axes>"
      ]
     },
     "metadata": {
      "needs_background": "dark"
     },
     "output_type": "display_data"
    }
   ],
   "source": [
    "feat_imp = np.vstack([X_train.columns, \n",
    "                      model.named_steps['estimator'].feature_importances_]).T\n",
    "feat_imp = pd.DataFrame(feat_imp, columns=['feature', 'importance'])\n",
    "feat_imp = feat_imp.sort_values(by='importance').set_index('feature')\n",
    "feat_imp.plot(kind='barh')"
   ]
  },
  {
   "cell_type": "code",
   "execution_count": 18,
   "metadata": {
    "collapsed": false
   },
   "outputs": [
    {
     "data": {
      "text/plain": [
       "array([0.21564204, 0.03048578, 0.21616267, 0.        , 0.35201818,\n",
       "       0.05752961, 0.0379626 , 0.01635646, 0.03833861, 0.02319696,\n",
       "       0.        , 0.01230711, 0.        ], dtype=float32)"
      ]
     },
     "execution_count": 18,
     "metadata": {},
     "output_type": "execute_result"
    }
   ],
   "source": [
    "model.named_steps['estimator'].feature_importances_"
   ]
  },
  {
   "cell_type": "code",
   "execution_count": 19,
   "metadata": {
    "collapsed": true
   },
   "outputs": [],
   "source": [
    "from xgboost import plot_importance"
   ]
  },
  {
   "cell_type": "code",
   "execution_count": 20,
   "metadata": {
    "collapsed": false
   },
   "outputs": [
    {
     "data": {
      "text/plain": [
       "<matplotlib.axes._subplots.AxesSubplot at 0x7f5f989d2208>"
      ]
     },
     "execution_count": 20,
     "metadata": {},
     "output_type": "execute_result"
    },
    {
     "data": {
      "image/png": "[encoded data removed]",
      "text/plain": [
       "<Figure size 432x288 with 1 Axes>"
      ]
     },
     "metadata": {
      "needs_background": "dark"
     },
     "output_type": "display_data"
    }
   ],
   "source": [
    "plot_importance(model.named_steps['estimator'])"
   ]
  },
  {
   "cell_type": "code",
   "execution_count": 21,
   "metadata": {
    "collapsed": true
   },
   "outputs": [],
   "source": [
    "def show_feat_importances(model, X_train):\n",
    "    \"\"\" \n",
    "    Show a barplot with the feature importances for this model's estimator.\n",
    "    The model is assumed to be a pipeline and the estimator name within the\n",
    "    pipeline is 'estimator'.\n",
    "    \"\"\"\n",
    "    feat_imp = np.vstack([X_train.columns, \n",
    "                      model.named_steps['estimator'].feature_importances_]).T\n",
    "    feat_imp = pd.DataFrame(feat_imp, columns=['feature', 'importance'])\n",
    "    feat_imp = feat_imp.sort_values(by='importance').set_index('feature')\n",
    "    feat_imp.plot(kind='barh')\n",
    "    plt.title('Feature Importances')\n",
    "    \n",
    "    # Use built-in importance plot\n",
    "    plt.figure()\n",
    "    plot_importance(model.named_steps['estimator'])"
   ]
  },
  {
   "cell_type": "code",
   "execution_count": 22,
   "metadata": {
    "collapsed": false
   },
   "outputs": [
    {
     "data": {
      "image/png": "[encoded data removed]",
      "text/plain": [
       "<Figure size 432x288 with 1 Axes>"
      ]
     },
     "metadata": {
      "needs_background": "dark"
     },
     "output_type": "display_data"
    },
    {
     "data": {
      "text/plain": [
       "<Figure size 432x288 with 0 Axes>"
      ]
     },
     "metadata": {},
     "output_type": "display_data"
    },
    {
     "data": {
      "image/png": "[encoded data removed]",
      "text/plain": [
       "<Figure size 432x288 with 1 Axes>"
      ]
     },
     "metadata": {
      "needs_background": "dark"
     },
     "output_type": "display_data"
    }
   ],
   "source": [
    "show_feat_importances(model, X_train)"
   ]
  },
  {
   "cell_type": "code",
   "execution_count": 23,
   "metadata": {
    "collapsed": false
   },
   "outputs": [
    {
     "data": {
      "text/plain": [
       "0      12650\n",
       "168    12669\n",
       "336    12711\n",
       "408    12778\n",
       "504    12704\n",
       "576    12765\n",
       "Name: time, dtype: int64"
      ]
     },
     "execution_count": 23,
     "metadata": {},
     "output_type": "execute_result"
    }
   ],
   "source": [
    "data.time.value_counts().sort_index()"
   ]
  },
  {
   "cell_type": "code",
   "execution_count": 24,
   "metadata": {
    "collapsed": true
   },
   "outputs": [],
   "source": [
    "corr_matrix = X_train.join(y_train).corr()"
   ]
  },
  {
   "cell_type": "code",
   "execution_count": 25,
   "metadata": {
    "collapsed": false
   },
   "outputs": [
    {
     "data": {
      "text/html": [
       "<div>\n",
       "<style scoped>\n",
       "    .dataframe tbody tr th:only-of-type {\n",
       "        vertical-align: middle;\n",
       "    }\n",
       "\n",
       "    .dataframe tbody tr th {\n",
       "        vertical-align: top;\n",
       "    }\n",
       "\n",
       "    .dataframe thead th {\n",
       "        text-align: right;\n",
       "    }\n",
       "</style>\n",
       "<table border=\"1\" class=\"dataframe\">\n",
       "  <thead>\n",
       "    <tr style=\"text-align: right;\">\n",
       "      <th></th>\n",
       "      <th>age</th>\n",
       "      <th>income</th>\n",
       "      <th>missing_demographics</th>\n",
       "      <th>member_epoch_days</th>\n",
       "      <th>difficulty</th>\n",
       "      <th>duration</th>\n",
       "      <th>reward_t</th>\n",
       "      <th>channel_social</th>\n",
       "      <th>channel_email</th>\n",
       "      <th>channel_web</th>\n",
       "      <th>channel_mobile</th>\n",
       "      <th>success</th>\n",
       "    </tr>\n",
       "  </thead>\n",
       "  <tbody>\n",
       "    <tr>\n",
       "      <th>age</th>\n",
       "      <td>1.000000</td>\n",
       "      <td>0.304423</td>\n",
       "      <td>NaN</td>\n",
       "      <td>-0.008500</td>\n",
       "      <td>-0.002747</td>\n",
       "      <td>0.000603</td>\n",
       "      <td>-0.008122</td>\n",
       "      <td>-0.002502</td>\n",
       "      <td>NaN</td>\n",
       "      <td>0.002282</td>\n",
       "      <td>-0.003256</td>\n",
       "      <td>0.054490</td>\n",
       "    </tr>\n",
       "    <tr>\n",
       "      <th>income</th>\n",
       "      <td>0.304423</td>\n",
       "      <td>1.000000</td>\n",
       "      <td>NaN</td>\n",
       "      <td>-0.023294</td>\n",
       "      <td>-0.001536</td>\n",
       "      <td>-0.003432</td>\n",
       "      <td>0.005952</td>\n",
       "      <td>0.007484</td>\n",
       "      <td>NaN</td>\n",
       "      <td>-0.003723</td>\n",
       "      <td>0.003666</td>\n",
       "      <td>0.107092</td>\n",
       "    </tr>\n",
       "    <tr>\n",
       "      <th>missing_demographics</th>\n",
       "      <td>NaN</td>\n",
       "      <td>NaN</td>\n",
       "      <td>1.000000</td>\n",
       "      <td>0.032606</td>\n",
       "      <td>-0.003283</td>\n",
       "      <td>-0.005949</td>\n",
       "      <td>0.005974</td>\n",
       "      <td>0.002534</td>\n",
       "      <td>NaN</td>\n",
       "      <td>0.000054</td>\n",
       "      <td>0.006776</td>\n",
       "      <td>-0.169441</td>\n",
       "    </tr>\n",
       "    <tr>\n",
       "      <th>member_epoch_days</th>\n",
       "      <td>-0.008500</td>\n",
       "      <td>-0.023294</td>\n",
       "      <td>0.032606</td>\n",
       "      <td>1.000000</td>\n",
       "      <td>-0.000953</td>\n",
       "      <td>-0.001655</td>\n",
       "      <td>-0.002358</td>\n",
       "      <td>0.003023</td>\n",
       "      <td>NaN</td>\n",
       "      <td>0.001396</td>\n",
       "      <td>-0.000407</td>\n",
       "      <td>-0.142892</td>\n",
       "    </tr>\n",
       "    <tr>\n",
       "      <th>difficulty</th>\n",
       "      <td>-0.002747</td>\n",
       "      <td>-0.001536</td>\n",
       "      <td>-0.003283</td>\n",
       "      <td>-0.000953</td>\n",
       "      <td>1.000000</td>\n",
       "      <td>0.809765</td>\n",
       "      <td>0.465517</td>\n",
       "      <td>-0.156853</td>\n",
       "      <td>NaN</td>\n",
       "      <td>0.243284</td>\n",
       "      <td>-0.742397</td>\n",
       "      <td>-0.200868</td>\n",
       "    </tr>\n",
       "  </tbody>\n",
       "</table>\n",
       "</div>"
      ],
      "text/plain": [
       "                           age    income  missing_demographics  \\\n",
       "age                   1.000000  0.304423                   NaN   \n",
       "income                0.304423  1.000000                   NaN   \n",
       "missing_demographics       NaN       NaN              1.000000   \n",
       "member_epoch_days    -0.008500 -0.023294              0.032606   \n",
       "difficulty           -0.002747 -0.001536             -0.003283   \n",
       "\n",
       "                      member_epoch_days  difficulty  duration  reward_t  \\\n",
       "age                           -0.008500   -0.002747  0.000603 -0.008122   \n",
       "income                        -0.023294   -0.001536 -0.003432  0.005952   \n",
       "missing_demographics           0.032606   -0.003283 -0.005949  0.005974   \n",
       "member_epoch_days              1.000000   -0.000953 -0.001655 -0.002358   \n",
       "difficulty                    -0.000953    1.000000  0.809765  0.465517   \n",
       "\n",
       "                      channel_social  channel_email  channel_web  \\\n",
       "age                        -0.002502            NaN     0.002282   \n",
       "income                      0.007484            NaN    -0.003723   \n",
       "missing_demographics        0.002534            NaN     0.000054   \n",
       "member_epoch_days           0.003023            NaN     0.001396   \n",
       "difficulty                 -0.156853            NaN     0.243284   \n",
       "\n",
       "                      channel_mobile   success  \n",
       "age                        -0.003256  0.054490  \n",
       "income                      0.003666  0.107092  \n",
       "missing_demographics        0.006776 -0.169441  \n",
       "member_epoch_days          -0.000407 -0.142892  \n",
       "difficulty                 -0.742397 -0.200868  "
      ]
     },
     "execution_count": 25,
     "metadata": {},
     "output_type": "execute_result"
    }
   ],
   "source": [
    "corr_matrix.head()"
   ]
  },
  {
   "cell_type": "code",
   "execution_count": 26,
   "metadata": {
    "collapsed": false
   },
   "outputs": [
    {
     "data": {
      "text/plain": [
       "<matplotlib.axes._subplots.AxesSubplot at 0x7f5f98b99668>"
      ]
     },
     "execution_count": 26,
     "metadata": {},
     "output_type": "execute_result"
    },
    {
     "data": {
      "image/png": "[encoded data removed]",
      "text/plain": [
       "<Figure size 432x288 with 1 Axes>"
      ]
     },
     "metadata": {
      "needs_background": "dark"
     },
     "output_type": "display_data"
    }
   ],
   "source": [
    "corr_matrix['success'].sort_values(\n",
    "    ascending=False).drop('success', axis=0).plot(kind='barh')"
   ]
  },
  {
   "cell_type": "markdown",
   "metadata": {},
   "source": [
    "## Let's decide a strategy to validate the results, independently of the time test-split.\n",
    "\n",
    "We could use a time division for validation or a random KFold validation. Let's compare them."
   ]
  },
  {
   "cell_type": "markdown",
   "metadata": {},
   "source": [
    "### Time split validation."
   ]
  },
  {
   "cell_type": "code",
   "execution_count": 27,
   "metadata": {
    "collapsed": true
   },
   "outputs": [],
   "source": [
    "import src.evaluation.offer_success as evos"
   ]
  },
  {
   "cell_type": "code",
   "execution_count": 28,
   "metadata": {
    "collapsed": true
   },
   "outputs": [],
   "source": [
    "model = Pipeline([\n",
    "    ('encoder', encoder),\n",
    "    ('estimator', XGBClassifier(max_depth=7, n_estimators=1000, n_jobs=-1, \n",
    "                                feature_names=X_train.columns))\n",
    "])"
   ]
  },
  {
   "cell_type": "code",
   "execution_count": 29,
   "metadata": {
    "collapsed": true
   },
   "outputs": [],
   "source": [
    "def time_split_validation(model, val_time=370, **kwargs):\n",
    "    \"\"\"\n",
    "    Shows some training and test results, for a time-split validation scheme. \n",
    "    Returns the trained model and the predictions.\n",
    "    Args:\n",
    "        model(sklearn.BaseEstimator): The model to fit and make predictions.\n",
    "        val_time(int): The time to make the validation split.\n",
    "        kwargs(dict): Arguments to be passed to inner functions.\n",
    "\n",
    "    Returns:\n",
    "        model(sklearn.BaseEstimator): The trained model.\n",
    "        y_train_pred(array-like): The predictions for the training set.\n",
    "        y_test_pred(array-like): The predictions for the test set.\n",
    "    \"\"\"\n",
    "    X_train, X_val, X_test, X_train_val, y_train, y_val, y_test, \\\n",
    "           y_train_val = evos.get_time_split_val(val_time, **kwargs)\n",
    "    return evos.evaluate_model(model, X_train, X_val, y_train, y_val)"
   ]
  },
  {
   "cell_type": "code",
   "execution_count": 30,
   "metadata": {
    "collapsed": false
   },
   "outputs": [
    {
     "name": "stdout",
     "output_type": "stream",
     "text": [
      "Training time: 42.91053915023804 seconds.\n",
      "--------------------------------------------TRAIN RESULTS--------------------------------------------\n",
      "Confusion Matrix:\n",
      "[[17920  2212]\n",
      " [ 2165 15733]]\n",
      "Classification Report:\n",
      "              precision    recall  f1-score   support\n",
      "\n",
      "           0       0.89      0.89      0.89     20132\n",
      "           1       0.88      0.88      0.88     17898\n",
      "\n",
      "   micro avg       0.88      0.88      0.88     38030\n",
      "   macro avg       0.88      0.88      0.88     38030\n",
      "weighted avg       0.88      0.88      0.88     38030\n",
      "\n",
      "----------------------------------------------------------------------------------------------------\n",
      "--------------------------------------------TEST RESULTS--------------------------------------------\n",
      "Confusion Matrix:\n",
      "[[4943 1800]\n",
      " [1963 4072]]\n",
      "Classification Report:\n",
      "              precision    recall  f1-score   support\n",
      "\n",
      "           0       0.72      0.73      0.72      6743\n",
      "           1       0.69      0.67      0.68      6035\n",
      "\n",
      "   micro avg       0.71      0.71      0.71     12778\n",
      "   macro avg       0.70      0.70      0.70     12778\n",
      "weighted avg       0.71      0.71      0.71     12778\n",
      "\n",
      "----------------------------------------------------------------------------------------------------\n",
      "\n",
      "___________________________________________________\n",
      "| MAIN METRIC (test f1-score): 0.6839674141261443 |\n",
      "---------------------------------------------------\n"
     ]
    },
    {
     "data": {
      "text/plain": [
       "(Pipeline(memory=None,\n",
       "      steps=[('encoder', BasicEncoder()), ('estimator', XGBClassifier(base_score=0.5, booster='gbtree', colsample_bylevel=1,\n",
       "        colsample_bytree=1,\n",
       "        feature_names=Index(['age', 'gender', 'income', 'missing_demographics', 'member_epoch_days',\n",
       "        'difficulty', 'duration', 'offer_type', 'reward...\n",
       "        reg_alpha=0, reg_lambda=1, scale_pos_weight=1, seed=None,\n",
       "        silent=True, subsample=1))]),\n",
       " array([1, 1, 0, ..., 1, 0, 1]),\n",
       " array([1, 1, 1, ..., 0, 1, 1]))"
      ]
     },
     "execution_count": 30,
     "metadata": {},
     "output_type": "execute_result"
    }
   ],
   "source": [
    "time_split_validation(model)"
   ]
  },
  {
   "cell_type": "markdown",
   "metadata": {},
   "source": [
    "### Random KFold validation"
   ]
  },
  {
   "cell_type": "code",
   "execution_count": 31,
   "metadata": {
    "collapsed": true
   },
   "outputs": [],
   "source": [
    "model = Pipeline([\n",
    "    ('encoder', encoder),\n",
    "    ('estimator', XGBClassifier(max_depth=7, n_estimators=1000, n_jobs=-1, \n",
    "                                feature_names=X_train.columns))\n",
    "])"
   ]
  },
  {
   "cell_type": "code",
   "execution_count": 32,
   "metadata": {
    "collapsed": true
   },
   "outputs": [],
   "source": [
    "def random_kfold_validation(model, n_splits=3):\n",
    "    \"\"\"\n",
    "    Shows some training and validation results, for a random kfold validation \n",
    "    scheme.\n",
    "    Args:\n",
    "        model(sklearn.BaseEstimator): The model to fit and make predictions.\n",
    "        n_splits(int): The number of folds for the cross-validation.\n",
    "    \"\"\"\n",
    "    skf = StratifiedKFold(n_splits=3, shuffle=True, random_state=2018)\n",
    "    X_train_val, X_test, y_train_val, y_test, \\\n",
    "        encoder = sd.get_success_data(drop_time=True)\n",
    "    \n",
    "    # Train and validate for each fold\n",
    "    f1_train = list()\n",
    "    f1_val = list()\n",
    "    i = 0\n",
    "    for train_index, test_index in skf.split(X_train_val, y_train_val):\n",
    "        i += 1\n",
    "        print('Fold - {}'.format(i))\n",
    "        X_train, X_val = X_train_val.iloc[train_index], X_train_val.iloc[test_index]\n",
    "        y_train, y_val = y_train_val.iloc[train_index], y_train_val.iloc[test_index]\n",
    "        model, y_train_pred, y_val_pred = evos.evaluate_model(\n",
    "            model, X_train, X_val, y_train, y_val)\n",
    "        f1_train.append(f1_score(y_train, y_train_pred))\n",
    "        f1_val.append(f1_score(y_val, y_val_pred))\n",
    "    \n",
    "    # Show results\n",
    "    print('Training F1-score: {} +- {}'.format(np.mean(f1_train), np.std(f1_train)))\n",
    "    print()\n",
    "    print('Validation F1-score: {} +- {}'.format(np.mean(f1_val), 2*np.std(f1_val)))"
   ]
  },
  {
   "cell_type": "code",
   "execution_count": 33,
   "metadata": {
    "collapsed": false
   },
   "outputs": [
    {
     "name": "stdout",
     "output_type": "stream",
     "text": [
      "Fold - 1\n",
      "Training time: 36.27270197868347 seconds.\n",
      "--------------------------------------------TRAIN RESULTS--------------------------------------------\n",
      "Confusion Matrix:\n",
      "[[16131  1785]\n",
      " [ 1815 14140]]\n",
      "Classification Report:\n",
      "              precision    recall  f1-score   support\n",
      "\n",
      "           0       0.90      0.90      0.90     17916\n",
      "           1       0.89      0.89      0.89     15955\n",
      "\n",
      "   micro avg       0.89      0.89      0.89     33871\n",
      "   macro avg       0.89      0.89      0.89     33871\n",
      "weighted avg       0.89      0.89      0.89     33871\n",
      "\n",
      "----------------------------------------------------------------------------------------------------\n",
      "--------------------------------------------TEST RESULTS--------------------------------------------\n",
      "Confusion Matrix:\n",
      "[[6495 2464]\n",
      " [2494 5484]]\n",
      "Classification Report:\n",
      "              precision    recall  f1-score   support\n",
      "\n",
      "           0       0.72      0.72      0.72      8959\n",
      "           1       0.69      0.69      0.69      7978\n",
      "\n",
      "   micro avg       0.71      0.71      0.71     16937\n",
      "   macro avg       0.71      0.71      0.71     16937\n",
      "weighted avg       0.71      0.71      0.71     16937\n",
      "\n",
      "----------------------------------------------------------------------------------------------------\n",
      "\n",
      "___________________________________________________\n",
      "| MAIN METRIC (test f1-score): 0.688685168906191 |\n",
      "---------------------------------------------------\n",
      "Fold - 2\n",
      "Training time: 45.85266399383545 seconds.\n",
      "--------------------------------------------TRAIN RESULTS--------------------------------------------\n",
      "Confusion Matrix:\n",
      "[[16028  1889]\n",
      " [ 1754 14201]]\n",
      "Classification Report:\n",
      "              precision    recall  f1-score   support\n",
      "\n",
      "           0       0.90      0.89      0.90     17917\n",
      "           1       0.88      0.89      0.89     15955\n",
      "\n",
      "   micro avg       0.89      0.89      0.89     33872\n",
      "   macro avg       0.89      0.89      0.89     33872\n",
      "weighted avg       0.89      0.89      0.89     33872\n",
      "\n",
      "----------------------------------------------------------------------------------------------------\n",
      "--------------------------------------------TEST RESULTS--------------------------------------------\n",
      "Confusion Matrix:\n",
      "[[6455 2503]\n",
      " [2528 5450]]\n",
      "Classification Report:\n",
      "              precision    recall  f1-score   support\n",
      "\n",
      "           0       0.72      0.72      0.72      8958\n",
      "           1       0.69      0.68      0.68      7978\n",
      "\n",
      "   micro avg       0.70      0.70      0.70     16936\n",
      "   macro avg       0.70      0.70      0.70     16936\n",
      "weighted avg       0.70      0.70      0.70     16936\n",
      "\n",
      "----------------------------------------------------------------------------------------------------\n",
      "\n",
      "___________________________________________________\n",
      "| MAIN METRIC (test f1-score): 0.6842006151528467 |\n",
      "---------------------------------------------------\n",
      "Fold - 3\n",
      "Training time: 59.161086320877075 seconds.\n",
      "--------------------------------------------TRAIN RESULTS--------------------------------------------\n",
      "Confusion Matrix:\n",
      "[[16152  1765]\n",
      " [ 1763 14193]]\n",
      "Classification Report:\n",
      "              precision    recall  f1-score   support\n",
      "\n",
      "           0       0.90      0.90      0.90     17917\n",
      "           1       0.89      0.89      0.89     15956\n",
      "\n",
      "   micro avg       0.90      0.90      0.90     33873\n",
      "   macro avg       0.90      0.90      0.90     33873\n",
      "weighted avg       0.90      0.90      0.90     33873\n",
      "\n",
      "----------------------------------------------------------------------------------------------------\n",
      "--------------------------------------------TEST RESULTS--------------------------------------------\n",
      "Confusion Matrix:\n",
      "[[6533 2425]\n",
      " [2563 5414]]\n",
      "Classification Report:\n",
      "              precision    recall  f1-score   support\n",
      "\n",
      "           0       0.72      0.73      0.72      8958\n",
      "           1       0.69      0.68      0.68      7977\n",
      "\n",
      "   micro avg       0.71      0.71      0.71     16935\n",
      "   macro avg       0.70      0.70      0.70     16935\n",
      "weighted avg       0.71      0.71      0.71     16935\n",
      "\n",
      "----------------------------------------------------------------------------------------------------\n",
      "\n",
      "___________________________________________________\n",
      "| MAIN METRIC (test f1-score): 0.6846231664137582 |\n",
      "---------------------------------------------------\n",
      "Training F1-score: 0.8876151865514176 +- 0.0013360302462744908\n",
      "\n",
      "Validation F1-score: 0.6858363168242653 +- 0.004043630721861681\n"
     ]
    }
   ],
   "source": [
    "random_kfold_validation(model)"
   ]
  },
  {
   "cell_type": "markdown",
   "metadata": {},
   "source": [
    "### Random train-val-test-split validation"
   ]
  },
  {
   "cell_type": "code",
   "execution_count": 34,
   "metadata": {
    "collapsed": true
   },
   "outputs": [],
   "source": [
    "from sklearn.model_selection import train_test_split"
   ]
  },
  {
   "cell_type": "code",
   "execution_count": 35,
   "metadata": {
    "collapsed": true
   },
   "outputs": [],
   "source": [
    "def random_1fold_validation(model):\n",
    "    \"\"\"\n",
    "    Shows some training and validation results, for a random train-val-test \n",
    "    validation scheme.\n",
    "    Args:\n",
    "        model(sklearn.BaseEstimator): The model to fit and make predictions.\n",
    "    \"\"\"\n",
    "    X_train_val, X_test, y_train_val, y_test, encoder = sd.get_success_data(\n",
    "        drop_time=True)\n",
    "    X_train, X_val, y_train, y_val = train_test_split(X_train_val,\n",
    "                                                      y_train_val, \n",
    "                                                      test_size=0.3, \n",
    "                                                      random_state=2018)\n",
    "    model, y_train_pred, y_val_pred = evos.evaluate_model(model, X_train, X_val, \n",
    "                                                        y_train, y_val)\n",
    "    print('Training F1-score: {}'.format(f1_score(y_train, y_train_pred)))\n",
    "    print()\n",
    "    print('Validation F1-score: {}'.format(f1_score(y_val, y_val_pred)))"
   ]
  },
  {
   "cell_type": "code",
   "execution_count": 36,
   "metadata": {
    "collapsed": true
   },
   "outputs": [],
   "source": [
    "model = Pipeline([\n",
    "    ('encoder', encoder),\n",
    "    ('estimator', XGBClassifier(max_depth=7, n_estimators=1000, n_jobs=-1, \n",
    "                                feature_names=X_train.columns))\n",
    "])"
   ]
  },
  {
   "cell_type": "code",
   "execution_count": 37,
   "metadata": {
    "collapsed": false
   },
   "outputs": [
    {
     "name": "stdout",
     "output_type": "stream",
     "text": [
      "Training time: 58.457170724868774 seconds.\n",
      "--------------------------------------------TRAIN RESULTS--------------------------------------------\n",
      "Confusion Matrix:\n",
      "[[16849  1940]\n",
      " [ 1910 14866]]\n",
      "Classification Report:\n",
      "              precision    recall  f1-score   support\n",
      "\n",
      "           0       0.90      0.90      0.90     18789\n",
      "           1       0.88      0.89      0.89     16776\n",
      "\n",
      "   micro avg       0.89      0.89      0.89     35565\n",
      "   macro avg       0.89      0.89      0.89     35565\n",
      "weighted avg       0.89      0.89      0.89     35565\n",
      "\n",
      "----------------------------------------------------------------------------------------------------\n",
      "--------------------------------------------TEST RESULTS--------------------------------------------\n",
      "Confusion Matrix:\n",
      "[[5860 2226]\n",
      " [2230 4927]]\n",
      "Classification Report:\n",
      "              precision    recall  f1-score   support\n",
      "\n",
      "           0       0.72      0.72      0.72      8086\n",
      "           1       0.69      0.69      0.69      7157\n",
      "\n",
      "   micro avg       0.71      0.71      0.71     15243\n",
      "   macro avg       0.71      0.71      0.71     15243\n",
      "weighted avg       0.71      0.71      0.71     15243\n",
      "\n",
      "----------------------------------------------------------------------------------------------------\n",
      "\n",
      "___________________________________________________\n",
      "| MAIN METRIC (test f1-score): 0.6886093640810622 |\n",
      "---------------------------------------------------\n",
      "Training F1-score: 0.8853552498362218\n",
      "\n",
      "Validation F1-score: 0.6886093640810622\n"
     ]
    }
   ],
   "source": [
    "random_1fold_validation(model)"
   ]
  },
  {
   "cell_type": "markdown",
   "metadata": {},
   "source": [
    "### Random 1-Fold split in customers"
   ]
  },
  {
   "cell_type": "code",
   "execution_count": 38,
   "metadata": {
    "collapsed": true
   },
   "outputs": [],
   "source": [
    "model = Pipeline([\n",
    "    ('encoder', encoder),\n",
    "    ('estimator', XGBClassifier(max_depth=7, n_estimators=1000, n_jobs=-1, \n",
    "                                feature_names=X_train.columns))\n",
    "])"
   ]
  },
  {
   "cell_type": "code",
   "execution_count": 39,
   "metadata": {
    "collapsed": true
   },
   "outputs": [],
   "source": [
    "def random_1fold_cust_validation(model):\n",
    "    \"\"\"\n",
    "    Shows some training and validation results, for a random train-val-test \n",
    "    validation scheme. The dataset is divided by customers.\n",
    "    Args:\n",
    "        model(sklearn.BaseEstimator): The model to fit and make predictions.\n",
    "    \"\"\"\n",
    "    X_train_val, X_test, y_train_val, y_test, encoder = sd.get_success_data(\n",
    "        drop_time=True, anon=False)\n",
    "\n",
    "    # Get random customer splits\n",
    "    val_size = 0.3\n",
    "    customers = X_train_val.person.unique()\n",
    "    n_train = int(np.floor(customers.shape[0] * (1.0 - val_size)))\n",
    "    np.random.shuffle(customers)\n",
    "    X_train = X_train_val[X_train_val.person.isin(customers[:n_train])]\n",
    "    X_val = X_train_val[X_train_val.person.isin(customers[n_train:])]\n",
    "    y_train = y_train_val[X_train_val.person.isin(customers[:n_train])]\n",
    "    y_val = y_train_val[X_train_val.person.isin(customers[n_train:])]\n",
    "    \n",
    "    # Anonimize\n",
    "    X_train = pp.anonimize_data(X_train)\n",
    "    X_val = pp.anonimize_data(X_val)\n",
    "    \n",
    "    # Evaluate and show results\n",
    "    model, y_train_pred, y_val_pred = evos.evaluate_model(\n",
    "        model, X_train, X_val, y_train, y_val)\n",
    "    print('Training F1-score: {}'.format(f1_score(y_train, y_train_pred)))\n",
    "    print()\n",
    "    print('Validation F1-score: {}'.format(f1_score(y_val, y_val_pred)))"
   ]
  },
  {
   "cell_type": "code",
   "execution_count": 40,
   "metadata": {
    "collapsed": false
   },
   "outputs": [
    {
     "name": "stdout",
     "output_type": "stream",
     "text": [
      "Training time: 56.02696084976196 seconds.\n",
      "--------------------------------------------TRAIN RESULTS--------------------------------------------\n",
      "Confusion Matrix:\n",
      "[[16792  2027]\n",
      " [ 1961 14788]]\n",
      "Classification Report:\n",
      "              precision    recall  f1-score   support\n",
      "\n",
      "           0       0.90      0.89      0.89     18819\n",
      "           1       0.88      0.88      0.88     16749\n",
      "\n",
      "   micro avg       0.89      0.89      0.89     35568\n",
      "   macro avg       0.89      0.89      0.89     35568\n",
      "weighted avg       0.89      0.89      0.89     35568\n",
      "\n",
      "----------------------------------------------------------------------------------------------------\n",
      "--------------------------------------------TEST RESULTS--------------------------------------------\n",
      "Confusion Matrix:\n",
      "[[5753 2303]\n",
      " [2368 4816]]\n",
      "Classification Report:\n",
      "              precision    recall  f1-score   support\n",
      "\n",
      "           0       0.71      0.71      0.71      8056\n",
      "           1       0.68      0.67      0.67      7184\n",
      "\n",
      "   micro avg       0.69      0.69      0.69     15240\n",
      "   macro avg       0.69      0.69      0.69     15240\n",
      "weighted avg       0.69      0.69      0.69     15240\n",
      "\n",
      "----------------------------------------------------------------------------------------------------\n",
      "\n",
      "___________________________________________________\n",
      "| MAIN METRIC (test f1-score): 0.6734251555617703 |\n",
      "---------------------------------------------------\n",
      "Training F1-score: 0.881182219044214\n",
      "\n",
      "Validation F1-score: 0.6734251555617703\n"
     ]
    }
   ],
   "source": [
    "random_1fold_cust_validation(model)"
   ]
  },
  {
   "cell_type": "markdown",
   "metadata": {},
   "source": [
    "### Test results"
   ]
  },
  {
   "cell_type": "code",
   "execution_count": 41,
   "metadata": {
    "collapsed": true
   },
   "outputs": [],
   "source": [
    "model = Pipeline([\n",
    "    ('encoder', encoder),\n",
    "    ('estimator', XGBClassifier(max_depth=7, n_estimators=1000, n_jobs=-1, \n",
    "                                feature_names=X_train.columns))\n",
    "])"
   ]
  },
  {
   "cell_type": "code",
   "execution_count": 42,
   "metadata": {
    "collapsed": true
   },
   "outputs": [],
   "source": [
    "def offer_success_test(model):\n",
    "    \"\"\"\n",
    "    Shows some training and test results, for a time-split validation scheme.\n",
    "    Args:\n",
    "        model(sklearn.BaseEstimator): The model to fit and make predictions.\n",
    "    \"\"\"\n",
    "    X_train, X_test, y_train, y_test, encoder = sd.get_success_data()\n",
    "    model, y_train_pred, y_test_pred = evos.evaluate_model(\n",
    "        model, X_train, X_test, y_train, y_test)\n",
    "    print('Training F1-score: {}'.format(f1_score(y_train, y_train_pred)))\n",
    "    print()\n",
    "    print('Test F1-score: {}'.format(f1_score(y_test, y_test_pred)))"
   ]
  },
  {
   "cell_type": "code",
   "execution_count": 43,
   "metadata": {
    "collapsed": false
   },
   "outputs": [
    {
     "name": "stdout",
     "output_type": "stream",
     "text": [
      "Training time: 97.76098990440369 seconds.\n",
      "--------------------------------------------TRAIN RESULTS--------------------------------------------\n",
      "Confusion Matrix:\n",
      "[[23433  3442]\n",
      " [ 3490 20443]]\n",
      "Classification Report:\n",
      "              precision    recall  f1-score   support\n",
      "\n",
      "           0       0.87      0.87      0.87     26875\n",
      "           1       0.86      0.85      0.86     23933\n",
      "\n",
      "   micro avg       0.86      0.86      0.86     50808\n",
      "   macro avg       0.86      0.86      0.86     50808\n",
      "weighted avg       0.86      0.86      0.86     50808\n",
      "\n",
      "----------------------------------------------------------------------------------------------------\n",
      "--------------------------------------------TEST RESULTS--------------------------------------------\n",
      "Confusion Matrix:\n",
      "[[10080  3908]\n",
      " [ 3432  8049]]\n",
      "Classification Report:\n",
      "              precision    recall  f1-score   support\n",
      "\n",
      "           0       0.75      0.72      0.73     13988\n",
      "           1       0.67      0.70      0.69     11481\n",
      "\n",
      "   micro avg       0.71      0.71      0.71     25469\n",
      "   macro avg       0.71      0.71      0.71     25469\n",
      "weighted avg       0.71      0.71      0.71     25469\n",
      "\n",
      "----------------------------------------------------------------------------------------------------\n",
      "\n",
      "___________________________________________________\n",
      "| MAIN METRIC (test f1-score): 0.6868333475552522 |\n",
      "---------------------------------------------------\n",
      "Training F1-score: 0.8550336693295412\n",
      "\n",
      "Test F1-score: 0.6868333475552522\n"
     ]
    }
   ],
   "source": [
    "offer_success_test(model)"
   ]
  },
  {
   "cell_type": "markdown",
   "metadata": {},
   "source": [
    "### Conclusion: All the validation methods give similar results to the test evaluation. The \"hardest\" validation seems to be the one that uses only previously unseen customers to validate. KFold validation takes the longest time, as usual. The time-split validation is the most similar to the way the test validation is made, and also seems to be the closest to the real scenario. It is also fast, so I will use that method for validation. Anyway, if possible and reasonable, I will report the \"unseen customers\" metrics, because I think they are informative.\n",
    "\n",
    "\n",
    "### The fact that the \"Random\" validations yield similar results to the \"time-split\" validation could be seen as an informal indicator of stationarity (at least in the one-month period)."
   ]
  },
  {
   "cell_type": "code",
   "execution_count": null,
   "metadata": {
    "collapsed": true
   },
   "outputs": [],
   "source": []
  }
 ],
 "metadata": {
  "kernelspec": {
   "display_name": "sbucks",
   "language": "python",
   "name": "sbucks"
  },
  "language_info": {
   "codemirror_mode": {
    "name": "ipython",
    "version": 3
   },
   "file_extension": ".py",
   "mimetype": "text/x-python",
   "name": "python",
   "nbconvert_exporter": "python",
   "pygments_lexer": "ipython3",
   "version": "3.7.1"
  }
 },
 "nbformat": 4,
 "nbformat_minor": 2
}
