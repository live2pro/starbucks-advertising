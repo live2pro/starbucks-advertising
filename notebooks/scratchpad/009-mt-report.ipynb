{
 "cells": [
  {
   "cell_type": "code",
   "execution_count": 37,
   "metadata": {},
   "outputs": [
    {
     "name": "stdout",
     "output_type": "stream",
     "text": [
      "The autoreload extension is already loaded. To reload it, use:\n",
      "  %reload_ext autoreload\n"
     ]
    }
   ],
   "source": [
    "import pandas as pd\n",
    "import numpy as np\n",
    "import math\n",
    "import json\n",
    "import os\n",
    "import matplotlib.pyplot as plt\n",
    "%matplotlib inline\n",
    "\n",
    "%load_ext autoreload\n",
    "%autoreload 2\n",
    "\n",
    "from jupyterthemes import jtplot\n",
    "jtplot.style(theme='solarizedd')\n",
    "plt.rcParams['figure.figsize'] = (20.0, 10.0)\n",
    "\n",
    "import data_utils_mt.utils as utils\n",
    "import seaborn as sns\n",
    "from sklearn.pipeline import Pipeline\n",
    "import datetime as dt\n",
    "from xgboost import XGBClassifier\n",
    "from sklearn.metrics import mean_squared_error as mse\n",
    "\n",
    "ROOT_DIR = '../..'\n",
    "DATA_DIR = os.path.join(ROOT_DIR, 'data')\n",
    "DATA_RAW = os.path.join(DATA_DIR, 'raw')\n",
    "DATA_INTERIM = os.path.join(DATA_DIR, 'interim')\n",
    "DATA_EXTERNAL = os.path.join(DATA_DIR, 'external')\n",
    "DATA_PROCESSED = os.path.join(DATA_DIR, 'processed')\n",
    "SRC = os.path.join(ROOT_DIR, 'src')\n",
    "\n",
    "STATIC_DATASET_PATH = os.path.join(DATA_INTERIM, 'static_data.pkl')\n",
    "\n",
    "import sys\n",
    "sys.path.append(SRC)\n",
    "\n",
    "import src.data.preprocessing as pp\n",
    "import src.data.success_dataset as sd\n",
    "import src.data.missing_data as md\n",
    "import src.evaluation.offer_success as evos\n",
    "import src.data.profit_10_days_dataset as p10\n",
    "import src.visualization.visualize as vis"
   ]
  },
  {
   "cell_type": "code",
   "execution_count": 9,
   "metadata": {},
   "outputs": [
    {
     "data": {
      "text/html": [
       "<div>\n",
       "<style scoped>\n",
       "    .dataframe tbody tr th:only-of-type {\n",
       "        vertical-align: middle;\n",
       "    }\n",
       "\n",
       "    .dataframe tbody tr th {\n",
       "        vertical-align: top;\n",
       "    }\n",
       "\n",
       "    .dataframe thead th {\n",
       "        text-align: right;\n",
       "    }\n",
       "</style>\n",
       "<table border=\"1\" class=\"dataframe\">\n",
       "  <thead>\n",
       "    <tr style=\"text-align: right;\">\n",
       "      <th></th>\n",
       "      <th>person</th>\n",
       "      <th>time</th>\n",
       "      <th>offer_id</th>\n",
       "      <th>age</th>\n",
       "      <th>became_member_on</th>\n",
       "      <th>gender</th>\n",
       "      <th>income</th>\n",
       "      <th>missing_demographics</th>\n",
       "      <th>member_epoch_days</th>\n",
       "      <th>difficulty</th>\n",
       "      <th>...</th>\n",
       "      <th>expected_finish</th>\n",
       "      <th>finish</th>\n",
       "      <th>success</th>\n",
       "      <th>view_time</th>\n",
       "      <th>viewed</th>\n",
       "      <th>actual_reward</th>\n",
       "      <th>profit_in_duration</th>\n",
       "      <th>profit_until_complete</th>\n",
       "      <th>spent_in_duration</th>\n",
       "      <th>spent_until_complete</th>\n",
       "    </tr>\n",
       "  </thead>\n",
       "  <tbody>\n",
       "    <tr>\n",
       "      <th>0</th>\n",
       "      <td>0009655768c64bdeb2e877511632db8f</td>\n",
       "      <td>168</td>\n",
       "      <td>5a8bc65990b245e5a138643cd4eb9837</td>\n",
       "      <td>33.0</td>\n",
       "      <td>2017-04-21</td>\n",
       "      <td>M</td>\n",
       "      <td>72000.0</td>\n",
       "      <td>0</td>\n",
       "      <td>17277</td>\n",
       "      <td>0.0</td>\n",
       "      <td>...</td>\n",
       "      <td>240.0</td>\n",
       "      <td>240.0</td>\n",
       "      <td>0</td>\n",
       "      <td>192.0</td>\n",
       "      <td>1</td>\n",
       "      <td>0.0</td>\n",
       "      <td>22.16</td>\n",
       "      <td>22.16</td>\n",
       "      <td>22.16</td>\n",
       "      <td>22.16</td>\n",
       "    </tr>\n",
       "    <tr>\n",
       "      <th>1</th>\n",
       "      <td>0009655768c64bdeb2e877511632db8f</td>\n",
       "      <td>336</td>\n",
       "      <td>3f207df678b143eea3cee63160fa8bed</td>\n",
       "      <td>33.0</td>\n",
       "      <td>2017-04-21</td>\n",
       "      <td>M</td>\n",
       "      <td>72000.0</td>\n",
       "      <td>0</td>\n",
       "      <td>17277</td>\n",
       "      <td>0.0</td>\n",
       "      <td>...</td>\n",
       "      <td>432.0</td>\n",
       "      <td>432.0</td>\n",
       "      <td>0</td>\n",
       "      <td>372.0</td>\n",
       "      <td>1</td>\n",
       "      <td>0.0</td>\n",
       "      <td>8.57</td>\n",
       "      <td>8.57</td>\n",
       "      <td>8.57</td>\n",
       "      <td>8.57</td>\n",
       "    </tr>\n",
       "    <tr>\n",
       "      <th>2</th>\n",
       "      <td>0009655768c64bdeb2e877511632db8f</td>\n",
       "      <td>408</td>\n",
       "      <td>f19421c1d4aa40978ebb69ca19b0e20d</td>\n",
       "      <td>33.0</td>\n",
       "      <td>2017-04-21</td>\n",
       "      <td>M</td>\n",
       "      <td>72000.0</td>\n",
       "      <td>0</td>\n",
       "      <td>17277</td>\n",
       "      <td>5.0</td>\n",
       "      <td>...</td>\n",
       "      <td>528.0</td>\n",
       "      <td>414.0</td>\n",
       "      <td>0</td>\n",
       "      <td>NaN</td>\n",
       "      <td>0</td>\n",
       "      <td>5.0</td>\n",
       "      <td>17.68</td>\n",
       "      <td>3.57</td>\n",
       "      <td>22.68</td>\n",
       "      <td>8.57</td>\n",
       "    </tr>\n",
       "    <tr>\n",
       "      <th>3</th>\n",
       "      <td>0009655768c64bdeb2e877511632db8f</td>\n",
       "      <td>504</td>\n",
       "      <td>fafdcd668e3743c1bb461111dcafc2a4</td>\n",
       "      <td>33.0</td>\n",
       "      <td>2017-04-21</td>\n",
       "      <td>M</td>\n",
       "      <td>72000.0</td>\n",
       "      <td>0</td>\n",
       "      <td>17277</td>\n",
       "      <td>10.0</td>\n",
       "      <td>...</td>\n",
       "      <td>744.0</td>\n",
       "      <td>528.0</td>\n",
       "      <td>0</td>\n",
       "      <td>NaN</td>\n",
       "      <td>0</td>\n",
       "      <td>2.0</td>\n",
       "      <td>94.87</td>\n",
       "      <td>12.11</td>\n",
       "      <td>96.87</td>\n",
       "      <td>14.11</td>\n",
       "    </tr>\n",
       "    <tr>\n",
       "      <th>4</th>\n",
       "      <td>0009655768c64bdeb2e877511632db8f</td>\n",
       "      <td>576</td>\n",
       "      <td>2906b810c7d4411798c6938adc9daaa5</td>\n",
       "      <td>33.0</td>\n",
       "      <td>2017-04-21</td>\n",
       "      <td>M</td>\n",
       "      <td>72000.0</td>\n",
       "      <td>0</td>\n",
       "      <td>17277</td>\n",
       "      <td>10.0</td>\n",
       "      <td>...</td>\n",
       "      <td>744.0</td>\n",
       "      <td>576.0</td>\n",
       "      <td>0</td>\n",
       "      <td>NaN</td>\n",
       "      <td>0</td>\n",
       "      <td>2.0</td>\n",
       "      <td>67.20</td>\n",
       "      <td>8.27</td>\n",
       "      <td>69.20</td>\n",
       "      <td>10.27</td>\n",
       "    </tr>\n",
       "  </tbody>\n",
       "</table>\n",
       "<p>5 rows × 28 columns</p>\n",
       "</div>"
      ],
      "text/plain": [
       "                             person  time                          offer_id  \\\n",
       "0  0009655768c64bdeb2e877511632db8f   168  5a8bc65990b245e5a138643cd4eb9837   \n",
       "1  0009655768c64bdeb2e877511632db8f   336  3f207df678b143eea3cee63160fa8bed   \n",
       "2  0009655768c64bdeb2e877511632db8f   408  f19421c1d4aa40978ebb69ca19b0e20d   \n",
       "3  0009655768c64bdeb2e877511632db8f   504  fafdcd668e3743c1bb461111dcafc2a4   \n",
       "4  0009655768c64bdeb2e877511632db8f   576  2906b810c7d4411798c6938adc9daaa5   \n",
       "\n",
       "    age became_member_on gender   income  missing_demographics  \\\n",
       "0  33.0       2017-04-21      M  72000.0                     0   \n",
       "1  33.0       2017-04-21      M  72000.0                     0   \n",
       "2  33.0       2017-04-21      M  72000.0                     0   \n",
       "3  33.0       2017-04-21      M  72000.0                     0   \n",
       "4  33.0       2017-04-21      M  72000.0                     0   \n",
       "\n",
       "   member_epoch_days  difficulty          ...           expected_finish  \\\n",
       "0              17277         0.0          ...                     240.0   \n",
       "1              17277         0.0          ...                     432.0   \n",
       "2              17277         5.0          ...                     528.0   \n",
       "3              17277        10.0          ...                     744.0   \n",
       "4              17277        10.0          ...                     744.0   \n",
       "\n",
       "  finish  success  view_time  viewed  actual_reward  profit_in_duration  \\\n",
       "0  240.0        0      192.0       1            0.0               22.16   \n",
       "1  432.0        0      372.0       1            0.0                8.57   \n",
       "2  414.0        0        NaN       0            5.0               17.68   \n",
       "3  528.0        0        NaN       0            2.0               94.87   \n",
       "4  576.0        0        NaN       0            2.0               67.20   \n",
       "\n",
       "   profit_until_complete  spent_in_duration  spent_until_complete  \n",
       "0                  22.16              22.16                 22.16  \n",
       "1                   8.57               8.57                  8.57  \n",
       "2                   3.57              22.68                  8.57  \n",
       "3                  12.11              96.87                 14.11  \n",
       "4                   8.27              69.20                 10.27  \n",
       "\n",
       "[5 rows x 28 columns]"
      ]
     },
     "execution_count": 9,
     "metadata": {},
     "output_type": "execute_result"
    }
   ],
   "source": [
    "static_data = pd.read_pickle(STATIC_DATASET_PATH)\n",
    "static_data.head()"
   ]
  },
  {
   "cell_type": "code",
   "execution_count": 10,
   "metadata": {},
   "outputs": [],
   "source": [
    "static_data.iloc[:10].to_csv(os.path.join(ROOT_DIR, 'reports', 'static.csv'))"
   ]
  },
  {
   "cell_type": "code",
   "execution_count": 11,
   "metadata": {},
   "outputs": [
    {
     "data": {
      "text/plain": [
       "0.3270055193570801"
      ]
     },
     "execution_count": 11,
     "metadata": {},
     "output_type": "execute_result"
    }
   ],
   "source": [
    "static_data.success.mean()"
   ]
  },
  {
   "cell_type": "code",
   "execution_count": 12,
   "metadata": {},
   "outputs": [
    {
     "data": {
      "text/plain": [
       "0.7502523696527131"
      ]
     },
     "execution_count": 12,
     "metadata": {},
     "output_type": "execute_result"
    }
   ],
   "source": [
    "static_data.viewed.mean()"
   ]
  },
  {
   "cell_type": "markdown",
   "metadata": {},
   "source": [
    "## Bootstrap Confidence Intervals \n",
    "<a href=\"https://machinelearningmastery.com/calculate-bootstrap-confidence-intervals-machine-learning-results-python/\">source</a>"
   ]
  },
  {
   "cell_type": "markdown",
   "metadata": {},
   "source": [
    "In this case the test set is taken from a time-split, so it's not reasonable to follow the procedure exactly as described in <a href=\"https://machinelearningmastery.com/calculate-bootstrap-confidence-intervals-machine-learning-results-python/\">source</a>."
   ]
  },
  {
   "cell_type": "code",
   "execution_count": 13,
   "metadata": {},
   "outputs": [],
   "source": [
    "# Get the data\n",
    "X_train, X_test, y_train, y_test, encoder, view_cols, profit_cols =\\\n",
    "p10.get_profit_10_days_data(fill_null=True, \n",
    "                        target=['viewed', 'profit_10_days'], drop_offer_id=False)"
   ]
  },
  {
   "cell_type": "code",
   "execution_count": 14,
   "metadata": {},
   "outputs": [],
   "source": [
    "model = p10.ProfitsPredictor(encoder=encoder, view_cols=view_cols, profit_cols=profit_cols)"
   ]
  },
  {
   "cell_type": "code",
   "execution_count": 57,
   "metadata": {},
   "outputs": [],
   "source": [
    "from sklearn.utils import resample\n",
    "\n",
    "n_iterations = 30\n",
    "bootstrap_fraction = 0.7\n",
    "train_size = int(X_train.shape[0] * bootstrap_fraction)\n",
    "test_size = int(X_test.shape[0] * bootstrap_fraction)\n",
    "\n",
    "xy_train = X_train.join(y_train)\n",
    "xy_test = X_test.join(y_test)\n",
    "\n",
    "targets = ['viewed', 'profit_10_days']"
   ]
  },
  {
   "cell_type": "code",
   "execution_count": 58,
   "metadata": {},
   "outputs": [
    {
     "name": "stdout",
     "output_type": "stream",
     "text": [
      "Iteration: 0\n",
      "CPU times: user 1min 18s, sys: 1.05 s, total: 1min 19s\n",
      "Wall time: 1min 19s\n",
      "Iteration: 1\n",
      "CPU times: user 1min 17s, sys: 1.01 s, total: 1min 18s\n",
      "Wall time: 1min 18s\n",
      "Iteration: 2\n",
      "CPU times: user 1min 17s, sys: 794 ms, total: 1min 18s\n",
      "Wall time: 1min 18s\n",
      "Iteration: 3\n",
      "CPU times: user 1min 16s, sys: 630 ms, total: 1min 17s\n",
      "Wall time: 1min 16s\n",
      "Iteration: 4\n",
      "CPU times: user 1min 16s, sys: 643 ms, total: 1min 17s\n",
      "Wall time: 1min 16s\n",
      "Iteration: 5\n",
      "CPU times: user 1min 15s, sys: 613 ms, total: 1min 16s\n",
      "Wall time: 1min 15s\n",
      "Iteration: 6\n",
      "CPU times: user 1min 20s, sys: 1.44 s, total: 1min 21s\n",
      "Wall time: 1min 24s\n",
      "Iteration: 7\n",
      "CPU times: user 1min 19s, sys: 1.37 s, total: 1min 20s\n",
      "Wall time: 1min 22s\n",
      "Iteration: 8\n",
      "CPU times: user 1min 18s, sys: 1.17 s, total: 1min 19s\n",
      "Wall time: 1min 20s\n",
      "Iteration: 9\n",
      "CPU times: user 1min 19s, sys: 1.35 s, total: 1min 21s\n",
      "Wall time: 1min 22s\n",
      "Iteration: 10\n",
      "CPU times: user 1min 17s, sys: 1.07 s, total: 1min 18s\n",
      "Wall time: 1min 18s\n",
      "Iteration: 11\n",
      "CPU times: user 1min 20s, sys: 929 ms, total: 1min 21s\n",
      "Wall time: 1min 21s\n",
      "Iteration: 12\n",
      "CPU times: user 1min 18s, sys: 747 ms, total: 1min 18s\n",
      "Wall time: 1min 18s\n",
      "Iteration: 13\n",
      "CPU times: user 1min 17s, sys: 688 ms, total: 1min 17s\n",
      "Wall time: 1min 17s\n",
      "Iteration: 14\n",
      "CPU times: user 1min 19s, sys: 1.24 s, total: 1min 21s\n",
      "Wall time: 1min 24s\n",
      "Iteration: 15\n",
      "CPU times: user 1min 15s, sys: 983 ms, total: 1min 16s\n",
      "Wall time: 1min 17s\n",
      "Iteration: 16\n",
      "CPU times: user 1min 15s, sys: 730 ms, total: 1min 15s\n",
      "Wall time: 1min 15s\n",
      "Iteration: 17\n",
      "CPU times: user 1min 15s, sys: 727 ms, total: 1min 15s\n",
      "Wall time: 1min 15s\n",
      "Iteration: 18\n",
      "CPU times: user 1min 17s, sys: 962 ms, total: 1min 18s\n",
      "Wall time: 1min 20s\n",
      "Iteration: 19\n",
      "CPU times: user 1min 14s, sys: 728 ms, total: 1min 15s\n",
      "Wall time: 1min 15s\n",
      "Iteration: 20\n",
      "CPU times: user 1min 18s, sys: 1.23 s, total: 1min 19s\n",
      "Wall time: 1min 20s\n",
      "Iteration: 21\n",
      "CPU times: user 1min 19s, sys: 1.52 s, total: 1min 21s\n",
      "Wall time: 1min 22s\n",
      "Iteration: 22\n",
      "CPU times: user 1min 17s, sys: 1.16 s, total: 1min 18s\n",
      "Wall time: 1min 19s\n",
      "Iteration: 23\n",
      "CPU times: user 1min 16s, sys: 1.17 s, total: 1min 18s\n",
      "Wall time: 1min 18s\n",
      "Iteration: 24\n",
      "CPU times: user 1min 17s, sys: 1.16 s, total: 1min 18s\n",
      "Wall time: 1min 18s\n",
      "Iteration: 25\n",
      "CPU times: user 1min 16s, sys: 994 ms, total: 1min 17s\n",
      "Wall time: 1min 17s\n",
      "Iteration: 26\n",
      "CPU times: user 1min 22s, sys: 1.88 s, total: 1min 24s\n",
      "Wall time: 1min 27s\n",
      "Iteration: 27\n",
      "CPU times: user 1min 16s, sys: 1.07 s, total: 1min 18s\n",
      "Wall time: 1min 18s\n",
      "Iteration: 28\n",
      "CPU times: user 1min 17s, sys: 1.27 s, total: 1min 18s\n",
      "Wall time: 1min 19s\n",
      "Iteration: 29\n",
      "CPU times: user 1min 17s, sys: 1.3 s, total: 1min 18s\n",
      "Wall time: 1min 20s\n"
     ]
    }
   ],
   "source": [
    "scores = list()\n",
    "\n",
    "for i in range(n_iterations):\n",
    "    print('Iteration: {}'.format(i))\n",
    "    train = resample(xy_train, n_samples=train_size)\n",
    "    test = resample(xy_test, n_samples=test_size)\n",
    "    \n",
    "    X_train_sample = train.drop(targets, axis=1)\n",
    "    y_train_sample = train[targets]\n",
    "    X_test_sample = test.drop(targets, axis=1)\n",
    "    y_test_sample = test[targets]\n",
    "    \n",
    "    %time model.fit(X_train_sample, y_train_sample)\n",
    "    y_test_pred = model.predict(X_test_sample)\n",
    "    scores.append(np.sqrt(mse(y_test_sample['profit_10_days'], y_test_pred)))"
   ]
  },
  {
   "cell_type": "code",
   "execution_count": 73,
   "metadata": {},
   "outputs": [
    {
     "name": "stdout",
     "output_type": "stream",
     "text": [
      "For 30 samples, the 95.0% confidence interval for RMSE is: [62.3, 76.2]\n"
     ]
    }
   ],
   "source": [
    "# confidence intervals\n",
    "alpha = 0.95\n",
    "p = ((1.0-alpha)/2.0)\n",
    "lower = np.quantile(scores, p)\n",
    "p = alpha+ p\n",
    "upper = np.quantile(scores, p)\n",
    "print('For {} samples, the {}% confidence interval for RMSE is: [{:.3}, {:.3}]'.format(\n",
    "n_iterations, alpha*100, lower, upper))"
   ]
  },
  {
   "cell_type": "code",
   "execution_count": 63,
   "metadata": {},
   "outputs": [
    {
     "data": {
      "text/plain": [
       "<matplotlib.collections.LineCollection at 0x1a29253358>"
      ]
     },
     "execution_count": 63,
     "metadata": {},
     "output_type": "execute_result"
    },
    {
     "data": {
      "image/png": "[encoded data removed]",
      "text/plain": [
       "<Figure size 1440x720 with 1 Axes>"
      ]
     },
     "metadata": {},
     "output_type": "display_data"
    }
   ],
   "source": [
    "_ = plt.hist(scores, density=1, bins=20)\n",
    "plt.xlabel('RMSE')\n",
    "plt.vlines(lower, 0, 0.2, color='r')\n",
    "plt.vlines(upper, 0, 0.2, color='r')"
   ]
  },
  {
   "cell_type": "code",
   "execution_count": null,
   "metadata": {},
   "outputs": [],
   "source": []
  }
 ],
 "metadata": {
  "kernelspec": {
   "display_name": "sbucks",
   "language": "python",
   "name": "sbucks"
  },
  "language_info": {
   "codemirror_mode": {
    "name": "ipython",
    "version": 3
   },
   "file_extension": ".py",
   "mimetype": "text/x-python",
   "name": "python",
   "nbconvert_exporter": "python",
   "pygments_lexer": "ipython3",
   "version": "3.7.1"
  }
 },
 "nbformat": 4,
 "nbformat_minor": 2
}
