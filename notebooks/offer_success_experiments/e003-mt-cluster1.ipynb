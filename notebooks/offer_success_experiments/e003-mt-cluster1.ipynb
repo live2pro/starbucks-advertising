{
 "cells": [
  {
   "cell_type": "markdown",
   "metadata": {},
   "source": [
    "# Complete experiment to try to estimate the probability of an offer to \"succeed\" with one customer. The \"informative\" offers are considered successful if the customer views them. Other kinds of offers are successful only if the customer views them, and then completes them."
   ]
  },
  {
   "cell_type": "markdown",
   "metadata": {},
   "source": [
    "Table of contents <a id='top'>\n",
    "\n",
    "1. [Get the data and show it](#data)\n",
    "2. [Create the Model](#model)\n",
    "3. [Evaluate the Model](#eval)\n",
    "4. [Analysis and Conclusions](#conclusions)\n",
    "5. [Test Results](#test)"
   ]
  },
  {
   "cell_type": "code",
   "execution_count": 1,
   "metadata": {
    "collapsed": false
   },
   "outputs": [
    {
     "data": {
      "text/html": [
       "<script type=\"text/javascript\">window.PlotlyConfig = {MathJaxConfig: 'local'};</script><script type=\"text/javascript\">if (window.MathJax) {MathJax.Hub.Config({SVG: {font: \"STIX-Web\"}});}</script><script>requirejs.config({paths: { 'plotly': ['https://cdn.plot.ly/plotly-latest.min']},});if(!window._Plotly) {require(['plotly'],function(plotly) {window._Plotly=plotly;});}</script>"
      ],
      "text/vnd.plotly.v1+html": [
       "<script type=\"text/javascript\">window.PlotlyConfig = {MathJaxConfig: 'local'};</script><script type=\"text/javascript\">if (window.MathJax) {MathJax.Hub.Config({SVG: {font: \"STIX-Web\"}});}</script><script>requirejs.config({paths: { 'plotly': ['https://cdn.plot.ly/plotly-latest.min']},});if(!window._Plotly) {require(['plotly'],function(plotly) {window._Plotly=plotly;});}</script>"
      ]
     },
     "metadata": {},
     "output_type": "display_data"
    }
   ],
   "source": [
    "import pandas as pd\n",
    "import numpy as np\n",
    "import math\n",
    "import json\n",
    "import os\n",
    "import matplotlib.pyplot as plt\n",
    "%matplotlib inline\n",
    "\n",
    "%load_ext autoreload\n",
    "%autoreload 2\n",
    "\n",
    "from jupyterthemes import jtplot\n",
    "jtplot.style(theme='solarizedd')\n",
    "plt.rcParams['figure.figsize'] = (20.0, 10.0)\n",
    "\n",
    "import data_utils_mt.utils as utils\n",
    "import seaborn as sns\n",
    "from sklearn.pipeline import Pipeline\n",
    "import datetime as dt\n",
    "from xgboost import XGBClassifier\n",
    "from sklearn.model_selection import GridSearchCV\n",
    "\n",
    "ROOT_DIR = '../..'\n",
    "DATA_DIR = os.path.join(ROOT_DIR, 'data')\n",
    "DATA_RAW = os.path.join(DATA_DIR, 'raw')\n",
    "DATA_INTERIM = os.path.join(DATA_DIR, 'interim')\n",
    "DATA_EXTERNAL = os.path.join(DATA_DIR, 'external')\n",
    "DATA_PROCESSED = os.path.join(DATA_DIR, 'processed')\n",
    "SRC = os.path.join(ROOT_DIR, 'src')\n",
    "\n",
    "import sys\n",
    "sys.path.append(SRC)\n",
    "\n",
    "import src.data.preprocessing as pp\n",
    "import src.data.success_dataset as sd\n",
    "import src.data.missing_data as md\n",
    "import src.evaluation.offer_success as evos\n",
    "import src.visualization.visualize as vis"
   ]
  },
  {
   "cell_type": "markdown",
   "metadata": {},
   "source": [
    "## 1. Get the data and show it <a id='data'/>\n",
    "[Top](#top)"
   ]
  },
  {
   "cell_type": "code",
   "execution_count": 2,
   "metadata": {
    "collapsed": false
   },
   "outputs": [],
   "source": [
    "# Get the data\n",
    "STATIC_DATASET_PATH = os.path.join(DATA_PROCESSED, 'static_cluster1.pkl')\n",
    "\n",
    "X_train_val, X_test, y_train_val, y_test, encoder = sd.get_success_data(\n",
    "    basic_dataset_path=STATIC_DATASET_PATH,\n",
    "    drop_time=False)\n",
    "\n",
    "# Time-split validation datasets\n",
    "X_test = pp.drop_time_dependent(X_test)\n",
    "X_train, X_val, y_train, y_val = sd.time_split(X_train_val, \n",
    "                                               y_train_val,\n",
    "                                               time_limit=370)"
   ]
  },
  {
   "cell_type": "code",
   "execution_count": 3,
   "metadata": {
    "collapsed": false
   },
   "outputs": [
    {
     "name": "stdout",
     "output_type": "stream",
     "text": [
      "(38030, 16)\n",
      "(38030,)\n"
     ]
    },
    {
     "data": {
      "text/html": [
       "<div>\n",
       "<style scoped>\n",
       "    .dataframe tbody tr th:only-of-type {\n",
       "        vertical-align: middle;\n",
       "    }\n",
       "\n",
       "    .dataframe tbody tr th {\n",
       "        vertical-align: top;\n",
       "    }\n",
       "\n",
       "    .dataframe thead th {\n",
       "        text-align: right;\n",
       "    }\n",
       "</style>\n",
       "<table border=\"1\" class=\"dataframe\">\n",
       "  <thead>\n",
       "    <tr style=\"text-align: right;\">\n",
       "      <th></th>\n",
       "      <th>age</th>\n",
       "      <th>gender</th>\n",
       "      <th>income</th>\n",
       "      <th>missing_demographics</th>\n",
       "      <th>member_epoch_days</th>\n",
       "      <th>difficulty</th>\n",
       "      <th>duration</th>\n",
       "      <th>offer_type</th>\n",
       "      <th>reward_t</th>\n",
       "      <th>channel_social</th>\n",
       "      <th>channel_email</th>\n",
       "      <th>channel_web</th>\n",
       "      <th>channel_mobile</th>\n",
       "      <th>kmeans_8</th>\n",
       "      <th>ward_12</th>\n",
       "      <th>dbscan_10</th>\n",
       "    </tr>\n",
       "  </thead>\n",
       "  <tbody>\n",
       "    <tr>\n",
       "      <th>0</th>\n",
       "      <td>33.0</td>\n",
       "      <td>M</td>\n",
       "      <td>72000.0</td>\n",
       "      <td>0</td>\n",
       "      <td>17277</td>\n",
       "      <td>0.0</td>\n",
       "      <td>3.0</td>\n",
       "      <td>informational</td>\n",
       "      <td>0.0</td>\n",
       "      <td>1.0</td>\n",
       "      <td>1.0</td>\n",
       "      <td>0.0</td>\n",
       "      <td>1.0</td>\n",
       "      <td>0.0</td>\n",
       "      <td>8.0</td>\n",
       "      <td>1.0</td>\n",
       "    </tr>\n",
       "    <tr>\n",
       "      <th>1</th>\n",
       "      <td>33.0</td>\n",
       "      <td>M</td>\n",
       "      <td>72000.0</td>\n",
       "      <td>0</td>\n",
       "      <td>17277</td>\n",
       "      <td>0.0</td>\n",
       "      <td>4.0</td>\n",
       "      <td>informational</td>\n",
       "      <td>0.0</td>\n",
       "      <td>0.0</td>\n",
       "      <td>1.0</td>\n",
       "      <td>1.0</td>\n",
       "      <td>1.0</td>\n",
       "      <td>0.0</td>\n",
       "      <td>8.0</td>\n",
       "      <td>1.0</td>\n",
       "    </tr>\n",
       "    <tr>\n",
       "      <th>5</th>\n",
       "      <td>NaN</td>\n",
       "      <td>None</td>\n",
       "      <td>NaN</td>\n",
       "      <td>1</td>\n",
       "      <td>17646</td>\n",
       "      <td>5.0</td>\n",
       "      <td>5.0</td>\n",
       "      <td>bogo</td>\n",
       "      <td>5.0</td>\n",
       "      <td>1.0</td>\n",
       "      <td>1.0</td>\n",
       "      <td>1.0</td>\n",
       "      <td>1.0</td>\n",
       "      <td>NaN</td>\n",
       "      <td>NaN</td>\n",
       "      <td>NaN</td>\n",
       "    </tr>\n",
       "    <tr>\n",
       "      <th>7</th>\n",
       "      <td>40.0</td>\n",
       "      <td>O</td>\n",
       "      <td>57000.0</td>\n",
       "      <td>0</td>\n",
       "      <td>17540</td>\n",
       "      <td>0.0</td>\n",
       "      <td>4.0</td>\n",
       "      <td>informational</td>\n",
       "      <td>0.0</td>\n",
       "      <td>0.0</td>\n",
       "      <td>1.0</td>\n",
       "      <td>1.0</td>\n",
       "      <td>1.0</td>\n",
       "      <td>0.0</td>\n",
       "      <td>9.0</td>\n",
       "      <td>-1.0</td>\n",
       "    </tr>\n",
       "    <tr>\n",
       "      <th>8</th>\n",
       "      <td>40.0</td>\n",
       "      <td>O</td>\n",
       "      <td>57000.0</td>\n",
       "      <td>0</td>\n",
       "      <td>17540</td>\n",
       "      <td>7.0</td>\n",
       "      <td>7.0</td>\n",
       "      <td>discount</td>\n",
       "      <td>3.0</td>\n",
       "      <td>1.0</td>\n",
       "      <td>1.0</td>\n",
       "      <td>1.0</td>\n",
       "      <td>1.0</td>\n",
       "      <td>0.0</td>\n",
       "      <td>9.0</td>\n",
       "      <td>-1.0</td>\n",
       "    </tr>\n",
       "  </tbody>\n",
       "</table>\n",
       "</div>"
      ],
      "text/plain": [
       "    age gender   income  missing_demographics  member_epoch_days  difficulty  \\\n",
       "0  33.0      M  72000.0                     0              17277         0.0   \n",
       "1  33.0      M  72000.0                     0              17277         0.0   \n",
       "5   NaN   None      NaN                     1              17646         5.0   \n",
       "7  40.0      O  57000.0                     0              17540         0.0   \n",
       "8  40.0      O  57000.0                     0              17540         7.0   \n",
       "\n",
       "   duration     offer_type  reward_t  channel_social  channel_email  \\\n",
       "0       3.0  informational       0.0             1.0            1.0   \n",
       "1       4.0  informational       0.0             0.0            1.0   \n",
       "5       5.0           bogo       5.0             1.0            1.0   \n",
       "7       4.0  informational       0.0             0.0            1.0   \n",
       "8       7.0       discount       3.0             1.0            1.0   \n",
       "\n",
       "   channel_web  channel_mobile  kmeans_8  ward_12  dbscan_10  \n",
       "0          0.0             1.0       0.0      8.0        1.0  \n",
       "1          1.0             1.0       0.0      8.0        1.0  \n",
       "5          1.0             1.0       NaN      NaN        NaN  \n",
       "7          1.0             1.0       0.0      9.0       -1.0  \n",
       "8          1.0             1.0       0.0      9.0       -1.0  "
      ]
     },
     "execution_count": 3,
     "metadata": {},
     "output_type": "execute_result"
    }
   ],
   "source": [
    "print(X_train.shape)\n",
    "print(y_train.shape)\n",
    "X_train.head()"
   ]
  },
  {
   "cell_type": "code",
   "execution_count": 4,
   "metadata": {
    "collapsed": false
   },
   "outputs": [
    {
     "name": "stdout",
     "output_type": "stream",
     "text": [
      "(12778, 16)\n",
      "(12778,)\n"
     ]
    },
    {
     "data": {
      "text/html": [
       "<div>\n",
       "<style scoped>\n",
       "    .dataframe tbody tr th:only-of-type {\n",
       "        vertical-align: middle;\n",
       "    }\n",
       "\n",
       "    .dataframe tbody tr th {\n",
       "        vertical-align: top;\n",
       "    }\n",
       "\n",
       "    .dataframe thead th {\n",
       "        text-align: right;\n",
       "    }\n",
       "</style>\n",
       "<table border=\"1\" class=\"dataframe\">\n",
       "  <thead>\n",
       "    <tr style=\"text-align: right;\">\n",
       "      <th></th>\n",
       "      <th>age</th>\n",
       "      <th>gender</th>\n",
       "      <th>income</th>\n",
       "      <th>missing_demographics</th>\n",
       "      <th>member_epoch_days</th>\n",
       "      <th>difficulty</th>\n",
       "      <th>duration</th>\n",
       "      <th>offer_type</th>\n",
       "      <th>reward_t</th>\n",
       "      <th>channel_social</th>\n",
       "      <th>channel_email</th>\n",
       "      <th>channel_web</th>\n",
       "      <th>channel_mobile</th>\n",
       "      <th>kmeans_8</th>\n",
       "      <th>ward_12</th>\n",
       "      <th>dbscan_10</th>\n",
       "    </tr>\n",
       "  </thead>\n",
       "  <tbody>\n",
       "    <tr>\n",
       "      <th>2</th>\n",
       "      <td>33.0</td>\n",
       "      <td>M</td>\n",
       "      <td>72000.0</td>\n",
       "      <td>0</td>\n",
       "      <td>17277</td>\n",
       "      <td>5.0</td>\n",
       "      <td>5.0</td>\n",
       "      <td>bogo</td>\n",
       "      <td>5.0</td>\n",
       "      <td>1.0</td>\n",
       "      <td>1.0</td>\n",
       "      <td>1.0</td>\n",
       "      <td>1.0</td>\n",
       "      <td>0.0</td>\n",
       "      <td>8.0</td>\n",
       "      <td>1.0</td>\n",
       "    </tr>\n",
       "    <tr>\n",
       "      <th>10</th>\n",
       "      <td>40.0</td>\n",
       "      <td>O</td>\n",
       "      <td>57000.0</td>\n",
       "      <td>0</td>\n",
       "      <td>17540</td>\n",
       "      <td>20.0</td>\n",
       "      <td>10.0</td>\n",
       "      <td>discount</td>\n",
       "      <td>5.0</td>\n",
       "      <td>0.0</td>\n",
       "      <td>1.0</td>\n",
       "      <td>1.0</td>\n",
       "      <td>0.0</td>\n",
       "      <td>0.0</td>\n",
       "      <td>9.0</td>\n",
       "      <td>-1.0</td>\n",
       "    </tr>\n",
       "    <tr>\n",
       "      <th>15</th>\n",
       "      <td>59.0</td>\n",
       "      <td>F</td>\n",
       "      <td>90000.0</td>\n",
       "      <td>0</td>\n",
       "      <td>16864</td>\n",
       "      <td>10.0</td>\n",
       "      <td>5.0</td>\n",
       "      <td>bogo</td>\n",
       "      <td>10.0</td>\n",
       "      <td>1.0</td>\n",
       "      <td>1.0</td>\n",
       "      <td>1.0</td>\n",
       "      <td>1.0</td>\n",
       "      <td>4.0</td>\n",
       "      <td>4.0</td>\n",
       "      <td>0.0</td>\n",
       "    </tr>\n",
       "    <tr>\n",
       "      <th>19</th>\n",
       "      <td>24.0</td>\n",
       "      <td>F</td>\n",
       "      <td>60000.0</td>\n",
       "      <td>0</td>\n",
       "      <td>17116</td>\n",
       "      <td>0.0</td>\n",
       "      <td>3.0</td>\n",
       "      <td>informational</td>\n",
       "      <td>0.0</td>\n",
       "      <td>1.0</td>\n",
       "      <td>1.0</td>\n",
       "      <td>0.0</td>\n",
       "      <td>1.0</td>\n",
       "      <td>6.0</td>\n",
       "      <td>1.0</td>\n",
       "      <td>-1.0</td>\n",
       "    </tr>\n",
       "    <tr>\n",
       "      <th>24</th>\n",
       "      <td>26.0</td>\n",
       "      <td>F</td>\n",
       "      <td>73000.0</td>\n",
       "      <td>0</td>\n",
       "      <td>17338</td>\n",
       "      <td>10.0</td>\n",
       "      <td>10.0</td>\n",
       "      <td>discount</td>\n",
       "      <td>2.0</td>\n",
       "      <td>1.0</td>\n",
       "      <td>1.0</td>\n",
       "      <td>1.0</td>\n",
       "      <td>1.0</td>\n",
       "      <td>6.0</td>\n",
       "      <td>1.0</td>\n",
       "      <td>-1.0</td>\n",
       "    </tr>\n",
       "  </tbody>\n",
       "</table>\n",
       "</div>"
      ],
      "text/plain": [
       "     age gender   income  missing_demographics  member_epoch_days  difficulty  \\\n",
       "2   33.0      M  72000.0                     0              17277         5.0   \n",
       "10  40.0      O  57000.0                     0              17540        20.0   \n",
       "15  59.0      F  90000.0                     0              16864        10.0   \n",
       "19  24.0      F  60000.0                     0              17116         0.0   \n",
       "24  26.0      F  73000.0                     0              17338        10.0   \n",
       "\n",
       "    duration     offer_type  reward_t  channel_social  channel_email  \\\n",
       "2        5.0           bogo       5.0             1.0            1.0   \n",
       "10      10.0       discount       5.0             0.0            1.0   \n",
       "15       5.0           bogo      10.0             1.0            1.0   \n",
       "19       3.0  informational       0.0             1.0            1.0   \n",
       "24      10.0       discount       2.0             1.0            1.0   \n",
       "\n",
       "    channel_web  channel_mobile  kmeans_8  ward_12  dbscan_10  \n",
       "2           1.0             1.0       0.0      8.0        1.0  \n",
       "10          1.0             0.0       0.0      9.0       -1.0  \n",
       "15          1.0             1.0       4.0      4.0        0.0  \n",
       "19          0.0             1.0       6.0      1.0       -1.0  \n",
       "24          1.0             1.0       6.0      1.0       -1.0  "
      ]
     },
     "execution_count": 4,
     "metadata": {},
     "output_type": "execute_result"
    }
   ],
   "source": [
    "print(X_val.shape)\n",
    "print(y_val.shape)\n",
    "X_val.head()"
   ]
  },
  {
   "cell_type": "code",
   "execution_count": 5,
   "metadata": {
    "collapsed": false
   },
   "outputs": [
    {
     "name": "stdout",
     "output_type": "stream",
     "text": [
      "(25469, 16)\n",
      "(25469,)\n"
     ]
    },
    {
     "data": {
      "text/html": [
       "<div>\n",
       "<style scoped>\n",
       "    .dataframe tbody tr th:only-of-type {\n",
       "        vertical-align: middle;\n",
       "    }\n",
       "\n",
       "    .dataframe tbody tr th {\n",
       "        vertical-align: top;\n",
       "    }\n",
       "\n",
       "    .dataframe thead th {\n",
       "        text-align: right;\n",
       "    }\n",
       "</style>\n",
       "<table border=\"1\" class=\"dataframe\">\n",
       "  <thead>\n",
       "    <tr style=\"text-align: right;\">\n",
       "      <th></th>\n",
       "      <th>age</th>\n",
       "      <th>gender</th>\n",
       "      <th>income</th>\n",
       "      <th>missing_demographics</th>\n",
       "      <th>member_epoch_days</th>\n",
       "      <th>difficulty</th>\n",
       "      <th>duration</th>\n",
       "      <th>offer_type</th>\n",
       "      <th>reward_t</th>\n",
       "      <th>channel_social</th>\n",
       "      <th>channel_email</th>\n",
       "      <th>channel_web</th>\n",
       "      <th>channel_mobile</th>\n",
       "      <th>kmeans_8</th>\n",
       "      <th>ward_12</th>\n",
       "      <th>dbscan_10</th>\n",
       "    </tr>\n",
       "  </thead>\n",
       "  <tbody>\n",
       "    <tr>\n",
       "      <th>3</th>\n",
       "      <td>33.0</td>\n",
       "      <td>M</td>\n",
       "      <td>72000.0</td>\n",
       "      <td>0</td>\n",
       "      <td>17277</td>\n",
       "      <td>10.0</td>\n",
       "      <td>10.0</td>\n",
       "      <td>discount</td>\n",
       "      <td>2.0</td>\n",
       "      <td>1.0</td>\n",
       "      <td>1.0</td>\n",
       "      <td>1.0</td>\n",
       "      <td>1.0</td>\n",
       "      <td>0.0</td>\n",
       "      <td>8.0</td>\n",
       "      <td>1.0</td>\n",
       "    </tr>\n",
       "    <tr>\n",
       "      <th>4</th>\n",
       "      <td>33.0</td>\n",
       "      <td>M</td>\n",
       "      <td>72000.0</td>\n",
       "      <td>0</td>\n",
       "      <td>17277</td>\n",
       "      <td>10.0</td>\n",
       "      <td>7.0</td>\n",
       "      <td>discount</td>\n",
       "      <td>2.0</td>\n",
       "      <td>0.0</td>\n",
       "      <td>1.0</td>\n",
       "      <td>1.0</td>\n",
       "      <td>1.0</td>\n",
       "      <td>0.0</td>\n",
       "      <td>8.0</td>\n",
       "      <td>1.0</td>\n",
       "    </tr>\n",
       "    <tr>\n",
       "      <th>6</th>\n",
       "      <td>NaN</td>\n",
       "      <td>None</td>\n",
       "      <td>NaN</td>\n",
       "      <td>1</td>\n",
       "      <td>17646</td>\n",
       "      <td>5.0</td>\n",
       "      <td>5.0</td>\n",
       "      <td>bogo</td>\n",
       "      <td>5.0</td>\n",
       "      <td>1.0</td>\n",
       "      <td>1.0</td>\n",
       "      <td>1.0</td>\n",
       "      <td>1.0</td>\n",
       "      <td>NaN</td>\n",
       "      <td>NaN</td>\n",
       "      <td>NaN</td>\n",
       "    </tr>\n",
       "    <tr>\n",
       "      <th>11</th>\n",
       "      <td>40.0</td>\n",
       "      <td>O</td>\n",
       "      <td>57000.0</td>\n",
       "      <td>0</td>\n",
       "      <td>17540</td>\n",
       "      <td>5.0</td>\n",
       "      <td>7.0</td>\n",
       "      <td>bogo</td>\n",
       "      <td>5.0</td>\n",
       "      <td>0.0</td>\n",
       "      <td>1.0</td>\n",
       "      <td>1.0</td>\n",
       "      <td>1.0</td>\n",
       "      <td>0.0</td>\n",
       "      <td>9.0</td>\n",
       "      <td>-1.0</td>\n",
       "    </tr>\n",
       "    <tr>\n",
       "      <th>16</th>\n",
       "      <td>59.0</td>\n",
       "      <td>F</td>\n",
       "      <td>90000.0</td>\n",
       "      <td>0</td>\n",
       "      <td>16864</td>\n",
       "      <td>0.0</td>\n",
       "      <td>3.0</td>\n",
       "      <td>informational</td>\n",
       "      <td>0.0</td>\n",
       "      <td>1.0</td>\n",
       "      <td>1.0</td>\n",
       "      <td>0.0</td>\n",
       "      <td>1.0</td>\n",
       "      <td>4.0</td>\n",
       "      <td>4.0</td>\n",
       "      <td>0.0</td>\n",
       "    </tr>\n",
       "  </tbody>\n",
       "</table>\n",
       "</div>"
      ],
      "text/plain": [
       "     age gender   income  missing_demographics  member_epoch_days  difficulty  \\\n",
       "3   33.0      M  72000.0                     0              17277        10.0   \n",
       "4   33.0      M  72000.0                     0              17277        10.0   \n",
       "6    NaN   None      NaN                     1              17646         5.0   \n",
       "11  40.0      O  57000.0                     0              17540         5.0   \n",
       "16  59.0      F  90000.0                     0              16864         0.0   \n",
       "\n",
       "    duration     offer_type  reward_t  channel_social  channel_email  \\\n",
       "3       10.0       discount       2.0             1.0            1.0   \n",
       "4        7.0       discount       2.0             0.0            1.0   \n",
       "6        5.0           bogo       5.0             1.0            1.0   \n",
       "11       7.0           bogo       5.0             0.0            1.0   \n",
       "16       3.0  informational       0.0             1.0            1.0   \n",
       "\n",
       "    channel_web  channel_mobile  kmeans_8  ward_12  dbscan_10  \n",
       "3           1.0             1.0       0.0      8.0        1.0  \n",
       "4           1.0             1.0       0.0      8.0        1.0  \n",
       "6           1.0             1.0       NaN      NaN        NaN  \n",
       "11          1.0             1.0       0.0      9.0       -1.0  \n",
       "16          0.0             1.0       4.0      4.0        0.0  "
      ]
     },
     "execution_count": 5,
     "metadata": {},
     "output_type": "execute_result"
    }
   ],
   "source": [
    "print(X_test.shape)\n",
    "print(y_test.shape)\n",
    "X_test.head()"
   ]
  },
  {
   "cell_type": "markdown",
   "metadata": {},
   "source": [
    "## 2. Create the model <a id='model'/>\n",
    "[Top](#top)"
   ]
  },
  {
   "cell_type": "code",
   "execution_count": 6,
   "metadata": {
    "collapsed": true
   },
   "outputs": [],
   "source": [
    "base_model = Pipeline([\n",
    "    ('encoder', pp.BasicEncoder()),\n",
    "    ('imputer', md.BasicImputer(fill_mode=['kmeans_8', 'ward_12', 'dbscan_10'])),\n",
    "    ('estimator', XGBClassifier(max_depth=7, n_estimators=200, n_jobs=-1,\n",
    "                                random_state=2018))\n",
    "])"
   ]
  },
  {
   "cell_type": "code",
   "execution_count": 7,
   "metadata": {
    "collapsed": false
   },
   "outputs": [
    {
     "name": "stdout",
     "output_type": "stream",
     "text": [
      "CPU times: user 7.34 s, sys: 184 ms, total: 7.53 s\n",
      "Wall time: 36min 5s\n",
      "The best parameters are:\n",
      "{'estimator__colsample_bylevel': 0.5, 'estimator__colsample_bytree': 0.7, 'estimator__max_depth': 4, 'estimator__n_estimators': 200, 'estimator__subsample': 1.0}\n",
      "----------------------------------------------------------------------------------------------------\n"
     ]
    },
    {
     "data": {
      "text/plain": [
       "{'memory': None,\n",
       " 'steps': [('encoder', BasicEncoder()),\n",
       "  ('imputer', BasicImputer(fill_mode=['kmeans_8', 'ward_12', 'dbscan_10'])),\n",
       "  ('estimator',\n",
       "   XGBClassifier(base_score=0.5, booster='gbtree', colsample_bylevel=0.5,\n",
       "          colsample_bytree=0.7, gamma=0, learning_rate=0.1, max_delta_step=0,\n",
       "          max_depth=4, min_child_weight=1, missing=None, n_estimators=200,\n",
       "          n_jobs=-1, nthread=None, objective='binary:logistic',\n",
       "          random_state=2018, reg_alpha=0, reg_lambda=1, scale_pos_weight=1,\n",
       "          seed=None, silent=True, subsample=1.0))],\n",
       " 'encoder': BasicEncoder(),\n",
       " 'imputer': BasicImputer(fill_mode=['kmeans_8', 'ward_12', 'dbscan_10']),\n",
       " 'estimator': XGBClassifier(base_score=0.5, booster='gbtree', colsample_bylevel=0.5,\n",
       "        colsample_bytree=0.7, gamma=0, learning_rate=0.1, max_delta_step=0,\n",
       "        max_depth=4, min_child_weight=1, missing=None, n_estimators=200,\n",
       "        n_jobs=-1, nthread=None, objective='binary:logistic',\n",
       "        random_state=2018, reg_alpha=0, reg_lambda=1, scale_pos_weight=1,\n",
       "        seed=None, silent=True, subsample=1.0),\n",
       " 'imputer__fill_mode': ['kmeans_8', 'ward_12', 'dbscan_10'],\n",
       " 'estimator__base_score': 0.5,\n",
       " 'estimator__booster': 'gbtree',\n",
       " 'estimator__colsample_bylevel': 0.5,\n",
       " 'estimator__colsample_bytree': 0.7,\n",
       " 'estimator__gamma': 0,\n",
       " 'estimator__learning_rate': 0.1,\n",
       " 'estimator__max_delta_step': 0,\n",
       " 'estimator__max_depth': 4,\n",
       " 'estimator__min_child_weight': 1,\n",
       " 'estimator__missing': None,\n",
       " 'estimator__n_estimators': 200,\n",
       " 'estimator__n_jobs': -1,\n",
       " 'estimator__nthread': None,\n",
       " 'estimator__objective': 'binary:logistic',\n",
       " 'estimator__random_state': 2018,\n",
       " 'estimator__reg_alpha': 0,\n",
       " 'estimator__reg_lambda': 1,\n",
       " 'estimator__scale_pos_weight': 1,\n",
       " 'estimator__seed': None,\n",
       " 'estimator__silent': True,\n",
       " 'estimator__subsample': 1.0}"
      ]
     },
     "execution_count": 7,
     "metadata": {},
     "output_type": "execute_result"
    }
   ],
   "source": [
    "# Grid search for better parameters\n",
    "\n",
    "parameters = {\n",
    "    'estimator__max_depth': [4, 7],\n",
    "    'estimator__n_estimators': [10, 200, 500],\n",
    "    'estimator__subsample': [0.5, 1.0],\n",
    "    'estimator__colsample_bytree': [0.5, 0.7, 1.0],\n",
    "    'estimator__colsample_bylevel': [0.5, 0.7, 1.0]\n",
    "}\n",
    "cv = GridSearchCV(base_model, parameters, cv=3, n_jobs=-1)\n",
    "\n",
    "%time cv.fit(X_train, y_train)\n",
    "\n",
    "print('The best parameters are:')\n",
    "print(cv.best_params_)\n",
    "print('-'*100)\n",
    "\n",
    "model = cv.best_estimator_\n",
    "model.get_params()"
   ]
  },
  {
   "cell_type": "markdown",
   "metadata": {},
   "source": [
    "## 3. Evaluate the model <a id='eval'/>\n",
    "[Top](#top)"
   ]
  },
  {
   "cell_type": "markdown",
   "metadata": {},
   "source": [
    "### Time-split Validation"
   ]
  },
  {
   "cell_type": "code",
   "execution_count": 8,
   "metadata": {
    "collapsed": false
   },
   "outputs": [
    {
     "name": "stdout",
     "output_type": "stream",
     "text": [
      "Training time: 3.1616687774658203 seconds.\n",
      "--------------------------------------------TRAIN RESULTS--------------------------------------------\n",
      "Confusion Matrix:\n",
      "[[15274  4858]\n",
      " [ 5437 12461]]\n",
      "Classification Report:\n",
      "              precision    recall  f1-score   support\n",
      "\n",
      "           0       0.74      0.76      0.75     20132\n",
      "           1       0.72      0.70      0.71     17898\n",
      "\n",
      "   micro avg       0.73      0.73      0.73     38030\n",
      "   macro avg       0.73      0.73      0.73     38030\n",
      "weighted avg       0.73      0.73      0.73     38030\n",
      "\n",
      "----------------------------------------------------------------------------------------------------\n",
      "--------------------------------------------TEST RESULTS--------------------------------------------\n",
      "Confusion Matrix:\n",
      "[[4998 1745]\n",
      " [2038 3997]]\n",
      "Classification Report:\n",
      "              precision    recall  f1-score   support\n",
      "\n",
      "           0       0.71      0.74      0.73      6743\n",
      "           1       0.70      0.66      0.68      6035\n",
      "\n",
      "   micro avg       0.70      0.70      0.70     12778\n",
      "   macro avg       0.70      0.70      0.70     12778\n",
      "weighted avg       0.70      0.70      0.70     12778\n",
      "\n",
      "----------------------------------------------------------------------------------------------------\n",
      "\n",
      "___________________________________________________\n",
      "| MAIN METRIC (test f1-score): 0.6787806741954656 |\n",
      "---------------------------------------------------\n"
     ]
    }
   ],
   "source": [
    "trained_model, y_train_pred, y_val_pred = evos.time_split_validation(model, \n",
    "                                                                     basic_dataset_path=STATIC_DATASET_PATH)"
   ]
  },
  {
   "cell_type": "markdown",
   "metadata": {},
   "source": [
    "### Customer-split validation"
   ]
  },
  {
   "cell_type": "code",
   "execution_count": 9,
   "metadata": {
    "collapsed": false
   },
   "outputs": [
    {
     "name": "stdout",
     "output_type": "stream",
     "text": [
      "Training time: 3.002422332763672 seconds.\n",
      "--------------------------------------------TRAIN RESULTS--------------------------------------------\n",
      "Confusion Matrix:\n",
      "[[14224  4617]\n",
      " [ 5114 11623]]\n",
      "Classification Report:\n",
      "              precision    recall  f1-score   support\n",
      "\n",
      "           0       0.74      0.75      0.75     18841\n",
      "           1       0.72      0.69      0.70     16737\n",
      "\n",
      "   micro avg       0.73      0.73      0.73     35578\n",
      "   macro avg       0.73      0.72      0.73     35578\n",
      "weighted avg       0.73      0.73      0.73     35578\n",
      "\n",
      "----------------------------------------------------------------------------------------------------\n",
      "--------------------------------------------TEST RESULTS--------------------------------------------\n",
      "Confusion Matrix:\n",
      "[[5878 2156]\n",
      " [2274 4922]]\n",
      "Classification Report:\n",
      "              precision    recall  f1-score   support\n",
      "\n",
      "           0       0.72      0.73      0.73      8034\n",
      "           1       0.70      0.68      0.69      7196\n",
      "\n",
      "   micro avg       0.71      0.71      0.71     15230\n",
      "   macro avg       0.71      0.71      0.71     15230\n",
      "weighted avg       0.71      0.71      0.71     15230\n",
      "\n",
      "----------------------------------------------------------------------------------------------------\n",
      "\n",
      "___________________________________________________\n",
      "| MAIN METRIC (test f1-score): 0.6896455093176405 |\n",
      "---------------------------------------------------\n",
      "Training F1-score: 0.7049155471995632\n",
      "\n",
      "Validation F1-score: 0.6896455093176405\n"
     ]
    }
   ],
   "source": [
    "evos.random_1fold_cust_validation(model, basic_dataset_path=STATIC_DATASET_PATH)"
   ]
  },
  {
   "cell_type": "markdown",
   "metadata": {},
   "source": [
    "## 4. Analysis and Conclusions <a id='conclusions'/>\n",
    "[Top](#top)"
   ]
  },
  {
   "cell_type": "code",
   "execution_count": 10,
   "metadata": {
    "collapsed": false
   },
   "outputs": [
    {
     "data": {
      "image/png": "[encoded data removed]",
      "text/plain": [
       "<Figure size 432x288 with 1 Axes>"
      ]
     },
     "metadata": {
      "needs_background": "dark"
     },
     "output_type": "display_data"
    },
    {
     "data": {
      "text/plain": [
       "<Figure size 432x288 with 0 Axes>"
      ]
     },
     "metadata": {},
     "output_type": "display_data"
    },
    {
     "data": {
      "image/png": "[encoded data removed]",
      "text/plain": [
       "<Figure size 432x288 with 1 Axes>"
      ]
     },
     "metadata": {
      "needs_background": "dark"
     },
     "output_type": "display_data"
    }
   ],
   "source": [
    "vis.show_feat_importances(model, X_train)"
   ]
  },
  {
   "cell_type": "markdown",
   "metadata": {},
   "source": [
    "The cluster features are taken into account, but they are not too relevant, and don't seem to change the results too much."
   ]
  },
  {
   "cell_type": "markdown",
   "metadata": {},
   "source": [
    "## 5. Test Results (only run this once, after adjusting all the hyperparameters) <a id='test'/>\n",
    "[Top](#top)"
   ]
  },
  {
   "cell_type": "code",
   "execution_count": 11,
   "metadata": {
    "collapsed": false
   },
   "outputs": [
    {
     "name": "stdout",
     "output_type": "stream",
     "text": [
      "Training time: 4.173732757568359 seconds.\n",
      "--------------------------------------------TRAIN RESULTS--------------------------------------------\n",
      "Confusion Matrix:\n",
      "[[20189  6686]\n",
      " [ 7368 16565]]\n",
      "Classification Report:\n",
      "              precision    recall  f1-score   support\n",
      "\n",
      "           0       0.73      0.75      0.74     26875\n",
      "           1       0.71      0.69      0.70     23933\n",
      "\n",
      "   micro avg       0.72      0.72      0.72     50808\n",
      "   macro avg       0.72      0.72      0.72     50808\n",
      "weighted avg       0.72      0.72      0.72     50808\n",
      "\n",
      "----------------------------------------------------------------------------------------------------\n",
      "--------------------------------------------TEST RESULTS--------------------------------------------\n",
      "Confusion Matrix:\n",
      "[[10193  3795]\n",
      " [ 3594  7887]]\n",
      "Classification Report:\n",
      "              precision    recall  f1-score   support\n",
      "\n",
      "           0       0.74      0.73      0.73     13988\n",
      "           1       0.68      0.69      0.68     11481\n",
      "\n",
      "   micro avg       0.71      0.71      0.71     25469\n",
      "   macro avg       0.71      0.71      0.71     25469\n",
      "weighted avg       0.71      0.71      0.71     25469\n",
      "\n",
      "----------------------------------------------------------------------------------------------------\n",
      "\n",
      "___________________________________________________\n",
      "| MAIN METRIC (test f1-score): 0.6809998704830981 |\n",
      "---------------------------------------------------\n",
      "Training F1-score: 0.7021447948457105\n",
      "\n",
      "Test F1-score: 0.6809998704830981\n"
     ]
    }
   ],
   "source": [
    "evos.offer_success_test(model, basic_dataset_path=STATIC_DATASET_PATH)"
   ]
  },
  {
   "cell_type": "code",
   "execution_count": null,
   "metadata": {
    "collapsed": true
   },
   "outputs": [],
   "source": []
  }
 ],
 "metadata": {
  "kernelspec": {
   "display_name": "sbucks",
   "language": "python",
   "name": "sbucks"
  },
  "language_info": {
   "codemirror_mode": {
    "name": "ipython",
    "version": 3
   },
   "file_extension": ".py",
   "mimetype": "text/x-python",
   "name": "python",
   "nbconvert_exporter": "python",
   "pygments_lexer": "ipython3",
   "version": "3.7.1"
  }
 },
 "nbformat": 4,
 "nbformat_minor": 2
}
